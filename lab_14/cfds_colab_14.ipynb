{
  "nbformat": 4,
  "nbformat_minor": 0,
  "metadata": {
    "kernelspec": {
      "display_name": "Python 3",
      "language": "python",
      "name": "python3"
    },
    "language_info": {
      "codemirror_mode": {
        "name": "ipython",
        "version": 3
      },
      "file_extension": ".py",
      "mimetype": "text/x-python",
      "name": "python",
      "nbconvert_exporter": "python",
      "pygments_lexer": "ipython3",
      "version": "3.8.5"
    },
    "toc": {
      "base_numbering": 1,
      "nav_menu": {},
      "number_sections": false,
      "sideBar": true,
      "skip_h1_title": false,
      "title_cell": "Table of Contents",
      "title_sidebar": "Contents",
      "toc_cell": false,
      "toc_position": {
        "height": "calc(100% - 180px)",
        "left": "10px",
        "top": "150px",
        "width": "324.67498779296875px"
      },
      "toc_section_display": true,
      "toc_window_display": true
    },
    "colab": {
      "name": "cfds_colab_14.ipynb",
      "provenance": []
    }
  },
  "cells": [
    {
      "cell_type": "markdown",
      "metadata": {
        "id": "igRzVCIDmeLQ"
      },
      "source": [
        "<img align=\"right\" style=\"max-width: 200px; height: auto\" src=\"https://github.com/aarimond/CFDS-Notebooks/blob/master/lab_14/cfds_logo.png?raw=1\">\n",
        "\n",
        "###  Lab 14 - \"Long Short-Term Memory (LSTM) Neural Networks\"\n",
        "\n",
        "Chartered Financial Data Scientist (CFDS), Autumn Term 2020"
      ]
    },
    {
      "cell_type": "markdown",
      "metadata": {
        "id": "bq30Ay5FmeLS"
      },
      "source": [
        "In this lab, we will learn how to apply another type of deep learning technique referred to as **Long Short-Term Memory (LSTM)** neural networks. Unlike standard feedforward neural networks, LSTMs encompass feedback connections that make it a \"general-purpose computer\". LSTMs are designed to process not only a single data point (such as images), but also entire sequences of data, e.g., such as speech, video, or financial time series.\n",
        "\n",
        "\n",
        "We will again use the functionality of the `PyTorch` library to implement and train an LSTM based neural network. The network will be trained on the historic daily (in-sample) returns of an exemplary financial stock. Once the network is trained, we will use the learned model to predict future (out-of-sample) returns. Finally, we will convert the predictions into tradable signals and the backtest the signals accordingly. \n",
        "\n",
        "The figure below illustrates a high-level view on the machine learning process we aim to establish in this lab."
      ]
    },
    {
      "cell_type": "markdown",
      "metadata": {
        "id": "BW2f4krvmeLS"
      },
      "source": [
        "<img align=\"center\" style=\"max-width: 700px\" src=\"https://github.com/aarimond/CFDS-Notebooks/blob/master/lab_14/process.png?raw=1\">"
      ]
    },
    {
      "cell_type": "markdown",
      "metadata": {
        "id": "TXZq5sAzmeLT"
      },
      "source": [
        "As always, pls. don't hesitate to ask all your questions either during the lab, post them in our NextThought lab discussion forum (https://financial-data-science.nextthought.io), or send us an email (using our fds.ai email addresses)."
      ]
    },
    {
      "cell_type": "markdown",
      "metadata": {
        "id": "9TwstVsJmeLT"
      },
      "source": [
        "### Lab Objectives:"
      ]
    },
    {
      "cell_type": "markdown",
      "metadata": {
        "id": "eReTuLVQmeLT"
      },
      "source": [
        "After today's lab, you should be able to:\n",
        "\n",
        "> 1. Understand the basic concepts, intuitions and major building blocks of **Long Short-Term Memory (LSTM) Neural Networks**.\n",
        "> 2. Know how to **implement and to train an LSTM** to learn a model of financial time-series data.\n",
        "> 3. Understand how to apply such a learned model to **predict future data points of a time-series**.\n",
        "> 4. Know how to **interpret the model's prediction results** and backtest the predictions. "
      ]
    },
    {
      "cell_type": "markdown",
      "metadata": {
        "id": "pi_WQ1FHmeLU"
      },
      "source": [
        "Before we start let's watch a motivational video:"
      ]
    },
    {
      "cell_type": "code",
      "metadata": {
        "id": "0-vtnn1TmeLU"
      },
      "source": [
        "from IPython.display import YouTubeVideo\n",
        "# Nvidia GTC 2016: \"The Deep Learning Revolution\" Opening in Keynote\"\n",
        "# YouTubeVideo('Dy0hJWltsyE', width=800, height=400)"
      ],
      "execution_count": null,
      "outputs": []
    },
    {
      "cell_type": "markdown",
      "metadata": {
        "id": "jEWhfMOFmeLV"
      },
      "source": [
        "### Setup of the Jupyter Notebook Environment"
      ]
    },
    {
      "cell_type": "markdown",
      "metadata": {
        "id": "Xaam9cE0meLV"
      },
      "source": [
        "Suppress potential warnings:"
      ]
    },
    {
      "cell_type": "code",
      "metadata": {
        "id": "ZFQFSoe0meLV"
      },
      "source": [
        "import warnings\n",
        "warnings.filterwarnings('ignore')"
      ],
      "execution_count": null,
      "outputs": []
    },
    {
      "cell_type": "markdown",
      "metadata": {
        "id": "a4CqtGLhmeLV"
      },
      "source": [
        "Similar to the previous labs, we need to import a couple of Python libraries that allow for data analysis and data visualization. We will mostly use the `PyTorch`, `Numpy`, `Sklearn`, `Matplotlib`, `Seaborn`, `BT` and a few utility libraries throughout the lab:"
      ]
    },
    {
      "cell_type": "code",
      "metadata": {
        "id": "5bH-eZ_OmeLW"
      },
      "source": [
        "# import python data science and utility libraries\n",
        "import os, sys, itertools, urllib, io\n",
        "import datetime as dt\n",
        "import pandas as pd\n",
        "import pandas_datareader as dr\n",
        "import numpy as np"
      ],
      "execution_count": null,
      "outputs": []
    },
    {
      "cell_type": "markdown",
      "metadata": {
        "id": "9uQjrYWGmeLW"
      },
      "source": [
        "Install the Python `BT` backtesting library:"
      ]
    },
    {
      "cell_type": "code",
      "metadata": {
        "id": "9hJ58BR4meLW"
      },
      "source": [
        "!pip install bt"
      ],
      "execution_count": null,
      "outputs": []
    },
    {
      "cell_type": "markdown",
      "metadata": {
        "id": "Gtbwb1r9meLW"
      },
      "source": [
        "Upon successful installation let's import the Python `BT` backtesting library:"
      ]
    },
    {
      "cell_type": "code",
      "metadata": {
        "id": "Q4L3Q5JVmeLW"
      },
      "source": [
        "import bt as bt # library to backtest trading signals"
      ],
      "execution_count": null,
      "outputs": []
    },
    {
      "cell_type": "markdown",
      "metadata": {
        "id": "yvAMOGxtmtJ9"
      },
      "source": [
        "Install the Python `yfinance` library:"
      ]
    },
    {
      "cell_type": "code",
      "metadata": {
        "id": "yltr-A3bmzfb"
      },
      "source": [
        "!pip install yfinance"
      ],
      "execution_count": null,
      "outputs": []
    },
    {
      "cell_type": "markdown",
      "metadata": {
        "id": "Cc0omeFTm4Po"
      },
      "source": [
        "Import the `yfinance` library and make it available to `pandas_datareader` so that we can load fetch data later."
      ]
    },
    {
      "cell_type": "code",
      "metadata": {
        "id": "Vsliv8VYm8Bk"
      },
      "source": [
        "import yfinance as yf\n",
        "yf.pdr_override()"
      ],
      "execution_count": null,
      "outputs": []
    },
    {
      "cell_type": "markdown",
      "metadata": {
        "id": "oGaJYD1pmeLW"
      },
      "source": [
        "Import the Python machine / deep learning libraries:"
      ]
    },
    {
      "cell_type": "code",
      "metadata": {
        "id": "tK2nXPPmmeLX"
      },
      "source": [
        "# pytorch libraries\n",
        "import torch\n",
        "import torch.nn as nn\n",
        "import torch.optim as optim\n",
        "from torch.utils import data\n",
        "from torch.utils.data import dataloader"
      ],
      "execution_count": null,
      "outputs": []
    },
    {
      "cell_type": "markdown",
      "metadata": {
        "id": "qIxWjudjmeLX"
      },
      "source": [
        "Import Python plotting libraries and set general plotting parameters:"
      ]
    },
    {
      "cell_type": "code",
      "metadata": {
        "id": "xLMFPYqameLX"
      },
      "source": [
        "import matplotlib.pyplot as plt\n",
        "import seaborn as sns\n",
        "plt.style.use('seaborn')\n",
        "plt.rcParams['figure.figsize'] = [10, 5]\n",
        "plt.rcParams['figure.dpi']= 150"
      ],
      "execution_count": null,
      "outputs": []
    },
    {
      "cell_type": "markdown",
      "metadata": {
        "id": "eqaXNkRKmeLX"
      },
      "source": [
        "Enable notebook matplotlib inline plotting:"
      ]
    },
    {
      "cell_type": "code",
      "metadata": {
        "id": "3rmWA-0GmeLX"
      },
      "source": [
        "%matplotlib inline"
      ],
      "execution_count": null,
      "outputs": []
    },
    {
      "cell_type": "markdown",
      "metadata": {
        "id": "X-2FtMGMmeLX"
      },
      "source": [
        "Import Google's `GDrive` connector and mount your `GDrive` directories:"
      ]
    },
    {
      "cell_type": "code",
      "metadata": {
        "id": "BIoIitjKmeLY"
      },
      "source": [
        "# import the Google Colab GDrive connector\n",
        "from google.colab import drive\n",
        "\n",
        "# mount GDrive inside the Colab notebook\n",
        "drive.mount('/content/drive')"
      ],
      "execution_count": null,
      "outputs": []
    },
    {
      "cell_type": "markdown",
      "metadata": {
        "id": "WfTeBYS8meLY"
      },
      "source": [
        "Create a structure of `Colab` Notebook sub-directories inside of `GDrive` to store (1) the data as well as (2) the trained neural network models:"
      ]
    },
    {
      "cell_type": "code",
      "metadata": {
        "id": "NLajjug6meLY"
      },
      "source": [
        "# create Colab Notebooks directory\n",
        "notebook_directory = '/content/drive/MyDrive/Colab Notebooks'\n",
        "if not os.path.exists(notebook_directory): os.makedirs(notebook_directory)\n",
        "\n",
        " # create data sub-directory inside the Colab Notebooks directory\n",
        "data_directory = '/content/drive/MyDrive/Colab Notebooks/data'\n",
        "if not os.path.exists(data_directory): os.makedirs(data_directory)\n",
        "\n",
        " # create models sub-directory inside the Colab Notebooks directory\n",
        "models_directory = '/content/drive/MyDrive/Colab Notebooks/models'\n",
        "if not os.path.exists(models_directory): os.makedirs(models_directory)"
      ],
      "execution_count": null,
      "outputs": []
    },
    {
      "cell_type": "markdown",
      "metadata": {
        "id": "-rNxzfeameLY"
      },
      "source": [
        "Set random seed value to obtain reproducable results:"
      ]
    },
    {
      "cell_type": "code",
      "metadata": {
        "id": "dIpLidAFmeLZ"
      },
      "source": [
        "# init deterministic seed\n",
        "seed_value = 1234\n",
        "np.random.seed(seed_value) # set numpy seed\n",
        "torch.manual_seed(seed_value); # set pytorch seed CPU"
      ],
      "execution_count": null,
      "outputs": []
    },
    {
      "cell_type": "markdown",
      "metadata": {
        "id": "E3NX2RYTmeLZ"
      },
      "source": [
        "Enable GPU computing by setting the `device` flag and init a `CUDA` seed:"
      ]
    },
    {
      "cell_type": "code",
      "metadata": {
        "id": "6hW4XsUhmeLZ"
      },
      "source": [
        "# set cpu or gpu enabled device\n",
        "device = torch.device('cuda' if torch.cuda.is_available() else 'cpu').type\n",
        "\n",
        "# init deterministic GPU seed\n",
        "torch.cuda.manual_seed(seed_value)\n",
        "\n",
        "# log type of device enabled\n",
        "now = dt.datetime.utcnow().strftime(\"%Y%m%d-%H:%M:%S\")\n",
        "print('[LOG {}] notebook with \\'{}\\' computation enabled'.format(str(now), str(device)))"
      ],
      "execution_count": null,
      "outputs": []
    },
    {
      "cell_type": "markdown",
      "metadata": {
        "id": "Zrh-Q2YXmeLZ"
      },
      "source": [
        "Also, let's display information about the potential `GPUs` running on the server:"
      ]
    },
    {
      "cell_type": "code",
      "metadata": {
        "id": "Yd-ZkWxFmeLZ"
      },
      "source": [
        "!nvidia-smi"
      ],
      "execution_count": null,
      "outputs": []
    },
    {
      "cell_type": "markdown",
      "metadata": {
        "id": "R4Ov1jEimeLZ"
      },
      "source": [
        "Let's execute the cell below to display information about the `Python` and `PyTorch` version running on this notebook or compute server:"
      ]
    },
    {
      "cell_type": "code",
      "metadata": {
        "id": "XvovKQTvmeLa"
      },
      "source": [
        "# print current Python version\n",
        "now = dt.datetime.utcnow().strftime(\"%Y.%m.%d-%H:%M:%S\")\n",
        "print('[LOG {}] The Python version: {}'.format(now, sys.version))"
      ],
      "execution_count": null,
      "outputs": []
    },
    {
      "cell_type": "code",
      "metadata": {
        "id": "toNSYoKymeLa"
      },
      "source": [
        "# print current PyTorch version\n",
        "now = dt.datetime.utcnow().strftime(\"%Y.%m.%d-%H:%M:%S\")\n",
        "print('[LOG {}] The PyTorch version: {}'.format(now, torch.__version__))"
      ],
      "execution_count": null,
      "outputs": []
    },
    {
      "cell_type": "markdown",
      "metadata": {
        "id": "vWBVPTOHmeLa"
      },
      "source": [
        "### 1. Dataset Download and Data Assessment"
      ]
    },
    {
      "cell_type": "markdown",
      "metadata": {
        "id": "DGv1W6sJmeLa"
      },
      "source": [
        "In this section of the lab notebook we will download and access historic daily stock market data ranging from **01/01/2000** to **31/12/2017** of the **\"International Business Machines\" (IBM)** corporation (ticker symbol: \"IBM\"). Thereby, we will utilize the `datareader` of the `Pandas` library that provides the ability to interface the `Yahoo` finance API.\n",
        "\n",
        "To start the data download, let's specify the start and end date of the stock market data download:"
      ]
    },
    {
      "cell_type": "code",
      "metadata": {
        "id": "ENIemk-mmeLa"
      },
      "source": [
        "start_date = dt.datetime(2000, 1, 1)\n",
        "end_date = dt.datetime(2017, 12, 31)"
      ],
      "execution_count": null,
      "outputs": []
    },
    {
      "cell_type": "markdown",
      "metadata": {
        "id": "NMwLIjglmeLa"
      },
      "source": [
        "Download the daily \"International Business Machines\" (IBM) stock market data:"
      ]
    },
    {
      "cell_type": "code",
      "metadata": {
        "id": "2vAFvM-imeLa"
      },
      "source": [
        "stock_data = dr.data.DataReader('IBM', data_source='yahoo', start=start_date, end=end_date)"
      ],
      "execution_count": null,
      "outputs": []
    },
    {
      "cell_type": "markdown",
      "metadata": {
        "id": "WgYvBTJLmeLb"
      },
      "source": [
        "Inspect the top 10 records of the retreived IBM stock market data:"
      ]
    },
    {
      "cell_type": "code",
      "metadata": {
        "id": "VYn-b6Q6meLb"
      },
      "source": [
        "stock_data.head(10)"
      ],
      "execution_count": null,
      "outputs": []
    },
    {
      "cell_type": "markdown",
      "metadata": {
        "id": "vff5AdYSmeLb"
      },
      "source": [
        "Let's also evaluate the data quality of the download by creating a set of summary statistics of the retrieved data:"
      ]
    },
    {
      "cell_type": "code",
      "metadata": {
        "id": "uc0QDtmWmeLb"
      },
      "source": [
        "stock_data.describe()"
      ],
      "execution_count": null,
      "outputs": []
    },
    {
      "cell_type": "markdown",
      "metadata": {
        "id": "irx2gul5meLb"
      },
      "source": [
        "Visually inspect the daily closing prices of the \"International Business Machines\" (IBM) stock market data:"
      ]
    },
    {
      "cell_type": "code",
      "metadata": {
        "id": "SW6AeVU9meLb"
      },
      "source": [
        "plt.rcParams['figure.figsize'] = [15, 5]\n",
        "fig = plt.figure()\n",
        "ax = fig.add_subplot(111)\n",
        "\n",
        "# plot daily closing prices\n",
        "ax.plot(stock_data.index, stock_data['Close'], color='#9b59b6')\n",
        "\n",
        "# rotate x-tick labels\n",
        "for tick in ax.get_xticklabels():\n",
        "    tick.set_rotation(45)\n",
        "\n",
        "# set x-axis labels and limits\n",
        "ax.set_xlabel('[time]', fontsize=10)\n",
        "ax.set_xlim([pd.to_datetime('01-01-2000'), pd.to_datetime('31-12-2017')])\n",
        "\n",
        "# set y-axis labels and limits\n",
        "ax.set_ylabel('[stock closing price]', fontsize=10)\n",
        "ax.set_ylim(20, 220)\n",
        "\n",
        "# set plot title\n",
        "plt.title('International Business Machines (IBM) - Daily Historical Stock Closing Prices', fontsize=10);"
      ],
      "execution_count": null,
      "outputs": []
    },
    {
      "cell_type": "markdown",
      "metadata": {
        "id": "By_2lQ-ZmeLb"
      },
      "source": [
        "Save the obtained and validated stock market data to the local data directory:"
      ]
    },
    {
      "cell_type": "code",
      "metadata": {
        "id": "gAZakYHameLc"
      },
      "source": [
        "# save retrieved data to local data directory\n",
        "stock_data.to_csv(os.path.join(data_directory,'ibm_data_2010_2017_daily.csv'), sep=';', encoding='utf-8')"
      ],
      "execution_count": null,
      "outputs": []
    },
    {
      "cell_type": "markdown",
      "metadata": {
        "id": "RKwCFZ5vmeLc"
      },
      "source": [
        "### 2. Data Pre-Processing"
      ]
    },
    {
      "cell_type": "markdown",
      "metadata": {
        "id": "qJwS0Ym1meLc"
      },
      "source": [
        "In this section, we will obtain daily returns of the retrieved daily closing prices. Also, we will convert the time-series of daily returns into a set of sequences $s$ of $n$ time steps respectively. The created sequences will then be used to learn a model using an Long Short-Term Memory neural network."
      ]
    },
    {
      "cell_type": "markdown",
      "metadata": {
        "id": "-nJy6bxsmeLc"
      },
      "source": [
        "#### 2.1 Weekend and Holiday Padding"
      ]
    },
    {
      "cell_type": "markdown",
      "metadata": {
        "id": "wJdNMi1xmeLc"
      },
      "source": [
        "Let's always forward propagate the last valid available price information observation to the next available valid price information using the Panda's `reindex()` function. This in order to also obtain market price information of weekend's and holidays: "
      ]
    },
    {
      "cell_type": "code",
      "metadata": {
        "id": "Wjg3RVJQmeLc"
      },
      "source": [
        "# fill weekends and holidays\n",
        "stock_data = stock_data.reindex(index=pd.date_range(stock_data.index.min(), stock_data.index.max()), method='ffill')"
      ],
      "execution_count": null,
      "outputs": []
    },
    {
      "cell_type": "markdown",
      "metadata": {
        "id": "PwN5A9tomeLc"
      },
      "source": [
        "Inspect the padded stock market data of the \"International Business Machines\" (IBM) stock:"
      ]
    },
    {
      "cell_type": "code",
      "metadata": {
        "id": "lPxJsGKTmeLc"
      },
      "source": [
        "stock_data.head(10)"
      ],
      "execution_count": null,
      "outputs": []
    },
    {
      "cell_type": "markdown",
      "metadata": {
        "id": "6fA8nPUgmeLd"
      },
      "source": [
        "Inspect the number of records obtained after the data padding:"
      ]
    },
    {
      "cell_type": "code",
      "metadata": {
        "id": "PyuKy-SOmeLd"
      },
      "source": [
        "stock_data.shape"
      ],
      "execution_count": null,
      "outputs": []
    },
    {
      "cell_type": "markdown",
      "metadata": {
        "id": "qChsEqWVmeLd"
      },
      "source": [
        "#### 2.2 Daily Return Calculation"
      ]
    },
    {
      "cell_type": "markdown",
      "metadata": {
        "id": "iRIc9oXHmeLd"
      },
      "source": [
        "Determine the daily returns of the \"International Business Machines\" (IBM) daily closing prices using the Panda's `pct_change()` function:"
      ]
    },
    {
      "cell_type": "code",
      "metadata": {
        "id": "KHYqDII0meLd"
      },
      "source": [
        "stock_data['RETURN'] = stock_data['Close'].pct_change()"
      ],
      "execution_count": null,
      "outputs": []
    },
    {
      "cell_type": "markdown",
      "metadata": {
        "id": "jbq_8Qu8meLd"
      },
      "source": [
        "Inspect the daily returns of the closing prices:"
      ]
    },
    {
      "cell_type": "code",
      "metadata": {
        "id": "hXUanXV1meLd"
      },
      "source": [
        "stock_data['RETURN']"
      ],
      "execution_count": null,
      "outputs": []
    },
    {
      "cell_type": "markdown",
      "metadata": {
        "id": "nJT6VwlZmeLd"
      },
      "source": [
        "Remove the first row corresponding to a `nan` daily return of the stock data dataframe:"
      ]
    },
    {
      "cell_type": "code",
      "metadata": {
        "id": "lKOQ86sDmeLd"
      },
      "source": [
        "stock_data = stock_data.iloc[1:]"
      ],
      "execution_count": null,
      "outputs": []
    },
    {
      "cell_type": "markdown",
      "metadata": {
        "id": "Anj9DsQXmeLe"
      },
      "source": [
        "Visually inspect the obtained daily returns:"
      ]
    },
    {
      "cell_type": "code",
      "metadata": {
        "id": "4FYghabimeLe"
      },
      "source": [
        "plt.rcParams['figure.figsize'] = [15, 5]\n",
        "fig = plt.figure()\n",
        "ax = fig.add_subplot(111)\n",
        "\n",
        "# plot daily returns\n",
        "ax.plot(stock_data.index, stock_data['RETURN'], color='#9b59b6')\n",
        "\n",
        "# rotate x-tick labels\n",
        "for tick in ax.get_xticklabels():\n",
        "    tick.set_rotation(45)\n",
        "\n",
        "# set axis labels and limits\n",
        "ax.set_xlabel('[time]', fontsize=10)\n",
        "ax.set_xlim([pd.to_datetime('01-01-2000'), pd.to_datetime('31-12-2017')])\n",
        "ax.set_ylabel('[daily stock returns]', fontsize=10)\n",
        "\n",
        "# set plot title\n",
        "plt.title('International Business Machines (IBM) - Daily Historical Stock Closing Prices', fontsize=10);"
      ],
      "execution_count": null,
      "outputs": []
    },
    {
      "cell_type": "markdown",
      "metadata": {
        "id": "nxcypxommeLe"
      },
      "source": [
        "#### 2.3 Conduct Train-Test Split for Neural Network Training"
      ]
    },
    {
      "cell_type": "markdown",
      "metadata": {
        "id": "kQOqOP79meLe"
      },
      "source": [
        "To understand and evaluate the performance of any trained **supervised machine learning** model, it is good practice, to divide the dataset into a **training set** or **\"in-sample\"** data (the fraction of data records solely used for training purposes) and a **evaluation set** or **\"out-of-sample\"** data (the fraction of data records solely used for evaluation purposes). Pls. note, the **evaluation set** will never be shown to the model as part of the training process."
      ]
    },
    {
      "cell_type": "markdown",
      "metadata": {
        "id": "qisRpgjEmeLe"
      },
      "source": [
        "<img align=\"center\" style=\"max-width: 500px\" src=\"https://github.com/aarimond/CFDS-Notebooks/blob/master/lab_14/traintestsplit.png?raw=1\">"
      ]
    },
    {
      "cell_type": "markdown",
      "metadata": {
        "id": "dDMdiGvOmeLe"
      },
      "source": [
        "We set the split fraction of training sequences to **90%** of the total number of obtained sequences:"
      ]
    },
    {
      "cell_type": "code",
      "metadata": {
        "id": "W1cJ-6S9meLe"
      },
      "source": [
        "split_fraction = 0.9\n",
        "split_row = int(stock_data.shape[0] * split_fraction)"
      ],
      "execution_count": null,
      "outputs": []
    },
    {
      "cell_type": "markdown",
      "metadata": {
        "id": "fQhK0HWzmeLf"
      },
      "source": [
        "Split obtained returns into training (\"in-sample\") returns $r^{i}_{train}$ and validation (\"out-of-sample\") returns $r^{i}_{valid}$:"
      ]
    },
    {
      "cell_type": "code",
      "metadata": {
        "id": "AtMINAMqmeLf"
      },
      "source": [
        "train_stock_data = stock_data.iloc[:split_row]\n",
        "valid_stock_data = stock_data.iloc[split_row:]"
      ],
      "execution_count": null,
      "outputs": []
    },
    {
      "cell_type": "markdown",
      "metadata": {
        "id": "IbxenUnSmeLf"
      },
      "source": [
        "Visually inspect the obtained train and validation stock returns:"
      ]
    },
    {
      "cell_type": "code",
      "metadata": {
        "id": "PxiGGub0meLf"
      },
      "source": [
        "plt.rcParams['figure.figsize'] = [15, 5]\n",
        "fig = plt.figure()\n",
        "ax = fig.add_subplot(111)\n",
        "\n",
        "# plot daily stock returns\n",
        "ax.plot(stock_data.index[:split_row,], train_stock_data['RETURN'], c='C0', label='train')\n",
        "ax.plot(stock_data.index[split_row:,], valid_stock_data['RETURN'], c='C1', label='valid')\n",
        "\n",
        "# rotate x-tick labels\n",
        "for tick in ax.get_xticklabels():\n",
        "    tick.set_rotation(45)\n",
        "\n",
        "# set axis labels and limits\n",
        "ax.set_xlabel('[time]', fontsize=10)\n",
        "ax.set_xlim([pd.to_datetime('01-01-2000'), pd.to_datetime('31-12-2017')])\n",
        "ax.set_ylabel('[daily stock returns]', fontsize=10)\n",
        "\n",
        "# set plot legend\n",
        "plt.legend(loc=\"lower right\", numpoints=1, fancybox=True)\n",
        "\n",
        "# set plot title\n",
        "plt.title('International Business Machines (IBM) - Daily Historical Stock Returns', fontsize=10);"
      ],
      "execution_count": null,
      "outputs": []
    },
    {
      "cell_type": "markdown",
      "metadata": {
        "id": "xfdLbntumeLf"
      },
      "source": [
        "Determine count (shape) of daily return train sequences $r^{i}_{train}$:"
      ]
    },
    {
      "cell_type": "code",
      "metadata": {
        "id": "X21XvpWemeLf"
      },
      "source": [
        "train_stock_data.shape"
      ],
      "execution_count": null,
      "outputs": []
    },
    {
      "cell_type": "markdown",
      "metadata": {
        "id": "lvcRuPLameLf"
      },
      "source": [
        "Determine count (shape) of daily return train sequences $r^{i}_{valid}$:"
      ]
    },
    {
      "cell_type": "code",
      "metadata": {
        "id": "J0F4119ZmeLf"
      },
      "source": [
        "valid_stock_data.shape"
      ],
      "execution_count": null,
      "outputs": []
    },
    {
      "cell_type": "markdown",
      "metadata": {
        "id": "EoCcRTkxmeLg"
      },
      "source": [
        "#### 2.4 Transform Time-Series Into Sequences"
      ]
    },
    {
      "cell_type": "markdown",
      "metadata": {
        "id": "jjQRpCZfmeLg"
      },
      "source": [
        "In the following, we determine the number of return time-steps $n$ each individual sequence $s^{i}$ should be comprised of. Each sequence is thereby determined by the number of predictor (return) time-steps $t$ and the prediction (return) horizon $h = t+1$."
      ]
    },
    {
      "cell_type": "markdown",
      "metadata": {
        "id": "p02bAGXvmeLg"
      },
      "source": [
        "<img align=\"center\" style=\"max-width: 500px\" src=\"https://github.com/aarimond/CFDS-Notebooks/blob/master/lab_14/timesteps.png?raw=1\">"
      ]
    },
    {
      "cell_type": "markdown",
      "metadata": {
        "id": "vzh5XlsfmeLg"
      },
      "source": [
        "In this example, we will set the number of predictor (return) time-steps to $t$=4. This indicates that the input sequence of each sample is a vector of 4 sequential daily stock returns (pls. note, the choice of $t$=4 is arbitrary and should be selected through experimentation). Furthermore, we set the predicted return horizon to 1, which specifies that we aim to forecast a single future time-step."
      ]
    },
    {
      "cell_type": "code",
      "metadata": {
        "id": "zmBjZjRfmeLg"
      },
      "source": [
        "time_steps = 4 # number of predictor timesteps\n",
        "horizon = 1 # number of timesteps to be predicted\n",
        "sequence_length = time_steps + horizon # determine sequence length"
      ],
      "execution_count": null,
      "outputs": []
    },
    {
      "cell_type": "markdown",
      "metadata": {
        "id": "voCx1sMLmeLg"
      },
      "source": [
        "Next, we extract the sequences $s^i$ of 5 time-steps. \n",
        "\n",
        "Thereby, we will step-wise iterate (\"rolling window\") over the entire sequence of daily stock returns $r_i$. In each iteration step, we extract an individual sequence of stock returns consisting of $n$ time-steps. The extracted individual sequences of daily closing prices are then collected in a single data frame."
      ]
    },
    {
      "cell_type": "markdown",
      "metadata": {
        "id": "mVGHIK9RmeLg"
      },
      "source": [
        "<img align=\"center\" style=\"max-width: 900px\" src=\"https://github.com/aarimond/CFDS-Notebooks/blob/master/lab_14/sequences.png?raw=1\">"
      ]
    },
    {
      "cell_type": "markdown",
      "metadata": {
        "id": "d3t0-Ry7meLg"
      },
      "source": [
        "Next, we will determine the number of available **rolling training (\"in-sample\") target sequences**. Remember that each sequence exhibits consists of **a sequence length of 5 time-steps** as defined by the variable `sequence_length` above:"
      ]
    },
    {
      "cell_type": "code",
      "metadata": {
        "id": "f10j9jg-meLh"
      },
      "source": [
        "no_train_sequences = ((train_stock_data.shape[0] // sequence_length) - 1) * sequence_length"
      ],
      "execution_count": null,
      "outputs": []
    },
    {
      "cell_type": "markdown",
      "metadata": {
        "id": "RzhAU6gNmeLh"
      },
      "source": [
        "Let's now print the number of available rolling training sequences comprised of 5 daily return time-steps each:"
      ]
    },
    {
      "cell_type": "code",
      "metadata": {
        "id": "PJj9JPHEmeLh"
      },
      "source": [
        "no_train_sequences"
      ],
      "execution_count": null,
      "outputs": []
    },
    {
      "cell_type": "markdown",
      "metadata": {
        "id": "SIe6Y07GmeLh"
      },
      "source": [
        "Initialize a 2D tensor (a 2D array) that contains the individual sequences from which we aim from to learn as part of the training procedure. The training data corresponds to a **2D tensor of size** `no_train_sequences`$\\times$`sequence_length`. The tensor contains the daily returns of the IBM market price data: "
      ]
    },
    {
      "cell_type": "code",
      "metadata": {
        "id": "W9VGK0-DmeLh"
      },
      "source": [
        "# init the train sequence target daily returns data 2D matrix\n",
        "train_stock_sequence_data = np.zeros([no_train_sequences, sequence_length])\n",
        "\n",
        "# init the train sequence target daily dates data 2D matrix\n",
        "train_stock_sequence_data_date = np.empty([no_train_sequences, sequence_length], dtype='datetime64[s]')"
      ],
      "execution_count": null,
      "outputs": []
    },
    {
      "cell_type": "markdown",
      "metadata": {
        "id": "QHSQ5vO-meLh"
      },
      "source": [
        "Let's now fill the created 2D tensor with the rolling sequences of the IBM's daily returns: "
      ]
    },
    {
      "cell_type": "code",
      "metadata": {
        "id": "l9iRQFa1meLh"
      },
      "source": [
        "# iterate over the distinct daily returns of the training dataset\n",
        "for i in range(0, no_train_sequences):\n",
        "    \n",
        "    # determine current training sequence returns\n",
        "    return_sequence = np.array(train_stock_data['RETURN'][i:i + sequence_length].T)\n",
        "    \n",
        "    # determine current training sequence dates\n",
        "    date_sequence = np.array(train_stock_data.index[i:i + sequence_length].T)\n",
        "    \n",
        "    # fill 2D matrix of train stock target sequences with current sequence\n",
        "    train_stock_sequence_data[i, :] = return_sequence\n",
        "    \n",
        "    # fill 2D matrix of train stock target sequences with current sequence\n",
        "    train_stock_sequence_data_date[i, :] = date_sequence    "
      ],
      "execution_count": null,
      "outputs": []
    },
    {
      "cell_type": "markdown",
      "metadata": {
        "id": "CDoEL1gFmeLh"
      },
      "source": [
        "Ultimately, let's inspect the final shape of the filled 2D-array of daily return **training** sequences:"
      ]
    },
    {
      "cell_type": "code",
      "metadata": {
        "id": "7tPV3Ii3meLi"
      },
      "source": [
        "train_stock_sequence_data.shape"
      ],
      "execution_count": null,
      "outputs": []
    },
    {
      "cell_type": "markdown",
      "metadata": {
        "id": "5OmNvznJmeLi"
      },
      "source": [
        "Also, inspect the **first 10 sequences** of the initialized and filled 2D-array of daily return training sequences:train_stock_sequence_data_date[0:5,]"
      ]
    },
    {
      "cell_type": "code",
      "metadata": {
        "id": "8ocLEHzpmeLi"
      },
      "source": [
        "train_stock_sequence_data[0:10,]"
      ],
      "execution_count": null,
      "outputs": []
    },
    {
      "cell_type": "markdown",
      "metadata": {
        "id": "_h--KusTmeLi"
      },
      "source": [
        "Also, inspect the **last 10 sequences** of the initialized and filled 2D-array of daily return training sequences:"
      ]
    },
    {
      "cell_type": "code",
      "metadata": {
        "id": "kd87cA7hmeLi"
      },
      "source": [
        "train_stock_sequence_data[-10:-1,]"
      ],
      "execution_count": null,
      "outputs": []
    },
    {
      "cell_type": "markdown",
      "metadata": {
        "id": "JyuiwMFKmeLi"
      },
      "source": [
        "Next, we will determine the number of available **rolling validation (\"out-of-sample\") target sequences**. Remember again that each sequence exhibits consists of a a total number of 5 time-steps as defined by the variable `sequence_length` above:"
      ]
    },
    {
      "cell_type": "code",
      "metadata": {
        "id": "POm246lqmeLi"
      },
      "source": [
        "no_valid_sequences = ((valid_stock_data.shape[0] // sequence_length) - 1) * sequence_length"
      ],
      "execution_count": null,
      "outputs": []
    },
    {
      "cell_type": "markdown",
      "metadata": {
        "id": "8IyGvRROmeLj"
      },
      "source": [
        "Let's now print the number of available rolling validation sequences comprised of 5 daily return time-steps each:"
      ]
    },
    {
      "cell_type": "code",
      "metadata": {
        "id": "50ggg4U-meLj"
      },
      "source": [
        "no_valid_sequences"
      ],
      "execution_count": null,
      "outputs": []
    },
    {
      "cell_type": "markdown",
      "metadata": {
        "id": "42nMe_0JmeLj"
      },
      "source": [
        "Initialize a 2D tensor that contains the individual sequences which we use to validate the trained models as part of the validation procedure. The training data corresponds to a **2D tensor of size** `no_valid_sequences`$\\times$`sequence_length`. The tensor contains the daily returns of the IBM market price data: "
      ]
    },
    {
      "cell_type": "code",
      "metadata": {
        "id": "hJYLda6QmeLj"
      },
      "source": [
        "# init the valid sequence target daily returns data 2D matrix\n",
        "valid_stock_sequence_data = np.zeros([no_valid_sequences, sequence_length])\n",
        "\n",
        "# init the valid sequence target daily dates data 2D matrix\n",
        "valid_stock_sequence_data_date = np.empty([no_valid_sequences, sequence_length], dtype='datetime64[s]')"
      ],
      "execution_count": null,
      "outputs": []
    },
    {
      "cell_type": "markdown",
      "metadata": {
        "id": "SkPqmUmUmeLj"
      },
      "source": [
        "Extract individual validation sequences of length $5$ from the obtained daily returns:"
      ]
    },
    {
      "cell_type": "code",
      "metadata": {
        "id": "V3hi4WAmmeLj"
      },
      "source": [
        "# iterate over the distinct daily returns of the validation dataset\n",
        "for i in range(0, no_valid_sequences):\n",
        "    \n",
        "    # determine current validation sequence returns\n",
        "    return_sequence = np.array(valid_stock_data['RETURN'][i:i + sequence_length].T)\n",
        "    \n",
        "    # determine current validation sequence dates\n",
        "    date_sequence = np.array(valid_stock_data.index[i:i + sequence_length].T)\n",
        "\n",
        "    # fill 2D matrix of valid stock target sequences with current sequence\n",
        "    valid_stock_sequence_data[i, :] = return_sequence\n",
        "    \n",
        "    # fill 2D matrix of valid stock target sequences with current sequence\n",
        "    valid_stock_sequence_data_date[i, :] = date_sequence"
      ],
      "execution_count": null,
      "outputs": []
    },
    {
      "cell_type": "markdown",
      "metadata": {
        "id": "zdtEpBwameLk"
      },
      "source": [
        "Ultimately, let's inspect the final shape of the filled 2D-array of daily return **validation** sequences:"
      ]
    },
    {
      "cell_type": "code",
      "metadata": {
        "id": "ANafERptmeLk"
      },
      "source": [
        "valid_stock_sequence_data.shape"
      ],
      "execution_count": null,
      "outputs": []
    },
    {
      "cell_type": "markdown",
      "metadata": {
        "id": "hXHk8mpomeLk"
      },
      "source": [
        "Also, inspect the **first 10 sequences** of the initialized and filled 2D-array of daily return validation sequences:"
      ]
    },
    {
      "cell_type": "code",
      "metadata": {
        "id": "sopBXrkEmeLk"
      },
      "source": [
        "valid_stock_sequence_data[0:10,]"
      ],
      "execution_count": null,
      "outputs": []
    },
    {
      "cell_type": "markdown",
      "metadata": {
        "id": "Pgs2R6mKmeLk"
      },
      "source": [
        "Also, inspect the **last 10 sequences** of the initialized and filled 2D-array of daily return validation sequences:"
      ]
    },
    {
      "cell_type": "code",
      "metadata": {
        "id": "U6WOFf07meLk"
      },
      "source": [
        "valid_stock_sequence_data[-10:-1,]"
      ],
      "execution_count": null,
      "outputs": []
    },
    {
      "cell_type": "markdown",
      "metadata": {
        "id": "m9cu9j5SmeLk"
      },
      "source": [
        "#### 2.4 Conduct Input-Target Split for Neural Network Training"
      ]
    },
    {
      "cell_type": "markdown",
      "metadata": {
        "id": "5BIj06fxmeLk"
      },
      "source": [
        "Before we continue the data pre-processing, let's briefly revisit how RNN's or, more specifically, LSTM based NN's can be trained to predict the next element of an input sequence. The cartoon below is derived from the \"Next Word Predictor\" Example that we also discussed in the course. For each **input return** $r_{i}$ of the input return training sequence $s^i$ the LSTM is supposed to learn to **predict the return** of the next time-step $\\hat{r}_{i+1}$. In order to make such a future return $\\hat{r}_{i+1}$ prediction the LSTM uses it's learned hidden state information $h_{i}$ as well as the current return $r_{i}$ as an input. \n",
        "\n",
        "For each time-step the predicted return $\\hat{r}_{i+1}$ is then compared to the **target return** $r_{i+1}$. The discrepancy between both is collected as a loss $\\mathcal{L}$ for the distinct timesteps. The accumulation of the individual time-step losses is accumulated as the total loss of a sequence $\\mathcal{L}_{All}$."
      ]
    },
    {
      "cell_type": "markdown",
      "metadata": {
        "id": "ggDsTFwKmeLl"
      },
      "source": [
        "<img align=\"center\" style=\"max-width: 600px\" src=\"https://github.com/aarimond/CFDS-Notebooks/blob/master/lab_14/training.png?raw=1\">"
      ]
    },
    {
      "cell_type": "markdown",
      "metadata": {
        "id": "riHiywblmeLl"
      },
      "source": [
        "Seperate each training sequence $s^{i}$ into time-steps of input returns denoted by $s^{i}_{train, input}=\\{r_{t-n-1}, ..., r_{t-1}, r_{t}\\}$ and the time-step of the to be predicted target return denoted by $s^{i}_{train, target}=r_{t+1}$."
      ]
    },
    {
      "cell_type": "markdown",
      "metadata": {
        "id": "9rjUnJxLmeLl"
      },
      "source": [
        "<img align=\"center\" style=\"max-width: 700px\" src=\"https://github.com/aarimond/CFDS-Notebooks/blob/master/lab_14/sequencesplit.png?raw=1\">"
      ]
    },
    {
      "cell_type": "markdown",
      "metadata": {
        "id": "Y9NudGZFmeLl"
      },
      "source": [
        "In addition, we convert both the input returns as well as the target returns to PyTorch tensors:"
      ]
    },
    {
      "cell_type": "code",
      "metadata": {
        "id": "8218w9LBmeLl"
      },
      "source": [
        "train_sequences_input = torch.from_numpy(train_stock_sequence_data[:, :-1]).float()\n",
        "train_sequences_target = torch.from_numpy(train_stock_sequence_data[:, 1:]).float()"
      ],
      "execution_count": null,
      "outputs": []
    },
    {
      "cell_type": "markdown",
      "metadata": {
        "id": "LY9hFSkYmeLl"
      },
      "source": [
        "Seperate each validation sequence $s^{i}$ into time-steps of input returns denoted by $s^{i}_{valid, input}=\\{r_{t-n-1}, ..., r_{t-1}, r_{t}\\}$ and the time-step of the to be predicted target return denoted by $s^{i}_{valid, target}=r_{t+1}$. In addition, we convert both the input returns as well as the target returns to PyTorch tensors:"
      ]
    },
    {
      "cell_type": "code",
      "metadata": {
        "id": "d7UfYSEjmeLl"
      },
      "source": [
        "valid_sequences_input = torch.from_numpy(valid_stock_sequence_data[:, :-1]).float()\n",
        "valid_sequences_target = torch.from_numpy(valid_stock_sequence_data[:, 1:]).float()"
      ],
      "execution_count": null,
      "outputs": []
    },
    {
      "cell_type": "markdown",
      "metadata": {
        "id": "luvUJM7hmeLl"
      },
      "source": [
        "To train an LSTM neural network, we tailor the dataset class provided by the PyTorch library. We overwrite the individual functions of the dataset class. So that our dataset will supply the neural network with the individual training sequences $s^{i}_{train, input}$ and corresponding targets $s^{i}_{train, target}$ throughout the training process:"
      ]
    },
    {
      "cell_type": "code",
      "metadata": {
        "id": "_w-fx2-umeLl"
      },
      "source": [
        "# define daily returns dataset\n",
        "class DailyReturnsDataset(data.Dataset):\n",
        "\n",
        "    # define the class constructor\n",
        "    def __init__(self, sequences, targets):\n",
        "\n",
        "        # init sequences and corresponding targets\n",
        "        self.sequences = sequences\n",
        "        self.targets = targets\n",
        "\n",
        "    # define the length method \n",
        "    def __len__(self):\n",
        "\n",
        "        # returns the number of samples\n",
        "        return len(self.targets)\n",
        "\n",
        "    # define the get item method\n",
        "    def __getitem__(self, index):\n",
        "\n",
        "        # determine single sequence and corresponding target\n",
        "        sequence = self.sequences[index, :]\n",
        "        target = self.targets[index, :]\n",
        "\n",
        "        # return sequences and target\n",
        "        return sequence, target"
      ],
      "execution_count": null,
      "outputs": []
    },
    {
      "cell_type": "markdown",
      "metadata": {
        "id": "pE8-ZPIfmeLm"
      },
      "source": [
        "Once we have specified the daily returns dataset class we instantiate it using the new daily closing dataset using the prepared training input sequences $s^{i}_{train, input}$ and corresponding targets $s^{i}_{train, target}$: "
      ]
    },
    {
      "cell_type": "code",
      "metadata": {
        "id": "U6YxZSRameLm"
      },
      "source": [
        "train_dataset = DailyReturnsDataset(train_sequences_input, train_sequences_target)"
      ],
      "execution_count": null,
      "outputs": []
    },
    {
      "cell_type": "markdown",
      "metadata": {
        "id": "-MOC56OCmeLm"
      },
      "source": [
        "Let's see how it works by getting the 42th sequence and its corresponding targets:"
      ]
    },
    {
      "cell_type": "code",
      "metadata": {
        "id": "gJga6NADmeLm"
      },
      "source": [
        "train_dataset.__getitem__(42)"
      ],
      "execution_count": null,
      "outputs": []
    },
    {
      "cell_type": "markdown",
      "metadata": {
        "id": "nMAEU_8QmeLm"
      },
      "source": [
        "### 3. Neural Network Implementation and Loss Function"
      ]
    },
    {
      "cell_type": "markdown",
      "metadata": {
        "id": "EiO0fQxYmeLm"
      },
      "source": [
        "In this section, we will implement the LSTM architecture of the to be learned time series model. Furthermore, we will specify the loss-function, learning-rate and optimization technique used in the network training."
      ]
    },
    {
      "cell_type": "markdown",
      "metadata": {
        "id": "1U1BnCT3meLm"
      },
      "source": [
        "#### 3.1. Implementation of the LSTM Architecture"
      ]
    },
    {
      "cell_type": "markdown",
      "metadata": {
        "id": "qHfFPqA2meLm"
      },
      "source": [
        "In this section, we will implement the architecture of the LSTM neural network utilized to predict future returns of financial time series data, e.g. as in this example, the future returns of a given stock. The neural network, which we name **'LSTMNet'** consists in total of three layers. The first two layers correspond to LSTM cells, while the third layer corresponds to a fully-connected linear layer."
      ]
    },
    {
      "cell_type": "markdown",
      "metadata": {
        "id": "plQyR4iYmeLm"
      },
      "source": [
        "<img align=\"center\" style=\"max-width: 400px\" src=\"https://github.com/aarimond/CFDS-Notebooks/blob/master/lab_14/lstmnet.png?raw=1\">"
      ]
    },
    {
      "cell_type": "markdown",
      "metadata": {
        "id": "A6jhZzl_meLn"
      },
      "source": [
        "The general LSTM cell structure as well as the formal definition of its individual gate functions are shown in the following (not considering the bias of each layer for simplicity):"
      ]
    },
    {
      "cell_type": "markdown",
      "metadata": {
        "id": "F1eNK2ddmeLn"
      },
      "source": [
        "<img align=\"center\" style=\"max-width: 700px\" src=\"https://github.com/aarimond/CFDS-Notebooks/blob/master/lab_14/lstmcell.png?raw=1\">"
      ]
    },
    {
      "cell_type": "markdown",
      "metadata": {
        "id": "jTV9IMt-meLn"
      },
      "source": [
        "(Source: https://pytorch.org/docs/stable/nn.html)"
      ]
    },
    {
      "cell_type": "markdown",
      "metadata": {
        "id": "f_4CubJ4meLn"
      },
      "source": [
        "Each LSTM layer consits of a LSTM cell exhibiting a hidden state of 51 dimensions. The third linear squeezes the 51 hidden state dimensions of the second LSTM cell into a single output dimension. The single output signal of the linear layer refers to the return of the next time-step predicted by the neural network. Please note, that the choice of the implemented architecture and network hyperparameters is arbitrary and should in a real-world scenario be evaluated and selected thoroughly through experimentation."
      ]
    },
    {
      "cell_type": "code",
      "metadata": {
        "id": "bF2cEtsLmeLn"
      },
      "source": [
        "# implement the LSTMNet network architecture\n",
        "class LSTMNet(nn.Module):\n",
        "\n",
        "    # define class constructor\n",
        "    def __init__(self):\n",
        "\n",
        "        super(LSTMNet, self).__init__()\n",
        "\n",
        "        # define the lstm nn architecture\n",
        "        \n",
        "        # the first lstm layer\n",
        "        self.lstm1 = nn.LSTMCell(1, 51)\n",
        "        \n",
        "        # the second lstm layer\n",
        "        self.lstm2 = nn.LSTMCell(51, 51)\n",
        "        \n",
        "        # the final linear layer\n",
        "        self.linear = nn.Linear(51, 1)\n",
        "\n",
        "    # define network forward pass\n",
        "    def forward(self, input):\n",
        "        \n",
        "        # init predictions\n",
        "        predictions = []\n",
        "\n",
        "        # init the lstm hidden states\n",
        "        h_t1 = torch.zeros(input.size(0), 51, dtype=torch.float).to(device)\n",
        "        h_t2 = torch.zeros(input.size(0), 51, dtype=torch.float).to(device)\n",
        "\n",
        "        # init the lstm cell states\n",
        "        c_t1 = torch.zeros(input.size(0), 51, dtype=torch.float).to(device)\n",
        "        c_t2 = torch.zeros(input.size(0), 51, dtype=torch.float).to(device)\n",
        "        \n",
        "        # iterate over distinct time steps\n",
        "        for i, input_t in enumerate(input.chunk(input.size(1), dim=1)):\n",
        "\n",
        "            # propagate through the first lstm layer\n",
        "            h_t1, c_t1 = self.lstm1(input_t, (h_t1, c_t1))\n",
        "            \n",
        "            # propagate through the second lstm layer \n",
        "            h_t2, c_t2 = self.lstm2(h_t1, (h_t2, c_t2))\n",
        "            \n",
        "            # propagate through the final linear layer\n",
        "            prediction = self.linear(h_t2)\n",
        "            \n",
        "            # collect predictions\n",
        "            predictions += [prediction]\n",
        "\n",
        "        # stack predictions\n",
        "        predictions = torch.stack(predictions, 1).squeeze(2)\n",
        "\n",
        "        # return predictions\n",
        "        return predictions"
      ],
      "execution_count": null,
      "outputs": []
    },
    {
      "cell_type": "markdown",
      "metadata": {
        "id": "-Wxhlrg2meLn"
      },
      "source": [
        "Now, that we have implemented our first LSTM neural network we are ready to instantiate a model to be trained:"
      ]
    },
    {
      "cell_type": "code",
      "metadata": {
        "id": "MWsZW5pomeLn"
      },
      "source": [
        "lstm_model = LSTMNet().to(device)"
      ],
      "execution_count": null,
      "outputs": []
    },
    {
      "cell_type": "markdown",
      "metadata": {
        "id": "sJB2CoNqmeLn"
      },
      "source": [
        "Once the model is initialized, we can visualize the model structure and review the implemented network architecture by execution of the following cell:"
      ]
    },
    {
      "cell_type": "code",
      "metadata": {
        "id": "6Lp7SQDrmeLo"
      },
      "source": [
        "# print the initialized architectures\n",
        "print('[LOG] LSTMNet architecture:\\n\\n{}\\n'.format(lstm_model))"
      ],
      "execution_count": null,
      "outputs": []
    },
    {
      "cell_type": "markdown",
      "metadata": {
        "id": "_GyU39lRmeLo"
      },
      "source": [
        "Looks like intended? Great! Finally, let's have a look into the number of model parameters that we aim to train in the next steps of the notebook:"
      ]
    },
    {
      "cell_type": "code",
      "metadata": {
        "id": "VaEFj7GBmeLo"
      },
      "source": [
        "# init the number of model parameters\n",
        "num_params = 0\n",
        "\n",
        "# iterate over the distinct parameters\n",
        "for param in lstm_model.parameters():\n",
        "\n",
        "    # collect number of parameters\n",
        "    num_params += param.numel()\n",
        "    \n",
        "# print the number of model paramters\n",
        "print('[LOG] Number of to be trained LSTMNet model parameters: {}.'.format(num_params))"
      ],
      "execution_count": null,
      "outputs": []
    },
    {
      "cell_type": "markdown",
      "metadata": {
        "id": "yD2--sHrmeLo"
      },
      "source": [
        "Ok, our \"simple\" `LSTMNet` model already encompasses an impressive number **32'284 model parameters** to be trained."
      ]
    },
    {
      "cell_type": "markdown",
      "metadata": {
        "id": "bBVbywu1meLo"
      },
      "source": [
        "#### 3.2. Definition of the Training Loss Function and Learning Rate"
      ]
    },
    {
      "cell_type": "markdown",
      "metadata": {
        "id": "wi0vWRuimeLo"
      },
      "source": [
        "We are now good to train the network. However, prior to starting the training, we need to define an appropriate loss function. Remember, we aim to train our model to learn a set of model parameters $\\theta$ that minimize the prediction error of the true return $r_{t+1}$ and the by the model predicted return $\\hat{r}_{t+1}$ at a given time-step $t+1$ of sequence $s^{i}$. In other words, for a given sequence of historic returns we aim to learn a function $f_\\theta$ that is capable to predicts the return of the next timestep as faithfully as possible, as expressed by:"
      ]
    },
    {
      "cell_type": "markdown",
      "metadata": {
        "id": "QXVh_DgvmeLo"
      },
      "source": [
        "<center> $\\hat{r}_{t+1} = f_\\theta(r_{t}, r_{t-1}, ..., r_{t-n})$. </center>"
      ]
    },
    {
      "cell_type": "markdown",
      "metadata": {
        "id": "SrMXsFylmeLo"
      },
      "source": [
        "Thereby, the training objective is to learn a set of optimal model parameters $\\theta^*$ that optimize $\\min_{\\theta} \\|r_{t+1} - f_\\theta(r_{t}, r_{t-1}, ..., r_{t-n})\\|$ over all time-steps $t$ contained in the set of training sequences $s_{train}$. To achieve this optimization objective, one typically minimizes a loss function $\\mathcal{L_{\\theta}}$ while training the neural network. In this lab we use the **'Mean Squared Error (MSE)'** loss, as denoted by:"
      ]
    },
    {
      "cell_type": "markdown",
      "metadata": {
        "id": "EK84hfvmmeLo"
      },
      "source": [
        "<center> $\\mathcal{L}^{MSE}_{\\theta} (r_{t+1}, \\hat{r}_{t+1}) = \\frac{1}{N} \\sum_{i=1}^N \\| r_{t+1} - \\hat{r}_{t+1}\\|^{2}$, </center>"
      ]
    },
    {
      "cell_type": "code",
      "metadata": {
        "id": "UAfGUF8vmeLp"
      },
      "source": [
        "loss_function = nn.MSELoss(reduction='mean').to(device)"
      ],
      "execution_count": null,
      "outputs": []
    },
    {
      "cell_type": "markdown",
      "metadata": {
        "id": "I0K1TqpAmeLp"
      },
      "source": [
        "Throughout the training process, the PyTorch library will automatically calculate the loss magnitude, compute the gradient, and update the parameters $\\theta$ of the LSTM neural network. We will use the **\"Adaptive Moment Estimation Optimization\" (ADAM)** technique to optimize the network parameters. Furthermore, we specify a constant learning rate of $l = 1e-06$. For each training step, the optimizer will update the model parameters $\\theta$ values according to the degree of prediction error (the MSE loss)."
      ]
    },
    {
      "cell_type": "code",
      "metadata": {
        "id": "b_iUrnfnmeLp"
      },
      "source": [
        "learning_rate = 1e-06 # set constant learning rate\n",
        "optimizer = optim.Adam(lstm_model.parameters(), lr=learning_rate) # define optimization technique"
      ],
      "execution_count": null,
      "outputs": []
    },
    {
      "cell_type": "markdown",
      "metadata": {
        "id": "7p93U_AWmeLp"
      },
      "source": [
        "Now that we have successfully implemented and defined the three LSTM building blocks let's take some time to review the `LSTMNet` model definition as well as the `MSE loss` function. Please, read the above code and comments carefully and don't hesitate to let us know any questions you might have."
      ]
    },
    {
      "cell_type": "markdown",
      "metadata": {
        "id": "ZabqSLXHmeLp"
      },
      "source": [
        "### 4. Training the Neural Network Model"
      ]
    },
    {
      "cell_type": "markdown",
      "metadata": {
        "id": "_Z94L5E7meLp"
      },
      "source": [
        "In this section, we will train the LSTM neural network model (as implemented in the section above) using the prepared dataset of daily return sequences. Therefore, we will have a detailed look into the distinct training steps and monitor the training progress."
      ]
    },
    {
      "cell_type": "markdown",
      "metadata": {
        "id": "38JuA6_2meLp"
      },
      "source": [
        "#### 4.1. Preparing the Network Training"
      ]
    },
    {
      "cell_type": "markdown",
      "metadata": {
        "id": "BI5FRzkimeLp"
      },
      "source": [
        "Let's now start to learn a model by training the NN for **5 epochs** in mini-batches of the size of **128  sequences** per batch. This implies that the whole dataset will be fed to the network **5 times** in chunks of 128 sequences yielding to **32 mini-batches** (4'068 training sequences / 128 sequences per mini-batch) per epoch:"
      ]
    },
    {
      "cell_type": "code",
      "metadata": {
        "id": "WahF8V2omeLp"
      },
      "source": [
        "# specify the training parameters\n",
        "num_epochs = 200 # number of training epochs\n",
        "mini_batch_size = 128 # size of the mini-batches"
      ],
      "execution_count": null,
      "outputs": []
    },
    {
      "cell_type": "markdown",
      "metadata": {
        "id": "UE9SJY4LmeLq"
      },
      "source": [
        "Furthermore, lets specify and instantiate a corresponding `PyTorch` data loader that feeds the image tensors to our neural network:"
      ]
    },
    {
      "cell_type": "code",
      "metadata": {
        "id": "ITEVzRV9meLq"
      },
      "source": [
        "train_dataloader = dataloader.DataLoader(train_dataset, batch_size=mini_batch_size, shuffle=True)"
      ],
      "execution_count": null,
      "outputs": []
    },
    {
      "cell_type": "markdown",
      "metadata": {
        "id": "xoSbD8m_meLq"
      },
      "source": [
        "#### 4.2. Running the Network Training"
      ]
    },
    {
      "cell_type": "markdown",
      "metadata": {
        "id": "EVDm5BkzmeLq"
      },
      "source": [
        "Finally, we start training the model. The training procedure of each mini-batch is performed as follows: \n",
        "\n",
        ">1. do a forward pass through the LSTMNet network, \n",
        ">2. compute the mean-squared prediction error $\\mathcal{L}^{MSE}_{\\theta} (r_{t+1}, \\hat{r}_{t+1}) = \\frac{1}{N} \\sum_{i=1}^N \\| r_{t+1} - \\hat{r}_{t+1}\\|^{2}$, \n",
        ">3. do a backward pass through the LSTMNet network, and \n",
        ">4. update the parameters of the network $f_\\theta(\\cdot)$.\n",
        "\n",
        "To ensure learning while training the LSTM model we will monitor whether the loss decreases with progressing training. Therefore, we obtain and evaluate the mean prediction performance over all mini-batches in each training epoch. Based on this evaluation we can conclude on the training progress and whether the loss is converging (indicating that the model might not improve any further).\n",
        "\n",
        "The following elements of the network training code below should be given particular attention:\n",
        " \n",
        ">- `loss.backward()` computes the gradients based on the magnitude of the mean-squared-loss,\n",
        ">- `optimizer.step()` updates the network parameters based on the gradient."
      ]
    },
    {
      "cell_type": "code",
      "metadata": {
        "scrolled": true,
        "id": "JZc21rdBmeLq"
      },
      "source": [
        "# init collection of training epoch losses\n",
        "train_epoch_losses = []\n",
        "\n",
        "# set the model in training mode\n",
        "lstm_model.train()\n",
        "\n",
        "# init the best loss\n",
        "best_loss = 100.00\n",
        "\n",
        "# iterate over epochs\n",
        "for epoch in range(0, num_epochs):\n",
        "\n",
        "    # init collection of mini-batch losses\n",
        "    train_mini_batch_losses = []\n",
        "            \n",
        "    # iterate over mini-batches\n",
        "    for sequence_batch, target_batch in train_dataloader:\n",
        "        \n",
        "        # push mini-batch data to computation device\n",
        "        sequence_batch = sequence_batch.to(device)\n",
        "        target_batch = target_batch.to(device)\n",
        "\n",
        "        # predict sequence output\n",
        "        prediction_batch = lstm_model(sequence_batch)\n",
        "\n",
        "        # calculate batch loss\n",
        "        batch_loss = loss_function(prediction_batch, target_batch)\n",
        "\n",
        "        # run backward gradient calculation\n",
        "        batch_loss.backward()\n",
        "\n",
        "        # update network parameters\n",
        "        optimizer.step()\n",
        "        \n",
        "        # collect mini-batch loss\n",
        "        train_mini_batch_losses.append(batch_loss.data.item())\n",
        "            \n",
        "    # determine mean min-batch loss of epoch\n",
        "    train_epoch_loss = np.mean(train_mini_batch_losses)\n",
        "    \n",
        "    # print epoch loss\n",
        "    now = dt.datetime.utcnow().strftime(\"%Y%m%d-%H:%M:%S\")\n",
        "    print('[LOG {}] epoch: {} train-loss: {}'.format(str(now), str(epoch), str(train_epoch_loss)))\n",
        "    \n",
        "    # determine mean min-batch loss of epoch\n",
        "    train_epoch_losses.append(train_epoch_loss)\n",
        "        \n",
        "    # print epoch and save models\n",
        "    if epoch % 10 == 0 and epoch > 0:\n",
        "        \n",
        "        # case: new best model trained\n",
        "        if train_epoch_loss < best_loss:\n",
        "                        \n",
        "            # store new best model\n",
        "            model_name = 'best_lstm_model_{}.pth'.format(str(epoch))\n",
        "            torch.save(lstm_model.state_dict(), os.path.join(models_directory, model_name))\n",
        "            \n",
        "            # update best loss\n",
        "            best_loss = train_epoch_loss\n",
        "            \n",
        "            # print epoch loss\n",
        "            now = dt.datetime.utcnow().strftime(\"%Y%m%d-%H:%M:%S\")\n",
        "            print('[LOG {}] epoch: {} new best train-loss: {} found'.format(str(now), str(epoch), str(train_epoch_loss)))"
      ],
      "execution_count": null,
      "outputs": []
    },
    {
      "cell_type": "markdown",
      "metadata": {
        "id": "naFEBLkjmeLq"
      },
      "source": [
        "Upon successful training let's visualize and inspect the training loss per epoch:"
      ]
    },
    {
      "cell_type": "code",
      "metadata": {
        "id": "-GHSB_hMmeLq"
      },
      "source": [
        "# prepare plot\n",
        "fig = plt.figure()\n",
        "ax = fig.add_subplot(111)\n",
        "\n",
        "# add grid\n",
        "ax.grid(linestyle='dotted')\n",
        "\n",
        "# plot the training epochs vs. the epochs' prediction error\n",
        "ax.plot(np.array(range(1, len(train_epoch_losses)+1)), train_epoch_losses, label='epoch loss (blue)')\n",
        "\n",
        "# add axis legends\n",
        "ax.set_xlabel(\"[training epoch $e_i$]\", fontsize=10)\n",
        "ax.set_ylabel(\"[Prediction Error $\\mathcal{L}^{MSE}$]\", fontsize=10)\n",
        "\n",
        "# set plot legend\n",
        "plt.legend(loc=\"upper right\", numpoints=1, fancybox=True)\n",
        "\n",
        "# add plot title\n",
        "plt.title('Training Epochs $e_i$ vs. Prediction Error $L^{MSE}$', fontsize=10);"
      ],
      "execution_count": null,
      "outputs": []
    },
    {
      "cell_type": "markdown",
      "metadata": {
        "id": "CnVFtVobmeLr"
      },
      "source": [
        "Ok, fantastic. The training error is nicely going down. We could train the network a couple more epochs until the error converges. But let's stay with the 200 training epochs for now and continue with evaluating our trained model."
      ]
    },
    {
      "cell_type": "markdown",
      "metadata": {
        "id": "o3xDaO1MmeLr"
      },
      "source": [
        "### 5. Evaluating the Neural Network Model"
      ]
    },
    {
      "cell_type": "markdown",
      "metadata": {
        "id": "COVVMGZ_meLr"
      },
      "source": [
        "In this section, we will conduct a visual comparison of the predicted daily returns to the actual ('true') daily returns. The comparison will encompass the daily returns of the in-sample time period as well as the returns of the out-of-sample time period."
      ]
    },
    {
      "cell_type": "markdown",
      "metadata": {
        "id": "KrjH4Wo7meLr"
      },
      "source": [
        "#### 5.1. In-Sample Evaluation of the Trained Neural Network Model"
      ]
    },
    {
      "cell_type": "markdown",
      "metadata": {
        "id": "qSzyY92qmeLr"
      },
      "source": [
        "Before starting our evaluation, let's load the best performing model or an already pre-trained model (as done below). Remember, that we stored a snapshot of the model after each training epoch to our local model directory. We will now load one of the (hopefully well-performing) snapshots saved."
      ]
    },
    {
      "cell_type": "code",
      "metadata": {
        "id": "BJ0CgLREmeLr"
      },
      "source": [
        "# init the pre-trained model architecture\n",
        "lstm_model_pretrained = LSTMNet().to(device)\n",
        "\n",
        "# set the pre-trained model name we aim to load\n",
        "lstm_model_name_pretrained = 'https://raw.githubusercontent.com/financial-data-science/CFDS-Notebooks/master/lab_14/models/best_lstm_model_30000.pth'\n",
        "\n",
        "# read pretrained model from the remote location\n",
        "lstm_model_bytes = urllib.request.urlopen(lstm_model_name_pretrained)\n",
        "\n",
        "# load tensor from io.BytesIO object\n",
        "lstm_model_buffer = io.BytesIO(lstm_model_bytes.read())\n",
        "\n",
        "# load the pre-trained model paramaters \n",
        "lstm_model_pretrained.load_state_dict(torch.load(lstm_model_buffer, map_location=lambda storage, loc: storage))"
      ],
      "execution_count": null,
      "outputs": []
    },
    {
      "cell_type": "markdown",
      "metadata": {
        "id": "9-jJ3pkMmeLt"
      },
      "source": [
        "Let's inspect if the model was loaded successfully: "
      ]
    },
    {
      "cell_type": "code",
      "metadata": {
        "id": "nhoGbJhWmeLu"
      },
      "source": [
        "# set model in evaluation mode\n",
        "lstm_model_pretrained.eval()"
      ],
      "execution_count": null,
      "outputs": []
    },
    {
      "cell_type": "markdown",
      "metadata": {
        "id": "YgyizSzFmeLu"
      },
      "source": [
        "Use the pre-trained model to determine the daily return predictions of the **in-sample** sequence population:"
      ]
    },
    {
      "cell_type": "code",
      "metadata": {
        "id": "HEg9-FM-meLu"
      },
      "source": [
        "# don't calculate gradients\n",
        "with torch.no_grad():\n",
        "\n",
        "    # predict sequence output\n",
        "    train_predictions = lstm_model_pretrained(train_sequences_input.to(device))\n",
        "\n",
        "    # collect prediction batch results\n",
        "    train_predictions_list = train_predictions.cpu().detach().numpy()[:, -1].tolist()\n",
        "\n",
        "    # collect target batch results\n",
        "    train_targets_list = train_sequences_target.numpy()[:, -1].tolist()"
      ],
      "execution_count": null,
      "outputs": []
    },
    {
      "cell_type": "markdown",
      "metadata": {
        "id": "wnZ7sWBsmeLu"
      },
      "source": [
        "Plot the pre-trained `LSTMNet` daily **in-sample** predictions vs. the target (\"ground-truth\") daily returns:"
      ]
    },
    {
      "cell_type": "code",
      "metadata": {
        "id": "_6qOH3atmeLu"
      },
      "source": [
        "# plot the prediction results\n",
        "plt.style.use('seaborn')\n",
        "plt.rcParams['figure.figsize'] = [15, 5]\n",
        "\n",
        "fig = plt.figure()\n",
        "ax = fig.add_subplot(111)\n",
        "\n",
        "ax.plot(train_stock_sequence_data_date[:, -1], train_targets_list, color='C1', label='groundtruth (green)')\n",
        "ax.plot(train_stock_sequence_data_date[:, -1], train_predictions_list, color='C0', label='predictions (blue)')\n",
        "\n",
        "# set y-axis limits\n",
        "ax.set_xlim(train_stock_sequence_data_date[:, -1].min(), train_stock_sequence_data_date[:, -1].max())\n",
        "\n",
        "# set plot legend\n",
        "plt.legend(loc=\"lower right\", numpoints=1, fancybox=True)\n",
        "\n",
        "# set plot title\n",
        "plt.title('LSTM NN In-Sample Prediction vs. Ground-Truth Market Prices', fontsize=10)\n",
        "\n",
        "# set axis labels\n",
        "plt.xlabel('[time]', fontsize=8)\n",
        "plt.ylabel('[market price]', fontsize=8)\n",
        "\n",
        "# set axis ticks fontsize\n",
        "plt.xticks(fontsize=8)\n",
        "plt.yticks(fontsize=8);"
      ],
      "execution_count": null,
      "outputs": []
    },
    {
      "cell_type": "markdown",
      "metadata": {
        "id": "oXZsf1GwmeLu"
      },
      "source": [
        "#### 5.2. Out-of-Sample Evaluation of the Trained Neural Network Model"
      ]
    },
    {
      "cell_type": "markdown",
      "metadata": {
        "id": "_zABpUgwmeLu"
      },
      "source": [
        "Use the pre-trained model to determine the daily return predictions of the **out-of-sample** sequence population:"
      ]
    },
    {
      "cell_type": "code",
      "metadata": {
        "id": "2zXctM9LmeLv"
      },
      "source": [
        "# don't calculate gradients\n",
        "with torch.no_grad():\n",
        "\n",
        "    # predict sequence output\n",
        "    valid_predictions = lstm_model_pretrained(valid_sequences_input.to(device))\n",
        "\n",
        "    # collect prediction batch results\n",
        "    valid_predictions_list = valid_predictions.cpu().detach().numpy()[:, -1].tolist()\n",
        "\n",
        "    # collect target batch results\n",
        "    valid_targets_list = valid_sequences_target.numpy()[:, -1].tolist()"
      ],
      "execution_count": null,
      "outputs": []
    },
    {
      "cell_type": "markdown",
      "metadata": {
        "id": "wFSESDAhmeLv"
      },
      "source": [
        "Plot the pre-trained `LSTMNet` daily **out-of-sample** predictions vs. the target (\"ground-truth\") daily returns:"
      ]
    },
    {
      "cell_type": "code",
      "metadata": {
        "id": "BPQOKGpEmeLv"
      },
      "source": [
        "# plot the prediction results\n",
        "plt.style.use('seaborn')\n",
        "plt.rcParams['figure.figsize'] = [15, 5]\n",
        "\n",
        "fig = plt.figure()\n",
        "ax = fig.add_subplot(111)\n",
        "\n",
        "ax.plot(valid_stock_sequence_data_date[:, -1], valid_targets_list, color='C1', label='groundtruth (green)')\n",
        "ax.plot(valid_stock_sequence_data_date[:, -1], valid_predictions_list, color='C0', label='predictions (blue)')\n",
        "\n",
        "# set y-axis limits\n",
        "ax.set_xlim(valid_stock_sequence_data_date[:, -1].min(), valid_stock_sequence_data_date[:, -1].max())\n",
        "\n",
        "# set plot legend\n",
        "plt.legend(loc=\"lower right\", numpoints=1, fancybox=True)\n",
        "\n",
        "# set plot title\n",
        "plt.title('LSTM NN Out-of-Sample Prediction vs. Ground-Truth Market Prices', fontsize=10)\n",
        "\n",
        "# set axis labels\n",
        "plt.xlabel('[time]', fontsize=8)\n",
        "plt.ylabel('[market price]', fontsize=8)\n",
        "\n",
        "# set axis ticks fontsize\n",
        "plt.xticks(fontsize=8)\n",
        "plt.yticks(fontsize=8);"
      ],
      "execution_count": null,
      "outputs": []
    },
    {
      "cell_type": "markdown",
      "metadata": {
        "id": "IRq3jsImmeLv"
      },
      "source": [
        "### 6. Backtest of the Trained Neural Network Model"
      ]
    },
    {
      "cell_type": "markdown",
      "metadata": {
        "id": "2-UNYoA2meLv"
      },
      "source": [
        "In this section, we will backtest the python `bt` library. Python `bt` is a flexible, backtest framework that can be used to test quantitative trading strategies. In general, backtesting is the process of testing a strategy over a given data set (more details about the `bt` library can be found via: https://pmorissette.github.io/bt/). \n",
        "\n",
        "In order to test the predictions derived from the LSTM model we will view its predictions $\\hat{r}_{i+1}$ as trade signals $\\phi$. Thereby, we will interpret any positive future return prediction $r_{t+1} > 0.0$ of a sequence $s^i$ as a \"long\" (buy) signal. Likewise, we will interpret any negative future return prediction $r_{t+1} < 0.0$ of a sequence $s$ as a \"short\" (sell) signal."
      ]
    },
    {
      "cell_type": "markdown",
      "metadata": {
        "id": "VmsOUloYmeLv"
      },
      "source": [
        "#### 6.1. LSTM Trading Signal Preparation"
      ]
    },
    {
      "cell_type": "markdown",
      "metadata": {
        "id": "9waeM_H1meLv"
      },
      "source": [
        "Let's start by converting the out-of-sample model predictions into a trading signal, as described above. Therefore, we first convert the obtained predictions into a data frame that contains (1) the **date of the predicted returns** as well as (2) the **predicted returns $r_{t+1}$** itself:"
      ]
    },
    {
      "cell_type": "code",
      "metadata": {
        "id": "F15oGjP4meLv"
      },
      "source": [
        "signal_data = pd.DataFrame(valid_predictions_list, columns=['PREDICTIONS'], index=valid_stock_sequence_data_date[:, -1])"
      ],
      "execution_count": null,
      "outputs": []
    },
    {
      "cell_type": "markdown",
      "metadata": {
        "id": "UQ4RVEwsmeLv"
      },
      "source": [
        "Furthermore, let's briefly ensure the successful conversion by inspecting the top 10 rows of the created data frame:"
      ]
    },
    {
      "cell_type": "code",
      "metadata": {
        "id": "dm8-pYi2meLw"
      },
      "source": [
        "signal_data.head(10)"
      ],
      "execution_count": null,
      "outputs": []
    },
    {
      "cell_type": "markdown",
      "metadata": {
        "id": "GE9Aj-fJmeLw"
      },
      "source": [
        "Now, let's derive a trading signal from the converted predictions. As already described, we will generate the trading signal $\\phi(\\hat{r}_{t+1})$ according to the following function:"
      ]
    },
    {
      "cell_type": "markdown",
      "metadata": {
        "id": "pTzSzVIimeLw"
      },
      "source": [
        "<center>\n",
        "$\n",
        "\\\\\n",
        "\\phi(\\hat{r}_{t+1})=\n",
        "\\begin{cases}\n",
        "1.0 & \\textrm{(\"long signal\")}, & for & \\hat{r}_{t+1} > 0.0\\\\\n",
        "-1.0 & \\textrm{(\"short signal\")}, & for & \\hat{r}_{t+1} < 0.0\\\\\n",
        "\\end{cases}\n",
        "$\n",
        "</center>"
      ]
    },
    {
      "cell_type": "markdown",
      "metadata": {
        "id": "H0amkAflmeLw"
      },
      "source": [
        "where $\\hat{r}_{t+1}$ denotes a by the model predicted future return at time $t+1$."
      ]
    },
    {
      "cell_type": "code",
      "metadata": {
        "id": "wjUK8ZFjmeLw"
      },
      "source": [
        "signal_data['SIGNAL'] = np.where(signal_data['PREDICTIONS'] > 0.0, 1.0, -1.0)"
      ],
      "execution_count": null,
      "outputs": []
    },
    {
      "cell_type": "markdown",
      "metadata": {
        "id": "P2yuBhQtmeLw"
      },
      "source": [
        "Let's inspect the top 10 rows of the prepared trading signals:"
      ]
    },
    {
      "cell_type": "code",
      "metadata": {
        "id": "oDJQBwbGmeLx"
      },
      "source": [
        "signal_data.head(10)"
      ],
      "execution_count": null,
      "outputs": []
    },
    {
      "cell_type": "markdown",
      "metadata": {
        "id": "Iw3Y9ZjkmeLx"
      },
      "source": [
        "Let's now offset the prepared trading signal by a single day $t-1$. Thereby, we rebalance our stock positions one day prior and according to the closing price predicted by the `LSTMNet` model. As a result we will be able to anticipate the model's future closing price prediction for a particular day $t$:"
      ]
    },
    {
      "cell_type": "code",
      "metadata": {
        "id": "BD920Uu5meLx"
      },
      "source": [
        "signal_data = signal_data.set_index(signal_data['SIGNAL'].index - pd.DateOffset(1))"
      ],
      "execution_count": null,
      "outputs": []
    },
    {
      "cell_type": "markdown",
      "metadata": {
        "id": "hILYBF77meLx"
      },
      "source": [
        "Let's inspect the top 10 rows of the prepared and offset trading signals:"
      ]
    },
    {
      "cell_type": "code",
      "metadata": {
        "id": "C_uQPMAjmeLx"
      },
      "source": [
        "signal_data.head(10)"
      ],
      "execution_count": null,
      "outputs": []
    },
    {
      "cell_type": "markdown",
      "metadata": {
        "id": "kczoioWdmeLy"
      },
      "source": [
        "Visualize the predicted and prepared trading signals of the `LSTMNet` model:"
      ]
    },
    {
      "cell_type": "code",
      "metadata": {
        "id": "ORdBKJhImeLy"
      },
      "source": [
        "plt.rcParams['figure.figsize'] = [15, 5]\n",
        "fig = plt.figure()\n",
        "ax = fig.add_subplot(111)\n",
        "\n",
        "ax.plot(signal_data['SIGNAL'], lw=1.0, color='C3', label='LSTM trade signals')\n",
        "    \n",
        "# set axis ranges\n",
        "ax.set_xlim([signal_data.index[0], signal_data.index[-1]])\n",
        "ax.set_ylim([-1.1, 1.1])\n",
        "\n",
        "# set axis labels\n",
        "ax.set_xlabel('[time]', fontsize=10)\n",
        "ax.set_ylabel('[lstm tade signal]', fontsize=10)\n",
        "\n",
        "# rotate x-axis ticks\n",
        "for tick in ax.get_xticklabels():\n",
        "    tick.set_rotation(45)\n",
        "\n",
        "# set plot title\n",
        "ax.set_title('International Business Machines Corporation (IBM) - LSTM Trading Signals', fontsize=10);"
      ],
      "execution_count": null,
      "outputs": []
    },
    {
      "cell_type": "markdown",
      "metadata": {
        "id": "_4p53nwhmeLy"
      },
      "source": [
        "Determine the number of trade signal changes (trades to be executed) within the out-of-sample timeframe **03/2016** until **12/2017**, resulting in a total in-sample timeframe of approx. **21 months** (9 + 12):"
      ]
    },
    {
      "cell_type": "code",
      "metadata": {
        "id": "giMLkyWCmeLy"
      },
      "source": [
        "# determine number of signal changes\n",
        "len(list(itertools.groupby(signal_data['SIGNAL'], lambda x: x > 0)))"
      ],
      "execution_count": null,
      "outputs": []
    },
    {
      "cell_type": "markdown",
      "metadata": {
        "id": "aO0JCpdvmeLz"
      },
      "source": [
        "On average around **7** signal changes (trades) per month (148 signal changes / 21 months) within the out-of-sample time period."
      ]
    },
    {
      "cell_type": "markdown",
      "metadata": {
        "id": "5MTJ6nlfmeLz"
      },
      "source": [
        "#### 6.2. Stock Market Data Preperation"
      ]
    },
    {
      "cell_type": "markdown",
      "metadata": {
        "id": "4W524ryameLz"
      },
      "source": [
        "Now, let's prepare the daily closing prices so that they can be utilized in the backtest:"
      ]
    },
    {
      "cell_type": "code",
      "metadata": {
        "id": "WlhPtkEbmeLz"
      },
      "source": [
        "stock_market_data = pd.DataFrame(stock_data['Close'])\n",
        "stock_market_data = stock_market_data.rename(columns={'Close': 'PRICE'})\n",
        "stock_market_data = stock_market_data.set_index(pd.to_datetime(stock_data.index))"
      ],
      "execution_count": null,
      "outputs": []
    },
    {
      "cell_type": "markdown",
      "metadata": {
        "id": "G_jG5sVvmeL0"
      },
      "source": [
        "Let's inspect the top 5 rows of the prepared closing prices:"
      ]
    },
    {
      "cell_type": "code",
      "metadata": {
        "id": "oU3F7lkhmeL0"
      },
      "source": [
        "stock_market_data.head(5)"
      ],
      "execution_count": null,
      "outputs": []
    },
    {
      "cell_type": "markdown",
      "metadata": {
        "id": "--ns5yUImeL0"
      },
      "source": [
        "Sub-sample the prepared daily closing prices to the out-of-sample time period:"
      ]
    },
    {
      "cell_type": "code",
      "metadata": {
        "id": "nEAf0xV6meL0"
      },
      "source": [
        "stock_market_data = stock_market_data[stock_market_data.index >= signal_data.index[0]]\n",
        "stock_market_data = stock_market_data[stock_market_data.index <= signal_data.index[-1]]"
      ],
      "execution_count": null,
      "outputs": []
    },
    {
      "cell_type": "markdown",
      "metadata": {
        "id": "AkozgEpYmeL1"
      },
      "source": [
        "Let's inspect the top 5 rows of the prepared closing prices:"
      ]
    },
    {
      "cell_type": "code",
      "metadata": {
        "id": "QkK_VuW5meL1"
      },
      "source": [
        "stock_market_data.head(5)"
      ],
      "execution_count": null,
      "outputs": []
    },
    {
      "cell_type": "markdown",
      "metadata": {
        "id": "8EudJHBUmeL1"
      },
      "source": [
        "Visualize the out-of-sample daily closing prices:"
      ]
    },
    {
      "cell_type": "code",
      "metadata": {
        "id": "eDxgMhwSmeL1"
      },
      "source": [
        "plt.rcParams['figure.figsize'] = [15, 5]\n",
        "fig = plt.figure()\n",
        "ax = fig.add_subplot(111)\n",
        "\n",
        "ax.plot(stock_market_data['PRICE'], color='#9b59b6')\n",
        "\n",
        "for tick in ax.get_xticklabels():\n",
        "    tick.set_rotation(45)\n",
        "    \n",
        "# set axis labels\n",
        "ax.set_xlabel('[time]', fontsize=10)\n",
        "ax.set_ylabel('[equity %]', fontsize=10)\n",
        "\n",
        "for tick in ax.get_xticklabels():\n",
        "    tick.set_rotation(45)\n",
        "\n",
        "# set axis labels and limits\n",
        "ax.set_xlabel('[time]', fontsize=10)\n",
        "ax.set_xlim([stock_market_data.index[0], stock_market_data.index[-1]])\n",
        "ax.set_ylabel('[adj. closing price]', fontsize=10)\n",
        "\n",
        "# set plot title\n",
        "plt.title('International Business Machines Corporation (IBM) - Daily Historical Stock Closing Prices', fontsize=10);"
      ],
      "execution_count": null,
      "outputs": []
    },
    {
      "cell_type": "markdown",
      "metadata": {
        "id": "iKfYnTQHmeL1"
      },
      "source": [
        "Let's calculate the potentially gained return by the application of a simple **\"buy and hold\"** strategy:"
      ]
    },
    {
      "cell_type": "code",
      "metadata": {
        "id": "qwK1n6eDmeL1"
      },
      "source": [
        "np.abs(stock_market_data.iloc[0]['PRICE'] - stock_market_data.iloc[-1]['PRICE']) / stock_market_data.iloc[0]['PRICE']"
      ],
      "execution_count": null,
      "outputs": []
    },
    {
      "cell_type": "markdown",
      "metadata": {
        "id": "2SxJbxKlmeL1"
      },
      "source": [
        "Ok, with such a simple strategy we would have been able to yield a total return of approx. **5.32%**."
      ]
    },
    {
      "cell_type": "markdown",
      "metadata": {
        "id": "6ZBxV9FPmeL1"
      },
      "source": [
        "#### 6.3. Backtest Preparation"
      ]
    },
    {
      "cell_type": "markdown",
      "metadata": {
        "id": "jRKsGHR-meL1"
      },
      "source": [
        "Now that we have trading signals as well as the market data let's implement the LSTM based trading strategy which we name `LSTMStrategy`:"
      ]
    },
    {
      "cell_type": "code",
      "metadata": {
        "id": "icrr7awVmeL2"
      },
      "source": [
        "class LSTMStrategy(bt.Algo):\n",
        "    \n",
        "    def __init__(self, signals):\n",
        "        \n",
        "        # set class signals\n",
        "        self.signals = signals\n",
        "        \n",
        "    def __call__(self, target):\n",
        "        \n",
        "        if target.now in self.signals.index[1:]:\n",
        "            \n",
        "            # get actual signal\n",
        "            signal = self.signals[target.now]\n",
        "            \n",
        "            # set target weights according to signal\n",
        "            target.temp['weights'] = dict(PRICE=signal)\n",
        "            \n",
        "        # return True since we want to move on to the next timestep\n",
        "        return True"
      ],
      "execution_count": null,
      "outputs": []
    },
    {
      "cell_type": "markdown",
      "metadata": {
        "id": "Fca6KgMRmeL2"
      },
      "source": [
        "Let's instantiate our LSTM based trading strategy:"
      ]
    },
    {
      "cell_type": "code",
      "metadata": {
        "id": "2bUJVifXmeL2"
      },
      "source": [
        "lstm_strategy = bt.Strategy('lstm', [bt.algos.SelectAll(), LSTMStrategy(signal_data['SIGNAL']), bt.algos.Rebalance()])"
      ],
      "execution_count": null,
      "outputs": []
    },
    {
      "cell_type": "markdown",
      "metadata": {
        "id": "BnyS1D3KmeL2"
      },
      "source": [
        "Initialize the backtest of our LSTM based trading strategy using the strategy and prepared market data:"
      ]
    },
    {
      "cell_type": "code",
      "metadata": {
        "id": "pDBUle76meL2"
      },
      "source": [
        "backtest_lstm = bt.Backtest(strategy=lstm_strategy, data=stock_market_data, name='stock_lstm_backtest')"
      ],
      "execution_count": null,
      "outputs": []
    },
    {
      "cell_type": "markdown",
      "metadata": {
        "id": "5zB-nNh3meL2"
      },
      "source": [
        "In addition, let's also prepare a backtest of a \"baseline\" buy-and-hold trading strategy for comparison purposes. Our buy-and-hold strategy sends a \"long\" (+1.0) signal at each time step of the out-of-sample time frame: "
      ]
    },
    {
      "cell_type": "code",
      "metadata": {
        "id": "TIRCRWmFmeL2"
      },
      "source": [
        "signal_data_base = signal_data.copy(deep=True) \n",
        "signal_data_base['SIGNAL'] = 1.0"
      ],
      "execution_count": null,
      "outputs": []
    },
    {
      "cell_type": "markdown",
      "metadata": {
        "id": "MhvlCRoimeL2"
      },
      "source": [
        "Init the buy-and-hold (\"base\") strategy as well as the corresponding backtest:"
      ]
    },
    {
      "cell_type": "code",
      "metadata": {
        "id": "1Z1hyTD5meL2"
      },
      "source": [
        "base_strategy = bt.Strategy('base', [bt.algos.SelectAll(), LSTMStrategy(signal_data_base['SIGNAL']), bt.algos.Rebalance()])\n",
        "backtest_base = bt.Backtest(strategy=base_strategy, data=stock_market_data, name='stock_base_backtest')"
      ],
      "execution_count": null,
      "outputs": []
    },
    {
      "cell_type": "markdown",
      "metadata": {
        "id": "Y2rCIxrRmeL3"
      },
      "source": [
        "#### 6.4. Running the Backtest and Evaluate Results"
      ]
    },
    {
      "cell_type": "markdown",
      "metadata": {
        "id": "yH7BvGPJmeL3"
      },
      "source": [
        "Run the backtest for both trading strategies: "
      ]
    },
    {
      "cell_type": "code",
      "metadata": {
        "id": "_mCzdwOXmeL3"
      },
      "source": [
        "backtest_results = bt.run(backtest_lstm, backtest_base)"
      ],
      "execution_count": null,
      "outputs": []
    },
    {
      "cell_type": "markdown",
      "metadata": {
        "id": "t6lgOra8meL3"
      },
      "source": [
        "Inspect the individual backtest results and performance measures:"
      ]
    },
    {
      "cell_type": "code",
      "metadata": {
        "id": "r8rWMXNImeL3"
      },
      "source": [
        "backtest_results.display()"
      ],
      "execution_count": null,
      "outputs": []
    },
    {
      "cell_type": "markdown",
      "metadata": {
        "id": "1SbsvzKkmeL3"
      },
      "source": [
        "Collect detailed backtest performance per timestep of the LSTM trading strategy:"
      ]
    },
    {
      "cell_type": "code",
      "metadata": {
        "id": "BM1J5BMcmeL3"
      },
      "source": [
        "backtest_lstm_details = backtest_lstm.strategy.prices.to_frame(name='Rel. EQUITY')\n",
        "backtest_lstm_details['Abs. EQUITY'] = backtest_lstm.strategy.values # equity per timestep\n",
        "backtest_lstm_details['CASH'] = backtest_lstm.strategy.cash # cash per timestep\n",
        "backtest_lstm_details['POSITIONS'] = backtest_lstm.strategy.positions # positions per timestep\n",
        "backtest_lstm_details['FEES'] = backtest_lstm.strategy.fees # trading fees per timestep"
      ],
      "execution_count": null,
      "outputs": []
    },
    {
      "cell_type": "markdown",
      "metadata": {
        "id": "w-DKNZRpmeL3"
      },
      "source": [
        "Inspect the LSTM trading strategy backtest details:"
      ]
    },
    {
      "cell_type": "code",
      "metadata": {
        "id": "5v6R1EcdmeL3"
      },
      "source": [
        "backtest_lstm_details.head(10)"
      ],
      "execution_count": null,
      "outputs": []
    },
    {
      "cell_type": "markdown",
      "metadata": {
        "id": "I4dE8E0TmeL4"
      },
      "source": [
        "Visualize the monthly returns obtained by the LSTM based trading strategy:"
      ]
    },
    {
      "cell_type": "code",
      "metadata": {
        "id": "VPQYNJ3TmeL4"
      },
      "source": [
        "plt.rcParams['figure.figsize'] = [15, 5]\n",
        "fig = plt.figure()\n",
        "ax = fig.add_subplot(111)\n",
        "\n",
        "# plot heatmap of monthly returns generated by the strategy\n",
        "ax = sns.heatmap(backtest_lstm.stats.return_table, annot=True, cbar=True, vmin=-0.5, vmax=0.5)\n",
        "\n",
        "# set axis labels\n",
        "ax.set_xlabel('[month]', fontsize=10)\n",
        "ax.set_ylabel('[year]', fontsize=10)\n",
        "\n",
        "# set plot title\n",
        "ax.set_title('International Business Machines Corporation (IBM) - Monthly Returns LSTM Strategy', fontsize=10);"
      ],
      "execution_count": null,
      "outputs": []
    },
    {
      "cell_type": "markdown",
      "metadata": {
        "id": "ypZPYUhqmeL4"
      },
      "source": [
        "Collect detailed backtest performance per timestep of the \"buy-and-hold\" trading strategy:"
      ]
    },
    {
      "cell_type": "code",
      "metadata": {
        "id": "7merbWWSmeL4"
      },
      "source": [
        "backtest_base_details = backtest_base.strategy.prices.to_frame(name='Rel. EQUITY')\n",
        "backtest_base_details['Abs. EQUITY'] = backtest_base.strategy.values # equity per timestep\n",
        "backtest_base_details['CASH'] = backtest_base.strategy.cash # cash per timestep\n",
        "backtest_base_details['POSITIONS'] = backtest_base.strategy.positions # positions per timestep\n",
        "backtest_base_details['FEES'] = backtest_base.strategy.fees # trading fees per timestep"
      ],
      "execution_count": null,
      "outputs": []
    },
    {
      "cell_type": "markdown",
      "metadata": {
        "id": "YVZw-VchmeL4"
      },
      "source": [
        "Inspect the \"buy-and-hold\" trading strategy backtest details:"
      ]
    },
    {
      "cell_type": "code",
      "metadata": {
        "id": "VS-TyRkbmeL4"
      },
      "source": [
        "backtest_base_details.head(10)"
      ],
      "execution_count": null,
      "outputs": []
    },
    {
      "cell_type": "markdown",
      "metadata": {
        "id": "tgrVvI-imeL4"
      },
      "source": [
        "Visualize the monthly returns obtained by the \"buy-and-hold\" trading strategy:"
      ]
    },
    {
      "cell_type": "code",
      "metadata": {
        "id": "cNljW2chmeL4"
      },
      "source": [
        "plt.rcParams['figure.figsize'] = [15, 5]\n",
        "fig = plt.figure()\n",
        "ax = fig.add_subplot(111)\n",
        "\n",
        "# plot heatmap of monthly returns generated by the strategy\n",
        "ax = sns.heatmap(backtest_base.stats.return_table, annot=True, cbar=True, vmin=-0.5, vmax=0.5)\n",
        "\n",
        "# set axis labels\n",
        "ax.set_xlabel('[month]', fontsize=10)\n",
        "ax.set_ylabel('[year]', fontsize=10)\n",
        "\n",
        "# set plot title\n",
        "ax.set_title('International Business Machines Corporation (IBM) - Monthly Returns \\'buy-and-hold\\' Strategy', fontsize=10);"
      ],
      "execution_count": null,
      "outputs": []
    },
    {
      "cell_type": "markdown",
      "metadata": {
        "id": "ajMIvqdjmeL4"
      },
      "source": [
        "Visualize the equity progression of both strategies over time:"
      ]
    },
    {
      "cell_type": "code",
      "metadata": {
        "id": "925QenROmeL4"
      },
      "source": [
        "plt.rcParams['figure.figsize'] = [15, 5]\n",
        "fig = plt.figure()\n",
        "ax = fig.add_subplot(111)\n",
        "\n",
        "ax.plot(backtest_lstm_details['Rel. EQUITY'], color='C1',lw=1.0, label='lstm strategy (green)')\n",
        "ax.plot(backtest_base_details['Rel. EQUITY'], color='C2',lw=1.0, label='base strategy (red)')\n",
        "\n",
        "for tick in ax.get_xticklabels():\n",
        "    tick.set_rotation(45)\n",
        "    \n",
        "# set axis labels\n",
        "ax.set_xlabel('[time]', fontsize=10)\n",
        "ax.set_xlim(valid_stock_sequence_data_date[:, -1].min(), valid_stock_sequence_data_date[:, -1].max())\n",
        "ax.set_ylabel('[equity %]', fontsize=10)\n",
        "\n",
        "# set plot legend\n",
        "plt.legend(loc=\"upper right\", numpoints=1, fancybox=True)\n",
        "\n",
        "# set plot title\n",
        "plt.title('International Business Machines Corporation (IBM) - Backtest % Equity Progression', fontsize=10);"
      ],
      "execution_count": null,
      "outputs": []
    },
    {
      "cell_type": "markdown",
      "metadata": {
        "id": "IELRxYlimeL5"
      },
      "source": [
        "### Exercises:"
      ]
    },
    {
      "cell_type": "markdown",
      "metadata": {
        "id": "w-gEMf9umeL5"
      },
      "source": [
        "We recommend you to try the following exercises as part of the lab:\n",
        "\n",
        "**1. Evaluation of Shallow vs. Deep RNN Models.**\n",
        "\n",
        "> Download the daily closing prices of the IBM stock within the time frame starting from 01/01/2000 until 12/31/2019. In addition to the architecture of the lab notebook, evaluate further (more shallow as well as more deep) RNN architectures by either: **(1) re-moving/adding layers of LSTM cells, and/or (2) increasing/decreasing the dimensionality of the LSTM cells hidden state**. Train your model (using architectures you selected) for at least 20'000 training epochs but keep the following parameters unchanged (a) sequence length: 5 time-steps (days) and (b) train vs. test fraction: 0.9.\n",
        "\n",
        "> Analyze the prediction performance of the trained models in terms of training time and prediction accuracy. Furthermore, backtest the out-of-sample signals predicted by each of your models and evaluate them in terms of total return and equity progression. Which of your architecture results in the best performing model, and why?"
      ]
    },
    {
      "cell_type": "code",
      "metadata": {
        "id": "ai1RDP2ZmeL5"
      },
      "source": [
        "# ***************************************************\n",
        "# INSERT YOUR CODE HERE\n",
        "# ***************************************************"
      ],
      "execution_count": null,
      "outputs": []
    },
    {
      "cell_type": "markdown",
      "metadata": {
        "id": "j-iUBSHPmeL5"
      },
      "source": [
        "**2. Training and Evaluation of Models Learned from Additional Stocks.**\n",
        "\n",
        "> Download the daily closing prices of at least two additional stocks (e.g., Alphabet, Deutsche Bank) within the time frame starting from 01/01/2000 until 12/31/2019. **Pls. select two stocks that you are interested in to investigate ( e.g. stocks that you may occasionally trade yourself)**. Learn an ’optimal’ RNN model of both stocks and backtest their corresponding trade signals by following the approach outlined in the lab notebook regarding the IBM stock. Pls. keep the train vs. test dataset fraction fixed to 0.9, all other parameters of the data preparation and model training can be changed.\n",
        "\n",
        "> Analyse the performance of the learned models in terms of their prediction accuracy as well as their out-of-sample backtest performance (e. g. the total return and equity progression). What architectures and corresponding training parameters result in the best performing models?"
      ]
    },
    {
      "cell_type": "code",
      "metadata": {
        "id": "ZOW87j-UmeL5"
      },
      "source": [
        "# ***************************************************\n",
        "# INSERT YOUR CODE HERE\n",
        "# ***************************************************"
      ],
      "execution_count": null,
      "outputs": []
    },
    {
      "cell_type": "markdown",
      "metadata": {
        "id": "d49ISWsxmeL5"
      },
      "source": [
        "**3. Training and Evaluation of Models Learned from Augmented Data.**\n",
        "\n",
        "> In the prior exercises, we used the historical daily returns of a single stock to learn a model that can predict the stocks’ future closing price (log- return) movement. However, one of the advantages of NN’s **lies in their capability to learn a model from multiple sources of input data**. For each of the two stocks (’target stocks’) that you selected in `exercise 2.`. learn an ’optimal’ RNN model using the daily returns as a target label. However, before training your models **augment the training data of each stock by the return sequences of at least three additional stocks**. The additional stocks, used for data augmentation, should exhibit a high correlation to the historical closing prices of the target stock price movement you aim to model.\n",
        "\n",
        "> Analyse the performance of the learned models in terms of their prediction accuracy as well as their out-of-sample backtest performance (e. g. the total return and equity progression). Do you observe an improvement of the trained model in terms of out-of-sample backtest performance comparison to `exercise 1.`?"
      ]
    },
    {
      "cell_type": "code",
      "metadata": {
        "id": "PVlnYlq-meL5"
      },
      "source": [
        "# ***************************************************\n",
        "# INSERT YOUR CODE HERE\n",
        "# ***************************************************"
      ],
      "execution_count": null,
      "outputs": []
    },
    {
      "cell_type": "markdown",
      "metadata": {
        "id": "4ozaIsYwmeL5"
      },
      "source": [
        "### Lab Summary:"
      ]
    },
    {
      "cell_type": "markdown",
      "metadata": {
        "id": "lJIzxHrYmeL5"
      },
      "source": [
        "In this lab, a step by step introduction into **design, implementation, training and evaluation** of a LSTM neural network based trading strategy is presented. \n",
        "\n",
        "The strategy trades a specific financial instrument based on its historical market prices. The degree of success of the implemented strategy is evaluated based in its backtest performance with particular focus on (1) the strategy's **total return** as well as (2) its **equity progression** over time. \n",
        "\n",
        "The code provided in this lab provides a blueprint for the development and testing of more complex trading strategies."
      ]
    },
    {
      "cell_type": "markdown",
      "metadata": {
        "id": "E4Z8U6rBmeL6"
      },
      "source": [
        "You may want to execute the content of your lab outside of the Jupyter notebook environment, e.g. on a compute node or a server. The cell below converts the lab notebook into a standalone and executable python script. Pls. note that to convert the notebook, you need to install Python's **nbconvert** library and its extensions:"
      ]
    },
    {
      "cell_type": "code",
      "metadata": {
        "id": "uTs690m1meL6"
      },
      "source": [
        "# installing the nbconvert library\n",
        "!pip install nbconvert\n",
        "!pip install jupyter_contrib_nbextensions"
      ],
      "execution_count": null,
      "outputs": []
    },
    {
      "cell_type": "markdown",
      "metadata": {
        "id": "Jrd_m3iAmeL6"
      },
      "source": [
        "Let's now convert the Jupyter notebook into a plain Python script:"
      ]
    },
    {
      "cell_type": "code",
      "metadata": {
        "id": "5WaJtpdimeL6"
      },
      "source": [
        "!jupyter nbconvert --to script cfds_colab_14.ipynb"
      ],
      "execution_count": null,
      "outputs": []
    }
  ]
}