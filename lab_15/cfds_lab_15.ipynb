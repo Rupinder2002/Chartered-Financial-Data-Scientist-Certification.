{
 "cells": [
  {
   "cell_type": "markdown",
   "metadata": {},
   "source": [
    "<img align=\"right\" style=\"max-width: 200px; height: auto\" src=\"cfds_logo.png\">\n",
    "\n",
    "###  Lab 15 - \"Long Short-Term Memory (LSTM) Neural Networks (Many to One)\"\n",
    "\n",
    "Chartered Financial Data Scientist (CFDS), Autumn Term 2020/21"
   ]
  },
  {
   "cell_type": "markdown",
   "metadata": {},
   "source": [
    "In this lab, we will learn how to enhance the previous **\"one-to-one\"** Long Short-Term Memory (LSTM) neural network training setup towards a **\"many-to-one\"** training setup. This will allow a model to learn from a set of input time series such as the underlying constituents of an Exchange Traded Fund (ETF). In general, such a \"many-to-one\" training setup provides the ability to learn complex pattern across multiple input data sources.\n",
    "\n",
    "\n",
    "We will again use the functionality of the **PyTorch** library to implement and train an LSTM based neural network. The network will be trained on the historic daily (in-sample) returns of an exemplary financial stock. Once the network is trained, we will use the learned model to predict future (out-of-sample) returns. Finally, we will convert the predictions into tradable signals and the backtest the signals accordingly. \n",
    "\n",
    "The figure below illustrates a high-level view on the machine learning process we aim to establish in this lab."
   ]
  },
  {
   "cell_type": "markdown",
   "metadata": {},
   "source": [
    "<img align=\"center\" style=\"max-width: 700px\" src=\"process.png\">"
   ]
  },
  {
   "cell_type": "markdown",
   "metadata": {},
   "source": [
    "### Lab Objectives:"
   ]
  },
  {
   "cell_type": "markdown",
   "metadata": {},
   "source": [
    "After today's lab, you should be able to:\n",
    "\n",
    "> 1. Understand the basic concepts, intuitions and major building blocks of **Long Short-Term Memory (LSTM) Neural Networks**.\n",
    "> 2. Know how to **implement and to train a many-to-one LSTM** model of financial time-series data.\n",
    "> 3. Understand how to apply such a learned model to **predict future data points of a time-series**.\n",
    "> 4. Know how to **interpret the model's prediction results** and backtest the predictions. "
   ]
  },
  {
   "cell_type": "markdown",
   "metadata": {},
   "source": [
    "As always, pls. don't hesitate to ask all your questions either during the lab, post them in our NextThought lab discussion forum (https://financial-data-science.nextthought.io), or send us an email (using our fds.ai email addresses)."
   ]
  },
  {
   "cell_type": "markdown",
   "metadata": {},
   "source": [
    "Before we start let's watch a motivational video:"
   ]
  },
  {
   "cell_type": "code",
   "execution_count": 1,
   "metadata": {},
   "outputs": [],
   "source": [
    "from IPython.display import YouTubeVideo\n",
    "# Nvidia GTC 2016: \"The Deep Learning Revolution\" Opening in Keynote\"\n",
    "# YouTubeVideo('Dy0hJWltsyE', width=800, height=400)"
   ]
  },
  {
   "cell_type": "markdown",
   "metadata": {},
   "source": [
    "### Setup of the Jupyter Notebook Environment"
   ]
  },
  {
   "cell_type": "markdown",
   "metadata": {},
   "source": [
    "Suppress potential warnings:"
   ]
  },
  {
   "cell_type": "code",
   "execution_count": 2,
   "metadata": {},
   "outputs": [],
   "source": [
    "import warnings\n",
    "warnings.filterwarnings('ignore')"
   ]
  },
  {
   "cell_type": "markdown",
   "metadata": {},
   "source": [
    "Similar to the previous labs, we need to import a couple of Python libraries that allow for data analysis and data visualization. We will mostly use the `PyTorch`, `Numpy`, `Sklearn`, `Matplotlib`, `Seaborn`, `BT` and a few utility libraries throughout the lab:"
   ]
  },
  {
   "cell_type": "code",
   "execution_count": 3,
   "metadata": {},
   "outputs": [],
   "source": [
    "# import python data science and utility libraries\n",
    "import os, sys, itertools, urllib, io\n",
    "import datetime as dt\n",
    "import pandas as pd\n",
    "import pandas_datareader as dr\n",
    "import numpy as np"
   ]
  },
  {
   "cell_type": "markdown",
   "metadata": {},
   "source": [
    "Install the Python `BT` backtesting library:"
   ]
  },
  {
   "cell_type": "code",
   "execution_count": 4,
   "metadata": {},
   "outputs": [
    {
     "name": "stdout",
     "output_type": "stream",
     "text": [
      "/bin/bash: pip: command not found\r\n"
     ]
    }
   ],
   "source": [
    "!pip install bt"
   ]
  },
  {
   "cell_type": "markdown",
   "metadata": {},
   "source": [
    "Import the backtesting library:"
   ]
  },
  {
   "cell_type": "code",
   "execution_count": 5,
   "metadata": {},
   "outputs": [],
   "source": [
    "import bt as bt # library to backtest trading signals"
   ]
  },
  {
   "cell_type": "markdown",
   "metadata": {},
   "source": [
    "Import the Python machine / deep learning libraries:"
   ]
  },
  {
   "cell_type": "code",
   "execution_count": 6,
   "metadata": {},
   "outputs": [],
   "source": [
    "# pytorch libraries\n",
    "import torch\n",
    "import torch.nn as nn\n",
    "import torch.optim as optim\n",
    "from torch.utils import data\n",
    "from torch.utils.data import dataloader"
   ]
  },
  {
   "cell_type": "markdown",
   "metadata": {},
   "source": [
    "Import Python plotting libraries and set general plotting parameters:"
   ]
  },
  {
   "cell_type": "code",
   "execution_count": 7,
   "metadata": {},
   "outputs": [],
   "source": [
    "import matplotlib.pyplot as plt\n",
    "import seaborn as sns\n",
    "plt.style.use('seaborn')\n",
    "plt.rcParams['figure.figsize'] = [10, 5]\n",
    "plt.rcParams['figure.dpi']= 150"
   ]
  },
  {
   "cell_type": "markdown",
   "metadata": {},
   "source": [
    "Enable notebook matplotlib inline plotting:"
   ]
  },
  {
   "cell_type": "code",
   "execution_count": 8,
   "metadata": {},
   "outputs": [],
   "source": [
    "%matplotlib inline"
   ]
  },
  {
   "cell_type": "markdown",
   "metadata": {},
   "source": [
    "Create notebook folder structure to store the data, the visuals, as well as the trained neural network models:"
   ]
  },
  {
   "cell_type": "code",
   "execution_count": 9,
   "metadata": {},
   "outputs": [],
   "source": [
    "# create data sub-directory inside the current directory\n",
    "data_directory = './data'\n",
    "if not os.path.exists(data_directory): os.makedirs(data_directory)\n",
    "    \n",
    "# create visuals sub-directory inside the current directory\n",
    "visuals_directory = './visuals'\n",
    "if not os.path.exists(visuals_directory): os.makedirs(visuals_directory)\n",
    "\n",
    "# create models sub-directory inside the current directory\n",
    "models_directory = './models'\n",
    "if not os.path.exists(models_directory): os.makedirs(models_directory)\n",
    "    \n",
    "# create statistics sub-directory inside the current directory\n",
    "statistics_directory = './statistics'\n",
    "if not os.path.exists(statistics_directory): os.makedirs(statistics_directory)"
   ]
  },
  {
   "cell_type": "markdown",
   "metadata": {},
   "source": [
    "Set random seed value to obtain reproducable results:"
   ]
  },
  {
   "cell_type": "code",
   "execution_count": 10,
   "metadata": {},
   "outputs": [],
   "source": [
    "# init deterministic seed\n",
    "seed_value = 1234\n",
    "np.random.seed(seed_value) # set numpy seed\n",
    "torch.manual_seed(seed_value); # set pytorch seed CPU"
   ]
  },
  {
   "cell_type": "markdown",
   "metadata": {},
   "source": [
    "Enable GPU computing by setting the `device` flag and init a `CUDA` seed:"
   ]
  },
  {
   "cell_type": "code",
   "execution_count": 11,
   "metadata": {},
   "outputs": [
    {
     "name": "stdout",
     "output_type": "stream",
     "text": [
      "[LOG 20210201-12:57:29] notebook with 'cpu' computation enabled\n"
     ]
    }
   ],
   "source": [
    "# set cpu or gpu enabled device\n",
    "device = torch.device('cuda' if torch.cuda.is_available() else 'cpu').type\n",
    "\n",
    "# init deterministic GPU seed\n",
    "torch.cuda.manual_seed(seed_value)\n",
    "\n",
    "# log type of device enabled\n",
    "now = dt.datetime.utcnow().strftime(\"%Y%m%d-%H:%M:%S\")\n",
    "print('[LOG {}] notebook with \\'{}\\' computation enabled'.format(str(now), str(device)))"
   ]
  },
  {
   "cell_type": "markdown",
   "metadata": {},
   "source": [
    "### 1. Data Download"
   ]
  },
  {
   "cell_type": "markdown",
   "metadata": {},
   "source": [
    "In this section of the lab notebook we will download and access historic daily stock market data ranging from **01/01/2010** to **31/12/2019** of the **\"Invesco QQQ ETF\"** (ticker symbol: \"QQQ\") that tracks the NASDAQ-100 index. Thereby, we will utilize the `datareader` of the `Pandas` library that provides the ability to interface the `Yahoo` finance API."
   ]
  },
  {
   "cell_type": "markdown",
   "metadata": {},
   "source": [
    "#### 1.1 Target Data Download"
   ]
  },
  {
   "cell_type": "markdown",
   "metadata": {},
   "source": [
    "To start the data download, let's specify the start and end date of the stock market data download:"
   ]
  },
  {
   "cell_type": "code",
   "execution_count": 12,
   "metadata": {},
   "outputs": [],
   "source": [
    "start_date = dt.datetime(2010, 1, 1)\n",
    "end_date = dt.datetime(2019, 12, 31)"
   ]
  },
  {
   "cell_type": "markdown",
   "metadata": {},
   "source": [
    "Download the daily **\"Invesco QQQ ETF\"** (QQQ) market data:"
   ]
  },
  {
   "cell_type": "code",
   "execution_count": 13,
   "metadata": {},
   "outputs": [],
   "source": [
    "stock_data_price = dr.data.DataReader('QQQ', data_source='yahoo', start=start_date, end=end_date)"
   ]
  },
  {
   "cell_type": "markdown",
   "metadata": {},
   "source": [
    "Inspect the top 10 records of the QQQ market data:"
   ]
  },
  {
   "cell_type": "code",
   "execution_count": 14,
   "metadata": {},
   "outputs": [
    {
     "data": {
      "text/html": [
       "<div>\n",
       "<style scoped>\n",
       "    .dataframe tbody tr th:only-of-type {\n",
       "        vertical-align: middle;\n",
       "    }\n",
       "\n",
       "    .dataframe tbody tr th {\n",
       "        vertical-align: top;\n",
       "    }\n",
       "\n",
       "    .dataframe thead th {\n",
       "        text-align: right;\n",
       "    }\n",
       "</style>\n",
       "<table border=\"1\" class=\"dataframe\">\n",
       "  <thead>\n",
       "    <tr style=\"text-align: right;\">\n",
       "      <th></th>\n",
       "      <th>High</th>\n",
       "      <th>Low</th>\n",
       "      <th>Open</th>\n",
       "      <th>Close</th>\n",
       "      <th>Volume</th>\n",
       "      <th>Adj Close</th>\n",
       "    </tr>\n",
       "    <tr>\n",
       "      <th>Date</th>\n",
       "      <th></th>\n",
       "      <th></th>\n",
       "      <th></th>\n",
       "      <th></th>\n",
       "      <th></th>\n",
       "      <th></th>\n",
       "    </tr>\n",
       "  </thead>\n",
       "  <tbody>\n",
       "    <tr>\n",
       "      <th>2010-01-04</th>\n",
       "      <td>46.490002</td>\n",
       "      <td>46.270000</td>\n",
       "      <td>46.330002</td>\n",
       "      <td>46.419998</td>\n",
       "      <td>62822800.0</td>\n",
       "      <td>41.570904</td>\n",
       "    </tr>\n",
       "    <tr>\n",
       "      <th>2010-01-05</th>\n",
       "      <td>46.500000</td>\n",
       "      <td>46.160000</td>\n",
       "      <td>46.389999</td>\n",
       "      <td>46.419998</td>\n",
       "      <td>62935600.0</td>\n",
       "      <td>41.570904</td>\n",
       "    </tr>\n",
       "    <tr>\n",
       "      <th>2010-01-06</th>\n",
       "      <td>46.549999</td>\n",
       "      <td>46.070000</td>\n",
       "      <td>46.400002</td>\n",
       "      <td>46.139999</td>\n",
       "      <td>96033000.0</td>\n",
       "      <td>41.320183</td>\n",
       "    </tr>\n",
       "    <tr>\n",
       "      <th>2010-01-07</th>\n",
       "      <td>46.270000</td>\n",
       "      <td>45.919998</td>\n",
       "      <td>46.209999</td>\n",
       "      <td>46.169998</td>\n",
       "      <td>77094100.0</td>\n",
       "      <td>41.347046</td>\n",
       "    </tr>\n",
       "    <tr>\n",
       "      <th>2010-01-08</th>\n",
       "      <td>46.549999</td>\n",
       "      <td>45.930000</td>\n",
       "      <td>46.070000</td>\n",
       "      <td>46.549999</td>\n",
       "      <td>88886600.0</td>\n",
       "      <td>41.687347</td>\n",
       "    </tr>\n",
       "    <tr>\n",
       "      <th>2010-01-11</th>\n",
       "      <td>46.639999</td>\n",
       "      <td>46.119999</td>\n",
       "      <td>46.610001</td>\n",
       "      <td>46.360001</td>\n",
       "      <td>104673400.0</td>\n",
       "      <td>41.517189</td>\n",
       "    </tr>\n",
       "    <tr>\n",
       "      <th>2010-01-12</th>\n",
       "      <td>46.139999</td>\n",
       "      <td>45.529999</td>\n",
       "      <td>46.080002</td>\n",
       "      <td>45.779999</td>\n",
       "      <td>90673900.0</td>\n",
       "      <td>40.997784</td>\n",
       "    </tr>\n",
       "    <tr>\n",
       "      <th>2010-01-13</th>\n",
       "      <td>46.490002</td>\n",
       "      <td>45.610001</td>\n",
       "      <td>45.919998</td>\n",
       "      <td>46.349998</td>\n",
       "      <td>100661000.0</td>\n",
       "      <td>41.508217</td>\n",
       "    </tr>\n",
       "    <tr>\n",
       "      <th>2010-01-14</th>\n",
       "      <td>46.520000</td>\n",
       "      <td>46.220001</td>\n",
       "      <td>46.259998</td>\n",
       "      <td>46.389999</td>\n",
       "      <td>75209000.0</td>\n",
       "      <td>41.544056</td>\n",
       "    </tr>\n",
       "    <tr>\n",
       "      <th>2010-01-15</th>\n",
       "      <td>46.549999</td>\n",
       "      <td>45.650002</td>\n",
       "      <td>46.470001</td>\n",
       "      <td>45.849998</td>\n",
       "      <td>126849300.0</td>\n",
       "      <td>41.060459</td>\n",
       "    </tr>\n",
       "  </tbody>\n",
       "</table>\n",
       "</div>"
      ],
      "text/plain": [
       "                 High        Low       Open      Close       Volume  Adj Close\n",
       "Date                                                                          \n",
       "2010-01-04  46.490002  46.270000  46.330002  46.419998   62822800.0  41.570904\n",
       "2010-01-05  46.500000  46.160000  46.389999  46.419998   62935600.0  41.570904\n",
       "2010-01-06  46.549999  46.070000  46.400002  46.139999   96033000.0  41.320183\n",
       "2010-01-07  46.270000  45.919998  46.209999  46.169998   77094100.0  41.347046\n",
       "2010-01-08  46.549999  45.930000  46.070000  46.549999   88886600.0  41.687347\n",
       "2010-01-11  46.639999  46.119999  46.610001  46.360001  104673400.0  41.517189\n",
       "2010-01-12  46.139999  45.529999  46.080002  45.779999   90673900.0  40.997784\n",
       "2010-01-13  46.490002  45.610001  45.919998  46.349998  100661000.0  41.508217\n",
       "2010-01-14  46.520000  46.220001  46.259998  46.389999   75209000.0  41.544056\n",
       "2010-01-15  46.549999  45.650002  46.470001  45.849998  126849300.0  41.060459"
      ]
     },
     "execution_count": 14,
     "metadata": {},
     "output_type": "execute_result"
    }
   ],
   "source": [
    "stock_data_price.head(10)"
   ]
  },
  {
   "cell_type": "markdown",
   "metadata": {},
   "source": [
    "Visually inspect the daily closing prices of the QQQ market data:"
   ]
  },
  {
   "cell_type": "code",
   "execution_count": 15,
   "metadata": {},
   "outputs": [
    {
     "data": {
      "image/png": "[encoded data removed]",
      "text/plain": [
       "<Figure size 1080x360 with 1 Axes>"
      ]
     },
     "metadata": {
      "needs_background": "light"
     },
     "output_type": "display_data"
    }
   ],
   "source": [
    "plt.rcParams['figure.figsize'] = [15, 5]\n",
    "fig = plt.figure()\n",
    "ax = fig.add_subplot(111)\n",
    "\n",
    "# plot daily adjusted closing price\n",
    "ax.plot(stock_data_price.index, stock_data_price['Adj Close'], color='#9b59b6')\n",
    "\n",
    "# rotate x-tick labels\n",
    "for tick in ax.get_xticklabels():\n",
    "    tick.set_rotation(45)\n",
    "\n",
    "# set x-axis labels and limits\n",
    "ax.set_xlabel('[time]', fontsize=10)\n",
    "ax.set_xlim([pd.to_datetime('01-01-2010'), pd.to_datetime('31-12-2019')])\n",
    "\n",
    "# set y-axis labels and limits\n",
    "ax.set_ylabel('[QQQ closing price]', fontsize=10)\n",
    "\n",
    "# set plot title\n",
    "plt.title('Invesco QQQ Trust Series 1 - Daily Historical Adjusted Closing Prices', fontsize=10);"
   ]
  },
  {
   "cell_type": "markdown",
   "metadata": {},
   "source": [
    "Initialize the stock data `Pandas` dataframe by only keeping the **daily adjusted closing price** of the QQQ:"
   ]
  },
  {
   "cell_type": "code",
   "execution_count": 16,
   "metadata": {},
   "outputs": [],
   "source": [
    "# remove all columns other than the adjusted closing price\n",
    "stock_data_price = stock_data_price.drop(columns=['High', 'Open', 'Low', 'Close', 'Volume'])"
   ]
  },
  {
   "cell_type": "markdown",
   "metadata": {},
   "source": [
    "Rename the adjusted closing price column according to the QQQ: "
   ]
  },
  {
   "cell_type": "code",
   "execution_count": 17,
   "metadata": {},
   "outputs": [],
   "source": [
    "stock_data_price = stock_data_price.rename(columns={'Adj Close': \"QQQ\"})"
   ]
  },
  {
   "cell_type": "markdown",
   "metadata": {},
   "source": [
    "#### 1.2 Input Data Download"
   ]
  },
  {
   "cell_type": "markdown",
   "metadata": {},
   "source": [
    "Define ticker symbols of the top NASDAQ constituents to be retrieved from the `Yahoo` finance API:"
   ]
  },
  {
   "cell_type": "code",
   "execution_count": 18,
   "metadata": {},
   "outputs": [],
   "source": [
    "symbols = ['MU', 'ISRG', 'TMUS', 'CME', 'ADP', 'INTU', 'BKNG', 'FISV', 'MDLZ', 'GILD', 'QCOM', 'SBUX', 'CHTR', 'TXN', 'AVGO', 'COST', 'PYPL', 'NFLX', 'NVDA', 'ADBE', 'PEP', 'CMCSA', 'CSCO', 'INTC', 'GOOGL', 'AMZN', 'AAPL', 'MSFT']"
   ]
  },
  {
   "cell_type": "markdown",
   "metadata": {},
   "source": [
    "Determine and print the number of defined NASDAQ constituents ticker symbols:"
   ]
  },
  {
   "cell_type": "code",
   "execution_count": 19,
   "metadata": {},
   "outputs": [
    {
     "data": {
      "text/plain": [
       "28"
      ]
     },
     "execution_count": 19,
     "metadata": {},
     "output_type": "execute_result"
    }
   ],
   "source": [
    "# determine number of input stock ticker symbols\n",
    "no_input_stocks = len(symbols)\n",
    "\n",
    "# print number of input stock ticker symboks\n",
    "no_input_stocks"
   ]
  },
  {
   "cell_type": "markdown",
   "metadata": {},
   "source": [
    "Iteratively download the **daily adjusted closing price data** of the defined NASDAQ constituents. Once downloaded we will add them to the stock data `Pandas` dataframe containing the QQQ market data that we initialized above:"
   ]
  },
  {
   "cell_type": "code",
   "execution_count": 20,
   "metadata": {},
   "outputs": [],
   "source": [
    "# iterate over distinct ticker symbols\n",
    "for symbol in symbols:\n",
    "    \n",
    "    # retrieve market data of current ticker symbol\n",
    "    symbol_data = dr.data.DataReader(symbol, data_source='yahoo', start=start_date, end=end_date)\n",
    "    \n",
    "    # collect the adjusted daily closing price of current ticker symbol\n",
    "    stock_data_price[symbol] = symbol_data['Adj Close']"
   ]
  },
  {
   "cell_type": "markdown",
   "metadata": {},
   "source": [
    "Inspect the first 10 rows of the retrieved NASDAQ constituents daily adjusted closing price data:"
   ]
  },
  {
   "cell_type": "code",
   "execution_count": 21,
   "metadata": {},
   "outputs": [
    {
     "data": {
      "text/html": [
       "<div>\n",
       "<style scoped>\n",
       "    .dataframe tbody tr th:only-of-type {\n",
       "        vertical-align: middle;\n",
       "    }\n",
       "\n",
       "    .dataframe tbody tr th {\n",
       "        vertical-align: top;\n",
       "    }\n",
       "\n",
       "    .dataframe thead th {\n",
       "        text-align: right;\n",
       "    }\n",
       "</style>\n",
       "<table border=\"1\" class=\"dataframe\">\n",
       "  <thead>\n",
       "    <tr style=\"text-align: right;\">\n",
       "      <th></th>\n",
       "      <th>QQQ</th>\n",
       "      <th>MU</th>\n",
       "      <th>ISRG</th>\n",
       "      <th>TMUS</th>\n",
       "      <th>CME</th>\n",
       "      <th>ADP</th>\n",
       "      <th>INTU</th>\n",
       "      <th>BKNG</th>\n",
       "      <th>FISV</th>\n",
       "      <th>MDLZ</th>\n",
       "      <th>...</th>\n",
       "      <th>NVDA</th>\n",
       "      <th>ADBE</th>\n",
       "      <th>PEP</th>\n",
       "      <th>CMCSA</th>\n",
       "      <th>CSCO</th>\n",
       "      <th>INTC</th>\n",
       "      <th>GOOGL</th>\n",
       "      <th>AMZN</th>\n",
       "      <th>AAPL</th>\n",
       "      <th>MSFT</th>\n",
       "    </tr>\n",
       "    <tr>\n",
       "      <th>Date</th>\n",
       "      <th></th>\n",
       "      <th></th>\n",
       "      <th></th>\n",
       "      <th></th>\n",
       "      <th></th>\n",
       "      <th></th>\n",
       "      <th></th>\n",
       "      <th></th>\n",
       "      <th></th>\n",
       "      <th></th>\n",
       "      <th></th>\n",
       "      <th></th>\n",
       "      <th></th>\n",
       "      <th></th>\n",
       "      <th></th>\n",
       "      <th></th>\n",
       "      <th></th>\n",
       "      <th></th>\n",
       "      <th></th>\n",
       "      <th></th>\n",
       "      <th></th>\n",
       "    </tr>\n",
       "  </thead>\n",
       "  <tbody>\n",
       "    <tr>\n",
       "      <th>2010-01-04</th>\n",
       "      <td>41.570904</td>\n",
       "      <td>10.85</td>\n",
       "      <td>102.923332</td>\n",
       "      <td>13.207044</td>\n",
       "      <td>44.038776</td>\n",
       "      <td>28.546648</td>\n",
       "      <td>28.015366</td>\n",
       "      <td>223.960007</td>\n",
       "      <td>12.3575</td>\n",
       "      <td>14.167932</td>\n",
       "      <td>...</td>\n",
       "      <td>16.999943</td>\n",
       "      <td>37.090000</td>\n",
       "      <td>44.292305</td>\n",
       "      <td>6.894205</td>\n",
       "      <td>18.463966</td>\n",
       "      <td>14.954695</td>\n",
       "      <td>313.688690</td>\n",
       "      <td>133.899994</td>\n",
       "      <td>6.593423</td>\n",
       "      <td>24.105360</td>\n",
       "    </tr>\n",
       "    <tr>\n",
       "      <th>2010-01-05</th>\n",
       "      <td>41.570904</td>\n",
       "      <td>11.17</td>\n",
       "      <td>102.459999</td>\n",
       "      <td>13.240186</td>\n",
       "      <td>44.002773</td>\n",
       "      <td>28.393362</td>\n",
       "      <td>28.015366</td>\n",
       "      <td>226.559998</td>\n",
       "      <td>12.4100</td>\n",
       "      <td>14.860062</td>\n",
       "      <td>...</td>\n",
       "      <td>17.248186</td>\n",
       "      <td>37.700001</td>\n",
       "      <td>44.827515</td>\n",
       "      <td>6.800767</td>\n",
       "      <td>18.381708</td>\n",
       "      <td>14.947535</td>\n",
       "      <td>312.307312</td>\n",
       "      <td>134.690002</td>\n",
       "      <td>6.604822</td>\n",
       "      <td>24.113148</td>\n",
       "    </tr>\n",
       "    <tr>\n",
       "      <th>2010-01-06</th>\n",
       "      <td>41.320183</td>\n",
       "      <td>11.22</td>\n",
       "      <td>103.946671</td>\n",
       "      <td>12.345354</td>\n",
       "      <td>43.704395</td>\n",
       "      <td>28.326714</td>\n",
       "      <td>27.624369</td>\n",
       "      <td>219.080002</td>\n",
       "      <td>12.3575</td>\n",
       "      <td>14.963362</td>\n",
       "      <td>...</td>\n",
       "      <td>17.358511</td>\n",
       "      <td>37.619999</td>\n",
       "      <td>44.379101</td>\n",
       "      <td>6.752012</td>\n",
       "      <td>18.262053</td>\n",
       "      <td>14.897401</td>\n",
       "      <td>304.434448</td>\n",
       "      <td>132.250000</td>\n",
       "      <td>6.499765</td>\n",
       "      <td>23.965164</td>\n",
       "    </tr>\n",
       "    <tr>\n",
       "      <th>2010-01-07</th>\n",
       "      <td>41.347046</td>\n",
       "      <td>10.84</td>\n",
       "      <td>103.556664</td>\n",
       "      <td>12.461351</td>\n",
       "      <td>43.758408</td>\n",
       "      <td>28.313377</td>\n",
       "      <td>27.533443</td>\n",
       "      <td>216.130005</td>\n",
       "      <td>12.3000</td>\n",
       "      <td>14.927206</td>\n",
       "      <td>...</td>\n",
       "      <td>17.018332</td>\n",
       "      <td>36.889999</td>\n",
       "      <td>44.097023</td>\n",
       "      <td>6.894205</td>\n",
       "      <td>18.344311</td>\n",
       "      <td>14.754156</td>\n",
       "      <td>297.347351</td>\n",
       "      <td>130.000000</td>\n",
       "      <td>6.487749</td>\n",
       "      <td>23.715933</td>\n",
       "    </tr>\n",
       "    <tr>\n",
       "      <th>2010-01-08</th>\n",
       "      <td>41.687347</td>\n",
       "      <td>11.10</td>\n",
       "      <td>102.986664</td>\n",
       "      <td>11.765371</td>\n",
       "      <td>44.927525</td>\n",
       "      <td>28.273378</td>\n",
       "      <td>28.260878</td>\n",
       "      <td>216.210007</td>\n",
       "      <td>12.1625</td>\n",
       "      <td>14.942701</td>\n",
       "      <td>...</td>\n",
       "      <td>17.055109</td>\n",
       "      <td>36.689999</td>\n",
       "      <td>43.952370</td>\n",
       "      <td>6.873890</td>\n",
       "      <td>18.441526</td>\n",
       "      <td>14.918890</td>\n",
       "      <td>301.311310</td>\n",
       "      <td>133.520004</td>\n",
       "      <td>6.530882</td>\n",
       "      <td>23.879499</td>\n",
       "    </tr>\n",
       "    <tr>\n",
       "      <th>2010-01-11</th>\n",
       "      <td>41.517189</td>\n",
       "      <td>10.90</td>\n",
       "      <td>103.763336</td>\n",
       "      <td>11.914511</td>\n",
       "      <td>44.918518</td>\n",
       "      <td>28.400021</td>\n",
       "      <td>28.388178</td>\n",
       "      <td>218.910004</td>\n",
       "      <td>12.2275</td>\n",
       "      <td>14.875555</td>\n",
       "      <td>...</td>\n",
       "      <td>16.816057</td>\n",
       "      <td>36.209999</td>\n",
       "      <td>43.901749</td>\n",
       "      <td>6.829206</td>\n",
       "      <td>18.389183</td>\n",
       "      <td>15.004833</td>\n",
       "      <td>300.855865</td>\n",
       "      <td>130.309998</td>\n",
       "      <td>6.473268</td>\n",
       "      <td>23.575750</td>\n",
       "    </tr>\n",
       "    <tr>\n",
       "      <th>2010-01-12</th>\n",
       "      <td>40.997784</td>\n",
       "      <td>10.26</td>\n",
       "      <td>101.463333</td>\n",
       "      <td>10.522551</td>\n",
       "      <td>44.007900</td>\n",
       "      <td>28.200068</td>\n",
       "      <td>28.388178</td>\n",
       "      <td>213.979996</td>\n",
       "      <td>12.1200</td>\n",
       "      <td>15.128645</td>\n",
       "      <td>...</td>\n",
       "      <td>16.246025</td>\n",
       "      <td>35.660000</td>\n",
       "      <td>44.516521</td>\n",
       "      <td>6.707326</td>\n",
       "      <td>18.097532</td>\n",
       "      <td>14.761323</td>\n",
       "      <td>295.535522</td>\n",
       "      <td>127.349998</td>\n",
       "      <td>6.399635</td>\n",
       "      <td>23.419973</td>\n",
       "    </tr>\n",
       "    <tr>\n",
       "      <th>2010-01-13</th>\n",
       "      <td>41.508217</td>\n",
       "      <td>10.46</td>\n",
       "      <td>102.013336</td>\n",
       "      <td>10.489408</td>\n",
       "      <td>44.144257</td>\n",
       "      <td>28.406679</td>\n",
       "      <td>28.715527</td>\n",
       "      <td>214.300003</td>\n",
       "      <td>12.2225</td>\n",
       "      <td>15.097653</td>\n",
       "      <td>...</td>\n",
       "      <td>16.466686</td>\n",
       "      <td>36.279999</td>\n",
       "      <td>44.878143</td>\n",
       "      <td>6.812954</td>\n",
       "      <td>18.426571</td>\n",
       "      <td>15.011992</td>\n",
       "      <td>293.838837</td>\n",
       "      <td>129.110001</td>\n",
       "      <td>6.489905</td>\n",
       "      <td>23.638054</td>\n",
       "    </tr>\n",
       "    <tr>\n",
       "      <th>2010-01-14</th>\n",
       "      <td>41.544056</td>\n",
       "      <td>10.73</td>\n",
       "      <td>102.666664</td>\n",
       "      <td>10.323699</td>\n",
       "      <td>43.953918</td>\n",
       "      <td>28.326714</td>\n",
       "      <td>28.897388</td>\n",
       "      <td>208.770004</td>\n",
       "      <td>12.1875</td>\n",
       "      <td>15.040841</td>\n",
       "      <td>...</td>\n",
       "      <td>16.209249</td>\n",
       "      <td>35.900002</td>\n",
       "      <td>45.420586</td>\n",
       "      <td>6.772330</td>\n",
       "      <td>18.658400</td>\n",
       "      <td>15.384431</td>\n",
       "      <td>295.220215</td>\n",
       "      <td>127.349998</td>\n",
       "      <td>6.452318</td>\n",
       "      <td>24.113148</td>\n",
       "    </tr>\n",
       "    <tr>\n",
       "      <th>2010-01-15</th>\n",
       "      <td>41.060459</td>\n",
       "      <td>10.13</td>\n",
       "      <td>102.860001</td>\n",
       "      <td>10.472838</td>\n",
       "      <td>43.373848</td>\n",
       "      <td>28.173401</td>\n",
       "      <td>28.606413</td>\n",
       "      <td>208.770004</td>\n",
       "      <td>11.9850</td>\n",
       "      <td>15.278432</td>\n",
       "      <td>...</td>\n",
       "      <td>15.731152</td>\n",
       "      <td>35.869999</td>\n",
       "      <td>45.051723</td>\n",
       "      <td>6.756077</td>\n",
       "      <td>18.247099</td>\n",
       "      <td>14.897401</td>\n",
       "      <td>290.290283</td>\n",
       "      <td>127.139999</td>\n",
       "      <td>6.344487</td>\n",
       "      <td>24.035263</td>\n",
       "    </tr>\n",
       "  </tbody>\n",
       "</table>\n",
       "<p>10 rows × 29 columns</p>\n",
       "</div>"
      ],
      "text/plain": [
       "                  QQQ     MU        ISRG       TMUS        CME        ADP  \\\n",
       "Date                                                                        \n",
       "2010-01-04  41.570904  10.85  102.923332  13.207044  44.038776  28.546648   \n",
       "2010-01-05  41.570904  11.17  102.459999  13.240186  44.002773  28.393362   \n",
       "2010-01-06  41.320183  11.22  103.946671  12.345354  43.704395  28.326714   \n",
       "2010-01-07  41.347046  10.84  103.556664  12.461351  43.758408  28.313377   \n",
       "2010-01-08  41.687347  11.10  102.986664  11.765371  44.927525  28.273378   \n",
       "2010-01-11  41.517189  10.90  103.763336  11.914511  44.918518  28.400021   \n",
       "2010-01-12  40.997784  10.26  101.463333  10.522551  44.007900  28.200068   \n",
       "2010-01-13  41.508217  10.46  102.013336  10.489408  44.144257  28.406679   \n",
       "2010-01-14  41.544056  10.73  102.666664  10.323699  43.953918  28.326714   \n",
       "2010-01-15  41.060459  10.13  102.860001  10.472838  43.373848  28.173401   \n",
       "\n",
       "                 INTU        BKNG     FISV       MDLZ  ...       NVDA  \\\n",
       "Date                                                   ...              \n",
       "2010-01-04  28.015366  223.960007  12.3575  14.167932  ...  16.999943   \n",
       "2010-01-05  28.015366  226.559998  12.4100  14.860062  ...  17.248186   \n",
       "2010-01-06  27.624369  219.080002  12.3575  14.963362  ...  17.358511   \n",
       "2010-01-07  27.533443  216.130005  12.3000  14.927206  ...  17.018332   \n",
       "2010-01-08  28.260878  216.210007  12.1625  14.942701  ...  17.055109   \n",
       "2010-01-11  28.388178  218.910004  12.2275  14.875555  ...  16.816057   \n",
       "2010-01-12  28.388178  213.979996  12.1200  15.128645  ...  16.246025   \n",
       "2010-01-13  28.715527  214.300003  12.2225  15.097653  ...  16.466686   \n",
       "2010-01-14  28.897388  208.770004  12.1875  15.040841  ...  16.209249   \n",
       "2010-01-15  28.606413  208.770004  11.9850  15.278432  ...  15.731152   \n",
       "\n",
       "                 ADBE        PEP     CMCSA       CSCO       INTC       GOOGL  \\\n",
       "Date                                                                           \n",
       "2010-01-04  37.090000  44.292305  6.894205  18.463966  14.954695  313.688690   \n",
       "2010-01-05  37.700001  44.827515  6.800767  18.381708  14.947535  312.307312   \n",
       "2010-01-06  37.619999  44.379101  6.752012  18.262053  14.897401  304.434448   \n",
       "2010-01-07  36.889999  44.097023  6.894205  18.344311  14.754156  297.347351   \n",
       "2010-01-08  36.689999  43.952370  6.873890  18.441526  14.918890  301.311310   \n",
       "2010-01-11  36.209999  43.901749  6.829206  18.389183  15.004833  300.855865   \n",
       "2010-01-12  35.660000  44.516521  6.707326  18.097532  14.761323  295.535522   \n",
       "2010-01-13  36.279999  44.878143  6.812954  18.426571  15.011992  293.838837   \n",
       "2010-01-14  35.900002  45.420586  6.772330  18.658400  15.384431  295.220215   \n",
       "2010-01-15  35.869999  45.051723  6.756077  18.247099  14.897401  290.290283   \n",
       "\n",
       "                  AMZN      AAPL       MSFT  \n",
       "Date                                         \n",
       "2010-01-04  133.899994  6.593423  24.105360  \n",
       "2010-01-05  134.690002  6.604822  24.113148  \n",
       "2010-01-06  132.250000  6.499765  23.965164  \n",
       "2010-01-07  130.000000  6.487749  23.715933  \n",
       "2010-01-08  133.520004  6.530882  23.879499  \n",
       "2010-01-11  130.309998  6.473268  23.575750  \n",
       "2010-01-12  127.349998  6.399635  23.419973  \n",
       "2010-01-13  129.110001  6.489905  23.638054  \n",
       "2010-01-14  127.349998  6.452318  24.113148  \n",
       "2010-01-15  127.139999  6.344487  24.035263  \n",
       "\n",
       "[10 rows x 29 columns]"
      ]
     },
     "execution_count": 21,
     "metadata": {},
     "output_type": "execute_result"
    }
   ],
   "source": [
    "stock_data_price.head(10)"
   ]
  },
  {
   "cell_type": "markdown",
   "metadata": {},
   "source": [
    "Save the retrieved NASDAQ constituents daily adjusted closing price data the local data directory:"
   ]
  },
  {
   "cell_type": "code",
   "execution_count": 22,
   "metadata": {},
   "outputs": [],
   "source": [
    "# define the filename of the data to be saved\n",
    "filename = 'qqq_nasdaq_30_daily_closing.csv'\n",
    "\n",
    "# save retrieved data to local data directory\n",
    "stock_data_price.to_csv(os.path.join(data_directory, filename), sep=';', encoding='utf-8')"
   ]
  },
  {
   "cell_type": "markdown",
   "metadata": {},
   "source": [
    "### 2. Data Pre-Processing"
   ]
  },
  {
   "cell_type": "markdown",
   "metadata": {},
   "source": [
    "In this section, we will obtain daily returns of the retrieved daily closing prices. Also, we will convert the time-series of daily returns into a set of sequences $s$ of $n$ time steps respectively. The created sequences will then be used to learn a model using an Long Short-Term Memory neural network."
   ]
  },
  {
   "cell_type": "markdown",
   "metadata": {},
   "source": [
    "#### 2.1 Missing Data Padding"
   ]
  },
  {
   "cell_type": "markdown",
   "metadata": {},
   "source": [
    "Let's always forward propagate the last valid available price information observation to the next available valid price information using the Panda's `reindex()` function. This in order to also obtain market price information of weekend's and holidays: "
   ]
  },
  {
   "cell_type": "code",
   "execution_count": 23,
   "metadata": {},
   "outputs": [],
   "source": [
    "# fill weekends and holidays\n",
    "stock_data_price = stock_data_price.reindex(index=pd.date_range(stock_data_price.index.min(), stock_data_price.index.max()), method='ffill')"
   ]
  },
  {
   "cell_type": "markdown",
   "metadata": {},
   "source": [
    "Inspect the top padded stock market data records of the QQQ and the underlying NASDAQ Top 28 constituents:"
   ]
  },
  {
   "cell_type": "code",
   "execution_count": 24,
   "metadata": {},
   "outputs": [
    {
     "data": {
      "text/html": [
       "<div>\n",
       "<style scoped>\n",
       "    .dataframe tbody tr th:only-of-type {\n",
       "        vertical-align: middle;\n",
       "    }\n",
       "\n",
       "    .dataframe tbody tr th {\n",
       "        vertical-align: top;\n",
       "    }\n",
       "\n",
       "    .dataframe thead th {\n",
       "        text-align: right;\n",
       "    }\n",
       "</style>\n",
       "<table border=\"1\" class=\"dataframe\">\n",
       "  <thead>\n",
       "    <tr style=\"text-align: right;\">\n",
       "      <th></th>\n",
       "      <th>QQQ</th>\n",
       "      <th>MU</th>\n",
       "      <th>ISRG</th>\n",
       "      <th>TMUS</th>\n",
       "      <th>CME</th>\n",
       "      <th>ADP</th>\n",
       "      <th>INTU</th>\n",
       "      <th>BKNG</th>\n",
       "      <th>FISV</th>\n",
       "      <th>MDLZ</th>\n",
       "      <th>...</th>\n",
       "      <th>NVDA</th>\n",
       "      <th>ADBE</th>\n",
       "      <th>PEP</th>\n",
       "      <th>CMCSA</th>\n",
       "      <th>CSCO</th>\n",
       "      <th>INTC</th>\n",
       "      <th>GOOGL</th>\n",
       "      <th>AMZN</th>\n",
       "      <th>AAPL</th>\n",
       "      <th>MSFT</th>\n",
       "    </tr>\n",
       "  </thead>\n",
       "  <tbody>\n",
       "    <tr>\n",
       "      <th>2010-01-04</th>\n",
       "      <td>41.570904</td>\n",
       "      <td>10.85</td>\n",
       "      <td>102.923332</td>\n",
       "      <td>13.207044</td>\n",
       "      <td>44.038776</td>\n",
       "      <td>28.546648</td>\n",
       "      <td>28.015366</td>\n",
       "      <td>223.960007</td>\n",
       "      <td>12.3575</td>\n",
       "      <td>14.167932</td>\n",
       "      <td>...</td>\n",
       "      <td>16.999943</td>\n",
       "      <td>37.090000</td>\n",
       "      <td>44.292305</td>\n",
       "      <td>6.894205</td>\n",
       "      <td>18.463966</td>\n",
       "      <td>14.954695</td>\n",
       "      <td>313.688690</td>\n",
       "      <td>133.899994</td>\n",
       "      <td>6.593423</td>\n",
       "      <td>24.105360</td>\n",
       "    </tr>\n",
       "    <tr>\n",
       "      <th>2010-01-05</th>\n",
       "      <td>41.570904</td>\n",
       "      <td>11.17</td>\n",
       "      <td>102.459999</td>\n",
       "      <td>13.240186</td>\n",
       "      <td>44.002773</td>\n",
       "      <td>28.393362</td>\n",
       "      <td>28.015366</td>\n",
       "      <td>226.559998</td>\n",
       "      <td>12.4100</td>\n",
       "      <td>14.860062</td>\n",
       "      <td>...</td>\n",
       "      <td>17.248186</td>\n",
       "      <td>37.700001</td>\n",
       "      <td>44.827515</td>\n",
       "      <td>6.800767</td>\n",
       "      <td>18.381708</td>\n",
       "      <td>14.947535</td>\n",
       "      <td>312.307312</td>\n",
       "      <td>134.690002</td>\n",
       "      <td>6.604822</td>\n",
       "      <td>24.113148</td>\n",
       "    </tr>\n",
       "    <tr>\n",
       "      <th>2010-01-06</th>\n",
       "      <td>41.320183</td>\n",
       "      <td>11.22</td>\n",
       "      <td>103.946671</td>\n",
       "      <td>12.345354</td>\n",
       "      <td>43.704395</td>\n",
       "      <td>28.326714</td>\n",
       "      <td>27.624369</td>\n",
       "      <td>219.080002</td>\n",
       "      <td>12.3575</td>\n",
       "      <td>14.963362</td>\n",
       "      <td>...</td>\n",
       "      <td>17.358511</td>\n",
       "      <td>37.619999</td>\n",
       "      <td>44.379101</td>\n",
       "      <td>6.752012</td>\n",
       "      <td>18.262053</td>\n",
       "      <td>14.897401</td>\n",
       "      <td>304.434448</td>\n",
       "      <td>132.250000</td>\n",
       "      <td>6.499765</td>\n",
       "      <td>23.965164</td>\n",
       "    </tr>\n",
       "    <tr>\n",
       "      <th>2010-01-07</th>\n",
       "      <td>41.347046</td>\n",
       "      <td>10.84</td>\n",
       "      <td>103.556664</td>\n",
       "      <td>12.461351</td>\n",
       "      <td>43.758408</td>\n",
       "      <td>28.313377</td>\n",
       "      <td>27.533443</td>\n",
       "      <td>216.130005</td>\n",
       "      <td>12.3000</td>\n",
       "      <td>14.927206</td>\n",
       "      <td>...</td>\n",
       "      <td>17.018332</td>\n",
       "      <td>36.889999</td>\n",
       "      <td>44.097023</td>\n",
       "      <td>6.894205</td>\n",
       "      <td>18.344311</td>\n",
       "      <td>14.754156</td>\n",
       "      <td>297.347351</td>\n",
       "      <td>130.000000</td>\n",
       "      <td>6.487749</td>\n",
       "      <td>23.715933</td>\n",
       "    </tr>\n",
       "    <tr>\n",
       "      <th>2010-01-08</th>\n",
       "      <td>41.687347</td>\n",
       "      <td>11.10</td>\n",
       "      <td>102.986664</td>\n",
       "      <td>11.765371</td>\n",
       "      <td>44.927525</td>\n",
       "      <td>28.273378</td>\n",
       "      <td>28.260878</td>\n",
       "      <td>216.210007</td>\n",
       "      <td>12.1625</td>\n",
       "      <td>14.942701</td>\n",
       "      <td>...</td>\n",
       "      <td>17.055109</td>\n",
       "      <td>36.689999</td>\n",
       "      <td>43.952370</td>\n",
       "      <td>6.873890</td>\n",
       "      <td>18.441526</td>\n",
       "      <td>14.918890</td>\n",
       "      <td>301.311310</td>\n",
       "      <td>133.520004</td>\n",
       "      <td>6.530882</td>\n",
       "      <td>23.879499</td>\n",
       "    </tr>\n",
       "    <tr>\n",
       "      <th>2010-01-09</th>\n",
       "      <td>41.687347</td>\n",
       "      <td>11.10</td>\n",
       "      <td>102.986664</td>\n",
       "      <td>11.765371</td>\n",
       "      <td>44.927525</td>\n",
       "      <td>28.273378</td>\n",
       "      <td>28.260878</td>\n",
       "      <td>216.210007</td>\n",
       "      <td>12.1625</td>\n",
       "      <td>14.942701</td>\n",
       "      <td>...</td>\n",
       "      <td>17.055109</td>\n",
       "      <td>36.689999</td>\n",
       "      <td>43.952370</td>\n",
       "      <td>6.873890</td>\n",
       "      <td>18.441526</td>\n",
       "      <td>14.918890</td>\n",
       "      <td>301.311310</td>\n",
       "      <td>133.520004</td>\n",
       "      <td>6.530882</td>\n",
       "      <td>23.879499</td>\n",
       "    </tr>\n",
       "    <tr>\n",
       "      <th>2010-01-10</th>\n",
       "      <td>41.687347</td>\n",
       "      <td>11.10</td>\n",
       "      <td>102.986664</td>\n",
       "      <td>11.765371</td>\n",
       "      <td>44.927525</td>\n",
       "      <td>28.273378</td>\n",
       "      <td>28.260878</td>\n",
       "      <td>216.210007</td>\n",
       "      <td>12.1625</td>\n",
       "      <td>14.942701</td>\n",
       "      <td>...</td>\n",
       "      <td>17.055109</td>\n",
       "      <td>36.689999</td>\n",
       "      <td>43.952370</td>\n",
       "      <td>6.873890</td>\n",
       "      <td>18.441526</td>\n",
       "      <td>14.918890</td>\n",
       "      <td>301.311310</td>\n",
       "      <td>133.520004</td>\n",
       "      <td>6.530882</td>\n",
       "      <td>23.879499</td>\n",
       "    </tr>\n",
       "    <tr>\n",
       "      <th>2010-01-11</th>\n",
       "      <td>41.517189</td>\n",
       "      <td>10.90</td>\n",
       "      <td>103.763336</td>\n",
       "      <td>11.914511</td>\n",
       "      <td>44.918518</td>\n",
       "      <td>28.400021</td>\n",
       "      <td>28.388178</td>\n",
       "      <td>218.910004</td>\n",
       "      <td>12.2275</td>\n",
       "      <td>14.875555</td>\n",
       "      <td>...</td>\n",
       "      <td>16.816057</td>\n",
       "      <td>36.209999</td>\n",
       "      <td>43.901749</td>\n",
       "      <td>6.829206</td>\n",
       "      <td>18.389183</td>\n",
       "      <td>15.004833</td>\n",
       "      <td>300.855865</td>\n",
       "      <td>130.309998</td>\n",
       "      <td>6.473268</td>\n",
       "      <td>23.575750</td>\n",
       "    </tr>\n",
       "    <tr>\n",
       "      <th>2010-01-12</th>\n",
       "      <td>40.997784</td>\n",
       "      <td>10.26</td>\n",
       "      <td>101.463333</td>\n",
       "      <td>10.522551</td>\n",
       "      <td>44.007900</td>\n",
       "      <td>28.200068</td>\n",
       "      <td>28.388178</td>\n",
       "      <td>213.979996</td>\n",
       "      <td>12.1200</td>\n",
       "      <td>15.128645</td>\n",
       "      <td>...</td>\n",
       "      <td>16.246025</td>\n",
       "      <td>35.660000</td>\n",
       "      <td>44.516521</td>\n",
       "      <td>6.707326</td>\n",
       "      <td>18.097532</td>\n",
       "      <td>14.761323</td>\n",
       "      <td>295.535522</td>\n",
       "      <td>127.349998</td>\n",
       "      <td>6.399635</td>\n",
       "      <td>23.419973</td>\n",
       "    </tr>\n",
       "    <tr>\n",
       "      <th>2010-01-13</th>\n",
       "      <td>41.508217</td>\n",
       "      <td>10.46</td>\n",
       "      <td>102.013336</td>\n",
       "      <td>10.489408</td>\n",
       "      <td>44.144257</td>\n",
       "      <td>28.406679</td>\n",
       "      <td>28.715527</td>\n",
       "      <td>214.300003</td>\n",
       "      <td>12.2225</td>\n",
       "      <td>15.097653</td>\n",
       "      <td>...</td>\n",
       "      <td>16.466686</td>\n",
       "      <td>36.279999</td>\n",
       "      <td>44.878143</td>\n",
       "      <td>6.812954</td>\n",
       "      <td>18.426571</td>\n",
       "      <td>15.011992</td>\n",
       "      <td>293.838837</td>\n",
       "      <td>129.110001</td>\n",
       "      <td>6.489905</td>\n",
       "      <td>23.638054</td>\n",
       "    </tr>\n",
       "  </tbody>\n",
       "</table>\n",
       "<p>10 rows × 29 columns</p>\n",
       "</div>"
      ],
      "text/plain": [
       "                  QQQ     MU        ISRG       TMUS        CME        ADP  \\\n",
       "2010-01-04  41.570904  10.85  102.923332  13.207044  44.038776  28.546648   \n",
       "2010-01-05  41.570904  11.17  102.459999  13.240186  44.002773  28.393362   \n",
       "2010-01-06  41.320183  11.22  103.946671  12.345354  43.704395  28.326714   \n",
       "2010-01-07  41.347046  10.84  103.556664  12.461351  43.758408  28.313377   \n",
       "2010-01-08  41.687347  11.10  102.986664  11.765371  44.927525  28.273378   \n",
       "2010-01-09  41.687347  11.10  102.986664  11.765371  44.927525  28.273378   \n",
       "2010-01-10  41.687347  11.10  102.986664  11.765371  44.927525  28.273378   \n",
       "2010-01-11  41.517189  10.90  103.763336  11.914511  44.918518  28.400021   \n",
       "2010-01-12  40.997784  10.26  101.463333  10.522551  44.007900  28.200068   \n",
       "2010-01-13  41.508217  10.46  102.013336  10.489408  44.144257  28.406679   \n",
       "\n",
       "                 INTU        BKNG     FISV       MDLZ  ...       NVDA  \\\n",
       "2010-01-04  28.015366  223.960007  12.3575  14.167932  ...  16.999943   \n",
       "2010-01-05  28.015366  226.559998  12.4100  14.860062  ...  17.248186   \n",
       "2010-01-06  27.624369  219.080002  12.3575  14.963362  ...  17.358511   \n",
       "2010-01-07  27.533443  216.130005  12.3000  14.927206  ...  17.018332   \n",
       "2010-01-08  28.260878  216.210007  12.1625  14.942701  ...  17.055109   \n",
       "2010-01-09  28.260878  216.210007  12.1625  14.942701  ...  17.055109   \n",
       "2010-01-10  28.260878  216.210007  12.1625  14.942701  ...  17.055109   \n",
       "2010-01-11  28.388178  218.910004  12.2275  14.875555  ...  16.816057   \n",
       "2010-01-12  28.388178  213.979996  12.1200  15.128645  ...  16.246025   \n",
       "2010-01-13  28.715527  214.300003  12.2225  15.097653  ...  16.466686   \n",
       "\n",
       "                 ADBE        PEP     CMCSA       CSCO       INTC       GOOGL  \\\n",
       "2010-01-04  37.090000  44.292305  6.894205  18.463966  14.954695  313.688690   \n",
       "2010-01-05  37.700001  44.827515  6.800767  18.381708  14.947535  312.307312   \n",
       "2010-01-06  37.619999  44.379101  6.752012  18.262053  14.897401  304.434448   \n",
       "2010-01-07  36.889999  44.097023  6.894205  18.344311  14.754156  297.347351   \n",
       "2010-01-08  36.689999  43.952370  6.873890  18.441526  14.918890  301.311310   \n",
       "2010-01-09  36.689999  43.952370  6.873890  18.441526  14.918890  301.311310   \n",
       "2010-01-10  36.689999  43.952370  6.873890  18.441526  14.918890  301.311310   \n",
       "2010-01-11  36.209999  43.901749  6.829206  18.389183  15.004833  300.855865   \n",
       "2010-01-12  35.660000  44.516521  6.707326  18.097532  14.761323  295.535522   \n",
       "2010-01-13  36.279999  44.878143  6.812954  18.426571  15.011992  293.838837   \n",
       "\n",
       "                  AMZN      AAPL       MSFT  \n",
       "2010-01-04  133.899994  6.593423  24.105360  \n",
       "2010-01-05  134.690002  6.604822  24.113148  \n",
       "2010-01-06  132.250000  6.499765  23.965164  \n",
       "2010-01-07  130.000000  6.487749  23.715933  \n",
       "2010-01-08  133.520004  6.530882  23.879499  \n",
       "2010-01-09  133.520004  6.530882  23.879499  \n",
       "2010-01-10  133.520004  6.530882  23.879499  \n",
       "2010-01-11  130.309998  6.473268  23.575750  \n",
       "2010-01-12  127.349998  6.399635  23.419973  \n",
       "2010-01-13  129.110001  6.489905  23.638054  \n",
       "\n",
       "[10 rows x 29 columns]"
      ]
     },
     "execution_count": 24,
     "metadata": {},
     "output_type": "execute_result"
    }
   ],
   "source": [
    "stock_data_price.head(10)"
   ]
  },
  {
   "cell_type": "markdown",
   "metadata": {},
   "source": [
    "Also inspect the bottom padded stock market data of the QQQ and the underlying NASDAQ Top 28 constituents:"
   ]
  },
  {
   "cell_type": "code",
   "execution_count": 25,
   "metadata": {},
   "outputs": [
    {
     "data": {
      "text/html": [
       "<div>\n",
       "<style scoped>\n",
       "    .dataframe tbody tr th:only-of-type {\n",
       "        vertical-align: middle;\n",
       "    }\n",
       "\n",
       "    .dataframe tbody tr th {\n",
       "        vertical-align: top;\n",
       "    }\n",
       "\n",
       "    .dataframe thead th {\n",
       "        text-align: right;\n",
       "    }\n",
       "</style>\n",
       "<table border=\"1\" class=\"dataframe\">\n",
       "  <thead>\n",
       "    <tr style=\"text-align: right;\">\n",
       "      <th></th>\n",
       "      <th>QQQ</th>\n",
       "      <th>MU</th>\n",
       "      <th>ISRG</th>\n",
       "      <th>TMUS</th>\n",
       "      <th>CME</th>\n",
       "      <th>ADP</th>\n",
       "      <th>INTU</th>\n",
       "      <th>BKNG</th>\n",
       "      <th>FISV</th>\n",
       "      <th>MDLZ</th>\n",
       "      <th>...</th>\n",
       "      <th>NVDA</th>\n",
       "      <th>ADBE</th>\n",
       "      <th>PEP</th>\n",
       "      <th>CMCSA</th>\n",
       "      <th>CSCO</th>\n",
       "      <th>INTC</th>\n",
       "      <th>GOOGL</th>\n",
       "      <th>AMZN</th>\n",
       "      <th>AAPL</th>\n",
       "      <th>MSFT</th>\n",
       "    </tr>\n",
       "  </thead>\n",
       "  <tbody>\n",
       "    <tr>\n",
       "      <th>2019-12-22</th>\n",
       "      <td>210.056091</td>\n",
       "      <td>55.060001</td>\n",
       "      <td>591.309998</td>\n",
       "      <td>77.400002</td>\n",
       "      <td>193.713379</td>\n",
       "      <td>167.027359</td>\n",
       "      <td>264.660400</td>\n",
       "      <td>2023.260010</td>\n",
       "      <td>116.669998</td>\n",
       "      <td>53.881664</td>\n",
       "      <td>...</td>\n",
       "      <td>238.975662</td>\n",
       "      <td>327.609985</td>\n",
       "      <td>134.014557</td>\n",
       "      <td>42.926853</td>\n",
       "      <td>45.504459</td>\n",
       "      <td>57.519756</td>\n",
       "      <td>1351.219971</td>\n",
       "      <td>1786.500000</td>\n",
       "      <td>69.261856</td>\n",
       "      <td>155.759949</td>\n",
       "    </tr>\n",
       "    <tr>\n",
       "      <th>2019-12-23</th>\n",
       "      <td>210.610901</td>\n",
       "      <td>55.400002</td>\n",
       "      <td>597.419983</td>\n",
       "      <td>76.959999</td>\n",
       "      <td>194.440323</td>\n",
       "      <td>165.982773</td>\n",
       "      <td>263.847900</td>\n",
       "      <td>2032.099976</td>\n",
       "      <td>116.330002</td>\n",
       "      <td>53.230022</td>\n",
       "      <td>...</td>\n",
       "      <td>238.426590</td>\n",
       "      <td>328.950012</td>\n",
       "      <td>133.159470</td>\n",
       "      <td>42.936588</td>\n",
       "      <td>46.127808</td>\n",
       "      <td>57.792961</td>\n",
       "      <td>1350.630005</td>\n",
       "      <td>1793.000000</td>\n",
       "      <td>70.392090</td>\n",
       "      <td>155.759949</td>\n",
       "    </tr>\n",
       "    <tr>\n",
       "      <th>2019-12-24</th>\n",
       "      <td>210.720291</td>\n",
       "      <td>55.419998</td>\n",
       "      <td>598.809998</td>\n",
       "      <td>77.320000</td>\n",
       "      <td>194.516861</td>\n",
       "      <td>165.875381</td>\n",
       "      <td>261.915680</td>\n",
       "      <td>2044.000000</td>\n",
       "      <td>116.629997</td>\n",
       "      <td>53.482903</td>\n",
       "      <td>...</td>\n",
       "      <td>238.226913</td>\n",
       "      <td>329.640015</td>\n",
       "      <td>133.013718</td>\n",
       "      <td>43.355247</td>\n",
       "      <td>45.820923</td>\n",
       "      <td>57.968597</td>\n",
       "      <td>1344.430054</td>\n",
       "      <td>1789.209961</td>\n",
       "      <td>70.459007</td>\n",
       "      <td>155.730255</td>\n",
       "    </tr>\n",
       "    <tr>\n",
       "      <th>2019-12-25</th>\n",
       "      <td>210.720291</td>\n",
       "      <td>55.419998</td>\n",
       "      <td>598.809998</td>\n",
       "      <td>77.320000</td>\n",
       "      <td>194.516861</td>\n",
       "      <td>165.875381</td>\n",
       "      <td>261.915680</td>\n",
       "      <td>2044.000000</td>\n",
       "      <td>116.629997</td>\n",
       "      <td>53.482903</td>\n",
       "      <td>...</td>\n",
       "      <td>238.226913</td>\n",
       "      <td>329.640015</td>\n",
       "      <td>133.013718</td>\n",
       "      <td>43.355247</td>\n",
       "      <td>45.820923</td>\n",
       "      <td>57.968597</td>\n",
       "      <td>1344.430054</td>\n",
       "      <td>1789.209961</td>\n",
       "      <td>70.459007</td>\n",
       "      <td>155.730255</td>\n",
       "    </tr>\n",
       "    <tr>\n",
       "      <th>2019-12-26</th>\n",
       "      <td>212.579697</td>\n",
       "      <td>55.110001</td>\n",
       "      <td>598.039978</td>\n",
       "      <td>77.400002</td>\n",
       "      <td>194.991379</td>\n",
       "      <td>166.304932</td>\n",
       "      <td>264.432495</td>\n",
       "      <td>2064.320068</td>\n",
       "      <td>116.029999</td>\n",
       "      <td>53.346733</td>\n",
       "      <td>...</td>\n",
       "      <td>238.795975</td>\n",
       "      <td>331.200012</td>\n",
       "      <td>132.819397</td>\n",
       "      <td>43.783646</td>\n",
       "      <td>45.888054</td>\n",
       "      <td>58.368649</td>\n",
       "      <td>1362.469971</td>\n",
       "      <td>1868.770020</td>\n",
       "      <td>71.856941</td>\n",
       "      <td>157.006729</td>\n",
       "    </tr>\n",
       "    <tr>\n",
       "      <th>2019-12-27</th>\n",
       "      <td>212.400726</td>\n",
       "      <td>54.029999</td>\n",
       "      <td>597.880005</td>\n",
       "      <td>77.239998</td>\n",
       "      <td>196.376221</td>\n",
       "      <td>166.714981</td>\n",
       "      <td>264.620789</td>\n",
       "      <td>2072.540039</td>\n",
       "      <td>117.080002</td>\n",
       "      <td>53.764946</td>\n",
       "      <td>...</td>\n",
       "      <td>236.479767</td>\n",
       "      <td>330.790009</td>\n",
       "      <td>133.645325</td>\n",
       "      <td>43.910213</td>\n",
       "      <td>45.811337</td>\n",
       "      <td>58.622341</td>\n",
       "      <td>1354.640015</td>\n",
       "      <td>1869.800049</td>\n",
       "      <td>71.829674</td>\n",
       "      <td>157.293686</td>\n",
       "    </tr>\n",
       "    <tr>\n",
       "      <th>2019-12-28</th>\n",
       "      <td>212.400726</td>\n",
       "      <td>54.029999</td>\n",
       "      <td>597.880005</td>\n",
       "      <td>77.239998</td>\n",
       "      <td>196.376221</td>\n",
       "      <td>166.714981</td>\n",
       "      <td>264.620789</td>\n",
       "      <td>2072.540039</td>\n",
       "      <td>117.080002</td>\n",
       "      <td>53.764946</td>\n",
       "      <td>...</td>\n",
       "      <td>236.479767</td>\n",
       "      <td>330.790009</td>\n",
       "      <td>133.645325</td>\n",
       "      <td>43.910213</td>\n",
       "      <td>45.811337</td>\n",
       "      <td>58.622341</td>\n",
       "      <td>1354.640015</td>\n",
       "      <td>1869.800049</td>\n",
       "      <td>71.829674</td>\n",
       "      <td>157.293686</td>\n",
       "    </tr>\n",
       "    <tr>\n",
       "      <th>2019-12-29</th>\n",
       "      <td>212.400726</td>\n",
       "      <td>54.029999</td>\n",
       "      <td>597.880005</td>\n",
       "      <td>77.239998</td>\n",
       "      <td>196.376221</td>\n",
       "      <td>166.714981</td>\n",
       "      <td>264.620789</td>\n",
       "      <td>2072.540039</td>\n",
       "      <td>117.080002</td>\n",
       "      <td>53.764946</td>\n",
       "      <td>...</td>\n",
       "      <td>236.479767</td>\n",
       "      <td>330.790009</td>\n",
       "      <td>133.645325</td>\n",
       "      <td>43.910213</td>\n",
       "      <td>45.811337</td>\n",
       "      <td>58.622341</td>\n",
       "      <td>1354.640015</td>\n",
       "      <td>1869.800049</td>\n",
       "      <td>71.829674</td>\n",
       "      <td>157.293686</td>\n",
       "    </tr>\n",
       "    <tr>\n",
       "      <th>2019-12-30</th>\n",
       "      <td>211.008652</td>\n",
       "      <td>53.209999</td>\n",
       "      <td>591.320007</td>\n",
       "      <td>78.080002</td>\n",
       "      <td>192.889893</td>\n",
       "      <td>165.562988</td>\n",
       "      <td>260.439331</td>\n",
       "      <td>2053.870117</td>\n",
       "      <td>115.470001</td>\n",
       "      <td>53.769836</td>\n",
       "      <td>...</td>\n",
       "      <td>231.937271</td>\n",
       "      <td>328.339996</td>\n",
       "      <td>132.935989</td>\n",
       "      <td>43.988098</td>\n",
       "      <td>45.638714</td>\n",
       "      <td>58.173500</td>\n",
       "      <td>1339.709961</td>\n",
       "      <td>1846.890015</td>\n",
       "      <td>72.255997</td>\n",
       "      <td>155.938049</td>\n",
       "    </tr>\n",
       "    <tr>\n",
       "      <th>2019-12-31</th>\n",
       "      <td>211.406387</td>\n",
       "      <td>53.779999</td>\n",
       "      <td>591.150024</td>\n",
       "      <td>78.419998</td>\n",
       "      <td>194.381256</td>\n",
       "      <td>166.451370</td>\n",
       "      <td>259.537659</td>\n",
       "      <td>2053.729980</td>\n",
       "      <td>115.629997</td>\n",
       "      <td>53.848053</td>\n",
       "      <td>...</td>\n",
       "      <td>234.912384</td>\n",
       "      <td>329.809998</td>\n",
       "      <td>132.799957</td>\n",
       "      <td>43.783646</td>\n",
       "      <td>45.993546</td>\n",
       "      <td>58.397919</td>\n",
       "      <td>1339.390015</td>\n",
       "      <td>1847.839966</td>\n",
       "      <td>72.783936</td>\n",
       "      <td>156.046890</td>\n",
       "    </tr>\n",
       "  </tbody>\n",
       "</table>\n",
       "<p>10 rows × 29 columns</p>\n",
       "</div>"
      ],
      "text/plain": [
       "                   QQQ         MU        ISRG       TMUS         CME  \\\n",
       "2019-12-22  210.056091  55.060001  591.309998  77.400002  193.713379   \n",
       "2019-12-23  210.610901  55.400002  597.419983  76.959999  194.440323   \n",
       "2019-12-24  210.720291  55.419998  598.809998  77.320000  194.516861   \n",
       "2019-12-25  210.720291  55.419998  598.809998  77.320000  194.516861   \n",
       "2019-12-26  212.579697  55.110001  598.039978  77.400002  194.991379   \n",
       "2019-12-27  212.400726  54.029999  597.880005  77.239998  196.376221   \n",
       "2019-12-28  212.400726  54.029999  597.880005  77.239998  196.376221   \n",
       "2019-12-29  212.400726  54.029999  597.880005  77.239998  196.376221   \n",
       "2019-12-30  211.008652  53.209999  591.320007  78.080002  192.889893   \n",
       "2019-12-31  211.406387  53.779999  591.150024  78.419998  194.381256   \n",
       "\n",
       "                   ADP        INTU         BKNG        FISV       MDLZ  ...  \\\n",
       "2019-12-22  167.027359  264.660400  2023.260010  116.669998  53.881664  ...   \n",
       "2019-12-23  165.982773  263.847900  2032.099976  116.330002  53.230022  ...   \n",
       "2019-12-24  165.875381  261.915680  2044.000000  116.629997  53.482903  ...   \n",
       "2019-12-25  165.875381  261.915680  2044.000000  116.629997  53.482903  ...   \n",
       "2019-12-26  166.304932  264.432495  2064.320068  116.029999  53.346733  ...   \n",
       "2019-12-27  166.714981  264.620789  2072.540039  117.080002  53.764946  ...   \n",
       "2019-12-28  166.714981  264.620789  2072.540039  117.080002  53.764946  ...   \n",
       "2019-12-29  166.714981  264.620789  2072.540039  117.080002  53.764946  ...   \n",
       "2019-12-30  165.562988  260.439331  2053.870117  115.470001  53.769836  ...   \n",
       "2019-12-31  166.451370  259.537659  2053.729980  115.629997  53.848053  ...   \n",
       "\n",
       "                  NVDA        ADBE         PEP      CMCSA       CSCO  \\\n",
       "2019-12-22  238.975662  327.609985  134.014557  42.926853  45.504459   \n",
       "2019-12-23  238.426590  328.950012  133.159470  42.936588  46.127808   \n",
       "2019-12-24  238.226913  329.640015  133.013718  43.355247  45.820923   \n",
       "2019-12-25  238.226913  329.640015  133.013718  43.355247  45.820923   \n",
       "2019-12-26  238.795975  331.200012  132.819397  43.783646  45.888054   \n",
       "2019-12-27  236.479767  330.790009  133.645325  43.910213  45.811337   \n",
       "2019-12-28  236.479767  330.790009  133.645325  43.910213  45.811337   \n",
       "2019-12-29  236.479767  330.790009  133.645325  43.910213  45.811337   \n",
       "2019-12-30  231.937271  328.339996  132.935989  43.988098  45.638714   \n",
       "2019-12-31  234.912384  329.809998  132.799957  43.783646  45.993546   \n",
       "\n",
       "                 INTC        GOOGL         AMZN       AAPL        MSFT  \n",
       "2019-12-22  57.519756  1351.219971  1786.500000  69.261856  155.759949  \n",
       "2019-12-23  57.792961  1350.630005  1793.000000  70.392090  155.759949  \n",
       "2019-12-24  57.968597  1344.430054  1789.209961  70.459007  155.730255  \n",
       "2019-12-25  57.968597  1344.430054  1789.209961  70.459007  155.730255  \n",
       "2019-12-26  58.368649  1362.469971  1868.770020  71.856941  157.006729  \n",
       "2019-12-27  58.622341  1354.640015  1869.800049  71.829674  157.293686  \n",
       "2019-12-28  58.622341  1354.640015  1869.800049  71.829674  157.293686  \n",
       "2019-12-29  58.622341  1354.640015  1869.800049  71.829674  157.293686  \n",
       "2019-12-30  58.173500  1339.709961  1846.890015  72.255997  155.938049  \n",
       "2019-12-31  58.397919  1339.390015  1847.839966  72.783936  156.046890  \n",
       "\n",
       "[10 rows x 29 columns]"
      ]
     },
     "execution_count": 25,
     "metadata": {},
     "output_type": "execute_result"
    }
   ],
   "source": [
    "stock_data_price.tail(10)"
   ]
  },
  {
   "cell_type": "markdown",
   "metadata": {},
   "source": [
    "Inspect the number of records obtained after the data padding:"
   ]
  },
  {
   "cell_type": "code",
   "execution_count": 26,
   "metadata": {},
   "outputs": [
    {
     "data": {
      "text/plain": [
       "(3649, 29)"
      ]
     },
     "execution_count": 26,
     "metadata": {},
     "output_type": "execute_result"
    }
   ],
   "source": [
    "stock_data_price.shape"
   ]
  },
  {
   "cell_type": "markdown",
   "metadata": {},
   "source": [
    "#### 2.2 Daily Log-Return Calculation"
   ]
  },
  {
   "cell_type": "markdown",
   "metadata": {},
   "source": [
    "Determine the daily log-returns of the QQQ's daily adjusted closing prices using the `log` function of the `NumPy` library:"
   ]
  },
  {
   "cell_type": "code",
   "execution_count": 27,
   "metadata": {},
   "outputs": [],
   "source": [
    "# create deep copy of stock price data\n",
    "stock_data_return = stock_data_price.copy(deep=True)\n",
    "\n",
    "# compute the log-returns of the QQQ's daily adjusted closing prices\n",
    "stock_data_return['QQQ'] = np.log(stock_data_return['QQQ']) - np.log(stock_data_return['QQQ'].shift(1))"
   ]
  },
  {
   "cell_type": "markdown",
   "metadata": {},
   "source": [
    "Inspect the daily returns of the adjusted closing prices:"
   ]
  },
  {
   "cell_type": "code",
   "execution_count": 28,
   "metadata": {},
   "outputs": [
    {
     "data": {
      "text/html": [
       "<div>\n",
       "<style scoped>\n",
       "    .dataframe tbody tr th:only-of-type {\n",
       "        vertical-align: middle;\n",
       "    }\n",
       "\n",
       "    .dataframe tbody tr th {\n",
       "        vertical-align: top;\n",
       "    }\n",
       "\n",
       "    .dataframe thead th {\n",
       "        text-align: right;\n",
       "    }\n",
       "</style>\n",
       "<table border=\"1\" class=\"dataframe\">\n",
       "  <thead>\n",
       "    <tr style=\"text-align: right;\">\n",
       "      <th></th>\n",
       "      <th>QQQ</th>\n",
       "      <th>MU</th>\n",
       "      <th>ISRG</th>\n",
       "      <th>TMUS</th>\n",
       "      <th>CME</th>\n",
       "      <th>ADP</th>\n",
       "      <th>INTU</th>\n",
       "      <th>BKNG</th>\n",
       "      <th>FISV</th>\n",
       "      <th>MDLZ</th>\n",
       "      <th>...</th>\n",
       "      <th>NVDA</th>\n",
       "      <th>ADBE</th>\n",
       "      <th>PEP</th>\n",
       "      <th>CMCSA</th>\n",
       "      <th>CSCO</th>\n",
       "      <th>INTC</th>\n",
       "      <th>GOOGL</th>\n",
       "      <th>AMZN</th>\n",
       "      <th>AAPL</th>\n",
       "      <th>MSFT</th>\n",
       "    </tr>\n",
       "  </thead>\n",
       "  <tbody>\n",
       "    <tr>\n",
       "      <th>2010-01-04</th>\n",
       "      <td>NaN</td>\n",
       "      <td>10.85</td>\n",
       "      <td>102.923332</td>\n",
       "      <td>13.207044</td>\n",
       "      <td>44.038776</td>\n",
       "      <td>28.546648</td>\n",
       "      <td>28.015366</td>\n",
       "      <td>223.960007</td>\n",
       "      <td>12.3575</td>\n",
       "      <td>14.167932</td>\n",
       "      <td>...</td>\n",
       "      <td>16.999943</td>\n",
       "      <td>37.090000</td>\n",
       "      <td>44.292305</td>\n",
       "      <td>6.894205</td>\n",
       "      <td>18.463966</td>\n",
       "      <td>14.954695</td>\n",
       "      <td>313.688690</td>\n",
       "      <td>133.899994</td>\n",
       "      <td>6.593423</td>\n",
       "      <td>24.105360</td>\n",
       "    </tr>\n",
       "    <tr>\n",
       "      <th>2010-01-05</th>\n",
       "      <td>0.000000</td>\n",
       "      <td>11.17</td>\n",
       "      <td>102.459999</td>\n",
       "      <td>13.240186</td>\n",
       "      <td>44.002773</td>\n",
       "      <td>28.393362</td>\n",
       "      <td>28.015366</td>\n",
       "      <td>226.559998</td>\n",
       "      <td>12.4100</td>\n",
       "      <td>14.860062</td>\n",
       "      <td>...</td>\n",
       "      <td>17.248186</td>\n",
       "      <td>37.700001</td>\n",
       "      <td>44.827515</td>\n",
       "      <td>6.800767</td>\n",
       "      <td>18.381708</td>\n",
       "      <td>14.947535</td>\n",
       "      <td>312.307312</td>\n",
       "      <td>134.690002</td>\n",
       "      <td>6.604822</td>\n",
       "      <td>24.113148</td>\n",
       "    </tr>\n",
       "    <tr>\n",
       "      <th>2010-01-06</th>\n",
       "      <td>-0.006049</td>\n",
       "      <td>11.22</td>\n",
       "      <td>103.946671</td>\n",
       "      <td>12.345354</td>\n",
       "      <td>43.704395</td>\n",
       "      <td>28.326714</td>\n",
       "      <td>27.624369</td>\n",
       "      <td>219.080002</td>\n",
       "      <td>12.3575</td>\n",
       "      <td>14.963362</td>\n",
       "      <td>...</td>\n",
       "      <td>17.358511</td>\n",
       "      <td>37.619999</td>\n",
       "      <td>44.379101</td>\n",
       "      <td>6.752012</td>\n",
       "      <td>18.262053</td>\n",
       "      <td>14.897401</td>\n",
       "      <td>304.434448</td>\n",
       "      <td>132.250000</td>\n",
       "      <td>6.499765</td>\n",
       "      <td>23.965164</td>\n",
       "    </tr>\n",
       "    <tr>\n",
       "      <th>2010-01-07</th>\n",
       "      <td>0.000650</td>\n",
       "      <td>10.84</td>\n",
       "      <td>103.556664</td>\n",
       "      <td>12.461351</td>\n",
       "      <td>43.758408</td>\n",
       "      <td>28.313377</td>\n",
       "      <td>27.533443</td>\n",
       "      <td>216.130005</td>\n",
       "      <td>12.3000</td>\n",
       "      <td>14.927206</td>\n",
       "      <td>...</td>\n",
       "      <td>17.018332</td>\n",
       "      <td>36.889999</td>\n",
       "      <td>44.097023</td>\n",
       "      <td>6.894205</td>\n",
       "      <td>18.344311</td>\n",
       "      <td>14.754156</td>\n",
       "      <td>297.347351</td>\n",
       "      <td>130.000000</td>\n",
       "      <td>6.487749</td>\n",
       "      <td>23.715933</td>\n",
       "    </tr>\n",
       "    <tr>\n",
       "      <th>2010-01-08</th>\n",
       "      <td>0.008197</td>\n",
       "      <td>11.10</td>\n",
       "      <td>102.986664</td>\n",
       "      <td>11.765371</td>\n",
       "      <td>44.927525</td>\n",
       "      <td>28.273378</td>\n",
       "      <td>28.260878</td>\n",
       "      <td>216.210007</td>\n",
       "      <td>12.1625</td>\n",
       "      <td>14.942701</td>\n",
       "      <td>...</td>\n",
       "      <td>17.055109</td>\n",
       "      <td>36.689999</td>\n",
       "      <td>43.952370</td>\n",
       "      <td>6.873890</td>\n",
       "      <td>18.441526</td>\n",
       "      <td>14.918890</td>\n",
       "      <td>301.311310</td>\n",
       "      <td>133.520004</td>\n",
       "      <td>6.530882</td>\n",
       "      <td>23.879499</td>\n",
       "    </tr>\n",
       "    <tr>\n",
       "      <th>2010-01-09</th>\n",
       "      <td>0.000000</td>\n",
       "      <td>11.10</td>\n",
       "      <td>102.986664</td>\n",
       "      <td>11.765371</td>\n",
       "      <td>44.927525</td>\n",
       "      <td>28.273378</td>\n",
       "      <td>28.260878</td>\n",
       "      <td>216.210007</td>\n",
       "      <td>12.1625</td>\n",
       "      <td>14.942701</td>\n",
       "      <td>...</td>\n",
       "      <td>17.055109</td>\n",
       "      <td>36.689999</td>\n",
       "      <td>43.952370</td>\n",
       "      <td>6.873890</td>\n",
       "      <td>18.441526</td>\n",
       "      <td>14.918890</td>\n",
       "      <td>301.311310</td>\n",
       "      <td>133.520004</td>\n",
       "      <td>6.530882</td>\n",
       "      <td>23.879499</td>\n",
       "    </tr>\n",
       "    <tr>\n",
       "      <th>2010-01-10</th>\n",
       "      <td>0.000000</td>\n",
       "      <td>11.10</td>\n",
       "      <td>102.986664</td>\n",
       "      <td>11.765371</td>\n",
       "      <td>44.927525</td>\n",
       "      <td>28.273378</td>\n",
       "      <td>28.260878</td>\n",
       "      <td>216.210007</td>\n",
       "      <td>12.1625</td>\n",
       "      <td>14.942701</td>\n",
       "      <td>...</td>\n",
       "      <td>17.055109</td>\n",
       "      <td>36.689999</td>\n",
       "      <td>43.952370</td>\n",
       "      <td>6.873890</td>\n",
       "      <td>18.441526</td>\n",
       "      <td>14.918890</td>\n",
       "      <td>301.311310</td>\n",
       "      <td>133.520004</td>\n",
       "      <td>6.530882</td>\n",
       "      <td>23.879499</td>\n",
       "    </tr>\n",
       "    <tr>\n",
       "      <th>2010-01-11</th>\n",
       "      <td>-0.004090</td>\n",
       "      <td>10.90</td>\n",
       "      <td>103.763336</td>\n",
       "      <td>11.914511</td>\n",
       "      <td>44.918518</td>\n",
       "      <td>28.400021</td>\n",
       "      <td>28.388178</td>\n",
       "      <td>218.910004</td>\n",
       "      <td>12.2275</td>\n",
       "      <td>14.875555</td>\n",
       "      <td>...</td>\n",
       "      <td>16.816057</td>\n",
       "      <td>36.209999</td>\n",
       "      <td>43.901749</td>\n",
       "      <td>6.829206</td>\n",
       "      <td>18.389183</td>\n",
       "      <td>15.004833</td>\n",
       "      <td>300.855865</td>\n",
       "      <td>130.309998</td>\n",
       "      <td>6.473268</td>\n",
       "      <td>23.575750</td>\n",
       "    </tr>\n",
       "    <tr>\n",
       "      <th>2010-01-12</th>\n",
       "      <td>-0.012590</td>\n",
       "      <td>10.26</td>\n",
       "      <td>101.463333</td>\n",
       "      <td>10.522551</td>\n",
       "      <td>44.007900</td>\n",
       "      <td>28.200068</td>\n",
       "      <td>28.388178</td>\n",
       "      <td>213.979996</td>\n",
       "      <td>12.1200</td>\n",
       "      <td>15.128645</td>\n",
       "      <td>...</td>\n",
       "      <td>16.246025</td>\n",
       "      <td>35.660000</td>\n",
       "      <td>44.516521</td>\n",
       "      <td>6.707326</td>\n",
       "      <td>18.097532</td>\n",
       "      <td>14.761323</td>\n",
       "      <td>295.535522</td>\n",
       "      <td>127.349998</td>\n",
       "      <td>6.399635</td>\n",
       "      <td>23.419973</td>\n",
       "    </tr>\n",
       "    <tr>\n",
       "      <th>2010-01-13</th>\n",
       "      <td>0.012373</td>\n",
       "      <td>10.46</td>\n",
       "      <td>102.013336</td>\n",
       "      <td>10.489408</td>\n",
       "      <td>44.144257</td>\n",
       "      <td>28.406679</td>\n",
       "      <td>28.715527</td>\n",
       "      <td>214.300003</td>\n",
       "      <td>12.2225</td>\n",
       "      <td>15.097653</td>\n",
       "      <td>...</td>\n",
       "      <td>16.466686</td>\n",
       "      <td>36.279999</td>\n",
       "      <td>44.878143</td>\n",
       "      <td>6.812954</td>\n",
       "      <td>18.426571</td>\n",
       "      <td>15.011992</td>\n",
       "      <td>293.838837</td>\n",
       "      <td>129.110001</td>\n",
       "      <td>6.489905</td>\n",
       "      <td>23.638054</td>\n",
       "    </tr>\n",
       "  </tbody>\n",
       "</table>\n",
       "<p>10 rows × 29 columns</p>\n",
       "</div>"
      ],
      "text/plain": [
       "                 QQQ     MU        ISRG       TMUS        CME        ADP  \\\n",
       "2010-01-04       NaN  10.85  102.923332  13.207044  44.038776  28.546648   \n",
       "2010-01-05  0.000000  11.17  102.459999  13.240186  44.002773  28.393362   \n",
       "2010-01-06 -0.006049  11.22  103.946671  12.345354  43.704395  28.326714   \n",
       "2010-01-07  0.000650  10.84  103.556664  12.461351  43.758408  28.313377   \n",
       "2010-01-08  0.008197  11.10  102.986664  11.765371  44.927525  28.273378   \n",
       "2010-01-09  0.000000  11.10  102.986664  11.765371  44.927525  28.273378   \n",
       "2010-01-10  0.000000  11.10  102.986664  11.765371  44.927525  28.273378   \n",
       "2010-01-11 -0.004090  10.90  103.763336  11.914511  44.918518  28.400021   \n",
       "2010-01-12 -0.012590  10.26  101.463333  10.522551  44.007900  28.200068   \n",
       "2010-01-13  0.012373  10.46  102.013336  10.489408  44.144257  28.406679   \n",
       "\n",
       "                 INTU        BKNG     FISV       MDLZ  ...       NVDA  \\\n",
       "2010-01-04  28.015366  223.960007  12.3575  14.167932  ...  16.999943   \n",
       "2010-01-05  28.015366  226.559998  12.4100  14.860062  ...  17.248186   \n",
       "2010-01-06  27.624369  219.080002  12.3575  14.963362  ...  17.358511   \n",
       "2010-01-07  27.533443  216.130005  12.3000  14.927206  ...  17.018332   \n",
       "2010-01-08  28.260878  216.210007  12.1625  14.942701  ...  17.055109   \n",
       "2010-01-09  28.260878  216.210007  12.1625  14.942701  ...  17.055109   \n",
       "2010-01-10  28.260878  216.210007  12.1625  14.942701  ...  17.055109   \n",
       "2010-01-11  28.388178  218.910004  12.2275  14.875555  ...  16.816057   \n",
       "2010-01-12  28.388178  213.979996  12.1200  15.128645  ...  16.246025   \n",
       "2010-01-13  28.715527  214.300003  12.2225  15.097653  ...  16.466686   \n",
       "\n",
       "                 ADBE        PEP     CMCSA       CSCO       INTC       GOOGL  \\\n",
       "2010-01-04  37.090000  44.292305  6.894205  18.463966  14.954695  313.688690   \n",
       "2010-01-05  37.700001  44.827515  6.800767  18.381708  14.947535  312.307312   \n",
       "2010-01-06  37.619999  44.379101  6.752012  18.262053  14.897401  304.434448   \n",
       "2010-01-07  36.889999  44.097023  6.894205  18.344311  14.754156  297.347351   \n",
       "2010-01-08  36.689999  43.952370  6.873890  18.441526  14.918890  301.311310   \n",
       "2010-01-09  36.689999  43.952370  6.873890  18.441526  14.918890  301.311310   \n",
       "2010-01-10  36.689999  43.952370  6.873890  18.441526  14.918890  301.311310   \n",
       "2010-01-11  36.209999  43.901749  6.829206  18.389183  15.004833  300.855865   \n",
       "2010-01-12  35.660000  44.516521  6.707326  18.097532  14.761323  295.535522   \n",
       "2010-01-13  36.279999  44.878143  6.812954  18.426571  15.011992  293.838837   \n",
       "\n",
       "                  AMZN      AAPL       MSFT  \n",
       "2010-01-04  133.899994  6.593423  24.105360  \n",
       "2010-01-05  134.690002  6.604822  24.113148  \n",
       "2010-01-06  132.250000  6.499765  23.965164  \n",
       "2010-01-07  130.000000  6.487749  23.715933  \n",
       "2010-01-08  133.520004  6.530882  23.879499  \n",
       "2010-01-09  133.520004  6.530882  23.879499  \n",
       "2010-01-10  133.520004  6.530882  23.879499  \n",
       "2010-01-11  130.309998  6.473268  23.575750  \n",
       "2010-01-12  127.349998  6.399635  23.419973  \n",
       "2010-01-13  129.110001  6.489905  23.638054  \n",
       "\n",
       "[10 rows x 29 columns]"
      ]
     },
     "execution_count": 28,
     "metadata": {},
     "output_type": "execute_result"
    }
   ],
   "source": [
    "stock_data_return.head(10)"
   ]
  },
  {
   "cell_type": "markdown",
   "metadata": {},
   "source": [
    "Visually inspect the obtained daily adjusted returns:"
   ]
  },
  {
   "cell_type": "code",
   "execution_count": 29,
   "metadata": {},
   "outputs": [
    {
     "data": {
      "image/png": "[encoded data removed]",
      "text/plain": [
       "<Figure size 1080x360 with 1 Axes>"
      ]
     },
     "metadata": {
      "needs_background": "light"
     },
     "output_type": "display_data"
    }
   ],
   "source": [
    "plt.rcParams['figure.figsize'] = [15, 5]\n",
    "fig = plt.figure()\n",
    "ax = fig.add_subplot(111)\n",
    "\n",
    "# plot daily market returns\n",
    "ax.plot(stock_data_return.index, stock_data_return['QQQ'])\n",
    "\n",
    "# rotate x-tick labels\n",
    "for tick in ax.get_xticklabels():\n",
    "    tick.set_rotation(45)\n",
    "\n",
    "# set axis labels and limits\n",
    "ax.set_xlabel('[time]', fontsize=10)\n",
    "ax.set_xlim([pd.to_datetime('01-01-2010'), pd.to_datetime('31-12-2019')])\n",
    "ax.set_ylabel('[daily QQQ returns]', fontsize=10)\n",
    "\n",
    "# set plot title\n",
    "plt.title('Invesco QQQ Trust Series 1 - Daily Historical Adjusted Log-Returns', fontsize=10);"
   ]
  },
  {
   "cell_type": "markdown",
   "metadata": {},
   "source": [
    "Determine the daily log-returns of the remaining NASDAQ Top 30 daily adjusted closing prices using the `log` function of the `NumPy` library:"
   ]
  },
  {
   "cell_type": "code",
   "execution_count": 30,
   "metadata": {},
   "outputs": [],
   "source": [
    "# iterate over distinct ticker symbols\n",
    "for symbol in symbols:\n",
    "    \n",
    "    # compute the log-return of the ticker symbols daily adjusted closing prices\n",
    "    stock_data_return[symbol] = np.log(stock_data_return[symbol]) - np.log(stock_data_return[symbol].shift(1))"
   ]
  },
  {
   "cell_type": "markdown",
   "metadata": {},
   "source": [
    "Inspect the daily returns of the adjusted closing prices:"
   ]
  },
  {
   "cell_type": "code",
   "execution_count": 31,
   "metadata": {},
   "outputs": [
    {
     "data": {
      "text/html": [
       "<div>\n",
       "<style scoped>\n",
       "    .dataframe tbody tr th:only-of-type {\n",
       "        vertical-align: middle;\n",
       "    }\n",
       "\n",
       "    .dataframe tbody tr th {\n",
       "        vertical-align: top;\n",
       "    }\n",
       "\n",
       "    .dataframe thead th {\n",
       "        text-align: right;\n",
       "    }\n",
       "</style>\n",
       "<table border=\"1\" class=\"dataframe\">\n",
       "  <thead>\n",
       "    <tr style=\"text-align: right;\">\n",
       "      <th></th>\n",
       "      <th>QQQ</th>\n",
       "      <th>MU</th>\n",
       "      <th>ISRG</th>\n",
       "      <th>TMUS</th>\n",
       "      <th>CME</th>\n",
       "      <th>ADP</th>\n",
       "      <th>INTU</th>\n",
       "      <th>BKNG</th>\n",
       "      <th>FISV</th>\n",
       "      <th>MDLZ</th>\n",
       "      <th>...</th>\n",
       "      <th>NVDA</th>\n",
       "      <th>ADBE</th>\n",
       "      <th>PEP</th>\n",
       "      <th>CMCSA</th>\n",
       "      <th>CSCO</th>\n",
       "      <th>INTC</th>\n",
       "      <th>GOOGL</th>\n",
       "      <th>AMZN</th>\n",
       "      <th>AAPL</th>\n",
       "      <th>MSFT</th>\n",
       "    </tr>\n",
       "  </thead>\n",
       "  <tbody>\n",
       "    <tr>\n",
       "      <th>2010-01-04</th>\n",
       "      <td>NaN</td>\n",
       "      <td>NaN</td>\n",
       "      <td>NaN</td>\n",
       "      <td>NaN</td>\n",
       "      <td>NaN</td>\n",
       "      <td>NaN</td>\n",
       "      <td>NaN</td>\n",
       "      <td>NaN</td>\n",
       "      <td>NaN</td>\n",
       "      <td>NaN</td>\n",
       "      <td>...</td>\n",
       "      <td>NaN</td>\n",
       "      <td>NaN</td>\n",
       "      <td>NaN</td>\n",
       "      <td>NaN</td>\n",
       "      <td>NaN</td>\n",
       "      <td>NaN</td>\n",
       "      <td>NaN</td>\n",
       "      <td>NaN</td>\n",
       "      <td>NaN</td>\n",
       "      <td>NaN</td>\n",
       "    </tr>\n",
       "    <tr>\n",
       "      <th>2010-01-05</th>\n",
       "      <td>0.000000</td>\n",
       "      <td>0.029067</td>\n",
       "      <td>-0.004512</td>\n",
       "      <td>0.002506</td>\n",
       "      <td>-0.000818</td>\n",
       "      <td>-0.005384</td>\n",
       "      <td>0.000000</td>\n",
       "      <td>0.011542</td>\n",
       "      <td>0.004239</td>\n",
       "      <td>0.047696</td>\n",
       "      <td>...</td>\n",
       "      <td>0.014497</td>\n",
       "      <td>0.016313</td>\n",
       "      <td>0.012011</td>\n",
       "      <td>-0.013646</td>\n",
       "      <td>-0.004465</td>\n",
       "      <td>-0.000479</td>\n",
       "      <td>-0.004413</td>\n",
       "      <td>0.005883</td>\n",
       "      <td>0.001727</td>\n",
       "      <td>0.000323</td>\n",
       "    </tr>\n",
       "    <tr>\n",
       "      <th>2010-01-06</th>\n",
       "      <td>-0.006049</td>\n",
       "      <td>0.004466</td>\n",
       "      <td>0.014406</td>\n",
       "      <td>-0.069977</td>\n",
       "      <td>-0.006804</td>\n",
       "      <td>-0.002350</td>\n",
       "      <td>-0.014055</td>\n",
       "      <td>-0.033573</td>\n",
       "      <td>-0.004239</td>\n",
       "      <td>0.006927</td>\n",
       "      <td>...</td>\n",
       "      <td>0.006376</td>\n",
       "      <td>-0.002124</td>\n",
       "      <td>-0.010053</td>\n",
       "      <td>-0.007195</td>\n",
       "      <td>-0.006531</td>\n",
       "      <td>-0.003360</td>\n",
       "      <td>-0.025532</td>\n",
       "      <td>-0.018282</td>\n",
       "      <td>-0.016034</td>\n",
       "      <td>-0.006156</td>\n",
       "    </tr>\n",
       "    <tr>\n",
       "      <th>2010-01-07</th>\n",
       "      <td>0.000650</td>\n",
       "      <td>-0.034455</td>\n",
       "      <td>-0.003759</td>\n",
       "      <td>0.009352</td>\n",
       "      <td>0.001235</td>\n",
       "      <td>-0.000471</td>\n",
       "      <td>-0.003297</td>\n",
       "      <td>-0.013557</td>\n",
       "      <td>-0.004664</td>\n",
       "      <td>-0.002419</td>\n",
       "      <td>...</td>\n",
       "      <td>-0.019792</td>\n",
       "      <td>-0.019595</td>\n",
       "      <td>-0.006376</td>\n",
       "      <td>0.020841</td>\n",
       "      <td>0.004494</td>\n",
       "      <td>-0.009662</td>\n",
       "      <td>-0.023555</td>\n",
       "      <td>-0.017160</td>\n",
       "      <td>-0.001850</td>\n",
       "      <td>-0.010454</td>\n",
       "    </tr>\n",
       "    <tr>\n",
       "      <th>2010-01-08</th>\n",
       "      <td>0.008197</td>\n",
       "      <td>0.023702</td>\n",
       "      <td>-0.005519</td>\n",
       "      <td>-0.057471</td>\n",
       "      <td>0.026367</td>\n",
       "      <td>-0.001414</td>\n",
       "      <td>0.026077</td>\n",
       "      <td>0.000370</td>\n",
       "      <td>-0.011242</td>\n",
       "      <td>0.001038</td>\n",
       "      <td>...</td>\n",
       "      <td>0.002159</td>\n",
       "      <td>-0.005436</td>\n",
       "      <td>-0.003286</td>\n",
       "      <td>-0.002951</td>\n",
       "      <td>0.005286</td>\n",
       "      <td>0.011103</td>\n",
       "      <td>0.013243</td>\n",
       "      <td>0.026717</td>\n",
       "      <td>0.006626</td>\n",
       "      <td>0.006873</td>\n",
       "    </tr>\n",
       "    <tr>\n",
       "      <th>2010-01-09</th>\n",
       "      <td>0.000000</td>\n",
       "      <td>0.000000</td>\n",
       "      <td>0.000000</td>\n",
       "      <td>0.000000</td>\n",
       "      <td>0.000000</td>\n",
       "      <td>0.000000</td>\n",
       "      <td>0.000000</td>\n",
       "      <td>0.000000</td>\n",
       "      <td>0.000000</td>\n",
       "      <td>0.000000</td>\n",
       "      <td>...</td>\n",
       "      <td>0.000000</td>\n",
       "      <td>0.000000</td>\n",
       "      <td>0.000000</td>\n",
       "      <td>0.000000</td>\n",
       "      <td>0.000000</td>\n",
       "      <td>0.000000</td>\n",
       "      <td>0.000000</td>\n",
       "      <td>0.000000</td>\n",
       "      <td>0.000000</td>\n",
       "      <td>0.000000</td>\n",
       "    </tr>\n",
       "    <tr>\n",
       "      <th>2010-01-10</th>\n",
       "      <td>0.000000</td>\n",
       "      <td>0.000000</td>\n",
       "      <td>0.000000</td>\n",
       "      <td>0.000000</td>\n",
       "      <td>0.000000</td>\n",
       "      <td>0.000000</td>\n",
       "      <td>0.000000</td>\n",
       "      <td>0.000000</td>\n",
       "      <td>0.000000</td>\n",
       "      <td>0.000000</td>\n",
       "      <td>...</td>\n",
       "      <td>0.000000</td>\n",
       "      <td>0.000000</td>\n",
       "      <td>0.000000</td>\n",
       "      <td>0.000000</td>\n",
       "      <td>0.000000</td>\n",
       "      <td>0.000000</td>\n",
       "      <td>0.000000</td>\n",
       "      <td>0.000000</td>\n",
       "      <td>0.000000</td>\n",
       "      <td>0.000000</td>\n",
       "    </tr>\n",
       "    <tr>\n",
       "      <th>2010-01-11</th>\n",
       "      <td>-0.004090</td>\n",
       "      <td>-0.018182</td>\n",
       "      <td>0.007513</td>\n",
       "      <td>0.012596</td>\n",
       "      <td>-0.000200</td>\n",
       "      <td>0.004469</td>\n",
       "      <td>0.004494</td>\n",
       "      <td>0.012411</td>\n",
       "      <td>0.005330</td>\n",
       "      <td>-0.004504</td>\n",
       "      <td>...</td>\n",
       "      <td>-0.014116</td>\n",
       "      <td>-0.013169</td>\n",
       "      <td>-0.001152</td>\n",
       "      <td>-0.006522</td>\n",
       "      <td>-0.002842</td>\n",
       "      <td>0.005744</td>\n",
       "      <td>-0.001513</td>\n",
       "      <td>-0.024335</td>\n",
       "      <td>-0.008861</td>\n",
       "      <td>-0.012802</td>\n",
       "    </tr>\n",
       "    <tr>\n",
       "      <th>2010-01-12</th>\n",
       "      <td>-0.012590</td>\n",
       "      <td>-0.060510</td>\n",
       "      <td>-0.022415</td>\n",
       "      <td>-0.124236</td>\n",
       "      <td>-0.020481</td>\n",
       "      <td>-0.007065</td>\n",
       "      <td>0.000000</td>\n",
       "      <td>-0.022778</td>\n",
       "      <td>-0.008831</td>\n",
       "      <td>0.016871</td>\n",
       "      <td>...</td>\n",
       "      <td>-0.034486</td>\n",
       "      <td>-0.015306</td>\n",
       "      <td>0.013906</td>\n",
       "      <td>-0.018008</td>\n",
       "      <td>-0.015987</td>\n",
       "      <td>-0.016362</td>\n",
       "      <td>-0.017842</td>\n",
       "      <td>-0.022977</td>\n",
       "      <td>-0.011440</td>\n",
       "      <td>-0.006629</td>\n",
       "    </tr>\n",
       "    <tr>\n",
       "      <th>2010-01-13</th>\n",
       "      <td>0.012373</td>\n",
       "      <td>0.019306</td>\n",
       "      <td>0.005406</td>\n",
       "      <td>-0.003155</td>\n",
       "      <td>0.003094</td>\n",
       "      <td>0.007300</td>\n",
       "      <td>0.011465</td>\n",
       "      <td>0.001494</td>\n",
       "      <td>0.008422</td>\n",
       "      <td>-0.002051</td>\n",
       "      <td>...</td>\n",
       "      <td>0.013491</td>\n",
       "      <td>0.017237</td>\n",
       "      <td>0.008091</td>\n",
       "      <td>0.015625</td>\n",
       "      <td>0.018018</td>\n",
       "      <td>0.016839</td>\n",
       "      <td>-0.005758</td>\n",
       "      <td>0.013726</td>\n",
       "      <td>0.014007</td>\n",
       "      <td>0.009269</td>\n",
       "    </tr>\n",
       "  </tbody>\n",
       "</table>\n",
       "<p>10 rows × 29 columns</p>\n",
       "</div>"
      ],
      "text/plain": [
       "                 QQQ        MU      ISRG      TMUS       CME       ADP  \\\n",
       "2010-01-04       NaN       NaN       NaN       NaN       NaN       NaN   \n",
       "2010-01-05  0.000000  0.029067 -0.004512  0.002506 -0.000818 -0.005384   \n",
       "2010-01-06 -0.006049  0.004466  0.014406 -0.069977 -0.006804 -0.002350   \n",
       "2010-01-07  0.000650 -0.034455 -0.003759  0.009352  0.001235 -0.000471   \n",
       "2010-01-08  0.008197  0.023702 -0.005519 -0.057471  0.026367 -0.001414   \n",
       "2010-01-09  0.000000  0.000000  0.000000  0.000000  0.000000  0.000000   \n",
       "2010-01-10  0.000000  0.000000  0.000000  0.000000  0.000000  0.000000   \n",
       "2010-01-11 -0.004090 -0.018182  0.007513  0.012596 -0.000200  0.004469   \n",
       "2010-01-12 -0.012590 -0.060510 -0.022415 -0.124236 -0.020481 -0.007065   \n",
       "2010-01-13  0.012373  0.019306  0.005406 -0.003155  0.003094  0.007300   \n",
       "\n",
       "                INTU      BKNG      FISV      MDLZ  ...      NVDA      ADBE  \\\n",
       "2010-01-04       NaN       NaN       NaN       NaN  ...       NaN       NaN   \n",
       "2010-01-05  0.000000  0.011542  0.004239  0.047696  ...  0.014497  0.016313   \n",
       "2010-01-06 -0.014055 -0.033573 -0.004239  0.006927  ...  0.006376 -0.002124   \n",
       "2010-01-07 -0.003297 -0.013557 -0.004664 -0.002419  ... -0.019792 -0.019595   \n",
       "2010-01-08  0.026077  0.000370 -0.011242  0.001038  ...  0.002159 -0.005436   \n",
       "2010-01-09  0.000000  0.000000  0.000000  0.000000  ...  0.000000  0.000000   \n",
       "2010-01-10  0.000000  0.000000  0.000000  0.000000  ...  0.000000  0.000000   \n",
       "2010-01-11  0.004494  0.012411  0.005330 -0.004504  ... -0.014116 -0.013169   \n",
       "2010-01-12  0.000000 -0.022778 -0.008831  0.016871  ... -0.034486 -0.015306   \n",
       "2010-01-13  0.011465  0.001494  0.008422 -0.002051  ...  0.013491  0.017237   \n",
       "\n",
       "                 PEP     CMCSA      CSCO      INTC     GOOGL      AMZN  \\\n",
       "2010-01-04       NaN       NaN       NaN       NaN       NaN       NaN   \n",
       "2010-01-05  0.012011 -0.013646 -0.004465 -0.000479 -0.004413  0.005883   \n",
       "2010-01-06 -0.010053 -0.007195 -0.006531 -0.003360 -0.025532 -0.018282   \n",
       "2010-01-07 -0.006376  0.020841  0.004494 -0.009662 -0.023555 -0.017160   \n",
       "2010-01-08 -0.003286 -0.002951  0.005286  0.011103  0.013243  0.026717   \n",
       "2010-01-09  0.000000  0.000000  0.000000  0.000000  0.000000  0.000000   \n",
       "2010-01-10  0.000000  0.000000  0.000000  0.000000  0.000000  0.000000   \n",
       "2010-01-11 -0.001152 -0.006522 -0.002842  0.005744 -0.001513 -0.024335   \n",
       "2010-01-12  0.013906 -0.018008 -0.015987 -0.016362 -0.017842 -0.022977   \n",
       "2010-01-13  0.008091  0.015625  0.018018  0.016839 -0.005758  0.013726   \n",
       "\n",
       "                AAPL      MSFT  \n",
       "2010-01-04       NaN       NaN  \n",
       "2010-01-05  0.001727  0.000323  \n",
       "2010-01-06 -0.016034 -0.006156  \n",
       "2010-01-07 -0.001850 -0.010454  \n",
       "2010-01-08  0.006626  0.006873  \n",
       "2010-01-09  0.000000  0.000000  \n",
       "2010-01-10  0.000000  0.000000  \n",
       "2010-01-11 -0.008861 -0.012802  \n",
       "2010-01-12 -0.011440 -0.006629  \n",
       "2010-01-13  0.014007  0.009269  \n",
       "\n",
       "[10 rows x 29 columns]"
      ]
     },
     "execution_count": 31,
     "metadata": {},
     "output_type": "execute_result"
    }
   ],
   "source": [
    "stock_data_return.head(10)"
   ]
  },
  {
   "cell_type": "markdown",
   "metadata": {},
   "source": [
    "Remove the first row corresponding to a `nan` daily return of the stock data dataframe: "
   ]
  },
  {
   "cell_type": "code",
   "execution_count": 32,
   "metadata": {},
   "outputs": [],
   "source": [
    "stock_data_return = stock_data_return.iloc[1:]"
   ]
  },
  {
   "cell_type": "markdown",
   "metadata": {},
   "source": [
    "Inspect the daily returns of the adjusted closing prices for the removed row:"
   ]
  },
  {
   "cell_type": "code",
   "execution_count": 33,
   "metadata": {},
   "outputs": [
    {
     "data": {
      "text/html": [
       "<div>\n",
       "<style scoped>\n",
       "    .dataframe tbody tr th:only-of-type {\n",
       "        vertical-align: middle;\n",
       "    }\n",
       "\n",
       "    .dataframe tbody tr th {\n",
       "        vertical-align: top;\n",
       "    }\n",
       "\n",
       "    .dataframe thead th {\n",
       "        text-align: right;\n",
       "    }\n",
       "</style>\n",
       "<table border=\"1\" class=\"dataframe\">\n",
       "  <thead>\n",
       "    <tr style=\"text-align: right;\">\n",
       "      <th></th>\n",
       "      <th>QQQ</th>\n",
       "      <th>MU</th>\n",
       "      <th>ISRG</th>\n",
       "      <th>TMUS</th>\n",
       "      <th>CME</th>\n",
       "      <th>ADP</th>\n",
       "      <th>INTU</th>\n",
       "      <th>BKNG</th>\n",
       "      <th>FISV</th>\n",
       "      <th>MDLZ</th>\n",
       "      <th>...</th>\n",
       "      <th>NVDA</th>\n",
       "      <th>ADBE</th>\n",
       "      <th>PEP</th>\n",
       "      <th>CMCSA</th>\n",
       "      <th>CSCO</th>\n",
       "      <th>INTC</th>\n",
       "      <th>GOOGL</th>\n",
       "      <th>AMZN</th>\n",
       "      <th>AAPL</th>\n",
       "      <th>MSFT</th>\n",
       "    </tr>\n",
       "  </thead>\n",
       "  <tbody>\n",
       "    <tr>\n",
       "      <th>2010-01-05</th>\n",
       "      <td>0.000000</td>\n",
       "      <td>0.029067</td>\n",
       "      <td>-0.004512</td>\n",
       "      <td>0.002506</td>\n",
       "      <td>-0.000818</td>\n",
       "      <td>-0.005384</td>\n",
       "      <td>0.000000</td>\n",
       "      <td>0.011542</td>\n",
       "      <td>0.004239</td>\n",
       "      <td>0.047696</td>\n",
       "      <td>...</td>\n",
       "      <td>0.014497</td>\n",
       "      <td>0.016313</td>\n",
       "      <td>0.012011</td>\n",
       "      <td>-0.013646</td>\n",
       "      <td>-0.004465</td>\n",
       "      <td>-0.000479</td>\n",
       "      <td>-0.004413</td>\n",
       "      <td>0.005883</td>\n",
       "      <td>0.001727</td>\n",
       "      <td>0.000323</td>\n",
       "    </tr>\n",
       "    <tr>\n",
       "      <th>2010-01-06</th>\n",
       "      <td>-0.006049</td>\n",
       "      <td>0.004466</td>\n",
       "      <td>0.014406</td>\n",
       "      <td>-0.069977</td>\n",
       "      <td>-0.006804</td>\n",
       "      <td>-0.002350</td>\n",
       "      <td>-0.014055</td>\n",
       "      <td>-0.033573</td>\n",
       "      <td>-0.004239</td>\n",
       "      <td>0.006927</td>\n",
       "      <td>...</td>\n",
       "      <td>0.006376</td>\n",
       "      <td>-0.002124</td>\n",
       "      <td>-0.010053</td>\n",
       "      <td>-0.007195</td>\n",
       "      <td>-0.006531</td>\n",
       "      <td>-0.003360</td>\n",
       "      <td>-0.025532</td>\n",
       "      <td>-0.018282</td>\n",
       "      <td>-0.016034</td>\n",
       "      <td>-0.006156</td>\n",
       "    </tr>\n",
       "    <tr>\n",
       "      <th>2010-01-07</th>\n",
       "      <td>0.000650</td>\n",
       "      <td>-0.034455</td>\n",
       "      <td>-0.003759</td>\n",
       "      <td>0.009352</td>\n",
       "      <td>0.001235</td>\n",
       "      <td>-0.000471</td>\n",
       "      <td>-0.003297</td>\n",
       "      <td>-0.013557</td>\n",
       "      <td>-0.004664</td>\n",
       "      <td>-0.002419</td>\n",
       "      <td>...</td>\n",
       "      <td>-0.019792</td>\n",
       "      <td>-0.019595</td>\n",
       "      <td>-0.006376</td>\n",
       "      <td>0.020841</td>\n",
       "      <td>0.004494</td>\n",
       "      <td>-0.009662</td>\n",
       "      <td>-0.023555</td>\n",
       "      <td>-0.017160</td>\n",
       "      <td>-0.001850</td>\n",
       "      <td>-0.010454</td>\n",
       "    </tr>\n",
       "    <tr>\n",
       "      <th>2010-01-08</th>\n",
       "      <td>0.008197</td>\n",
       "      <td>0.023702</td>\n",
       "      <td>-0.005519</td>\n",
       "      <td>-0.057471</td>\n",
       "      <td>0.026367</td>\n",
       "      <td>-0.001414</td>\n",
       "      <td>0.026077</td>\n",
       "      <td>0.000370</td>\n",
       "      <td>-0.011242</td>\n",
       "      <td>0.001038</td>\n",
       "      <td>...</td>\n",
       "      <td>0.002159</td>\n",
       "      <td>-0.005436</td>\n",
       "      <td>-0.003286</td>\n",
       "      <td>-0.002951</td>\n",
       "      <td>0.005286</td>\n",
       "      <td>0.011103</td>\n",
       "      <td>0.013243</td>\n",
       "      <td>0.026717</td>\n",
       "      <td>0.006626</td>\n",
       "      <td>0.006873</td>\n",
       "    </tr>\n",
       "    <tr>\n",
       "      <th>2010-01-09</th>\n",
       "      <td>0.000000</td>\n",
       "      <td>0.000000</td>\n",
       "      <td>0.000000</td>\n",
       "      <td>0.000000</td>\n",
       "      <td>0.000000</td>\n",
       "      <td>0.000000</td>\n",
       "      <td>0.000000</td>\n",
       "      <td>0.000000</td>\n",
       "      <td>0.000000</td>\n",
       "      <td>0.000000</td>\n",
       "      <td>...</td>\n",
       "      <td>0.000000</td>\n",
       "      <td>0.000000</td>\n",
       "      <td>0.000000</td>\n",
       "      <td>0.000000</td>\n",
       "      <td>0.000000</td>\n",
       "      <td>0.000000</td>\n",
       "      <td>0.000000</td>\n",
       "      <td>0.000000</td>\n",
       "      <td>0.000000</td>\n",
       "      <td>0.000000</td>\n",
       "    </tr>\n",
       "    <tr>\n",
       "      <th>2010-01-10</th>\n",
       "      <td>0.000000</td>\n",
       "      <td>0.000000</td>\n",
       "      <td>0.000000</td>\n",
       "      <td>0.000000</td>\n",
       "      <td>0.000000</td>\n",
       "      <td>0.000000</td>\n",
       "      <td>0.000000</td>\n",
       "      <td>0.000000</td>\n",
       "      <td>0.000000</td>\n",
       "      <td>0.000000</td>\n",
       "      <td>...</td>\n",
       "      <td>0.000000</td>\n",
       "      <td>0.000000</td>\n",
       "      <td>0.000000</td>\n",
       "      <td>0.000000</td>\n",
       "      <td>0.000000</td>\n",
       "      <td>0.000000</td>\n",
       "      <td>0.000000</td>\n",
       "      <td>0.000000</td>\n",
       "      <td>0.000000</td>\n",
       "      <td>0.000000</td>\n",
       "    </tr>\n",
       "    <tr>\n",
       "      <th>2010-01-11</th>\n",
       "      <td>-0.004090</td>\n",
       "      <td>-0.018182</td>\n",
       "      <td>0.007513</td>\n",
       "      <td>0.012596</td>\n",
       "      <td>-0.000200</td>\n",
       "      <td>0.004469</td>\n",
       "      <td>0.004494</td>\n",
       "      <td>0.012411</td>\n",
       "      <td>0.005330</td>\n",
       "      <td>-0.004504</td>\n",
       "      <td>...</td>\n",
       "      <td>-0.014116</td>\n",
       "      <td>-0.013169</td>\n",
       "      <td>-0.001152</td>\n",
       "      <td>-0.006522</td>\n",
       "      <td>-0.002842</td>\n",
       "      <td>0.005744</td>\n",
       "      <td>-0.001513</td>\n",
       "      <td>-0.024335</td>\n",
       "      <td>-0.008861</td>\n",
       "      <td>-0.012802</td>\n",
       "    </tr>\n",
       "    <tr>\n",
       "      <th>2010-01-12</th>\n",
       "      <td>-0.012590</td>\n",
       "      <td>-0.060510</td>\n",
       "      <td>-0.022415</td>\n",
       "      <td>-0.124236</td>\n",
       "      <td>-0.020481</td>\n",
       "      <td>-0.007065</td>\n",
       "      <td>0.000000</td>\n",
       "      <td>-0.022778</td>\n",
       "      <td>-0.008831</td>\n",
       "      <td>0.016871</td>\n",
       "      <td>...</td>\n",
       "      <td>-0.034486</td>\n",
       "      <td>-0.015306</td>\n",
       "      <td>0.013906</td>\n",
       "      <td>-0.018008</td>\n",
       "      <td>-0.015987</td>\n",
       "      <td>-0.016362</td>\n",
       "      <td>-0.017842</td>\n",
       "      <td>-0.022977</td>\n",
       "      <td>-0.011440</td>\n",
       "      <td>-0.006629</td>\n",
       "    </tr>\n",
       "    <tr>\n",
       "      <th>2010-01-13</th>\n",
       "      <td>0.012373</td>\n",
       "      <td>0.019306</td>\n",
       "      <td>0.005406</td>\n",
       "      <td>-0.003155</td>\n",
       "      <td>0.003094</td>\n",
       "      <td>0.007300</td>\n",
       "      <td>0.011465</td>\n",
       "      <td>0.001494</td>\n",
       "      <td>0.008422</td>\n",
       "      <td>-0.002051</td>\n",
       "      <td>...</td>\n",
       "      <td>0.013491</td>\n",
       "      <td>0.017237</td>\n",
       "      <td>0.008091</td>\n",
       "      <td>0.015625</td>\n",
       "      <td>0.018018</td>\n",
       "      <td>0.016839</td>\n",
       "      <td>-0.005758</td>\n",
       "      <td>0.013726</td>\n",
       "      <td>0.014007</td>\n",
       "      <td>0.009269</td>\n",
       "    </tr>\n",
       "    <tr>\n",
       "      <th>2010-01-14</th>\n",
       "      <td>0.000863</td>\n",
       "      <td>0.025485</td>\n",
       "      <td>0.006384</td>\n",
       "      <td>-0.015924</td>\n",
       "      <td>-0.004321</td>\n",
       "      <td>-0.002819</td>\n",
       "      <td>0.006313</td>\n",
       "      <td>-0.026144</td>\n",
       "      <td>-0.002868</td>\n",
       "      <td>-0.003770</td>\n",
       "      <td>...</td>\n",
       "      <td>-0.015757</td>\n",
       "      <td>-0.010529</td>\n",
       "      <td>0.012015</td>\n",
       "      <td>-0.005981</td>\n",
       "      <td>0.012503</td>\n",
       "      <td>0.024507</td>\n",
       "      <td>0.004690</td>\n",
       "      <td>-0.013726</td>\n",
       "      <td>-0.005808</td>\n",
       "      <td>0.019899</td>\n",
       "    </tr>\n",
       "  </tbody>\n",
       "</table>\n",
       "<p>10 rows × 29 columns</p>\n",
       "</div>"
      ],
      "text/plain": [
       "                 QQQ        MU      ISRG      TMUS       CME       ADP  \\\n",
       "2010-01-05  0.000000  0.029067 -0.004512  0.002506 -0.000818 -0.005384   \n",
       "2010-01-06 -0.006049  0.004466  0.014406 -0.069977 -0.006804 -0.002350   \n",
       "2010-01-07  0.000650 -0.034455 -0.003759  0.009352  0.001235 -0.000471   \n",
       "2010-01-08  0.008197  0.023702 -0.005519 -0.057471  0.026367 -0.001414   \n",
       "2010-01-09  0.000000  0.000000  0.000000  0.000000  0.000000  0.000000   \n",
       "2010-01-10  0.000000  0.000000  0.000000  0.000000  0.000000  0.000000   \n",
       "2010-01-11 -0.004090 -0.018182  0.007513  0.012596 -0.000200  0.004469   \n",
       "2010-01-12 -0.012590 -0.060510 -0.022415 -0.124236 -0.020481 -0.007065   \n",
       "2010-01-13  0.012373  0.019306  0.005406 -0.003155  0.003094  0.007300   \n",
       "2010-01-14  0.000863  0.025485  0.006384 -0.015924 -0.004321 -0.002819   \n",
       "\n",
       "                INTU      BKNG      FISV      MDLZ  ...      NVDA      ADBE  \\\n",
       "2010-01-05  0.000000  0.011542  0.004239  0.047696  ...  0.014497  0.016313   \n",
       "2010-01-06 -0.014055 -0.033573 -0.004239  0.006927  ...  0.006376 -0.002124   \n",
       "2010-01-07 -0.003297 -0.013557 -0.004664 -0.002419  ... -0.019792 -0.019595   \n",
       "2010-01-08  0.026077  0.000370 -0.011242  0.001038  ...  0.002159 -0.005436   \n",
       "2010-01-09  0.000000  0.000000  0.000000  0.000000  ...  0.000000  0.000000   \n",
       "2010-01-10  0.000000  0.000000  0.000000  0.000000  ...  0.000000  0.000000   \n",
       "2010-01-11  0.004494  0.012411  0.005330 -0.004504  ... -0.014116 -0.013169   \n",
       "2010-01-12  0.000000 -0.022778 -0.008831  0.016871  ... -0.034486 -0.015306   \n",
       "2010-01-13  0.011465  0.001494  0.008422 -0.002051  ...  0.013491  0.017237   \n",
       "2010-01-14  0.006313 -0.026144 -0.002868 -0.003770  ... -0.015757 -0.010529   \n",
       "\n",
       "                 PEP     CMCSA      CSCO      INTC     GOOGL      AMZN  \\\n",
       "2010-01-05  0.012011 -0.013646 -0.004465 -0.000479 -0.004413  0.005883   \n",
       "2010-01-06 -0.010053 -0.007195 -0.006531 -0.003360 -0.025532 -0.018282   \n",
       "2010-01-07 -0.006376  0.020841  0.004494 -0.009662 -0.023555 -0.017160   \n",
       "2010-01-08 -0.003286 -0.002951  0.005286  0.011103  0.013243  0.026717   \n",
       "2010-01-09  0.000000  0.000000  0.000000  0.000000  0.000000  0.000000   \n",
       "2010-01-10  0.000000  0.000000  0.000000  0.000000  0.000000  0.000000   \n",
       "2010-01-11 -0.001152 -0.006522 -0.002842  0.005744 -0.001513 -0.024335   \n",
       "2010-01-12  0.013906 -0.018008 -0.015987 -0.016362 -0.017842 -0.022977   \n",
       "2010-01-13  0.008091  0.015625  0.018018  0.016839 -0.005758  0.013726   \n",
       "2010-01-14  0.012015 -0.005981  0.012503  0.024507  0.004690 -0.013726   \n",
       "\n",
       "                AAPL      MSFT  \n",
       "2010-01-05  0.001727  0.000323  \n",
       "2010-01-06 -0.016034 -0.006156  \n",
       "2010-01-07 -0.001850 -0.010454  \n",
       "2010-01-08  0.006626  0.006873  \n",
       "2010-01-09  0.000000  0.000000  \n",
       "2010-01-10  0.000000  0.000000  \n",
       "2010-01-11 -0.008861 -0.012802  \n",
       "2010-01-12 -0.011440 -0.006629  \n",
       "2010-01-13  0.014007  0.009269  \n",
       "2010-01-14 -0.005808  0.019899  \n",
       "\n",
       "[10 rows x 29 columns]"
      ]
     },
     "execution_count": 33,
     "metadata": {},
     "output_type": "execute_result"
    }
   ],
   "source": [
    "stock_data_return.head(10)"
   ]
  },
  {
   "cell_type": "markdown",
   "metadata": {},
   "source": [
    "Replace potential missing values `nan` or infinity values (division by zero) `inf` with 0.0:"
   ]
  },
  {
   "cell_type": "code",
   "execution_count": 34,
   "metadata": {},
   "outputs": [],
   "source": [
    "stock_data_return = stock_data_return.replace([np.nan, np.inf, -np.inf], 0.0)"
   ]
  },
  {
   "cell_type": "markdown",
   "metadata": {},
   "source": [
    "Inspect the daily returns of the adjusted closing prices for the replaced values:"
   ]
  },
  {
   "cell_type": "code",
   "execution_count": 35,
   "metadata": {},
   "outputs": [
    {
     "data": {
      "text/html": [
       "<div>\n",
       "<style scoped>\n",
       "    .dataframe tbody tr th:only-of-type {\n",
       "        vertical-align: middle;\n",
       "    }\n",
       "\n",
       "    .dataframe tbody tr th {\n",
       "        vertical-align: top;\n",
       "    }\n",
       "\n",
       "    .dataframe thead th {\n",
       "        text-align: right;\n",
       "    }\n",
       "</style>\n",
       "<table border=\"1\" class=\"dataframe\">\n",
       "  <thead>\n",
       "    <tr style=\"text-align: right;\">\n",
       "      <th></th>\n",
       "      <th>QQQ</th>\n",
       "      <th>MU</th>\n",
       "      <th>ISRG</th>\n",
       "      <th>TMUS</th>\n",
       "      <th>CME</th>\n",
       "      <th>ADP</th>\n",
       "      <th>INTU</th>\n",
       "      <th>BKNG</th>\n",
       "      <th>FISV</th>\n",
       "      <th>MDLZ</th>\n",
       "      <th>...</th>\n",
       "      <th>NVDA</th>\n",
       "      <th>ADBE</th>\n",
       "      <th>PEP</th>\n",
       "      <th>CMCSA</th>\n",
       "      <th>CSCO</th>\n",
       "      <th>INTC</th>\n",
       "      <th>GOOGL</th>\n",
       "      <th>AMZN</th>\n",
       "      <th>AAPL</th>\n",
       "      <th>MSFT</th>\n",
       "    </tr>\n",
       "  </thead>\n",
       "  <tbody>\n",
       "    <tr>\n",
       "      <th>2010-01-05</th>\n",
       "      <td>0.000000</td>\n",
       "      <td>0.029067</td>\n",
       "      <td>-0.004512</td>\n",
       "      <td>0.002506</td>\n",
       "      <td>-0.000818</td>\n",
       "      <td>-0.005384</td>\n",
       "      <td>0.000000</td>\n",
       "      <td>0.011542</td>\n",
       "      <td>0.004239</td>\n",
       "      <td>0.047696</td>\n",
       "      <td>...</td>\n",
       "      <td>0.014497</td>\n",
       "      <td>0.016313</td>\n",
       "      <td>0.012011</td>\n",
       "      <td>-0.013646</td>\n",
       "      <td>-0.004465</td>\n",
       "      <td>-0.000479</td>\n",
       "      <td>-0.004413</td>\n",
       "      <td>0.005883</td>\n",
       "      <td>0.001727</td>\n",
       "      <td>0.000323</td>\n",
       "    </tr>\n",
       "    <tr>\n",
       "      <th>2010-01-06</th>\n",
       "      <td>-0.006049</td>\n",
       "      <td>0.004466</td>\n",
       "      <td>0.014406</td>\n",
       "      <td>-0.069977</td>\n",
       "      <td>-0.006804</td>\n",
       "      <td>-0.002350</td>\n",
       "      <td>-0.014055</td>\n",
       "      <td>-0.033573</td>\n",
       "      <td>-0.004239</td>\n",
       "      <td>0.006927</td>\n",
       "      <td>...</td>\n",
       "      <td>0.006376</td>\n",
       "      <td>-0.002124</td>\n",
       "      <td>-0.010053</td>\n",
       "      <td>-0.007195</td>\n",
       "      <td>-0.006531</td>\n",
       "      <td>-0.003360</td>\n",
       "      <td>-0.025532</td>\n",
       "      <td>-0.018282</td>\n",
       "      <td>-0.016034</td>\n",
       "      <td>-0.006156</td>\n",
       "    </tr>\n",
       "    <tr>\n",
       "      <th>2010-01-07</th>\n",
       "      <td>0.000650</td>\n",
       "      <td>-0.034455</td>\n",
       "      <td>-0.003759</td>\n",
       "      <td>0.009352</td>\n",
       "      <td>0.001235</td>\n",
       "      <td>-0.000471</td>\n",
       "      <td>-0.003297</td>\n",
       "      <td>-0.013557</td>\n",
       "      <td>-0.004664</td>\n",
       "      <td>-0.002419</td>\n",
       "      <td>...</td>\n",
       "      <td>-0.019792</td>\n",
       "      <td>-0.019595</td>\n",
       "      <td>-0.006376</td>\n",
       "      <td>0.020841</td>\n",
       "      <td>0.004494</td>\n",
       "      <td>-0.009662</td>\n",
       "      <td>-0.023555</td>\n",
       "      <td>-0.017160</td>\n",
       "      <td>-0.001850</td>\n",
       "      <td>-0.010454</td>\n",
       "    </tr>\n",
       "    <tr>\n",
       "      <th>2010-01-08</th>\n",
       "      <td>0.008197</td>\n",
       "      <td>0.023702</td>\n",
       "      <td>-0.005519</td>\n",
       "      <td>-0.057471</td>\n",
       "      <td>0.026367</td>\n",
       "      <td>-0.001414</td>\n",
       "      <td>0.026077</td>\n",
       "      <td>0.000370</td>\n",
       "      <td>-0.011242</td>\n",
       "      <td>0.001038</td>\n",
       "      <td>...</td>\n",
       "      <td>0.002159</td>\n",
       "      <td>-0.005436</td>\n",
       "      <td>-0.003286</td>\n",
       "      <td>-0.002951</td>\n",
       "      <td>0.005286</td>\n",
       "      <td>0.011103</td>\n",
       "      <td>0.013243</td>\n",
       "      <td>0.026717</td>\n",
       "      <td>0.006626</td>\n",
       "      <td>0.006873</td>\n",
       "    </tr>\n",
       "    <tr>\n",
       "      <th>2010-01-09</th>\n",
       "      <td>0.000000</td>\n",
       "      <td>0.000000</td>\n",
       "      <td>0.000000</td>\n",
       "      <td>0.000000</td>\n",
       "      <td>0.000000</td>\n",
       "      <td>0.000000</td>\n",
       "      <td>0.000000</td>\n",
       "      <td>0.000000</td>\n",
       "      <td>0.000000</td>\n",
       "      <td>0.000000</td>\n",
       "      <td>...</td>\n",
       "      <td>0.000000</td>\n",
       "      <td>0.000000</td>\n",
       "      <td>0.000000</td>\n",
       "      <td>0.000000</td>\n",
       "      <td>0.000000</td>\n",
       "      <td>0.000000</td>\n",
       "      <td>0.000000</td>\n",
       "      <td>0.000000</td>\n",
       "      <td>0.000000</td>\n",
       "      <td>0.000000</td>\n",
       "    </tr>\n",
       "    <tr>\n",
       "      <th>2010-01-10</th>\n",
       "      <td>0.000000</td>\n",
       "      <td>0.000000</td>\n",
       "      <td>0.000000</td>\n",
       "      <td>0.000000</td>\n",
       "      <td>0.000000</td>\n",
       "      <td>0.000000</td>\n",
       "      <td>0.000000</td>\n",
       "      <td>0.000000</td>\n",
       "      <td>0.000000</td>\n",
       "      <td>0.000000</td>\n",
       "      <td>...</td>\n",
       "      <td>0.000000</td>\n",
       "      <td>0.000000</td>\n",
       "      <td>0.000000</td>\n",
       "      <td>0.000000</td>\n",
       "      <td>0.000000</td>\n",
       "      <td>0.000000</td>\n",
       "      <td>0.000000</td>\n",
       "      <td>0.000000</td>\n",
       "      <td>0.000000</td>\n",
       "      <td>0.000000</td>\n",
       "    </tr>\n",
       "    <tr>\n",
       "      <th>2010-01-11</th>\n",
       "      <td>-0.004090</td>\n",
       "      <td>-0.018182</td>\n",
       "      <td>0.007513</td>\n",
       "      <td>0.012596</td>\n",
       "      <td>-0.000200</td>\n",
       "      <td>0.004469</td>\n",
       "      <td>0.004494</td>\n",
       "      <td>0.012411</td>\n",
       "      <td>0.005330</td>\n",
       "      <td>-0.004504</td>\n",
       "      <td>...</td>\n",
       "      <td>-0.014116</td>\n",
       "      <td>-0.013169</td>\n",
       "      <td>-0.001152</td>\n",
       "      <td>-0.006522</td>\n",
       "      <td>-0.002842</td>\n",
       "      <td>0.005744</td>\n",
       "      <td>-0.001513</td>\n",
       "      <td>-0.024335</td>\n",
       "      <td>-0.008861</td>\n",
       "      <td>-0.012802</td>\n",
       "    </tr>\n",
       "    <tr>\n",
       "      <th>2010-01-12</th>\n",
       "      <td>-0.012590</td>\n",
       "      <td>-0.060510</td>\n",
       "      <td>-0.022415</td>\n",
       "      <td>-0.124236</td>\n",
       "      <td>-0.020481</td>\n",
       "      <td>-0.007065</td>\n",
       "      <td>0.000000</td>\n",
       "      <td>-0.022778</td>\n",
       "      <td>-0.008831</td>\n",
       "      <td>0.016871</td>\n",
       "      <td>...</td>\n",
       "      <td>-0.034486</td>\n",
       "      <td>-0.015306</td>\n",
       "      <td>0.013906</td>\n",
       "      <td>-0.018008</td>\n",
       "      <td>-0.015987</td>\n",
       "      <td>-0.016362</td>\n",
       "      <td>-0.017842</td>\n",
       "      <td>-0.022977</td>\n",
       "      <td>-0.011440</td>\n",
       "      <td>-0.006629</td>\n",
       "    </tr>\n",
       "    <tr>\n",
       "      <th>2010-01-13</th>\n",
       "      <td>0.012373</td>\n",
       "      <td>0.019306</td>\n",
       "      <td>0.005406</td>\n",
       "      <td>-0.003155</td>\n",
       "      <td>0.003094</td>\n",
       "      <td>0.007300</td>\n",
       "      <td>0.011465</td>\n",
       "      <td>0.001494</td>\n",
       "      <td>0.008422</td>\n",
       "      <td>-0.002051</td>\n",
       "      <td>...</td>\n",
       "      <td>0.013491</td>\n",
       "      <td>0.017237</td>\n",
       "      <td>0.008091</td>\n",
       "      <td>0.015625</td>\n",
       "      <td>0.018018</td>\n",
       "      <td>0.016839</td>\n",
       "      <td>-0.005758</td>\n",
       "      <td>0.013726</td>\n",
       "      <td>0.014007</td>\n",
       "      <td>0.009269</td>\n",
       "    </tr>\n",
       "    <tr>\n",
       "      <th>2010-01-14</th>\n",
       "      <td>0.000863</td>\n",
       "      <td>0.025485</td>\n",
       "      <td>0.006384</td>\n",
       "      <td>-0.015924</td>\n",
       "      <td>-0.004321</td>\n",
       "      <td>-0.002819</td>\n",
       "      <td>0.006313</td>\n",
       "      <td>-0.026144</td>\n",
       "      <td>-0.002868</td>\n",
       "      <td>-0.003770</td>\n",
       "      <td>...</td>\n",
       "      <td>-0.015757</td>\n",
       "      <td>-0.010529</td>\n",
       "      <td>0.012015</td>\n",
       "      <td>-0.005981</td>\n",
       "      <td>0.012503</td>\n",
       "      <td>0.024507</td>\n",
       "      <td>0.004690</td>\n",
       "      <td>-0.013726</td>\n",
       "      <td>-0.005808</td>\n",
       "      <td>0.019899</td>\n",
       "    </tr>\n",
       "  </tbody>\n",
       "</table>\n",
       "<p>10 rows × 29 columns</p>\n",
       "</div>"
      ],
      "text/plain": [
       "                 QQQ        MU      ISRG      TMUS       CME       ADP  \\\n",
       "2010-01-05  0.000000  0.029067 -0.004512  0.002506 -0.000818 -0.005384   \n",
       "2010-01-06 -0.006049  0.004466  0.014406 -0.069977 -0.006804 -0.002350   \n",
       "2010-01-07  0.000650 -0.034455 -0.003759  0.009352  0.001235 -0.000471   \n",
       "2010-01-08  0.008197  0.023702 -0.005519 -0.057471  0.026367 -0.001414   \n",
       "2010-01-09  0.000000  0.000000  0.000000  0.000000  0.000000  0.000000   \n",
       "2010-01-10  0.000000  0.000000  0.000000  0.000000  0.000000  0.000000   \n",
       "2010-01-11 -0.004090 -0.018182  0.007513  0.012596 -0.000200  0.004469   \n",
       "2010-01-12 -0.012590 -0.060510 -0.022415 -0.124236 -0.020481 -0.007065   \n",
       "2010-01-13  0.012373  0.019306  0.005406 -0.003155  0.003094  0.007300   \n",
       "2010-01-14  0.000863  0.025485  0.006384 -0.015924 -0.004321 -0.002819   \n",
       "\n",
       "                INTU      BKNG      FISV      MDLZ  ...      NVDA      ADBE  \\\n",
       "2010-01-05  0.000000  0.011542  0.004239  0.047696  ...  0.014497  0.016313   \n",
       "2010-01-06 -0.014055 -0.033573 -0.004239  0.006927  ...  0.006376 -0.002124   \n",
       "2010-01-07 -0.003297 -0.013557 -0.004664 -0.002419  ... -0.019792 -0.019595   \n",
       "2010-01-08  0.026077  0.000370 -0.011242  0.001038  ...  0.002159 -0.005436   \n",
       "2010-01-09  0.000000  0.000000  0.000000  0.000000  ...  0.000000  0.000000   \n",
       "2010-01-10  0.000000  0.000000  0.000000  0.000000  ...  0.000000  0.000000   \n",
       "2010-01-11  0.004494  0.012411  0.005330 -0.004504  ... -0.014116 -0.013169   \n",
       "2010-01-12  0.000000 -0.022778 -0.008831  0.016871  ... -0.034486 -0.015306   \n",
       "2010-01-13  0.011465  0.001494  0.008422 -0.002051  ...  0.013491  0.017237   \n",
       "2010-01-14  0.006313 -0.026144 -0.002868 -0.003770  ... -0.015757 -0.010529   \n",
       "\n",
       "                 PEP     CMCSA      CSCO      INTC     GOOGL      AMZN  \\\n",
       "2010-01-05  0.012011 -0.013646 -0.004465 -0.000479 -0.004413  0.005883   \n",
       "2010-01-06 -0.010053 -0.007195 -0.006531 -0.003360 -0.025532 -0.018282   \n",
       "2010-01-07 -0.006376  0.020841  0.004494 -0.009662 -0.023555 -0.017160   \n",
       "2010-01-08 -0.003286 -0.002951  0.005286  0.011103  0.013243  0.026717   \n",
       "2010-01-09  0.000000  0.000000  0.000000  0.000000  0.000000  0.000000   \n",
       "2010-01-10  0.000000  0.000000  0.000000  0.000000  0.000000  0.000000   \n",
       "2010-01-11 -0.001152 -0.006522 -0.002842  0.005744 -0.001513 -0.024335   \n",
       "2010-01-12  0.013906 -0.018008 -0.015987 -0.016362 -0.017842 -0.022977   \n",
       "2010-01-13  0.008091  0.015625  0.018018  0.016839 -0.005758  0.013726   \n",
       "2010-01-14  0.012015 -0.005981  0.012503  0.024507  0.004690 -0.013726   \n",
       "\n",
       "                AAPL      MSFT  \n",
       "2010-01-05  0.001727  0.000323  \n",
       "2010-01-06 -0.016034 -0.006156  \n",
       "2010-01-07 -0.001850 -0.010454  \n",
       "2010-01-08  0.006626  0.006873  \n",
       "2010-01-09  0.000000  0.000000  \n",
       "2010-01-10  0.000000  0.000000  \n",
       "2010-01-11 -0.008861 -0.012802  \n",
       "2010-01-12 -0.011440 -0.006629  \n",
       "2010-01-13  0.014007  0.009269  \n",
       "2010-01-14 -0.005808  0.019899  \n",
       "\n",
       "[10 rows x 29 columns]"
      ]
     },
     "execution_count": 35,
     "metadata": {},
     "output_type": "execute_result"
    }
   ],
   "source": [
    "stock_data_return.head(10)"
   ]
  },
  {
   "cell_type": "markdown",
   "metadata": {},
   "source": [
    "Save the obtained and validated daily return stock market data to the local data directory:"
   ]
  },
  {
   "cell_type": "code",
   "execution_count": 36,
   "metadata": {},
   "outputs": [],
   "source": [
    "# define the filename of the data to be saved\n",
    "filename = 'qqq_nasdaq_30_daily_returns.csv'\n",
    "\n",
    "# save retrieved data to local data directory\n",
    "stock_data_return.to_csv(os.path.join(data_directory, filename), sep=';', encoding='utf-8')"
   ]
  },
  {
   "cell_type": "markdown",
   "metadata": {},
   "source": [
    "#### 2.3 Train-Validation Data Split"
   ]
  },
  {
   "cell_type": "markdown",
   "metadata": {},
   "source": [
    "To understand and evaluate the performance of any trained **supervised machine learning** model, it is good practice, to divide the dataset into a **training set** or **\"in-sample\"** data (the fraction of data records solely used for training purposes) and a **evaluation set** or **\"out-of-sample\"** data (the fraction of data records solely used for evaluation purposes). Pls. note, the **evaluation set** will never be shown to the model as part of the training process."
   ]
  },
  {
   "cell_type": "markdown",
   "metadata": {},
   "source": [
    "<img align=\"center\" style=\"max-width: 500px\" src=\"traintestsplit.png\">"
   ]
  },
  {
   "cell_type": "markdown",
   "metadata": {},
   "source": [
    "We set the split fraction of training sequences to **90%** of the total number of obtained sequences:"
   ]
  },
  {
   "cell_type": "code",
   "execution_count": 37,
   "metadata": {},
   "outputs": [],
   "source": [
    "split_fraction = 0.9\n",
    "split_row = int(stock_data_return.shape[0] * split_fraction)"
   ]
  },
  {
   "cell_type": "markdown",
   "metadata": {},
   "source": [
    "Split obtained returns into training (\"in-sample\") returns $r^{i}_{train}$ and validation (\"out-of-sample\") returns $r^{i}_{valid}$:"
   ]
  },
  {
   "cell_type": "code",
   "execution_count": 38,
   "metadata": {},
   "outputs": [],
   "source": [
    "train_stock_data_return = stock_data_return.iloc[:split_row]\n",
    "valid_stock_data_return = stock_data_return.iloc[split_row:]"
   ]
  },
  {
   "cell_type": "markdown",
   "metadata": {},
   "source": [
    "Visually inspect the obtained train and validation stock returns:"
   ]
  },
  {
   "cell_type": "code",
   "execution_count": 39,
   "metadata": {},
   "outputs": [
    {
     "data": {
      "image/png": "[encoded data removed]",
      "text/plain": [
       "<Figure size 1080x360 with 1 Axes>"
      ]
     },
     "metadata": {
      "needs_background": "light"
     },
     "output_type": "display_data"
    }
   ],
   "source": [
    "plt.rcParams['figure.figsize'] = [15, 5]\n",
    "fig = plt.figure()\n",
    "ax = fig.add_subplot(111)\n",
    "\n",
    "# plot daily training market returns\n",
    "ax.plot(stock_data_return.index[:split_row,], train_stock_data_return['QQQ'], c='C0', label='train')\n",
    "\n",
    "# plot daily validation market returns\n",
    "ax.plot(stock_data_return.index[split_row:,], valid_stock_data_return['QQQ'], c='C1', label='valid')\n",
    "\n",
    "# rotate x-labels 45 degree angle\n",
    "for tick in ax.get_xticklabels():\n",
    "    tick.set_rotation(45)\n",
    "\n",
    "# set axis labels and limits\n",
    "ax.set_xlabel('[time]', fontsize=10)\n",
    "ax.set_xlim([pd.to_datetime('01-01-2010'), pd.to_datetime('31-12-2019')])\n",
    "ax.set_ylabel('[daily QQQ returns]', fontsize=10)\n",
    "\n",
    "# set plot legend\n",
    "plt.legend(loc=\"lower right\", numpoints=1, fancybox=True)\n",
    "\n",
    "# set plot title\n",
    "plt.title('Invesco QQQ Trust Series 1 - Daily Historical Adjusted Returns Train-Validation Split', fontsize=10);"
   ]
  },
  {
   "cell_type": "markdown",
   "metadata": {},
   "source": [
    "Determine count (shape) of daily return train sequences $r^{i}_{train}$:"
   ]
  },
  {
   "cell_type": "code",
   "execution_count": 40,
   "metadata": {},
   "outputs": [
    {
     "data": {
      "text/plain": [
       "(3283, 29)"
      ]
     },
     "execution_count": 40,
     "metadata": {},
     "output_type": "execute_result"
    }
   ],
   "source": [
    "train_stock_data_return.shape"
   ]
  },
  {
   "cell_type": "markdown",
   "metadata": {},
   "source": [
    "Determine count (shape) of daily return train sequences $r^{i}_{valid}$:"
   ]
  },
  {
   "cell_type": "code",
   "execution_count": 41,
   "metadata": {},
   "outputs": [
    {
     "data": {
      "text/plain": [
       "(365, 29)"
      ]
     },
     "execution_count": 41,
     "metadata": {},
     "output_type": "execute_result"
    }
   ],
   "source": [
    "valid_stock_data_return.shape"
   ]
  },
  {
   "cell_type": "markdown",
   "metadata": {},
   "source": [
    "### 3. Data Sequencing"
   ]
  },
  {
   "cell_type": "markdown",
   "metadata": {},
   "source": [
    "#### 3.1 Time-Series to Sequence Conversion"
   ]
  },
  {
   "cell_type": "markdown",
   "metadata": {},
   "source": [
    "In the following, we determine the number of return time-steps $n$ each individual sequence $s^{i}$ should be comprised of. Each sequence is thereby determined by the number of predictor (return) time-steps $t$ and the prediction (return) horizon $h = t+1$."
   ]
  },
  {
   "cell_type": "markdown",
   "metadata": {},
   "source": [
    "<img align=\"center\" style=\"max-width: 500px\" src=\"timesteps.png\">"
   ]
  },
  {
   "cell_type": "markdown",
   "metadata": {},
   "source": [
    "In this example, we will set the number of predictor (return) time-steps to $t$=4. This indicates that the input sequence of each sample is a vector of 4 sequential daily stock returns (pls. note, the choice of $t$=4 is arbitrary and should be selected through experimentation). Furthermore, we set the return horizon to be predicted to 1, which specifies that we aim to forecast a single future time-step:"
   ]
  },
  {
   "cell_type": "code",
   "execution_count": 42,
   "metadata": {},
   "outputs": [],
   "source": [
    "time_steps = 4 # number of predictor timesteps\n",
    "horizon = 1 # number of timesteps to be predicted\n",
    "sequence_length = time_steps + horizon # determine sequence length"
   ]
  },
  {
   "cell_type": "markdown",
   "metadata": {},
   "source": [
    "Next, we extract sequences $s^i$ of **sequence length: 5 time-steps**. Thereby, we will step-wise iterate (\"rolling window\") over the entire sequence of daily stock returns $r_i$. In each iteration step, we extract an individual sequence of stock returns consisting of $n$ time-steps. The extracted individual sequences of daily closing prices are then collected in a single data frame."
   ]
  },
  {
   "cell_type": "markdown",
   "metadata": {},
   "source": [
    "<img align=\"center\" style=\"max-width: 900px\" src=\"sequences.png\">"
   ]
  },
  {
   "cell_type": "markdown",
   "metadata": {},
   "source": [
    "#### 3.2 In-Sample Target Log-Returns"
   ]
  },
  {
   "cell_type": "markdown",
   "metadata": {},
   "source": [
    "Next, we will determine the number of available **rolling training (\"in-sample\") target sequences**. Remember that each sequence exhibits consists of **a sequence length of 5 time-steps** as defined by the variable `sequence_length` above:"
   ]
  },
  {
   "cell_type": "code",
   "execution_count": 43,
   "metadata": {},
   "outputs": [],
   "source": [
    "no_train_sequences = train_stock_data_return.shape[0] - sequence_length"
   ]
  },
  {
   "cell_type": "markdown",
   "metadata": {},
   "source": [
    "Let's now print the number of available rolling training sequences comprised of 5 daily adjusted log-return time-steps each:"
   ]
  },
  {
   "cell_type": "code",
   "execution_count": 44,
   "metadata": {},
   "outputs": [
    {
     "data": {
      "text/plain": [
       "3278"
      ]
     },
     "execution_count": 44,
     "metadata": {},
     "output_type": "execute_result"
    }
   ],
   "source": [
    "no_train_sequences"
   ]
  },
  {
   "cell_type": "markdown",
   "metadata": {},
   "source": [
    "Initialize a 2D tensor (a 2D array) that contains the target variable we aim to learn to predict as part of the training procedure. The training target corresponds to a **2D tensor of size** `no_train_sequences`$\\times$`sequence_length`. The tensor contains the daily adjusted log-returns of the QQQ: "
   ]
  },
  {
   "cell_type": "code",
   "execution_count": 45,
   "metadata": {},
   "outputs": [],
   "source": [
    "# init the train sequence target daily returns data 2D matrix\n",
    "train_stock_sequence_target_data = np.zeros([no_train_sequences, sequence_length])\n",
    "\n",
    "# init the train sequence target daily dates data 2D matrix\n",
    "train_stock_sequence_target_date = np.empty([no_train_sequences, sequence_length], dtype='datetime64[s]')"
   ]
  },
  {
   "cell_type": "markdown",
   "metadata": {},
   "source": [
    "Let's now fill the created 2D tensor with the rolling sequences of the QQQ's daily adjusted log-returns: "
   ]
  },
  {
   "cell_type": "code",
   "execution_count": 46,
   "metadata": {},
   "outputs": [],
   "source": [
    "# init the sequence count\n",
    "j = 0\n",
    "\n",
    "# iterate over the distinct daily returns of the training dataset\n",
    "while j < (train_stock_data_return.shape[0] - sequence_length):\n",
    "\n",
    "    # determine current training sequence returns\n",
    "    return_sequence = np.array(train_stock_data_return['QQQ'][j:j + sequence_length].T)\n",
    "    \n",
    "    # determine current training sequence dates\n",
    "    date_sequence = np.array(train_stock_data_return.index[j:j + sequence_length].T)\n",
    "    \n",
    "    # fill 2D matrix of train stock target sequences with current sequence\n",
    "    train_stock_sequence_target_data[j, :] = return_sequence\n",
    "    \n",
    "    # fill 2D matrix of train stock target sequences with current sequence\n",
    "    train_stock_sequence_target_date[j, :] = date_sequence\n",
    "    \n",
    "    # increase the sequence count\n",
    "    j += 1"
   ]
  },
  {
   "cell_type": "markdown",
   "metadata": {},
   "source": [
    "Ultimately, let's inspect the final shape of the filled 2D-array of daily adjusted log-return **target training** sequences:"
   ]
  },
  {
   "cell_type": "code",
   "execution_count": 47,
   "metadata": {},
   "outputs": [
    {
     "data": {
      "text/plain": [
       "(3278, 5)"
      ]
     },
     "execution_count": 47,
     "metadata": {},
     "output_type": "execute_result"
    }
   ],
   "source": [
    "train_stock_sequence_target_data.shape"
   ]
  },
  {
   "cell_type": "markdown",
   "metadata": {},
   "source": [
    "Also, inspect the **first 10 sequences** of the initialized and filled 2D-array of daily adjusted log-return target training sequences:"
   ]
  },
  {
   "cell_type": "code",
   "execution_count": 48,
   "metadata": {},
   "outputs": [
    {
     "data": {
      "text/plain": [
       "array([[ 0.        , -0.00604943,  0.00064991,  0.00819669,  0.        ],\n",
       "       [-0.00604943,  0.00064991,  0.00819669,  0.        ,  0.        ],\n",
       "       [ 0.00064991,  0.00819669,  0.        ,  0.        , -0.00409013],\n",
       "       [ 0.00819669,  0.        ,  0.        , -0.00409013, -0.01258953],\n",
       "       [ 0.        ,  0.        , -0.00409013, -0.01258953,  0.0123734 ],\n",
       "       [ 0.        , -0.00409013, -0.01258953,  0.0123734 ,  0.00086305],\n",
       "       [-0.00409013, -0.01258953,  0.0123734 ,  0.00086305, -0.01170886],\n",
       "       [-0.01258953,  0.0123734 ,  0.00086305, -0.01170886,  0.        ],\n",
       "       [ 0.0123734 ,  0.00086305, -0.01170886,  0.        ,  0.        ],\n",
       "       [ 0.00086305, -0.01170886,  0.        ,  0.        ,  0.        ]])"
      ]
     },
     "execution_count": 48,
     "metadata": {},
     "output_type": "execute_result"
    }
   ],
   "source": [
    "train_stock_sequence_target_data[0:10, :]"
   ]
  },
  {
   "cell_type": "markdown",
   "metadata": {},
   "source": [
    "And inspect the **last 10 sequences** of the initialized and filled 2D-array of daily adjusted log-return target training sequences:"
   ]
  },
  {
   "cell_type": "code",
   "execution_count": 49,
   "metadata": {},
   "outputs": [
    {
     "data": {
      "text/plain": [
       "array([[-0.02292021,  0.00626867, -0.02486142, -0.01460171, -0.0314837 ],\n",
       "       [ 0.00626867, -0.02486142, -0.01460171, -0.0314837 ,  0.        ],\n",
       "       [-0.02486142, -0.01460171, -0.0314837 ,  0.        ,  0.        ],\n",
       "       [-0.01460171, -0.0314837 ,  0.        ,  0.        , -0.02511091],\n",
       "       [-0.0314837 ,  0.        ,  0.        , -0.02511091,  0.        ],\n",
       "       [ 0.        ,  0.        , -0.02511091,  0.        ,  0.06056744],\n",
       "       [ 0.        , -0.02511091,  0.        ,  0.06056744,  0.00386229],\n",
       "       [-0.02511091,  0.        ,  0.06056744,  0.00386229, -0.00052278],\n",
       "       [ 0.        ,  0.06056744,  0.00386229, -0.00052278,  0.        ]])"
      ]
     },
     "execution_count": 49,
     "metadata": {},
     "output_type": "execute_result"
    }
   ],
   "source": [
    "train_stock_sequence_target_data[-10:-1, :]"
   ]
  },
  {
   "cell_type": "markdown",
   "metadata": {},
   "source": [
    "#### 3.2 In-Sample Input Log-Returns"
   ]
  },
  {
   "cell_type": "markdown",
   "metadata": {},
   "source": [
    "Next, we will determine the number of available **rolling training (\"in-sample\") input sequences**. Remember that each sequence exhibits consists of a a total number of 5 time-steps as defined by the variable `sequence_length` above. However, we will use several NASDAQ constituents as an input. This will add a third dimension to the input data, defined by the variable `no_input_stocks`, we need to consider when preparing the rolling input training sequences. \n",
    "\n",
    "Initialize a 3D tensor (a 3D array) that contains the input sequences we aim learn from as part of the training procedure. The training input corresponds to a **3D tensor of size:** `no_train_sequences` $\\times$ `sequence_length`$\\times$`no_input_stocks`. The tensor contains the daily adjusted log-returns of the distinct NASDAQ constituents: "
   ]
  },
  {
   "cell_type": "code",
   "execution_count": 50,
   "metadata": {},
   "outputs": [],
   "source": [
    "# init the train sequence input data 3D matrix\n",
    "train_stock_sequence_input_data = np.zeros([no_train_sequences, sequence_length, no_input_stocks])"
   ]
  },
  {
   "cell_type": "markdown",
   "metadata": {},
   "source": [
    "Let's now fill the created 3D tensor with the rolling sequences of the distinct NASDAQ constituents:"
   ]
  },
  {
   "cell_type": "code",
   "execution_count": 51,
   "metadata": {},
   "outputs": [],
   "source": [
    "# iterate over the distinct ticker symbols\n",
    "for i in range(0, len(symbols)):\n",
    "\n",
    "    # init sequence count\n",
    "    j = 0\n",
    "\n",
    "    # iterate over the distinct daily returns of the training dataset\n",
    "    while j < (train_stock_data_return.shape[0] - sequence_length):\n",
    "\n",
    "        # determine current training sequence\n",
    "        sequence = np.array(train_stock_data_return[symbols[i]][j:j + sequence_length].T)\n",
    "\n",
    "        # fill 3D matrix of train stock input sequences with current sequence\n",
    "        train_stock_sequence_input_data[j, :, i] = sequence\n",
    "\n",
    "        # increase sequence count\n",
    "        j += 1"
   ]
  },
  {
   "cell_type": "markdown",
   "metadata": {},
   "source": [
    "Let's inspect the final shape of the filled 3D-array of daily adjusted log-return **input training** sequences:"
   ]
  },
  {
   "cell_type": "code",
   "execution_count": 52,
   "metadata": {},
   "outputs": [
    {
     "data": {
      "text/plain": [
       "(3278, 5, 28)"
      ]
     },
     "execution_count": 52,
     "metadata": {},
     "output_type": "execute_result"
    }
   ],
   "source": [
    "train_stock_sequence_input_data.shape"
   ]
  },
  {
   "cell_type": "markdown",
   "metadata": {},
   "source": [
    "In addition, let's inspect the first 10 sequences of the **first constituent** of the filled 3D-array of daily adjusted log-return input training sequences:"
   ]
  },
  {
   "cell_type": "code",
   "execution_count": 53,
   "metadata": {},
   "outputs": [
    {
     "data": {
      "text/plain": [
       "array([[ 0.0290665 ,  0.0044663 , -0.03445491,  0.02370213,  0.        ],\n",
       "       [ 0.0044663 , -0.03445491,  0.02370213,  0.        ,  0.        ],\n",
       "       [-0.03445491,  0.02370213,  0.        ,  0.        , -0.01818239],\n",
       "       [ 0.02370213,  0.        ,  0.        , -0.01818239, -0.06050989],\n",
       "       [ 0.        ,  0.        , -0.01818239, -0.06050989,  0.0193056 ],\n",
       "       [ 0.        , -0.01818239, -0.06050989,  0.0193056 ,  0.02548505],\n",
       "       [-0.01818239, -0.06050989,  0.0193056 ,  0.02548505, -0.05754218],\n",
       "       [-0.06050989,  0.0193056 ,  0.02548505, -0.05754218,  0.        ],\n",
       "       [ 0.0193056 ,  0.02548505, -0.05754218,  0.        ,  0.        ],\n",
       "       [ 0.02548505, -0.05754218,  0.        ,  0.        ,  0.        ]])"
      ]
     },
     "execution_count": 53,
     "metadata": {},
     "output_type": "execute_result"
    }
   ],
   "source": [
    "train_stock_sequence_input_data[0:10, :, 0]"
   ]
  },
  {
   "cell_type": "markdown",
   "metadata": {},
   "source": [
    "Also, let's inspect the first 10 sequences of the **last constituent** of the filled 3D-array of daily adjusted log-return input training sequences:"
   ]
  },
  {
   "cell_type": "code",
   "execution_count": 54,
   "metadata": {},
   "outputs": [
    {
     "data": {
      "text/plain": [
       "array([[ 0.00032302, -0.00615596, -0.01045419,  0.00687323,  0.        ],\n",
       "       [-0.00615596, -0.01045419,  0.00687323,  0.        ,  0.        ],\n",
       "       [-0.01045419,  0.00687323,  0.        ,  0.        , -0.01280167],\n",
       "       [ 0.00687323,  0.        ,  0.        , -0.01280167, -0.00662944],\n",
       "       [ 0.        ,  0.        , -0.01280167, -0.00662944,  0.00926865],\n",
       "       [ 0.        , -0.01280167, -0.00662944,  0.00926865,  0.01989937],\n",
       "       [-0.01280167, -0.00662944,  0.00926865,  0.01989937, -0.00323519],\n",
       "       [-0.00662944,  0.00926865,  0.01989937, -0.00323519,  0.        ],\n",
       "       [ 0.00926865,  0.01989937, -0.00323519,  0.        ,  0.        ],\n",
       "       [ 0.01989937, -0.00323519,  0.        ,  0.        ,  0.        ]])"
      ]
     },
     "execution_count": 54,
     "metadata": {},
     "output_type": "execute_result"
    }
   ],
   "source": [
    "train_stock_sequence_input_data[0:10, :, -1]"
   ]
  },
  {
   "cell_type": "markdown",
   "metadata": {},
   "source": [
    "#### 3.3 Out-of-Sample Output Log-Returns"
   ]
  },
  {
   "cell_type": "markdown",
   "metadata": {},
   "source": [
    "Now, we will determine the number of available **rolling validation (\"out-of-sample\") target sequences**. Remember again that each sequence exhibits consists of a a total number of 5 time-steps as defined by the variable `sequence_length` above:"
   ]
  },
  {
   "cell_type": "code",
   "execution_count": 55,
   "metadata": {},
   "outputs": [],
   "source": [
    "# determine max valid index\n",
    "no_valid_sequences = valid_stock_data_return.shape[0] - sequence_length"
   ]
  },
  {
   "cell_type": "markdown",
   "metadata": {},
   "source": [
    "Let's now print the number of available validation training comprised of 5 daily adjusted log-return time-steps each:"
   ]
  },
  {
   "cell_type": "code",
   "execution_count": 56,
   "metadata": {},
   "outputs": [
    {
     "data": {
      "text/plain": [
       "360"
      ]
     },
     "execution_count": 56,
     "metadata": {},
     "output_type": "execute_result"
    }
   ],
   "source": [
    "no_valid_sequences"
   ]
  },
  {
   "cell_type": "markdown",
   "metadata": {},
   "source": [
    "Initialize a 2D tensor (a 2D array) that contains the target variable we aimed to learn to predict as part of the training procedure. The validation target corresponds to a **2D tensor of size** `no_valid_sequences`$\\times$`sequence_length`. The tensor contains the daily adjusted log-returns of the QQQ: "
   ]
  },
  {
   "cell_type": "code",
   "execution_count": 57,
   "metadata": {},
   "outputs": [],
   "source": [
    "# init the valid sequence target daily returns data 2D matrix\n",
    "valid_stock_sequence_target_data = np.zeros([no_valid_sequences, sequence_length])\n",
    "\n",
    "# init the valid sequence target daily dates data 2D matrix\n",
    "valid_stock_sequence_target_date = np.empty([no_valid_sequences, sequence_length], dtype='datetime64[s]')"
   ]
  },
  {
   "cell_type": "markdown",
   "metadata": {},
   "source": [
    "Let's now again fill the created 2D tensor with the rolling sequences of the QQQ's daily adjusted log-returns: "
   ]
  },
  {
   "cell_type": "code",
   "execution_count": 58,
   "metadata": {},
   "outputs": [],
   "source": [
    "# init sequence count\n",
    "j = 0\n",
    "\n",
    "# iterate over the distinct daily returns of the validation dataset\n",
    "while j < (valid_stock_data_return.shape[0] - sequence_length):\n",
    "\n",
    "    # determine current validation sequence returns\n",
    "    return_sequence = np.array(valid_stock_data_return['QQQ'][j:j + sequence_length].T)\n",
    "    \n",
    "    # determine current validation sequence dates\n",
    "    date_sequence = np.array(valid_stock_data_return.index[j:j + sequence_length].T)\n",
    "\n",
    "    # fill 2D matrix of valid stock target sequences with current sequence\n",
    "    valid_stock_sequence_target_data[j, :] = return_sequence\n",
    "    \n",
    "    # fill 2D matrix of valid stock target sequences with current sequence\n",
    "    valid_stock_sequence_target_date[j, :] = date_sequence\n",
    "\n",
    "    # increase sequence count\n",
    "    j += 1"
   ]
  },
  {
   "cell_type": "markdown",
   "metadata": {},
   "source": [
    "Ultimately, let's inspect the final shape of the filled 2D-array of daily adjusted log-return **target validation** sequences:"
   ]
  },
  {
   "cell_type": "code",
   "execution_count": 59,
   "metadata": {},
   "outputs": [
    {
     "data": {
      "text/plain": [
       "(360, 5)"
      ]
     },
     "execution_count": 59,
     "metadata": {},
     "output_type": "execute_result"
    }
   ],
   "source": [
    "valid_stock_sequence_target_data.shape"
   ]
  },
  {
   "cell_type": "markdown",
   "metadata": {},
   "source": [
    "Also, inspect the **first 10 sequences** of the initialized and filled 2D-array of daily adjusted log-return target validation sequences:"
   ]
  },
  {
   "cell_type": "code",
   "execution_count": 60,
   "metadata": {},
   "outputs": [
    {
     "data": {
      "text/plain": [
       "array([[ 0.        ,  0.00401123, -0.03321587,  0.04189455,  0.        ],\n",
       "       [ 0.00401123, -0.03321587,  0.04189455,  0.        ,  0.        ],\n",
       "       [-0.03321587,  0.04189455,  0.        ,  0.        ,  0.01183519],\n",
       "       [ 0.04189455,  0.        ,  0.        ,  0.01183519,  0.00900488],\n",
       "       [ 0.        ,  0.        ,  0.01183519,  0.00900488,  0.00811651],\n",
       "       [ 0.        ,  0.01183519,  0.00900488,  0.00811651,  0.00285608],\n",
       "       [ 0.01183519,  0.00900488,  0.00811651,  0.00285608, -0.00366503],\n",
       "       [ 0.00900488,  0.00811651,  0.00285608, -0.00366503,  0.        ],\n",
       "       [ 0.00811651,  0.00285608, -0.00366503,  0.        ,  0.        ],\n",
       "       [ 0.00285608, -0.00366503,  0.        ,  0.        , -0.00887598]])"
      ]
     },
     "execution_count": 60,
     "metadata": {},
     "output_type": "execute_result"
    }
   ],
   "source": [
    "valid_stock_sequence_target_data[0:10, :]"
   ]
  },
  {
   "cell_type": "markdown",
   "metadata": {},
   "source": [
    "And inspect the **last 10 sequences** of the initialized and filled 2D-array of daily adjusted log-return target validation sequences:"
   ]
  },
  {
   "cell_type": "code",
   "execution_count": 61,
   "metadata": {},
   "outputs": [
    {
     "data": {
      "text/plain": [
       "array([[ 0.00057327,  0.00076392,  0.006232  ,  0.00402305,  0.        ],\n",
       "       [ 0.00076392,  0.006232  ,  0.00402305,  0.        ,  0.        ],\n",
       "       [ 0.006232  ,  0.00402305,  0.        ,  0.        ,  0.00263776],\n",
       "       [ 0.00402305,  0.        ,  0.        ,  0.00263776,  0.00051926],\n",
       "       [ 0.        ,  0.        ,  0.00263776,  0.00051926,  0.        ],\n",
       "       [ 0.        ,  0.00263776,  0.00051926,  0.        ,  0.00878534],\n",
       "       [ 0.00263776,  0.00051926,  0.        ,  0.00878534, -0.00084225],\n",
       "       [ 0.00051926,  0.        ,  0.00878534, -0.00084225,  0.        ],\n",
       "       [ 0.        ,  0.00878534, -0.00084225,  0.        ,  0.        ]])"
      ]
     },
     "execution_count": 61,
     "metadata": {},
     "output_type": "execute_result"
    }
   ],
   "source": [
    "valid_stock_sequence_target_data[-10:-1, :]"
   ]
  },
  {
   "cell_type": "markdown",
   "metadata": {},
   "source": [
    "#### 3.4 Out-of-Sample Input Log-Returns"
   ]
  },
  {
   "cell_type": "markdown",
   "metadata": {},
   "source": [
    "Following, we will determine the number of available **rolling training (\"out-of-sample\") input sequences**. Remember that each sequence exhibits consists of a a total number of 5 time-steps as defined by the variable `sequence_length` above. However, we will use several NASDAQ constituents as an input. Again, this will add a third dimension to the input data, defined by the variable `no_input_stocks`, we need to consider when preparing the rolling input validation sequences. \n",
    "\n",
    "Initialize a 3D tensor (a 3D array) that contains the input sequences we aim to use in the validation procedure. The validation input corresponds to a **3D tensor of size** `no_valid_sequences` $\\times$ `sequence_length`$\\times$`no_input_stocks`. The tensor contains the daily adjusted log-returns of the distinct NASDAQ constituents: "
   ]
  },
  {
   "cell_type": "code",
   "execution_count": 62,
   "metadata": {},
   "outputs": [],
   "source": [
    "# init the valid sequence input data 3D matrix\n",
    "valid_stock_sequence_input_data = np.zeros([no_valid_sequences, sequence_length, no_input_stocks])"
   ]
  },
  {
   "cell_type": "markdown",
   "metadata": {},
   "source": [
    "Let's now fill the created 3D tensor with the rolling sequences of the distinct NASDAQ constituents:"
   ]
  },
  {
   "cell_type": "code",
   "execution_count": 63,
   "metadata": {},
   "outputs": [],
   "source": [
    "# iterate over distinct ticker symbols\n",
    "for i in range(0, len(symbols)):\n",
    "\n",
    "    # init sequence count\n",
    "    j = 0\n",
    "\n",
    "    # iterate over the distinct daily returns of the training dataset\n",
    "    while j < (valid_stock_data_return.shape[0] - sequence_length):\n",
    "\n",
    "        # determine current training sequence\n",
    "        sequence = np.array(valid_stock_data_return[symbols[i]][j:j + sequence_length].T)\n",
    "\n",
    "        # fill 3D matrix of train stock input sequences with current sequence\n",
    "        valid_stock_sequence_input_data[j, :, i] = sequence\n",
    "\n",
    "        # increase sequence count\n",
    "        j += 1"
   ]
  },
  {
   "cell_type": "markdown",
   "metadata": {},
   "source": [
    "Let's inspect the final shape of the filled 3D-array of daily adjusted log-return **input validation** sequences:"
   ]
  },
  {
   "cell_type": "code",
   "execution_count": 64,
   "metadata": {},
   "outputs": [
    {
     "data": {
      "text/plain": [
       "(360, 5, 28)"
      ]
     },
     "execution_count": 64,
     "metadata": {},
     "output_type": "execute_result"
    }
   ],
   "source": [
    "valid_stock_sequence_input_data.shape"
   ]
  },
  {
   "cell_type": "markdown",
   "metadata": {},
   "source": [
    "In addition, let's inspect the first 10 sequences of the **first constituent** of the filled 3D-array of daily adjusted log-return input validation sequences:"
   ]
  },
  {
   "cell_type": "code",
   "execution_count": 65,
   "metadata": {},
   "outputs": [
    {
     "data": {
      "text/plain": [
       "array([[ 0.        ,  0.03164037, -0.05491576,  0.0533879 ,  0.        ],\n",
       "       [ 0.03164037, -0.05491576,  0.0533879 ,  0.        ,  0.        ],\n",
       "       [-0.05491576,  0.0533879 ,  0.        ,  0.        ,  0.03898542],\n",
       "       [ 0.0533879 ,  0.        ,  0.        ,  0.03898542, -0.0076764 ],\n",
       "       [ 0.        ,  0.        ,  0.03898542, -0.0076764 ,  0.04915696],\n",
       "       [ 0.        ,  0.03898542, -0.0076764 ,  0.04915696,  0.01317472],\n",
       "       [ 0.03898542, -0.0076764 ,  0.04915696,  0.01317472,  0.00278083],\n",
       "       [-0.0076764 ,  0.04915696,  0.01317472,  0.00278083,  0.        ],\n",
       "       [ 0.04915696,  0.01317472,  0.00278083,  0.        ,  0.        ],\n",
       "       [ 0.01317472,  0.00278083,  0.        ,  0.        , -0.03792192]])"
      ]
     },
     "execution_count": 65,
     "metadata": {},
     "output_type": "execute_result"
    }
   ],
   "source": [
    "valid_stock_sequence_input_data[0:10, :, 0]"
   ]
  },
  {
   "cell_type": "markdown",
   "metadata": {},
   "source": [
    "Also, let's inspect the first 10 sequences of the **last constituent** of the filled 3D-array of daily adjusted log-return input validation sequences:"
   ]
  },
  {
   "cell_type": "code",
   "execution_count": 66,
   "metadata": {},
   "outputs": [
    {
     "data": {
      "text/plain": [
       "array([[ 0.        , -0.00444031, -0.03748175,  0.04546014,  0.        ],\n",
       "       [-0.00444031, -0.03748175,  0.04546014,  0.        ,  0.        ],\n",
       "       [-0.03748175,  0.04546014,  0.        ,  0.        ,  0.00127464],\n",
       "       [ 0.04546014,  0.        ,  0.        ,  0.00127464,  0.00722439],\n",
       "       [ 0.        ,  0.        ,  0.00127464,  0.00722439,  0.01419825],\n",
       "       [ 0.        ,  0.00127464,  0.00722439,  0.01419825, -0.00644617],\n",
       "       [ 0.00127464,  0.00722439,  0.01419825, -0.00644617, -0.00775208],\n",
       "       [ 0.00722439,  0.01419825, -0.00644617, -0.00775208,  0.        ],\n",
       "       [ 0.01419825, -0.00644617, -0.00775208,  0.        ,  0.        ],\n",
       "       [-0.00644617, -0.00775208,  0.        ,  0.        , -0.00732245]])"
      ]
     },
     "execution_count": 66,
     "metadata": {},
     "output_type": "execute_result"
    }
   ],
   "source": [
    "valid_stock_sequence_input_data[0:10, :, -1]"
   ]
  },
  {
   "cell_type": "markdown",
   "metadata": {},
   "source": [
    "### 4. Data Preparation"
   ]
  },
  {
   "cell_type": "markdown",
   "metadata": {},
   "source": [
    "Before we finalize the data preparation, let's briefly revisit how RNN's or, more specifically, LSTM based NN's can be trained to predict the next element of an input sequence. The cartoon below is derived from the \"Next Word Predictor\" Example that we also discussed in the course. For each **input return** $r_{i}$ of the input return training sequence $s^i$ the LSTM is supposed to learn to **predict the return** of the next time-step $\\hat{r}_{i+1}$. In order to make such a future return $\\hat{r}_{i+1}$ prediction the LSTM uses it's learned hidden state information $h_{i}$ as well as the current return $r_{i}$ as an input."
   ]
  },
  {
   "cell_type": "markdown",
   "metadata": {},
   "source": [
    "#### 4.1 Input-Target Data Preparation"
   ]
  },
  {
   "cell_type": "markdown",
   "metadata": {},
   "source": [
    "For each time-step the predicted return $\\hat{r}_{i+1}$ is then compared to the **target return** $r_{i+1}$. The discrepancy between both is collected as a loss $\\mathcal{L}$ for the distinct timesteps. The accumulation of the individual time-step losses is accumulated as the total loss of a sequence $\\mathcal{L}_{All}$."
   ]
  },
  {
   "cell_type": "markdown",
   "metadata": {},
   "source": [
    "<img align=\"center\" style=\"max-width: 600px\" src=\"training.png\">"
   ]
  },
  {
   "cell_type": "markdown",
   "metadata": {},
   "source": [
    "In order to establish the LSTM training setup outlined above each input training sequence $s^{i}_{train}$ is sliced to result in an offset sequence of input-train-sequence return time-steps denoted by $s^{i}_{train, input}=\\{r_{1}, ..., r_{t-1}\\}$. Furthermore, each target training sequence $s^{i}_{train}$ is sliced to result in an offset sequence of target-train-sequence return time-steps denoted by $s^{i}_{train, target}=\\{r_{2}, ..., r_{t}\\}$. An example of the applied sequence offset given a sequence length of five time-steps is shown hereafter: "
   ]
  },
  {
   "cell_type": "markdown",
   "metadata": {},
   "source": [
    "<img align=\"center\" style=\"max-width: 800px\" src=\"sequencesplit.png\">"
   ]
  },
  {
   "cell_type": "markdown",
   "metadata": {},
   "source": [
    "Let's now determine the introduced offset of the target training sequences: "
   ]
  },
  {
   "cell_type": "code",
   "execution_count": 67,
   "metadata": {},
   "outputs": [],
   "source": [
    "train_sequences_target = train_stock_sequence_target_data[:, 1:]"
   ]
  },
  {
   "cell_type": "markdown",
   "metadata": {},
   "source": [
    "Check the derived dimensionality of the **target-train-sequences** tensor:"
   ]
  },
  {
   "cell_type": "code",
   "execution_count": 68,
   "metadata": {},
   "outputs": [
    {
     "data": {
      "text/plain": [
       "(3278, 4)"
      ]
     },
     "execution_count": 68,
     "metadata": {},
     "output_type": "execute_result"
    }
   ],
   "source": [
    "train_sequences_target.shape"
   ]
  },
  {
   "cell_type": "markdown",
   "metadata": {},
   "source": [
    "Also let's determine the introduced offset of the input training sequences: "
   ]
  },
  {
   "cell_type": "code",
   "execution_count": 69,
   "metadata": {},
   "outputs": [],
   "source": [
    "train_sequences_input = train_stock_sequence_input_data[:, :-1, :]"
   ]
  },
  {
   "cell_type": "markdown",
   "metadata": {},
   "source": [
    "Check the derived dimensionality of the **input-train-sequences** tensor:"
   ]
  },
  {
   "cell_type": "code",
   "execution_count": 70,
   "metadata": {},
   "outputs": [
    {
     "data": {
      "text/plain": [
       "(3278, 4, 28)"
      ]
     },
     "execution_count": 70,
     "metadata": {},
     "output_type": "execute_result"
    }
   ],
   "source": [
    "train_sequences_input.shape"
   ]
  },
  {
   "cell_type": "markdown",
   "metadata": {},
   "source": [
    "In a next step we will likewise process each input validation sequence $s^{i}_{valid}$. The input validation sequences are sliced to also result in offset sequences of input-validation-sequence return time-steps denoted by $s^{i}_{valid, input}=\\{r_{1}, ..., r_{t-1}\\}$. Furthermore, each target validation sequence $s^{i}_{valid}$ is sliced to result in an offset sequence of target-validation-sequence return time-steps denoted by $s^{i}_{valid, target}=\\{r_{2}, ..., r_{t}\\}$."
   ]
  },
  {
   "cell_type": "markdown",
   "metadata": {},
   "source": [
    "Let's determine the introduced offset of the target validation sequences: "
   ]
  },
  {
   "cell_type": "code",
   "execution_count": 71,
   "metadata": {},
   "outputs": [],
   "source": [
    "valid_sequences_target = valid_stock_sequence_target_data[:, 1:]"
   ]
  },
  {
   "cell_type": "markdown",
   "metadata": {},
   "source": [
    "Check the derived dimensionality of the **target-validation-sequences** tensor:"
   ]
  },
  {
   "cell_type": "code",
   "execution_count": 72,
   "metadata": {},
   "outputs": [
    {
     "data": {
      "text/plain": [
       "(360, 4)"
      ]
     },
     "execution_count": 72,
     "metadata": {},
     "output_type": "execute_result"
    }
   ],
   "source": [
    "valid_sequences_target.shape"
   ]
  },
  {
   "cell_type": "code",
   "execution_count": 73,
   "metadata": {},
   "outputs": [],
   "source": [
    "valid_sequences_input = valid_stock_sequence_input_data[:, :-1, :]"
   ]
  },
  {
   "cell_type": "markdown",
   "metadata": {},
   "source": [
    "Check the derived dimensionality of the **input-validation-sequences** tensor:"
   ]
  },
  {
   "cell_type": "code",
   "execution_count": 74,
   "metadata": {},
   "outputs": [
    {
     "data": {
      "text/plain": [
       "(360, 4, 28)"
      ]
     },
     "execution_count": 74,
     "metadata": {},
     "output_type": "execute_result"
    }
   ],
   "source": [
    "valid_sequences_input.shape"
   ]
  },
  {
   "cell_type": "markdown",
   "metadata": {},
   "source": [
    "#### 4.2 Dataset Class Preparation"
   ]
  },
  {
   "cell_type": "markdown",
   "metadata": {},
   "source": [
    "In order to process data using arbitrary neural network implemented in `PyTorch` it is necessary to convert the data into the `PyTorch` tensor format. This allows the library to store and update gradient information corresponding to a particular dataset when throughout the network training. Therefore, in the following cell, we convert the training and validation sequences into a `PyTorch` tensor format:"
   ]
  },
  {
   "cell_type": "code",
   "execution_count": 75,
   "metadata": {},
   "outputs": [],
   "source": [
    "# convert training data to torch tensor\n",
    "train_sequences_target = torch.from_numpy(train_sequences_target).float()\n",
    "train_sequences_input = torch.from_numpy(train_sequences_input).float()\n",
    "\n",
    "# convert validation data to torch tensor\n",
    "valid_sequences_target = torch.from_numpy(valid_sequences_target).float()\n",
    "valid_sequences_input = torch.from_numpy(valid_sequences_input).float()"
   ]
  },
  {
   "cell_type": "markdown",
   "metadata": {},
   "source": [
    "You may recall from previous labs that the training of neural network models is conducted in a stochastic (mini-)batch wise procedure. To retrieve the prepared training and validation data in such (mini-)batches we tailor the `dataset` class provided by the `PyTorch` library accordingly.\n",
    "\n",
    "Therefore, we inherit and overwrite the individual functions of the `dataset` class. So that our dataset will supply the neural network with the individual batches of training sequences $s^{i}_{train, input}$ and corresponding batches of training targets $s^{i}_{train, target}$ throughout the model training process:"
   ]
  },
  {
   "cell_type": "code",
   "execution_count": 76,
   "metadata": {},
   "outputs": [],
   "source": [
    "# define daily returns dataset\n",
    "class DailyReturnsDataset(data.Dataset):\n",
    "\n",
    "    # define the class constructor\n",
    "    def __init__(self, inputs, targets):\n",
    "\n",
    "        # init innput sequences and corresponding target sequences\n",
    "        self.inputs = inputs\n",
    "        self.targets = targets\n",
    "\n",
    "    # define the length method \n",
    "    def __len__(self):\n",
    "\n",
    "        # returns the number of samples\n",
    "        return len(self.targets)\n",
    "\n",
    "    # define get item method\n",
    "    def __getitem__(self, index):\n",
    "\n",
    "        # determine single input sequence and target sequences batch\n",
    "        input_batch = self.inputs[index, :, :]\n",
    "        target_batch = self.targets[index, :]\n",
    "\n",
    "        # return input and target sequences batch\n",
    "        return input_batch, target_batch"
   ]
  },
  {
   "cell_type": "markdown",
   "metadata": {},
   "source": [
    "Once we have overwritten the dataset class we instantiate it using the prepared `PyTorch` tensor of input return sequences and the `PyTorch` tensor of target return sequences. This will allow us to retrieve both batches of input return sequences and corresponding batches of target return sequences:"
   ]
  },
  {
   "cell_type": "code",
   "execution_count": 77,
   "metadata": {},
   "outputs": [],
   "source": [
    "train_dataset = DailyReturnsDataset(inputs=train_sequences_input, targets=train_sequences_target)"
   ]
  },
  {
   "cell_type": "markdown",
   "metadata": {},
   "source": [
    "Let's see how it works by getting the 42th sequence and its corresponding targets:"
   ]
  },
  {
   "cell_type": "code",
   "execution_count": 78,
   "metadata": {},
   "outputs": [],
   "source": [
    "train_input, train_target = train_dataset.__getitem__(42)"
   ]
  },
  {
   "cell_type": "markdown",
   "metadata": {},
   "source": [
    "Let's now likewise instantiate a daily closing dataset using the prepared validation input sequences $s^{i}_{valid, input}$ and corresponding targets $s^{i}_{valid, target}$: "
   ]
  },
  {
   "cell_type": "code",
   "execution_count": 79,
   "metadata": {},
   "outputs": [],
   "source": [
    "valid_dataset = DailyReturnsDataset(inputs=valid_sequences_input, targets=valid_sequences_target)"
   ]
  },
  {
   "cell_type": "markdown",
   "metadata": {},
   "source": [
    "Let's see how it works by getting the 42th sequence and its corresponding targets:"
   ]
  },
  {
   "cell_type": "code",
   "execution_count": 80,
   "metadata": {},
   "outputs": [],
   "source": [
    "valid_input, valid_target = valid_dataset.__getitem__(42)"
   ]
  },
  {
   "cell_type": "markdown",
   "metadata": {},
   "source": [
    "### 3. Neural Network Implementation"
   ]
  },
  {
   "cell_type": "markdown",
   "metadata": {},
   "source": [
    "In this section, we will implement the LSTM architecture of the to be learned time series model. Upon successful implementation we will specify the distinct neural network training parameters, such us the loss-function, learning-rate and optimization technique used throughout the training process."
   ]
  },
  {
   "cell_type": "markdown",
   "metadata": {},
   "source": [
    "#### 3.1. LSTM Architecture Implementation"
   ]
  },
  {
   "cell_type": "markdown",
   "metadata": {},
   "source": [
    "In this section, we will implement the architecture of the LSTM neural network utilized to predict future returns of financial time series data, e.g. as in this example, the future returns of the QQQ and the underlying NASDAQ Top 28 constituents. The neural network, which we name **\"LSTMNet_Many2One\"** consists in total of two `LSTMCell` layers (to extract the temporal features) and three non-linear fully-connected layers (the predict the returns):"
   ]
  },
  {
   "cell_type": "markdown",
   "metadata": {},
   "source": [
    "<img align=\"center\" style=\"max-width: 400px\" src=\"lstmnet.png\">"
   ]
  },
  {
   "cell_type": "markdown",
   "metadata": {},
   "source": [
    "In general, the LSTM cell structure as well as the formal definition of its individual gate functions are shown in the following illustration that we already discussed in the lecture (not considering the bias of each LSTM cell layer):"
   ]
  },
  {
   "cell_type": "markdown",
   "metadata": {},
   "source": [
    "<img align=\"center\" style=\"max-width: 700px\" src=\"lstmcell.png\">"
   ]
  },
  {
   "cell_type": "markdown",
   "metadata": {},
   "source": [
    "(Source: https://pytorch.org/docs/stable/nn.html)"
   ]
  },
  {
   "cell_type": "markdown",
   "metadata": {},
   "source": [
    "Each of the two `LSTMCell` layers consists of an LSTM cell exhibiting a hidden state of 50 dimensions. The following three non-linear fully-connected layers consequently reduce the 50 hidden state dimensions of the second LSTM cell into a single output dimension. \n",
    "\n",
    "The single dimensional output corresponds to the predicted return of the next time-step. Please note, that the choice of the implemented architecture and selected network training parameters are arbitrary and should in a real-world scenario be selected through experimental evaluation:"
   ]
  },
  {
   "cell_type": "code",
   "execution_count": 81,
   "metadata": {},
   "outputs": [],
   "source": [
    "# implement the LSTMNet Many2One network architecture\n",
    "class LSTMNet_Many2One(nn.Module):\n",
    "\n",
    "    # define class constructor\n",
    "    def __init__(self):\n",
    "\n",
    "        # call super class constructor\n",
    "        super(LSTMNet_Many2One, self).__init__()\n",
    "\n",
    "        # define lstm network RNN architecture (feature extraction)\n",
    "        self.lstm1 = nn.LSTMCell(no_input_stocks, 50)  # first lstm layer\n",
    "        self.lstm2 = nn.LSTMCell(50, 50)  # second lstm layer\n",
    "        \n",
    "        # define lstm network FC architecture (feature prediction)\n",
    "        self.linear1 = nn.Linear(50, 20)  # first linear layer\n",
    "        self.linear2 = nn.Linear(20, 10)  # second linear layer\n",
    "        self.linear3 = nn.Linear(10, 1)  # third linear layer\n",
    "        \n",
    "        # define non-linar activation function\n",
    "        self.tanh = nn.Tanh() # the non-linarity\n",
    "\n",
    "    # define network forward pass\n",
    "    def forward(self, input):\n",
    "        \n",
    "        # init predictions\n",
    "        predictions = []\n",
    "\n",
    "        # init the lstm hidden states\n",
    "        h_t1 = torch.zeros(input.size(0), 50, dtype=torch.float).to(device)\n",
    "        h_t2 = torch.zeros(input.size(0), 50, dtype=torch.float).to(device)\n",
    "\n",
    "        # init the lstm cell states\n",
    "        c_t1 = torch.zeros(input.size(0), 50, dtype=torch.float).to(device)\n",
    "        c_t2 = torch.zeros(input.size(0), 50, dtype=torch.float).to(device)\n",
    "        \n",
    "        # iterate over distinct time steps\n",
    "        for input_t in input.chunk(input.size(1), dim=1):\n",
    "            \n",
    "            # squeeze the input to remove the second-dimension\n",
    "            input_t_squeezed = input_t.squeeze(1)\n",
    "\n",
    "            # propagate through time step data (feature extraction)\n",
    "            h_t1, c_t1 = self.lstm1(input_t_squeezed, (h_t1, c_t1))\n",
    "            h_t2, c_t2 = self.lstm2(h_t1, (h_t2, c_t2))\n",
    "            \n",
    "            # propagate through feture data (feature prediction)\n",
    "            l1 = self.tanh(self.linear1(h_t2))\n",
    "            l2 = self.tanh(self.linear2(l1))\n",
    "            prediction = self.linear3(l2)\n",
    "            \n",
    "            # collect predictions\n",
    "            predictions += [prediction]\n",
    "\n",
    "        # stack predictions\n",
    "        predictions = torch.stack(predictions, 1).squeeze(2)\n",
    "\n",
    "        # return predictions\n",
    "        return predictions"
   ]
  },
  {
   "cell_type": "markdown",
   "metadata": {},
   "source": [
    "Now, that we have implemented the `LSTMNet_Many2One` neural network we are ready to instantiate a model to be trained:"
   ]
  },
  {
   "cell_type": "code",
   "execution_count": 82,
   "metadata": {},
   "outputs": [],
   "source": [
    "lstm_model = LSTMNet_Many2One().to(device)"
   ]
  },
  {
   "cell_type": "markdown",
   "metadata": {},
   "source": [
    "Once the model is initialized, we can visualize the model structure and review the implemented network architecture by execution of the following cell:"
   ]
  },
  {
   "cell_type": "code",
   "execution_count": 83,
   "metadata": {},
   "outputs": [
    {
     "name": "stdout",
     "output_type": "stream",
     "text": [
      "[LOG] LSTMNet Many2One architecture:\n",
      "\n",
      "LSTMNet_Many2One(\n",
      "  (lstm1): LSTMCell(28, 50)\n",
      "  (lstm2): LSTMCell(50, 50)\n",
      "  (linear1): Linear(in_features=50, out_features=20, bias=True)\n",
      "  (linear2): Linear(in_features=20, out_features=10, bias=True)\n",
      "  (linear3): Linear(in_features=10, out_features=1, bias=True)\n",
      "  (tanh): Tanh()\n",
      ")\n",
      "\n"
     ]
    }
   ],
   "source": [
    "# print the initialized architectures\n",
    "print('[LOG] LSTMNet Many2One architecture:\\n\\n{}\\n'.format(lstm_model))"
   ]
  },
  {
   "cell_type": "markdown",
   "metadata": {},
   "source": [
    "Looks like intended? Great! Finally, let's also determine the number of model parameters that we aim to train:"
   ]
  },
  {
   "cell_type": "code",
   "execution_count": 84,
   "metadata": {},
   "outputs": [
    {
     "name": "stdout",
     "output_type": "stream",
     "text": [
      "[LOG] Number of to be trained LSTMNet Many2One model parameters: 37641.\n"
     ]
    }
   ],
   "source": [
    "# init the number of model parameters\n",
    "num_params = 0\n",
    "\n",
    "# iterate over the distinct parameters\n",
    "for param in lstm_model.parameters():\n",
    "\n",
    "    # collect number of parameters\n",
    "    num_params += param.numel()\n",
    "    \n",
    "# print the number of model paramters\n",
    "print('[LOG] Number of to be trained LSTMNet Many2One model parameters: {}.'.format(num_params))"
   ]
  },
  {
   "cell_type": "markdown",
   "metadata": {},
   "source": [
    "Ok, our \"simple\" `LSTMNet_Many2One` model already encompasses an impressive number **37'641 model parameters** to be trained."
   ]
  },
  {
   "cell_type": "markdown",
   "metadata": {},
   "source": [
    "#### 3.2. Training Parameter Definition"
   ]
  },
  {
   "cell_type": "markdown",
   "metadata": {},
   "source": [
    "We are now good to train the network. However, prior to starting the training, we need to define an appropriate loss function. Remember, we aim to train our model to learn a set of model parameters $\\theta$ that minimize the prediction error of the true return $r_{t+1}$ and the by the model predicted return $\\hat{r}_{t+1}$ at a given time-step $t+1$ of sequence $s^{i}$. In other words, for a given sequence of historic returns we aim to learn a function $f_\\theta$ that is capable to predicts the return of the next timestep as faithfully as possible, as expressed by:"
   ]
  },
  {
   "cell_type": "markdown",
   "metadata": {},
   "source": [
    "<center> $\\hat{r}_{t+1} = f_\\theta(r_{t}, r_{t-1}, ..., r_{t-n})$. </center>"
   ]
  },
  {
   "cell_type": "markdown",
   "metadata": {},
   "source": [
    "Thereby, the training objective is to learn a set of optimal model parameters $\\theta^*$ that optimize $\\min_{\\theta} \\|r_{t+1} - f_\\theta(r_{t}, r_{t-1}, ..., r_{t-n})\\|$ over all time-steps $t$ contained in the set of training sequences $s_{train}$. To achieve this optimization objective, one typically minimizes a loss function $\\mathcal{L_{\\theta}}$ while training the neural network. In this lab we use the **\"Mean Squared Error (MSE)\"** loss, as denoted by:"
   ]
  },
  {
   "cell_type": "markdown",
   "metadata": {},
   "source": [
    "<center> $\\mathcal{L}^{MSE}_{\\theta} (r_{t+1}, \\hat{r}_{t+1}) = \\frac{1}{N} \\sum_{i=1}^N \\| r_{t+1} - \\hat{r}_{t+1}\\|^{2}$, </center>"
   ]
  },
  {
   "cell_type": "code",
   "execution_count": 85,
   "metadata": {},
   "outputs": [],
   "source": [
    "loss_function = nn.MSELoss().to(device)"
   ]
  },
  {
   "cell_type": "markdown",
   "metadata": {},
   "source": [
    "Throughout the training process, the PyTorch library will automatically calculate the loss magnitude, compute the gradient, and update the parameters $\\theta$ of the LSTM neural network. We will use the **\"Adaptive Moment Estimation Optimization\" (ADAM)** technique to optimize the network parameters. Furthermore, we specify a constant learning rate of $l = 1e-06$. For each training step, the optimizer will update the model parameters $\\theta$ values according to the degree of prediction error (the MSE loss)."
   ]
  },
  {
   "cell_type": "code",
   "execution_count": 86,
   "metadata": {},
   "outputs": [],
   "source": [
    "learning_rate = 1e-06 # set constant learning rate\n",
    "optimizer = optim.Adam(lstm_model.parameters(), lr=learning_rate) # define optimization technique"
   ]
  },
  {
   "cell_type": "markdown",
   "metadata": {},
   "source": [
    "Furthermore, let's start to learn a model by training the NN for **1000 epochs** in mini-batches of the size of **128  sequences** per batch. This implies that the whole dataset will be fed to the network **1000 times** in chunks of 128 sequences yielding to **26 mini-batches** (3,278 training sequences / 128 sequences per mini-batch) per epoch:"
   ]
  },
  {
   "cell_type": "code",
   "execution_count": 87,
   "metadata": {},
   "outputs": [],
   "source": [
    "# specify the training parameters\n",
    "no_epochs = 1001 # number of training epochs\n",
    "mini_batch_size = 128 # size of the mini-batches"
   ]
  },
  {
   "cell_type": "markdown",
   "metadata": {},
   "source": [
    "Next, let's specify and instantiate a `PyTorch` `dataloader` using the training dataset specified above (the `training_dataset` variable). The specified `dataloader` will feed the **train-input-return** sequence tensors as well as the **train-target-return** to our neural network:"
   ]
  },
  {
   "cell_type": "code",
   "execution_count": 88,
   "metadata": {},
   "outputs": [],
   "source": [
    "train_dataloader = dataloader.DataLoader(train_dataset, batch_size=mini_batch_size, shuffle=True)"
   ]
  },
  {
   "cell_type": "markdown",
   "metadata": {},
   "source": [
    "Finally, we will specify a periodic **model evaluation interval**. The interval defines the number of completed training epochs upon which an in-sample **backtest** of the current model will be conducted. Furthermore, a model **checkpoint** (a snapshot of the current model parameters) will be saved."
   ]
  },
  {
   "cell_type": "code",
   "execution_count": 89,
   "metadata": {},
   "outputs": [],
   "source": [
    "# specify model evaluation and checkpoint interval\n",
    "train_checkpoint_epoch = 100"
   ]
  },
  {
   "cell_type": "markdown",
   "metadata": {},
   "source": [
    "By setting the `train_checkpoint_epoch` variable to a value of **100 epochs** denotes, that we aim to **evaluate our model** (and save a corresponding model checkpoint) upon the successful completion of 100 training epochs respectively. "
   ]
  },
  {
   "cell_type": "markdown",
   "metadata": {},
   "source": [
    "### 4. Preparing the Model Backtest"
   ]
  },
  {
   "cell_type": "markdown",
   "metadata": {},
   "source": [
    "In this section, we will define a set of reusable `Python` functions that we will repeatedly use to **backtest** the trained model at different stages of the training process. In order to run a backtest simulation we will use the python `bt` library. The Python `bt` library is a flexible, backtest framework that can be used to test quantitative trading strategies. In general, backtesting is the process of testing a strategy over a given data set (more details about the `bt` library can be found via: https://pmorissette.github.io/bt/).\n",
    "\n",
    "Let's now start to implement the required functions to backtest and evaluate our learned model."
   ]
  },
  {
   "cell_type": "markdown",
   "metadata": {},
   "source": [
    "#### 4.1 Derive Model Return Predictions"
   ]
  },
  {
   "cell_type": "markdown",
   "metadata": {},
   "source": [
    "First, we will define a function `compute_model_predictions` that, given a trained model (`lstm_model`), determines and returns a list of return predictions $\\hat{r}_{i+1}$ based on a set of given **in-sample** input training sequences (`train_sequences_input`)."
   ]
  },
  {
   "cell_type": "code",
   "execution_count": 90,
   "metadata": {},
   "outputs": [],
   "source": [
    "def compute_model_predictions(lstm_model, train_sequences_input):\n",
    "\n",
    "    # set model in evaluation mode\n",
    "    lstm_model.eval()\n",
    "\n",
    "    # determine model return predictions\n",
    "    train_predictions = lstm_model(train_sequences_input.to(device))\n",
    "\n",
    "    # convert model return predictions to list\n",
    "    train_predictions_list = train_predictions.cpu().detach().numpy()[:, -1].tolist()\n",
    "\n",
    "    # return model return predictions\n",
    "    return train_predictions_list"
   ]
  },
  {
   "cell_type": "markdown",
   "metadata": {},
   "source": [
    "#### 4.2 Derive Model Trade Signals"
   ]
  },
  {
   "cell_type": "markdown",
   "metadata": {},
   "source": [
    "Next, we will define a function `compute_model_signals` that converts a list of **future return predictions $\\hat{r}_{t+1}$** (`train_predictions_list`) into **trade signals** $\\phi(\\hat{r}_{t+1})$. Thereby, we will interpret any positive future return prediction greater or equal a predefined threshold $t$ (`signal_threshold`) as a **\"long\" (buy)** signal, formally denoted by $r_{t+1} \\geq t$. Correspondingly, we will interpret any negative future return prediction lower or equal a predefined threshold $-t$, formally denoted by $r_{t+1} \\leq -t$ as a **\"short\" (sell)** signal. Formally, the trading signal is derived according to:"
   ]
  },
  {
   "cell_type": "markdown",
   "metadata": {},
   "source": [
    "<center>\n",
    "$\n",
    "\\\\\n",
    "\\phi(\\hat{r}_{t+1})=\n",
    "\\begin{cases}\n",
    "1.0 & \\textrm{(\"long signal\")}, & for & \\hat{r}_{t+1} > t\\\\\n",
    "-1.0 & \\textrm{(\"short signal\")}, & for & \\hat{r}_{t+1} < -t\\\\\n",
    "\\end{cases}\n",
    "$\n",
    "</center>"
   ]
  },
  {
   "cell_type": "markdown",
   "metadata": {},
   "source": [
    "where $\\hat{r}_{t+1}$ denotes a by the model predicted future return at time $t+1$. In the following we will define the function accordingly:"
   ]
  },
  {
   "cell_type": "code",
   "execution_count": 91,
   "metadata": {},
   "outputs": [],
   "source": [
    "def compute_model_signals(train_predictions_list, train_stock_sequence_target_date, signal_threshold):\n",
    "\n",
    "    # init and prepare the model signal data \n",
    "    signal_data = pd.DataFrame(train_predictions_list, columns=['PREDICTIONS'], index=train_stock_sequence_target_date[:, -1])\n",
    "\n",
    "    # derive trading signals from model predictions\n",
    "    signal_data['SIGNAL'] = np.where(signal_data['PREDICTIONS'] >= signal_threshold, 1.0, 0.0)\n",
    "    signal_data['SIGNAL'] = np.where(signal_data['PREDICTIONS'] <= -signal_threshold, -1.0, signal_data['SIGNAL'])\n",
    "    \n",
    "    # offset the signal data\n",
    "    signal_data = signal_data.set_index(signal_data['SIGNAL'].index - pd.DateOffset(1))\n",
    "    \n",
    "    # return the prepared signal dta \n",
    "    return signal_data"
   ]
  },
  {
   "cell_type": "markdown",
   "metadata": {},
   "source": [
    "Finally, let's specify the trading signal threshold $t$ as introduced above:"
   ]
  },
  {
   "cell_type": "code",
   "execution_count": 92,
   "metadata": {},
   "outputs": [],
   "source": [
    "signal_threshold = 0.001"
   ]
  },
  {
   "cell_type": "markdown",
   "metadata": {},
   "source": [
    "Please note, setting such a threshold will avoid to generate trades caused by fluctuating (\"tiny\") return predictions of the trained model. "
   ]
  },
  {
   "cell_type": "markdown",
   "metadata": {},
   "source": [
    "#### 4.3 Prepare Backtest Market Data"
   ]
  },
  {
   "cell_type": "markdown",
   "metadata": {},
   "source": [
    "Next, we will define a function `compute_market_data` that, given a set of trading signals (`signal_data`), determines and **returns the QQQ market price data** (`stock_data_price`) of the trading signals time interval."
   ]
  },
  {
   "cell_type": "code",
   "execution_count": 93,
   "metadata": {},
   "outputs": [],
   "source": [
    "def compute_market_data(stock_data_price, signal_data):\n",
    "\n",
    "    # determine QQQ market price data \n",
    "    market_data = pd.DataFrame(stock_data_price['QQQ'])\n",
    "    market_data = market_data.rename(columns={'QQQ': 'PRICE'})\n",
    "    market_data = market_data.set_index(pd.to_datetime(stock_data_price.index))\n",
    "    \n",
    "    # filter market data according to trading signals time interval \n",
    "    market_data = market_data[market_data.index >= signal_data.index[0]]\n",
    "    market_data = market_data[market_data.index <= signal_data.index[-1]]\n",
    "    \n",
    "    # returns the filtered market data\n",
    "    return market_data"
   ]
  },
  {
   "cell_type": "markdown",
   "metadata": {},
   "source": [
    "#### 4.4 Prepare Model Backest Strategy and Backtest"
   ]
  },
  {
   "cell_type": "markdown",
   "metadata": {},
   "source": [
    "Now that we have trading signals as well as the market data let's implement the LSTM based trading strategy which we name `LSTMStrategy`:"
   ]
  },
  {
   "cell_type": "code",
   "execution_count": 94,
   "metadata": {},
   "outputs": [],
   "source": [
    "class LSTMStrategy(bt.Algo):\n",
    "    \n",
    "    def __init__(self, signals):\n",
    "        \n",
    "        # set class signals\n",
    "        self.signals = signals\n",
    "        \n",
    "    def __call__(self, target):\n",
    "        \n",
    "        if target.now in self.signals.index[1:]:\n",
    "            \n",
    "            # get actual signal\n",
    "            signal = self.signals[target.now]\n",
    "            \n",
    "            # set target weights according to signal\n",
    "            target.temp['weights'] = dict(PRICE=signal)\n",
    "            \n",
    "        # return True since we want to move on to the next timestep\n",
    "        return True"
   ]
  },
  {
   "cell_type": "markdown",
   "metadata": {},
   "source": [
    "Next, we will define a function `model_backtest` that, given a set of (i) trading signals (`signal_data`) and (ii) market price data (`stock_market_data`), instantiates and **runs a backtest**. Upon successful backtest completion the function collects and returns (i) a set of backtest performance measures (`backtest_result_stats`) as well as (ii) detailed backtest simulation results (`backtest_result_details`). "
   ]
  },
  {
   "cell_type": "code",
   "execution_count": 95,
   "metadata": {},
   "outputs": [],
   "source": [
    "def model_backtest(signal_data, stock_market_data):\n",
    "    \n",
    "    # init the lstm backtest strategy\n",
    "    lstm_strategy = bt.Strategy('lstm', [bt.algos.SelectAll(), LSTMStrategy(signal_data['SIGNAL']), bt.algos.Rebalance()])\n",
    "    \n",
    "    # init the lstm backtest\n",
    "    backtest_lstm = bt.Backtest(strategy=lstm_strategy, data=stock_market_data, name='stock_lstm_backtest')\n",
    "    \n",
    "    # run the backtest\n",
    "    backtest_results = bt.run(backtest_lstm)\n",
    "    \n",
    "    # collect aggregated backtest result statistics\n",
    "    backtest_result_stats = {}\n",
    "    backtest_result_stats['total_return'] = backtest_lstm.stats.total_return # total return\n",
    "    backtest_result_stats['daily_sharpe'] = backtest_lstm.stats.daily_sharpe # daily sharpe\n",
    "    backtest_result_stats['monthly_sharpe'] = backtest_lstm.stats.monthly_sharpe # monthly sharpe\n",
    "    \n",
    "    # determine number of signal changes\n",
    "    backtest_result_stats['trade_signals'] = len(list(itertools.groupby(signal_data['SIGNAL'], lambda x: x > 0)))\n",
    "    \n",
    "    # collect details backtest result statistics\n",
    "    backtest_result_details = backtest_lstm.strategy.prices.to_frame(name='Rel. EQUITY')\n",
    "    backtest_result_details['Abs. EQUITY'] = backtest_lstm.strategy.values # equity per timestep\n",
    "    backtest_result_details['CASH'] = backtest_lstm.strategy.cash # cash per timestep\n",
    "    \n",
    "    # return backtest lstm details\n",
    "    return backtest_result_stats, backtest_result_details"
   ]
  },
  {
   "cell_type": "markdown",
   "metadata": {},
   "source": [
    "#### 4.5 Visualize Model Predictions"
   ]
  },
  {
   "cell_type": "markdown",
   "metadata": {},
   "source": [
    "Finally, we will define a function `plot_model_predictions` that, that creates a plot of (i) the actual **\"ground-true\" returns** (`train_sequences_target`) and (ii) the **predicted returns** of the trained model (`train_predictions_list`). Both returns will be visualized within the in-sample time interval and allow for a visual evaluation of the model predictions."
   ]
  },
  {
   "cell_type": "code",
   "execution_count": 96,
   "metadata": {},
   "outputs": [],
   "source": [
    "def plot_model_predictions(train_stock_sequence_target_date, train_sequences_target, train_predictions_list, epoch, filename):\n",
    "    \n",
    "    # plot the prediction results\n",
    "    plt.style.use('seaborn')\n",
    "    plt.rcParams['figure.figsize'] = [15, 5]\n",
    "\n",
    "    # init plot figure\n",
    "    fig = plt.figure()\n",
    "    ax = fig.add_subplot(111)\n",
    "\n",
    "    # convert train sequences target to list\n",
    "    train_targets_list = (train_sequences_target).numpy()[:, -1].tolist()\n",
    "    \n",
    "    ax.plot(train_stock_sequence_target_date[:, -1], train_targets_list, color='C1', label='groundtruth (green)')\n",
    "    ax.plot(train_stock_sequence_target_date[:, -1], train_predictions_list, color='C0', label='predictions (blue)')\n",
    "\n",
    "    # set x-axis limits\n",
    "    ax.set_xlim(train_stock_sequence_target_date[:, -1].min(), train_stock_sequence_target_date[:, -1].max())\n",
    "\n",
    "    # set plot legend\n",
    "    plt.legend(loc=\"lower right\", numpoints=1, fancybox=True)\n",
    "\n",
    "    # set plot title\n",
    "    plt.title('Epoch {} - LSTM-NN Many2One - In-Sample Prediction vs. Ground-Truth Market Prices'.format(str(epoch).zfill(6)), fontsize=10)\n",
    "\n",
    "    # set axis labels\n",
    "    plt.xlabel('[time]', fontsize=8)\n",
    "    plt.ylabel('[daily returns]', fontsize=8)\n",
    "\n",
    "    # set axis ticks fontsize\n",
    "    plt.xticks(fontsize=8)\n",
    "    plt.yticks(fontsize=8)\n",
    "    \n",
    "    # save plot to plotting directory\n",
    "    plt.savefig(os.path.join(visuals_directory, filename), dpi=300)\n",
    "\n",
    "    # close plot\n",
    "    plt.close()"
   ]
  },
  {
   "cell_type": "markdown",
   "metadata": {},
   "source": [
    "### 5. Model Training and Backtest"
   ]
  },
  {
   "cell_type": "markdown",
   "metadata": {},
   "source": [
    "In this section, we will train, validate and backtest the LSTM neural network model (as implemented in the section above) using the prepared dataset of daily return sequences. In the following, we will have a detailed look into the distinct training steps and monitor the training progress."
   ]
  },
  {
   "cell_type": "markdown",
   "metadata": {},
   "source": [
    "#### 5.1. Preparation of the Model Statistics"
   ]
  },
  {
   "cell_type": "markdown",
   "metadata": {},
   "source": [
    "Throughout the training we aim to monitor the model performance. Thereby, we will collect the models training loss and backtest performance at the distinct **model evaluation intervals** defined above. To achieve this objective will initialize a `Pandas` data frame (`training_statistics`) that will be populated with the logged information with progressing training:"
   ]
  },
  {
   "cell_type": "code",
   "execution_count": 97,
   "metadata": {},
   "outputs": [],
   "source": [
    "# init the training statistics\n",
    "summary_cols = ['timestamp', 'no_epochs', 'batch_size', 'learning_rate', 'train_epoch_loss', 'signal_threshold ', 'signals', 'total_return', 'daily_sharpe', 'monthly_sharpe']\n",
    "training_statistics = pd.DataFrame(np.zeros((int(no_epochs/train_checkpoint_epoch), len(summary_cols))), columns=summary_cols)"
   ]
  },
  {
   "cell_type": "markdown",
   "metadata": {},
   "source": [
    "#### 5.2. Running the Model Training and Backtest"
   ]
  },
  {
   "cell_type": "markdown",
   "metadata": {},
   "source": [
    "Finally, we start training the model. The training procedure of each mini-batch is performed as follows: \n",
    "\n",
    ">1. do a forward pass through the LSTMNet network, \n",
    ">2. compute the mean-squared prediction error $\\mathcal{L}^{MSE}_{\\theta} (r_{t+1}, \\hat{r}_{t+1}) = \\frac{1}{N} \\sum_{i=1}^N \\| r_{t+1} - \\hat{r}_{t+1}\\|^{2}$, \n",
    ">3. do a backward pass through the LSTMNet network, and \n",
    ">4. update the parameters of the network $f_\\theta(\\cdot)$.\n",
    "\n",
    "To ensure learning while training the LSTM model we will monitor whether the loss decreases with progressing training. Therefore, we obtain and evaluate the mean prediction performance over all mini-batches in each training epoch. Based on this evaluation we can conclude on the training progress and whether the loss is converging (indicating that the model might not improve any further).\n",
    "\n",
    "The following elements of the network training code below should be given particular attention:\n",
    " \n",
    ">- `loss.backward()` computes the gradients based on the magnitude of the reconstruction loss,\n",
    ">- `optimizer.step()` updates the network parameters based on the gradient."
   ]
  },
  {
   "cell_type": "code",
   "execution_count": null,
   "metadata": {
    "scrolled": true
   },
   "outputs": [
    {
     "name": "stdout",
     "output_type": "stream",
     "text": [
      "[LOG 20210201-12:58:07] training :: epoch: 0 train-loss: 0.06653685122728348\n",
      "[LOG 20210201-12:58:07] training :: epoch: 1 train-loss: 0.06638859269710687\n",
      "[LOG 20210201-12:58:07] training :: epoch: 2 train-loss: 0.06620499749596302\n",
      "[LOG 20210201-12:58:08] training :: epoch: 3 train-loss: 0.0660095621760075\n",
      "[LOG 20210201-12:58:08] training :: epoch: 4 train-loss: 0.06581166988381973\n",
      "[LOG 20210201-12:58:08] training :: epoch: 5 train-loss: 0.065602124023896\n",
      "[LOG 20210201-12:58:09] training :: epoch: 6 train-loss: 0.06539910515913597\n",
      "[LOG 20210201-12:58:09] training :: epoch: 7 train-loss: 0.06519625679804729\n",
      "[LOG 20210201-12:58:09] training :: epoch: 8 train-loss: 0.06499105605941552\n",
      "[LOG 20210201-12:58:10] training :: epoch: 9 train-loss: 0.0647843494438208\n",
      "[LOG 20210201-12:58:10] training :: epoch: 10 train-loss: 0.06457766775901501\n",
      "[LOG 20210201-12:58:10] training :: epoch: 11 train-loss: 0.06436957361606452\n",
      "[LOG 20210201-12:58:11] training :: epoch: 12 train-loss: 0.06416690378234936\n",
      "[LOG 20210201-12:58:11] training :: epoch: 13 train-loss: 0.06395396647545007\n",
      "[LOG 20210201-12:58:11] training :: epoch: 14 train-loss: 0.06375549074548942\n",
      "[LOG 20210201-12:58:12] training :: epoch: 15 train-loss: 0.06354398223069999\n",
      "[LOG 20210201-12:58:12] training :: epoch: 16 train-loss: 0.06334571196482731\n",
      "[LOG 20210201-12:58:12] training :: epoch: 17 train-loss: 0.06314666483264703\n",
      "[LOG 20210201-12:58:13] training :: epoch: 18 train-loss: 0.06294786070401852\n",
      "[LOG 20210201-12:58:13] training :: epoch: 19 train-loss: 0.06273778341710567\n",
      "[LOG 20210201-12:58:13] training :: epoch: 20 train-loss: 0.06253192702738139\n",
      "[LOG 20210201-12:58:14] training :: epoch: 21 train-loss: 0.0623329897912649\n",
      "[LOG 20210201-12:58:14] training :: epoch: 22 train-loss: 0.06213596678124024\n",
      "[LOG 20210201-12:58:15] training :: epoch: 23 train-loss: 0.06193803680630831\n",
      "[LOG 20210201-12:58:15] training :: epoch: 24 train-loss: 0.06174935013628923\n",
      "[LOG 20210201-12:58:15] training :: epoch: 25 train-loss: 0.0615423063819225\n",
      "[LOG 20210201-12:58:16] training :: epoch: 26 train-loss: 0.06134811086723438\n",
      "[LOG 20210201-12:58:16] training :: epoch: 27 train-loss: 0.0611502665739793\n",
      "[LOG 20210201-12:58:16] training :: epoch: 28 train-loss: 0.0609606527365171\n",
      "[LOG 20210201-12:58:17] training :: epoch: 29 train-loss: 0.06076597264752938\n",
      "[LOG 20210201-12:58:17] training :: epoch: 30 train-loss: 0.06056665887053196\n",
      "[LOG 20210201-12:58:18] training :: epoch: 31 train-loss: 0.06037345227713768\n",
      "[LOG 20210201-12:58:18] training :: epoch: 32 train-loss: 0.060183796601799816\n",
      "[LOG 20210201-12:58:18] training :: epoch: 33 train-loss: 0.059994102957156986\n",
      "[LOG 20210201-12:58:18] training :: epoch: 34 train-loss: 0.05979976975000822\n",
      "[LOG 20210201-12:58:19] training :: epoch: 35 train-loss: 0.05962019098492769\n",
      "[LOG 20210201-12:58:19] training :: epoch: 36 train-loss: 0.0594189535253323\n",
      "[LOG 20210201-12:58:20] training :: epoch: 37 train-loss: 0.059229362182892285\n",
      "[LOG 20210201-12:58:20] training :: epoch: 38 train-loss: 0.05904442114898792\n",
      "[LOG 20210201-12:58:20] training :: epoch: 39 train-loss: 0.05885396969433014\n",
      "[LOG 20210201-12:58:21] training :: epoch: 40 train-loss: 0.05866985882704075\n",
      "[LOG 20210201-12:58:21] training :: epoch: 41 train-loss: 0.058479697801745854\n",
      "[LOG 20210201-12:58:21] training :: epoch: 42 train-loss: 0.05830146515598664\n",
      "[LOG 20210201-12:58:22] training :: epoch: 43 train-loss: 0.058113575411530644\n",
      "[LOG 20210201-12:58:22] training :: epoch: 44 train-loss: 0.057932012929366186\n",
      "[LOG 20210201-12:58:22] training :: epoch: 45 train-loss: 0.05774802041168396\n",
      "[LOG 20210201-12:58:23] training :: epoch: 46 train-loss: 0.057560317791425265\n",
      "[LOG 20210201-12:58:23] training :: epoch: 47 train-loss: 0.057381997171502844\n",
      "[LOG 20210201-12:58:23] training :: epoch: 48 train-loss: 0.05719656139039076\n",
      "[LOG 20210201-12:58:24] training :: epoch: 49 train-loss: 0.05702223628759384\n",
      "[LOG 20210201-12:58:24] training :: epoch: 50 train-loss: 0.05683592692590677\n",
      "[LOG 20210201-12:58:24] training :: epoch: 51 train-loss: 0.056656347014583074\n",
      "[LOG 20210201-12:58:25] training :: epoch: 52 train-loss: 0.056479718965979725\n",
      "[LOG 20210201-12:58:25] training :: epoch: 53 train-loss: 0.056300860041609176\n",
      "[LOG 20210201-12:58:26] training :: epoch: 54 train-loss: 0.056121051884614505\n",
      "[LOG 20210201-12:58:26] training :: epoch: 55 train-loss: 0.05594962992920326\n",
      "[LOG 20210201-12:58:26] training :: epoch: 56 train-loss: 0.055769736950214095\n",
      "[LOG 20210201-12:58:27] training :: epoch: 57 train-loss: 0.05559543806772966\n",
      "[LOG 20210201-12:58:27] training :: epoch: 58 train-loss: 0.05542272916780068\n",
      "[LOG 20210201-12:58:27] training :: epoch: 59 train-loss: 0.05524362824284113\n",
      "[LOG 20210201-12:58:28] training :: epoch: 60 train-loss: 0.05506796977267815\n",
      "[LOG 20210201-12:58:28] training :: epoch: 61 train-loss: 0.0548913858544368\n",
      "[LOG 20210201-12:58:29] training :: epoch: 62 train-loss: 0.05472373962402344\n",
      "[LOG 20210201-12:58:29] training :: epoch: 63 train-loss: 0.054558723591841184\n",
      "[LOG 20210201-12:58:30] training :: epoch: 64 train-loss: 0.05437755025923252\n",
      "[LOG 20210201-12:58:30] training :: epoch: 65 train-loss: 0.05419957064665281\n",
      "[LOG 20210201-12:58:30] training :: epoch: 66 train-loss: 0.054032222009622134\n",
      "[LOG 20210201-12:58:31] training :: epoch: 67 train-loss: 0.05386229676122849\n",
      "[LOG 20210201-12:58:31] training :: epoch: 68 train-loss: 0.05369248269842221\n",
      "[LOG 20210201-12:58:32] training :: epoch: 69 train-loss: 0.05352612670797568\n",
      "[LOG 20210201-12:58:32] training :: epoch: 70 train-loss: 0.053359782323241234\n",
      "[LOG 20210201-12:58:32] training :: epoch: 71 train-loss: 0.05319297027129393\n",
      "[LOG 20210201-12:58:33] training :: epoch: 72 train-loss: 0.05302041238890244\n",
      "[LOG 20210201-12:58:33] training :: epoch: 73 train-loss: 0.052853471671159453\n",
      "[LOG 20210201-12:58:33] training :: epoch: 74 train-loss: 0.052685813835034005\n",
      "[LOG 20210201-12:58:34] training :: epoch: 75 train-loss: 0.052519154376708545\n",
      "[LOG 20210201-12:58:34] training :: epoch: 76 train-loss: 0.052362728434113354\n",
      "[LOG 20210201-12:58:35] training :: epoch: 77 train-loss: 0.052190170695002265\n",
      "[LOG 20210201-12:58:35] training :: epoch: 78 train-loss: 0.05202435659101376\n",
      "[LOG 20210201-12:58:35] training :: epoch: 79 train-loss: 0.051861995114729956\n",
      "[LOG 20210201-12:58:36] training :: epoch: 80 train-loss: 0.051704929711726993\n",
      "[LOG 20210201-12:58:36] training :: epoch: 81 train-loss: 0.05153421871364117\n",
      "[LOG 20210201-12:58:36] training :: epoch: 82 train-loss: 0.05137113940257292\n",
      "[LOG 20210201-12:58:36] training :: epoch: 83 train-loss: 0.051207392261578485\n",
      "[LOG 20210201-12:58:37] training :: epoch: 84 train-loss: 0.05105747941594858\n",
      "[LOG 20210201-12:58:37] training :: epoch: 85 train-loss: 0.050889961708050505\n",
      "[LOG 20210201-12:58:37] training :: epoch: 86 train-loss: 0.05072884261608124\n",
      "[LOG 20210201-12:58:38] training :: epoch: 87 train-loss: 0.050564996181772306\n",
      "[LOG 20210201-12:58:38] training :: epoch: 88 train-loss: 0.05040414545398492\n",
      "[LOG 20210201-12:58:38] training :: epoch: 89 train-loss: 0.05024678747241314\n",
      "[LOG 20210201-12:58:39] training :: epoch: 90 train-loss: 0.05008662391740542\n",
      "[LOG 20210201-12:58:39] training :: epoch: 91 train-loss: 0.049930949623768144\n",
      "[LOG 20210201-12:58:39] training :: epoch: 92 train-loss: 0.04976968381267328\n",
      "[LOG 20210201-12:58:40] training :: epoch: 93 train-loss: 0.04961431814500919\n",
      "[LOG 20210201-12:58:40] training :: epoch: 94 train-loss: 0.049453830489745505\n",
      "[LOG 20210201-12:58:40] training :: epoch: 95 train-loss: 0.049301412959511466\n",
      "[LOG 20210201-12:58:41] training :: epoch: 96 train-loss: 0.04914768226444721\n",
      "[LOG 20210201-12:58:41] training :: epoch: 97 train-loss: 0.048987445779717885\n",
      "[LOG 20210201-12:58:41] training :: epoch: 98 train-loss: 0.04883536839714417\n",
      "[LOG 20210201-12:58:41] training :: epoch: 99 train-loss: 0.04867186311345834\n",
      "[LOG 20210201-12:58:42] training :: epoch: 100 train-loss: 0.04852120993802181\n",
      "stock_lstm_backtest\n",
      "0% [############################# ] 100% | ETA: 00:00:00\n",
      "[LOG 20210201-12:58:46] backtest :: total return: -0.7894, monthly-sharpe: -1.2253, daily-sharpe: -0.7574.\n",
      "[LOG 20210201-12:58:48] training :: epoch: 101 train-loss: 0.04836494189042311\n",
      "[LOG 20210201-12:58:48] training :: epoch: 102 train-loss: 0.0482095441279503\n"
     ]
    },
    {
     "name": "stdout",
     "output_type": "stream",
     "text": [
      "[LOG 20210201-12:58:49] training :: epoch: 103 train-loss: 0.04805904526550036\n",
      "[LOG 20210201-12:58:49] training :: epoch: 104 train-loss: 0.04791136229267487\n",
      "[LOG 20210201-12:58:49] training :: epoch: 105 train-loss: 0.04775949667852659\n",
      "[LOG 20210201-12:58:50] training :: epoch: 106 train-loss: 0.04760295725785769\n",
      "[LOG 20210201-12:58:50] training :: epoch: 107 train-loss: 0.04745295385901745\n",
      "[LOG 20210201-12:58:50] training :: epoch: 108 train-loss: 0.0472992853476451\n",
      "[LOG 20210201-12:58:51] training :: epoch: 109 train-loss: 0.04714517452969001\n",
      "[LOG 20210201-12:58:51] training :: epoch: 110 train-loss: 0.04699978991769827\n",
      "[LOG 20210201-12:58:51] training :: epoch: 111 train-loss: 0.04684715818327207\n",
      "[LOG 20210201-12:58:51] training :: epoch: 112 train-loss: 0.046695588872982904\n",
      "[LOG 20210201-12:58:52] training :: epoch: 113 train-loss: 0.046547538959063016\n",
      "[LOG 20210201-12:58:52] training :: epoch: 114 train-loss: 0.04639452208693211\n",
      "[LOG 20210201-12:58:52] training :: epoch: 115 train-loss: 0.046245767520024225\n",
      "[LOG 20210201-12:58:53] training :: epoch: 116 train-loss: 0.04610206731236898\n",
      "[LOG 20210201-12:58:53] training :: epoch: 117 train-loss: 0.04595005942078737\n",
      "[LOG 20210201-12:58:53] training :: epoch: 118 train-loss: 0.04580589813681749\n",
      "[LOG 20210201-12:58:54] training :: epoch: 119 train-loss: 0.045655822238096826\n",
      "[LOG 20210201-12:58:54] training :: epoch: 120 train-loss: 0.045507910303198375\n",
      "[LOG 20210201-12:58:54] training :: epoch: 121 train-loss: 0.04535816624187506\n",
      "[LOG 20210201-12:58:54] training :: epoch: 122 train-loss: 0.04521721200301097\n",
      "[LOG 20210201-12:58:55] training :: epoch: 123 train-loss: 0.04506906867027283\n",
      "[LOG 20210201-12:58:55] training :: epoch: 124 train-loss: 0.044922091210117705\n",
      "[LOG 20210201-12:58:55] training :: epoch: 125 train-loss: 0.04477541148662567\n",
      "[LOG 20210201-12:58:56] training :: epoch: 126 train-loss: 0.04462750943807455\n",
      "[LOG 20210201-12:58:56] training :: epoch: 127 train-loss: 0.044485485181212425\n",
      "[LOG 20210201-12:58:56] training :: epoch: 128 train-loss: 0.04434583321786844\n",
      "[LOG 20210201-12:58:57] training :: epoch: 129 train-loss: 0.04419563237864237\n",
      "[LOG 20210201-12:58:57] training :: epoch: 130 train-loss: 0.04405134156919443\n",
      "[LOG 20210201-12:58:57] training :: epoch: 131 train-loss: 0.04391307269151394\n",
      "[LOG 20210201-12:58:57] training :: epoch: 132 train-loss: 0.043772972833651766\n",
      "[LOG 20210201-12:58:58] training :: epoch: 133 train-loss: 0.04362096551519174\n",
      "[LOG 20210201-12:58:58] training :: epoch: 134 train-loss: 0.043483271048619196\n",
      "[LOG 20210201-12:58:58] training :: epoch: 135 train-loss: 0.043340520933270454\n",
      "[LOG 20210201-12:58:59] training :: epoch: 136 train-loss: 0.04319705713826876\n",
      "[LOG 20210201-12:58:59] training :: epoch: 137 train-loss: 0.04305452108383179\n",
      "[LOG 20210201-12:58:59] training :: epoch: 138 train-loss: 0.04291655767995577\n",
      "[LOG 20210201-12:58:59] training :: epoch: 139 train-loss: 0.042774253023358494\n",
      "[LOG 20210201-12:59:00] training :: epoch: 140 train-loss: 0.04263498748724277\n",
      "[LOG 20210201-12:59:00] training :: epoch: 141 train-loss: 0.04248816161774672\n",
      "[LOG 20210201-12:59:00] training :: epoch: 142 train-loss: 0.04235607915772842\n",
      "[LOG 20210201-12:59:01] training :: epoch: 143 train-loss: 0.042212132507791884\n",
      "[LOG 20210201-12:59:01] training :: epoch: 144 train-loss: 0.042075270357040256\n",
      "[LOG 20210201-12:59:01] training :: epoch: 145 train-loss: 0.04193672795708363\n",
      "[LOG 20210201-12:59:01] training :: epoch: 146 train-loss: 0.04179571783886506\n",
      "[LOG 20210201-12:59:02] training :: epoch: 147 train-loss: 0.04165446443053392\n",
      "[LOG 20210201-12:59:02] training :: epoch: 148 train-loss: 0.04152033936518889\n",
      "[LOG 20210201-12:59:02] training :: epoch: 149 train-loss: 0.041371812184269614\n",
      "[LOG 20210201-12:59:03] training :: epoch: 150 train-loss: 0.04123899541222132\n",
      "[LOG 20210201-12:59:03] training :: epoch: 151 train-loss: 0.041100114154127926\n",
      "[LOG 20210201-12:59:03] training :: epoch: 152 train-loss: 0.04096530764721907\n",
      "[LOG 20210201-12:59:03] training :: epoch: 153 train-loss: 0.040830620349599764\n",
      "[LOG 20210201-12:59:04] training :: epoch: 154 train-loss: 0.040691216547901816\n",
      "[LOG 20210201-12:59:04] training :: epoch: 155 train-loss: 0.040556686285596624\n",
      "[LOG 20210201-12:59:04] training :: epoch: 156 train-loss: 0.04042301785487395\n",
      "[LOG 20210201-12:59:05] training :: epoch: 157 train-loss: 0.04028212336393503\n",
      "[LOG 20210201-12:59:05] training :: epoch: 158 train-loss: 0.04014567113839663\n",
      "[LOG 20210201-12:59:05] training :: epoch: 159 train-loss: 0.040016575501515314\n",
      "[LOG 20210201-12:59:06] training :: epoch: 160 train-loss: 0.03987313792682611\n",
      "[LOG 20210201-12:59:06] training :: epoch: 161 train-loss: 0.039740814469181575\n",
      "[LOG 20210201-12:59:06] training :: epoch: 162 train-loss: 0.03960861752812679\n",
      "[LOG 20210201-12:59:06] training :: epoch: 163 train-loss: 0.039472779688926846\n",
      "[LOG 20210201-12:59:07] training :: epoch: 164 train-loss: 0.03934475765205347\n",
      "[LOG 20210201-12:59:07] training :: epoch: 165 train-loss: 0.03920823521912098\n",
      "[LOG 20210201-12:59:07] training :: epoch: 166 train-loss: 0.039069575329239555\n",
      "[LOG 20210201-12:59:08] training :: epoch: 167 train-loss: 0.03893610133001438\n",
      "[LOG 20210201-12:59:08] training :: epoch: 168 train-loss: 0.03880303897536718\n",
      "[LOG 20210201-12:59:08] training :: epoch: 169 train-loss: 0.03866871088170088\n",
      "[LOG 20210201-12:59:09] training :: epoch: 170 train-loss: 0.0385394196670789\n",
      "[LOG 20210201-12:59:09] training :: epoch: 171 train-loss: 0.03840917363189734\n",
      "[LOG 20210201-12:59:09] training :: epoch: 172 train-loss: 0.03827629524927873\n",
      "[LOG 20210201-12:59:09] training :: epoch: 173 train-loss: 0.03814058922804319\n",
      "[LOG 20210201-12:59:10] training :: epoch: 174 train-loss: 0.038009643697967894\n",
      "[LOG 20210201-12:59:10] training :: epoch: 175 train-loss: 0.037882295078956164\n",
      "[LOG 20210201-12:59:10] training :: epoch: 176 train-loss: 0.03775048098311974\n",
      "[LOG 20210201-12:59:11] training :: epoch: 177 train-loss: 0.037618836674552694\n",
      "[LOG 20210201-12:59:11] training :: epoch: 178 train-loss: 0.03749302903620096\n",
      "[LOG 20210201-12:59:11] training :: epoch: 179 train-loss: 0.03736139518710283\n",
      "[LOG 20210201-12:59:12] training :: epoch: 180 train-loss: 0.03723180408661182\n",
      "[LOG 20210201-12:59:12] training :: epoch: 181 train-loss: 0.03710026351305155\n",
      "[LOG 20210201-12:59:12] training :: epoch: 182 train-loss: 0.036966642508139975\n",
      "[LOG 20210201-12:59:12] training :: epoch: 183 train-loss: 0.0368421976096355\n",
      "[LOG 20210201-12:59:13] training :: epoch: 184 train-loss: 0.036710143519135624\n",
      "[LOG 20210201-12:59:13] training :: epoch: 185 train-loss: 0.03658184538093897\n",
      "[LOG 20210201-12:59:13] training :: epoch: 186 train-loss: 0.036449855766617335\n",
      "[LOG 20210201-12:59:14] training :: epoch: 187 train-loss: 0.03631695417257456\n",
      "[LOG 20210201-12:59:14] training :: epoch: 188 train-loss: 0.036197343411353916\n",
      "[LOG 20210201-12:59:14] training :: epoch: 189 train-loss: 0.03606735112575384\n",
      "[LOG 20210201-12:59:14] training :: epoch: 190 train-loss: 0.03593982498233135\n",
      "[LOG 20210201-12:59:15] training :: epoch: 191 train-loss: 0.03581143844013031\n",
      "[LOG 20210201-12:59:15] training :: epoch: 192 train-loss: 0.035686443058344036\n",
      "[LOG 20210201-12:59:15] training :: epoch: 193 train-loss: 0.03555765146246323\n",
      "[LOG 20210201-12:59:16] training :: epoch: 194 train-loss: 0.035429730581549496\n",
      "[LOG 20210201-12:59:16] training :: epoch: 195 train-loss: 0.035297670329992585\n",
      "[LOG 20210201-12:59:16] training :: epoch: 196 train-loss: 0.035178895466602765\n",
      "[LOG 20210201-12:59:16] training :: epoch: 197 train-loss: 0.035049485185971625\n",
      "[LOG 20210201-12:59:17] training :: epoch: 198 train-loss: 0.03492167291159813\n",
      "[LOG 20210201-12:59:17] training :: epoch: 199 train-loss: 0.03480141409314596\n",
      "[LOG 20210201-12:59:17] training :: epoch: 200 train-loss: 0.0346752879424737\n",
      "stock_lstm_backtest\n",
      "0% [############################# ] 100% | ETA: 00:00:00\n",
      "[LOG 20210201-12:59:22] backtest :: total return: -0.7894, monthly-sharpe: -1.2253, daily-sharpe: -0.7574.\n",
      "[LOG 20210201-12:59:23] training :: epoch: 201 train-loss: 0.03455041549526728\n",
      "[LOG 20210201-12:59:24] training :: epoch: 202 train-loss: 0.034423908505302206\n",
      "[LOG 20210201-12:59:24] training :: epoch: 203 train-loss: 0.034299215874992885\n"
     ]
    },
    {
     "name": "stdout",
     "output_type": "stream",
     "text": [
      "[LOG 20210201-12:59:24] training :: epoch: 204 train-loss: 0.03417361441713113\n",
      "[LOG 20210201-12:59:24] training :: epoch: 205 train-loss: 0.03405289323284076\n",
      "[LOG 20210201-12:59:25] training :: epoch: 206 train-loss: 0.03392901959327551\n",
      "[LOG 20210201-12:59:25] training :: epoch: 207 train-loss: 0.0338048583899553\n",
      "[LOG 20210201-12:59:25] training :: epoch: 208 train-loss: 0.03367311034638148\n",
      "[LOG 20210201-12:59:26] training :: epoch: 209 train-loss: 0.033556956224716626\n",
      "[LOG 20210201-12:59:26] training :: epoch: 210 train-loss: 0.03343295377607529\n",
      "[LOG 20210201-12:59:26] training :: epoch: 211 train-loss: 0.033309960164702855\n",
      "[LOG 20210201-12:59:26] training :: epoch: 212 train-loss: 0.033185071526811674\n",
      "[LOG 20210201-12:59:27] training :: epoch: 213 train-loss: 0.03306651788835342\n",
      "[LOG 20210201-12:59:27] training :: epoch: 214 train-loss: 0.032938105842241876\n",
      "[LOG 20210201-12:59:27] training :: epoch: 215 train-loss: 0.0328198903455184\n",
      "[LOG 20210201-12:59:28] training :: epoch: 216 train-loss: 0.03270277294975061\n",
      "[LOG 20210201-12:59:28] training :: epoch: 217 train-loss: 0.03257615678012371\n",
      "[LOG 20210201-12:59:28] training :: epoch: 218 train-loss: 0.03245015356403131\n",
      "[LOG 20210201-12:59:29] training :: epoch: 219 train-loss: 0.03233540416336977\n",
      "[LOG 20210201-12:59:29] training :: epoch: 220 train-loss: 0.03220972418785095\n",
      "[LOG 20210201-12:59:29] training :: epoch: 221 train-loss: 0.03209817868012648\n",
      "[LOG 20210201-12:59:30] training :: epoch: 222 train-loss: 0.03197201226766293\n",
      "[LOG 20210201-12:59:30] training :: epoch: 223 train-loss: 0.03185092313931538\n",
      "[LOG 20210201-12:59:30] training :: epoch: 224 train-loss: 0.03173044151984728\n",
      "[LOG 20210201-12:59:31] training :: epoch: 225 train-loss: 0.03160906812319389\n",
      "[LOG 20210201-12:59:31] training :: epoch: 226 train-loss: 0.03149354515167383\n",
      "[LOG 20210201-12:59:31] training :: epoch: 227 train-loss: 0.03137032336627062\n",
      "[LOG 20210201-12:59:32] training :: epoch: 228 train-loss: 0.031251412171583906\n",
      "[LOG 20210201-12:59:32] training :: epoch: 229 train-loss: 0.031134861019941475\n",
      "[LOG 20210201-12:59:32] training :: epoch: 230 train-loss: 0.031017190991685942\n",
      "[LOG 20210201-12:59:33] training :: epoch: 231 train-loss: 0.03089023195207119\n",
      "[LOG 20210201-12:59:33] training :: epoch: 232 train-loss: 0.03077688619780999\n",
      "[LOG 20210201-12:59:33] training :: epoch: 233 train-loss: 0.030657956663232584\n",
      "[LOG 20210201-12:59:33] training :: epoch: 234 train-loss: 0.030535174820285577\n",
      "[LOG 20210201-12:59:34] training :: epoch: 235 train-loss: 0.03042029947615587\n",
      "[LOG 20210201-12:59:34] training :: epoch: 236 train-loss: 0.030304530563835915\n",
      "[LOG 20210201-12:59:35] training :: epoch: 237 train-loss: 0.03018276235805108\n",
      "[LOG 20210201-12:59:35] training :: epoch: 238 train-loss: 0.030070071968321618\n",
      "[LOG 20210201-12:59:36] training :: epoch: 239 train-loss: 0.029952390405994195\n",
      "[LOG 20210201-12:59:36] training :: epoch: 240 train-loss: 0.029834779552542247\n",
      "[LOG 20210201-12:59:36] training :: epoch: 241 train-loss: 0.029712807315473374\n",
      "[LOG 20210201-12:59:37] training :: epoch: 242 train-loss: 0.02960293159748499\n",
      "[LOG 20210201-12:59:37] training :: epoch: 243 train-loss: 0.029484997001978066\n",
      "[LOG 20210201-12:59:37] training :: epoch: 244 train-loss: 0.0293682967670835\n",
      "[LOG 20210201-12:59:37] training :: epoch: 245 train-loss: 0.02925627836241172\n",
      "[LOG 20210201-12:59:38] training :: epoch: 246 train-loss: 0.029140724872167293\n",
      "[LOG 20210201-12:59:38] training :: epoch: 247 train-loss: 0.0290254161048394\n",
      "[LOG 20210201-12:59:38] training :: epoch: 248 train-loss: 0.028906681431600682\n",
      "[LOG 20210201-12:59:39] training :: epoch: 249 train-loss: 0.028791335984491385\n",
      "[LOG 20210201-12:59:39] training :: epoch: 250 train-loss: 0.028677978911078893\n",
      "[LOG 20210201-12:59:39] training :: epoch: 251 train-loss: 0.028563797044066284\n",
      "[LOG 20210201-12:59:39] training :: epoch: 252 train-loss: 0.028447078397640817\n",
      "[LOG 20210201-12:59:40] training :: epoch: 253 train-loss: 0.028337784612981174\n",
      "[LOG 20210201-12:59:40] training :: epoch: 254 train-loss: 0.028221661511522073\n",
      "[LOG 20210201-12:59:40] training :: epoch: 255 train-loss: 0.0281154653773858\n",
      "[LOG 20210201-12:59:41] training :: epoch: 256 train-loss: 0.02799314998376828\n",
      "[LOG 20210201-12:59:41] training :: epoch: 257 train-loss: 0.027885554931484736\n",
      "[LOG 20210201-12:59:41] training :: epoch: 258 train-loss: 0.02776960154565481\n",
      "[LOG 20210201-12:59:42] training :: epoch: 259 train-loss: 0.02765135058703331\n",
      "[LOG 20210201-12:59:42] training :: epoch: 260 train-loss: 0.027542281322754346\n",
      "[LOG 20210201-12:59:42] training :: epoch: 261 train-loss: 0.027433701504308444\n",
      "[LOG 20210201-12:59:42] training :: epoch: 262 train-loss: 0.027315476121237643\n",
      "[LOG 20210201-12:59:43] training :: epoch: 263 train-loss: 0.027201468483186685\n",
      "[LOG 20210201-12:59:43] training :: epoch: 264 train-loss: 0.02709357476291748\n",
      "[LOG 20210201-12:59:43] training :: epoch: 265 train-loss: 0.026977356809836168\n",
      "[LOG 20210201-12:59:44] training :: epoch: 266 train-loss: 0.02687034311775978\n",
      "[LOG 20210201-12:59:44] training :: epoch: 267 train-loss: 0.0267578293211185\n",
      "[LOG 20210201-12:59:44] training :: epoch: 268 train-loss: 0.02664518213042846\n",
      "[LOG 20210201-12:59:45] training :: epoch: 269 train-loss: 0.026536950913186256\n",
      "[LOG 20210201-12:59:45] training :: epoch: 270 train-loss: 0.026426428857331093\n",
      "[LOG 20210201-12:59:45] training :: epoch: 271 train-loss: 0.026312648318707943\n",
      "[LOG 20210201-12:59:46] training :: epoch: 272 train-loss: 0.02619899895328742\n",
      "[LOG 20210201-12:59:46] training :: epoch: 273 train-loss: 0.02608919530533827\n",
      "[LOG 20210201-12:59:46] training :: epoch: 274 train-loss: 0.025982035538898066\n",
      "[LOG 20210201-12:59:47] training :: epoch: 275 train-loss: 0.025873627083805893\n",
      "[LOG 20210201-12:59:47] training :: epoch: 276 train-loss: 0.025766286998987198\n",
      "[LOG 20210201-12:59:48] training :: epoch: 277 train-loss: 0.025655176132344283\n",
      "[LOG 20210201-12:59:48] training :: epoch: 278 train-loss: 0.025545291244410552\n",
      "[LOG 20210201-12:59:48] training :: epoch: 279 train-loss: 0.025432176028306667\n",
      "[LOG 20210201-12:59:49] training :: epoch: 280 train-loss: 0.025324202357576445\n",
      "[LOG 20210201-12:59:49] training :: epoch: 281 train-loss: 0.025219246816749755\n",
      "[LOG 20210201-12:59:49] training :: epoch: 282 train-loss: 0.02511159860743926\n",
      "[LOG 20210201-12:59:50] training :: epoch: 283 train-loss: 0.025000949605153158\n",
      "[LOG 20210201-12:59:50] training :: epoch: 284 train-loss: 0.024894558251477204\n",
      "[LOG 20210201-12:59:51] training :: epoch: 285 train-loss: 0.024790193813924607\n",
      "[LOG 20210201-12:59:51] training :: epoch: 286 train-loss: 0.02467972018684332\n",
      "[LOG 20210201-12:59:51] training :: epoch: 287 train-loss: 0.02456974510390025\n",
      "[LOG 20210201-12:59:52] training :: epoch: 288 train-loss: 0.02446691942616151\n",
      "[LOG 20210201-12:59:52] training :: epoch: 289 train-loss: 0.02436014271986026\n",
      "[LOG 20210201-12:59:52] training :: epoch: 290 train-loss: 0.02424971078737424\n",
      "[LOG 20210201-12:59:53] training :: epoch: 291 train-loss: 0.024144198673848923\n",
      "[LOG 20210201-12:59:53] training :: epoch: 292 train-loss: 0.024035688274754927\n",
      "[LOG 20210201-12:59:53] training :: epoch: 293 train-loss: 0.023931343036775406\n",
      "[LOG 20210201-12:59:54] training :: epoch: 294 train-loss: 0.023823536932468414\n",
      "[LOG 20210201-12:59:54] training :: epoch: 295 train-loss: 0.023718110357339565\n",
      "[LOG 20210201-12:59:54] training :: epoch: 296 train-loss: 0.023612917974018134\n",
      "[LOG 20210201-12:59:55] training :: epoch: 297 train-loss: 0.023506346803445082\n",
      "[LOG 20210201-12:59:55] training :: epoch: 298 train-loss: 0.023405330470548227\n",
      "[LOG 20210201-12:59:55] training :: epoch: 299 train-loss: 0.023298983533795063\n",
      "[LOG 20210201-12:59:56] training :: epoch: 300 train-loss: 0.023192976529781636\n",
      "stock_lstm_backtest\n",
      "0% [############################# ] 100% | ETA: 00:00:00\n",
      "[LOG 20210201-13:00:01] backtest :: total return: -0.7894, monthly-sharpe: -1.2253, daily-sharpe: -0.7574.\n",
      "[LOG 20210201-13:00:03] training :: epoch: 301 train-loss: 0.023093819474944703\n",
      "[LOG 20210201-13:00:04] training :: epoch: 302 train-loss: 0.022986772040335033\n",
      "[LOG 20210201-13:00:04] training :: epoch: 303 train-loss: 0.02288192524932898\n",
      "[LOG 20210201-13:00:04] training :: epoch: 304 train-loss: 0.022778634555064715\n"
     ]
    },
    {
     "name": "stdout",
     "output_type": "stream",
     "text": [
      "[LOG 20210201-13:00:05] training :: epoch: 305 train-loss: 0.02267413306981325\n",
      "[LOG 20210201-13:00:05] training :: epoch: 306 train-loss: 0.022568517507841952\n",
      "[LOG 20210201-13:00:05] training :: epoch: 307 train-loss: 0.022468385859750785\n",
      "[LOG 20210201-13:00:06] training :: epoch: 308 train-loss: 0.022362288660728015\n",
      "[LOG 20210201-13:00:06] training :: epoch: 309 train-loss: 0.02226072234603075\n",
      "[LOG 20210201-13:00:06] training :: epoch: 310 train-loss: 0.022157620566968735\n",
      "[LOG 20210201-13:00:06] training :: epoch: 311 train-loss: 0.02205456427943248\n",
      "[LOG 20210201-13:00:07] training :: epoch: 312 train-loss: 0.021951032874102775\n",
      "[LOG 20210201-13:00:07] training :: epoch: 313 train-loss: 0.021854639411545716\n",
      "[LOG 20210201-13:00:07] training :: epoch: 314 train-loss: 0.021750188432633877\n",
      "[LOG 20210201-13:00:08] training :: epoch: 315 train-loss: 0.021645741250652533\n",
      "[LOG 20210201-13:00:08] training :: epoch: 316 train-loss: 0.021545862062619284\n",
      "[LOG 20210201-13:00:09] training :: epoch: 317 train-loss: 0.021447667064001925\n",
      "[LOG 20210201-13:00:09] training :: epoch: 318 train-loss: 0.02134411194576667\n",
      "[LOG 20210201-13:00:09] training :: epoch: 319 train-loss: 0.02124519431247161\n",
      "[LOG 20210201-13:00:10] training :: epoch: 320 train-loss: 0.02114215034704942\n",
      "[LOG 20210201-13:00:10] training :: epoch: 321 train-loss: 0.021039741257062324\n",
      "[LOG 20210201-13:00:10] training :: epoch: 322 train-loss: 0.020937891175540593\n",
      "[LOG 20210201-13:00:11] training :: epoch: 323 train-loss: 0.0208369203341695\n",
      "[LOG 20210201-13:00:11] training :: epoch: 324 train-loss: 0.02073935276040664\n",
      "[LOG 20210201-13:00:11] training :: epoch: 325 train-loss: 0.02063761379283208\n",
      "[LOG 20210201-13:00:12] training :: epoch: 326 train-loss: 0.020544136587816935\n",
      "[LOG 20210201-13:00:12] training :: epoch: 327 train-loss: 0.020443494216753885\n",
      "[LOG 20210201-13:00:12] training :: epoch: 328 train-loss: 0.02034104658434024\n",
      "[LOG 20210201-13:00:13] training :: epoch: 329 train-loss: 0.02024109396510399\n",
      "[LOG 20210201-13:00:13] training :: epoch: 330 train-loss: 0.02014742662700323\n",
      "[LOG 20210201-13:00:14] training :: epoch: 331 train-loss: 0.02004342733954008\n",
      "[LOG 20210201-13:00:14] training :: epoch: 332 train-loss: 0.019945066350583848\n",
      "[LOG 20210201-13:00:14] training :: epoch: 333 train-loss: 0.01984679362235161\n",
      "[LOG 20210201-13:00:14] training :: epoch: 334 train-loss: 0.019752265169070318\n",
      "[LOG 20210201-13:00:15] training :: epoch: 335 train-loss: 0.019649738589158423\n",
      "[LOG 20210201-13:00:15] training :: epoch: 336 train-loss: 0.019552081250227414\n",
      "[LOG 20210201-13:00:16] training :: epoch: 337 train-loss: 0.019455264823941085\n",
      "[LOG 20210201-13:00:16] training :: epoch: 338 train-loss: 0.01936024957551406\n",
      "[LOG 20210201-13:00:16] training :: epoch: 339 train-loss: 0.019262739672110632\n",
      "[LOG 20210201-13:00:16] training :: epoch: 340 train-loss: 0.01916630695072504\n",
      "[LOG 20210201-13:00:17] training :: epoch: 341 train-loss: 0.019066746848133895\n",
      "[LOG 20210201-13:00:17] training :: epoch: 342 train-loss: 0.01897295521428952\n",
      "[LOG 20210201-13:00:17] training :: epoch: 343 train-loss: 0.018877110372369107\n",
      "[LOG 20210201-13:00:17] training :: epoch: 344 train-loss: 0.01878281503629226\n",
      "[LOG 20210201-13:00:18] training :: epoch: 345 train-loss: 0.01868082991299721\n",
      "[LOG 20210201-13:00:18] training :: epoch: 346 train-loss: 0.018588573671877384\n",
      "[LOG 20210201-13:00:18] training :: epoch: 347 train-loss: 0.018491626144028626\n",
      "[LOG 20210201-13:00:19] training :: epoch: 348 train-loss: 0.018399069515558388\n",
      "[LOG 20210201-13:00:19] training :: epoch: 349 train-loss: 0.018303732101160746\n",
      "[LOG 20210201-13:00:19] training :: epoch: 350 train-loss: 0.01820726914761158\n",
      "[LOG 20210201-13:00:20] training :: epoch: 351 train-loss: 0.018112594333405677\n",
      "[LOG 20210201-13:00:20] training :: epoch: 352 train-loss: 0.018018464342905924\n",
      "[LOG 20210201-13:00:20] training :: epoch: 353 train-loss: 0.01792274659069685\n",
      "[LOG 20210201-13:00:21] training :: epoch: 354 train-loss: 0.017829508592302982\n",
      "[LOG 20210201-13:00:21] training :: epoch: 355 train-loss: 0.017737846463345565\n",
      "[LOG 20210201-13:00:21] training :: epoch: 356 train-loss: 0.01764233961987954\n",
      "[LOG 20210201-13:00:22] training :: epoch: 357 train-loss: 0.017548420753043432\n",
      "[LOG 20210201-13:00:22] training :: epoch: 358 train-loss: 0.01745429806984388\n",
      "[LOG 20210201-13:00:22] training :: epoch: 359 train-loss: 0.017362351672580607\n",
      "[LOG 20210201-13:00:23] training :: epoch: 360 train-loss: 0.01727011914436634\n",
      "[LOG 20210201-13:00:23] training :: epoch: 361 train-loss: 0.017177381409475438\n",
      "[LOG 20210201-13:00:23] training :: epoch: 362 train-loss: 0.01708575810950536\n",
      "[LOG 20210201-13:00:24] training :: epoch: 363 train-loss: 0.01699223340703891\n",
      "[LOG 20210201-13:00:24] training :: epoch: 364 train-loss: 0.016902395953925755\n",
      "[LOG 20210201-13:00:24] training :: epoch: 365 train-loss: 0.016810063630915605\n",
      "[LOG 20210201-13:00:25] training :: epoch: 366 train-loss: 0.01671832284102073\n",
      "[LOG 20210201-13:00:25] training :: epoch: 367 train-loss: 0.0166257549650394\n",
      "[LOG 20210201-13:00:25] training :: epoch: 368 train-loss: 0.016533462330698967\n",
      "[LOG 20210201-13:00:26] training :: epoch: 369 train-loss: 0.016445115853387576\n",
      "[LOG 20210201-13:00:26] training :: epoch: 370 train-loss: 0.016354850493371487\n",
      "[LOG 20210201-13:00:26] training :: epoch: 371 train-loss: 0.0162606263676515\n",
      "[LOG 20210201-13:00:26] training :: epoch: 372 train-loss: 0.016171183580389388\n",
      "[LOG 20210201-13:00:27] training :: epoch: 373 train-loss: 0.01608274719462945\n",
      "[LOG 20210201-13:00:27] training :: epoch: 374 train-loss: 0.01599131474414697\n",
      "[LOG 20210201-13:00:27] training :: epoch: 375 train-loss: 0.015901831480172966\n",
      "[LOG 20210201-13:00:28] training :: epoch: 376 train-loss: 0.015813364969709746\n",
      "[LOG 20210201-13:00:28] training :: epoch: 377 train-loss: 0.015723935722445067\n",
      "[LOG 20210201-13:00:28] training :: epoch: 378 train-loss: 0.015631630873450868\n",
      "[LOG 20210201-13:00:29] training :: epoch: 379 train-loss: 0.015544264183308069\n",
      "[LOG 20210201-13:00:29] training :: epoch: 380 train-loss: 0.015455604459230717\n",
      "[LOG 20210201-13:00:29] training :: epoch: 381 train-loss: 0.015366811269464401\n",
      "[LOG 20210201-13:00:30] training :: epoch: 382 train-loss: 0.01527863611968664\n",
      "[LOG 20210201-13:00:30] training :: epoch: 383 train-loss: 0.015191023345463552\n",
      "[LOG 20210201-13:00:30] training :: epoch: 384 train-loss: 0.015103683842775913\n",
      "[LOG 20210201-13:00:31] training :: epoch: 385 train-loss: 0.015014656282101687\n",
      "[LOG 20210201-13:00:31] training :: epoch: 386 train-loss: 0.014928113275135938\n",
      "[LOG 20210201-13:00:31] training :: epoch: 387 train-loss: 0.014839984691486908\n",
      "[LOG 20210201-13:00:32] training :: epoch: 388 train-loss: 0.014754393711113013\n",
      "[LOG 20210201-13:00:32] training :: epoch: 389 train-loss: 0.014668147151286785\n",
      "[LOG 20210201-13:00:32] training :: epoch: 390 train-loss: 0.014580272532139834\n",
      "[LOG 20210201-13:00:33] training :: epoch: 391 train-loss: 0.014496405752232442\n",
      "[LOG 20210201-13:00:33] training :: epoch: 392 train-loss: 0.014407001364116486\n",
      "[LOG 20210201-13:00:33] training :: epoch: 393 train-loss: 0.01432462864053937\n",
      "[LOG 20210201-13:00:34] training :: epoch: 394 train-loss: 0.014234831413397422\n",
      "[LOG 20210201-13:00:34] training :: epoch: 395 train-loss: 0.014151773594606381\n",
      "[LOG 20210201-13:00:34] training :: epoch: 396 train-loss: 0.014068726593485245\n",
      "[LOG 20210201-13:00:35] training :: epoch: 397 train-loss: 0.013982115814892145\n",
      "[LOG 20210201-13:00:35] training :: epoch: 398 train-loss: 0.01389784781405559\n",
      "[LOG 20210201-13:00:35] training :: epoch: 399 train-loss: 0.01381317196557155\n",
      "[LOG 20210201-13:00:36] training :: epoch: 400 train-loss: 0.013730150325080523\n",
      "stock_lstm_backtest\n",
      "0% [############################# ] 100% | ETA: 00:00:00\n",
      "[LOG 20210201-13:00:41] backtest :: total return: -0.7894, monthly-sharpe: -1.2253, daily-sharpe: -0.7574.\n",
      "[LOG 20210201-13:00:42] training :: epoch: 401 train-loss: 0.013641873410401436\n",
      "[LOG 20210201-13:00:43] training :: epoch: 402 train-loss: 0.013564140070229769\n",
      "[LOG 20210201-13:00:43] training :: epoch: 403 train-loss: 0.013473798914884146\n",
      "[LOG 20210201-13:00:43] training :: epoch: 404 train-loss: 0.013394074908529337\n",
      "[LOG 20210201-13:00:44] training :: epoch: 405 train-loss: 0.013311125767918734\n"
     ]
    },
    {
     "name": "stdout",
     "output_type": "stream",
     "text": [
      "[LOG 20210201-13:00:44] training :: epoch: 406 train-loss: 0.01322631466274078\n",
      "[LOG 20210201-13:00:44] training :: epoch: 407 train-loss: 0.013148760064863242\n",
      "[LOG 20210201-13:00:45] training :: epoch: 408 train-loss: 0.013064001543590656\n",
      "[LOG 20210201-13:00:45] training :: epoch: 409 train-loss: 0.012982435345363159\n",
      "[LOG 20210201-13:00:45] training :: epoch: 410 train-loss: 0.012901643828417245\n",
      "[LOG 20210201-13:00:46] training :: epoch: 411 train-loss: 0.012822373483616572\n",
      "[LOG 20210201-13:00:46] training :: epoch: 412 train-loss: 0.012739789851296406\n",
      "[LOG 20210201-13:00:46] training :: epoch: 413 train-loss: 0.012658174579533247\n",
      "[LOG 20210201-13:00:46] training :: epoch: 414 train-loss: 0.012579697327545056\n",
      "[LOG 20210201-13:00:47] training :: epoch: 415 train-loss: 0.012498962800376691\n",
      "[LOG 20210201-13:00:47] training :: epoch: 416 train-loss: 0.012414298485964537\n",
      "[LOG 20210201-13:00:47] training :: epoch: 417 train-loss: 0.012336791564638797\n",
      "[LOG 20210201-13:00:47] training :: epoch: 418 train-loss: 0.012256743171467232\n",
      "[LOG 20210201-13:00:48] training :: epoch: 419 train-loss: 0.012175272541263929\n",
      "[LOG 20210201-13:00:48] training :: epoch: 420 train-loss: 0.012093179501019992\n",
      "[LOG 20210201-13:00:48] training :: epoch: 421 train-loss: 0.012019437594482532\n",
      "[LOG 20210201-13:00:49] training :: epoch: 422 train-loss: 0.011943429636840638\n",
      "[LOG 20210201-13:00:49] training :: epoch: 423 train-loss: 0.011863367811131936\n",
      "[LOG 20210201-13:00:49] training :: epoch: 424 train-loss: 0.01178690418601036\n",
      "[LOG 20210201-13:00:50] training :: epoch: 425 train-loss: 0.011707105279828493\n",
      "[LOG 20210201-13:00:50] training :: epoch: 426 train-loss: 0.01162982166100007\n",
      "[LOG 20210201-13:00:50] training :: epoch: 427 train-loss: 0.011553064060325805\n",
      "[LOG 20210201-13:00:51] training :: epoch: 428 train-loss: 0.011474788117294129\n",
      "[LOG 20210201-13:00:51] training :: epoch: 429 train-loss: 0.011398088903381275\n",
      "[LOG 20210201-13:00:52] training :: epoch: 430 train-loss: 0.011322352139709087\n",
      "[LOG 20210201-13:00:52] training :: epoch: 431 train-loss: 0.011244555577062644\n",
      "[LOG 20210201-13:00:52] training :: epoch: 432 train-loss: 0.011168663640721487\n",
      "[LOG 20210201-13:00:53] training :: epoch: 433 train-loss: 0.011092717974231793\n",
      "[LOG 20210201-13:00:53] training :: epoch: 434 train-loss: 0.011019787500397516\n",
      "[LOG 20210201-13:00:53] training :: epoch: 435 train-loss: 0.010941696353256702\n",
      "[LOG 20210201-13:00:54] training :: epoch: 436 train-loss: 0.01086783197780068\n",
      "[LOG 20210201-13:00:54] training :: epoch: 437 train-loss: 0.010793796919572812\n",
      "[LOG 20210201-13:00:54] training :: epoch: 438 train-loss: 0.010718206660105633\n",
      "[LOG 20210201-13:00:55] training :: epoch: 439 train-loss: 0.010642734535325032\n",
      "[LOG 20210201-13:00:55] training :: epoch: 440 train-loss: 0.010568574214210877\n",
      "[LOG 20210201-13:00:55] training :: epoch: 441 train-loss: 0.010497550444247631\n",
      "[LOG 20210201-13:00:56] training :: epoch: 442 train-loss: 0.010425014278063407\n",
      "[LOG 20210201-13:00:56] training :: epoch: 443 train-loss: 0.010352329888309423\n",
      "[LOG 20210201-13:00:56] training :: epoch: 444 train-loss: 0.010278468091900531\n",
      "[LOG 20210201-13:00:56] training :: epoch: 445 train-loss: 0.010206459305034233\n",
      "[LOG 20210201-13:00:57] training :: epoch: 446 train-loss: 0.01013526119864904\n",
      "[LOG 20210201-13:00:57] training :: epoch: 447 train-loss: 0.01006281988408703\n",
      "[LOG 20210201-13:00:57] training :: epoch: 448 train-loss: 0.009991109227904907\n",
      "[LOG 20210201-13:00:58] training :: epoch: 449 train-loss: 0.009921220417779226\n",
      "[LOG 20210201-13:00:58] training :: epoch: 450 train-loss: 0.009849149339760725\n",
      "[LOG 20210201-13:00:59] training :: epoch: 451 train-loss: 0.00977697610281981\n",
      "[LOG 20210201-13:00:59] training :: epoch: 452 train-loss: 0.009707662563484449\n",
      "[LOG 20210201-13:00:59] training :: epoch: 453 train-loss: 0.009638937512555948\n",
      "[LOG 20210201-13:01:00] training :: epoch: 454 train-loss: 0.009569521993398666\n",
      "[LOG 20210201-13:01:00] training :: epoch: 455 train-loss: 0.009501080279453443\n",
      "[LOG 20210201-13:01:00] training :: epoch: 456 train-loss: 0.009429370124752704\n",
      "[LOG 20210201-13:01:01] training :: epoch: 457 train-loss: 0.009363169996784283\n",
      "[LOG 20210201-13:01:01] training :: epoch: 458 train-loss: 0.009290869276110943\n",
      "[LOG 20210201-13:01:01] training :: epoch: 459 train-loss: 0.009220793664168853\n",
      "[LOG 20210201-13:01:02] training :: epoch: 460 train-loss: 0.00915539307663074\n",
      "[LOG 20210201-13:01:02] training :: epoch: 461 train-loss: 0.009086813168743482\n",
      "[LOG 20210201-13:01:02] training :: epoch: 462 train-loss: 0.009018991715632953\n",
      "[LOG 20210201-13:01:02] training :: epoch: 463 train-loss: 0.008955734280439524\n",
      "[LOG 20210201-13:01:03] training :: epoch: 464 train-loss: 0.008885435043619229\n",
      "[LOG 20210201-13:01:03] training :: epoch: 465 train-loss: 0.008819857361511542\n",
      "[LOG 20210201-13:01:03] training :: epoch: 466 train-loss: 0.008756299431507405\n",
      "[LOG 20210201-13:01:04] training :: epoch: 467 train-loss: 0.008688899115301095\n",
      "[LOG 20210201-13:01:04] training :: epoch: 468 train-loss: 0.008623761948771201\n",
      "[LOG 20210201-13:01:04] training :: epoch: 469 train-loss: 0.008554338907393126\n",
      "[LOG 20210201-13:01:04] training :: epoch: 470 train-loss: 0.008491931733890222\n",
      "[LOG 20210201-13:01:05] training :: epoch: 471 train-loss: 0.0084266525048476\n",
      "[LOG 20210201-13:01:05] training :: epoch: 472 train-loss: 0.008362216910777183\n",
      "[LOG 20210201-13:01:06] training :: epoch: 473 train-loss: 0.008295938336791901\n",
      "[LOG 20210201-13:01:06] training :: epoch: 474 train-loss: 0.008236095846558992\n",
      "[LOG 20210201-13:01:06] training :: epoch: 475 train-loss: 0.008170817333918352\n",
      "[LOG 20210201-13:01:06] training :: epoch: 476 train-loss: 0.008106764692526598\n",
      "[LOG 20210201-13:01:07] training :: epoch: 477 train-loss: 0.008044218465399284\n",
      "[LOG 20210201-13:01:07] training :: epoch: 478 train-loss: 0.007980264436740141\n",
      "[LOG 20210201-13:01:07] training :: epoch: 479 train-loss: 0.007918595246827373\n",
      "[LOG 20210201-13:01:08] training :: epoch: 480 train-loss: 0.00785759469279303\n",
      "[LOG 20210201-13:01:08] training :: epoch: 481 train-loss: 0.007794945232140331\n",
      "[LOG 20210201-13:01:08] training :: epoch: 482 train-loss: 0.007734338000703316\n",
      "[LOG 20210201-13:01:09] training :: epoch: 483 train-loss: 0.007673517460576617\n",
      "[LOG 20210201-13:01:09] training :: epoch: 484 train-loss: 0.00761136647242193\n",
      "[LOG 20210201-13:01:09] training :: epoch: 485 train-loss: 0.007553995712302052\n",
      "[LOG 20210201-13:01:10] training :: epoch: 486 train-loss: 0.00749054800074261\n",
      "[LOG 20210201-13:01:10] training :: epoch: 487 train-loss: 0.00743196655709583\n",
      "[LOG 20210201-13:01:10] training :: epoch: 488 train-loss: 0.007373504949590335\n",
      "[LOG 20210201-13:01:11] training :: epoch: 489 train-loss: 0.0073125575884030415\n",
      "[LOG 20210201-13:01:11] training :: epoch: 490 train-loss: 0.007253593801019283\n",
      "[LOG 20210201-13:01:11] training :: epoch: 491 train-loss: 0.00719500039345943\n",
      "[LOG 20210201-13:01:12] training :: epoch: 492 train-loss: 0.007137300321259177\n",
      "[LOG 20210201-13:01:12] training :: epoch: 493 train-loss: 0.0070775369397149636\n",
      "[LOG 20210201-13:01:12] training :: epoch: 494 train-loss: 0.007020613375621347\n",
      "[LOG 20210201-13:01:13] training :: epoch: 495 train-loss: 0.006965601386932226\n",
      "[LOG 20210201-13:01:13] training :: epoch: 496 train-loss: 0.006908361101523042\n",
      "[LOG 20210201-13:01:13] training :: epoch: 497 train-loss: 0.006850764621049166\n",
      "[LOG 20210201-13:01:14] training :: epoch: 498 train-loss: 0.006795473235587661\n",
      "[LOG 20210201-13:01:14] training :: epoch: 499 train-loss: 0.0067383290734142065\n",
      "[LOG 20210201-13:01:14] training :: epoch: 500 train-loss: 0.00668318123699954\n",
      "stock_lstm_backtest\n",
      "0% [############################# ] 100% | ETA: 00:00:00\n",
      "[LOG 20210201-13:01:19] backtest :: total return: -0.7894, monthly-sharpe: -1.2253, daily-sharpe: -0.7574.\n",
      "[LOG 20210201-13:01:21] training :: epoch: 501 train-loss: 0.006625487397496517\n",
      "[LOG 20210201-13:01:21] training :: epoch: 502 train-loss: 0.006573366538549845\n",
      "[LOG 20210201-13:01:22] training :: epoch: 503 train-loss: 0.006519213480015214\n",
      "[LOG 20210201-13:01:22] training :: epoch: 504 train-loss: 0.006466336584148498\n",
      "[LOG 20210201-13:01:22] training :: epoch: 505 train-loss: 0.006409783059587846\n",
      "[LOG 20210201-13:01:23] training :: epoch: 506 train-loss: 0.006355247370755443\n"
     ]
    },
    {
     "name": "stdout",
     "output_type": "stream",
     "text": [
      "[LOG 20210201-13:01:23] training :: epoch: 507 train-loss: 0.006302219493171344\n",
      "[LOG 20210201-13:01:23] training :: epoch: 508 train-loss: 0.006250436274478069\n",
      "[LOG 20210201-13:01:23] training :: epoch: 509 train-loss: 0.006196783694366996\n",
      "[LOG 20210201-13:01:24] training :: epoch: 510 train-loss: 0.006143343151332094\n",
      "[LOG 20210201-13:01:24] training :: epoch: 511 train-loss: 0.006093316711485386\n",
      "[LOG 20210201-13:01:24] training :: epoch: 512 train-loss: 0.006041662086947606\n",
      "[LOG 20210201-13:01:25] training :: epoch: 513 train-loss: 0.005990779313903589\n",
      "[LOG 20210201-13:01:25] training :: epoch: 514 train-loss: 0.005939602529486785\n",
      "[LOG 20210201-13:01:25] training :: epoch: 515 train-loss: 0.005888224901774755\n",
      "[LOG 20210201-13:01:26] training :: epoch: 516 train-loss: 0.005840605214381447\n",
      "[LOG 20210201-13:01:26] training :: epoch: 517 train-loss: 0.005790190663761818\n",
      "[LOG 20210201-13:01:26] training :: epoch: 518 train-loss: 0.0057420005592016075\n",
      "[LOG 20210201-13:01:27] training :: epoch: 519 train-loss: 0.005690031899855687\n",
      "[LOG 20210201-13:01:27] training :: epoch: 520 train-loss: 0.005643360674954378\n",
      "[LOG 20210201-13:01:27] training :: epoch: 521 train-loss: 0.005594263318926096\n",
      "[LOG 20210201-13:01:28] training :: epoch: 522 train-loss: 0.005548061373142095\n",
      "[LOG 20210201-13:01:28] training :: epoch: 523 train-loss: 0.005499549675732851\n",
      "[LOG 20210201-13:01:28] training :: epoch: 524 train-loss: 0.005452908288974028\n",
      "[LOG 20210201-13:01:29] training :: epoch: 525 train-loss: 0.005405262470818483\n",
      "[LOG 20210201-13:01:29] training :: epoch: 526 train-loss: 0.005358990926582079\n",
      "[LOG 20210201-13:01:29] training :: epoch: 527 train-loss: 0.005311877484648273\n",
      "[LOG 20210201-13:01:29] training :: epoch: 528 train-loss: 0.00526779954536603\n",
      "[LOG 20210201-13:01:30] training :: epoch: 529 train-loss: 0.005220062027756984\n",
      "[LOG 20210201-13:01:30] training :: epoch: 530 train-loss: 0.0051770548228747566\n",
      "[LOG 20210201-13:01:30] training :: epoch: 531 train-loss: 0.005131827649445488\n",
      "[LOG 20210201-13:01:31] training :: epoch: 532 train-loss: 0.0050859481203728\n",
      "[LOG 20210201-13:01:31] training :: epoch: 533 train-loss: 0.005042699935774391\n",
      "[LOG 20210201-13:01:31] training :: epoch: 534 train-loss: 0.004999254651081104\n",
      "[LOG 20210201-13:01:31] training :: epoch: 535 train-loss: 0.00495646745324708\n",
      "[LOG 20210201-13:01:32] training :: epoch: 536 train-loss: 0.004915550960084567\n",
      "[LOG 20210201-13:01:32] training :: epoch: 537 train-loss: 0.004872847276811416\n",
      "[LOG 20210201-13:01:32] training :: epoch: 538 train-loss: 0.004829913306121643\n",
      "[LOG 20210201-13:01:32] training :: epoch: 539 train-loss: 0.004788870994861309\n",
      "[LOG 20210201-13:01:33] training :: epoch: 540 train-loss: 0.004748680198994966\n",
      "[LOG 20210201-13:01:33] training :: epoch: 541 train-loss: 0.004706844347170913\n",
      "[LOG 20210201-13:01:33] training :: epoch: 542 train-loss: 0.004666287631082993\n",
      "[LOG 20210201-13:01:34] training :: epoch: 543 train-loss: 0.004624880599574401\n",
      "[LOG 20210201-13:01:34] training :: epoch: 544 train-loss: 0.004585816650293195\n",
      "[LOG 20210201-13:01:34] training :: epoch: 545 train-loss: 0.004548032535240054\n",
      "[LOG 20210201-13:01:34] training :: epoch: 546 train-loss: 0.004507429378393751\n",
      "[LOG 20210201-13:01:35] training :: epoch: 547 train-loss: 0.0044699647965339515\n",
      "[LOG 20210201-13:01:35] training :: epoch: 548 train-loss: 0.0044301979494496034\n",
      "[LOG 20210201-13:01:35] training :: epoch: 549 train-loss: 0.0043949654791504145\n",
      "[LOG 20210201-13:01:36] training :: epoch: 550 train-loss: 0.004356000733633454\n",
      "[LOG 20210201-13:01:36] training :: epoch: 551 train-loss: 0.004319068707095889\n",
      "[LOG 20210201-13:01:36] training :: epoch: 552 train-loss: 0.004284139883776124\n",
      "[LOG 20210201-13:01:37] training :: epoch: 553 train-loss: 0.0042486109126072666\n",
      "[LOG 20210201-13:01:37] training :: epoch: 554 train-loss: 0.004212292269445383\n",
      "[LOG 20210201-13:01:37] training :: epoch: 555 train-loss: 0.004176660745333021\n",
      "[LOG 20210201-13:01:38] training :: epoch: 556 train-loss: 0.0041415286966814445\n",
      "[LOG 20210201-13:01:38] training :: epoch: 557 train-loss: 0.004107104900937814\n",
      "[LOG 20210201-13:01:38] training :: epoch: 558 train-loss: 0.004073409023336493\n",
      "[LOG 20210201-13:01:39] training :: epoch: 559 train-loss: 0.004038461860126028\n",
      "[LOG 20210201-13:01:39] training :: epoch: 560 train-loss: 0.004005508515267418\n",
      "[LOG 20210201-13:01:39] training :: epoch: 561 train-loss: 0.003972912860962634\n",
      "[LOG 20210201-13:01:40] training :: epoch: 562 train-loss: 0.003939993258637304\n",
      "[LOG 20210201-13:01:40] training :: epoch: 563 train-loss: 0.003908036813999598\n",
      "[LOG 20210201-13:01:40] training :: epoch: 564 train-loss: 0.0038756182005342385\n",
      "[LOG 20210201-13:01:40] training :: epoch: 565 train-loss: 0.003844614292924794\n",
      "[LOG 20210201-13:01:41] training :: epoch: 566 train-loss: 0.0038154854152638177\n",
      "[LOG 20210201-13:01:41] training :: epoch: 567 train-loss: 0.0037840620184747074\n",
      "[LOG 20210201-13:01:41] training :: epoch: 568 train-loss: 0.0037529322838124176\n",
      "[LOG 20210201-13:01:41] training :: epoch: 569 train-loss: 0.0037258423399180174\n",
      "[LOG 20210201-13:01:42] training :: epoch: 570 train-loss: 0.0036948132776440335\n",
      "[LOG 20210201-13:01:42] training :: epoch: 571 train-loss: 0.003666107847283666\n",
      "[LOG 20210201-13:01:42] training :: epoch: 572 train-loss: 0.0036372033109028754\n",
      "[LOG 20210201-13:01:43] training :: epoch: 573 train-loss: 0.0036094234539912297\n",
      "[LOG 20210201-13:01:43] training :: epoch: 574 train-loss: 0.003583024264886402\n",
      "[LOG 20210201-13:01:43] training :: epoch: 575 train-loss: 0.0035568470171151254\n",
      "[LOG 20210201-13:01:43] training :: epoch: 576 train-loss: 0.0035286236088722944\n",
      "[LOG 20210201-13:01:44] training :: epoch: 577 train-loss: 0.0035019991919398308\n",
      "[LOG 20210201-13:01:44] training :: epoch: 578 train-loss: 0.003477137589540619\n",
      "[LOG 20210201-13:01:45] training :: epoch: 579 train-loss: 0.0034527879638167527\n",
      "[LOG 20210201-13:01:45] training :: epoch: 580 train-loss: 0.0034278199757234408\n",
      "[LOG 20210201-13:01:45] training :: epoch: 581 train-loss: 0.0034041864475092064\n",
      "[LOG 20210201-13:01:46] training :: epoch: 582 train-loss: 0.003378134767095057\n",
      "[LOG 20210201-13:01:46] training :: epoch: 583 train-loss: 0.003355899163020345\n",
      "[LOG 20210201-13:01:46] training :: epoch: 584 train-loss: 0.0033326633364105453\n",
      "[LOG 20210201-13:01:46] training :: epoch: 585 train-loss: 0.003309385313724096\n",
      "[LOG 20210201-13:01:47] training :: epoch: 586 train-loss: 0.003285507895410634\n",
      "[LOG 20210201-13:01:47] training :: epoch: 587 train-loss: 0.0032654695141200838\n",
      "[LOG 20210201-13:01:47] training :: epoch: 588 train-loss: 0.0032427556400832077\n",
      "[LOG 20210201-13:01:48] training :: epoch: 589 train-loss: 0.003222334529989614\n",
      "[LOG 20210201-13:01:48] training :: epoch: 590 train-loss: 0.003202843372351848\n",
      "[LOG 20210201-13:01:48] training :: epoch: 591 train-loss: 0.0031808002475792398\n",
      "[LOG 20210201-13:01:49] training :: epoch: 592 train-loss: 0.003163065850877991\n",
      "[LOG 20210201-13:01:49] training :: epoch: 593 train-loss: 0.003144051951284592\n",
      "[LOG 20210201-13:01:49] training :: epoch: 594 train-loss: 0.003125064280958703\n",
      "[LOG 20210201-13:01:49] training :: epoch: 595 train-loss: 0.003105528598937851\n",
      "[LOG 20210201-13:01:50] training :: epoch: 596 train-loss: 0.0030888077140284274\n",
      "[LOG 20210201-13:01:50] training :: epoch: 597 train-loss: 0.003071499737696006\n",
      "[LOG 20210201-13:01:50] training :: epoch: 598 train-loss: 0.003053261790997707\n",
      "[LOG 20210201-13:01:51] training :: epoch: 599 train-loss: 0.003035935412089412\n",
      "[LOG 20210201-13:01:51] training :: epoch: 600 train-loss: 0.0030217141611501575\n",
      "stock_lstm_backtest\n",
      "0% [############################# ] 100% | ETA: 00:00:00\n",
      "[LOG 20210201-13:01:55] backtest :: total return: 2.6189, monthly-sharpe: 1.1133, daily-sharpe: 0.7575.\n",
      "[LOG 20210201-13:01:57] training :: epoch: 601 train-loss: 0.003005842364823016\n",
      "[LOG 20210201-13:01:57] training :: epoch: 602 train-loss: 0.0029920739963507424\n",
      "[LOG 20210201-13:01:57] training :: epoch: 603 train-loss: 0.002975688871139517\n",
      "[LOG 20210201-13:01:57] training :: epoch: 604 train-loss: 0.002962176401454669\n",
      "[LOG 20210201-13:01:58] training :: epoch: 605 train-loss: 0.002949581168090495\n",
      "[LOG 20210201-13:01:58] training :: epoch: 606 train-loss: 0.0029352083802223206\n"
     ]
    },
    {
     "name": "stdout",
     "output_type": "stream",
     "text": [
      "[LOG 20210201-13:01:58] training :: epoch: 607 train-loss: 0.0029235832715550293\n",
      "[LOG 20210201-13:01:59] training :: epoch: 608 train-loss: 0.0029102462576702237\n",
      "[LOG 20210201-13:01:59] training :: epoch: 609 train-loss: 0.0028988466007061875\n",
      "[LOG 20210201-13:01:59] training :: epoch: 610 train-loss: 0.0028870209173944136\n",
      "[LOG 20210201-13:01:59] training :: epoch: 611 train-loss: 0.002875930307289729\n",
      "[LOG 20210201-13:02:00] training :: epoch: 612 train-loss: 0.002863979128261025\n",
      "[LOG 20210201-13:02:00] training :: epoch: 613 train-loss: 0.0028559755122002503\n",
      "[LOG 20210201-13:02:00] training :: epoch: 614 train-loss: 0.002844355104920956\n",
      "[LOG 20210201-13:02:01] training :: epoch: 615 train-loss: 0.0028383326358520067\n",
      "[LOG 20210201-13:02:01] training :: epoch: 616 train-loss: 0.00282823140374743\n",
      "[LOG 20210201-13:02:01] training :: epoch: 617 train-loss: 0.0028207832051870916\n",
      "[LOG 20210201-13:02:02] training :: epoch: 618 train-loss: 0.0028126875046067513\n",
      "[LOG 20210201-13:02:02] training :: epoch: 619 train-loss: 0.002805663890635165\n",
      "[LOG 20210201-13:02:02] training :: epoch: 620 train-loss: 0.0027979246716803084\n",
      "[LOG 20210201-13:02:02] training :: epoch: 621 train-loss: 0.002792379165139909\n",
      "[LOG 20210201-13:02:03] training :: epoch: 622 train-loss: 0.0027853629659288204\n",
      "[LOG 20210201-13:02:03] training :: epoch: 623 train-loss: 0.002781157149001956\n",
      "[LOG 20210201-13:02:03] training :: epoch: 624 train-loss: 0.00277520555895395\n",
      "[LOG 20210201-13:02:04] training :: epoch: 625 train-loss: 0.002772699656466452\n",
      "[LOG 20210201-13:02:04] training :: epoch: 626 train-loss: 0.0027668608549552467\n",
      "[LOG 20210201-13:02:04] training :: epoch: 627 train-loss: 0.0027656254466049946\n",
      "[LOG 20210201-13:02:04] training :: epoch: 628 train-loss: 0.0027617021427991297\n",
      "[LOG 20210201-13:02:05] training :: epoch: 629 train-loss: 0.0027595907001971053\n",
      "[LOG 20210201-13:02:05] training :: epoch: 630 train-loss: 0.0027575571484004077\n",
      "[LOG 20210201-13:02:05] training :: epoch: 631 train-loss: 0.0027556412298089038\n",
      "[LOG 20210201-13:02:05] training :: epoch: 632 train-loss: 0.0027544286299067047\n",
      "[LOG 20210201-13:02:06] training :: epoch: 633 train-loss: 0.002753008774911555\n",
      "[LOG 20210201-13:02:06] training :: epoch: 634 train-loss: 0.002753479862943865\n",
      "[LOG 20210201-13:02:06] training :: epoch: 635 train-loss: 0.002753190669374397\n",
      "[LOG 20210201-13:02:07] training :: epoch: 636 train-loss: 0.002753704132583852\n",
      "[LOG 20210201-13:02:07] training :: epoch: 637 train-loss: 0.0027544584680491914\n",
      "[LOG 20210201-13:02:07] training :: epoch: 638 train-loss: 0.0027560781723318193\n",
      "[LOG 20210201-13:02:07] training :: epoch: 639 train-loss: 0.002760447722931321\n",
      "[LOG 20210201-13:02:08] training :: epoch: 640 train-loss: 0.002760853045261823\n",
      "[LOG 20210201-13:02:08] training :: epoch: 641 train-loss: 0.002763902669987426\n",
      "[LOG 20210201-13:02:08] training :: epoch: 642 train-loss: 0.002770893813039248\n",
      "[LOG 20210201-13:02:09] training :: epoch: 643 train-loss: 0.0027729441465523383\n",
      "[LOG 20210201-13:02:09] training :: epoch: 644 train-loss: 0.0027789948149942434\n",
      "[LOG 20210201-13:02:09] training :: epoch: 645 train-loss: 0.0027841610045960317\n",
      "[LOG 20210201-13:02:09] training :: epoch: 646 train-loss: 0.002790356654888735\n",
      "[LOG 20210201-13:02:10] training :: epoch: 647 train-loss: 0.002793570255072644\n",
      "[LOG 20210201-13:02:10] training :: epoch: 648 train-loss: 0.0028010592975008944\n",
      "[LOG 20210201-13:02:10] training :: epoch: 649 train-loss: 0.002808604693899934\n",
      "[LOG 20210201-13:02:10] training :: epoch: 650 train-loss: 0.0028149838416049113\n",
      "[LOG 20210201-13:02:11] training :: epoch: 651 train-loss: 0.002822748510740124\n",
      "[LOG 20210201-13:02:11] training :: epoch: 652 train-loss: 0.0028339417902036356\n",
      "[LOG 20210201-13:02:11] training :: epoch: 653 train-loss: 0.00284067784042026\n",
      "[LOG 20210201-13:02:12] training :: epoch: 654 train-loss: 0.002850500069773541\n",
      "[LOG 20210201-13:02:12] training :: epoch: 655 train-loss: 0.00286115667460343\n",
      "[LOG 20210201-13:02:12] training :: epoch: 656 train-loss: 0.002871605415398685\n",
      "[LOG 20210201-13:02:13] training :: epoch: 657 train-loss: 0.0028843494723192775\n",
      "[LOG 20210201-13:02:13] training :: epoch: 658 train-loss: 0.0028958708638898456\n",
      "[LOG 20210201-13:02:13] training :: epoch: 659 train-loss: 0.0029068389871659186\n",
      "[LOG 20210201-13:02:14] training :: epoch: 660 train-loss: 0.002917667501606047\n",
      "[LOG 20210201-13:02:14] training :: epoch: 661 train-loss: 0.002931462636647316\n",
      "[LOG 20210201-13:02:14] training :: epoch: 662 train-loss: 0.0029443080644481457\n",
      "[LOG 20210201-13:02:15] training :: epoch: 663 train-loss: 0.0029588584394122544\n",
      "[LOG 20210201-13:02:15] training :: epoch: 664 train-loss: 0.002972492939219452\n",
      "[LOG 20210201-13:02:15] training :: epoch: 665 train-loss: 0.002986438751507264\n",
      "[LOG 20210201-13:02:16] training :: epoch: 666 train-loss: 0.0030031540574362646\n",
      "[LOG 20210201-13:02:16] training :: epoch: 667 train-loss: 0.0030195668447189606\n",
      "[LOG 20210201-13:02:17] training :: epoch: 668 train-loss: 0.003033906678096033\n",
      "[LOG 20210201-13:02:17] training :: epoch: 669 train-loss: 0.0030513935489580035\n",
      "[LOG 20210201-13:02:17] training :: epoch: 670 train-loss: 0.0030689049028576566\n",
      "[LOG 20210201-13:02:18] training :: epoch: 671 train-loss: 0.00308694419128677\n",
      "[LOG 20210201-13:02:18] training :: epoch: 672 train-loss: 0.0031053739725253903\n",
      "[LOG 20210201-13:02:18] training :: epoch: 673 train-loss: 0.0031252119224518538\n",
      "[LOG 20210201-13:02:19] training :: epoch: 674 train-loss: 0.0031435808542972575\n",
      "[LOG 20210201-13:02:19] training :: epoch: 675 train-loss: 0.0031625626859470056\n",
      "[LOG 20210201-13:02:19] training :: epoch: 676 train-loss: 0.0031833609637732688\n",
      "[LOG 20210201-13:02:19] training :: epoch: 677 train-loss: 0.0032022993098228024\n",
      "[LOG 20210201-13:02:20] training :: epoch: 678 train-loss: 0.003224722244060383\n",
      "[LOG 20210201-13:02:20] training :: epoch: 679 train-loss: 0.003245572210289538\n",
      "[LOG 20210201-13:02:21] training :: epoch: 680 train-loss: 0.0032686897589323614\n",
      "[LOG 20210201-13:02:21] training :: epoch: 681 train-loss: 0.003289559820237068\n",
      "[LOG 20210201-13:02:21] training :: epoch: 682 train-loss: 0.0033125473598304847\n",
      "[LOG 20210201-13:02:22] training :: epoch: 683 train-loss: 0.0033359937459373702\n",
      "[LOG 20210201-13:02:22] training :: epoch: 684 train-loss: 0.00336027280606616\n",
      "[LOG 20210201-13:02:22] training :: epoch: 685 train-loss: 0.0033843030239670323\n",
      "[LOG 20210201-13:02:23] training :: epoch: 686 train-loss: 0.0034111109830868933\n",
      "[LOG 20210201-13:02:23] training :: epoch: 687 train-loss: 0.00343669699325871\n",
      "[LOG 20210201-13:02:23] training :: epoch: 688 train-loss: 0.003461103823680717\n",
      "[LOG 20210201-13:02:24] training :: epoch: 689 train-loss: 0.003486955090640829\n",
      "[LOG 20210201-13:02:24] training :: epoch: 690 train-loss: 0.0035119872683515917\n",
      "[LOG 20210201-13:02:24] training :: epoch: 691 train-loss: 0.0035404342566975034\n",
      "[LOG 20210201-13:02:25] training :: epoch: 692 train-loss: 0.003568425335778067\n",
      "[LOG 20210201-13:02:25] training :: epoch: 693 train-loss: 0.0035957741694381605\n",
      "[LOG 20210201-13:02:25] training :: epoch: 694 train-loss: 0.003624503375389255\n",
      "[LOG 20210201-13:02:25] training :: epoch: 695 train-loss: 0.0036529839808981004\n",
      "[LOG 20210201-13:02:26] training :: epoch: 696 train-loss: 0.003683557456287627\n",
      "[LOG 20210201-13:02:26] training :: epoch: 697 train-loss: 0.0037122537793878177\n",
      "[LOG 20210201-13:02:26] training :: epoch: 698 train-loss: 0.003741928394167469\n",
      "[LOG 20210201-13:02:27] training :: epoch: 699 train-loss: 0.003774057634962866\n",
      "[LOG 20210201-13:02:27] training :: epoch: 700 train-loss: 0.0038073168924221625\n",
      "stock_lstm_backtest\n",
      "0% [############################# ] 100% | ETA: 00:00:00\n",
      "[LOG 20210201-13:02:32] backtest :: total return: 2.6189, monthly-sharpe: 1.1133, daily-sharpe: 0.7575.\n",
      "[LOG 20210201-13:02:33] training :: epoch: 701 train-loss: 0.003836852041646265\n",
      "[LOG 20210201-13:02:34] training :: epoch: 702 train-loss: 0.0038685768466586103\n",
      "[LOG 20210201-13:02:34] training :: epoch: 703 train-loss: 0.003903861202371235\n",
      "[LOG 20210201-13:02:34] training :: epoch: 704 train-loss: 0.003932892676227941\n",
      "[LOG 20210201-13:02:35] training :: epoch: 705 train-loss: 0.003966459046261242\n",
      "[LOG 20210201-13:02:35] training :: epoch: 706 train-loss: 0.004001094682070498\n"
     ]
    },
    {
     "name": "stdout",
     "output_type": "stream",
     "text": [
      "[LOG 20210201-13:02:35] training :: epoch: 707 train-loss: 0.004035265014793437\n",
      "[LOG 20210201-13:02:36] training :: epoch: 708 train-loss: 0.004071558843581722\n",
      "[LOG 20210201-13:02:36] training :: epoch: 709 train-loss: 0.004107613170232911\n",
      "[LOG 20210201-13:02:36] training :: epoch: 710 train-loss: 0.004143030257322467\n",
      "[LOG 20210201-13:02:36] training :: epoch: 711 train-loss: 0.004177566725187576\n",
      "[LOG 20210201-13:02:37] training :: epoch: 712 train-loss: 0.0042146652972755525\n",
      "[LOG 20210201-13:02:37] training :: epoch: 713 train-loss: 0.004253592754069429\n",
      "[LOG 20210201-13:02:37] training :: epoch: 714 train-loss: 0.004287252202630043\n",
      "[LOG 20210201-13:02:38] training :: epoch: 715 train-loss: 0.00432440061838581\n",
      "[LOG 20210201-13:02:38] training :: epoch: 716 train-loss: 0.004363104360751235\n",
      "[LOG 20210201-13:02:38] training :: epoch: 717 train-loss: 0.0044027946423739195\n",
      "[LOG 20210201-13:02:38] training :: epoch: 718 train-loss: 0.004441430971312981\n",
      "[LOG 20210201-13:02:39] training :: epoch: 719 train-loss: 0.004482127045496152\n",
      "[LOG 20210201-13:02:39] training :: epoch: 720 train-loss: 0.00451873242855072\n",
      "[LOG 20210201-13:02:39] training :: epoch: 721 train-loss: 0.004559999349741981\n",
      "[LOG 20210201-13:02:40] training :: epoch: 722 train-loss: 0.004601710637171681\n",
      "[LOG 20210201-13:02:40] training :: epoch: 723 train-loss: 0.004639749827149969\n",
      "[LOG 20210201-13:02:40] training :: epoch: 724 train-loss: 0.004683300046823346\n",
      "[LOG 20210201-13:02:41] training :: epoch: 725 train-loss: 0.004723699691777046\n",
      "[LOG 20210201-13:02:41] training :: epoch: 726 train-loss: 0.0047658172686799215\n",
      "[LOG 20210201-13:02:42] training :: epoch: 727 train-loss: 0.004809131218980138\n",
      "[LOG 20210201-13:02:42] training :: epoch: 728 train-loss: 0.0048514360454506595\n",
      "[LOG 20210201-13:02:42] training :: epoch: 729 train-loss: 0.00489558893829011\n",
      "[LOG 20210201-13:02:42] training :: epoch: 730 train-loss: 0.004938553624714796\n",
      "[LOG 20210201-13:02:43] training :: epoch: 731 train-loss: 0.004981510430717697\n",
      "[LOG 20210201-13:02:43] training :: epoch: 732 train-loss: 0.005024346397616542\n",
      "[LOG 20210201-13:02:43] training :: epoch: 733 train-loss: 0.005069942141954715\n",
      "[LOG 20210201-13:02:44] training :: epoch: 734 train-loss: 0.005111863979926476\n",
      "[LOG 20210201-13:02:44] training :: epoch: 735 train-loss: 0.005157762296641102\n",
      "[LOG 20210201-13:02:44] training :: epoch: 736 train-loss: 0.0052026149888451285\n",
      "[LOG 20210201-13:02:45] training :: epoch: 737 train-loss: 0.00524942372710659\n",
      "[LOG 20210201-13:02:45] training :: epoch: 738 train-loss: 0.005294758092182187\n",
      "[LOG 20210201-13:02:45] training :: epoch: 739 train-loss: 0.0053423334522029525\n",
      "[LOG 20210201-13:02:46] training :: epoch: 740 train-loss: 0.005388040722419436\n",
      "[LOG 20210201-13:02:46] training :: epoch: 741 train-loss: 0.005435628476194465\n",
      "[LOG 20210201-13:02:46] training :: epoch: 742 train-loss: 0.005479656607629015\n",
      "[LOG 20210201-13:02:47] training :: epoch: 743 train-loss: 0.005527418679915941\n",
      "[LOG 20210201-13:02:47] training :: epoch: 744 train-loss: 0.005574569947874317\n",
      "[LOG 20210201-13:02:47] training :: epoch: 745 train-loss: 0.005624392374347036\n",
      "[LOG 20210201-13:02:48] training :: epoch: 746 train-loss: 0.005673775664315774\n",
      "[LOG 20210201-13:02:48] training :: epoch: 747 train-loss: 0.00571853187508308\n",
      "[LOG 20210201-13:02:48] training :: epoch: 748 train-loss: 0.005766845039593486\n",
      "[LOG 20210201-13:02:49] training :: epoch: 749 train-loss: 0.0058170621319172475\n",
      "[LOG 20210201-13:02:49] training :: epoch: 750 train-loss: 0.0058670374385725995\n",
      "[LOG 20210201-13:02:49] training :: epoch: 751 train-loss: 0.005914000221169912\n",
      "[LOG 20210201-13:02:50] training :: epoch: 752 train-loss: 0.0059630104089872195\n",
      "[LOG 20210201-13:02:50] training :: epoch: 753 train-loss: 0.006010476750536607\n",
      "[LOG 20210201-13:02:50] training :: epoch: 754 train-loss: 0.006064791733828874\n",
      "[LOG 20210201-13:02:51] training :: epoch: 755 train-loss: 0.006112501508771227\n",
      "[LOG 20210201-13:02:51] training :: epoch: 756 train-loss: 0.006163716746064333\n",
      "[LOG 20210201-13:02:51] training :: epoch: 757 train-loss: 0.006214597208711963\n",
      "[LOG 20210201-13:02:52] training :: epoch: 758 train-loss: 0.006262141136595836\n",
      "[LOG 20210201-13:02:52] training :: epoch: 759 train-loss: 0.00631172894141995\n",
      "[LOG 20210201-13:02:52] training :: epoch: 760 train-loss: 0.0063659080769866705\n",
      "[LOG 20210201-13:02:53] training :: epoch: 761 train-loss: 0.006414347417795887\n",
      "[LOG 20210201-13:02:53] training :: epoch: 762 train-loss: 0.006466115018925988\n",
      "[LOG 20210201-13:02:53] training :: epoch: 763 train-loss: 0.006517186223600919\n",
      "[LOG 20210201-13:02:53] training :: epoch: 764 train-loss: 0.006567599950358272\n",
      "[LOG 20210201-13:02:54] training :: epoch: 765 train-loss: 0.006616530957846687\n",
      "[LOG 20210201-13:02:54] training :: epoch: 766 train-loss: 0.006669472580632338\n",
      "[LOG 20210201-13:02:54] training :: epoch: 767 train-loss: 0.00672056542064708\n",
      "[LOG 20210201-13:02:55] training :: epoch: 768 train-loss: 0.006772919629628842\n",
      "[LOG 20210201-13:02:55] training :: epoch: 769 train-loss: 0.006824649386824324\n",
      "[LOG 20210201-13:02:55] training :: epoch: 770 train-loss: 0.006873471357931311\n",
      "[LOG 20210201-13:02:55] training :: epoch: 771 train-loss: 0.006927492186570397\n",
      "[LOG 20210201-13:02:56] training :: epoch: 772 train-loss: 0.006977493677718135\n",
      "[LOG 20210201-13:02:56] training :: epoch: 773 train-loss: 0.007031083662206164\n",
      "[LOG 20210201-13:02:57] training :: epoch: 774 train-loss: 0.007081171318602104\n",
      "[LOG 20210201-13:02:57] training :: epoch: 775 train-loss: 0.007132484613416286\n",
      "[LOG 20210201-13:02:57] training :: epoch: 776 train-loss: 0.007184482054211772\n",
      "[LOG 20210201-13:02:58] training :: epoch: 777 train-loss: 0.007234774171732939\n",
      "[LOG 20210201-13:02:58] training :: epoch: 778 train-loss: 0.007287545398307534\n",
      "[LOG 20210201-13:02:58] training :: epoch: 779 train-loss: 0.007340414539122811\n",
      "[LOG 20210201-13:02:59] training :: epoch: 780 train-loss: 0.007390399553024998\n",
      "[LOG 20210201-13:02:59] training :: epoch: 781 train-loss: 0.007444417319045617\n",
      "[LOG 20210201-13:02:59] training :: epoch: 782 train-loss: 0.0074948706091023404\n",
      "[LOG 20210201-13:03:00] training :: epoch: 783 train-loss: 0.007544623902783944\n",
      "[LOG 20210201-13:03:00] training :: epoch: 784 train-loss: 0.007598864774291332\n",
      "[LOG 20210201-13:03:00] training :: epoch: 785 train-loss: 0.0076484056726957746\n",
      "[LOG 20210201-13:03:01] training :: epoch: 786 train-loss: 0.007698747186133495\n",
      "[LOG 20210201-13:03:01] training :: epoch: 787 train-loss: 0.007749458900294625\n",
      "[LOG 20210201-13:03:01] training :: epoch: 788 train-loss: 0.007800276713589063\n",
      "[LOG 20210201-13:03:02] training :: epoch: 789 train-loss: 0.00785376324963111\n",
      "[LOG 20210201-13:03:02] training :: epoch: 790 train-loss: 0.007903789241726581\n",
      "[LOG 20210201-13:03:02] training :: epoch: 791 train-loss: 0.007955462277795259\n",
      "[LOG 20210201-13:03:03] training :: epoch: 792 train-loss: 0.008006143491142072\n",
      "[LOG 20210201-13:03:03] training :: epoch: 793 train-loss: 0.008055875973346142\n",
      "[LOG 20210201-13:03:03] training :: epoch: 794 train-loss: 0.00810785609512375\n",
      "[LOG 20210201-13:03:04] training :: epoch: 795 train-loss: 0.008156489974890765\n",
      "[LOG 20210201-13:03:04] training :: epoch: 796 train-loss: 0.008206857045969138\n",
      "[LOG 20210201-13:03:04] training :: epoch: 797 train-loss: 0.008256319372986373\n",
      "[LOG 20210201-13:03:05] training :: epoch: 798 train-loss: 0.008308765621712575\n",
      "[LOG 20210201-13:03:05] training :: epoch: 799 train-loss: 0.00835445405055697\n",
      "[LOG 20210201-13:03:05] training :: epoch: 800 train-loss: 0.008406863189660586\n",
      "stock_lstm_backtest\n",
      "0% [############################# ] 100% | ETA: 00:00:00\n",
      "[LOG 20210201-13:03:10] backtest :: total return: 2.6189, monthly-sharpe: 1.1133, daily-sharpe: 0.7575.\n",
      "[LOG 20210201-13:03:12] training :: epoch: 801 train-loss: 0.008454160334972234\n",
      "[LOG 20210201-13:03:13] training :: epoch: 802 train-loss: 0.008502931262438115\n",
      "[LOG 20210201-13:03:13] training :: epoch: 803 train-loss: 0.008552057955127496\n",
      "[LOG 20210201-13:03:13] training :: epoch: 804 train-loss: 0.008602427999274088\n",
      "[LOG 20210201-13:03:14] training :: epoch: 805 train-loss: 0.008648803135236869\n",
      "[LOG 20210201-13:03:14] training :: epoch: 806 train-loss: 0.00869514406300508\n",
      "[LOG 20210201-13:03:14] training :: epoch: 807 train-loss: 0.008746063730751093\n"
     ]
    },
    {
     "name": "stdout",
     "output_type": "stream",
     "text": [
      "[LOG 20210201-13:03:15] training :: epoch: 808 train-loss: 0.008792432419096049\n",
      "[LOG 20210201-13:03:15] training :: epoch: 809 train-loss: 0.008844009528939541\n",
      "[LOG 20210201-13:03:15] training :: epoch: 810 train-loss: 0.008890355507341715\n",
      "[LOG 20210201-13:03:16] training :: epoch: 811 train-loss: 0.008935101724301394\n",
      "[LOG 20210201-13:03:16] training :: epoch: 812 train-loss: 0.008978734222742228\n",
      "[LOG 20210201-13:03:16] training :: epoch: 813 train-loss: 0.009028056779733071\n",
      "[LOG 20210201-13:03:17] training :: epoch: 814 train-loss: 0.009073250783750644\n",
      "[LOG 20210201-13:03:17] training :: epoch: 815 train-loss: 0.009118109081800167\n",
      "[LOG 20210201-13:03:17] training :: epoch: 816 train-loss: 0.009165725885675503\n",
      "[LOG 20210201-13:03:18] training :: epoch: 817 train-loss: 0.00920712765162954\n",
      "[LOG 20210201-13:03:18] training :: epoch: 818 train-loss: 0.009254417883662077\n",
      "[LOG 20210201-13:03:18] training :: epoch: 819 train-loss: 0.009300003508822275\n",
      "[LOG 20210201-13:03:19] training :: epoch: 820 train-loss: 0.009341119072185112\n",
      "[LOG 20210201-13:03:19] training :: epoch: 821 train-loss: 0.00938772320604095\n",
      "[LOG 20210201-13:03:19] training :: epoch: 822 train-loss: 0.009427627548575401\n",
      "[LOG 20210201-13:03:20] training :: epoch: 823 train-loss: 0.009470429808761064\n",
      "[LOG 20210201-13:03:20] training :: epoch: 824 train-loss: 0.009515893609764485\n",
      "[LOG 20210201-13:03:20] training :: epoch: 825 train-loss: 0.009558187439464606\n",
      "[LOG 20210201-13:03:21] training :: epoch: 826 train-loss: 0.009600245752013646\n",
      "[LOG 20210201-13:03:21] training :: epoch: 827 train-loss: 0.009641611160567174\n",
      "[LOG 20210201-13:03:21] training :: epoch: 828 train-loss: 0.009681639942125632\n",
      "[LOG 20210201-13:03:22] training :: epoch: 829 train-loss: 0.009723148810175749\n",
      "[LOG 20210201-13:03:22] training :: epoch: 830 train-loss: 0.009763744194060564\n",
      "[LOG 20210201-13:03:22] training :: epoch: 831 train-loss: 0.009802236651571898\n",
      "[LOG 20210201-13:03:23] training :: epoch: 832 train-loss: 0.009843464116924085\n",
      "[LOG 20210201-13:03:23] training :: epoch: 833 train-loss: 0.009877687570853876\n",
      "[LOG 20210201-13:03:23] training :: epoch: 834 train-loss: 0.009919529852385704\n",
      "[LOG 20210201-13:03:23] training :: epoch: 835 train-loss: 0.009956507549549524\n",
      "[LOG 20210201-13:03:24] training :: epoch: 836 train-loss: 0.009995194044537269\n",
      "[LOG 20210201-13:03:24] training :: epoch: 837 train-loss: 0.010031606607998792\n",
      "[LOG 20210201-13:03:24] training :: epoch: 838 train-loss: 0.010070436849043919\n",
      "[LOG 20210201-13:03:25] training :: epoch: 839 train-loss: 0.010104555135162977\n",
      "[LOG 20210201-13:03:25] training :: epoch: 840 train-loss: 0.010141337863527812\n",
      "[LOG 20210201-13:03:25] training :: epoch: 841 train-loss: 0.010177078871772839\n",
      "[LOG 20210201-13:03:26] training :: epoch: 842 train-loss: 0.010213861671777872\n",
      "[LOG 20210201-13:03:26] training :: epoch: 843 train-loss: 0.010244477217873702\n",
      "[LOG 20210201-13:03:26] training :: epoch: 844 train-loss: 0.010281017372527948\n",
      "[LOG 20210201-13:03:27] training :: epoch: 845 train-loss: 0.010317556416759124\n",
      "[LOG 20210201-13:03:27] training :: epoch: 846 train-loss: 0.010350243761562385\n",
      "[LOG 20210201-13:03:27] training :: epoch: 847 train-loss: 0.01038211419318731\n",
      "[LOG 20210201-13:03:28] training :: epoch: 848 train-loss: 0.010412457721451154\n",
      "[LOG 20210201-13:03:28] training :: epoch: 849 train-loss: 0.010449976624491123\n",
      "[LOG 20210201-13:03:28] training :: epoch: 850 train-loss: 0.010474463423284201\n",
      "[LOG 20210201-13:03:28] training :: epoch: 851 train-loss: 0.010507463907393126\n",
      "[LOG 20210201-13:03:29] training :: epoch: 852 train-loss: 0.010536868769962054\n",
      "[LOG 20210201-13:03:29] training :: epoch: 853 train-loss: 0.010569502742817769\n",
      "[LOG 20210201-13:03:29] training :: epoch: 854 train-loss: 0.010597292799502611\n",
      "[LOG 20210201-13:03:30] training :: epoch: 855 train-loss: 0.010629741618266473\n",
      "[LOG 20210201-13:03:30] training :: epoch: 856 train-loss: 0.010659040775723182\n",
      "[LOG 20210201-13:03:30] training :: epoch: 857 train-loss: 0.01068733729278812\n",
      "[LOG 20210201-13:03:31] training :: epoch: 858 train-loss: 0.010712600169846645\n",
      "[LOG 20210201-13:03:31] training :: epoch: 859 train-loss: 0.010740591069826713\n",
      "[LOG 20210201-13:03:31] training :: epoch: 860 train-loss: 0.010765313170850277\n",
      "[LOG 20210201-13:03:31] training :: epoch: 861 train-loss: 0.01079441667892612\n",
      "[LOG 20210201-13:03:32] training :: epoch: 862 train-loss: 0.010821163117025908\n",
      "[LOG 20210201-13:03:32] training :: epoch: 863 train-loss: 0.010845213304631986\n",
      "[LOG 20210201-13:03:32] training :: epoch: 864 train-loss: 0.010870210324915556\n",
      "[LOG 20210201-13:03:33] training :: epoch: 865 train-loss: 0.01089225451533611\n",
      "[LOG 20210201-13:03:33] training :: epoch: 866 train-loss: 0.010921882107280768\n",
      "[LOG 20210201-13:03:33] training :: epoch: 867 train-loss: 0.010939083885974608\n",
      "[LOG 20210201-13:03:34] training :: epoch: 868 train-loss: 0.010966370312067179\n",
      "[LOG 20210201-13:03:34] training :: epoch: 869 train-loss: 0.010984021203162579\n",
      "[LOG 20210201-13:03:35] training :: epoch: 870 train-loss: 0.011008437508000778\n",
      "[LOG 20210201-13:03:35] training :: epoch: 871 train-loss: 0.011030978773935484\n",
      "[LOG 20210201-13:03:35] training :: epoch: 872 train-loss: 0.011051718181429\n",
      "[LOG 20210201-13:03:36] training :: epoch: 873 train-loss: 0.011073271743953228\n",
      "[LOG 20210201-13:03:36] training :: epoch: 874 train-loss: 0.011093422089918302\n",
      "[LOG 20210201-13:03:36] training :: epoch: 875 train-loss: 0.011112607227495084\n",
      "[LOG 20210201-13:03:37] training :: epoch: 876 train-loss: 0.01113048317627265\n",
      "[LOG 20210201-13:03:37] training :: epoch: 877 train-loss: 0.011147076801325265\n",
      "[LOG 20210201-13:03:37] training :: epoch: 878 train-loss: 0.011168479704513\n",
      "[LOG 20210201-13:03:37] training :: epoch: 879 train-loss: 0.01118737949918096\n",
      "[LOG 20210201-13:03:38] training :: epoch: 880 train-loss: 0.011206122401815195\n",
      "[LOG 20210201-13:03:38] training :: epoch: 881 train-loss: 0.011222431651101662\n",
      "[LOG 20210201-13:03:38] training :: epoch: 882 train-loss: 0.011238675922728501\n",
      "[LOG 20210201-13:03:39] training :: epoch: 883 train-loss: 0.011252877553208517\n",
      "[LOG 20210201-13:03:39] training :: epoch: 884 train-loss: 0.011269087759921184\n",
      "[LOG 20210201-13:03:39] training :: epoch: 885 train-loss: 0.011287231571399249\n",
      "[LOG 20210201-13:03:40] training :: epoch: 886 train-loss: 0.011298698408959003\n",
      "[LOG 20210201-13:03:40] training :: epoch: 887 train-loss: 0.01131502900702449\n",
      "[LOG 20210201-13:03:40] training :: epoch: 888 train-loss: 0.011327669991610142\n",
      "[LOG 20210201-13:03:40] training :: epoch: 889 train-loss: 0.011342431418597698\n",
      "[LOG 20210201-13:03:41] training :: epoch: 890 train-loss: 0.01135438891987388\n",
      "[LOG 20210201-13:03:41] training :: epoch: 891 train-loss: 0.01136808075870459\n",
      "[LOG 20210201-13:03:41] training :: epoch: 892 train-loss: 0.011382694571064068\n",
      "[LOG 20210201-13:03:42] training :: epoch: 893 train-loss: 0.01139195105777337\n",
      "[LOG 20210201-13:03:42] training :: epoch: 894 train-loss: 0.011404011900035234\n",
      "[LOG 20210201-13:03:42] training :: epoch: 895 train-loss: 0.011414979297954302\n",
      "[LOG 20210201-13:03:42] training :: epoch: 896 train-loss: 0.011427764386798326\n",
      "[LOG 20210201-13:03:43] training :: epoch: 897 train-loss: 0.011434684435908612\n",
      "[LOG 20210201-13:03:43] training :: epoch: 898 train-loss: 0.011445192835078789\n",
      "[LOG 20210201-13:03:43] training :: epoch: 899 train-loss: 0.011452453246769996\n",
      "[LOG 20210201-13:03:44] training :: epoch: 900 train-loss: 0.011463866604921909\n",
      "stock_lstm_backtest\n",
      "0% [############################# ] 100% | ETA: 00:00:00\n",
      "[LOG 20210201-13:03:49] backtest :: total return: 2.6189, monthly-sharpe: 1.1133, daily-sharpe: 0.7575.\n",
      "[LOG 20210201-13:03:50] training :: epoch: 901 train-loss: 0.011474779198089471\n",
      "[LOG 20210201-13:03:51] training :: epoch: 902 train-loss: 0.011480895444177665\n",
      "[LOG 20210201-13:03:51] training :: epoch: 903 train-loss: 0.011487677944107698\n",
      "[LOG 20210201-13:03:51] training :: epoch: 904 train-loss: 0.01149470111928307\n",
      "[LOG 20210201-13:03:51] training :: epoch: 905 train-loss: 0.011501309999193136\n",
      "[LOG 20210201-13:03:52] training :: epoch: 906 train-loss: 0.011505899807581535\n",
      "[LOG 20210201-13:03:52] training :: epoch: 907 train-loss: 0.011511768071124187\n",
      "[LOG 20210201-13:03:52] training :: epoch: 908 train-loss: 0.011520498468039127\n"
     ]
    },
    {
     "name": "stdout",
     "output_type": "stream",
     "text": [
      "[LOG 20210201-13:03:52] training :: epoch: 909 train-loss: 0.011527747703859439\n",
      "[LOG 20210201-13:03:53] training :: epoch: 910 train-loss: 0.011529213462311488\n",
      "[LOG 20210201-13:03:53] training :: epoch: 911 train-loss: 0.011533541963077508\n",
      "[LOG 20210201-13:03:53] training :: epoch: 912 train-loss: 0.011538454546378208\n",
      "[LOG 20210201-13:03:54] training :: epoch: 913 train-loss: 0.01153933102838122\n",
      "[LOG 20210201-13:03:54] training :: epoch: 914 train-loss: 0.01154509956876819\n",
      "[LOG 20210201-13:03:54] training :: epoch: 915 train-loss: 0.01154886891778845\n",
      "[LOG 20210201-13:03:55] training :: epoch: 916 train-loss: 0.011550842175403466\n",
      "[LOG 20210201-13:03:55] training :: epoch: 917 train-loss: 0.011550667588240825\n"
     ]
    }
   ],
   "source": [
    "# init collection of training epoch losses\n",
    "train_epoch_losses = []\n",
    "\n",
    "# set the model in training mode\n",
    "lstm_model.train()\n",
    "\n",
    "# determine experiment timestamp\n",
    "exp_timestamp = dt.datetime.utcnow().strftime(\"%Y-%m-%d_%H-%M-%S\")\n",
    "\n",
    "# iterate over epochs\n",
    "for epoch in range(0, no_epochs):\n",
    "\n",
    "    # init collection of mini-batch losses\n",
    "    train_mini_batch_losses = []\n",
    "            \n",
    "    # iterate over mini-batches\n",
    "    for input_batch, target_batch in train_dataloader:\n",
    "        \n",
    "        # push mini-batch data to computation device\n",
    "        input_batch = input_batch.to(device)\n",
    "        target_batch = target_batch.to(device)\n",
    "        \n",
    "        # predict sequence output\n",
    "        prediction_batch = lstm_model(input_batch)\n",
    "        \n",
    "        # calculate batch loss\n",
    "        batch_loss = loss_function(prediction_batch, target_batch)\n",
    "\n",
    "        # run backward gradient calculation\n",
    "        batch_loss.backward()\n",
    "\n",
    "        # update network parameters\n",
    "        optimizer.step()\n",
    "        \n",
    "        # collect mini-batch loss\n",
    "        train_mini_batch_losses.append(batch_loss.data.item())\n",
    "            \n",
    "    # determine mean min-batch loss of epoch\n",
    "    train_epoch_loss = np.mean(train_mini_batch_losses)\n",
    "    \n",
    "    # print epoch loss\n",
    "    now = dt.datetime.utcnow().strftime(\"%Y%m%d-%H:%M:%S\")\n",
    "    print('[LOG {}] training :: epoch: {} train-loss: {}'.format(str(now), str(epoch), str(train_epoch_loss)))\n",
    "    \n",
    "    # determine mean min-batch loss of epoch\n",
    "    train_epoch_losses.append(train_epoch_loss)\n",
    "        \n",
    "    # print epoch and save models\n",
    "    if epoch % train_checkpoint_epoch == 0 and epoch > 0:\n",
    "        \n",
    "        # determine the model predictions\n",
    "        train_predictions_list = compute_model_predictions(lstm_model, train_sequences_input)\n",
    "        \n",
    "        # convert the model predictions into trading signals\n",
    "        signal_data = compute_model_signals(train_predictions_list, train_stock_sequence_target_date, signal_threshold)\n",
    "        \n",
    "        # determine and prepare the in-sample market data \n",
    "        market_data = compute_market_data(stock_data_price, signal_data)\n",
    "        \n",
    "        # run the model backtest\n",
    "        backtest_result_stats, backtest_result_details = model_backtest(signal_data, market_data)\n",
    "        \n",
    "        # print the backtest performance \n",
    "        now = dt.datetime.utcnow().strftime(\"%Y%m%d-%H:%M:%S\")\n",
    "        print('\\n[LOG {}] backtest :: total return: {}, monthly-sharpe: {}, daily-sharpe: {}.'.format(str(now), str(np.round(backtest_result_stats['total_return'], 4)), str(np.round(backtest_result_stats['monthly_sharpe'], 4)), str(np.round(backtest_result_stats['daily_sharpe'], 4))))\n",
    "      \n",
    "        # save a checkoint of the current model parameters \n",
    "        model_name = '{}_many2one_lstm_model_{}.pth'.format(str(exp_timestamp), str(no_epochs))\n",
    "        torch.save(lstm_model.state_dict(), os.path.join(models_directory, model_name))\n",
    "        \n",
    "        # visualize the model in-sample predictions\n",
    "        filename = '{}_many2one_lstm_predictions_{}.png'.format(str(exp_timestamp), str(no_epochs))\n",
    "        plot_model_predictions(train_stock_sequence_target_date, train_sequences_target, train_predictions_list, epoch, filename)\n",
    "        \n",
    "        # collect and log the current training statistics\n",
    "        timestamp = dt.datetime.utcnow().strftime('%Y.%m.%d-%H:%M:%S')\n",
    "        training_statistics.iloc[int(epoch/train_checkpoint_epoch)-1] = [str(timestamp), str(epoch), str(mini_batch_size), str(learning_rate), str(np.round(train_epoch_loss, 8)), str(signal_threshold), str(backtest_result_stats['trade_signals']), str(np.round(backtest_result_stats['total_return'], 4)), str(np.round(backtest_result_stats['monthly_sharpe'], 4)), str(np.round(backtest_result_stats['daily_sharpe'], 4))]\n",
    "        \n",
    "        # save the log of the current experiment statistics\n",
    "        file_name = '{}_many2one_lstm_statistics_ep_{}.csv'.format(str(exp_timestamp), str(no_epochs))\n",
    "        training_statistics.to_csv(os.path.join(statistics_directory, file_name), sep=',', encoding='utf-8')"
   ]
  },
  {
   "cell_type": "markdown",
   "metadata": {},
   "source": [
    "Ok, fantastic. The **training error** is **nicely going down**. We could train the network a couple more epochs until the error converges. But let's stay with the 1000 training epochs for now and continue with evaluating our trained model. Upon successful training let's visualize and inspect the training loss per training epoch:"
   ]
  },
  {
   "cell_type": "code",
   "execution_count": null,
   "metadata": {},
   "outputs": [],
   "source": [
    "# prepare plot\n",
    "fig = plt.figure()\n",
    "ax = fig.add_subplot(111)\n",
    "\n",
    "# add grid\n",
    "ax.grid(linestyle='dotted')\n",
    "\n",
    "# plot the training epochs vs. the epochs' prediction error\n",
    "ax.plot(np.array(range(1, len(train_epoch_losses)+1)), train_epoch_losses, label='epoch loss (blue)')\n",
    "\n",
    "# add axis legends\n",
    "ax.set_xlabel(\"[training epoch $e_i$]\", fontsize=10)\n",
    "ax.set_ylabel(\"[Prediction Error $\\mathcal{L}^{MSE}$]\", fontsize=10)\n",
    "\n",
    "# set plot legend\n",
    "plt.legend(loc=\"upper right\", numpoints=1, fancybox=True)\n",
    "\n",
    "# add plot title\n",
    "plt.title('Training Epochs $e_i$ vs. Prediction Error $L^{MSE}$', fontsize=10);"
   ]
  },
  {
   "cell_type": "markdown",
   "metadata": {},
   "source": [
    "In this section, we will conduct a visual comparison of the predicted daily returns to the actual ('true') daily returns. The comparison will encompass the daily returns of the in-sample time period as well as the returns of the out-of-sample time period."
   ]
  },
  {
   "cell_type": "markdown",
   "metadata": {},
   "source": [
    "### 6. Model Import and Validation"
   ]
  },
  {
   "cell_type": "markdown",
   "metadata": {},
   "source": [
    "In this section, we will **import the trained model** that exhibits the **highest in-sample performance**. In addition, we will use the imported model to determine daily return predictions based on the population of **validation (\"out-of-sample\") input return** sequences. Finally, we will visualize the daily validation return **predictions** of the trained model in contrast to the validation (\"out-of-sample\") **target returns**."
   ]
  },
  {
   "cell_type": "markdown",
   "metadata": {},
   "source": [
    "#### 6.1. Import Trained Neural Network Model"
   ]
  },
  {
   "cell_type": "markdown",
   "metadata": {},
   "source": [
    "Before starting our evaluation, let's **import the trained model** that exhibits the **highest in-sample performance** (or any other already trained model we aim to evaluate). Remember, that we stored a checkpoint of all model parameters for  each training epoch to our local model directory. Now, we will load the best performing checkpoint saved (which will hopefully also yield a good out-of-sample performance):"
   ]
  },
  {
   "cell_type": "code",
   "execution_count": null,
   "metadata": {},
   "outputs": [],
   "source": [
    "# init the pre-trained model architecture\n",
    "lstm_model_trained = LSTMNet_Many2One().to(device)\n",
    "\n",
    "# set the pre-trained model name we aim to load\n",
    "lstm_model_name_trained = 'https://raw.githubusercontent.com/financial-data-science/CFDS-Notebooks/master/lab_15/models/best_many2one_lstm_model_10000.pth'\n",
    "\n",
    "# read pretrained model from the remote location\n",
    "lstm_model_trained_bytes = urllib.request.urlopen(lstm_model_name_trained)\n",
    "\n",
    "# load tensor from io.BytesIO object\n",
    "lstm_model_trained_buffer = io.BytesIO(lstm_model_trained_bytes.read())\n",
    "\n",
    "# load the pre-trained model paramaters \n",
    "lstm_model_trained.load_state_dict(torch.load(lstm_model_trained_buffer, map_location=lambda storage, loc: storage))"
   ]
  },
  {
   "cell_type": "markdown",
   "metadata": {},
   "source": [
    "Ok, all keys (\"model parameters\") matched successfully. This indicates that the trained model was successfully imported into the notebook."
   ]
  },
  {
   "cell_type": "markdown",
   "metadata": {},
   "source": [
    "#### 6.2. Derive Model Return Predictions"
   ]
  },
  {
   "cell_type": "markdown",
   "metadata": {},
   "source": [
    "Next, we will conduct an **out-of-sample** validation of the trained and imported neural network model. Therefore, we will use the **trained model** to determine daily return predictions based on the population of **validation (\"out-of-sample\") input return** sequences:"
   ]
  },
  {
   "cell_type": "code",
   "execution_count": null,
   "metadata": {},
   "outputs": [],
   "source": [
    "# predict sequence output\n",
    "valid_predictions = lstm_model_trained(valid_sequences_input.to(device))\n",
    "\n",
    "# collect prediction batch results\n",
    "valid_predictions_list = valid_predictions.cpu().detach().numpy()[:, -1].tolist()\n",
    "\n",
    "# collect target batch results\n",
    "valid_targets_list = (valid_sequences_target).numpy()[:, -1].tolist()"
   ]
  },
  {
   "cell_type": "markdown",
   "metadata": {},
   "source": [
    "Let's also visualize the daily validation predictions of the trained model in contrast to the **validation (\"out-of-sample\") target return** sequences:"
   ]
  },
  {
   "cell_type": "code",
   "execution_count": null,
   "metadata": {},
   "outputs": [],
   "source": [
    "# plot the prediction results\n",
    "plt.style.use('seaborn')\n",
    "plt.rcParams['figure.figsize'] = [15, 5]\n",
    "\n",
    "fig = plt.figure()\n",
    "ax = fig.add_subplot(111)\n",
    "\n",
    "# plot ground-truth out-of-sample returns\n",
    "ax.plot(valid_stock_sequence_target_date[:, -1], valid_targets_list, color='C1', label='groundtruth (green)')\n",
    "\n",
    "# plot predicted out-of-sample returns\n",
    "ax.plot(valid_stock_sequence_target_date[:, -1], valid_predictions_list, color='C0', label='predictions (blue)')\n",
    "\n",
    "# set x-axis limits\n",
    "ax.set_xlim(valid_stock_sequence_target_date[:, -1].min(), valid_stock_sequence_target_date[:, -1].max())\n",
    "\n",
    "# set plot legend\n",
    "plt.legend(loc=\"lower right\", numpoints=1, fancybox=True)\n",
    "\n",
    "# set plot title\n",
    "plt.title('LSTM NN Many2One Out-of-Sample Prediction vs. Ground-Truth Market Prices', fontsize=10)\n",
    "\n",
    "# set axis labels\n",
    "plt.xlabel('[time]', fontsize=8)\n",
    "plt.ylabel('[market price]', fontsize=8)\n",
    "\n",
    "# set axis ticks fontsize\n",
    "plt.xticks(fontsize=8)\n",
    "plt.yticks(fontsize=8);"
   ]
  },
  {
   "cell_type": "markdown",
   "metadata": {},
   "source": [
    "### 7. Model Backtest"
   ]
  },
  {
   "cell_type": "markdown",
   "metadata": {},
   "source": [
    "In this section, we will backtest the python `bt` library. Python `bt` is a flexible, backtest framework that can be used to test quantitative trading strategies. In general, backtesting is the process of testing a strategy over a given data set (more details about the `bt` library can be found via: https://pmorissette.github.io/bt/)."
   ]
  },
  {
   "cell_type": "markdown",
   "metadata": {},
   "source": [
    "#### 7.1. Derive Model Trade Signals"
   ]
  },
  {
   "cell_type": "markdown",
   "metadata": {},
   "source": [
    "Next, we will the validation (\"out-of-sample\") **future return predictions $\\hat{r}_{t+1}$** into **trade signals** $\\phi(\\hat{r}_{t+1})$. Thereby, we will, similarly as above, interpret any positive future return prediction greater or equal a predefined threshold $t$ as a **\"long\" (buy)** signal, formally denoted by $r_{t+1} \\geq t$. Correspondingly, we will interpret any negative future return prediction lower or equal a predefined threshold $-t$, formally denoted by $r_{t+1} \\leq -t$ as a **\"short\" (sell)** signal. Formally, the out-of-sample trading signal are derived according to:"
   ]
  },
  {
   "cell_type": "markdown",
   "metadata": {},
   "source": [
    "<center>\n",
    "$\n",
    "\\\\\n",
    "\\phi(\\hat{r}_{t+1})=\n",
    "\\begin{cases}\n",
    "1.0 & \\textrm{(\"long signal\")}, & for & \\hat{r}_{t+1} > t\\\\\n",
    "-1.0 & \\textrm{(\"short signal\")}, & for & \\hat{r}_{t+1} < -t\\\\\n",
    "\\end{cases}\n",
    "$\n",
    "</center>"
   ]
  },
  {
   "cell_type": "markdown",
   "metadata": {},
   "source": [
    "where $\\hat{r}_{t+1}$ denotes a by the model predicted future return at time $t+1$. To achieve this, let's specify the trade signal threshold $t$ as introduced above:"
   ]
  },
  {
   "cell_type": "code",
   "execution_count": null,
   "metadata": {},
   "outputs": [],
   "source": [
    "valid_signal_threshold = 0.001"
   ]
  },
  {
   "cell_type": "markdown",
   "metadata": {},
   "source": [
    "In a following step, let's compute the trade signals $\\phi(\\hat{r}_{t+1})$ accordingly:"
   ]
  },
  {
   "cell_type": "code",
   "execution_count": null,
   "metadata": {},
   "outputs": [],
   "source": [
    "# init and prepare the model signal data \n",
    "valid_signal_data = pd.DataFrame(valid_predictions_list, columns=['PREDICTIONS'], index=valid_stock_sequence_target_date[:, -1])\n",
    "\n",
    "# derive trading signals from model predictions\n",
    "valid_signal_data['SIGNAL'] = np.where(valid_signal_data['PREDICTIONS'] >= valid_signal_threshold, 1.0, 0.0)\n",
    "valid_signal_data['SIGNAL'] = np.where(valid_signal_data['PREDICTIONS'] <= -valid_signal_threshold, -1.0, valid_signal_data['SIGNAL'])\n",
    "\n",
    "# offset the signal data\n",
    "valid_signal_data = valid_signal_data.set_index(valid_signal_data['SIGNAL'].index - pd.DateOffset(1))"
   ]
  },
  {
   "cell_type": "markdown",
   "metadata": {},
   "source": [
    "Let's inspect the top 10 rows of the prepared and offset trade signals:"
   ]
  },
  {
   "cell_type": "code",
   "execution_count": null,
   "metadata": {},
   "outputs": [],
   "source": [
    "valid_signal_data.head(10)"
   ]
  },
  {
   "cell_type": "markdown",
   "metadata": {},
   "source": [
    "Finally, let's also **visually inspect the trade signals** derived from the model's out-of-sample return predictions:"
   ]
  },
  {
   "cell_type": "code",
   "execution_count": null,
   "metadata": {},
   "outputs": [],
   "source": [
    "plt.rcParams['figure.figsize'] = [15, 5]\n",
    "fig = plt.figure()\n",
    "ax = fig.add_subplot(111)\n",
    "\n",
    "ax.plot(valid_signal_data['SIGNAL'], lw=1.0, color='C3', label='LSTM trade signals')\n",
    "    \n",
    "# set axis ranges\n",
    "ax.set_xlim([valid_signal_data.index[0], valid_signal_data.index[-1]])\n",
    "ax.set_ylim([-1.1, 1.1])\n",
    "\n",
    "# set axis labels\n",
    "ax.set_xlabel('[time]', fontsize=10)\n",
    "ax.set_ylabel('[lstm trade signal]', fontsize=10)\n",
    "\n",
    "# rotate x-axis ticks\n",
    "for tick in ax.get_xticklabels():\n",
    "    tick.set_rotation(45)\n",
    "\n",
    "# set plot title\n",
    "plt.title('Invesco QQQ Trust Series 1 - LSTM \\'Many to One\\' Trade Signals', fontsize=10);"
   ]
  },
  {
   "cell_type": "markdown",
   "metadata": {},
   "source": [
    "Upon successful trade signal generation, let's determine the number of signal changes (trades to be executed) within the out-of-sample timeframe **03/2016** until **12/2017**, corresponding to a total in-sample timeframe of approx. **21 months** (9 + 12):"
   ]
  },
  {
   "cell_type": "code",
   "execution_count": null,
   "metadata": {},
   "outputs": [],
   "source": [
    "# determine number of signal changes\n",
    "len(list(itertools.groupby(valid_signal_data['SIGNAL'], lambda x: x > 0)))"
   ]
  },
  {
   "cell_type": "markdown",
   "metadata": {},
   "source": [
    "On average around **7** signal changes (trades) per month (148 signal changes / 21 months) within the out-of-sample time period."
   ]
  },
  {
   "cell_type": "markdown",
   "metadata": {},
   "source": [
    "#### 7.2. Prepare Backtest Market Data"
   ]
  },
  {
   "cell_type": "markdown",
   "metadata": {},
   "source": [
    "Now, let's prepare and trim the validation (\"out-of-sample\") market data of QQQ so that it can be utilized by the `bt` backtesting library:"
   ]
  },
  {
   "cell_type": "code",
   "execution_count": null,
   "metadata": {},
   "outputs": [],
   "source": [
    "valid_stock_market_data = pd.DataFrame(stock_data_price['QQQ'])\n",
    "valid_stock_market_data = valid_stock_market_data.rename(columns={'QQQ': 'PRICE'})\n",
    "valid_stock_market_data = valid_stock_market_data.set_index(pd.to_datetime(stock_data_price.index))"
   ]
  },
  {
   "cell_type": "markdown",
   "metadata": {},
   "source": [
    "Let's inspect the top 5 rows of the prepared validation QQQ market data:"
   ]
  },
  {
   "cell_type": "code",
   "execution_count": null,
   "metadata": {},
   "outputs": [],
   "source": [
    "valid_stock_market_data.head(5)"
   ]
  },
  {
   "cell_type": "markdown",
   "metadata": {},
   "source": [
    "Trim the prepared market data to the out-of-sample time period:"
   ]
  },
  {
   "cell_type": "code",
   "execution_count": null,
   "metadata": {},
   "outputs": [],
   "source": [
    "valid_stock_market_data = valid_stock_market_data[valid_stock_market_data.index >= valid_signal_data.index[0]]\n",
    "valid_stock_market_data = valid_stock_market_data[valid_stock_market_data.index <= valid_signal_data.index[-1]]"
   ]
  },
  {
   "cell_type": "markdown",
   "metadata": {},
   "source": [
    "Visualize the trimmed validation (\"out-of-sample\") market data:"
   ]
  },
  {
   "cell_type": "code",
   "execution_count": null,
   "metadata": {},
   "outputs": [],
   "source": [
    "plt.rcParams['figure.figsize'] = [15, 5]\n",
    "fig = plt.figure()\n",
    "ax = fig.add_subplot(111)\n",
    "\n",
    "# plot the valiation market data\n",
    "ax.plot(valid_stock_market_data['PRICE'], color='#9b59b6')\n",
    "    \n",
    "# set axis labels\n",
    "ax.set_xlabel('[time]', fontsize=10)\n",
    "ax.set_ylabel('[QQQ closing price]', fontsize=10)\n",
    "\n",
    "# rotate x-tick labels\n",
    "for tick in ax.get_xticklabels():\n",
    "    tick.set_rotation(45)\n",
    "\n",
    "# set axis labels and limits\n",
    "ax.set_xlabel('[time]', fontsize=10)\n",
    "ax.set_xlim([valid_stock_market_data.index[0], valid_stock_market_data.index[-1]])\n",
    "ax.set_ylabel('[adj. closing price]', fontsize=10)\n",
    "\n",
    "# set plot title\n",
    "plt.title('Invesco QQQ Trust Series 1 - Daily Historical Adjusted Returns', fontsize=10);"
   ]
  },
  {
   "cell_type": "markdown",
   "metadata": {},
   "source": [
    "Finally let's calculate the total return gained by following a simple **\"buy and hold\"** strategy in the out-of-sample time period:"
   ]
  },
  {
   "cell_type": "code",
   "execution_count": null,
   "metadata": {},
   "outputs": [],
   "source": [
    "np.abs(valid_stock_market_data.iloc[0]['PRICE'] - valid_stock_market_data.iloc[-1]['PRICE']) / valid_stock_market_data.iloc[0]['PRICE']"
   ]
  },
  {
   "cell_type": "markdown",
   "metadata": {},
   "source": [
    "Ok, with such a simple strategy we would have been able to yield a total return of approx. **37.85%**."
   ]
  },
  {
   "cell_type": "markdown",
   "metadata": {},
   "source": [
    "#### 7.3. Prepare Model Backtest Strategy and Backtest"
   ]
  },
  {
   "cell_type": "markdown",
   "metadata": {},
   "source": [
    "Now that we have prepared (i) the **validation trading signals** as well as (ii) the **validation market data** let's implement, similarly as already done above, the LSTM based trading strategy for the **out-of-sample time period**. We will name the strategy to be implemented `LSTMStrategyValid`:"
   ]
  },
  {
   "cell_type": "code",
   "execution_count": null,
   "metadata": {},
   "outputs": [],
   "source": [
    "class LSTMStrategyValid(bt.Algo):\n",
    "    \n",
    "    def __init__(self, signals):\n",
    "        \n",
    "        # set class signals\n",
    "        self.signals = signals\n",
    "        \n",
    "    def __call__(self, target):\n",
    "        \n",
    "        if target.now in self.signals.index[1:]:\n",
    "            \n",
    "            # get actual signal\n",
    "            signal = self.signals[target.now]\n",
    "            \n",
    "            # set target weights according to signal\n",
    "            target.temp['weights'] = dict(PRICE=signal)\n",
    "            \n",
    "        # return True since we want to move on to the next timestep\n",
    "        return True"
   ]
  },
  {
   "cell_type": "markdown",
   "metadata": {},
   "source": [
    "Let's instantiate the **LSTM based trading strategy** of the out-of-sample time period using the prepared trade signals (`valid_signal_data`) of the model:"
   ]
  },
  {
   "cell_type": "code",
   "execution_count": null,
   "metadata": {},
   "outputs": [],
   "source": [
    "lstm_strategy = bt.Strategy('lstm', [bt.algos.SelectAll(), LSTMStrategy(valid_signal_data['SIGNAL']), bt.algos.Rebalance()])"
   ]
  },
  {
   "cell_type": "markdown",
   "metadata": {},
   "source": [
    "Next, we will **initialize the backtest** using both (i) the strategy and (ii) prepared out-of-sample market data (`valid_stock_market_data`):"
   ]
  },
  {
   "cell_type": "code",
   "execution_count": null,
   "metadata": {},
   "outputs": [],
   "source": [
    "backtest_lstm = bt.Backtest(strategy=lstm_strategy, data=valid_stock_market_data, name='stock_lstm_backtest')"
   ]
  },
  {
   "cell_type": "markdown",
   "metadata": {},
   "source": [
    "In addition, let's also prepare trade signals of a **\"baseline\" buy-and-hold trading strategy** for comparison purposes. Our buy-and-hold strategy sends a \"long\" (+1.0) signal at each time step of the out-of-sample time frame: "
   ]
  },
  {
   "cell_type": "code",
   "execution_count": null,
   "metadata": {},
   "outputs": [],
   "source": [
    "# copy the lstm signal data\n",
    "valid_signal_data_base = valid_signal_data.copy(deep=True) \n",
    "\n",
    "# reset all trade signals to 1 \"long\"\n",
    "valid_signal_data_base['SIGNAL'] = 1.0"
   ]
  },
  {
   "cell_type": "markdown",
   "metadata": {},
   "source": [
    "Let's instantiate the **baseline trading strategy** of the out-of-sample time period using the prepared baseline trade signals `valid_signal_data_base`:"
   ]
  },
  {
   "cell_type": "code",
   "execution_count": null,
   "metadata": {},
   "outputs": [],
   "source": [
    "# init the baseline trading strategy\n",
    "base_strategy = bt.Strategy('baseline', [bt.algos.SelectAll(), LSTMStrategy(valid_signal_data_base['SIGNAL']), bt.algos.Rebalance()])"
   ]
  },
  {
   "cell_type": "markdown",
   "metadata": {},
   "source": [
    "Next, we will **initialize the backtest** using both (i) the baseline strategy and (ii) prepared out-of-sample market data (`valid_stock_market_data`):"
   ]
  },
  {
   "cell_type": "code",
   "execution_count": null,
   "metadata": {},
   "outputs": [],
   "source": [
    "# init the baseline backtest\n",
    "backtest_base = bt.Backtest(strategy=base_strategy, data=valid_stock_market_data, name='stock_base_backtest')"
   ]
  },
  {
   "cell_type": "markdown",
   "metadata": {},
   "source": [
    "#### 7.4. Evaluate Backtest Results"
   ]
  },
  {
   "cell_type": "markdown",
   "metadata": {},
   "source": [
    "Upon successful preparation of both backtests, let's run the backtests for each trading strategy: "
   ]
  },
  {
   "cell_type": "code",
   "execution_count": null,
   "metadata": {},
   "outputs": [],
   "source": [
    "backtest_results = bt.run(backtest_lstm, backtest_base)"
   ]
  },
  {
   "cell_type": "markdown",
   "metadata": {},
   "source": [
    "Ok, that went smooth. Let's now inspect and compare the individual backtest results and performance measures respectively. To print the backtest results inside of the notebook we will make use of the `display()` function provided by the `bt` library:"
   ]
  },
  {
   "cell_type": "code",
   "execution_count": null,
   "metadata": {},
   "outputs": [],
   "source": [
    "backtest_results.display()"
   ]
  },
  {
   "cell_type": "markdown",
   "metadata": {},
   "source": [
    "In addition, we collect the **detailed backtest performance** per timestep of the LSTM trading strategy:"
   ]
  },
  {
   "cell_type": "code",
   "execution_count": null,
   "metadata": {},
   "outputs": [],
   "source": [
    "backtest_lstm_details = backtest_lstm.strategy.prices.to_frame(name='Rel. EQUITY')\n",
    "backtest_lstm_details['Abs. EQUITY'] = backtest_lstm.strategy.values # equity per timestep\n",
    "backtest_lstm_details['CASH'] = backtest_lstm.strategy.cash # cash per timestep"
   ]
  },
  {
   "cell_type": "markdown",
   "metadata": {},
   "source": [
    "Let's inspect the first 10 rows of the LSTM trading strategy backtest details:"
   ]
  },
  {
   "cell_type": "code",
   "execution_count": null,
   "metadata": {},
   "outputs": [],
   "source": [
    "backtest_lstm_details.head(10)"
   ]
  },
  {
   "cell_type": "markdown",
   "metadata": {},
   "source": [
    "Furthermore, let's visualize the **monthly returns** obtained by the LSTM based trading strategy:"
   ]
  },
  {
   "cell_type": "code",
   "execution_count": null,
   "metadata": {},
   "outputs": [],
   "source": [
    "plt.rcParams['figure.figsize'] = [15, 5]\n",
    "fig = plt.figure()\n",
    "ax = fig.add_subplot(111)\n",
    "\n",
    "# plot heatmap of monthly returns generated by the strategy\n",
    "ax = sns.heatmap(backtest_lstm.stats.return_table, annot=True, cbar=True, vmin=-0.5, vmax=0.5)\n",
    "\n",
    "# set axis labels\n",
    "ax.set_xlabel('[month]', fontsize=10)\n",
    "ax.set_ylabel('[year]', fontsize=10)\n",
    "\n",
    "# set plot title\n",
    "ax.set_title('Invesco QQQ Trust Series 1 - Monthly Returns LSTM Strategy', fontsize=10);"
   ]
  },
  {
   "cell_type": "markdown",
   "metadata": {},
   "source": [
    "We also collect the **detailed backtest performance per timestep** of the baseline \"buy-and-hold\" trading strategy:"
   ]
  },
  {
   "cell_type": "code",
   "execution_count": null,
   "metadata": {},
   "outputs": [],
   "source": [
    "backtest_base_details = backtest_base.strategy.prices.to_frame(name='Rel. EQUITY')\n",
    "backtest_base_details['Abs. EQUITY'] = backtest_base.strategy.values # equity per timestep\n",
    "backtest_base_details['CASH'] = backtest_base.strategy.cash # cash per timestep"
   ]
  },
  {
   "cell_type": "markdown",
   "metadata": {},
   "source": [
    "Let's inspect the first 10 rows of the \"buy-and-hold\" trading strategy backtest details:"
   ]
  },
  {
   "cell_type": "code",
   "execution_count": null,
   "metadata": {},
   "outputs": [],
   "source": [
    "backtest_base_details.head(10)"
   ]
  },
  {
   "cell_type": "markdown",
   "metadata": {},
   "source": [
    "Furthermore, let's visualize the **monthly returns** obtained by the \"buy-and-hold\" trading strategy:"
   ]
  },
  {
   "cell_type": "code",
   "execution_count": null,
   "metadata": {},
   "outputs": [],
   "source": [
    "plt.rcParams['figure.figsize'] = [15, 5]\n",
    "fig = plt.figure()\n",
    "ax = fig.add_subplot(111)\n",
    "\n",
    "# plot heatmap of monthly returns generated by the strategy\n",
    "ax = sns.heatmap(backtest_base.stats.return_table, annot=True, cbar=True, vmin=-0.5, vmax=0.5)\n",
    "\n",
    "# set axis labels\n",
    "ax.set_xlabel('[month]', fontsize=10)\n",
    "ax.set_ylabel('[year]', fontsize=10)\n",
    "\n",
    "# set plot title\n",
    "ax.set_title('Invesco QQQ Trust Series 1 - Monthly Returns \\'buy-and-hold\\' Strategy', fontsize=10);"
   ]
  },
  {
   "cell_type": "markdown",
   "metadata": {},
   "source": [
    "Finally, let's also visually compare the **equity progression** of both trading 'strategies over time:"
   ]
  },
  {
   "cell_type": "code",
   "execution_count": null,
   "metadata": {},
   "outputs": [],
   "source": [
    "plt.rcParams['figure.figsize'] = [15, 5]\n",
    "fig = plt.figure()\n",
    "ax = fig.add_subplot(111)\n",
    "\n",
    "# plot lstm strategy equity progression \n",
    "ax.plot(backtest_lstm_details['Rel. EQUITY'], color='C1',lw=1.0, label='lstm strategy (green)')\n",
    "\n",
    "# plot baseline strategy equity progression\n",
    "ax.plot(backtest_base_details['Rel. EQUITY'], color='C2',lw=1.0, label='base strategy (red)')\n",
    "\n",
    "# rotate x-tick labels\n",
    "for tick in ax.get_xticklabels():\n",
    "    tick.set_rotation(45)\n",
    "    \n",
    "# set axis labels\n",
    "ax.set_xlabel('[time]', fontsize=10)\n",
    "ax.set_xlim(valid_stock_sequence_target_date[:, -1].min(), valid_stock_sequence_target_date[:, -1].max())\n",
    "ax.set_ylabel('[relative equity progression]', fontsize=10)\n",
    "\n",
    "# set plot legend\n",
    "plt.legend(loc=\"upper right\", numpoints=1, fancybox=True)\n",
    "\n",
    "# set plot title\n",
    "plt.title('Invesco QQQ Trust Series 1 - LSTM \\'Many to Many\\' Backtest Equity Progression', fontsize=10);"
   ]
  },
  {
   "cell_type": "markdown",
   "metadata": {},
   "source": [
    "### Exercises:"
   ]
  },
  {
   "cell_type": "markdown",
   "metadata": {},
   "source": [
    "We recommend you to try the following exercises as part of the lab:\n",
    "\n",
    "**1. Evaluation of Shallow vs. Deep RNN Models.**\n",
    "\n",
    "> Download the daily closing prices of the Invesco QQQ within the time frame starting from 01/01/1990 until 12/31/2019. In addition to the architecture of the lab notebook, evaluate further (more shallow as well as more deep) RNN architectures by either: **(1) re-moving/adding layers of LSTM cells**, and/or **(2) increasing/decreasing the dimensionality of the LSTM cells hidden state**. Train your model (using architectures you selected) for at least 20'000 training epochs but keep the following parameters unchanged (a) sequence length: 5 time-steps (days) and (b) train vs. test fraction: 0.9.\n",
    "\n",
    "> Analyze the prediction performance of the trained models in terms of training time and prediction accuracy. Furthermore, backtest the out-of-sample signals predicted by each of your models and evaluate them in terms of total return and equity progression. Which of your architecture results in the best performing model, and why?"
   ]
  },
  {
   "cell_type": "code",
   "execution_count": null,
   "metadata": {},
   "outputs": [],
   "source": [
    "# ***************************************************\n",
    "# INSERT YOUR CODE HERE\n",
    "# ***************************************************"
   ]
  },
  {
   "cell_type": "markdown",
   "metadata": {},
   "source": [
    "**2. Training and Evaluation of Models Learned from Additional Stocks.**\n",
    "\n",
    "> Download the daily closing prices of at least **two additional NASDAQ stocks** (e.g., Alphabet, Facebook) within the time frame starting from 01/01/1990 until 12/31/2017. Pls. select two stocks that you are interested in to investigate (e.g. stocks that you may occasionally trade yourself). Learn an ’optimal’ **many-to-one RNN model** of both stocks and backtest their corresponding trade signals by following the approach outlined in the lab notebook regarding the QQQ. Pls. keep the train vs. test dataset fraction fixed to 0.9, all other parameters of the data preparation and model training can be changed.\n",
    "\n",
    "> Analyse the performance of the learned models in terms of their prediction accuracy as well as their out-of-sample backtest performance (e. g. the total return and equity progression). What architectures and corresponding training parameters result in the best performing models?"
   ]
  },
  {
   "cell_type": "code",
   "execution_count": null,
   "metadata": {},
   "outputs": [],
   "source": [
    "# ***************************************************\n",
    "# INSERT YOUR CODE HERE\n",
    "# ***************************************************"
   ]
  },
  {
   "cell_type": "markdown",
   "metadata": {},
   "source": [
    "### Lab Summary:"
   ]
  },
  {
   "cell_type": "markdown",
   "metadata": {},
   "source": [
    "In this lab, a step by step introduction into **design, implementation, training and evaluation** of a LSTM neural network based trading strategy is presented. In addition to the previous \"one-to-one\" training setup, a \"many-to-one\" training setup is introduced that allows to learn pattern or features across distinct input time series.\n",
    "\n",
    "The strategy trades a specific financial instrument based on its historical market prices. The degree of success of the implemented strategy is evaluated based in its backtest performance with particular focus on (1) the strategy's **total return** as well as (2) its **equity progression** over time. The code provided in this lab may provides a blueprint for the development and testing of more complex trading strategies."
   ]
  },
  {
   "cell_type": "markdown",
   "metadata": {},
   "source": [
    "You may want to execute the content of your lab outside of the Jupyter notebook environment, e.g. on a compute node or a server. The cell below converts the lab notebook into a standalone and executable python script. Pls. note that to convert the notebook, you need to install Python's **nbconvert** library and its extensions:"
   ]
  },
  {
   "cell_type": "code",
   "execution_count": null,
   "metadata": {},
   "outputs": [],
   "source": [
    "# installing the nbconvert library\n",
    "!pip3 install nbconvert\n",
    "!pip3 install jupyter_contrib_nbextensions"
   ]
  },
  {
   "cell_type": "markdown",
   "metadata": {},
   "source": [
    "Let's now convert the Jupyter notebook into a plain Python script:"
   ]
  },
  {
   "cell_type": "code",
   "execution_count": null,
   "metadata": {},
   "outputs": [],
   "source": [
    "!jupyter nbconvert --to script cfds_lab_15.ipynb"
   ]
  }
 ],
 "metadata": {
  "kernelspec": {
   "display_name": "Python 3",
   "language": "python",
   "name": "python3"
  },
  "language_info": {
   "codemirror_mode": {
    "name": "ipython",
    "version": 3
   },
   "file_extension": ".py",
   "mimetype": "text/x-python",
   "name": "python",
   "nbconvert_exporter": "python",
   "pygments_lexer": "ipython3",
   "version": "3.8.5"
  },
  "toc": {
   "base_numbering": 1,
   "nav_menu": {},
   "number_sections": false,
   "sideBar": true,
   "skip_h1_title": false,
   "title_cell": "Table of Contents",
   "title_sidebar": "Contents",
   "toc_cell": false,
   "toc_position": {
    "height": "calc(100% - 180px)",
    "left": "10px",
    "top": "150px",
    "width": "323px"
   },
   "toc_section_display": true,
   "toc_window_display": true
  }
 },
 "nbformat": 4,
 "nbformat_minor": 2
}
