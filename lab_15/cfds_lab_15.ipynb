{
 "cells": [
  {
   "cell_type": "markdown",
   "metadata": {},
   "source": [
    "<img align=\"right\" style=\"max-width: 200px; height: auto\" src=\"cfds_logo.png\">\n",
    "\n",
    "###  Lab 15 - \"Long Short-Term Memory (LSTM) Neural Networks (Many to One)\"\n",
    "\n",
    "Chartered Financial Data Scientist (CFDS), Autumn Term 2020/21"
   ]
  },
  {
   "cell_type": "markdown",
   "metadata": {},
   "source": [
    "In this lab, we will learn how to enhance the previous **\"one-to-one\"** Long Short-Term Memory (LSTM) neural network training setup towards a **\"many-to-one\"** training setup. This will allow a model to learn from a set of input time series such as the underlying constituents of an Exchange Traded Fund (ETF). In general, such a \"many-to-one\" training setup provides the ability to learn complex pattern across multiple input data sources.\n",
    "\n",
    "\n",
    "We will again use the functionality of the **PyTorch** library to implement and train an LSTM based neural network. The network will be trained on the historic daily (in-sample) returns of an exemplary financial stock. Once the network is trained, we will use the learned model to predict future (out-of-sample) returns. Finally, we will convert the predictions into tradable signals and the backtest the signals accordingly. \n",
    "\n",
    "The figure below illustrates a high-level view on the machine learning process we aim to establish in this lab."
   ]
  },
  {
   "cell_type": "markdown",
   "metadata": {},
   "source": [
    "<img align=\"center\" style=\"max-width: 700px\" src=\"process.png\">"
   ]
  },
  {
   "cell_type": "markdown",
   "metadata": {},
   "source": [
    "### Lab Objectives:"
   ]
  },
  {
   "cell_type": "markdown",
   "metadata": {},
   "source": [
    "After today's lab, you should be able to:\n",
    "\n",
    "> 1. Understand the basic concepts, intuitions and major building blocks of **Long Short-Term Memory (LSTM) Neural Networks**.\n",
    "> 2. Know how to **implement and to train a many-to-one LSTM** model of financial time-series data.\n",
    "> 3. Understand how to apply such a learned model to **predict future data points of a time-series**.\n",
    "> 4. Know how to **interpret the model's prediction results** and backtest the predictions. "
   ]
  },
  {
   "cell_type": "markdown",
   "metadata": {},
   "source": [
    "As always, pls. don't hesitate to ask all your questions either during the lab, post them in our NextThought lab discussion forum (https://financial-data-science.nextthought.io), or send us an email (using our fds.ai email addresses)."
   ]
  },
  {
   "cell_type": "markdown",
   "metadata": {},
   "source": [
    "Before we start let's watch a motivational video:"
   ]
  },
  {
   "cell_type": "code",
   "execution_count": 1,
   "metadata": {},
   "outputs": [],
   "source": [
    "from IPython.display import YouTubeVideo\n",
    "# Nvidia GTC 2016: \"The Deep Learning Revolution\" Opening in Keynote\"\n",
    "# YouTubeVideo('Dy0hJWltsyE', width=800, height=400)"
   ]
  },
  {
   "cell_type": "markdown",
   "metadata": {},
   "source": [
    "### Setup of the Jupyter Notebook Environment"
   ]
  },
  {
   "cell_type": "markdown",
   "metadata": {},
   "source": [
    "Suppress potential warnings:"
   ]
  },
  {
   "cell_type": "code",
   "execution_count": 2,
   "metadata": {},
   "outputs": [],
   "source": [
    "import warnings\n",
    "warnings.filterwarnings('ignore')"
   ]
  },
  {
   "cell_type": "markdown",
   "metadata": {},
   "source": [
    "Similar to the previous labs, we need to import a couple of Python libraries that allow for data analysis and data visualization. We will mostly use the `PyTorch`, `Numpy`, `Sklearn`, `Matplotlib`, `Seaborn`, `BT` and a few utility libraries throughout the lab:"
   ]
  },
  {
   "cell_type": "code",
   "execution_count": 3,
   "metadata": {},
   "outputs": [],
   "source": [
    "# import python data science and utility libraries\n",
    "import os, sys, itertools, urllib, io\n",
    "import datetime as dt\n",
    "import pandas as pd\n",
    "import pandas_datareader as dr\n",
    "import numpy as np"
   ]
  },
  {
   "cell_type": "markdown",
   "metadata": {},
   "source": [
    "Install the Python `BT` backtesting library:"
   ]
  },
  {
   "cell_type": "code",
   "execution_count": 4,
   "metadata": {},
   "outputs": [
    {
     "name": "stdout",
     "output_type": "stream",
     "text": [
      "/bin/bash: pip: command not found\r\n"
     ]
    }
   ],
   "source": [
    "!pip install bt"
   ]
  },
  {
   "cell_type": "markdown",
   "metadata": {},
   "source": [
    "Import the backtesting library:"
   ]
  },
  {
   "cell_type": "code",
   "execution_count": 5,
   "metadata": {},
   "outputs": [],
   "source": [
    "import bt as bt # library to backtest trading signals"
   ]
  },
  {
   "cell_type": "markdown",
   "metadata": {},
   "source": [
    "Import the Python machine / deep learning libraries:"
   ]
  },
  {
   "cell_type": "code",
   "execution_count": 6,
   "metadata": {},
   "outputs": [],
   "source": [
    "# pytorch libraries\n",
    "import torch\n",
    "import torch.nn as nn\n",
    "import torch.optim as optim\n",
    "from torch.utils import data\n",
    "from torch.utils.data import dataloader"
   ]
  },
  {
   "cell_type": "markdown",
   "metadata": {},
   "source": [
    "Import Python plotting libraries and set general plotting parameters:"
   ]
  },
  {
   "cell_type": "code",
   "execution_count": 7,
   "metadata": {},
   "outputs": [],
   "source": [
    "import matplotlib.pyplot as plt\n",
    "import seaborn as sns\n",
    "plt.style.use('seaborn')\n",
    "plt.rcParams['figure.figsize'] = [10, 5]\n",
    "plt.rcParams['figure.dpi']= 150"
   ]
  },
  {
   "cell_type": "markdown",
   "metadata": {},
   "source": [
    "Enable notebook matplotlib inline plotting:"
   ]
  },
  {
   "cell_type": "code",
   "execution_count": 8,
   "metadata": {},
   "outputs": [],
   "source": [
    "%matplotlib inline"
   ]
  },
  {
   "cell_type": "markdown",
   "metadata": {},
   "source": [
    "Create notebook folder structure to store the data, the visuals, as well as the trained neural network models:"
   ]
  },
  {
   "cell_type": "code",
   "execution_count": 9,
   "metadata": {},
   "outputs": [],
   "source": [
    "# create data sub-directory inside the current directory\n",
    "data_directory = './data'\n",
    "if not os.path.exists(data_directory): os.makedirs(data_directory)\n",
    "    \n",
    "# create visuals sub-directory inside the current directory\n",
    "visuals_directory = './visuals'\n",
    "if not os.path.exists(visuals_directory): os.makedirs(visuals_directory)\n",
    "\n",
    "# create models sub-directory inside the current directory\n",
    "models_directory = './models'\n",
    "if not os.path.exists(models_directory): os.makedirs(models_directory)\n",
    "    \n",
    "# create statistics sub-directory inside the current directory\n",
    "statistics_directory = './statistics'\n",
    "if not os.path.exists(statistics_directory): os.makedirs(statistics_directory)"
   ]
  },
  {
   "cell_type": "markdown",
   "metadata": {},
   "source": [
    "Set random seed value to obtain reproducable results:"
   ]
  },
  {
   "cell_type": "code",
   "execution_count": 10,
   "metadata": {},
   "outputs": [],
   "source": [
    "# init deterministic seed\n",
    "seed_value = 1234\n",
    "np.random.seed(seed_value) # set numpy seed\n",
    "torch.manual_seed(seed_value); # set pytorch seed CPU"
   ]
  },
  {
   "cell_type": "markdown",
   "metadata": {},
   "source": [
    "Enable GPU computing by setting the `device` flag and init a `CUDA` seed:"
   ]
  },
  {
   "cell_type": "code",
   "execution_count": 11,
   "metadata": {},
   "outputs": [
    {
     "name": "stdout",
     "output_type": "stream",
     "text": [
      "[LOG 20210201-08:13:50] notebook with 'cpu' computation enabled\n"
     ]
    }
   ],
   "source": [
    "# set cpu or gpu enabled device\n",
    "device = torch.device('cuda' if torch.cuda.is_available() else 'cpu').type\n",
    "\n",
    "# init deterministic GPU seed\n",
    "torch.cuda.manual_seed(seed_value)\n",
    "\n",
    "# log type of device enabled\n",
    "now = dt.datetime.utcnow().strftime(\"%Y%m%d-%H:%M:%S\")\n",
    "print('[LOG {}] notebook with \\'{}\\' computation enabled'.format(str(now), str(device)))"
   ]
  },
  {
   "cell_type": "markdown",
   "metadata": {},
   "source": [
    "### 1. Data Download"
   ]
  },
  {
   "cell_type": "markdown",
   "metadata": {},
   "source": [
    "In this section of the lab notebook we will download and access historic daily stock market data ranging from **01/01/2010** to **31/12/2019** of the **\"Invesco QQQ ETF\"** (ticker symbol: \"QQQ\") that tracks the NASDAQ-100 index. Thereby, we will utilize the `datareader` of the `Pandas` library that provides the ability to interface the `Yahoo` finance API."
   ]
  },
  {
   "cell_type": "markdown",
   "metadata": {},
   "source": [
    "#### 1.1 Target Data Download"
   ]
  },
  {
   "cell_type": "markdown",
   "metadata": {},
   "source": [
    "To start the data download, let's specify the start and end date of the stock market data download:"
   ]
  },
  {
   "cell_type": "code",
   "execution_count": 12,
   "metadata": {},
   "outputs": [],
   "source": [
    "start_date = dt.datetime(2010, 1, 1)\n",
    "end_date = dt.datetime(2019, 12, 31)"
   ]
  },
  {
   "cell_type": "markdown",
   "metadata": {},
   "source": [
    "Download the daily **\"Invesco QQQ ETF\"** (QQQ) market data:"
   ]
  },
  {
   "cell_type": "code",
   "execution_count": 13,
   "metadata": {},
   "outputs": [],
   "source": [
    "stock_data_price = dr.data.DataReader('QQQ', data_source='yahoo', start=start_date, end=end_date)"
   ]
  },
  {
   "cell_type": "markdown",
   "metadata": {},
   "source": [
    "Inspect the top 10 records of the QQQ market data:"
   ]
  },
  {
   "cell_type": "code",
   "execution_count": 14,
   "metadata": {},
   "outputs": [
    {
     "data": {
      "text/html": [
       "<div>\n",
       "<style scoped>\n",
       "    .dataframe tbody tr th:only-of-type {\n",
       "        vertical-align: middle;\n",
       "    }\n",
       "\n",
       "    .dataframe tbody tr th {\n",
       "        vertical-align: top;\n",
       "    }\n",
       "\n",
       "    .dataframe thead th {\n",
       "        text-align: right;\n",
       "    }\n",
       "</style>\n",
       "<table border=\"1\" class=\"dataframe\">\n",
       "  <thead>\n",
       "    <tr style=\"text-align: right;\">\n",
       "      <th></th>\n",
       "      <th>High</th>\n",
       "      <th>Low</th>\n",
       "      <th>Open</th>\n",
       "      <th>Close</th>\n",
       "      <th>Volume</th>\n",
       "      <th>Adj Close</th>\n",
       "    </tr>\n",
       "    <tr>\n",
       "      <th>Date</th>\n",
       "      <th></th>\n",
       "      <th></th>\n",
       "      <th></th>\n",
       "      <th></th>\n",
       "      <th></th>\n",
       "      <th></th>\n",
       "    </tr>\n",
       "  </thead>\n",
       "  <tbody>\n",
       "    <tr>\n",
       "      <th>2010-01-04</th>\n",
       "      <td>46.490002</td>\n",
       "      <td>46.270000</td>\n",
       "      <td>46.330002</td>\n",
       "      <td>46.419998</td>\n",
       "      <td>62822800.0</td>\n",
       "      <td>41.570904</td>\n",
       "    </tr>\n",
       "    <tr>\n",
       "      <th>2010-01-05</th>\n",
       "      <td>46.500000</td>\n",
       "      <td>46.160000</td>\n",
       "      <td>46.389999</td>\n",
       "      <td>46.419998</td>\n",
       "      <td>62935600.0</td>\n",
       "      <td>41.570904</td>\n",
       "    </tr>\n",
       "    <tr>\n",
       "      <th>2010-01-06</th>\n",
       "      <td>46.549999</td>\n",
       "      <td>46.070000</td>\n",
       "      <td>46.400002</td>\n",
       "      <td>46.139999</td>\n",
       "      <td>96033000.0</td>\n",
       "      <td>41.320183</td>\n",
       "    </tr>\n",
       "    <tr>\n",
       "      <th>2010-01-07</th>\n",
       "      <td>46.270000</td>\n",
       "      <td>45.919998</td>\n",
       "      <td>46.209999</td>\n",
       "      <td>46.169998</td>\n",
       "      <td>77094100.0</td>\n",
       "      <td>41.347046</td>\n",
       "    </tr>\n",
       "    <tr>\n",
       "      <th>2010-01-08</th>\n",
       "      <td>46.549999</td>\n",
       "      <td>45.930000</td>\n",
       "      <td>46.070000</td>\n",
       "      <td>46.549999</td>\n",
       "      <td>88886600.0</td>\n",
       "      <td>41.687347</td>\n",
       "    </tr>\n",
       "    <tr>\n",
       "      <th>2010-01-11</th>\n",
       "      <td>46.639999</td>\n",
       "      <td>46.119999</td>\n",
       "      <td>46.610001</td>\n",
       "      <td>46.360001</td>\n",
       "      <td>104673400.0</td>\n",
       "      <td>41.517189</td>\n",
       "    </tr>\n",
       "    <tr>\n",
       "      <th>2010-01-12</th>\n",
       "      <td>46.139999</td>\n",
       "      <td>45.529999</td>\n",
       "      <td>46.080002</td>\n",
       "      <td>45.779999</td>\n",
       "      <td>90673900.0</td>\n",
       "      <td>40.997784</td>\n",
       "    </tr>\n",
       "    <tr>\n",
       "      <th>2010-01-13</th>\n",
       "      <td>46.490002</td>\n",
       "      <td>45.610001</td>\n",
       "      <td>45.919998</td>\n",
       "      <td>46.349998</td>\n",
       "      <td>100661000.0</td>\n",
       "      <td>41.508217</td>\n",
       "    </tr>\n",
       "    <tr>\n",
       "      <th>2010-01-14</th>\n",
       "      <td>46.520000</td>\n",
       "      <td>46.220001</td>\n",
       "      <td>46.259998</td>\n",
       "      <td>46.389999</td>\n",
       "      <td>75209000.0</td>\n",
       "      <td>41.544056</td>\n",
       "    </tr>\n",
       "    <tr>\n",
       "      <th>2010-01-15</th>\n",
       "      <td>46.549999</td>\n",
       "      <td>45.650002</td>\n",
       "      <td>46.470001</td>\n",
       "      <td>45.849998</td>\n",
       "      <td>126849300.0</td>\n",
       "      <td>41.060459</td>\n",
       "    </tr>\n",
       "  </tbody>\n",
       "</table>\n",
       "</div>"
      ],
      "text/plain": [
       "                 High        Low       Open      Close       Volume  Adj Close\n",
       "Date                                                                          \n",
       "2010-01-04  46.490002  46.270000  46.330002  46.419998   62822800.0  41.570904\n",
       "2010-01-05  46.500000  46.160000  46.389999  46.419998   62935600.0  41.570904\n",
       "2010-01-06  46.549999  46.070000  46.400002  46.139999   96033000.0  41.320183\n",
       "2010-01-07  46.270000  45.919998  46.209999  46.169998   77094100.0  41.347046\n",
       "2010-01-08  46.549999  45.930000  46.070000  46.549999   88886600.0  41.687347\n",
       "2010-01-11  46.639999  46.119999  46.610001  46.360001  104673400.0  41.517189\n",
       "2010-01-12  46.139999  45.529999  46.080002  45.779999   90673900.0  40.997784\n",
       "2010-01-13  46.490002  45.610001  45.919998  46.349998  100661000.0  41.508217\n",
       "2010-01-14  46.520000  46.220001  46.259998  46.389999   75209000.0  41.544056\n",
       "2010-01-15  46.549999  45.650002  46.470001  45.849998  126849300.0  41.060459"
      ]
     },
     "execution_count": 14,
     "metadata": {},
     "output_type": "execute_result"
    }
   ],
   "source": [
    "stock_data_price.head(10)"
   ]
  },
  {
   "cell_type": "markdown",
   "metadata": {},
   "source": [
    "Let's also evaluate the data quality of the download by creating a set of summary statistics of the retrieved data:"
   ]
  },
  {
   "cell_type": "code",
   "execution_count": 15,
   "metadata": {},
   "outputs": [
    {
     "data": {
      "text/html": [
       "<div>\n",
       "<style scoped>\n",
       "    .dataframe tbody tr th:only-of-type {\n",
       "        vertical-align: middle;\n",
       "    }\n",
       "\n",
       "    .dataframe tbody tr th {\n",
       "        vertical-align: top;\n",
       "    }\n",
       "\n",
       "    .dataframe thead th {\n",
       "        text-align: right;\n",
       "    }\n",
       "</style>\n",
       "<table border=\"1\" class=\"dataframe\">\n",
       "  <thead>\n",
       "    <tr style=\"text-align: right;\">\n",
       "      <th></th>\n",
       "      <th>High</th>\n",
       "      <th>Low</th>\n",
       "      <th>Open</th>\n",
       "      <th>Close</th>\n",
       "      <th>Volume</th>\n",
       "      <th>Adj Close</th>\n",
       "    </tr>\n",
       "  </thead>\n",
       "  <tbody>\n",
       "    <tr>\n",
       "      <th>count</th>\n",
       "      <td>2516.000000</td>\n",
       "      <td>2516.000000</td>\n",
       "      <td>2516.000000</td>\n",
       "      <td>2516.000000</td>\n",
       "      <td>2.516000e+03</td>\n",
       "      <td>2516.000000</td>\n",
       "    </tr>\n",
       "    <tr>\n",
       "      <th>mean</th>\n",
       "      <td>105.992186</td>\n",
       "      <td>104.721065</td>\n",
       "      <td>105.395159</td>\n",
       "      <td>105.411900</td>\n",
       "      <td>4.304795e+07</td>\n",
       "      <td>100.945946</td>\n",
       "    </tr>\n",
       "    <tr>\n",
       "      <th>std</th>\n",
       "      <td>45.939080</td>\n",
       "      <td>45.438740</td>\n",
       "      <td>45.706718</td>\n",
       "      <td>45.712880</td>\n",
       "      <td>2.759478e+07</td>\n",
       "      <td>46.693583</td>\n",
       "    </tr>\n",
       "    <tr>\n",
       "      <th>min</th>\n",
       "      <td>42.820000</td>\n",
       "      <td>41.770000</td>\n",
       "      <td>42.660000</td>\n",
       "      <td>42.470001</td>\n",
       "      <td>7.079300e+06</td>\n",
       "      <td>38.167866</td>\n",
       "    </tr>\n",
       "    <tr>\n",
       "      <th>25%</th>\n",
       "      <td>65.227503</td>\n",
       "      <td>64.537500</td>\n",
       "      <td>64.877499</td>\n",
       "      <td>64.927500</td>\n",
       "      <td>2.490798e+07</td>\n",
       "      <td>59.483350</td>\n",
       "    </tr>\n",
       "    <tr>\n",
       "      <th>50%</th>\n",
       "      <td>102.630001</td>\n",
       "      <td>100.939999</td>\n",
       "      <td>101.975002</td>\n",
       "      <td>101.730000</td>\n",
       "      <td>3.512575e+07</td>\n",
       "      <td>96.858166</td>\n",
       "    </tr>\n",
       "    <tr>\n",
       "      <th>75%</th>\n",
       "      <td>141.607498</td>\n",
       "      <td>140.577507</td>\n",
       "      <td>141.197502</td>\n",
       "      <td>141.092503</td>\n",
       "      <td>5.285995e+07</td>\n",
       "      <td>137.272736</td>\n",
       "    </tr>\n",
       "    <tr>\n",
       "      <th>max</th>\n",
       "      <td>214.559998</td>\n",
       "      <td>213.039993</td>\n",
       "      <td>214.539993</td>\n",
       "      <td>213.789993</td>\n",
       "      <td>2.882004e+08</td>\n",
       "      <td>212.579697</td>\n",
       "    </tr>\n",
       "  </tbody>\n",
       "</table>\n",
       "</div>"
      ],
      "text/plain": [
       "              High          Low         Open        Close        Volume  \\\n",
       "count  2516.000000  2516.000000  2516.000000  2516.000000  2.516000e+03   \n",
       "mean    105.992186   104.721065   105.395159   105.411900  4.304795e+07   \n",
       "std      45.939080    45.438740    45.706718    45.712880  2.759478e+07   \n",
       "min      42.820000    41.770000    42.660000    42.470001  7.079300e+06   \n",
       "25%      65.227503    64.537500    64.877499    64.927500  2.490798e+07   \n",
       "50%     102.630001   100.939999   101.975002   101.730000  3.512575e+07   \n",
       "75%     141.607498   140.577507   141.197502   141.092503  5.285995e+07   \n",
       "max     214.559998   213.039993   214.539993   213.789993  2.882004e+08   \n",
       "\n",
       "         Adj Close  \n",
       "count  2516.000000  \n",
       "mean    100.945946  \n",
       "std      46.693583  \n",
       "min      38.167866  \n",
       "25%      59.483350  \n",
       "50%      96.858166  \n",
       "75%     137.272736  \n",
       "max     212.579697  "
      ]
     },
     "execution_count": 15,
     "metadata": {},
     "output_type": "execute_result"
    }
   ],
   "source": [
    "stock_data_price.describe()"
   ]
  },
  {
   "cell_type": "markdown",
   "metadata": {},
   "source": [
    "Visually inspect the daily closing prices of the QQQ market data:"
   ]
  },
  {
   "cell_type": "code",
   "execution_count": 16,
   "metadata": {},
   "outputs": [
    {
     "data": {
      "image/png": "[encoded data removed]",
      "text/plain": [
       "<Figure size 1080x360 with 1 Axes>"
      ]
     },
     "metadata": {
      "needs_background": "light"
     },
     "output_type": "display_data"
    }
   ],
   "source": [
    "plt.rcParams['figure.figsize'] = [15, 5]\n",
    "fig = plt.figure()\n",
    "ax = fig.add_subplot(111)\n",
    "\n",
    "# plot daily adjusted closing price\n",
    "ax.plot(stock_data_price.index, stock_data_price['Adj Close'], color='#9b59b6')\n",
    "\n",
    "# rotate x-tick labels\n",
    "for tick in ax.get_xticklabels():\n",
    "    tick.set_rotation(45)\n",
    "\n",
    "# set x-axis labels and limits\n",
    "ax.set_xlabel('[time]', fontsize=10)\n",
    "ax.set_xlim([pd.to_datetime('01-01-2010'), pd.to_datetime('31-12-2019')])\n",
    "\n",
    "# set y-axis labels and limits\n",
    "ax.set_ylabel('[QQQ closing price]', fontsize=10)\n",
    "\n",
    "# set plot title\n",
    "plt.title('Invesco QQQ Trust Series 1 - Daily Historical Adjusted Closing Prices', fontsize=10);"
   ]
  },
  {
   "cell_type": "markdown",
   "metadata": {},
   "source": [
    "Initialize the stock data `Pandas` dataframe by only keeping the **daily adjusted closing price** of the QQQ:"
   ]
  },
  {
   "cell_type": "code",
   "execution_count": 17,
   "metadata": {},
   "outputs": [],
   "source": [
    "# remove all columns other than the adjusted closing price\n",
    "stock_data_price = stock_data_price.drop(columns=['High', 'Open', 'Low', 'Close', 'Volume'])"
   ]
  },
  {
   "cell_type": "markdown",
   "metadata": {},
   "source": [
    "Rename the adjusted closing price column according to the QQQ: "
   ]
  },
  {
   "cell_type": "code",
   "execution_count": 18,
   "metadata": {},
   "outputs": [],
   "source": [
    "stock_data_price = stock_data_price.rename(columns={'Adj Close': \"QQQ\"})"
   ]
  },
  {
   "cell_type": "markdown",
   "metadata": {},
   "source": [
    "#### 1.2 Input Data Download"
   ]
  },
  {
   "cell_type": "markdown",
   "metadata": {},
   "source": [
    "Define ticker symbols of the top NASDAQ constituents to be retrieved from the `Yahoo` finance API:"
   ]
  },
  {
   "cell_type": "code",
   "execution_count": 19,
   "metadata": {},
   "outputs": [],
   "source": [
    "symbols = ['MU', 'ISRG', 'TMUS', 'CME', 'ADP', 'INTU', 'BKNG', 'FISV', 'MDLZ', 'GILD', 'QCOM', 'SBUX', 'CHTR', 'TXN', 'AVGO', 'COST', 'PYPL', 'NFLX', 'NVDA', 'ADBE', 'PEP', 'CMCSA', 'CSCO', 'INTC', 'GOOGL', 'AMZN', 'AAPL', 'MSFT']"
   ]
  },
  {
   "cell_type": "markdown",
   "metadata": {},
   "source": [
    "Determine and print the number of defined NASDAQ constituents ticker symbols:"
   ]
  },
  {
   "cell_type": "code",
   "execution_count": 20,
   "metadata": {},
   "outputs": [
    {
     "data": {
      "text/plain": [
       "28"
      ]
     },
     "execution_count": 20,
     "metadata": {},
     "output_type": "execute_result"
    }
   ],
   "source": [
    "# determine number of input stock ticker symbols\n",
    "no_input_stocks = len(symbols)\n",
    "\n",
    "# print number of input stock ticker symboks\n",
    "no_input_stocks"
   ]
  },
  {
   "cell_type": "markdown",
   "metadata": {},
   "source": [
    "Iteratively download the **daily adjusted closing price data** of the defined NASDAQ constituents. Once downloaded we will add them to the stock data `Pandas` dataframe containing the QQQ market data that we initialized above:"
   ]
  },
  {
   "cell_type": "code",
   "execution_count": 21,
   "metadata": {},
   "outputs": [],
   "source": [
    "# iterate over distinct ticker symbols\n",
    "for symbol in symbols:\n",
    "    \n",
    "    # retrieve market data of current ticker symbol\n",
    "    symbol_data = dr.data.DataReader(symbol, data_source='yahoo', start=start_date, end=end_date)\n",
    "    \n",
    "    # collect the adjusted daily closing price of current ticker symbol\n",
    "    stock_data_price[symbol] = symbol_data['Adj Close']"
   ]
  },
  {
   "cell_type": "markdown",
   "metadata": {},
   "source": [
    "Inspect the first 10 rows of the retrieved NASDAQ constituents daily adjusted closing price data:"
   ]
  },
  {
   "cell_type": "code",
   "execution_count": 22,
   "metadata": {},
   "outputs": [
    {
     "data": {
      "text/html": [
       "<div>\n",
       "<style scoped>\n",
       "    .dataframe tbody tr th:only-of-type {\n",
       "        vertical-align: middle;\n",
       "    }\n",
       "\n",
       "    .dataframe tbody tr th {\n",
       "        vertical-align: top;\n",
       "    }\n",
       "\n",
       "    .dataframe thead th {\n",
       "        text-align: right;\n",
       "    }\n",
       "</style>\n",
       "<table border=\"1\" class=\"dataframe\">\n",
       "  <thead>\n",
       "    <tr style=\"text-align: right;\">\n",
       "      <th></th>\n",
       "      <th>QQQ</th>\n",
       "      <th>MU</th>\n",
       "      <th>ISRG</th>\n",
       "      <th>TMUS</th>\n",
       "      <th>CME</th>\n",
       "      <th>ADP</th>\n",
       "      <th>INTU</th>\n",
       "      <th>BKNG</th>\n",
       "      <th>FISV</th>\n",
       "      <th>MDLZ</th>\n",
       "      <th>...</th>\n",
       "      <th>NVDA</th>\n",
       "      <th>ADBE</th>\n",
       "      <th>PEP</th>\n",
       "      <th>CMCSA</th>\n",
       "      <th>CSCO</th>\n",
       "      <th>INTC</th>\n",
       "      <th>GOOGL</th>\n",
       "      <th>AMZN</th>\n",
       "      <th>AAPL</th>\n",
       "      <th>MSFT</th>\n",
       "    </tr>\n",
       "    <tr>\n",
       "      <th>Date</th>\n",
       "      <th></th>\n",
       "      <th></th>\n",
       "      <th></th>\n",
       "      <th></th>\n",
       "      <th></th>\n",
       "      <th></th>\n",
       "      <th></th>\n",
       "      <th></th>\n",
       "      <th></th>\n",
       "      <th></th>\n",
       "      <th></th>\n",
       "      <th></th>\n",
       "      <th></th>\n",
       "      <th></th>\n",
       "      <th></th>\n",
       "      <th></th>\n",
       "      <th></th>\n",
       "      <th></th>\n",
       "      <th></th>\n",
       "      <th></th>\n",
       "      <th></th>\n",
       "    </tr>\n",
       "  </thead>\n",
       "  <tbody>\n",
       "    <tr>\n",
       "      <th>2010-01-04</th>\n",
       "      <td>41.570904</td>\n",
       "      <td>10.85</td>\n",
       "      <td>102.923332</td>\n",
       "      <td>13.207044</td>\n",
       "      <td>44.038776</td>\n",
       "      <td>28.546648</td>\n",
       "      <td>28.015366</td>\n",
       "      <td>223.960007</td>\n",
       "      <td>12.3575</td>\n",
       "      <td>14.167932</td>\n",
       "      <td>...</td>\n",
       "      <td>16.999943</td>\n",
       "      <td>37.090000</td>\n",
       "      <td>44.292305</td>\n",
       "      <td>6.894205</td>\n",
       "      <td>18.463966</td>\n",
       "      <td>14.954695</td>\n",
       "      <td>313.688690</td>\n",
       "      <td>133.899994</td>\n",
       "      <td>6.593423</td>\n",
       "      <td>24.105360</td>\n",
       "    </tr>\n",
       "    <tr>\n",
       "      <th>2010-01-05</th>\n",
       "      <td>41.570904</td>\n",
       "      <td>11.17</td>\n",
       "      <td>102.459999</td>\n",
       "      <td>13.240186</td>\n",
       "      <td>44.002773</td>\n",
       "      <td>28.393362</td>\n",
       "      <td>28.015366</td>\n",
       "      <td>226.559998</td>\n",
       "      <td>12.4100</td>\n",
       "      <td>14.860062</td>\n",
       "      <td>...</td>\n",
       "      <td>17.248186</td>\n",
       "      <td>37.700001</td>\n",
       "      <td>44.827515</td>\n",
       "      <td>6.800767</td>\n",
       "      <td>18.381708</td>\n",
       "      <td>14.947535</td>\n",
       "      <td>312.307312</td>\n",
       "      <td>134.690002</td>\n",
       "      <td>6.604822</td>\n",
       "      <td>24.113148</td>\n",
       "    </tr>\n",
       "    <tr>\n",
       "      <th>2010-01-06</th>\n",
       "      <td>41.320183</td>\n",
       "      <td>11.22</td>\n",
       "      <td>103.946671</td>\n",
       "      <td>12.345354</td>\n",
       "      <td>43.704395</td>\n",
       "      <td>28.326714</td>\n",
       "      <td>27.624369</td>\n",
       "      <td>219.080002</td>\n",
       "      <td>12.3575</td>\n",
       "      <td>14.963362</td>\n",
       "      <td>...</td>\n",
       "      <td>17.358511</td>\n",
       "      <td>37.619999</td>\n",
       "      <td>44.379101</td>\n",
       "      <td>6.752012</td>\n",
       "      <td>18.262053</td>\n",
       "      <td>14.897401</td>\n",
       "      <td>304.434448</td>\n",
       "      <td>132.250000</td>\n",
       "      <td>6.499765</td>\n",
       "      <td>23.965164</td>\n",
       "    </tr>\n",
       "    <tr>\n",
       "      <th>2010-01-07</th>\n",
       "      <td>41.347046</td>\n",
       "      <td>10.84</td>\n",
       "      <td>103.556664</td>\n",
       "      <td>12.461351</td>\n",
       "      <td>43.758408</td>\n",
       "      <td>28.313377</td>\n",
       "      <td>27.533443</td>\n",
       "      <td>216.130005</td>\n",
       "      <td>12.3000</td>\n",
       "      <td>14.927206</td>\n",
       "      <td>...</td>\n",
       "      <td>17.018332</td>\n",
       "      <td>36.889999</td>\n",
       "      <td>44.097023</td>\n",
       "      <td>6.894205</td>\n",
       "      <td>18.344311</td>\n",
       "      <td>14.754156</td>\n",
       "      <td>297.347351</td>\n",
       "      <td>130.000000</td>\n",
       "      <td>6.487749</td>\n",
       "      <td>23.715933</td>\n",
       "    </tr>\n",
       "    <tr>\n",
       "      <th>2010-01-08</th>\n",
       "      <td>41.687347</td>\n",
       "      <td>11.10</td>\n",
       "      <td>102.986664</td>\n",
       "      <td>11.765371</td>\n",
       "      <td>44.927525</td>\n",
       "      <td>28.273378</td>\n",
       "      <td>28.260878</td>\n",
       "      <td>216.210007</td>\n",
       "      <td>12.1625</td>\n",
       "      <td>14.942701</td>\n",
       "      <td>...</td>\n",
       "      <td>17.055109</td>\n",
       "      <td>36.689999</td>\n",
       "      <td>43.952370</td>\n",
       "      <td>6.873890</td>\n",
       "      <td>18.441526</td>\n",
       "      <td>14.918890</td>\n",
       "      <td>301.311310</td>\n",
       "      <td>133.520004</td>\n",
       "      <td>6.530882</td>\n",
       "      <td>23.879499</td>\n",
       "    </tr>\n",
       "    <tr>\n",
       "      <th>2010-01-11</th>\n",
       "      <td>41.517189</td>\n",
       "      <td>10.90</td>\n",
       "      <td>103.763336</td>\n",
       "      <td>11.914511</td>\n",
       "      <td>44.918518</td>\n",
       "      <td>28.400021</td>\n",
       "      <td>28.388178</td>\n",
       "      <td>218.910004</td>\n",
       "      <td>12.2275</td>\n",
       "      <td>14.875555</td>\n",
       "      <td>...</td>\n",
       "      <td>16.816057</td>\n",
       "      <td>36.209999</td>\n",
       "      <td>43.901749</td>\n",
       "      <td>6.829206</td>\n",
       "      <td>18.389183</td>\n",
       "      <td>15.004833</td>\n",
       "      <td>300.855865</td>\n",
       "      <td>130.309998</td>\n",
       "      <td>6.473268</td>\n",
       "      <td>23.575750</td>\n",
       "    </tr>\n",
       "    <tr>\n",
       "      <th>2010-01-12</th>\n",
       "      <td>40.997784</td>\n",
       "      <td>10.26</td>\n",
       "      <td>101.463333</td>\n",
       "      <td>10.522551</td>\n",
       "      <td>44.007900</td>\n",
       "      <td>28.200068</td>\n",
       "      <td>28.388178</td>\n",
       "      <td>213.979996</td>\n",
       "      <td>12.1200</td>\n",
       "      <td>15.128645</td>\n",
       "      <td>...</td>\n",
       "      <td>16.246025</td>\n",
       "      <td>35.660000</td>\n",
       "      <td>44.516521</td>\n",
       "      <td>6.707326</td>\n",
       "      <td>18.097532</td>\n",
       "      <td>14.761323</td>\n",
       "      <td>295.535522</td>\n",
       "      <td>127.349998</td>\n",
       "      <td>6.399635</td>\n",
       "      <td>23.419973</td>\n",
       "    </tr>\n",
       "    <tr>\n",
       "      <th>2010-01-13</th>\n",
       "      <td>41.508217</td>\n",
       "      <td>10.46</td>\n",
       "      <td>102.013336</td>\n",
       "      <td>10.489408</td>\n",
       "      <td>44.144257</td>\n",
       "      <td>28.406679</td>\n",
       "      <td>28.715527</td>\n",
       "      <td>214.300003</td>\n",
       "      <td>12.2225</td>\n",
       "      <td>15.097653</td>\n",
       "      <td>...</td>\n",
       "      <td>16.466686</td>\n",
       "      <td>36.279999</td>\n",
       "      <td>44.878143</td>\n",
       "      <td>6.812954</td>\n",
       "      <td>18.426571</td>\n",
       "      <td>15.011992</td>\n",
       "      <td>293.838837</td>\n",
       "      <td>129.110001</td>\n",
       "      <td>6.489905</td>\n",
       "      <td>23.638054</td>\n",
       "    </tr>\n",
       "    <tr>\n",
       "      <th>2010-01-14</th>\n",
       "      <td>41.544056</td>\n",
       "      <td>10.73</td>\n",
       "      <td>102.666664</td>\n",
       "      <td>10.323699</td>\n",
       "      <td>43.953918</td>\n",
       "      <td>28.326714</td>\n",
       "      <td>28.897388</td>\n",
       "      <td>208.770004</td>\n",
       "      <td>12.1875</td>\n",
       "      <td>15.040841</td>\n",
       "      <td>...</td>\n",
       "      <td>16.209249</td>\n",
       "      <td>35.900002</td>\n",
       "      <td>45.420586</td>\n",
       "      <td>6.772330</td>\n",
       "      <td>18.658400</td>\n",
       "      <td>15.384431</td>\n",
       "      <td>295.220215</td>\n",
       "      <td>127.349998</td>\n",
       "      <td>6.452318</td>\n",
       "      <td>24.113148</td>\n",
       "    </tr>\n",
       "    <tr>\n",
       "      <th>2010-01-15</th>\n",
       "      <td>41.060459</td>\n",
       "      <td>10.13</td>\n",
       "      <td>102.860001</td>\n",
       "      <td>10.472838</td>\n",
       "      <td>43.373848</td>\n",
       "      <td>28.173401</td>\n",
       "      <td>28.606413</td>\n",
       "      <td>208.770004</td>\n",
       "      <td>11.9850</td>\n",
       "      <td>15.278432</td>\n",
       "      <td>...</td>\n",
       "      <td>15.731152</td>\n",
       "      <td>35.869999</td>\n",
       "      <td>45.051723</td>\n",
       "      <td>6.756077</td>\n",
       "      <td>18.247099</td>\n",
       "      <td>14.897401</td>\n",
       "      <td>290.290283</td>\n",
       "      <td>127.139999</td>\n",
       "      <td>6.344487</td>\n",
       "      <td>24.035263</td>\n",
       "    </tr>\n",
       "  </tbody>\n",
       "</table>\n",
       "<p>10 rows × 29 columns</p>\n",
       "</div>"
      ],
      "text/plain": [
       "                  QQQ     MU        ISRG       TMUS        CME        ADP  \\\n",
       "Date                                                                        \n",
       "2010-01-04  41.570904  10.85  102.923332  13.207044  44.038776  28.546648   \n",
       "2010-01-05  41.570904  11.17  102.459999  13.240186  44.002773  28.393362   \n",
       "2010-01-06  41.320183  11.22  103.946671  12.345354  43.704395  28.326714   \n",
       "2010-01-07  41.347046  10.84  103.556664  12.461351  43.758408  28.313377   \n",
       "2010-01-08  41.687347  11.10  102.986664  11.765371  44.927525  28.273378   \n",
       "2010-01-11  41.517189  10.90  103.763336  11.914511  44.918518  28.400021   \n",
       "2010-01-12  40.997784  10.26  101.463333  10.522551  44.007900  28.200068   \n",
       "2010-01-13  41.508217  10.46  102.013336  10.489408  44.144257  28.406679   \n",
       "2010-01-14  41.544056  10.73  102.666664  10.323699  43.953918  28.326714   \n",
       "2010-01-15  41.060459  10.13  102.860001  10.472838  43.373848  28.173401   \n",
       "\n",
       "                 INTU        BKNG     FISV       MDLZ  ...       NVDA  \\\n",
       "Date                                                   ...              \n",
       "2010-01-04  28.015366  223.960007  12.3575  14.167932  ...  16.999943   \n",
       "2010-01-05  28.015366  226.559998  12.4100  14.860062  ...  17.248186   \n",
       "2010-01-06  27.624369  219.080002  12.3575  14.963362  ...  17.358511   \n",
       "2010-01-07  27.533443  216.130005  12.3000  14.927206  ...  17.018332   \n",
       "2010-01-08  28.260878  216.210007  12.1625  14.942701  ...  17.055109   \n",
       "2010-01-11  28.388178  218.910004  12.2275  14.875555  ...  16.816057   \n",
       "2010-01-12  28.388178  213.979996  12.1200  15.128645  ...  16.246025   \n",
       "2010-01-13  28.715527  214.300003  12.2225  15.097653  ...  16.466686   \n",
       "2010-01-14  28.897388  208.770004  12.1875  15.040841  ...  16.209249   \n",
       "2010-01-15  28.606413  208.770004  11.9850  15.278432  ...  15.731152   \n",
       "\n",
       "                 ADBE        PEP     CMCSA       CSCO       INTC       GOOGL  \\\n",
       "Date                                                                           \n",
       "2010-01-04  37.090000  44.292305  6.894205  18.463966  14.954695  313.688690   \n",
       "2010-01-05  37.700001  44.827515  6.800767  18.381708  14.947535  312.307312   \n",
       "2010-01-06  37.619999  44.379101  6.752012  18.262053  14.897401  304.434448   \n",
       "2010-01-07  36.889999  44.097023  6.894205  18.344311  14.754156  297.347351   \n",
       "2010-01-08  36.689999  43.952370  6.873890  18.441526  14.918890  301.311310   \n",
       "2010-01-11  36.209999  43.901749  6.829206  18.389183  15.004833  300.855865   \n",
       "2010-01-12  35.660000  44.516521  6.707326  18.097532  14.761323  295.535522   \n",
       "2010-01-13  36.279999  44.878143  6.812954  18.426571  15.011992  293.838837   \n",
       "2010-01-14  35.900002  45.420586  6.772330  18.658400  15.384431  295.220215   \n",
       "2010-01-15  35.869999  45.051723  6.756077  18.247099  14.897401  290.290283   \n",
       "\n",
       "                  AMZN      AAPL       MSFT  \n",
       "Date                                         \n",
       "2010-01-04  133.899994  6.593423  24.105360  \n",
       "2010-01-05  134.690002  6.604822  24.113148  \n",
       "2010-01-06  132.250000  6.499765  23.965164  \n",
       "2010-01-07  130.000000  6.487749  23.715933  \n",
       "2010-01-08  133.520004  6.530882  23.879499  \n",
       "2010-01-11  130.309998  6.473268  23.575750  \n",
       "2010-01-12  127.349998  6.399635  23.419973  \n",
       "2010-01-13  129.110001  6.489905  23.638054  \n",
       "2010-01-14  127.349998  6.452318  24.113148  \n",
       "2010-01-15  127.139999  6.344487  24.035263  \n",
       "\n",
       "[10 rows x 29 columns]"
      ]
     },
     "execution_count": 22,
     "metadata": {},
     "output_type": "execute_result"
    }
   ],
   "source": [
    "stock_data_price.head(10)"
   ]
  },
  {
   "cell_type": "markdown",
   "metadata": {},
   "source": [
    "Save the retrieved NASDAQ constituents daily adjusted closing price data the local data directory:"
   ]
  },
  {
   "cell_type": "code",
   "execution_count": 23,
   "metadata": {},
   "outputs": [],
   "source": [
    "# define the filename of the data to be saved\n",
    "filename = 'qqq_nasdaq_30_daily_closing.csv'\n",
    "\n",
    "# save retrieved data to local data directory\n",
    "stock_data_price.to_csv(os.path.join(data_directory, filename), sep=';', encoding='utf-8')"
   ]
  },
  {
   "cell_type": "markdown",
   "metadata": {},
   "source": [
    "### 2. Data Pre-Processing"
   ]
  },
  {
   "cell_type": "markdown",
   "metadata": {},
   "source": [
    "In this section, we will obtain daily returns of the retrieved daily closing prices. Also, we will convert the time-series of daily returns into a set of sequences $s$ of $n$ time steps respectively. The created sequences will then be used to learn a model using an Long Short-Term Memory neural network."
   ]
  },
  {
   "cell_type": "markdown",
   "metadata": {},
   "source": [
    "#### 2.1 Missing Data Padding"
   ]
  },
  {
   "cell_type": "markdown",
   "metadata": {},
   "source": [
    "Let's always forward propagate the last valid available price information observation to the next available valid price information using the Panda's `reindex()` function. This in order to also obtain market price information of weekend's and holidays: "
   ]
  },
  {
   "cell_type": "code",
   "execution_count": 24,
   "metadata": {},
   "outputs": [],
   "source": [
    "# fill weekends and holidays\n",
    "stock_data_price = stock_data_price.reindex(index=pd.date_range(stock_data_price.index.min(), stock_data_price.index.max()), method='ffill')"
   ]
  },
  {
   "cell_type": "markdown",
   "metadata": {},
   "source": [
    "Inspect the top padded stock market data records of the QQQ and the underlying NASDAQ Top 28 constituents:"
   ]
  },
  {
   "cell_type": "code",
   "execution_count": 25,
   "metadata": {},
   "outputs": [
    {
     "data": {
      "text/html": [
       "<div>\n",
       "<style scoped>\n",
       "    .dataframe tbody tr th:only-of-type {\n",
       "        vertical-align: middle;\n",
       "    }\n",
       "\n",
       "    .dataframe tbody tr th {\n",
       "        vertical-align: top;\n",
       "    }\n",
       "\n",
       "    .dataframe thead th {\n",
       "        text-align: right;\n",
       "    }\n",
       "</style>\n",
       "<table border=\"1\" class=\"dataframe\">\n",
       "  <thead>\n",
       "    <tr style=\"text-align: right;\">\n",
       "      <th></th>\n",
       "      <th>QQQ</th>\n",
       "      <th>MU</th>\n",
       "      <th>ISRG</th>\n",
       "      <th>TMUS</th>\n",
       "      <th>CME</th>\n",
       "      <th>ADP</th>\n",
       "      <th>INTU</th>\n",
       "      <th>BKNG</th>\n",
       "      <th>FISV</th>\n",
       "      <th>MDLZ</th>\n",
       "      <th>...</th>\n",
       "      <th>NVDA</th>\n",
       "      <th>ADBE</th>\n",
       "      <th>PEP</th>\n",
       "      <th>CMCSA</th>\n",
       "      <th>CSCO</th>\n",
       "      <th>INTC</th>\n",
       "      <th>GOOGL</th>\n",
       "      <th>AMZN</th>\n",
       "      <th>AAPL</th>\n",
       "      <th>MSFT</th>\n",
       "    </tr>\n",
       "  </thead>\n",
       "  <tbody>\n",
       "    <tr>\n",
       "      <th>2010-01-04</th>\n",
       "      <td>41.570904</td>\n",
       "      <td>10.85</td>\n",
       "      <td>102.923332</td>\n",
       "      <td>13.207044</td>\n",
       "      <td>44.038776</td>\n",
       "      <td>28.546648</td>\n",
       "      <td>28.015366</td>\n",
       "      <td>223.960007</td>\n",
       "      <td>12.3575</td>\n",
       "      <td>14.167932</td>\n",
       "      <td>...</td>\n",
       "      <td>16.999943</td>\n",
       "      <td>37.090000</td>\n",
       "      <td>44.292305</td>\n",
       "      <td>6.894205</td>\n",
       "      <td>18.463966</td>\n",
       "      <td>14.954695</td>\n",
       "      <td>313.688690</td>\n",
       "      <td>133.899994</td>\n",
       "      <td>6.593423</td>\n",
       "      <td>24.105360</td>\n",
       "    </tr>\n",
       "    <tr>\n",
       "      <th>2010-01-05</th>\n",
       "      <td>41.570904</td>\n",
       "      <td>11.17</td>\n",
       "      <td>102.459999</td>\n",
       "      <td>13.240186</td>\n",
       "      <td>44.002773</td>\n",
       "      <td>28.393362</td>\n",
       "      <td>28.015366</td>\n",
       "      <td>226.559998</td>\n",
       "      <td>12.4100</td>\n",
       "      <td>14.860062</td>\n",
       "      <td>...</td>\n",
       "      <td>17.248186</td>\n",
       "      <td>37.700001</td>\n",
       "      <td>44.827515</td>\n",
       "      <td>6.800767</td>\n",
       "      <td>18.381708</td>\n",
       "      <td>14.947535</td>\n",
       "      <td>312.307312</td>\n",
       "      <td>134.690002</td>\n",
       "      <td>6.604822</td>\n",
       "      <td>24.113148</td>\n",
       "    </tr>\n",
       "    <tr>\n",
       "      <th>2010-01-06</th>\n",
       "      <td>41.320183</td>\n",
       "      <td>11.22</td>\n",
       "      <td>103.946671</td>\n",
       "      <td>12.345354</td>\n",
       "      <td>43.704395</td>\n",
       "      <td>28.326714</td>\n",
       "      <td>27.624369</td>\n",
       "      <td>219.080002</td>\n",
       "      <td>12.3575</td>\n",
       "      <td>14.963362</td>\n",
       "      <td>...</td>\n",
       "      <td>17.358511</td>\n",
       "      <td>37.619999</td>\n",
       "      <td>44.379101</td>\n",
       "      <td>6.752012</td>\n",
       "      <td>18.262053</td>\n",
       "      <td>14.897401</td>\n",
       "      <td>304.434448</td>\n",
       "      <td>132.250000</td>\n",
       "      <td>6.499765</td>\n",
       "      <td>23.965164</td>\n",
       "    </tr>\n",
       "    <tr>\n",
       "      <th>2010-01-07</th>\n",
       "      <td>41.347046</td>\n",
       "      <td>10.84</td>\n",
       "      <td>103.556664</td>\n",
       "      <td>12.461351</td>\n",
       "      <td>43.758408</td>\n",
       "      <td>28.313377</td>\n",
       "      <td>27.533443</td>\n",
       "      <td>216.130005</td>\n",
       "      <td>12.3000</td>\n",
       "      <td>14.927206</td>\n",
       "      <td>...</td>\n",
       "      <td>17.018332</td>\n",
       "      <td>36.889999</td>\n",
       "      <td>44.097023</td>\n",
       "      <td>6.894205</td>\n",
       "      <td>18.344311</td>\n",
       "      <td>14.754156</td>\n",
       "      <td>297.347351</td>\n",
       "      <td>130.000000</td>\n",
       "      <td>6.487749</td>\n",
       "      <td>23.715933</td>\n",
       "    </tr>\n",
       "    <tr>\n",
       "      <th>2010-01-08</th>\n",
       "      <td>41.687347</td>\n",
       "      <td>11.10</td>\n",
       "      <td>102.986664</td>\n",
       "      <td>11.765371</td>\n",
       "      <td>44.927525</td>\n",
       "      <td>28.273378</td>\n",
       "      <td>28.260878</td>\n",
       "      <td>216.210007</td>\n",
       "      <td>12.1625</td>\n",
       "      <td>14.942701</td>\n",
       "      <td>...</td>\n",
       "      <td>17.055109</td>\n",
       "      <td>36.689999</td>\n",
       "      <td>43.952370</td>\n",
       "      <td>6.873890</td>\n",
       "      <td>18.441526</td>\n",
       "      <td>14.918890</td>\n",
       "      <td>301.311310</td>\n",
       "      <td>133.520004</td>\n",
       "      <td>6.530882</td>\n",
       "      <td>23.879499</td>\n",
       "    </tr>\n",
       "    <tr>\n",
       "      <th>2010-01-09</th>\n",
       "      <td>41.687347</td>\n",
       "      <td>11.10</td>\n",
       "      <td>102.986664</td>\n",
       "      <td>11.765371</td>\n",
       "      <td>44.927525</td>\n",
       "      <td>28.273378</td>\n",
       "      <td>28.260878</td>\n",
       "      <td>216.210007</td>\n",
       "      <td>12.1625</td>\n",
       "      <td>14.942701</td>\n",
       "      <td>...</td>\n",
       "      <td>17.055109</td>\n",
       "      <td>36.689999</td>\n",
       "      <td>43.952370</td>\n",
       "      <td>6.873890</td>\n",
       "      <td>18.441526</td>\n",
       "      <td>14.918890</td>\n",
       "      <td>301.311310</td>\n",
       "      <td>133.520004</td>\n",
       "      <td>6.530882</td>\n",
       "      <td>23.879499</td>\n",
       "    </tr>\n",
       "    <tr>\n",
       "      <th>2010-01-10</th>\n",
       "      <td>41.687347</td>\n",
       "      <td>11.10</td>\n",
       "      <td>102.986664</td>\n",
       "      <td>11.765371</td>\n",
       "      <td>44.927525</td>\n",
       "      <td>28.273378</td>\n",
       "      <td>28.260878</td>\n",
       "      <td>216.210007</td>\n",
       "      <td>12.1625</td>\n",
       "      <td>14.942701</td>\n",
       "      <td>...</td>\n",
       "      <td>17.055109</td>\n",
       "      <td>36.689999</td>\n",
       "      <td>43.952370</td>\n",
       "      <td>6.873890</td>\n",
       "      <td>18.441526</td>\n",
       "      <td>14.918890</td>\n",
       "      <td>301.311310</td>\n",
       "      <td>133.520004</td>\n",
       "      <td>6.530882</td>\n",
       "      <td>23.879499</td>\n",
       "    </tr>\n",
       "    <tr>\n",
       "      <th>2010-01-11</th>\n",
       "      <td>41.517189</td>\n",
       "      <td>10.90</td>\n",
       "      <td>103.763336</td>\n",
       "      <td>11.914511</td>\n",
       "      <td>44.918518</td>\n",
       "      <td>28.400021</td>\n",
       "      <td>28.388178</td>\n",
       "      <td>218.910004</td>\n",
       "      <td>12.2275</td>\n",
       "      <td>14.875555</td>\n",
       "      <td>...</td>\n",
       "      <td>16.816057</td>\n",
       "      <td>36.209999</td>\n",
       "      <td>43.901749</td>\n",
       "      <td>6.829206</td>\n",
       "      <td>18.389183</td>\n",
       "      <td>15.004833</td>\n",
       "      <td>300.855865</td>\n",
       "      <td>130.309998</td>\n",
       "      <td>6.473268</td>\n",
       "      <td>23.575750</td>\n",
       "    </tr>\n",
       "    <tr>\n",
       "      <th>2010-01-12</th>\n",
       "      <td>40.997784</td>\n",
       "      <td>10.26</td>\n",
       "      <td>101.463333</td>\n",
       "      <td>10.522551</td>\n",
       "      <td>44.007900</td>\n",
       "      <td>28.200068</td>\n",
       "      <td>28.388178</td>\n",
       "      <td>213.979996</td>\n",
       "      <td>12.1200</td>\n",
       "      <td>15.128645</td>\n",
       "      <td>...</td>\n",
       "      <td>16.246025</td>\n",
       "      <td>35.660000</td>\n",
       "      <td>44.516521</td>\n",
       "      <td>6.707326</td>\n",
       "      <td>18.097532</td>\n",
       "      <td>14.761323</td>\n",
       "      <td>295.535522</td>\n",
       "      <td>127.349998</td>\n",
       "      <td>6.399635</td>\n",
       "      <td>23.419973</td>\n",
       "    </tr>\n",
       "    <tr>\n",
       "      <th>2010-01-13</th>\n",
       "      <td>41.508217</td>\n",
       "      <td>10.46</td>\n",
       "      <td>102.013336</td>\n",
       "      <td>10.489408</td>\n",
       "      <td>44.144257</td>\n",
       "      <td>28.406679</td>\n",
       "      <td>28.715527</td>\n",
       "      <td>214.300003</td>\n",
       "      <td>12.2225</td>\n",
       "      <td>15.097653</td>\n",
       "      <td>...</td>\n",
       "      <td>16.466686</td>\n",
       "      <td>36.279999</td>\n",
       "      <td>44.878143</td>\n",
       "      <td>6.812954</td>\n",
       "      <td>18.426571</td>\n",
       "      <td>15.011992</td>\n",
       "      <td>293.838837</td>\n",
       "      <td>129.110001</td>\n",
       "      <td>6.489905</td>\n",
       "      <td>23.638054</td>\n",
       "    </tr>\n",
       "  </tbody>\n",
       "</table>\n",
       "<p>10 rows × 29 columns</p>\n",
       "</div>"
      ],
      "text/plain": [
       "                  QQQ     MU        ISRG       TMUS        CME        ADP  \\\n",
       "2010-01-04  41.570904  10.85  102.923332  13.207044  44.038776  28.546648   \n",
       "2010-01-05  41.570904  11.17  102.459999  13.240186  44.002773  28.393362   \n",
       "2010-01-06  41.320183  11.22  103.946671  12.345354  43.704395  28.326714   \n",
       "2010-01-07  41.347046  10.84  103.556664  12.461351  43.758408  28.313377   \n",
       "2010-01-08  41.687347  11.10  102.986664  11.765371  44.927525  28.273378   \n",
       "2010-01-09  41.687347  11.10  102.986664  11.765371  44.927525  28.273378   \n",
       "2010-01-10  41.687347  11.10  102.986664  11.765371  44.927525  28.273378   \n",
       "2010-01-11  41.517189  10.90  103.763336  11.914511  44.918518  28.400021   \n",
       "2010-01-12  40.997784  10.26  101.463333  10.522551  44.007900  28.200068   \n",
       "2010-01-13  41.508217  10.46  102.013336  10.489408  44.144257  28.406679   \n",
       "\n",
       "                 INTU        BKNG     FISV       MDLZ  ...       NVDA  \\\n",
       "2010-01-04  28.015366  223.960007  12.3575  14.167932  ...  16.999943   \n",
       "2010-01-05  28.015366  226.559998  12.4100  14.860062  ...  17.248186   \n",
       "2010-01-06  27.624369  219.080002  12.3575  14.963362  ...  17.358511   \n",
       "2010-01-07  27.533443  216.130005  12.3000  14.927206  ...  17.018332   \n",
       "2010-01-08  28.260878  216.210007  12.1625  14.942701  ...  17.055109   \n",
       "2010-01-09  28.260878  216.210007  12.1625  14.942701  ...  17.055109   \n",
       "2010-01-10  28.260878  216.210007  12.1625  14.942701  ...  17.055109   \n",
       "2010-01-11  28.388178  218.910004  12.2275  14.875555  ...  16.816057   \n",
       "2010-01-12  28.388178  213.979996  12.1200  15.128645  ...  16.246025   \n",
       "2010-01-13  28.715527  214.300003  12.2225  15.097653  ...  16.466686   \n",
       "\n",
       "                 ADBE        PEP     CMCSA       CSCO       INTC       GOOGL  \\\n",
       "2010-01-04  37.090000  44.292305  6.894205  18.463966  14.954695  313.688690   \n",
       "2010-01-05  37.700001  44.827515  6.800767  18.381708  14.947535  312.307312   \n",
       "2010-01-06  37.619999  44.379101  6.752012  18.262053  14.897401  304.434448   \n",
       "2010-01-07  36.889999  44.097023  6.894205  18.344311  14.754156  297.347351   \n",
       "2010-01-08  36.689999  43.952370  6.873890  18.441526  14.918890  301.311310   \n",
       "2010-01-09  36.689999  43.952370  6.873890  18.441526  14.918890  301.311310   \n",
       "2010-01-10  36.689999  43.952370  6.873890  18.441526  14.918890  301.311310   \n",
       "2010-01-11  36.209999  43.901749  6.829206  18.389183  15.004833  300.855865   \n",
       "2010-01-12  35.660000  44.516521  6.707326  18.097532  14.761323  295.535522   \n",
       "2010-01-13  36.279999  44.878143  6.812954  18.426571  15.011992  293.838837   \n",
       "\n",
       "                  AMZN      AAPL       MSFT  \n",
       "2010-01-04  133.899994  6.593423  24.105360  \n",
       "2010-01-05  134.690002  6.604822  24.113148  \n",
       "2010-01-06  132.250000  6.499765  23.965164  \n",
       "2010-01-07  130.000000  6.487749  23.715933  \n",
       "2010-01-08  133.520004  6.530882  23.879499  \n",
       "2010-01-09  133.520004  6.530882  23.879499  \n",
       "2010-01-10  133.520004  6.530882  23.879499  \n",
       "2010-01-11  130.309998  6.473268  23.575750  \n",
       "2010-01-12  127.349998  6.399635  23.419973  \n",
       "2010-01-13  129.110001  6.489905  23.638054  \n",
       "\n",
       "[10 rows x 29 columns]"
      ]
     },
     "execution_count": 25,
     "metadata": {},
     "output_type": "execute_result"
    }
   ],
   "source": [
    "stock_data_price.head(10)"
   ]
  },
  {
   "cell_type": "markdown",
   "metadata": {},
   "source": [
    "Also inspect the bottom padded stock market data of the QQQ and the underlying NASDAQ Top 28 constituents:"
   ]
  },
  {
   "cell_type": "code",
   "execution_count": 26,
   "metadata": {},
   "outputs": [
    {
     "data": {
      "text/html": [
       "<div>\n",
       "<style scoped>\n",
       "    .dataframe tbody tr th:only-of-type {\n",
       "        vertical-align: middle;\n",
       "    }\n",
       "\n",
       "    .dataframe tbody tr th {\n",
       "        vertical-align: top;\n",
       "    }\n",
       "\n",
       "    .dataframe thead th {\n",
       "        text-align: right;\n",
       "    }\n",
       "</style>\n",
       "<table border=\"1\" class=\"dataframe\">\n",
       "  <thead>\n",
       "    <tr style=\"text-align: right;\">\n",
       "      <th></th>\n",
       "      <th>QQQ</th>\n",
       "      <th>MU</th>\n",
       "      <th>ISRG</th>\n",
       "      <th>TMUS</th>\n",
       "      <th>CME</th>\n",
       "      <th>ADP</th>\n",
       "      <th>INTU</th>\n",
       "      <th>BKNG</th>\n",
       "      <th>FISV</th>\n",
       "      <th>MDLZ</th>\n",
       "      <th>...</th>\n",
       "      <th>NVDA</th>\n",
       "      <th>ADBE</th>\n",
       "      <th>PEP</th>\n",
       "      <th>CMCSA</th>\n",
       "      <th>CSCO</th>\n",
       "      <th>INTC</th>\n",
       "      <th>GOOGL</th>\n",
       "      <th>AMZN</th>\n",
       "      <th>AAPL</th>\n",
       "      <th>MSFT</th>\n",
       "    </tr>\n",
       "  </thead>\n",
       "  <tbody>\n",
       "    <tr>\n",
       "      <th>2019-12-22</th>\n",
       "      <td>210.056091</td>\n",
       "      <td>55.060001</td>\n",
       "      <td>591.309998</td>\n",
       "      <td>77.400002</td>\n",
       "      <td>193.713379</td>\n",
       "      <td>167.027359</td>\n",
       "      <td>264.660400</td>\n",
       "      <td>2023.260010</td>\n",
       "      <td>116.669998</td>\n",
       "      <td>53.881664</td>\n",
       "      <td>...</td>\n",
       "      <td>238.975662</td>\n",
       "      <td>327.609985</td>\n",
       "      <td>134.014557</td>\n",
       "      <td>42.926853</td>\n",
       "      <td>45.504459</td>\n",
       "      <td>57.519756</td>\n",
       "      <td>1351.219971</td>\n",
       "      <td>1786.500000</td>\n",
       "      <td>69.261856</td>\n",
       "      <td>155.759949</td>\n",
       "    </tr>\n",
       "    <tr>\n",
       "      <th>2019-12-23</th>\n",
       "      <td>210.610901</td>\n",
       "      <td>55.400002</td>\n",
       "      <td>597.419983</td>\n",
       "      <td>76.959999</td>\n",
       "      <td>194.440323</td>\n",
       "      <td>165.982773</td>\n",
       "      <td>263.847900</td>\n",
       "      <td>2032.099976</td>\n",
       "      <td>116.330002</td>\n",
       "      <td>53.230022</td>\n",
       "      <td>...</td>\n",
       "      <td>238.426590</td>\n",
       "      <td>328.950012</td>\n",
       "      <td>133.159470</td>\n",
       "      <td>42.936588</td>\n",
       "      <td>46.127808</td>\n",
       "      <td>57.792961</td>\n",
       "      <td>1350.630005</td>\n",
       "      <td>1793.000000</td>\n",
       "      <td>70.392090</td>\n",
       "      <td>155.759949</td>\n",
       "    </tr>\n",
       "    <tr>\n",
       "      <th>2019-12-24</th>\n",
       "      <td>210.720291</td>\n",
       "      <td>55.419998</td>\n",
       "      <td>598.809998</td>\n",
       "      <td>77.320000</td>\n",
       "      <td>194.516861</td>\n",
       "      <td>165.875381</td>\n",
       "      <td>261.915680</td>\n",
       "      <td>2044.000000</td>\n",
       "      <td>116.629997</td>\n",
       "      <td>53.482903</td>\n",
       "      <td>...</td>\n",
       "      <td>238.226913</td>\n",
       "      <td>329.640015</td>\n",
       "      <td>133.013718</td>\n",
       "      <td>43.355247</td>\n",
       "      <td>45.820923</td>\n",
       "      <td>57.968597</td>\n",
       "      <td>1344.430054</td>\n",
       "      <td>1789.209961</td>\n",
       "      <td>70.459007</td>\n",
       "      <td>155.730255</td>\n",
       "    </tr>\n",
       "    <tr>\n",
       "      <th>2019-12-25</th>\n",
       "      <td>210.720291</td>\n",
       "      <td>55.419998</td>\n",
       "      <td>598.809998</td>\n",
       "      <td>77.320000</td>\n",
       "      <td>194.516861</td>\n",
       "      <td>165.875381</td>\n",
       "      <td>261.915680</td>\n",
       "      <td>2044.000000</td>\n",
       "      <td>116.629997</td>\n",
       "      <td>53.482903</td>\n",
       "      <td>...</td>\n",
       "      <td>238.226913</td>\n",
       "      <td>329.640015</td>\n",
       "      <td>133.013718</td>\n",
       "      <td>43.355247</td>\n",
       "      <td>45.820923</td>\n",
       "      <td>57.968597</td>\n",
       "      <td>1344.430054</td>\n",
       "      <td>1789.209961</td>\n",
       "      <td>70.459007</td>\n",
       "      <td>155.730255</td>\n",
       "    </tr>\n",
       "    <tr>\n",
       "      <th>2019-12-26</th>\n",
       "      <td>212.579697</td>\n",
       "      <td>55.110001</td>\n",
       "      <td>598.039978</td>\n",
       "      <td>77.400002</td>\n",
       "      <td>194.991379</td>\n",
       "      <td>166.304932</td>\n",
       "      <td>264.432495</td>\n",
       "      <td>2064.320068</td>\n",
       "      <td>116.029999</td>\n",
       "      <td>53.346733</td>\n",
       "      <td>...</td>\n",
       "      <td>238.795975</td>\n",
       "      <td>331.200012</td>\n",
       "      <td>132.819397</td>\n",
       "      <td>43.783646</td>\n",
       "      <td>45.888054</td>\n",
       "      <td>58.368649</td>\n",
       "      <td>1362.469971</td>\n",
       "      <td>1868.770020</td>\n",
       "      <td>71.856941</td>\n",
       "      <td>157.006729</td>\n",
       "    </tr>\n",
       "    <tr>\n",
       "      <th>2019-12-27</th>\n",
       "      <td>212.400726</td>\n",
       "      <td>54.029999</td>\n",
       "      <td>597.880005</td>\n",
       "      <td>77.239998</td>\n",
       "      <td>196.376221</td>\n",
       "      <td>166.714981</td>\n",
       "      <td>264.620789</td>\n",
       "      <td>2072.540039</td>\n",
       "      <td>117.080002</td>\n",
       "      <td>53.764946</td>\n",
       "      <td>...</td>\n",
       "      <td>236.479767</td>\n",
       "      <td>330.790009</td>\n",
       "      <td>133.645325</td>\n",
       "      <td>43.910213</td>\n",
       "      <td>45.811337</td>\n",
       "      <td>58.622341</td>\n",
       "      <td>1354.640015</td>\n",
       "      <td>1869.800049</td>\n",
       "      <td>71.829674</td>\n",
       "      <td>157.293686</td>\n",
       "    </tr>\n",
       "    <tr>\n",
       "      <th>2019-12-28</th>\n",
       "      <td>212.400726</td>\n",
       "      <td>54.029999</td>\n",
       "      <td>597.880005</td>\n",
       "      <td>77.239998</td>\n",
       "      <td>196.376221</td>\n",
       "      <td>166.714981</td>\n",
       "      <td>264.620789</td>\n",
       "      <td>2072.540039</td>\n",
       "      <td>117.080002</td>\n",
       "      <td>53.764946</td>\n",
       "      <td>...</td>\n",
       "      <td>236.479767</td>\n",
       "      <td>330.790009</td>\n",
       "      <td>133.645325</td>\n",
       "      <td>43.910213</td>\n",
       "      <td>45.811337</td>\n",
       "      <td>58.622341</td>\n",
       "      <td>1354.640015</td>\n",
       "      <td>1869.800049</td>\n",
       "      <td>71.829674</td>\n",
       "      <td>157.293686</td>\n",
       "    </tr>\n",
       "    <tr>\n",
       "      <th>2019-12-29</th>\n",
       "      <td>212.400726</td>\n",
       "      <td>54.029999</td>\n",
       "      <td>597.880005</td>\n",
       "      <td>77.239998</td>\n",
       "      <td>196.376221</td>\n",
       "      <td>166.714981</td>\n",
       "      <td>264.620789</td>\n",
       "      <td>2072.540039</td>\n",
       "      <td>117.080002</td>\n",
       "      <td>53.764946</td>\n",
       "      <td>...</td>\n",
       "      <td>236.479767</td>\n",
       "      <td>330.790009</td>\n",
       "      <td>133.645325</td>\n",
       "      <td>43.910213</td>\n",
       "      <td>45.811337</td>\n",
       "      <td>58.622341</td>\n",
       "      <td>1354.640015</td>\n",
       "      <td>1869.800049</td>\n",
       "      <td>71.829674</td>\n",
       "      <td>157.293686</td>\n",
       "    </tr>\n",
       "    <tr>\n",
       "      <th>2019-12-30</th>\n",
       "      <td>211.008652</td>\n",
       "      <td>53.209999</td>\n",
       "      <td>591.320007</td>\n",
       "      <td>78.080002</td>\n",
       "      <td>192.889893</td>\n",
       "      <td>165.562988</td>\n",
       "      <td>260.439331</td>\n",
       "      <td>2053.870117</td>\n",
       "      <td>115.470001</td>\n",
       "      <td>53.769836</td>\n",
       "      <td>...</td>\n",
       "      <td>231.937271</td>\n",
       "      <td>328.339996</td>\n",
       "      <td>132.935989</td>\n",
       "      <td>43.988098</td>\n",
       "      <td>45.638714</td>\n",
       "      <td>58.173500</td>\n",
       "      <td>1339.709961</td>\n",
       "      <td>1846.890015</td>\n",
       "      <td>72.255997</td>\n",
       "      <td>155.938049</td>\n",
       "    </tr>\n",
       "    <tr>\n",
       "      <th>2019-12-31</th>\n",
       "      <td>211.406387</td>\n",
       "      <td>53.779999</td>\n",
       "      <td>591.150024</td>\n",
       "      <td>78.419998</td>\n",
       "      <td>194.381256</td>\n",
       "      <td>166.451370</td>\n",
       "      <td>259.537659</td>\n",
       "      <td>2053.729980</td>\n",
       "      <td>115.629997</td>\n",
       "      <td>53.848053</td>\n",
       "      <td>...</td>\n",
       "      <td>234.912384</td>\n",
       "      <td>329.809998</td>\n",
       "      <td>132.799957</td>\n",
       "      <td>43.783646</td>\n",
       "      <td>45.993546</td>\n",
       "      <td>58.397919</td>\n",
       "      <td>1339.390015</td>\n",
       "      <td>1847.839966</td>\n",
       "      <td>72.783936</td>\n",
       "      <td>156.046890</td>\n",
       "    </tr>\n",
       "  </tbody>\n",
       "</table>\n",
       "<p>10 rows × 29 columns</p>\n",
       "</div>"
      ],
      "text/plain": [
       "                   QQQ         MU        ISRG       TMUS         CME  \\\n",
       "2019-12-22  210.056091  55.060001  591.309998  77.400002  193.713379   \n",
       "2019-12-23  210.610901  55.400002  597.419983  76.959999  194.440323   \n",
       "2019-12-24  210.720291  55.419998  598.809998  77.320000  194.516861   \n",
       "2019-12-25  210.720291  55.419998  598.809998  77.320000  194.516861   \n",
       "2019-12-26  212.579697  55.110001  598.039978  77.400002  194.991379   \n",
       "2019-12-27  212.400726  54.029999  597.880005  77.239998  196.376221   \n",
       "2019-12-28  212.400726  54.029999  597.880005  77.239998  196.376221   \n",
       "2019-12-29  212.400726  54.029999  597.880005  77.239998  196.376221   \n",
       "2019-12-30  211.008652  53.209999  591.320007  78.080002  192.889893   \n",
       "2019-12-31  211.406387  53.779999  591.150024  78.419998  194.381256   \n",
       "\n",
       "                   ADP        INTU         BKNG        FISV       MDLZ  ...  \\\n",
       "2019-12-22  167.027359  264.660400  2023.260010  116.669998  53.881664  ...   \n",
       "2019-12-23  165.982773  263.847900  2032.099976  116.330002  53.230022  ...   \n",
       "2019-12-24  165.875381  261.915680  2044.000000  116.629997  53.482903  ...   \n",
       "2019-12-25  165.875381  261.915680  2044.000000  116.629997  53.482903  ...   \n",
       "2019-12-26  166.304932  264.432495  2064.320068  116.029999  53.346733  ...   \n",
       "2019-12-27  166.714981  264.620789  2072.540039  117.080002  53.764946  ...   \n",
       "2019-12-28  166.714981  264.620789  2072.540039  117.080002  53.764946  ...   \n",
       "2019-12-29  166.714981  264.620789  2072.540039  117.080002  53.764946  ...   \n",
       "2019-12-30  165.562988  260.439331  2053.870117  115.470001  53.769836  ...   \n",
       "2019-12-31  166.451370  259.537659  2053.729980  115.629997  53.848053  ...   \n",
       "\n",
       "                  NVDA        ADBE         PEP      CMCSA       CSCO  \\\n",
       "2019-12-22  238.975662  327.609985  134.014557  42.926853  45.504459   \n",
       "2019-12-23  238.426590  328.950012  133.159470  42.936588  46.127808   \n",
       "2019-12-24  238.226913  329.640015  133.013718  43.355247  45.820923   \n",
       "2019-12-25  238.226913  329.640015  133.013718  43.355247  45.820923   \n",
       "2019-12-26  238.795975  331.200012  132.819397  43.783646  45.888054   \n",
       "2019-12-27  236.479767  330.790009  133.645325  43.910213  45.811337   \n",
       "2019-12-28  236.479767  330.790009  133.645325  43.910213  45.811337   \n",
       "2019-12-29  236.479767  330.790009  133.645325  43.910213  45.811337   \n",
       "2019-12-30  231.937271  328.339996  132.935989  43.988098  45.638714   \n",
       "2019-12-31  234.912384  329.809998  132.799957  43.783646  45.993546   \n",
       "\n",
       "                 INTC        GOOGL         AMZN       AAPL        MSFT  \n",
       "2019-12-22  57.519756  1351.219971  1786.500000  69.261856  155.759949  \n",
       "2019-12-23  57.792961  1350.630005  1793.000000  70.392090  155.759949  \n",
       "2019-12-24  57.968597  1344.430054  1789.209961  70.459007  155.730255  \n",
       "2019-12-25  57.968597  1344.430054  1789.209961  70.459007  155.730255  \n",
       "2019-12-26  58.368649  1362.469971  1868.770020  71.856941  157.006729  \n",
       "2019-12-27  58.622341  1354.640015  1869.800049  71.829674  157.293686  \n",
       "2019-12-28  58.622341  1354.640015  1869.800049  71.829674  157.293686  \n",
       "2019-12-29  58.622341  1354.640015  1869.800049  71.829674  157.293686  \n",
       "2019-12-30  58.173500  1339.709961  1846.890015  72.255997  155.938049  \n",
       "2019-12-31  58.397919  1339.390015  1847.839966  72.783936  156.046890  \n",
       "\n",
       "[10 rows x 29 columns]"
      ]
     },
     "execution_count": 26,
     "metadata": {},
     "output_type": "execute_result"
    }
   ],
   "source": [
    "stock_data_price.tail(10)"
   ]
  },
  {
   "cell_type": "markdown",
   "metadata": {},
   "source": [
    "Inspect the number of records obtained after the data padding:"
   ]
  },
  {
   "cell_type": "code",
   "execution_count": 27,
   "metadata": {},
   "outputs": [
    {
     "data": {
      "text/plain": [
       "(3649, 29)"
      ]
     },
     "execution_count": 27,
     "metadata": {},
     "output_type": "execute_result"
    }
   ],
   "source": [
    "stock_data_price.shape"
   ]
  },
  {
   "cell_type": "markdown",
   "metadata": {},
   "source": [
    "#### 2.2 Daily Log-Return Calculation"
   ]
  },
  {
   "cell_type": "markdown",
   "metadata": {},
   "source": [
    "Determine the daily returns of the QQQ's daily adjusted closing prices using the `pct_change()` function of the `Pandas` library:"
   ]
  },
  {
   "cell_type": "code",
   "execution_count": 28,
   "metadata": {},
   "outputs": [],
   "source": [
    "# create deep copy of stock price data\n",
    "stock_data_return = stock_data_price.copy(deep=True)\n",
    "\n",
    "# compute the log of the QQQ's daily adjusted closing prices\n",
    "stock_data_return['QQQ'] = np.log(stock_data_return['QQQ'])\n",
    "\n",
    "# determine daily log-returns based of the QQQ's daily adjusted closing prices\n",
    "stock_data_return['QQQ'] = stock_data_return['QQQ'].pct_change()"
   ]
  },
  {
   "cell_type": "markdown",
   "metadata": {},
   "source": [
    "Inspect the daily returns of the adjusted closing prices:"
   ]
  },
  {
   "cell_type": "code",
   "execution_count": 29,
   "metadata": {},
   "outputs": [
    {
     "data": {
      "text/html": [
       "<div>\n",
       "<style scoped>\n",
       "    .dataframe tbody tr th:only-of-type {\n",
       "        vertical-align: middle;\n",
       "    }\n",
       "\n",
       "    .dataframe tbody tr th {\n",
       "        vertical-align: top;\n",
       "    }\n",
       "\n",
       "    .dataframe thead th {\n",
       "        text-align: right;\n",
       "    }\n",
       "</style>\n",
       "<table border=\"1\" class=\"dataframe\">\n",
       "  <thead>\n",
       "    <tr style=\"text-align: right;\">\n",
       "      <th></th>\n",
       "      <th>QQQ</th>\n",
       "      <th>MU</th>\n",
       "      <th>ISRG</th>\n",
       "      <th>TMUS</th>\n",
       "      <th>CME</th>\n",
       "      <th>ADP</th>\n",
       "      <th>INTU</th>\n",
       "      <th>BKNG</th>\n",
       "      <th>FISV</th>\n",
       "      <th>MDLZ</th>\n",
       "      <th>...</th>\n",
       "      <th>NVDA</th>\n",
       "      <th>ADBE</th>\n",
       "      <th>PEP</th>\n",
       "      <th>CMCSA</th>\n",
       "      <th>CSCO</th>\n",
       "      <th>INTC</th>\n",
       "      <th>GOOGL</th>\n",
       "      <th>AMZN</th>\n",
       "      <th>AAPL</th>\n",
       "      <th>MSFT</th>\n",
       "    </tr>\n",
       "  </thead>\n",
       "  <tbody>\n",
       "    <tr>\n",
       "      <th>2010-01-04</th>\n",
       "      <td>NaN</td>\n",
       "      <td>10.85</td>\n",
       "      <td>102.923332</td>\n",
       "      <td>13.207044</td>\n",
       "      <td>44.038776</td>\n",
       "      <td>28.546648</td>\n",
       "      <td>28.015366</td>\n",
       "      <td>223.960007</td>\n",
       "      <td>12.3575</td>\n",
       "      <td>14.167932</td>\n",
       "      <td>...</td>\n",
       "      <td>16.999943</td>\n",
       "      <td>37.090000</td>\n",
       "      <td>44.292305</td>\n",
       "      <td>6.894205</td>\n",
       "      <td>18.463966</td>\n",
       "      <td>14.954695</td>\n",
       "      <td>313.688690</td>\n",
       "      <td>133.899994</td>\n",
       "      <td>6.593423</td>\n",
       "      <td>24.105360</td>\n",
       "    </tr>\n",
       "    <tr>\n",
       "      <th>2010-01-05</th>\n",
       "      <td>0.000000</td>\n",
       "      <td>11.17</td>\n",
       "      <td>102.459999</td>\n",
       "      <td>13.240186</td>\n",
       "      <td>44.002773</td>\n",
       "      <td>28.393362</td>\n",
       "      <td>28.015366</td>\n",
       "      <td>226.559998</td>\n",
       "      <td>12.4100</td>\n",
       "      <td>14.860062</td>\n",
       "      <td>...</td>\n",
       "      <td>17.248186</td>\n",
       "      <td>37.700001</td>\n",
       "      <td>44.827515</td>\n",
       "      <td>6.800767</td>\n",
       "      <td>18.381708</td>\n",
       "      <td>14.947535</td>\n",
       "      <td>312.307312</td>\n",
       "      <td>134.690002</td>\n",
       "      <td>6.604822</td>\n",
       "      <td>24.113148</td>\n",
       "    </tr>\n",
       "    <tr>\n",
       "      <th>2010-01-06</th>\n",
       "      <td>-0.001623</td>\n",
       "      <td>11.22</td>\n",
       "      <td>103.946671</td>\n",
       "      <td>12.345354</td>\n",
       "      <td>43.704395</td>\n",
       "      <td>28.326714</td>\n",
       "      <td>27.624369</td>\n",
       "      <td>219.080002</td>\n",
       "      <td>12.3575</td>\n",
       "      <td>14.963362</td>\n",
       "      <td>...</td>\n",
       "      <td>17.358511</td>\n",
       "      <td>37.619999</td>\n",
       "      <td>44.379101</td>\n",
       "      <td>6.752012</td>\n",
       "      <td>18.262053</td>\n",
       "      <td>14.897401</td>\n",
       "      <td>304.434448</td>\n",
       "      <td>132.250000</td>\n",
       "      <td>6.499765</td>\n",
       "      <td>23.965164</td>\n",
       "    </tr>\n",
       "    <tr>\n",
       "      <th>2010-01-07</th>\n",
       "      <td>0.000175</td>\n",
       "      <td>10.84</td>\n",
       "      <td>103.556664</td>\n",
       "      <td>12.461351</td>\n",
       "      <td>43.758408</td>\n",
       "      <td>28.313377</td>\n",
       "      <td>27.533443</td>\n",
       "      <td>216.130005</td>\n",
       "      <td>12.3000</td>\n",
       "      <td>14.927206</td>\n",
       "      <td>...</td>\n",
       "      <td>17.018332</td>\n",
       "      <td>36.889999</td>\n",
       "      <td>44.097023</td>\n",
       "      <td>6.894205</td>\n",
       "      <td>18.344311</td>\n",
       "      <td>14.754156</td>\n",
       "      <td>297.347351</td>\n",
       "      <td>130.000000</td>\n",
       "      <td>6.487749</td>\n",
       "      <td>23.715933</td>\n",
       "    </tr>\n",
       "    <tr>\n",
       "      <th>2010-01-08</th>\n",
       "      <td>0.002202</td>\n",
       "      <td>11.10</td>\n",
       "      <td>102.986664</td>\n",
       "      <td>11.765371</td>\n",
       "      <td>44.927525</td>\n",
       "      <td>28.273378</td>\n",
       "      <td>28.260878</td>\n",
       "      <td>216.210007</td>\n",
       "      <td>12.1625</td>\n",
       "      <td>14.942701</td>\n",
       "      <td>...</td>\n",
       "      <td>17.055109</td>\n",
       "      <td>36.689999</td>\n",
       "      <td>43.952370</td>\n",
       "      <td>6.873890</td>\n",
       "      <td>18.441526</td>\n",
       "      <td>14.918890</td>\n",
       "      <td>301.311310</td>\n",
       "      <td>133.520004</td>\n",
       "      <td>6.530882</td>\n",
       "      <td>23.879499</td>\n",
       "    </tr>\n",
       "    <tr>\n",
       "      <th>2010-01-09</th>\n",
       "      <td>0.000000</td>\n",
       "      <td>11.10</td>\n",
       "      <td>102.986664</td>\n",
       "      <td>11.765371</td>\n",
       "      <td>44.927525</td>\n",
       "      <td>28.273378</td>\n",
       "      <td>28.260878</td>\n",
       "      <td>216.210007</td>\n",
       "      <td>12.1625</td>\n",
       "      <td>14.942701</td>\n",
       "      <td>...</td>\n",
       "      <td>17.055109</td>\n",
       "      <td>36.689999</td>\n",
       "      <td>43.952370</td>\n",
       "      <td>6.873890</td>\n",
       "      <td>18.441526</td>\n",
       "      <td>14.918890</td>\n",
       "      <td>301.311310</td>\n",
       "      <td>133.520004</td>\n",
       "      <td>6.530882</td>\n",
       "      <td>23.879499</td>\n",
       "    </tr>\n",
       "    <tr>\n",
       "      <th>2010-01-10</th>\n",
       "      <td>0.000000</td>\n",
       "      <td>11.10</td>\n",
       "      <td>102.986664</td>\n",
       "      <td>11.765371</td>\n",
       "      <td>44.927525</td>\n",
       "      <td>28.273378</td>\n",
       "      <td>28.260878</td>\n",
       "      <td>216.210007</td>\n",
       "      <td>12.1625</td>\n",
       "      <td>14.942701</td>\n",
       "      <td>...</td>\n",
       "      <td>17.055109</td>\n",
       "      <td>36.689999</td>\n",
       "      <td>43.952370</td>\n",
       "      <td>6.873890</td>\n",
       "      <td>18.441526</td>\n",
       "      <td>14.918890</td>\n",
       "      <td>301.311310</td>\n",
       "      <td>133.520004</td>\n",
       "      <td>6.530882</td>\n",
       "      <td>23.879499</td>\n",
       "    </tr>\n",
       "    <tr>\n",
       "      <th>2010-01-11</th>\n",
       "      <td>-0.001096</td>\n",
       "      <td>10.90</td>\n",
       "      <td>103.763336</td>\n",
       "      <td>11.914511</td>\n",
       "      <td>44.918518</td>\n",
       "      <td>28.400021</td>\n",
       "      <td>28.388178</td>\n",
       "      <td>218.910004</td>\n",
       "      <td>12.2275</td>\n",
       "      <td>14.875555</td>\n",
       "      <td>...</td>\n",
       "      <td>16.816057</td>\n",
       "      <td>36.209999</td>\n",
       "      <td>43.901749</td>\n",
       "      <td>6.829206</td>\n",
       "      <td>18.389183</td>\n",
       "      <td>15.004833</td>\n",
       "      <td>300.855865</td>\n",
       "      <td>130.309998</td>\n",
       "      <td>6.473268</td>\n",
       "      <td>23.575750</td>\n",
       "    </tr>\n",
       "    <tr>\n",
       "      <th>2010-01-12</th>\n",
       "      <td>-0.003379</td>\n",
       "      <td>10.26</td>\n",
       "      <td>101.463333</td>\n",
       "      <td>10.522551</td>\n",
       "      <td>44.007900</td>\n",
       "      <td>28.200068</td>\n",
       "      <td>28.388178</td>\n",
       "      <td>213.979996</td>\n",
       "      <td>12.1200</td>\n",
       "      <td>15.128645</td>\n",
       "      <td>...</td>\n",
       "      <td>16.246025</td>\n",
       "      <td>35.660000</td>\n",
       "      <td>44.516521</td>\n",
       "      <td>6.707326</td>\n",
       "      <td>18.097532</td>\n",
       "      <td>14.761323</td>\n",
       "      <td>295.535522</td>\n",
       "      <td>127.349998</td>\n",
       "      <td>6.399635</td>\n",
       "      <td>23.419973</td>\n",
       "    </tr>\n",
       "    <tr>\n",
       "      <th>2010-01-13</th>\n",
       "      <td>0.003332</td>\n",
       "      <td>10.46</td>\n",
       "      <td>102.013336</td>\n",
       "      <td>10.489408</td>\n",
       "      <td>44.144257</td>\n",
       "      <td>28.406679</td>\n",
       "      <td>28.715527</td>\n",
       "      <td>214.300003</td>\n",
       "      <td>12.2225</td>\n",
       "      <td>15.097653</td>\n",
       "      <td>...</td>\n",
       "      <td>16.466686</td>\n",
       "      <td>36.279999</td>\n",
       "      <td>44.878143</td>\n",
       "      <td>6.812954</td>\n",
       "      <td>18.426571</td>\n",
       "      <td>15.011992</td>\n",
       "      <td>293.838837</td>\n",
       "      <td>129.110001</td>\n",
       "      <td>6.489905</td>\n",
       "      <td>23.638054</td>\n",
       "    </tr>\n",
       "  </tbody>\n",
       "</table>\n",
       "<p>10 rows × 29 columns</p>\n",
       "</div>"
      ],
      "text/plain": [
       "                 QQQ     MU        ISRG       TMUS        CME        ADP  \\\n",
       "2010-01-04       NaN  10.85  102.923332  13.207044  44.038776  28.546648   \n",
       "2010-01-05  0.000000  11.17  102.459999  13.240186  44.002773  28.393362   \n",
       "2010-01-06 -0.001623  11.22  103.946671  12.345354  43.704395  28.326714   \n",
       "2010-01-07  0.000175  10.84  103.556664  12.461351  43.758408  28.313377   \n",
       "2010-01-08  0.002202  11.10  102.986664  11.765371  44.927525  28.273378   \n",
       "2010-01-09  0.000000  11.10  102.986664  11.765371  44.927525  28.273378   \n",
       "2010-01-10  0.000000  11.10  102.986664  11.765371  44.927525  28.273378   \n",
       "2010-01-11 -0.001096  10.90  103.763336  11.914511  44.918518  28.400021   \n",
       "2010-01-12 -0.003379  10.26  101.463333  10.522551  44.007900  28.200068   \n",
       "2010-01-13  0.003332  10.46  102.013336  10.489408  44.144257  28.406679   \n",
       "\n",
       "                 INTU        BKNG     FISV       MDLZ  ...       NVDA  \\\n",
       "2010-01-04  28.015366  223.960007  12.3575  14.167932  ...  16.999943   \n",
       "2010-01-05  28.015366  226.559998  12.4100  14.860062  ...  17.248186   \n",
       "2010-01-06  27.624369  219.080002  12.3575  14.963362  ...  17.358511   \n",
       "2010-01-07  27.533443  216.130005  12.3000  14.927206  ...  17.018332   \n",
       "2010-01-08  28.260878  216.210007  12.1625  14.942701  ...  17.055109   \n",
       "2010-01-09  28.260878  216.210007  12.1625  14.942701  ...  17.055109   \n",
       "2010-01-10  28.260878  216.210007  12.1625  14.942701  ...  17.055109   \n",
       "2010-01-11  28.388178  218.910004  12.2275  14.875555  ...  16.816057   \n",
       "2010-01-12  28.388178  213.979996  12.1200  15.128645  ...  16.246025   \n",
       "2010-01-13  28.715527  214.300003  12.2225  15.097653  ...  16.466686   \n",
       "\n",
       "                 ADBE        PEP     CMCSA       CSCO       INTC       GOOGL  \\\n",
       "2010-01-04  37.090000  44.292305  6.894205  18.463966  14.954695  313.688690   \n",
       "2010-01-05  37.700001  44.827515  6.800767  18.381708  14.947535  312.307312   \n",
       "2010-01-06  37.619999  44.379101  6.752012  18.262053  14.897401  304.434448   \n",
       "2010-01-07  36.889999  44.097023  6.894205  18.344311  14.754156  297.347351   \n",
       "2010-01-08  36.689999  43.952370  6.873890  18.441526  14.918890  301.311310   \n",
       "2010-01-09  36.689999  43.952370  6.873890  18.441526  14.918890  301.311310   \n",
       "2010-01-10  36.689999  43.952370  6.873890  18.441526  14.918890  301.311310   \n",
       "2010-01-11  36.209999  43.901749  6.829206  18.389183  15.004833  300.855865   \n",
       "2010-01-12  35.660000  44.516521  6.707326  18.097532  14.761323  295.535522   \n",
       "2010-01-13  36.279999  44.878143  6.812954  18.426571  15.011992  293.838837   \n",
       "\n",
       "                  AMZN      AAPL       MSFT  \n",
       "2010-01-04  133.899994  6.593423  24.105360  \n",
       "2010-01-05  134.690002  6.604822  24.113148  \n",
       "2010-01-06  132.250000  6.499765  23.965164  \n",
       "2010-01-07  130.000000  6.487749  23.715933  \n",
       "2010-01-08  133.520004  6.530882  23.879499  \n",
       "2010-01-09  133.520004  6.530882  23.879499  \n",
       "2010-01-10  133.520004  6.530882  23.879499  \n",
       "2010-01-11  130.309998  6.473268  23.575750  \n",
       "2010-01-12  127.349998  6.399635  23.419973  \n",
       "2010-01-13  129.110001  6.489905  23.638054  \n",
       "\n",
       "[10 rows x 29 columns]"
      ]
     },
     "execution_count": 29,
     "metadata": {},
     "output_type": "execute_result"
    }
   ],
   "source": [
    "stock_data_return.head(10)"
   ]
  },
  {
   "cell_type": "markdown",
   "metadata": {},
   "source": [
    "Visually inspect the obtained daily adjusted returns:"
   ]
  },
  {
   "cell_type": "code",
   "execution_count": 30,
   "metadata": {},
   "outputs": [
    {
     "data": {
      "image/png": "[encoded data removed]",
      "text/plain": [
       "<Figure size 1080x360 with 1 Axes>"
      ]
     },
     "metadata": {
      "needs_background": "light"
     },
     "output_type": "display_data"
    }
   ],
   "source": [
    "plt.rcParams['figure.figsize'] = [15, 5]\n",
    "fig = plt.figure()\n",
    "ax = fig.add_subplot(111)\n",
    "\n",
    "# plot daily market returns\n",
    "ax.plot(stock_data_return.index, stock_data_return['QQQ'])\n",
    "\n",
    "# rotate x-tick labels\n",
    "for tick in ax.get_xticklabels():\n",
    "    tick.set_rotation(45)\n",
    "\n",
    "# set axis labels and limits\n",
    "ax.set_xlabel('[time]', fontsize=10)\n",
    "ax.set_xlim([pd.to_datetime('01-01-2010'), pd.to_datetime('31-12-2019')])\n",
    "ax.set_ylabel('[daily QQQ returns]', fontsize=10)\n",
    "\n",
    "# set plot title\n",
    "plt.title('Invesco QQQ Trust Series 1 - Daily Historical Adjusted Log-Returns', fontsize=10);"
   ]
  },
  {
   "cell_type": "markdown",
   "metadata": {},
   "source": [
    "Determine the daily returns of the remaining NASDAQ Top 30 daily adjusted closing prices using the `pct_change()` function of the `Pandas` library:"
   ]
  },
  {
   "cell_type": "code",
   "execution_count": 31,
   "metadata": {},
   "outputs": [],
   "source": [
    "# iterate over distinct ticker symbols\n",
    "for symbol in symbols:\n",
    "    \n",
    "    # compute the log of the ticker symbols daily adjusted closing prices\n",
    "    stock_data_return[symbol] = np.log(stock_data_return[symbol]) \n",
    "    \n",
    "    # determine daily log-returns based of the ticker symbol daily adjusted closing prices\n",
    "    stock_data_return[symbol] = stock_data_return[symbol].pct_change()"
   ]
  },
  {
   "cell_type": "markdown",
   "metadata": {},
   "source": [
    "Inspect the daily returns of the adjusted closing prices:"
   ]
  },
  {
   "cell_type": "code",
   "execution_count": 32,
   "metadata": {},
   "outputs": [
    {
     "data": {
      "text/html": [
       "<div>\n",
       "<style scoped>\n",
       "    .dataframe tbody tr th:only-of-type {\n",
       "        vertical-align: middle;\n",
       "    }\n",
       "\n",
       "    .dataframe tbody tr th {\n",
       "        vertical-align: top;\n",
       "    }\n",
       "\n",
       "    .dataframe thead th {\n",
       "        text-align: right;\n",
       "    }\n",
       "</style>\n",
       "<table border=\"1\" class=\"dataframe\">\n",
       "  <thead>\n",
       "    <tr style=\"text-align: right;\">\n",
       "      <th></th>\n",
       "      <th>QQQ</th>\n",
       "      <th>MU</th>\n",
       "      <th>ISRG</th>\n",
       "      <th>TMUS</th>\n",
       "      <th>CME</th>\n",
       "      <th>ADP</th>\n",
       "      <th>INTU</th>\n",
       "      <th>BKNG</th>\n",
       "      <th>FISV</th>\n",
       "      <th>MDLZ</th>\n",
       "      <th>...</th>\n",
       "      <th>NVDA</th>\n",
       "      <th>ADBE</th>\n",
       "      <th>PEP</th>\n",
       "      <th>CMCSA</th>\n",
       "      <th>CSCO</th>\n",
       "      <th>INTC</th>\n",
       "      <th>GOOGL</th>\n",
       "      <th>AMZN</th>\n",
       "      <th>AAPL</th>\n",
       "      <th>MSFT</th>\n",
       "    </tr>\n",
       "  </thead>\n",
       "  <tbody>\n",
       "    <tr>\n",
       "      <th>2010-01-04</th>\n",
       "      <td>NaN</td>\n",
       "      <td>NaN</td>\n",
       "      <td>NaN</td>\n",
       "      <td>NaN</td>\n",
       "      <td>NaN</td>\n",
       "      <td>NaN</td>\n",
       "      <td>NaN</td>\n",
       "      <td>NaN</td>\n",
       "      <td>NaN</td>\n",
       "      <td>NaN</td>\n",
       "      <td>...</td>\n",
       "      <td>NaN</td>\n",
       "      <td>NaN</td>\n",
       "      <td>NaN</td>\n",
       "      <td>NaN</td>\n",
       "      <td>NaN</td>\n",
       "      <td>NaN</td>\n",
       "      <td>NaN</td>\n",
       "      <td>NaN</td>\n",
       "      <td>NaN</td>\n",
       "      <td>NaN</td>\n",
       "    </tr>\n",
       "    <tr>\n",
       "      <th>2010-01-05</th>\n",
       "      <td>0.000000</td>\n",
       "      <td>0.012191</td>\n",
       "      <td>-0.000974</td>\n",
       "      <td>0.000971</td>\n",
       "      <td>-0.000216</td>\n",
       "      <td>-0.001606</td>\n",
       "      <td>0.000000</td>\n",
       "      <td>0.002133</td>\n",
       "      <td>0.001686</td>\n",
       "      <td>0.017992</td>\n",
       "      <td>...</td>\n",
       "      <td>0.005117</td>\n",
       "      <td>0.004515</td>\n",
       "      <td>0.003168</td>\n",
       "      <td>-0.007068</td>\n",
       "      <td>-0.001531</td>\n",
       "      <td>-0.000177</td>\n",
       "      <td>-0.000768</td>\n",
       "      <td>0.001201</td>\n",
       "      <td>0.000916</td>\n",
       "      <td>0.000102</td>\n",
       "    </tr>\n",
       "    <tr>\n",
       "      <th>2010-01-06</th>\n",
       "      <td>-0.001623</td>\n",
       "      <td>0.001851</td>\n",
       "      <td>0.003112</td>\n",
       "      <td>-0.027089</td>\n",
       "      <td>-0.001798</td>\n",
       "      <td>-0.000702</td>\n",
       "      <td>-0.004217</td>\n",
       "      <td>-0.006191</td>\n",
       "      <td>-0.001683</td>\n",
       "      <td>0.002567</td>\n",
       "      <td>...</td>\n",
       "      <td>0.002239</td>\n",
       "      <td>-0.000585</td>\n",
       "      <td>-0.002644</td>\n",
       "      <td>-0.003753</td>\n",
       "      <td>-0.002243</td>\n",
       "      <td>-0.001242</td>\n",
       "      <td>-0.004445</td>\n",
       "      <td>-0.003729</td>\n",
       "      <td>-0.008493</td>\n",
       "      <td>-0.001934</td>\n",
       "    </tr>\n",
       "    <tr>\n",
       "      <th>2010-01-07</th>\n",
       "      <td>0.000175</td>\n",
       "      <td>-0.014251</td>\n",
       "      <td>-0.000809</td>\n",
       "      <td>0.003721</td>\n",
       "      <td>0.000327</td>\n",
       "      <td>-0.000141</td>\n",
       "      <td>-0.000993</td>\n",
       "      <td>-0.002515</td>\n",
       "      <td>-0.001855</td>\n",
       "      <td>-0.000894</td>\n",
       "      <td>...</td>\n",
       "      <td>-0.006935</td>\n",
       "      <td>-0.005402</td>\n",
       "      <td>-0.001681</td>\n",
       "      <td>0.010912</td>\n",
       "      <td>0.001547</td>\n",
       "      <td>-0.003577</td>\n",
       "      <td>-0.004119</td>\n",
       "      <td>-0.003513</td>\n",
       "      <td>-0.000989</td>\n",
       "      <td>-0.003291</td>\n",
       "    </tr>\n",
       "    <tr>\n",
       "      <th>2010-01-08</th>\n",
       "      <td>0.002202</td>\n",
       "      <td>0.009945</td>\n",
       "      <td>-0.001190</td>\n",
       "      <td>-0.022782</td>\n",
       "      <td>0.006978</td>\n",
       "      <td>-0.000423</td>\n",
       "      <td>0.007865</td>\n",
       "      <td>0.000069</td>\n",
       "      <td>-0.004480</td>\n",
       "      <td>0.000384</td>\n",
       "      <td>...</td>\n",
       "      <td>0.000762</td>\n",
       "      <td>-0.001507</td>\n",
       "      <td>-0.000868</td>\n",
       "      <td>-0.001528</td>\n",
       "      <td>0.001817</td>\n",
       "      <td>0.004125</td>\n",
       "      <td>0.002325</td>\n",
       "      <td>0.005489</td>\n",
       "      <td>0.003544</td>\n",
       "      <td>0.002171</td>\n",
       "    </tr>\n",
       "    <tr>\n",
       "      <th>2010-01-09</th>\n",
       "      <td>0.000000</td>\n",
       "      <td>0.000000</td>\n",
       "      <td>0.000000</td>\n",
       "      <td>0.000000</td>\n",
       "      <td>0.000000</td>\n",
       "      <td>0.000000</td>\n",
       "      <td>0.000000</td>\n",
       "      <td>0.000000</td>\n",
       "      <td>0.000000</td>\n",
       "      <td>0.000000</td>\n",
       "      <td>...</td>\n",
       "      <td>0.000000</td>\n",
       "      <td>0.000000</td>\n",
       "      <td>0.000000</td>\n",
       "      <td>0.000000</td>\n",
       "      <td>0.000000</td>\n",
       "      <td>0.000000</td>\n",
       "      <td>0.000000</td>\n",
       "      <td>0.000000</td>\n",
       "      <td>0.000000</td>\n",
       "      <td>0.000000</td>\n",
       "    </tr>\n",
       "    <tr>\n",
       "      <th>2010-01-10</th>\n",
       "      <td>0.000000</td>\n",
       "      <td>0.000000</td>\n",
       "      <td>0.000000</td>\n",
       "      <td>0.000000</td>\n",
       "      <td>0.000000</td>\n",
       "      <td>0.000000</td>\n",
       "      <td>0.000000</td>\n",
       "      <td>0.000000</td>\n",
       "      <td>0.000000</td>\n",
       "      <td>0.000000</td>\n",
       "      <td>...</td>\n",
       "      <td>0.000000</td>\n",
       "      <td>0.000000</td>\n",
       "      <td>0.000000</td>\n",
       "      <td>0.000000</td>\n",
       "      <td>0.000000</td>\n",
       "      <td>0.000000</td>\n",
       "      <td>0.000000</td>\n",
       "      <td>0.000000</td>\n",
       "      <td>0.000000</td>\n",
       "      <td>0.000000</td>\n",
       "    </tr>\n",
       "    <tr>\n",
       "      <th>2010-01-11</th>\n",
       "      <td>-0.001096</td>\n",
       "      <td>-0.007554</td>\n",
       "      <td>0.001621</td>\n",
       "      <td>0.005110</td>\n",
       "      <td>-0.000053</td>\n",
       "      <td>0.001337</td>\n",
       "      <td>0.001345</td>\n",
       "      <td>0.002308</td>\n",
       "      <td>0.002133</td>\n",
       "      <td>-0.001665</td>\n",
       "      <td>...</td>\n",
       "      <td>-0.004976</td>\n",
       "      <td>-0.003655</td>\n",
       "      <td>-0.000305</td>\n",
       "      <td>-0.003383</td>\n",
       "      <td>-0.000975</td>\n",
       "      <td>0.002125</td>\n",
       "      <td>-0.000265</td>\n",
       "      <td>-0.004972</td>\n",
       "      <td>-0.004722</td>\n",
       "      <td>-0.004035</td>\n",
       "    </tr>\n",
       "    <tr>\n",
       "      <th>2010-01-12</th>\n",
       "      <td>-0.003379</td>\n",
       "      <td>-0.025331</td>\n",
       "      <td>-0.004829</td>\n",
       "      <td>-0.050141</td>\n",
       "      <td>-0.005383</td>\n",
       "      <td>-0.002111</td>\n",
       "      <td>0.000000</td>\n",
       "      <td>-0.004227</td>\n",
       "      <td>-0.003527</td>\n",
       "      <td>0.006249</td>\n",
       "      <td>...</td>\n",
       "      <td>-0.012219</td>\n",
       "      <td>-0.004264</td>\n",
       "      <td>0.003677</td>\n",
       "      <td>-0.009373</td>\n",
       "      <td>-0.005490</td>\n",
       "      <td>-0.006041</td>\n",
       "      <td>-0.003127</td>\n",
       "      <td>-0.004718</td>\n",
       "      <td>-0.006125</td>\n",
       "      <td>-0.002098</td>\n",
       "    </tr>\n",
       "    <tr>\n",
       "      <th>2010-01-13</th>\n",
       "      <td>0.003332</td>\n",
       "      <td>0.008292</td>\n",
       "      <td>0.001170</td>\n",
       "      <td>-0.001340</td>\n",
       "      <td>0.000817</td>\n",
       "      <td>0.002186</td>\n",
       "      <td>0.003427</td>\n",
       "      <td>0.000278</td>\n",
       "      <td>0.003376</td>\n",
       "      <td>-0.000755</td>\n",
       "      <td>...</td>\n",
       "      <td>0.004839</td>\n",
       "      <td>0.004823</td>\n",
       "      <td>0.002131</td>\n",
       "      <td>0.008210</td>\n",
       "      <td>0.006222</td>\n",
       "      <td>0.006255</td>\n",
       "      <td>-0.001012</td>\n",
       "      <td>0.002832</td>\n",
       "      <td>0.007546</td>\n",
       "      <td>0.002939</td>\n",
       "    </tr>\n",
       "  </tbody>\n",
       "</table>\n",
       "<p>10 rows × 29 columns</p>\n",
       "</div>"
      ],
      "text/plain": [
       "                 QQQ        MU      ISRG      TMUS       CME       ADP  \\\n",
       "2010-01-04       NaN       NaN       NaN       NaN       NaN       NaN   \n",
       "2010-01-05  0.000000  0.012191 -0.000974  0.000971 -0.000216 -0.001606   \n",
       "2010-01-06 -0.001623  0.001851  0.003112 -0.027089 -0.001798 -0.000702   \n",
       "2010-01-07  0.000175 -0.014251 -0.000809  0.003721  0.000327 -0.000141   \n",
       "2010-01-08  0.002202  0.009945 -0.001190 -0.022782  0.006978 -0.000423   \n",
       "2010-01-09  0.000000  0.000000  0.000000  0.000000  0.000000  0.000000   \n",
       "2010-01-10  0.000000  0.000000  0.000000  0.000000  0.000000  0.000000   \n",
       "2010-01-11 -0.001096 -0.007554  0.001621  0.005110 -0.000053  0.001337   \n",
       "2010-01-12 -0.003379 -0.025331 -0.004829 -0.050141 -0.005383 -0.002111   \n",
       "2010-01-13  0.003332  0.008292  0.001170 -0.001340  0.000817  0.002186   \n",
       "\n",
       "                INTU      BKNG      FISV      MDLZ  ...      NVDA      ADBE  \\\n",
       "2010-01-04       NaN       NaN       NaN       NaN  ...       NaN       NaN   \n",
       "2010-01-05  0.000000  0.002133  0.001686  0.017992  ...  0.005117  0.004515   \n",
       "2010-01-06 -0.004217 -0.006191 -0.001683  0.002567  ...  0.002239 -0.000585   \n",
       "2010-01-07 -0.000993 -0.002515 -0.001855 -0.000894  ... -0.006935 -0.005402   \n",
       "2010-01-08  0.007865  0.000069 -0.004480  0.000384  ...  0.000762 -0.001507   \n",
       "2010-01-09  0.000000  0.000000  0.000000  0.000000  ...  0.000000  0.000000   \n",
       "2010-01-10  0.000000  0.000000  0.000000  0.000000  ...  0.000000  0.000000   \n",
       "2010-01-11  0.001345  0.002308  0.002133 -0.001665  ... -0.004976 -0.003655   \n",
       "2010-01-12  0.000000 -0.004227 -0.003527  0.006249  ... -0.012219 -0.004264   \n",
       "2010-01-13  0.003427  0.000278  0.003376 -0.000755  ...  0.004839  0.004823   \n",
       "\n",
       "                 PEP     CMCSA      CSCO      INTC     GOOGL      AMZN  \\\n",
       "2010-01-04       NaN       NaN       NaN       NaN       NaN       NaN   \n",
       "2010-01-05  0.003168 -0.007068 -0.001531 -0.000177 -0.000768  0.001201   \n",
       "2010-01-06 -0.002644 -0.003753 -0.002243 -0.001242 -0.004445 -0.003729   \n",
       "2010-01-07 -0.001681  0.010912  0.001547 -0.003577 -0.004119 -0.003513   \n",
       "2010-01-08 -0.000868 -0.001528  0.001817  0.004125  0.002325  0.005489   \n",
       "2010-01-09  0.000000  0.000000  0.000000  0.000000  0.000000  0.000000   \n",
       "2010-01-10  0.000000  0.000000  0.000000  0.000000  0.000000  0.000000   \n",
       "2010-01-11 -0.000305 -0.003383 -0.000975  0.002125 -0.000265 -0.004972   \n",
       "2010-01-12  0.003677 -0.009373 -0.005490 -0.006041 -0.003127 -0.004718   \n",
       "2010-01-13  0.002131  0.008210  0.006222  0.006255 -0.001012  0.002832   \n",
       "\n",
       "                AAPL      MSFT  \n",
       "2010-01-04       NaN       NaN  \n",
       "2010-01-05  0.000916  0.000102  \n",
       "2010-01-06 -0.008493 -0.001934  \n",
       "2010-01-07 -0.000989 -0.003291  \n",
       "2010-01-08  0.003544  0.002171  \n",
       "2010-01-09  0.000000  0.000000  \n",
       "2010-01-10  0.000000  0.000000  \n",
       "2010-01-11 -0.004722 -0.004035  \n",
       "2010-01-12 -0.006125 -0.002098  \n",
       "2010-01-13  0.007546  0.002939  \n",
       "\n",
       "[10 rows x 29 columns]"
      ]
     },
     "execution_count": 32,
     "metadata": {},
     "output_type": "execute_result"
    }
   ],
   "source": [
    "stock_data_return.head(10)"
   ]
  },
  {
   "cell_type": "markdown",
   "metadata": {},
   "source": [
    "Remove the first row corresponding to a `nan` daily return of the stock data dataframe: "
   ]
  },
  {
   "cell_type": "code",
   "execution_count": 33,
   "metadata": {},
   "outputs": [],
   "source": [
    "stock_data_return = stock_data_return.iloc[1:]"
   ]
  },
  {
   "cell_type": "markdown",
   "metadata": {},
   "source": [
    "Inspect the daily returns of the adjusted closing prices for the removed row:"
   ]
  },
  {
   "cell_type": "code",
   "execution_count": 34,
   "metadata": {},
   "outputs": [
    {
     "data": {
      "text/html": [
       "<div>\n",
       "<style scoped>\n",
       "    .dataframe tbody tr th:only-of-type {\n",
       "        vertical-align: middle;\n",
       "    }\n",
       "\n",
       "    .dataframe tbody tr th {\n",
       "        vertical-align: top;\n",
       "    }\n",
       "\n",
       "    .dataframe thead th {\n",
       "        text-align: right;\n",
       "    }\n",
       "</style>\n",
       "<table border=\"1\" class=\"dataframe\">\n",
       "  <thead>\n",
       "    <tr style=\"text-align: right;\">\n",
       "      <th></th>\n",
       "      <th>QQQ</th>\n",
       "      <th>MU</th>\n",
       "      <th>ISRG</th>\n",
       "      <th>TMUS</th>\n",
       "      <th>CME</th>\n",
       "      <th>ADP</th>\n",
       "      <th>INTU</th>\n",
       "      <th>BKNG</th>\n",
       "      <th>FISV</th>\n",
       "      <th>MDLZ</th>\n",
       "      <th>...</th>\n",
       "      <th>NVDA</th>\n",
       "      <th>ADBE</th>\n",
       "      <th>PEP</th>\n",
       "      <th>CMCSA</th>\n",
       "      <th>CSCO</th>\n",
       "      <th>INTC</th>\n",
       "      <th>GOOGL</th>\n",
       "      <th>AMZN</th>\n",
       "      <th>AAPL</th>\n",
       "      <th>MSFT</th>\n",
       "    </tr>\n",
       "  </thead>\n",
       "  <tbody>\n",
       "    <tr>\n",
       "      <th>2010-01-05</th>\n",
       "      <td>0.000000</td>\n",
       "      <td>0.012191</td>\n",
       "      <td>-0.000974</td>\n",
       "      <td>0.000971</td>\n",
       "      <td>-0.000216</td>\n",
       "      <td>-0.001606</td>\n",
       "      <td>0.000000</td>\n",
       "      <td>0.002133</td>\n",
       "      <td>0.001686</td>\n",
       "      <td>0.017992</td>\n",
       "      <td>...</td>\n",
       "      <td>0.005117</td>\n",
       "      <td>0.004515</td>\n",
       "      <td>0.003168</td>\n",
       "      <td>-0.007068</td>\n",
       "      <td>-0.001531</td>\n",
       "      <td>-0.000177</td>\n",
       "      <td>-0.000768</td>\n",
       "      <td>0.001201</td>\n",
       "      <td>0.000916</td>\n",
       "      <td>0.000102</td>\n",
       "    </tr>\n",
       "    <tr>\n",
       "      <th>2010-01-06</th>\n",
       "      <td>-0.001623</td>\n",
       "      <td>0.001851</td>\n",
       "      <td>0.003112</td>\n",
       "      <td>-0.027089</td>\n",
       "      <td>-0.001798</td>\n",
       "      <td>-0.000702</td>\n",
       "      <td>-0.004217</td>\n",
       "      <td>-0.006191</td>\n",
       "      <td>-0.001683</td>\n",
       "      <td>0.002567</td>\n",
       "      <td>...</td>\n",
       "      <td>0.002239</td>\n",
       "      <td>-0.000585</td>\n",
       "      <td>-0.002644</td>\n",
       "      <td>-0.003753</td>\n",
       "      <td>-0.002243</td>\n",
       "      <td>-0.001242</td>\n",
       "      <td>-0.004445</td>\n",
       "      <td>-0.003729</td>\n",
       "      <td>-0.008493</td>\n",
       "      <td>-0.001934</td>\n",
       "    </tr>\n",
       "    <tr>\n",
       "      <th>2010-01-07</th>\n",
       "      <td>0.000175</td>\n",
       "      <td>-0.014251</td>\n",
       "      <td>-0.000809</td>\n",
       "      <td>0.003721</td>\n",
       "      <td>0.000327</td>\n",
       "      <td>-0.000141</td>\n",
       "      <td>-0.000993</td>\n",
       "      <td>-0.002515</td>\n",
       "      <td>-0.001855</td>\n",
       "      <td>-0.000894</td>\n",
       "      <td>...</td>\n",
       "      <td>-0.006935</td>\n",
       "      <td>-0.005402</td>\n",
       "      <td>-0.001681</td>\n",
       "      <td>0.010912</td>\n",
       "      <td>0.001547</td>\n",
       "      <td>-0.003577</td>\n",
       "      <td>-0.004119</td>\n",
       "      <td>-0.003513</td>\n",
       "      <td>-0.000989</td>\n",
       "      <td>-0.003291</td>\n",
       "    </tr>\n",
       "    <tr>\n",
       "      <th>2010-01-08</th>\n",
       "      <td>0.002202</td>\n",
       "      <td>0.009945</td>\n",
       "      <td>-0.001190</td>\n",
       "      <td>-0.022782</td>\n",
       "      <td>0.006978</td>\n",
       "      <td>-0.000423</td>\n",
       "      <td>0.007865</td>\n",
       "      <td>0.000069</td>\n",
       "      <td>-0.004480</td>\n",
       "      <td>0.000384</td>\n",
       "      <td>...</td>\n",
       "      <td>0.000762</td>\n",
       "      <td>-0.001507</td>\n",
       "      <td>-0.000868</td>\n",
       "      <td>-0.001528</td>\n",
       "      <td>0.001817</td>\n",
       "      <td>0.004125</td>\n",
       "      <td>0.002325</td>\n",
       "      <td>0.005489</td>\n",
       "      <td>0.003544</td>\n",
       "      <td>0.002171</td>\n",
       "    </tr>\n",
       "    <tr>\n",
       "      <th>2010-01-09</th>\n",
       "      <td>0.000000</td>\n",
       "      <td>0.000000</td>\n",
       "      <td>0.000000</td>\n",
       "      <td>0.000000</td>\n",
       "      <td>0.000000</td>\n",
       "      <td>0.000000</td>\n",
       "      <td>0.000000</td>\n",
       "      <td>0.000000</td>\n",
       "      <td>0.000000</td>\n",
       "      <td>0.000000</td>\n",
       "      <td>...</td>\n",
       "      <td>0.000000</td>\n",
       "      <td>0.000000</td>\n",
       "      <td>0.000000</td>\n",
       "      <td>0.000000</td>\n",
       "      <td>0.000000</td>\n",
       "      <td>0.000000</td>\n",
       "      <td>0.000000</td>\n",
       "      <td>0.000000</td>\n",
       "      <td>0.000000</td>\n",
       "      <td>0.000000</td>\n",
       "    </tr>\n",
       "    <tr>\n",
       "      <th>2010-01-10</th>\n",
       "      <td>0.000000</td>\n",
       "      <td>0.000000</td>\n",
       "      <td>0.000000</td>\n",
       "      <td>0.000000</td>\n",
       "      <td>0.000000</td>\n",
       "      <td>0.000000</td>\n",
       "      <td>0.000000</td>\n",
       "      <td>0.000000</td>\n",
       "      <td>0.000000</td>\n",
       "      <td>0.000000</td>\n",
       "      <td>...</td>\n",
       "      <td>0.000000</td>\n",
       "      <td>0.000000</td>\n",
       "      <td>0.000000</td>\n",
       "      <td>0.000000</td>\n",
       "      <td>0.000000</td>\n",
       "      <td>0.000000</td>\n",
       "      <td>0.000000</td>\n",
       "      <td>0.000000</td>\n",
       "      <td>0.000000</td>\n",
       "      <td>0.000000</td>\n",
       "    </tr>\n",
       "    <tr>\n",
       "      <th>2010-01-11</th>\n",
       "      <td>-0.001096</td>\n",
       "      <td>-0.007554</td>\n",
       "      <td>0.001621</td>\n",
       "      <td>0.005110</td>\n",
       "      <td>-0.000053</td>\n",
       "      <td>0.001337</td>\n",
       "      <td>0.001345</td>\n",
       "      <td>0.002308</td>\n",
       "      <td>0.002133</td>\n",
       "      <td>-0.001665</td>\n",
       "      <td>...</td>\n",
       "      <td>-0.004976</td>\n",
       "      <td>-0.003655</td>\n",
       "      <td>-0.000305</td>\n",
       "      <td>-0.003383</td>\n",
       "      <td>-0.000975</td>\n",
       "      <td>0.002125</td>\n",
       "      <td>-0.000265</td>\n",
       "      <td>-0.004972</td>\n",
       "      <td>-0.004722</td>\n",
       "      <td>-0.004035</td>\n",
       "    </tr>\n",
       "    <tr>\n",
       "      <th>2010-01-12</th>\n",
       "      <td>-0.003379</td>\n",
       "      <td>-0.025331</td>\n",
       "      <td>-0.004829</td>\n",
       "      <td>-0.050141</td>\n",
       "      <td>-0.005383</td>\n",
       "      <td>-0.002111</td>\n",
       "      <td>0.000000</td>\n",
       "      <td>-0.004227</td>\n",
       "      <td>-0.003527</td>\n",
       "      <td>0.006249</td>\n",
       "      <td>...</td>\n",
       "      <td>-0.012219</td>\n",
       "      <td>-0.004264</td>\n",
       "      <td>0.003677</td>\n",
       "      <td>-0.009373</td>\n",
       "      <td>-0.005490</td>\n",
       "      <td>-0.006041</td>\n",
       "      <td>-0.003127</td>\n",
       "      <td>-0.004718</td>\n",
       "      <td>-0.006125</td>\n",
       "      <td>-0.002098</td>\n",
       "    </tr>\n",
       "    <tr>\n",
       "      <th>2010-01-13</th>\n",
       "      <td>0.003332</td>\n",
       "      <td>0.008292</td>\n",
       "      <td>0.001170</td>\n",
       "      <td>-0.001340</td>\n",
       "      <td>0.000817</td>\n",
       "      <td>0.002186</td>\n",
       "      <td>0.003427</td>\n",
       "      <td>0.000278</td>\n",
       "      <td>0.003376</td>\n",
       "      <td>-0.000755</td>\n",
       "      <td>...</td>\n",
       "      <td>0.004839</td>\n",
       "      <td>0.004823</td>\n",
       "      <td>0.002131</td>\n",
       "      <td>0.008210</td>\n",
       "      <td>0.006222</td>\n",
       "      <td>0.006255</td>\n",
       "      <td>-0.001012</td>\n",
       "      <td>0.002832</td>\n",
       "      <td>0.007546</td>\n",
       "      <td>0.002939</td>\n",
       "    </tr>\n",
       "    <tr>\n",
       "      <th>2010-01-14</th>\n",
       "      <td>0.000232</td>\n",
       "      <td>0.010856</td>\n",
       "      <td>0.001380</td>\n",
       "      <td>-0.006775</td>\n",
       "      <td>-0.001141</td>\n",
       "      <td>-0.000842</td>\n",
       "      <td>0.001880</td>\n",
       "      <td>-0.004871</td>\n",
       "      <td>-0.001146</td>\n",
       "      <td>-0.001389</td>\n",
       "      <td>...</td>\n",
       "      <td>-0.005625</td>\n",
       "      <td>-0.002932</td>\n",
       "      <td>0.003158</td>\n",
       "      <td>-0.003117</td>\n",
       "      <td>0.004291</td>\n",
       "      <td>0.009047</td>\n",
       "      <td>0.000825</td>\n",
       "      <td>-0.002824</td>\n",
       "      <td>-0.003106</td>\n",
       "      <td>0.006292</td>\n",
       "    </tr>\n",
       "  </tbody>\n",
       "</table>\n",
       "<p>10 rows × 29 columns</p>\n",
       "</div>"
      ],
      "text/plain": [
       "                 QQQ        MU      ISRG      TMUS       CME       ADP  \\\n",
       "2010-01-05  0.000000  0.012191 -0.000974  0.000971 -0.000216 -0.001606   \n",
       "2010-01-06 -0.001623  0.001851  0.003112 -0.027089 -0.001798 -0.000702   \n",
       "2010-01-07  0.000175 -0.014251 -0.000809  0.003721  0.000327 -0.000141   \n",
       "2010-01-08  0.002202  0.009945 -0.001190 -0.022782  0.006978 -0.000423   \n",
       "2010-01-09  0.000000  0.000000  0.000000  0.000000  0.000000  0.000000   \n",
       "2010-01-10  0.000000  0.000000  0.000000  0.000000  0.000000  0.000000   \n",
       "2010-01-11 -0.001096 -0.007554  0.001621  0.005110 -0.000053  0.001337   \n",
       "2010-01-12 -0.003379 -0.025331 -0.004829 -0.050141 -0.005383 -0.002111   \n",
       "2010-01-13  0.003332  0.008292  0.001170 -0.001340  0.000817  0.002186   \n",
       "2010-01-14  0.000232  0.010856  0.001380 -0.006775 -0.001141 -0.000842   \n",
       "\n",
       "                INTU      BKNG      FISV      MDLZ  ...      NVDA      ADBE  \\\n",
       "2010-01-05  0.000000  0.002133  0.001686  0.017992  ...  0.005117  0.004515   \n",
       "2010-01-06 -0.004217 -0.006191 -0.001683  0.002567  ...  0.002239 -0.000585   \n",
       "2010-01-07 -0.000993 -0.002515 -0.001855 -0.000894  ... -0.006935 -0.005402   \n",
       "2010-01-08  0.007865  0.000069 -0.004480  0.000384  ...  0.000762 -0.001507   \n",
       "2010-01-09  0.000000  0.000000  0.000000  0.000000  ...  0.000000  0.000000   \n",
       "2010-01-10  0.000000  0.000000  0.000000  0.000000  ...  0.000000  0.000000   \n",
       "2010-01-11  0.001345  0.002308  0.002133 -0.001665  ... -0.004976 -0.003655   \n",
       "2010-01-12  0.000000 -0.004227 -0.003527  0.006249  ... -0.012219 -0.004264   \n",
       "2010-01-13  0.003427  0.000278  0.003376 -0.000755  ...  0.004839  0.004823   \n",
       "2010-01-14  0.001880 -0.004871 -0.001146 -0.001389  ... -0.005625 -0.002932   \n",
       "\n",
       "                 PEP     CMCSA      CSCO      INTC     GOOGL      AMZN  \\\n",
       "2010-01-05  0.003168 -0.007068 -0.001531 -0.000177 -0.000768  0.001201   \n",
       "2010-01-06 -0.002644 -0.003753 -0.002243 -0.001242 -0.004445 -0.003729   \n",
       "2010-01-07 -0.001681  0.010912  0.001547 -0.003577 -0.004119 -0.003513   \n",
       "2010-01-08 -0.000868 -0.001528  0.001817  0.004125  0.002325  0.005489   \n",
       "2010-01-09  0.000000  0.000000  0.000000  0.000000  0.000000  0.000000   \n",
       "2010-01-10  0.000000  0.000000  0.000000  0.000000  0.000000  0.000000   \n",
       "2010-01-11 -0.000305 -0.003383 -0.000975  0.002125 -0.000265 -0.004972   \n",
       "2010-01-12  0.003677 -0.009373 -0.005490 -0.006041 -0.003127 -0.004718   \n",
       "2010-01-13  0.002131  0.008210  0.006222  0.006255 -0.001012  0.002832   \n",
       "2010-01-14  0.003158 -0.003117  0.004291  0.009047  0.000825 -0.002824   \n",
       "\n",
       "                AAPL      MSFT  \n",
       "2010-01-05  0.000916  0.000102  \n",
       "2010-01-06 -0.008493 -0.001934  \n",
       "2010-01-07 -0.000989 -0.003291  \n",
       "2010-01-08  0.003544  0.002171  \n",
       "2010-01-09  0.000000  0.000000  \n",
       "2010-01-10  0.000000  0.000000  \n",
       "2010-01-11 -0.004722 -0.004035  \n",
       "2010-01-12 -0.006125 -0.002098  \n",
       "2010-01-13  0.007546  0.002939  \n",
       "2010-01-14 -0.003106  0.006292  \n",
       "\n",
       "[10 rows x 29 columns]"
      ]
     },
     "execution_count": 34,
     "metadata": {},
     "output_type": "execute_result"
    }
   ],
   "source": [
    "stock_data_return.head(10)"
   ]
  },
  {
   "cell_type": "markdown",
   "metadata": {},
   "source": [
    "Replace potential missing values `nan` or infinity values (division by zero) `inf` with 0.0:"
   ]
  },
  {
   "cell_type": "code",
   "execution_count": 35,
   "metadata": {},
   "outputs": [],
   "source": [
    "stock_data_return = stock_data_return.replace([np.nan, np.inf, -np.inf], 0.0)"
   ]
  },
  {
   "cell_type": "markdown",
   "metadata": {},
   "source": [
    "Inspect the daily returns of the adjusted closing prices for the replaced values:"
   ]
  },
  {
   "cell_type": "code",
   "execution_count": 36,
   "metadata": {},
   "outputs": [
    {
     "data": {
      "text/html": [
       "<div>\n",
       "<style scoped>\n",
       "    .dataframe tbody tr th:only-of-type {\n",
       "        vertical-align: middle;\n",
       "    }\n",
       "\n",
       "    .dataframe tbody tr th {\n",
       "        vertical-align: top;\n",
       "    }\n",
       "\n",
       "    .dataframe thead th {\n",
       "        text-align: right;\n",
       "    }\n",
       "</style>\n",
       "<table border=\"1\" class=\"dataframe\">\n",
       "  <thead>\n",
       "    <tr style=\"text-align: right;\">\n",
       "      <th></th>\n",
       "      <th>QQQ</th>\n",
       "      <th>MU</th>\n",
       "      <th>ISRG</th>\n",
       "      <th>TMUS</th>\n",
       "      <th>CME</th>\n",
       "      <th>ADP</th>\n",
       "      <th>INTU</th>\n",
       "      <th>BKNG</th>\n",
       "      <th>FISV</th>\n",
       "      <th>MDLZ</th>\n",
       "      <th>...</th>\n",
       "      <th>NVDA</th>\n",
       "      <th>ADBE</th>\n",
       "      <th>PEP</th>\n",
       "      <th>CMCSA</th>\n",
       "      <th>CSCO</th>\n",
       "      <th>INTC</th>\n",
       "      <th>GOOGL</th>\n",
       "      <th>AMZN</th>\n",
       "      <th>AAPL</th>\n",
       "      <th>MSFT</th>\n",
       "    </tr>\n",
       "  </thead>\n",
       "  <tbody>\n",
       "    <tr>\n",
       "      <th>2010-01-05</th>\n",
       "      <td>0.000000</td>\n",
       "      <td>0.012191</td>\n",
       "      <td>-0.000974</td>\n",
       "      <td>0.000971</td>\n",
       "      <td>-0.000216</td>\n",
       "      <td>-0.001606</td>\n",
       "      <td>0.000000</td>\n",
       "      <td>0.002133</td>\n",
       "      <td>0.001686</td>\n",
       "      <td>0.017992</td>\n",
       "      <td>...</td>\n",
       "      <td>0.005117</td>\n",
       "      <td>0.004515</td>\n",
       "      <td>0.003168</td>\n",
       "      <td>-0.007068</td>\n",
       "      <td>-0.001531</td>\n",
       "      <td>-0.000177</td>\n",
       "      <td>-0.000768</td>\n",
       "      <td>0.001201</td>\n",
       "      <td>0.000916</td>\n",
       "      <td>0.000102</td>\n",
       "    </tr>\n",
       "    <tr>\n",
       "      <th>2010-01-06</th>\n",
       "      <td>-0.001623</td>\n",
       "      <td>0.001851</td>\n",
       "      <td>0.003112</td>\n",
       "      <td>-0.027089</td>\n",
       "      <td>-0.001798</td>\n",
       "      <td>-0.000702</td>\n",
       "      <td>-0.004217</td>\n",
       "      <td>-0.006191</td>\n",
       "      <td>-0.001683</td>\n",
       "      <td>0.002567</td>\n",
       "      <td>...</td>\n",
       "      <td>0.002239</td>\n",
       "      <td>-0.000585</td>\n",
       "      <td>-0.002644</td>\n",
       "      <td>-0.003753</td>\n",
       "      <td>-0.002243</td>\n",
       "      <td>-0.001242</td>\n",
       "      <td>-0.004445</td>\n",
       "      <td>-0.003729</td>\n",
       "      <td>-0.008493</td>\n",
       "      <td>-0.001934</td>\n",
       "    </tr>\n",
       "    <tr>\n",
       "      <th>2010-01-07</th>\n",
       "      <td>0.000175</td>\n",
       "      <td>-0.014251</td>\n",
       "      <td>-0.000809</td>\n",
       "      <td>0.003721</td>\n",
       "      <td>0.000327</td>\n",
       "      <td>-0.000141</td>\n",
       "      <td>-0.000993</td>\n",
       "      <td>-0.002515</td>\n",
       "      <td>-0.001855</td>\n",
       "      <td>-0.000894</td>\n",
       "      <td>...</td>\n",
       "      <td>-0.006935</td>\n",
       "      <td>-0.005402</td>\n",
       "      <td>-0.001681</td>\n",
       "      <td>0.010912</td>\n",
       "      <td>0.001547</td>\n",
       "      <td>-0.003577</td>\n",
       "      <td>-0.004119</td>\n",
       "      <td>-0.003513</td>\n",
       "      <td>-0.000989</td>\n",
       "      <td>-0.003291</td>\n",
       "    </tr>\n",
       "    <tr>\n",
       "      <th>2010-01-08</th>\n",
       "      <td>0.002202</td>\n",
       "      <td>0.009945</td>\n",
       "      <td>-0.001190</td>\n",
       "      <td>-0.022782</td>\n",
       "      <td>0.006978</td>\n",
       "      <td>-0.000423</td>\n",
       "      <td>0.007865</td>\n",
       "      <td>0.000069</td>\n",
       "      <td>-0.004480</td>\n",
       "      <td>0.000384</td>\n",
       "      <td>...</td>\n",
       "      <td>0.000762</td>\n",
       "      <td>-0.001507</td>\n",
       "      <td>-0.000868</td>\n",
       "      <td>-0.001528</td>\n",
       "      <td>0.001817</td>\n",
       "      <td>0.004125</td>\n",
       "      <td>0.002325</td>\n",
       "      <td>0.005489</td>\n",
       "      <td>0.003544</td>\n",
       "      <td>0.002171</td>\n",
       "    </tr>\n",
       "    <tr>\n",
       "      <th>2010-01-09</th>\n",
       "      <td>0.000000</td>\n",
       "      <td>0.000000</td>\n",
       "      <td>0.000000</td>\n",
       "      <td>0.000000</td>\n",
       "      <td>0.000000</td>\n",
       "      <td>0.000000</td>\n",
       "      <td>0.000000</td>\n",
       "      <td>0.000000</td>\n",
       "      <td>0.000000</td>\n",
       "      <td>0.000000</td>\n",
       "      <td>...</td>\n",
       "      <td>0.000000</td>\n",
       "      <td>0.000000</td>\n",
       "      <td>0.000000</td>\n",
       "      <td>0.000000</td>\n",
       "      <td>0.000000</td>\n",
       "      <td>0.000000</td>\n",
       "      <td>0.000000</td>\n",
       "      <td>0.000000</td>\n",
       "      <td>0.000000</td>\n",
       "      <td>0.000000</td>\n",
       "    </tr>\n",
       "    <tr>\n",
       "      <th>2010-01-10</th>\n",
       "      <td>0.000000</td>\n",
       "      <td>0.000000</td>\n",
       "      <td>0.000000</td>\n",
       "      <td>0.000000</td>\n",
       "      <td>0.000000</td>\n",
       "      <td>0.000000</td>\n",
       "      <td>0.000000</td>\n",
       "      <td>0.000000</td>\n",
       "      <td>0.000000</td>\n",
       "      <td>0.000000</td>\n",
       "      <td>...</td>\n",
       "      <td>0.000000</td>\n",
       "      <td>0.000000</td>\n",
       "      <td>0.000000</td>\n",
       "      <td>0.000000</td>\n",
       "      <td>0.000000</td>\n",
       "      <td>0.000000</td>\n",
       "      <td>0.000000</td>\n",
       "      <td>0.000000</td>\n",
       "      <td>0.000000</td>\n",
       "      <td>0.000000</td>\n",
       "    </tr>\n",
       "    <tr>\n",
       "      <th>2010-01-11</th>\n",
       "      <td>-0.001096</td>\n",
       "      <td>-0.007554</td>\n",
       "      <td>0.001621</td>\n",
       "      <td>0.005110</td>\n",
       "      <td>-0.000053</td>\n",
       "      <td>0.001337</td>\n",
       "      <td>0.001345</td>\n",
       "      <td>0.002308</td>\n",
       "      <td>0.002133</td>\n",
       "      <td>-0.001665</td>\n",
       "      <td>...</td>\n",
       "      <td>-0.004976</td>\n",
       "      <td>-0.003655</td>\n",
       "      <td>-0.000305</td>\n",
       "      <td>-0.003383</td>\n",
       "      <td>-0.000975</td>\n",
       "      <td>0.002125</td>\n",
       "      <td>-0.000265</td>\n",
       "      <td>-0.004972</td>\n",
       "      <td>-0.004722</td>\n",
       "      <td>-0.004035</td>\n",
       "    </tr>\n",
       "    <tr>\n",
       "      <th>2010-01-12</th>\n",
       "      <td>-0.003379</td>\n",
       "      <td>-0.025331</td>\n",
       "      <td>-0.004829</td>\n",
       "      <td>-0.050141</td>\n",
       "      <td>-0.005383</td>\n",
       "      <td>-0.002111</td>\n",
       "      <td>0.000000</td>\n",
       "      <td>-0.004227</td>\n",
       "      <td>-0.003527</td>\n",
       "      <td>0.006249</td>\n",
       "      <td>...</td>\n",
       "      <td>-0.012219</td>\n",
       "      <td>-0.004264</td>\n",
       "      <td>0.003677</td>\n",
       "      <td>-0.009373</td>\n",
       "      <td>-0.005490</td>\n",
       "      <td>-0.006041</td>\n",
       "      <td>-0.003127</td>\n",
       "      <td>-0.004718</td>\n",
       "      <td>-0.006125</td>\n",
       "      <td>-0.002098</td>\n",
       "    </tr>\n",
       "    <tr>\n",
       "      <th>2010-01-13</th>\n",
       "      <td>0.003332</td>\n",
       "      <td>0.008292</td>\n",
       "      <td>0.001170</td>\n",
       "      <td>-0.001340</td>\n",
       "      <td>0.000817</td>\n",
       "      <td>0.002186</td>\n",
       "      <td>0.003427</td>\n",
       "      <td>0.000278</td>\n",
       "      <td>0.003376</td>\n",
       "      <td>-0.000755</td>\n",
       "      <td>...</td>\n",
       "      <td>0.004839</td>\n",
       "      <td>0.004823</td>\n",
       "      <td>0.002131</td>\n",
       "      <td>0.008210</td>\n",
       "      <td>0.006222</td>\n",
       "      <td>0.006255</td>\n",
       "      <td>-0.001012</td>\n",
       "      <td>0.002832</td>\n",
       "      <td>0.007546</td>\n",
       "      <td>0.002939</td>\n",
       "    </tr>\n",
       "    <tr>\n",
       "      <th>2010-01-14</th>\n",
       "      <td>0.000232</td>\n",
       "      <td>0.010856</td>\n",
       "      <td>0.001380</td>\n",
       "      <td>-0.006775</td>\n",
       "      <td>-0.001141</td>\n",
       "      <td>-0.000842</td>\n",
       "      <td>0.001880</td>\n",
       "      <td>-0.004871</td>\n",
       "      <td>-0.001146</td>\n",
       "      <td>-0.001389</td>\n",
       "      <td>...</td>\n",
       "      <td>-0.005625</td>\n",
       "      <td>-0.002932</td>\n",
       "      <td>0.003158</td>\n",
       "      <td>-0.003117</td>\n",
       "      <td>0.004291</td>\n",
       "      <td>0.009047</td>\n",
       "      <td>0.000825</td>\n",
       "      <td>-0.002824</td>\n",
       "      <td>-0.003106</td>\n",
       "      <td>0.006292</td>\n",
       "    </tr>\n",
       "  </tbody>\n",
       "</table>\n",
       "<p>10 rows × 29 columns</p>\n",
       "</div>"
      ],
      "text/plain": [
       "                 QQQ        MU      ISRG      TMUS       CME       ADP  \\\n",
       "2010-01-05  0.000000  0.012191 -0.000974  0.000971 -0.000216 -0.001606   \n",
       "2010-01-06 -0.001623  0.001851  0.003112 -0.027089 -0.001798 -0.000702   \n",
       "2010-01-07  0.000175 -0.014251 -0.000809  0.003721  0.000327 -0.000141   \n",
       "2010-01-08  0.002202  0.009945 -0.001190 -0.022782  0.006978 -0.000423   \n",
       "2010-01-09  0.000000  0.000000  0.000000  0.000000  0.000000  0.000000   \n",
       "2010-01-10  0.000000  0.000000  0.000000  0.000000  0.000000  0.000000   \n",
       "2010-01-11 -0.001096 -0.007554  0.001621  0.005110 -0.000053  0.001337   \n",
       "2010-01-12 -0.003379 -0.025331 -0.004829 -0.050141 -0.005383 -0.002111   \n",
       "2010-01-13  0.003332  0.008292  0.001170 -0.001340  0.000817  0.002186   \n",
       "2010-01-14  0.000232  0.010856  0.001380 -0.006775 -0.001141 -0.000842   \n",
       "\n",
       "                INTU      BKNG      FISV      MDLZ  ...      NVDA      ADBE  \\\n",
       "2010-01-05  0.000000  0.002133  0.001686  0.017992  ...  0.005117  0.004515   \n",
       "2010-01-06 -0.004217 -0.006191 -0.001683  0.002567  ...  0.002239 -0.000585   \n",
       "2010-01-07 -0.000993 -0.002515 -0.001855 -0.000894  ... -0.006935 -0.005402   \n",
       "2010-01-08  0.007865  0.000069 -0.004480  0.000384  ...  0.000762 -0.001507   \n",
       "2010-01-09  0.000000  0.000000  0.000000  0.000000  ...  0.000000  0.000000   \n",
       "2010-01-10  0.000000  0.000000  0.000000  0.000000  ...  0.000000  0.000000   \n",
       "2010-01-11  0.001345  0.002308  0.002133 -0.001665  ... -0.004976 -0.003655   \n",
       "2010-01-12  0.000000 -0.004227 -0.003527  0.006249  ... -0.012219 -0.004264   \n",
       "2010-01-13  0.003427  0.000278  0.003376 -0.000755  ...  0.004839  0.004823   \n",
       "2010-01-14  0.001880 -0.004871 -0.001146 -0.001389  ... -0.005625 -0.002932   \n",
       "\n",
       "                 PEP     CMCSA      CSCO      INTC     GOOGL      AMZN  \\\n",
       "2010-01-05  0.003168 -0.007068 -0.001531 -0.000177 -0.000768  0.001201   \n",
       "2010-01-06 -0.002644 -0.003753 -0.002243 -0.001242 -0.004445 -0.003729   \n",
       "2010-01-07 -0.001681  0.010912  0.001547 -0.003577 -0.004119 -0.003513   \n",
       "2010-01-08 -0.000868 -0.001528  0.001817  0.004125  0.002325  0.005489   \n",
       "2010-01-09  0.000000  0.000000  0.000000  0.000000  0.000000  0.000000   \n",
       "2010-01-10  0.000000  0.000000  0.000000  0.000000  0.000000  0.000000   \n",
       "2010-01-11 -0.000305 -0.003383 -0.000975  0.002125 -0.000265 -0.004972   \n",
       "2010-01-12  0.003677 -0.009373 -0.005490 -0.006041 -0.003127 -0.004718   \n",
       "2010-01-13  0.002131  0.008210  0.006222  0.006255 -0.001012  0.002832   \n",
       "2010-01-14  0.003158 -0.003117  0.004291  0.009047  0.000825 -0.002824   \n",
       "\n",
       "                AAPL      MSFT  \n",
       "2010-01-05  0.000916  0.000102  \n",
       "2010-01-06 -0.008493 -0.001934  \n",
       "2010-01-07 -0.000989 -0.003291  \n",
       "2010-01-08  0.003544  0.002171  \n",
       "2010-01-09  0.000000  0.000000  \n",
       "2010-01-10  0.000000  0.000000  \n",
       "2010-01-11 -0.004722 -0.004035  \n",
       "2010-01-12 -0.006125 -0.002098  \n",
       "2010-01-13  0.007546  0.002939  \n",
       "2010-01-14 -0.003106  0.006292  \n",
       "\n",
       "[10 rows x 29 columns]"
      ]
     },
     "execution_count": 36,
     "metadata": {},
     "output_type": "execute_result"
    }
   ],
   "source": [
    "stock_data_return.head(10)"
   ]
  },
  {
   "cell_type": "markdown",
   "metadata": {},
   "source": [
    "Save the obtained and validated daily return stock market data to the local data directory:"
   ]
  },
  {
   "cell_type": "code",
   "execution_count": 37,
   "metadata": {},
   "outputs": [],
   "source": [
    "# define the filename of the data to be saved\n",
    "filename = 'qqq_nasdaq_30_daily_returns.csv'\n",
    "\n",
    "# save retrieved data to local data directory\n",
    "stock_data_return.to_csv(os.path.join(data_directory, filename), sep=';', encoding='utf-8')"
   ]
  },
  {
   "cell_type": "markdown",
   "metadata": {},
   "source": [
    "#### 2.3 Train-Validation Data Split"
   ]
  },
  {
   "cell_type": "markdown",
   "metadata": {},
   "source": [
    "To understand and evaluate the performance of any trained **supervised machine learning** model, it is good practice, to divide the dataset into a **training set** or **\"in-sample\"** data (the fraction of data records solely used for training purposes) and a **evaluation set** or **\"out-of-sample\"** data (the fraction of data records solely used for evaluation purposes). Pls. note, the **evaluation set** will never be shown to the model as part of the training process."
   ]
  },
  {
   "cell_type": "markdown",
   "metadata": {},
   "source": [
    "<img align=\"center\" style=\"max-width: 500px\" src=\"traintestsplit.png\">"
   ]
  },
  {
   "cell_type": "markdown",
   "metadata": {},
   "source": [
    "We set the split fraction of training sequences to **90%** of the total number of obtained sequences:"
   ]
  },
  {
   "cell_type": "code",
   "execution_count": 38,
   "metadata": {},
   "outputs": [],
   "source": [
    "split_fraction = 0.9\n",
    "split_row = int(stock_data_return.shape[0] * split_fraction)"
   ]
  },
  {
   "cell_type": "markdown",
   "metadata": {},
   "source": [
    "Split obtained returns into training (\"in-sample\") returns $r^{i}_{train}$ and validation (\"out-of-sample\") returns $r^{i}_{valid}$:"
   ]
  },
  {
   "cell_type": "code",
   "execution_count": 39,
   "metadata": {},
   "outputs": [],
   "source": [
    "train_stock_data_return = stock_data_return.iloc[:split_row]\n",
    "valid_stock_data_return = stock_data_return.iloc[split_row:]"
   ]
  },
  {
   "cell_type": "markdown",
   "metadata": {},
   "source": [
    "Visually inspect the obtained train and validation stock returns:"
   ]
  },
  {
   "cell_type": "code",
   "execution_count": 40,
   "metadata": {},
   "outputs": [
    {
     "data": {
      "image/png": "[encoded data removed]",
      "text/plain": [
       "<Figure size 1080x360 with 1 Axes>"
      ]
     },
     "metadata": {
      "needs_background": "light"
     },
     "output_type": "display_data"
    }
   ],
   "source": [
    "plt.rcParams['figure.figsize'] = [15, 5]\n",
    "fig = plt.figure()\n",
    "ax = fig.add_subplot(111)\n",
    "\n",
    "# plot daily training market returns\n",
    "ax.plot(stock_data_return.index[:split_row,], train_stock_data_return['QQQ'], c='C0', label='train')\n",
    "\n",
    "# plot daily validation market returns\n",
    "ax.plot(stock_data_return.index[split_row:,], valid_stock_data_return['QQQ'], c='C1', label='valid')\n",
    "\n",
    "# rotate x-labels 45 degree angle\n",
    "for tick in ax.get_xticklabels():\n",
    "    tick.set_rotation(45)\n",
    "\n",
    "# set axis labels and limits\n",
    "ax.set_xlabel('[time]', fontsize=10)\n",
    "ax.set_xlim([pd.to_datetime('01-01-2010'), pd.to_datetime('31-12-2019')])\n",
    "ax.set_ylabel('[daily QQQ returns]', fontsize=10)\n",
    "\n",
    "# set plot legend\n",
    "plt.legend(loc=\"lower right\", numpoints=1, fancybox=True)\n",
    "\n",
    "# set plot title\n",
    "plt.title('Invesco QQQ Trust Series 1 - Daily Historical Adjusted Returns Train-Validation Split', fontsize=10);"
   ]
  },
  {
   "cell_type": "markdown",
   "metadata": {},
   "source": [
    "Determine count (shape) of daily return train sequences $r^{i}_{train}$:"
   ]
  },
  {
   "cell_type": "code",
   "execution_count": 41,
   "metadata": {},
   "outputs": [
    {
     "data": {
      "text/plain": [
       "(3283, 29)"
      ]
     },
     "execution_count": 41,
     "metadata": {},
     "output_type": "execute_result"
    }
   ],
   "source": [
    "train_stock_data_return.shape"
   ]
  },
  {
   "cell_type": "markdown",
   "metadata": {},
   "source": [
    "Determine count (shape) of daily return train sequences $r^{i}_{valid}$:"
   ]
  },
  {
   "cell_type": "code",
   "execution_count": 42,
   "metadata": {},
   "outputs": [
    {
     "data": {
      "text/plain": [
       "(365, 29)"
      ]
     },
     "execution_count": 42,
     "metadata": {},
     "output_type": "execute_result"
    }
   ],
   "source": [
    "valid_stock_data_return.shape"
   ]
  },
  {
   "cell_type": "markdown",
   "metadata": {},
   "source": [
    "### 3. Data Sequencing"
   ]
  },
  {
   "cell_type": "markdown",
   "metadata": {},
   "source": [
    "#### 3.1 Time-Series to Sequence Conversion"
   ]
  },
  {
   "cell_type": "markdown",
   "metadata": {},
   "source": [
    "In the following, we determine the number of return time-steps $n$ each individual sequence $s^{i}$ should be comprised of. Each sequence is thereby determined by the number of predictor (return) time-steps $t$ and the prediction (return) horizon $h = t+1$."
   ]
  },
  {
   "cell_type": "markdown",
   "metadata": {},
   "source": [
    "<img align=\"center\" style=\"max-width: 500px\" src=\"timesteps.png\">"
   ]
  },
  {
   "cell_type": "markdown",
   "metadata": {},
   "source": [
    "In this example, we will set the number of predictor (return) time-steps to $t$=4. This indicates that the input sequence of each sample is a vector of 4 sequential daily stock returns (pls. note, the choice of $t$=4 is arbitrary and should be selected through experimentation). Furthermore, we set the return horizon to be predicted to 1, which specifies that we aim to forecast a single future time-step:"
   ]
  },
  {
   "cell_type": "code",
   "execution_count": 43,
   "metadata": {},
   "outputs": [],
   "source": [
    "time_steps = 4 # number of predictor timesteps\n",
    "horizon = 1 # number of timesteps to be predicted\n",
    "sequence_length = time_steps + horizon # determine sequence length"
   ]
  },
  {
   "cell_type": "markdown",
   "metadata": {},
   "source": [
    "Next, we extract sequences $s^i$ of **sequence length: 5 time-steps**. Thereby, we will step-wise iterate (\"rolling window\") over the entire sequence of daily stock returns $r_i$. In each iteration step, we extract an individual sequence of stock returns consisting of $n$ time-steps. The extracted individual sequences of daily closing prices are then collected in a single data frame."
   ]
  },
  {
   "cell_type": "markdown",
   "metadata": {},
   "source": [
    "<img align=\"center\" style=\"max-width: 900px\" src=\"sequences.png\">"
   ]
  },
  {
   "cell_type": "markdown",
   "metadata": {},
   "source": [
    "#### 3.2 In-Sample Target Log-Returns"
   ]
  },
  {
   "cell_type": "markdown",
   "metadata": {},
   "source": [
    "Next, we will determine the number of available **rolling training (\"in-sample\") target sequences**. Remember that each sequence exhibits consists of **a sequence length of 5 time-steps** as defined by the variable `sequence_length` above:"
   ]
  },
  {
   "cell_type": "code",
   "execution_count": 44,
   "metadata": {},
   "outputs": [],
   "source": [
    "no_train_sequences = train_stock_data_return.shape[0] - sequence_length"
   ]
  },
  {
   "cell_type": "markdown",
   "metadata": {},
   "source": [
    "Let's now print the number of available rolling training sequences comprised of 5 daily adjusted log-return time-steps each:"
   ]
  },
  {
   "cell_type": "code",
   "execution_count": 45,
   "metadata": {},
   "outputs": [
    {
     "data": {
      "text/plain": [
       "3278"
      ]
     },
     "execution_count": 45,
     "metadata": {},
     "output_type": "execute_result"
    }
   ],
   "source": [
    "no_train_sequences"
   ]
  },
  {
   "cell_type": "markdown",
   "metadata": {},
   "source": [
    "Initialize a 2D tensor (a 2D array) that contains the target variable we aim to learn to predict as part of the training procedure. The training target corresponds to a **2D tensor of size** `no_train_sequences`$\\times$`sequence_length`. The tensor contains the daily adjusted log-returns of the QQQ: "
   ]
  },
  {
   "cell_type": "code",
   "execution_count": 46,
   "metadata": {},
   "outputs": [],
   "source": [
    "# init the train sequence target daily returns data 2D matrix\n",
    "train_stock_sequence_target_data = np.zeros([no_train_sequences, sequence_length])\n",
    "\n",
    "# init the train sequence target daily dates data 2D matrix\n",
    "train_stock_sequence_target_date = np.empty([no_train_sequences, sequence_length], dtype='datetime64[s]')"
   ]
  },
  {
   "cell_type": "markdown",
   "metadata": {},
   "source": [
    "Let's now fill the created 2D tensor with the rolling sequences of the QQQ's daily adjusted log-returns: "
   ]
  },
  {
   "cell_type": "code",
   "execution_count": 47,
   "metadata": {},
   "outputs": [],
   "source": [
    "# init the sequence count\n",
    "j = 0\n",
    "\n",
    "# iterate over the distinct daily returns of the training dataset\n",
    "while j < (train_stock_data_return.shape[0] - sequence_length):\n",
    "\n",
    "    # determine current training sequence returns\n",
    "    return_sequence = np.array(train_stock_data_return['QQQ'][j:j + sequence_length].T)\n",
    "    \n",
    "    # determine current training sequence dates\n",
    "    date_sequence = np.array(train_stock_data_return.index[j:j + sequence_length].T)\n",
    "    \n",
    "    # fill 2D matrix of train stock target sequences with current sequence\n",
    "    train_stock_sequence_target_data[j, :] = return_sequence\n",
    "    \n",
    "    # fill 2D matrix of train stock target sequences with current sequence\n",
    "    train_stock_sequence_target_date[j, :] = date_sequence\n",
    "    \n",
    "    # increase the sequence count\n",
    "    j += 1"
   ]
  },
  {
   "cell_type": "markdown",
   "metadata": {},
   "source": [
    "Ultimately, let's inspect the final shape of the filled 2D-array of daily adjusted log-return **target training** sequences:"
   ]
  },
  {
   "cell_type": "code",
   "execution_count": 48,
   "metadata": {},
   "outputs": [
    {
     "data": {
      "text/plain": [
       "(3278, 5)"
      ]
     },
     "execution_count": 48,
     "metadata": {},
     "output_type": "execute_result"
    }
   ],
   "source": [
    "train_stock_sequence_target_data.shape"
   ]
  },
  {
   "cell_type": "markdown",
   "metadata": {},
   "source": [
    "Also, inspect the **first 10 sequences** of the initialized and filled 2D-array of daily adjusted log-return target training sequences:"
   ]
  },
  {
   "cell_type": "code",
   "execution_count": 49,
   "metadata": {},
   "outputs": [
    {
     "data": {
      "text/plain": [
       "array([[ 0.        , -0.00162296,  0.00017464,  0.00220223,  0.        ],\n",
       "       [-0.00162296,  0.00017464,  0.00220223,  0.        ,  0.        ],\n",
       "       [ 0.00017464,  0.00220223,  0.        ,  0.        , -0.00109649],\n",
       "       [ 0.00220223,  0.        ,  0.        , -0.00109649, -0.00337873],\n",
       "       [ 0.        ,  0.        , -0.00109649, -0.00337873,  0.00333199],\n",
       "       [ 0.        , -0.00109649, -0.00337873,  0.00333199,  0.00023164],\n",
       "       [-0.00109649, -0.00337873,  0.00333199,  0.00023164, -0.00314184],\n",
       "       [-0.00337873,  0.00333199,  0.00023164, -0.00314184,  0.        ],\n",
       "       [ 0.00333199,  0.00023164, -0.00314184,  0.        ,  0.        ],\n",
       "       [ 0.00023164, -0.00314184,  0.        ,  0.        ,  0.        ]])"
      ]
     },
     "execution_count": 49,
     "metadata": {},
     "output_type": "execute_result"
    }
   ],
   "source": [
    "train_stock_sequence_target_data[0:10, :]"
   ]
  },
  {
   "cell_type": "markdown",
   "metadata": {},
   "source": [
    "And inspect the **last 10 sequences** of the initialized and filled 2D-array of daily adjusted log-return target training sequences:"
   ]
  },
  {
   "cell_type": "code",
   "execution_count": 50,
   "metadata": {},
   "outputs": [
    {
     "data": {
      "text/plain": [
       "array([[-0.00452507,  0.00124323, -0.00492451, -0.0029066 , -0.00628537],\n",
       "       [ 0.00124323, -0.00492451, -0.0029066 , -0.00628537,  0.        ],\n",
       "       [-0.00492451, -0.0029066 , -0.00628537,  0.        ,  0.        ],\n",
       "       [-0.0029066 , -0.00628537,  0.        ,  0.        , -0.00504482],\n",
       "       [-0.00628537,  0.        ,  0.        , -0.00504482,  0.        ],\n",
       "       [ 0.        ,  0.        , -0.00504482,  0.        ,  0.01222979],\n",
       "       [ 0.        , -0.00504482,  0.        ,  0.01222979,  0.00077045],\n",
       "       [-0.00504482,  0.        ,  0.01222979,  0.00077045, -0.0001042 ],\n",
       "       [ 0.        ,  0.01222979,  0.00077045, -0.0001042 ,  0.        ]])"
      ]
     },
     "execution_count": 50,
     "metadata": {},
     "output_type": "execute_result"
    }
   ],
   "source": [
    "train_stock_sequence_target_data[-10:-1, :]"
   ]
  },
  {
   "cell_type": "markdown",
   "metadata": {},
   "source": [
    "#### 3.2 In-Sample Input Log-Returns"
   ]
  },
  {
   "cell_type": "markdown",
   "metadata": {},
   "source": [
    "Next, we will determine the number of available **rolling training (\"in-sample\") input sequences**. Remember that each sequence exhibits consists of a a total number of 5 time-steps as defined by the variable `sequence_length` above. However, we will use several NASDAQ constituents as an input. This will add a third dimension to the input data, defined by the variable `no_input_stocks`, we need to consider when preparing the rolling input training sequences. \n",
    "\n",
    "Initialize a 3D tensor (a 3D array) that contains the input sequences we aim learn from as part of the training procedure. The training input corresponds to a **3D tensor of size:** `no_train_sequences` $\\times$ `sequence_length`$\\times$`no_input_stocks`. The tensor contains the daily adjusted log-returns of the distinct NASDAQ constituents: "
   ]
  },
  {
   "cell_type": "code",
   "execution_count": 51,
   "metadata": {},
   "outputs": [],
   "source": [
    "# init the train sequence input data 3D matrix\n",
    "train_stock_sequence_input_data = np.zeros([no_train_sequences, sequence_length, no_input_stocks])"
   ]
  },
  {
   "cell_type": "markdown",
   "metadata": {},
   "source": [
    "Let's now fill the created 3D tensor with the rolling sequences of the distinct NASDAQ constituents:"
   ]
  },
  {
   "cell_type": "code",
   "execution_count": 52,
   "metadata": {},
   "outputs": [],
   "source": [
    "# iterate over the distinct ticker symbols\n",
    "for i in range(0, len(symbols)):\n",
    "\n",
    "    # init sequence count\n",
    "    j = 0\n",
    "\n",
    "    # iterate over the distinct daily returns of the training dataset\n",
    "    while j < (train_stock_data_return.shape[0] - sequence_length):\n",
    "\n",
    "        # determine current training sequence\n",
    "        sequence = np.array(train_stock_data_return[symbols[i]][j:j + sequence_length].T)\n",
    "\n",
    "        # fill 3D matrix of train stock input sequences with current sequence\n",
    "        train_stock_sequence_input_data[j, :, i] = sequence\n",
    "\n",
    "        # increase sequence count\n",
    "        j += 1"
   ]
  },
  {
   "cell_type": "markdown",
   "metadata": {},
   "source": [
    "Let's inspect the final shape of the filled 3D-array of daily adjusted log-return **input training** sequences:"
   ]
  },
  {
   "cell_type": "code",
   "execution_count": 53,
   "metadata": {},
   "outputs": [
    {
     "data": {
      "text/plain": [
       "(3278, 5, 28)"
      ]
     },
     "execution_count": 53,
     "metadata": {},
     "output_type": "execute_result"
    }
   ],
   "source": [
    "train_stock_sequence_input_data.shape"
   ]
  },
  {
   "cell_type": "markdown",
   "metadata": {},
   "source": [
    "In addition, let's inspect the first 10 sequences of the **first constituent** of the filled 3D-array of daily adjusted log-return input training sequences:"
   ]
  },
  {
   "cell_type": "code",
   "execution_count": 54,
   "metadata": {},
   "outputs": [
    {
     "data": {
      "text/plain": [
       "array([[ 0.01219148,  0.00185076, -0.01425112,  0.00994533,  0.        ],\n",
       "       [ 0.00185076, -0.01425112,  0.00994533,  0.        ,  0.        ],\n",
       "       [-0.01425112,  0.00994533,  0.        ,  0.        , -0.00755413],\n",
       "       [ 0.00994533,  0.        ,  0.        , -0.00755413, -0.02533106],\n",
       "       [ 0.        ,  0.        , -0.00755413, -0.02533106,  0.00829188],\n",
       "       [ 0.        , -0.00755413, -0.02533106,  0.00829188,  0.01085598],\n",
       "       [-0.00755413, -0.02533106,  0.00829188,  0.01085598, -0.02424826],\n",
       "       [-0.02533106,  0.00829188,  0.01085598, -0.02424826,  0.        ],\n",
       "       [ 0.00829188,  0.01085598, -0.02424826,  0.        ,  0.        ],\n",
       "       [ 0.01085598, -0.02424826,  0.        ,  0.        ,  0.        ]])"
      ]
     },
     "execution_count": 54,
     "metadata": {},
     "output_type": "execute_result"
    }
   ],
   "source": [
    "train_stock_sequence_input_data[0:10, :, 0]"
   ]
  },
  {
   "cell_type": "markdown",
   "metadata": {},
   "source": [
    "Also, let's inspect the first 10 sequences of the **last constituent** of the filled 3D-array of daily adjusted log-return input training sequences:"
   ]
  },
  {
   "cell_type": "code",
   "execution_count": 55,
   "metadata": {},
   "outputs": [
    {
     "data": {
      "text/plain": [
       "array([[ 0.0001015 , -0.00193416, -0.003291  ,  0.00217085,  0.        ],\n",
       "       [-0.00193416, -0.003291  ,  0.00217085,  0.        ,  0.        ],\n",
       "       [-0.003291  ,  0.00217085,  0.        ,  0.        , -0.00403454],\n",
       "       [ 0.00217085,  0.        ,  0.        , -0.00403454, -0.00209778],\n",
       "       [ 0.        ,  0.        , -0.00403454, -0.00209778,  0.00293908],\n",
       "       [ 0.        , -0.00403454, -0.00209778,  0.00293908,  0.00629158],\n",
       "       [-0.00403454, -0.00209778,  0.00293908,  0.00629158, -0.00101648],\n",
       "       [-0.00209778,  0.00293908,  0.00629158, -0.00101648,  0.        ],\n",
       "       [ 0.00293908,  0.00629158, -0.00101648,  0.        ,  0.        ],\n",
       "       [ 0.00629158, -0.00101648,  0.        ,  0.        ,  0.        ]])"
      ]
     },
     "execution_count": 55,
     "metadata": {},
     "output_type": "execute_result"
    }
   ],
   "source": [
    "train_stock_sequence_input_data[0:10, :, -1]"
   ]
  },
  {
   "cell_type": "markdown",
   "metadata": {},
   "source": [
    "#### 3.3 Out-of-Sample Output Log-Returns"
   ]
  },
  {
   "cell_type": "markdown",
   "metadata": {},
   "source": [
    "Now, we will determine the number of available **rolling validation (\"out-of-sample\") target sequences**. Remember again that each sequence exhibits consists of a a total number of 5 time-steps as defined by the variable `sequence_length` above:"
   ]
  },
  {
   "cell_type": "code",
   "execution_count": 56,
   "metadata": {},
   "outputs": [],
   "source": [
    "# determine max valid index\n",
    "no_valid_sequences = valid_stock_data_return.shape[0] - sequence_length"
   ]
  },
  {
   "cell_type": "markdown",
   "metadata": {},
   "source": [
    "Let's now print the number of available validation training comprised of 5 daily adjusted log-return time-steps each:"
   ]
  },
  {
   "cell_type": "code",
   "execution_count": 57,
   "metadata": {},
   "outputs": [
    {
     "data": {
      "text/plain": [
       "360"
      ]
     },
     "execution_count": 57,
     "metadata": {},
     "output_type": "execute_result"
    }
   ],
   "source": [
    "no_valid_sequences"
   ]
  },
  {
   "cell_type": "markdown",
   "metadata": {},
   "source": [
    "Initialize a 2D tensor (a 2D array) that contains the target variable we aimed to learn to predict as part of the training procedure. The validation target corresponds to a **2D tensor of size** `no_valid_sequences`$\\times$`sequence_length`. The tensor contains the daily adjusted log-returns of the QQQ: "
   ]
  },
  {
   "cell_type": "code",
   "execution_count": 58,
   "metadata": {},
   "outputs": [],
   "source": [
    "# init the valid sequence target daily returns data 2D matrix\n",
    "valid_stock_sequence_target_data = np.zeros([no_valid_sequences, sequence_length])\n",
    "\n",
    "# init the valid sequence target daily dates data 2D matrix\n",
    "valid_stock_sequence_target_date = np.empty([no_valid_sequences, sequence_length], dtype='datetime64[s]')"
   ]
  },
  {
   "cell_type": "markdown",
   "metadata": {},
   "source": [
    "Let's now again fill the created 2D tensor with the rolling sequences of the QQQ's daily adjusted log-returns: "
   ]
  },
  {
   "cell_type": "code",
   "execution_count": 59,
   "metadata": {},
   "outputs": [],
   "source": [
    "# init sequence count\n",
    "j = 0\n",
    "\n",
    "# iterate over the distinct daily returns of the validation dataset\n",
    "while j < (valid_stock_data_return.shape[0] - sequence_length):\n",
    "\n",
    "    # determine current validation sequence returns\n",
    "    return_sequence = np.array(valid_stock_data_return['QQQ'][j:j + sequence_length].T)\n",
    "    \n",
    "    # determine current validation sequence dates\n",
    "    date_sequence = np.array(valid_stock_data_return.index[j:j + sequence_length].T)\n",
    "\n",
    "    # fill 2D matrix of valid stock target sequences with current sequence\n",
    "    valid_stock_sequence_target_data[j, :] = return_sequence\n",
    "    \n",
    "    # fill 2D matrix of valid stock target sequences with current sequence\n",
    "    valid_stock_sequence_target_date[j, :] = date_sequence\n",
    "\n",
    "    # increase sequence count\n",
    "    j += 1"
   ]
  },
  {
   "cell_type": "markdown",
   "metadata": {},
   "source": [
    "Ultimately, let's inspect the final shape of the filled 2D-array of daily adjusted log-return **target validation** sequences:"
   ]
  },
  {
   "cell_type": "code",
   "execution_count": 60,
   "metadata": {},
   "outputs": [
    {
     "data": {
      "text/plain": [
       "(360, 5)"
      ]
     },
     "execution_count": 60,
     "metadata": {},
     "output_type": "execute_result"
    }
   ],
   "source": [
    "valid_stock_sequence_target_data.shape"
   ]
  },
  {
   "cell_type": "markdown",
   "metadata": {},
   "source": [
    "Also, inspect the **first 10 sequences** of the initialized and filled 2D-array of daily adjusted log-return target validation sequences:"
   ]
  },
  {
   "cell_type": "code",
   "execution_count": 61,
   "metadata": {},
   "outputs": [
    {
     "data": {
      "text/plain": [
       "array([[ 0.        ,  0.00079829, -0.00660517,  0.00838637,  0.        ],\n",
       "       [ 0.00079829, -0.00660517,  0.00838637,  0.        ,  0.        ],\n",
       "       [-0.00660517,  0.00838637,  0.        ,  0.        ,  0.00234944],\n",
       "       [ 0.00838637,  0.        ,  0.        ,  0.00234944,  0.0017834 ],\n",
       "       [ 0.        ,  0.        ,  0.00234944,  0.0017834 ,  0.0016046 ],\n",
       "       [ 0.        ,  0.00234944,  0.0017834 ,  0.0016046 ,  0.00056373],\n",
       "       [ 0.00234944,  0.0017834 ,  0.0016046 ,  0.00056373, -0.00072299],\n",
       "       [ 0.0017834 ,  0.0016046 ,  0.00056373, -0.00072299,  0.        ],\n",
       "       [ 0.0016046 ,  0.00056373, -0.00072299,  0.        ,  0.        ],\n",
       "       [ 0.00056373, -0.00072299,  0.        ,  0.        , -0.00175221]])"
      ]
     },
     "execution_count": 61,
     "metadata": {},
     "output_type": "execute_result"
    }
   ],
   "source": [
    "valid_stock_sequence_target_data[0:10, :]"
   ]
  },
  {
   "cell_type": "markdown",
   "metadata": {},
   "source": [
    "And inspect the **last 10 sequences** of the initialized and filled 2D-array of daily adjusted log-return target validation sequences:"
   ]
  },
  {
   "cell_type": "code",
   "execution_count": 62,
   "metadata": {},
   "outputs": [
    {
     "data": {
      "text/plain": [
       "array([[ 1.07438081e-04,  1.43153408e-04,  1.16767058e-03,\n",
       "         7.52907572e-04,  0.00000000e+00],\n",
       "       [ 1.43153408e-04,  1.16767058e-03,  7.52907572e-04,\n",
       "         0.00000000e+00,  0.00000000e+00],\n",
       "       [ 1.16767058e-03,  7.52907572e-04,  0.00000000e+00,\n",
       "         0.00000000e+00,  4.93281862e-04],\n",
       "       [ 7.52907572e-04,  0.00000000e+00,  0.00000000e+00,\n",
       "         4.93281862e-04,  9.70577586e-05],\n",
       "       [ 0.00000000e+00,  0.00000000e+00,  4.93281862e-04,\n",
       "         9.70577586e-05,  0.00000000e+00],\n",
       "       [ 0.00000000e+00,  4.93281862e-04,  9.70577586e-05,\n",
       "         0.00000000e+00,  1.64195675e-03],\n",
       "       [ 4.93281862e-04,  9.70577586e-05,  0.00000000e+00,\n",
       "         1.64195675e-03, -1.57156631e-04],\n",
       "       [ 9.70577586e-05,  0.00000000e+00,  1.64195675e-03,\n",
       "        -1.57156631e-04,  0.00000000e+00],\n",
       "       [ 0.00000000e+00,  1.64195675e-03, -1.57156631e-04,\n",
       "         0.00000000e+00,  0.00000000e+00]])"
      ]
     },
     "execution_count": 62,
     "metadata": {},
     "output_type": "execute_result"
    }
   ],
   "source": [
    "valid_stock_sequence_target_data[-10:-1, :]"
   ]
  },
  {
   "cell_type": "markdown",
   "metadata": {},
   "source": [
    "#### 3.4 Out-of-Sample Input Log-Returns"
   ]
  },
  {
   "cell_type": "markdown",
   "metadata": {},
   "source": [
    "Following, we will determine the number of available **rolling training (\"out-of-sample\") input sequences**. Remember that each sequence exhibits consists of a a total number of 5 time-steps as defined by the variable `sequence_length` above. However, we will use several NASDAQ constituents as an input. Again, this will add a third dimension to the input data, defined by the variable `no_input_stocks`, we need to consider when preparing the rolling input validation sequences. \n",
    "\n",
    "Initialize a 3D tensor (a 3D array) that contains the input sequences we aim to use in the validation procedure. The validation input corresponds to a **3D tensor of size** `no_valid_sequences` $\\times$ `sequence_length`$\\times$`no_input_stocks`. The tensor contains the daily adjusted log-returns of the distinct NASDAQ constituents: "
   ]
  },
  {
   "cell_type": "code",
   "execution_count": 63,
   "metadata": {},
   "outputs": [],
   "source": [
    "# init the valid sequence input data 3D matrix\n",
    "valid_stock_sequence_input_data = np.zeros([no_valid_sequences, sequence_length, no_input_stocks])"
   ]
  },
  {
   "cell_type": "markdown",
   "metadata": {},
   "source": [
    "Let's now fill the created 3D tensor with the rolling sequences of the distinct NASDAQ constituents:"
   ]
  },
  {
   "cell_type": "code",
   "execution_count": 64,
   "metadata": {},
   "outputs": [],
   "source": [
    "# iterate over distinct ticker symbols\n",
    "for i in range(0, len(symbols)):\n",
    "\n",
    "    # init sequence count\n",
    "    j = 0\n",
    "\n",
    "    # iterate over the distinct daily returns of the training dataset\n",
    "    while j < (valid_stock_data_return.shape[0] - sequence_length):\n",
    "\n",
    "        # determine current training sequence\n",
    "        sequence = np.array(valid_stock_data_return[symbols[i]][j:j + sequence_length].T)\n",
    "\n",
    "        # fill 3D matrix of train stock input sequences with current sequence\n",
    "        valid_stock_sequence_input_data[j, :, i] = sequence\n",
    "\n",
    "        # increase sequence count\n",
    "        j += 1"
   ]
  },
  {
   "cell_type": "markdown",
   "metadata": {},
   "source": [
    "Let's inspect the final shape of the filled 3D-array of daily adjusted log-return **input validation** sequences:"
   ]
  },
  {
   "cell_type": "code",
   "execution_count": 65,
   "metadata": {},
   "outputs": [
    {
     "data": {
      "text/plain": [
       "(360, 5, 28)"
      ]
     },
     "execution_count": 65,
     "metadata": {},
     "output_type": "execute_result"
    }
   ],
   "source": [
    "valid_stock_sequence_input_data.shape"
   ]
  },
  {
   "cell_type": "markdown",
   "metadata": {},
   "source": [
    "In addition, let's inspect the first 10 sequences of the **first constituent** of the filled 3D-array of daily adjusted log-return input validation sequences:"
   ]
  },
  {
   "cell_type": "code",
   "execution_count": 66,
   "metadata": {},
   "outputs": [
    {
     "data": {
      "text/plain": [
       "array([[ 0.        ,  0.00915186, -0.01574012,  0.01554691,  0.        ],\n",
       "       [ 0.00915186, -0.01574012,  0.01554691,  0.        ,  0.        ],\n",
       "       [-0.01574012,  0.01554691,  0.        ,  0.        ,  0.01117902],\n",
       "       [ 0.01554691,  0.        ,  0.        ,  0.01117902, -0.00217686],\n",
       "       [ 0.        ,  0.        ,  0.01117902, -0.00217686,  0.01397027],\n",
       "       [ 0.        ,  0.01117902, -0.00217686,  0.01397027,  0.00369263],\n",
       "       [ 0.01117902, -0.00217686,  0.01397027,  0.00369263,  0.00077655],\n",
       "       [-0.00217686,  0.01397027,  0.00369263,  0.00077655,  0.        ],\n",
       "       [ 0.01397027,  0.00369263,  0.00077655,  0.        ,  0.        ],\n",
       "       [ 0.00369263,  0.00077655,  0.        ,  0.        , -0.01058149]])"
      ]
     },
     "execution_count": 66,
     "metadata": {},
     "output_type": "execute_result"
    }
   ],
   "source": [
    "valid_stock_sequence_input_data[0:10, :, 0]"
   ]
  },
  {
   "cell_type": "markdown",
   "metadata": {},
   "source": [
    "Also, let's inspect the first 10 sequences of the **last constituent** of the filled 3D-array of daily adjusted log-return input validation sequences:"
   ]
  },
  {
   "cell_type": "code",
   "execution_count": 67,
   "metadata": {},
   "outputs": [
    {
     "data": {
      "text/plain": [
       "array([[ 0.        , -0.00096622, -0.00816401,  0.00998332,  0.        ],\n",
       "       [-0.00096622, -0.00816401,  0.00998332,  0.        ,  0.        ],\n",
       "       [-0.00816401,  0.00998332,  0.        ,  0.        ,  0.00027715],\n",
       "       [ 0.00998332,  0.        ,  0.        ,  0.00027715,  0.0015704 ],\n",
       "       [ 0.        ,  0.        ,  0.00027715,  0.0015704 ,  0.00308151],\n",
       "       [ 0.        ,  0.00027715,  0.0015704 ,  0.00308151, -0.00139474],\n",
       "       [ 0.00027715,  0.0015704 ,  0.00308151, -0.00139474, -0.00167964],\n",
       "       [ 0.0015704 ,  0.00308151, -0.00139474, -0.00167964,  0.        ],\n",
       "       [ 0.00308151, -0.00139474, -0.00167964,  0.        ,  0.        ],\n",
       "       [-0.00139474, -0.00167964,  0.        ,  0.        , -0.00158922]])"
      ]
     },
     "execution_count": 67,
     "metadata": {},
     "output_type": "execute_result"
    }
   ],
   "source": [
    "valid_stock_sequence_input_data[0:10, :, -1]"
   ]
  },
  {
   "cell_type": "markdown",
   "metadata": {},
   "source": [
    "### 4. Data Preparation"
   ]
  },
  {
   "cell_type": "markdown",
   "metadata": {},
   "source": [
    "Before we finalize the data preparation, let's briefly revisit how RNN's or, more specifically, LSTM based NN's can be trained to predict the next element of an input sequence. The cartoon below is derived from the \"Next Word Predictor\" Example that we also discussed in the course. For each **input return** $r_{i}$ of the input return training sequence $s^i$ the LSTM is supposed to learn to **predict the return** of the next time-step $\\hat{r}_{i+1}$. In order to make such a future return $\\hat{r}_{i+1}$ prediction the LSTM uses it's learned hidden state information $h_{i}$ as well as the current return $r_{i}$ as an input."
   ]
  },
  {
   "cell_type": "markdown",
   "metadata": {},
   "source": [
    "#### 4.1 Input-Target Data Preparation"
   ]
  },
  {
   "cell_type": "markdown",
   "metadata": {},
   "source": [
    "For each time-step the predicted return $\\hat{r}_{i+1}$ is then compared to the **target return** $r_{i+1}$. The discrepancy between both is collected as a loss $\\mathcal{L}$ for the distinct timesteps. The accumulation of the individual time-step losses is accumulated as the total loss of a sequence $\\mathcal{L}_{All}$."
   ]
  },
  {
   "cell_type": "markdown",
   "metadata": {},
   "source": [
    "<img align=\"center\" style=\"max-width: 600px\" src=\"training.png\">"
   ]
  },
  {
   "cell_type": "markdown",
   "metadata": {},
   "source": [
    "In order to establish the LSTM training setup outlined above each input training sequence $s^{i}_{train}$ is sliced to result in an offset sequence of input-train-sequence return time-steps denoted by $s^{i}_{train, input}=\\{r_{1}, ..., r_{t-1}\\}$. Furthermore, each target training sequence $s^{i}_{train}$ is sliced to result in an offset sequence of target-train-sequence return time-steps denoted by $s^{i}_{train, target}=\\{r_{2}, ..., r_{t}\\}$. An example of the applied sequence offset given a sequence length of five time-steps is shown hereafter: "
   ]
  },
  {
   "cell_type": "markdown",
   "metadata": {},
   "source": [
    "<img align=\"center\" style=\"max-width: 800px\" src=\"sequencesplit.png\">"
   ]
  },
  {
   "cell_type": "markdown",
   "metadata": {},
   "source": [
    "Let's now determine the introduced offset of the target training sequences: "
   ]
  },
  {
   "cell_type": "code",
   "execution_count": 68,
   "metadata": {},
   "outputs": [],
   "source": [
    "train_sequences_target = train_stock_sequence_target_data[:, 1:]"
   ]
  },
  {
   "cell_type": "markdown",
   "metadata": {},
   "source": [
    "Check the derived dimensionality of the **target-train-sequences** tensor:"
   ]
  },
  {
   "cell_type": "code",
   "execution_count": 69,
   "metadata": {},
   "outputs": [
    {
     "data": {
      "text/plain": [
       "(3278, 4)"
      ]
     },
     "execution_count": 69,
     "metadata": {},
     "output_type": "execute_result"
    }
   ],
   "source": [
    "train_sequences_target.shape"
   ]
  },
  {
   "cell_type": "markdown",
   "metadata": {},
   "source": [
    "Also let's determine the introduced offset of the input training sequences: "
   ]
  },
  {
   "cell_type": "code",
   "execution_count": 70,
   "metadata": {},
   "outputs": [],
   "source": [
    "train_sequences_input = train_stock_sequence_input_data[:, :-1, :]"
   ]
  },
  {
   "cell_type": "markdown",
   "metadata": {},
   "source": [
    "Check the derived dimensionality of the **input-train-sequences** tensor:"
   ]
  },
  {
   "cell_type": "code",
   "execution_count": 71,
   "metadata": {},
   "outputs": [
    {
     "data": {
      "text/plain": [
       "(3278, 4, 28)"
      ]
     },
     "execution_count": 71,
     "metadata": {},
     "output_type": "execute_result"
    }
   ],
   "source": [
    "train_sequences_input.shape"
   ]
  },
  {
   "cell_type": "markdown",
   "metadata": {},
   "source": [
    "In a next step we will likewise process each input validation sequence $s^{i}_{valid}$. The input validation sequences are sliced to also result in offset sequences of input-validation-sequence return time-steps denoted by $s^{i}_{valid, input}=\\{r_{1}, ..., r_{t-1}\\}$. Furthermore, each target validation sequence $s^{i}_{valid}$ is sliced to result in an offset sequence of target-validation-sequence return time-steps denoted by $s^{i}_{valid, target}=\\{r_{2}, ..., r_{t}\\}$."
   ]
  },
  {
   "cell_type": "markdown",
   "metadata": {},
   "source": [
    "Let's determine the introduced offset of the target validation sequences: "
   ]
  },
  {
   "cell_type": "code",
   "execution_count": 72,
   "metadata": {},
   "outputs": [],
   "source": [
    "valid_sequences_target = valid_stock_sequence_target_data[:, 1:]"
   ]
  },
  {
   "cell_type": "markdown",
   "metadata": {},
   "source": [
    "Check the derived dimensionality of the **target-validation-sequences** tensor:"
   ]
  },
  {
   "cell_type": "code",
   "execution_count": 73,
   "metadata": {},
   "outputs": [
    {
     "data": {
      "text/plain": [
       "(360, 4)"
      ]
     },
     "execution_count": 73,
     "metadata": {},
     "output_type": "execute_result"
    }
   ],
   "source": [
    "valid_sequences_target.shape"
   ]
  },
  {
   "cell_type": "code",
   "execution_count": 74,
   "metadata": {},
   "outputs": [],
   "source": [
    "valid_sequences_input = valid_stock_sequence_input_data[:, :-1, :]"
   ]
  },
  {
   "cell_type": "markdown",
   "metadata": {},
   "source": [
    "Check the derived dimensionality of the **input-validation-sequences** tensor:"
   ]
  },
  {
   "cell_type": "code",
   "execution_count": 75,
   "metadata": {},
   "outputs": [
    {
     "data": {
      "text/plain": [
       "(360, 4, 28)"
      ]
     },
     "execution_count": 75,
     "metadata": {},
     "output_type": "execute_result"
    }
   ],
   "source": [
    "valid_sequences_input.shape"
   ]
  },
  {
   "cell_type": "markdown",
   "metadata": {},
   "source": [
    "#### 4.2 Dataset Class Preparation"
   ]
  },
  {
   "cell_type": "markdown",
   "metadata": {},
   "source": [
    "In order to process data using arbitrary neural network implemented in `PyTorch` it is necessary to convert the data into the `PyTorch` tensor format. This allows the library to store and update gradient information corresponding to a particular dataset when throughout the network training. Therefore, in the following cell, we convert the training and validation sequences into a `PyTorch` tensor format:"
   ]
  },
  {
   "cell_type": "code",
   "execution_count": 76,
   "metadata": {},
   "outputs": [],
   "source": [
    "# convert training data to torch tensor\n",
    "train_sequences_target = torch.from_numpy(train_sequences_target).float()\n",
    "train_sequences_input = torch.from_numpy(train_sequences_input).float()\n",
    "\n",
    "# convert validation data to torch tensor\n",
    "valid_sequences_target = torch.from_numpy(valid_sequences_target).float()\n",
    "valid_sequences_input = torch.from_numpy(valid_sequences_input).float()"
   ]
  },
  {
   "cell_type": "markdown",
   "metadata": {},
   "source": [
    "You may recall from previous labs that the training of neural network models is conducted in a stochastic (mini-)batch wise procedure. To retrieve the prepared training and validation data in such (mini-)batches we tailor the `dataset` class provided by the `PyTorch` library accordingly.\n",
    "\n",
    "Therefore, we inherit and overwrite the individual functions of the `dataset` class. So that our dataset will supply the neural network with the individual batches of training sequences $s^{i}_{train, input}$ and corresponding batches of training targets $s^{i}_{train, target}$ throughout the model training process:"
   ]
  },
  {
   "cell_type": "code",
   "execution_count": 77,
   "metadata": {},
   "outputs": [],
   "source": [
    "# define daily returns dataset\n",
    "class DailyReturnsDataset(data.Dataset):\n",
    "\n",
    "    # define the class constructor\n",
    "    def __init__(self, inputs, targets):\n",
    "\n",
    "        # init innput sequences and corresponding target sequences\n",
    "        self.inputs = inputs\n",
    "        self.targets = targets\n",
    "\n",
    "    # define the length method \n",
    "    def __len__(self):\n",
    "\n",
    "        # returns the number of samples\n",
    "        return len(self.targets)\n",
    "\n",
    "    # define get item method\n",
    "    def __getitem__(self, index):\n",
    "\n",
    "        # determine single input sequence and target sequences batch\n",
    "        input_batch = self.inputs[index, :, :]\n",
    "        target_batch = self.targets[index, :]\n",
    "\n",
    "        # return input and target sequences batch\n",
    "        return input_batch, target_batch"
   ]
  },
  {
   "cell_type": "markdown",
   "metadata": {},
   "source": [
    "Once we have overwritten the dataset class we instantiate it using the prepared `PyTorch` tensor of input return sequences and the `PyTorch` tensor of target return sequences. This will allow us to retrieve both batches of input return sequences and corresponding batches of target return sequences:"
   ]
  },
  {
   "cell_type": "code",
   "execution_count": 78,
   "metadata": {},
   "outputs": [],
   "source": [
    "train_dataset = DailyReturnsDataset(inputs=train_sequences_input, targets=train_sequences_target)"
   ]
  },
  {
   "cell_type": "markdown",
   "metadata": {},
   "source": [
    "Let's see how it works by getting the 42th sequence and its corresponding targets:"
   ]
  },
  {
   "cell_type": "code",
   "execution_count": 79,
   "metadata": {},
   "outputs": [],
   "source": [
    "train_input, train_target = train_dataset.__getitem__(42)"
   ]
  },
  {
   "cell_type": "markdown",
   "metadata": {},
   "source": [
    "Let's now likewise instantiate a daily closing dataset using the prepared validation input sequences $s^{i}_{valid, input}$ and corresponding targets $s^{i}_{valid, target}$: "
   ]
  },
  {
   "cell_type": "code",
   "execution_count": 80,
   "metadata": {},
   "outputs": [],
   "source": [
    "valid_dataset = DailyReturnsDataset(inputs=valid_sequences_input, targets=valid_sequences_target)"
   ]
  },
  {
   "cell_type": "markdown",
   "metadata": {},
   "source": [
    "Let's see how it works by getting the 42th sequence and its corresponding targets:"
   ]
  },
  {
   "cell_type": "code",
   "execution_count": 81,
   "metadata": {},
   "outputs": [],
   "source": [
    "valid_input, valid_target = valid_dataset.__getitem__(42)"
   ]
  },
  {
   "cell_type": "markdown",
   "metadata": {},
   "source": [
    "### 3. Neural Network Implementation"
   ]
  },
  {
   "cell_type": "markdown",
   "metadata": {},
   "source": [
    "In this section, we will implement the LSTM architecture of the to be learned time series model. Upon successful implementation we will specify the distinct neural network training parameters, such us the loss-function, learning-rate and optimization technique used throughout the training process."
   ]
  },
  {
   "cell_type": "markdown",
   "metadata": {},
   "source": [
    "#### 3.1. LSTM Architecture Implementation"
   ]
  },
  {
   "cell_type": "markdown",
   "metadata": {},
   "source": [
    "In this section, we will implement the architecture of the LSTM neural network utilized to predict future returns of financial time series data, e.g. as in this example, the future returns of the QQQ and the underlying NASDAQ Top 28 constituents. The neural network, which we name **\"LSTMNet_Many2One\"** consists in total of two `LSTMCell` layers (to extract the temporal features) and three non-linear fully-connected layers (the predict the returns):"
   ]
  },
  {
   "cell_type": "markdown",
   "metadata": {},
   "source": [
    "<img align=\"center\" style=\"max-width: 400px\" src=\"lstmnet.png\">"
   ]
  },
  {
   "cell_type": "markdown",
   "metadata": {},
   "source": [
    "In general, the LSTM cell structure as well as the formal definition of its individual gate functions are shown in the following illustration that we already discussed in the lecture (not considering the bias of each LSTM cell layer):"
   ]
  },
  {
   "cell_type": "markdown",
   "metadata": {},
   "source": [
    "<img align=\"center\" style=\"max-width: 700px\" src=\"lstmcell.png\">"
   ]
  },
  {
   "cell_type": "markdown",
   "metadata": {},
   "source": [
    "(Source: https://pytorch.org/docs/stable/nn.html)"
   ]
  },
  {
   "cell_type": "markdown",
   "metadata": {},
   "source": [
    "Each of the two `LSTMCell` layers consists of an LSTM cell exhibiting a hidden state of 50 dimensions. The following three non-linear fully-connected layers consequently reduce the 50 hidden state dimensions of the second LSTM cell into a single output dimension. \n",
    "\n",
    "The single dimensional output corresponds to the predicted return of the next time-step. Please note, that the choice of the implemented architecture and selected network training parameters are arbitrary and should in a real-world scenario be selected through experimental evaluation:"
   ]
  },
  {
   "cell_type": "code",
   "execution_count": 82,
   "metadata": {},
   "outputs": [],
   "source": [
    "# implement the LSTMNet Many2One network architecture\n",
    "class LSTMNet_Many2One(nn.Module):\n",
    "\n",
    "    # define class constructor\n",
    "    def __init__(self):\n",
    "\n",
    "        # call super class constructor\n",
    "        super(LSTMNet_Many2One, self).__init__()\n",
    "\n",
    "        # define lstm network RNN architecture (feature extraction)\n",
    "        self.lstm1 = nn.LSTMCell(no_input_stocks, 50)  # first lstm layer\n",
    "        self.lstm2 = nn.LSTMCell(50, 50)  # second lstm layer\n",
    "        \n",
    "        # define lstm network FC architecture (feature prediction)\n",
    "        self.linear1 = nn.Linear(50, 20)  # first linear layer\n",
    "        self.linear2 = nn.Linear(20, 10)  # second linear layer\n",
    "        self.linear3 = nn.Linear(10, 1)  # third linear layer\n",
    "        \n",
    "        # define non-linar activation function\n",
    "        self.tanh = nn.Tanh() # the non-linarity\n",
    "\n",
    "    # define network forward pass\n",
    "    def forward(self, input):\n",
    "        \n",
    "        # init predictions\n",
    "        predictions = []\n",
    "\n",
    "        # init the lstm hidden states\n",
    "        h_t1 = torch.zeros(input.size(0), 50, dtype=torch.float).to(device)\n",
    "        h_t2 = torch.zeros(input.size(0), 50, dtype=torch.float).to(device)\n",
    "\n",
    "        # init the lstm cell states\n",
    "        c_t1 = torch.zeros(input.size(0), 50, dtype=torch.float).to(device)\n",
    "        c_t2 = torch.zeros(input.size(0), 50, dtype=torch.float).to(device)\n",
    "        \n",
    "        # iterate over distinct time steps\n",
    "        for input_t in input.chunk(input.size(1), dim=1):\n",
    "            \n",
    "            # squeeze the input to remove the second-dimension\n",
    "            input_t_squeezed = input_t.squeeze(1)\n",
    "\n",
    "            # propagate through time step data (feature extraction)\n",
    "            h_t1, c_t1 = self.lstm1(input_t_squeezed, (h_t1, c_t1))\n",
    "            h_t2, c_t2 = self.lstm2(h_t1, (h_t2, c_t2))\n",
    "            \n",
    "            # propagate through feture data (feature prediction)\n",
    "            l1 = self.tanh(self.linear1(h_t2))\n",
    "            l2 = self.tanh(self.linear2(l1))\n",
    "            prediction = self.linear3(l2)\n",
    "            \n",
    "            # collect predictions\n",
    "            predictions += [prediction]\n",
    "\n",
    "        # stack predictions\n",
    "        predictions = torch.stack(predictions, 1).squeeze(2)\n",
    "\n",
    "        # return predictions\n",
    "        return predictions"
   ]
  },
  {
   "cell_type": "markdown",
   "metadata": {},
   "source": [
    "Now, that we have implemented the `LSTMNet_Many2One` neural network we are ready to instantiate a model to be trained:"
   ]
  },
  {
   "cell_type": "code",
   "execution_count": 83,
   "metadata": {},
   "outputs": [],
   "source": [
    "lstm_model = LSTMNet_Many2One().to(device)"
   ]
  },
  {
   "cell_type": "markdown",
   "metadata": {},
   "source": [
    "Once the model is initialized, we can visualize the model structure and review the implemented network architecture by execution of the following cell:"
   ]
  },
  {
   "cell_type": "code",
   "execution_count": 84,
   "metadata": {},
   "outputs": [
    {
     "name": "stdout",
     "output_type": "stream",
     "text": [
      "[LOG] LSTMNet Many2One architecture:\n",
      "\n",
      "LSTMNet_Many2One(\n",
      "  (lstm1): LSTMCell(28, 50)\n",
      "  (lstm2): LSTMCell(50, 50)\n",
      "  (linear1): Linear(in_features=50, out_features=20, bias=True)\n",
      "  (linear2): Linear(in_features=20, out_features=10, bias=True)\n",
      "  (linear3): Linear(in_features=10, out_features=1, bias=True)\n",
      "  (tanh): Tanh()\n",
      ")\n",
      "\n"
     ]
    }
   ],
   "source": [
    "# print the initialized architectures\n",
    "print('[LOG] LSTMNet Many2One architecture:\\n\\n{}\\n'.format(lstm_model))"
   ]
  },
  {
   "cell_type": "markdown",
   "metadata": {},
   "source": [
    "Looks like intended? Great! Finally, let's also determine the number of model parameters that we aim to train:"
   ]
  },
  {
   "cell_type": "code",
   "execution_count": 85,
   "metadata": {},
   "outputs": [
    {
     "name": "stdout",
     "output_type": "stream",
     "text": [
      "[LOG] Number of to be trained LSTMNet Many2One model parameters: 37641.\n"
     ]
    }
   ],
   "source": [
    "# init the number of model parameters\n",
    "num_params = 0\n",
    "\n",
    "# iterate over the distinct parameters\n",
    "for param in lstm_model.parameters():\n",
    "\n",
    "    # collect number of parameters\n",
    "    num_params += param.numel()\n",
    "    \n",
    "# print the number of model paramters\n",
    "print('[LOG] Number of to be trained LSTMNet Many2One model parameters: {}.'.format(num_params))"
   ]
  },
  {
   "cell_type": "markdown",
   "metadata": {},
   "source": [
    "Ok, our \"simple\" `LSTMNet_Many2One` model already encompasses an impressive number **37'641 model parameters** to be trained."
   ]
  },
  {
   "cell_type": "markdown",
   "metadata": {},
   "source": [
    "#### 3.2. Training Parameter Definition"
   ]
  },
  {
   "cell_type": "markdown",
   "metadata": {},
   "source": [
    "We are now good to train the network. However, prior to starting the training, we need to define an appropriate loss function. Remember, we aim to train our model to learn a set of model parameters $\\theta$ that minimize the prediction error of the true return $r_{t+1}$ and the by the model predicted return $\\hat{r}_{t+1}$ at a given time-step $t+1$ of sequence $s^{i}$. In other words, for a given sequence of historic returns we aim to learn a function $f_\\theta$ that is capable to predicts the return of the next timestep as faithfully as possible, as expressed by:"
   ]
  },
  {
   "cell_type": "markdown",
   "metadata": {},
   "source": [
    "<center> $\\hat{r}_{t+1} = f_\\theta(r_{t}, r_{t-1}, ..., r_{t-n})$. </center>"
   ]
  },
  {
   "cell_type": "markdown",
   "metadata": {},
   "source": [
    "Thereby, the training objective is to learn a set of optimal model parameters $\\theta^*$ that optimize $\\min_{\\theta} \\|r_{t+1} - f_\\theta(r_{t}, r_{t-1}, ..., r_{t-n})\\|$ over all time-steps $t$ contained in the set of training sequences $s_{train}$. To achieve this optimization objective, one typically minimizes a loss function $\\mathcal{L_{\\theta}}$ while training the neural network. In this lab we use the **\"Mean Squared Error (MSE)\"** loss, as denoted by:"
   ]
  },
  {
   "cell_type": "markdown",
   "metadata": {},
   "source": [
    "<center> $\\mathcal{L}^{MSE}_{\\theta} (r_{t+1}, \\hat{r}_{t+1}) = \\frac{1}{N} \\sum_{i=1}^N \\| r_{t+1} - \\hat{r}_{t+1}\\|^{2}$, </center>"
   ]
  },
  {
   "cell_type": "code",
   "execution_count": 86,
   "metadata": {},
   "outputs": [],
   "source": [
    "loss_function = nn.MSELoss().to(device)"
   ]
  },
  {
   "cell_type": "markdown",
   "metadata": {},
   "source": [
    "Throughout the training process, the PyTorch library will automatically calculate the loss magnitude, compute the gradient, and update the parameters $\\theta$ of the LSTM neural network. We will use the **\"Adaptive Moment Estimation Optimization\" (ADAM)** technique to optimize the network parameters. Furthermore, we specify a constant learning rate of $l = 1e-06$. For each training step, the optimizer will update the model parameters $\\theta$ values according to the degree of prediction error (the MSE loss)."
   ]
  },
  {
   "cell_type": "code",
   "execution_count": 87,
   "metadata": {},
   "outputs": [],
   "source": [
    "learning_rate = 1e-06 # set constant learning rate\n",
    "optimizer = optim.Adam(lstm_model.parameters(), lr=learning_rate) # define optimization technique"
   ]
  },
  {
   "cell_type": "markdown",
   "metadata": {},
   "source": [
    "Furthermore, let's start to learn a model by training the NN for **1000 epochs** in mini-batches of the size of **128  sequences** per batch. This implies that the whole dataset will be fed to the network **1000 times** in chunks of 128 sequences yielding to **26 mini-batches** (3,278 training sequences / 128 sequences per mini-batch) per epoch:"
   ]
  },
  {
   "cell_type": "code",
   "execution_count": 88,
   "metadata": {},
   "outputs": [],
   "source": [
    "# specify the training parameters\n",
    "no_epochs = 1001 # number of training epochs\n",
    "mini_batch_size = 128 # size of the mini-batches"
   ]
  },
  {
   "cell_type": "markdown",
   "metadata": {},
   "source": [
    "Next, let's specify and instantiate a `PyTorch` `dataloader` using the training dataset specified above (the `training_dataset` variable). The specified `dataloader` will feed the **train-input-return** sequence tensors as well as the **train-target-return** to our neural network:"
   ]
  },
  {
   "cell_type": "code",
   "execution_count": 89,
   "metadata": {},
   "outputs": [],
   "source": [
    "train_dataloader = dataloader.DataLoader(train_dataset, batch_size=mini_batch_size, shuffle=True)"
   ]
  },
  {
   "cell_type": "markdown",
   "metadata": {},
   "source": [
    "Finally, we will specify a periodic **model evaluation interval**. The interval defines the number of completed training epochs upon which an in-sample **backtest** of the current model will be conducted. Furthermore, a model **checkpoint** (a snapshot of the current model parameters) will be saved."
   ]
  },
  {
   "cell_type": "code",
   "execution_count": 90,
   "metadata": {},
   "outputs": [],
   "source": [
    "# specify model evaluation and checkpoint interval\n",
    "train_checkpoint_epoch = 100"
   ]
  },
  {
   "cell_type": "markdown",
   "metadata": {},
   "source": [
    "By setting the `train_checkpoint_epoch` variable to a value of **100 epochs** denotes, that we aim to **evaluate our model** (and save a corresponding model checkpoint) upon the successful completion of 100 training epochs respectively. "
   ]
  },
  {
   "cell_type": "markdown",
   "metadata": {},
   "source": [
    "### 4. Preparing the Model Backtest"
   ]
  },
  {
   "cell_type": "markdown",
   "metadata": {},
   "source": [
    "In this section, we will define a set of reusable `Python` functions that we will repeatedly use to **backtest** the trained model at different stages of the training process. In order to run a backtest simulation we will use the python `bt` library. The Python `bt` library is a flexible, backtest framework that can be used to test quantitative trading strategies. In general, backtesting is the process of testing a strategy over a given data set (more details about the `bt` library can be found via: https://pmorissette.github.io/bt/).\n",
    "\n",
    "Let's now start to implement the required functions to backtest and evaluate our learned model."
   ]
  },
  {
   "cell_type": "markdown",
   "metadata": {},
   "source": [
    "#### 4.1 Derive Model Return Predictions"
   ]
  },
  {
   "cell_type": "markdown",
   "metadata": {},
   "source": [
    "First, we will define a function `compute_model_predictions` that, given a trained model (`lstm_model`), determines and returns a list of return predictions $\\hat{r}_{i+1}$ based on a set of given **in-sample** input training sequences (`train_sequences_input`)."
   ]
  },
  {
   "cell_type": "code",
   "execution_count": 91,
   "metadata": {},
   "outputs": [],
   "source": [
    "def compute_model_predictions(lstm_model, train_sequences_input):\n",
    "\n",
    "    # set model in evaluation mode\n",
    "    lstm_model.eval()\n",
    "\n",
    "    # determine model return predictions\n",
    "    train_predictions = lstm_model(train_sequences_input.to(device))\n",
    "\n",
    "    # convert model return predictions to list\n",
    "    train_predictions_list = train_predictions.cpu().detach().numpy()[:, -1].tolist()\n",
    "\n",
    "    # return model return predictions\n",
    "    return train_predictions_list"
   ]
  },
  {
   "cell_type": "markdown",
   "metadata": {},
   "source": [
    "#### 4.2 Derive Model Trade Signals"
   ]
  },
  {
   "cell_type": "markdown",
   "metadata": {},
   "source": [
    "Next, we will define a function `compute_model_signals` that converts a list of **future return predictions $\\hat{r}_{t+1}$** (`train_predictions_list`) into **trade signals** $\\phi(\\hat{r}_{t+1})$. Thereby, we will interpret any positive future return prediction greater or equal a predefined threshold $t$ (`signal_threshold`) as a **\"long\" (buy)** signal, formally denoted by $r_{t+1} \\geq t$. Correspondingly, we will interpret any negative future return prediction lower or equal a predefined threshold $-t$, formally denoted by $r_{t+1} \\leq -t$ as a **\"short\" (sell)** signal. Formally, the trading signal is derived according to:"
   ]
  },
  {
   "cell_type": "markdown",
   "metadata": {},
   "source": [
    "<center>\n",
    "$\n",
    "\\\\\n",
    "\\phi(\\hat{r}_{t+1})=\n",
    "\\begin{cases}\n",
    "1.0 & \\textrm{(\"long signal\")}, & for & \\hat{r}_{t+1} > t\\\\\n",
    "-1.0 & \\textrm{(\"short signal\")}, & for & \\hat{r}_{t+1} < -t\\\\\n",
    "\\end{cases}\n",
    "$\n",
    "</center>"
   ]
  },
  {
   "cell_type": "markdown",
   "metadata": {},
   "source": [
    "where $\\hat{r}_{t+1}$ denotes a by the model predicted future return at time $t+1$. In the following we will define the function accordingly:"
   ]
  },
  {
   "cell_type": "code",
   "execution_count": 92,
   "metadata": {},
   "outputs": [],
   "source": [
    "def compute_model_signals(train_predictions_list, train_stock_sequence_target_date, signal_threshold):\n",
    "\n",
    "    # init and prepare the model signal data \n",
    "    signal_data = pd.DataFrame(train_predictions_list, columns=['PREDICTIONS'], index=train_stock_sequence_target_date[:, -1])\n",
    "\n",
    "    # derive trading signals from model predictions\n",
    "    signal_data['SIGNAL'] = np.where(signal_data['PREDICTIONS'] >= signal_threshold, 1.0, 0.0)\n",
    "    signal_data['SIGNAL'] = np.where(signal_data['PREDICTIONS'] <= -signal_threshold, -1.0, signal_data['SIGNAL'])\n",
    "    \n",
    "    # offset the signal data\n",
    "    signal_data = signal_data.set_index(signal_data['SIGNAL'].index - pd.DateOffset(1))\n",
    "    \n",
    "    # return the prepared signal dta \n",
    "    return signal_data"
   ]
  },
  {
   "cell_type": "markdown",
   "metadata": {},
   "source": [
    "Finally, let's specify the trading signal threshold $t$ as introduced above:"
   ]
  },
  {
   "cell_type": "code",
   "execution_count": 93,
   "metadata": {},
   "outputs": [],
   "source": [
    "signal_threshold = 0.001"
   ]
  },
  {
   "cell_type": "markdown",
   "metadata": {},
   "source": [
    "Please note, setting such a threshold will avoid to generate trades caused by fluctuating (\"tiny\") return predictions of the trained model. "
   ]
  },
  {
   "cell_type": "markdown",
   "metadata": {},
   "source": [
    "#### 4.3 Prepare Backtest Market Data"
   ]
  },
  {
   "cell_type": "markdown",
   "metadata": {},
   "source": [
    "Next, we will define a function `compute_market_data` that, given a set of trading signals (`signal_data`), determines and **returns the QQQ market price data** (`stock_data_price`) of the trading signals time interval."
   ]
  },
  {
   "cell_type": "code",
   "execution_count": 94,
   "metadata": {},
   "outputs": [],
   "source": [
    "def compute_market_data(stock_data_price, signal_data):\n",
    "\n",
    "    # determine QQQ market price data \n",
    "    market_data = pd.DataFrame(stock_data_price['QQQ'])\n",
    "    market_data = market_data.rename(columns={'QQQ': 'PRICE'})\n",
    "    market_data = market_data.set_index(pd.to_datetime(stock_data_price.index))\n",
    "    \n",
    "    # filter market data according to trading signals time interval \n",
    "    market_data = market_data[market_data.index >= signal_data.index[0]]\n",
    "    market_data = market_data[market_data.index <= signal_data.index[-1]]\n",
    "    \n",
    "    # returns the filtered market data\n",
    "    return market_data"
   ]
  },
  {
   "cell_type": "markdown",
   "metadata": {},
   "source": [
    "#### 4.4 Prepare Model Backest Strategy and Backtest"
   ]
  },
  {
   "cell_type": "markdown",
   "metadata": {},
   "source": [
    "Now that we have trading signals as well as the market data let's implement the LSTM based trading strategy which we name `LSTMStrategy`:"
   ]
  },
  {
   "cell_type": "code",
   "execution_count": 95,
   "metadata": {},
   "outputs": [],
   "source": [
    "class LSTMStrategy(bt.Algo):\n",
    "    \n",
    "    def __init__(self, signals):\n",
    "        \n",
    "        # set class signals\n",
    "        self.signals = signals\n",
    "        \n",
    "    def __call__(self, target):\n",
    "        \n",
    "        if target.now in self.signals.index[1:]:\n",
    "            \n",
    "            # get actual signal\n",
    "            signal = self.signals[target.now]\n",
    "            \n",
    "            # set target weights according to signal\n",
    "            target.temp['weights'] = dict(PRICE=signal)\n",
    "            \n",
    "        # return True since we want to move on to the next timestep\n",
    "        return True"
   ]
  },
  {
   "cell_type": "markdown",
   "metadata": {},
   "source": [
    "Next, we will define a function `model_backtest` that, given a set of (i) trading signals (`signal_data`) and (ii) market price data (`stock_market_data`), instantiates and **runs a backtest**. Upon successful backtest completion the function collects and returns (i) a set of backtest performance measures (`backtest_result_stats`) as well as (ii) detailed backtest simulation results (`backtest_result_details`). "
   ]
  },
  {
   "cell_type": "code",
   "execution_count": 96,
   "metadata": {},
   "outputs": [],
   "source": [
    "def model_backtest(signal_data, stock_market_data):\n",
    "    \n",
    "    # init the lstm backtest strategy\n",
    "    lstm_strategy = bt.Strategy('lstm', [bt.algos.SelectAll(), LSTMStrategy(signal_data['SIGNAL']), bt.algos.Rebalance()])\n",
    "    \n",
    "    # init the lstm backtest\n",
    "    backtest_lstm = bt.Backtest(strategy=lstm_strategy, data=stock_market_data, name='stock_lstm_backtest')\n",
    "    \n",
    "    # run the backtest\n",
    "    backtest_results = bt.run(backtest_lstm)\n",
    "    \n",
    "    # collect aggregated backtest result statistics\n",
    "    backtest_result_stats = {}\n",
    "    backtest_result_stats['total_return'] = backtest_lstm.stats.total_return # total return\n",
    "    backtest_result_stats['daily_sharpe'] = backtest_lstm.stats.daily_sharpe # daily sharpe\n",
    "    backtest_result_stats['monthly_sharpe'] = backtest_lstm.stats.monthly_sharpe # monthly sharpe\n",
    "    \n",
    "    # determine number of signal changes\n",
    "    backtest_result_stats['trade_signals'] = len(list(itertools.groupby(signal_data['SIGNAL'], lambda x: x > 0)))\n",
    "    \n",
    "    # collect details backtest result statistics\n",
    "    backtest_result_details = backtest_lstm.strategy.prices.to_frame(name='Rel. EQUITY')\n",
    "    backtest_result_details['Abs. EQUITY'] = backtest_lstm.strategy.values # equity per timestep\n",
    "    backtest_result_details['CASH'] = backtest_lstm.strategy.cash # cash per timestep\n",
    "    \n",
    "    # return backtest lstm details\n",
    "    return backtest_result_stats, backtest_result_details"
   ]
  },
  {
   "cell_type": "markdown",
   "metadata": {},
   "source": [
    "#### 4.5 Visualize Model Predictions"
   ]
  },
  {
   "cell_type": "markdown",
   "metadata": {},
   "source": [
    "Finally, we will define a function `plot_model_predictions` that, that creates a plot of (i) the actual **\"ground-true\" returns** (`train_sequences_target`) and (ii) the **predicted returns** of the trained model (`train_predictions_list`). Both returns will be visualized within the in-sample time interval and allow for a visual evaluation of the model predictions."
   ]
  },
  {
   "cell_type": "code",
   "execution_count": 97,
   "metadata": {},
   "outputs": [],
   "source": [
    "def plot_model_predictions(train_stock_sequence_target_date, train_sequences_target, train_predictions_list, epoch, filename):\n",
    "    \n",
    "    # plot the prediction results\n",
    "    plt.style.use('seaborn')\n",
    "    plt.rcParams['figure.figsize'] = [15, 5]\n",
    "\n",
    "    # init plot figure\n",
    "    fig = plt.figure()\n",
    "    ax = fig.add_subplot(111)\n",
    "\n",
    "    # convert train sequences target to list\n",
    "    train_targets_list = (train_sequences_target).numpy()[:, -1].tolist()\n",
    "    \n",
    "    ax.plot(train_stock_sequence_target_date[:, -1], train_targets_list, color='C1', label='groundtruth (green)')\n",
    "    ax.plot(train_stock_sequence_target_date[:, -1], train_predictions_list, color='C0', label='predictions (blue)')\n",
    "\n",
    "    # set x-axis limits\n",
    "    ax.set_xlim(train_stock_sequence_target_date[:, -1].min(), train_stock_sequence_target_date[:, -1].max())\n",
    "\n",
    "    # set plot legend\n",
    "    plt.legend(loc=\"lower right\", numpoints=1, fancybox=True)\n",
    "\n",
    "    # set plot title\n",
    "    plt.title('Epoch {} - LSTM-NN Many2One - In-Sample Prediction vs. Ground-Truth Market Prices'.format(str(epoch).zfill(6)), fontsize=10)\n",
    "\n",
    "    # set axis labels\n",
    "    plt.xlabel('[time]', fontsize=8)\n",
    "    plt.ylabel('[daily returns]', fontsize=8)\n",
    "\n",
    "    # set axis ticks fontsize\n",
    "    plt.xticks(fontsize=8)\n",
    "    plt.yticks(fontsize=8)\n",
    "    \n",
    "    # save plot to plotting directory\n",
    "    plt.savefig(os.path.join(visuals_directory, filename), dpi=300)\n",
    "\n",
    "    # close plot\n",
    "    plt.close()"
   ]
  },
  {
   "cell_type": "markdown",
   "metadata": {},
   "source": [
    "### 5. Model Training and Backtest"
   ]
  },
  {
   "cell_type": "markdown",
   "metadata": {},
   "source": [
    "In this section, we will train, validate and backtest the LSTM neural network model (as implemented in the section above) using the prepared dataset of daily return sequences. In the following, we will have a detailed look into the distinct training steps and monitor the training progress."
   ]
  },
  {
   "cell_type": "markdown",
   "metadata": {},
   "source": [
    "#### 5.1. Preparation of the Model Statistics"
   ]
  },
  {
   "cell_type": "markdown",
   "metadata": {},
   "source": [
    "Throughout the training we aim to monitor the model performance. Thereby, we will collect the models training loss and backtest performance at the distinct **model evaluation intervals** defined above. To achieve this objective will initialize a `Pandas` data frame (`training_statistics`) that will be populated with the logged information with progressing training:"
   ]
  },
  {
   "cell_type": "code",
   "execution_count": 98,
   "metadata": {},
   "outputs": [],
   "source": [
    "# init the training statistics\n",
    "summary_cols = ['timestamp', 'no_epochs', 'batch_size', 'learning_rate', 'train_epoch_loss', 'signal_threshold ', 'signals', 'total_return', 'daily_sharpe', 'monthly_sharpe']\n",
    "training_statistics = pd.DataFrame(np.zeros((int(no_epochs/train_checkpoint_epoch), len(summary_cols))), columns=summary_cols)"
   ]
  },
  {
   "cell_type": "markdown",
   "metadata": {},
   "source": [
    "#### 5.2. Running the Model Training and Backtest"
   ]
  },
  {
   "cell_type": "markdown",
   "metadata": {},
   "source": [
    "Finally, we start training the model. The training procedure of each mini-batch is performed as follows: \n",
    "\n",
    ">1. do a forward pass through the LSTMNet network, \n",
    ">2. compute the mean-squared prediction error $\\mathcal{L}^{MSE}_{\\theta} (r_{t+1}, \\hat{r}_{t+1}) = \\frac{1}{N} \\sum_{i=1}^N \\| r_{t+1} - \\hat{r}_{t+1}\\|^{2}$, \n",
    ">3. do a backward pass through the LSTMNet network, and \n",
    ">4. update the parameters of the network $f_\\theta(\\cdot)$.\n",
    "\n",
    "To ensure learning while training the LSTM model we will monitor whether the loss decreases with progressing training. Therefore, we obtain and evaluate the mean prediction performance over all mini-batches in each training epoch. Based on this evaluation we can conclude on the training progress and whether the loss is converging (indicating that the model might not improve any further).\n",
    "\n",
    "The following elements of the network training code below should be given particular attention:\n",
    " \n",
    ">- `loss.backward()` computes the gradients based on the magnitude of the reconstruction loss,\n",
    ">- `optimizer.step()` updates the network parameters based on the gradient."
   ]
  },
  {
   "cell_type": "code",
   "execution_count": 99,
   "metadata": {
    "scrolled": true
   },
   "outputs": [
    {
     "name": "stdout",
     "output_type": "stream",
     "text": [
      "[LOG 20210201-08:14:25] training :: epoch: 0 train-loss: 0.0663051653939944\n",
      "[LOG 20210201-08:14:26] training :: epoch: 1 train-loss: 0.0661515943132914\n",
      "[LOG 20210201-08:14:26] training :: epoch: 2 train-loss: 0.06596998440531585\n",
      "[LOG 20210201-08:14:26] training :: epoch: 3 train-loss: 0.06577613663214904\n",
      "[LOG 20210201-08:14:27] training :: epoch: 4 train-loss: 0.06557694478676869\n",
      "[LOG 20210201-08:14:27] training :: epoch: 5 train-loss: 0.06537306108153783\n",
      "[LOG 20210201-08:14:27] training :: epoch: 6 train-loss: 0.06516881860219516\n",
      "[LOG 20210201-08:14:27] training :: epoch: 7 train-loss: 0.0649641055900317\n",
      "[LOG 20210201-08:14:28] training :: epoch: 8 train-loss: 0.06475838646292686\n",
      "[LOG 20210201-08:14:28] training :: epoch: 9 train-loss: 0.06455222918437077\n",
      "[LOG 20210201-08:14:28] training :: epoch: 10 train-loss: 0.06434649343674\n",
      "[LOG 20210201-08:14:29] training :: epoch: 11 train-loss: 0.06414027798634309\n",
      "[LOG 20210201-08:14:29] training :: epoch: 12 train-loss: 0.06393566240484898\n",
      "[LOG 20210201-08:14:29] training :: epoch: 13 train-loss: 0.06372879646145381\n",
      "[LOG 20210201-08:14:29] training :: epoch: 14 train-loss: 0.06352585095625657\n",
      "[LOG 20210201-08:14:30] training :: epoch: 15 train-loss: 0.06332001347954457\n",
      "[LOG 20210201-08:14:30] training :: epoch: 16 train-loss: 0.06311796892147797\n",
      "[LOG 20210201-08:14:30] training :: epoch: 17 train-loss: 0.06291591146817574\n",
      "[LOG 20210201-08:14:30] training :: epoch: 18 train-loss: 0.06271449103951454\n",
      "[LOG 20210201-08:14:31] training :: epoch: 19 train-loss: 0.06251112500635478\n",
      "[LOG 20210201-08:14:31] training :: epoch: 20 train-loss: 0.0623094284763703\n",
      "[LOG 20210201-08:14:31] training :: epoch: 21 train-loss: 0.06210949257589304\n",
      "[LOG 20210201-08:14:31] training :: epoch: 22 train-loss: 0.06191097285885077\n",
      "[LOG 20210201-08:14:32] training :: epoch: 23 train-loss: 0.06171252979682042\n",
      "[LOG 20210201-08:14:32] training :: epoch: 24 train-loss: 0.06151681221448458\n",
      "[LOG 20210201-08:14:32] training :: epoch: 25 train-loss: 0.06131716359120149\n",
      "[LOG 20210201-08:14:32] training :: epoch: 26 train-loss: 0.06112125129080736\n",
      "[LOG 20210201-08:14:33] training :: epoch: 27 train-loss: 0.06092485627875878\n",
      "[LOG 20210201-08:14:33] training :: epoch: 28 train-loss: 0.06073126884607168\n",
      "[LOG 20210201-08:14:33] training :: epoch: 29 train-loss: 0.060536776740963645\n",
      "[LOG 20210201-08:14:33] training :: epoch: 30 train-loss: 0.06034190164735684\n",
      "[LOG 20210201-08:14:34] training :: epoch: 31 train-loss: 0.06014922332878296\n",
      "[LOG 20210201-08:14:34] training :: epoch: 32 train-loss: 0.05995773896574974\n",
      "[LOG 20210201-08:14:34] training :: epoch: 33 train-loss: 0.05976634486936606\n",
      "[LOG 20210201-08:14:35] training :: epoch: 34 train-loss: 0.05957479731967816\n",
      "[LOG 20210201-08:14:35] training :: epoch: 35 train-loss: 0.05938700658197586\n",
      "[LOG 20210201-08:14:35] training :: epoch: 36 train-loss: 0.059194997526132144\n",
      "[LOG 20210201-08:14:35] training :: epoch: 37 train-loss: 0.059006222165547885\n",
      "[LOG 20210201-08:14:36] training :: epoch: 38 train-loss: 0.05881914109564745\n",
      "[LOG 20210201-08:14:36] training :: epoch: 39 train-loss: 0.05863100533875135\n",
      "[LOG 20210201-08:14:36] training :: epoch: 40 train-loss: 0.05844504701403471\n",
      "[LOG 20210201-08:14:36] training :: epoch: 41 train-loss: 0.05825818416017752\n",
      "[LOG 20210201-08:14:37] training :: epoch: 42 train-loss: 0.058074779665240876\n",
      "[LOG 20210201-08:14:37] training :: epoch: 43 train-loss: 0.05788914801982733\n",
      "[LOG 20210201-08:14:37] training :: epoch: 44 train-loss: 0.0577058489792622\n",
      "[LOG 20210201-08:14:37] training :: epoch: 45 train-loss: 0.057522666425659105\n",
      "[LOG 20210201-08:14:38] training :: epoch: 46 train-loss: 0.0573389338186154\n",
      "[LOG 20210201-08:14:38] training :: epoch: 47 train-loss: 0.05715795420110226\n",
      "[LOG 20210201-08:14:38] training :: epoch: 48 train-loss: 0.056975772317785486\n",
      "[LOG 20210201-08:14:39] training :: epoch: 49 train-loss: 0.0567967387346121\n",
      "[LOG 20210201-08:14:39] training :: epoch: 50 train-loss: 0.05661509787807098\n",
      "[LOG 20210201-08:14:39] training :: epoch: 51 train-loss: 0.056435734320145384\n",
      "[LOG 20210201-08:14:39] training :: epoch: 52 train-loss: 0.05625748834930933\n",
      "[LOG 20210201-08:14:40] training :: epoch: 53 train-loss: 0.05607940170627374\n",
      "[LOG 20210201-08:14:40] training :: epoch: 54 train-loss: 0.05590128454451378\n",
      "[LOG 20210201-08:14:40] training :: epoch: 55 train-loss: 0.05572569126693102\n",
      "[LOG 20210201-08:14:40] training :: epoch: 56 train-loss: 0.055548740264314875\n",
      "[LOG 20210201-08:14:41] training :: epoch: 57 train-loss: 0.0553733639132518\n",
      "[LOG 20210201-08:14:41] training :: epoch: 58 train-loss: 0.055198811854307465\n",
      "[LOG 20210201-08:14:41] training :: epoch: 59 train-loss: 0.05502320238603996\n",
      "[LOG 20210201-08:14:41] training :: epoch: 60 train-loss: 0.05484883673489094\n",
      "[LOG 20210201-08:14:42] training :: epoch: 61 train-loss: 0.05467495537148072\n",
      "[LOG 20210201-08:14:42] training :: epoch: 62 train-loss: 0.05450342036783695\n",
      "[LOG 20210201-08:14:42] training :: epoch: 63 train-loss: 0.05433302802535204\n",
      "[LOG 20210201-08:14:42] training :: epoch: 64 train-loss: 0.054159324043072186\n",
      "[LOG 20210201-08:14:43] training :: epoch: 65 train-loss: 0.053986430597993046\n",
      "[LOG 20210201-08:14:43] training :: epoch: 66 train-loss: 0.05381676382743395\n",
      "[LOG 20210201-08:14:43] training :: epoch: 67 train-loss: 0.05364690348505974\n",
      "[LOG 20210201-08:14:43] training :: epoch: 68 train-loss: 0.053477268236187786\n",
      "[LOG 20210201-08:14:43] training :: epoch: 69 train-loss: 0.053308685668385945\n",
      "[LOG 20210201-08:14:44] training :: epoch: 70 train-loss: 0.05314105777786328\n",
      "[LOG 20210201-08:14:44] training :: epoch: 71 train-loss: 0.05297357861239176\n",
      "[LOG 20210201-08:14:44] training :: epoch: 72 train-loss: 0.05280510536753214\n",
      "[LOG 20210201-08:14:44] training :: epoch: 73 train-loss: 0.05263846482221897\n",
      "[LOG 20210201-08:14:45] training :: epoch: 74 train-loss: 0.052471775704851516\n",
      "[LOG 20210201-08:14:45] training :: epoch: 75 train-loss: 0.05230575628005541\n",
      "[LOG 20210201-08:14:45] training :: epoch: 76 train-loss: 0.052142427231256776\n",
      "[LOG 20210201-08:14:45] training :: epoch: 77 train-loss: 0.05197588784190325\n",
      "[LOG 20210201-08:14:45] training :: epoch: 78 train-loss: 0.05181115593474645\n",
      "[LOG 20210201-08:14:46] training :: epoch: 79 train-loss: 0.05164786528509397\n",
      "[LOG 20210201-08:14:46] training :: epoch: 80 train-loss: 0.051486022340563625\n",
      "[LOG 20210201-08:14:46] training :: epoch: 81 train-loss: 0.05132138213286033\n",
      "[LOG 20210201-08:14:46] training :: epoch: 82 train-loss: 0.05115897824557928\n",
      "[LOG 20210201-08:14:47] training :: epoch: 83 train-loss: 0.05099668941245629\n",
      "[LOG 20210201-08:14:47] training :: epoch: 84 train-loss: 0.05083780205593659\n",
      "[LOG 20210201-08:14:47] training :: epoch: 85 train-loss: 0.05067534357882463\n",
      "[LOG 20210201-08:14:47] training :: epoch: 86 train-loss: 0.05051449313759804\n",
      "[LOG 20210201-08:14:47] training :: epoch: 87 train-loss: 0.05035360787923519\n",
      "[LOG 20210201-08:14:48] training :: epoch: 88 train-loss: 0.05019354705627148\n",
      "[LOG 20210201-08:14:48] training :: epoch: 89 train-loss: 0.050034852125323735\n",
      "[LOG 20210201-08:14:48] training :: epoch: 90 train-loss: 0.049875629206116386\n",
      "[LOG 20210201-08:14:48] training :: epoch: 91 train-loss: 0.04971808266754334\n",
      "[LOG 20210201-08:14:48] training :: epoch: 92 train-loss: 0.04955928213894367\n",
      "[LOG 20210201-08:14:49] training :: epoch: 93 train-loss: 0.04940252650815707\n",
      "[LOG 20210201-08:14:49] training :: epoch: 94 train-loss: 0.04924473309746155\n",
      "[LOG 20210201-08:14:49] training :: epoch: 95 train-loss: 0.04908907098265795\n",
      "[LOG 20210201-08:14:49] training :: epoch: 96 train-loss: 0.04893324495508121\n",
      "[LOG 20210201-08:14:50] training :: epoch: 97 train-loss: 0.048776813137989775\n",
      "[LOG 20210201-08:14:50] training :: epoch: 98 train-loss: 0.04862214653537823\n",
      "[LOG 20210201-08:14:50] training :: epoch: 99 train-loss: 0.0484651168091939\n",
      "[LOG 20210201-08:14:50] training :: epoch: 100 train-loss: 0.0483114725122085\n",
      "stock_lstm_backtest\n",
      "0% [############################# ] 100% | ETA: 00:00:00\n",
      "[LOG 20210201-08:14:54] backtest :: total return: -0.7894, monthly-sharpe: -1.2253, daily-sharpe: -0.7574.\n",
      "[LOG 20210201-08:14:55] training :: epoch: 101 train-loss: 0.0481567712357411\n",
      "[LOG 20210201-08:14:56] training :: epoch: 102 train-loss: 0.04800250725104259\n"
     ]
    },
    {
     "name": "stdout",
     "output_type": "stream",
     "text": [
      "[LOG 20210201-08:14:56] training :: epoch: 103 train-loss: 0.047850003895851284\n",
      "[LOG 20210201-08:14:56] training :: epoch: 104 train-loss: 0.047698442465983905\n",
      "[LOG 20210201-08:14:56] training :: epoch: 105 train-loss: 0.04754621879412578\n",
      "[LOG 20210201-08:14:56] training :: epoch: 106 train-loss: 0.047393028695995994\n",
      "[LOG 20210201-08:14:57] training :: epoch: 107 train-loss: 0.0472418495382254\n",
      "[LOG 20210201-08:14:57] training :: epoch: 108 train-loss: 0.047089832476698436\n",
      "[LOG 20210201-08:14:57] training :: epoch: 109 train-loss: 0.04693832606650316\n",
      "[LOG 20210201-08:14:57] training :: epoch: 110 train-loss: 0.04678874663435496\n",
      "[LOG 20210201-08:14:58] training :: epoch: 111 train-loss: 0.04663792625069618\n",
      "[LOG 20210201-08:14:58] training :: epoch: 112 train-loss: 0.046487845767002836\n",
      "[LOG 20210201-08:14:58] training :: epoch: 113 train-loss: 0.046338557767180294\n",
      "[LOG 20210201-08:14:58] training :: epoch: 114 train-loss: 0.0461885782961662\n",
      "[LOG 20210201-08:14:58] training :: epoch: 115 train-loss: 0.046039752375621065\n",
      "[LOG 20210201-08:14:59] training :: epoch: 116 train-loss: 0.045892403389398866\n",
      "[LOG 20210201-08:14:59] training :: epoch: 117 train-loss: 0.045743583916471556\n",
      "[LOG 20210201-08:14:59] training :: epoch: 118 train-loss: 0.04559696623339103\n",
      "[LOG 20210201-08:14:59] training :: epoch: 119 train-loss: 0.04544914685762846\n",
      "[LOG 20210201-08:14:59] training :: epoch: 120 train-loss: 0.04530207082056082\n",
      "[LOG 20210201-08:15:00] training :: epoch: 121 train-loss: 0.04515485422542462\n",
      "[LOG 20210201-08:15:00] training :: epoch: 122 train-loss: 0.04500988068488928\n",
      "[LOG 20210201-08:15:00] training :: epoch: 123 train-loss: 0.044863553574452035\n",
      "[LOG 20210201-08:15:00] training :: epoch: 124 train-loss: 0.044717287501463525\n",
      "[LOG 20210201-08:15:01] training :: epoch: 125 train-loss: 0.04457177952505075\n",
      "[LOG 20210201-08:15:01] training :: epoch: 126 train-loss: 0.04442624661784906\n",
      "[LOG 20210201-08:15:01] training :: epoch: 127 train-loss: 0.04428221242359051\n",
      "[LOG 20210201-08:15:01] training :: epoch: 128 train-loss: 0.04413903074768873\n",
      "[LOG 20210201-08:15:01] training :: epoch: 129 train-loss: 0.04399350600746962\n",
      "[LOG 20210201-08:15:02] training :: epoch: 130 train-loss: 0.043849945498200565\n",
      "[LOG 20210201-08:15:02] training :: epoch: 131 train-loss: 0.04370770560434231\n",
      "[LOG 20210201-08:15:02] training :: epoch: 132 train-loss: 0.043565397222454734\n",
      "[LOG 20210201-08:15:02] training :: epoch: 133 train-loss: 0.04342072915572386\n",
      "[LOG 20210201-08:15:03] training :: epoch: 134 train-loss: 0.04327958363753099\n",
      "[LOG 20210201-08:15:03] training :: epoch: 135 train-loss: 0.04313769277471762\n",
      "[LOG 20210201-08:15:03] training :: epoch: 136 train-loss: 0.04299560891321072\n",
      "[LOG 20210201-08:15:03] training :: epoch: 137 train-loss: 0.04285399615764618\n",
      "[LOG 20210201-08:15:03] training :: epoch: 138 train-loss: 0.042713646562053606\n",
      "[LOG 20210201-08:15:04] training :: epoch: 139 train-loss: 0.04257254746670906\n",
      "[LOG 20210201-08:15:04] training :: epoch: 140 train-loss: 0.042432378261135176\n",
      "[LOG 20210201-08:15:04] training :: epoch: 141 train-loss: 0.04229054685968619\n",
      "[LOG 20210201-08:15:04] training :: epoch: 142 train-loss: 0.04215249763085292\n",
      "[LOG 20210201-08:15:05] training :: epoch: 143 train-loss: 0.04201179585204674\n",
      "[LOG 20210201-08:15:05] training :: epoch: 144 train-loss: 0.04187307621424015\n",
      "[LOG 20210201-08:15:05] training :: epoch: 145 train-loss: 0.04173412030706039\n",
      "[LOG 20210201-08:15:05] training :: epoch: 146 train-loss: 0.04159487440035893\n",
      "[LOG 20210201-08:15:05] training :: epoch: 147 train-loss: 0.04145571388877355\n",
      "[LOG 20210201-08:15:06] training :: epoch: 148 train-loss: 0.04131840570614888\n",
      "[LOG 20210201-08:15:06] training :: epoch: 149 train-loss: 0.04117792586867626\n",
      "[LOG 20210201-08:15:06] training :: epoch: 150 train-loss: 0.04104159715083929\n",
      "[LOG 20210201-08:15:06] training :: epoch: 151 train-loss: 0.04090387073273842\n",
      "[LOG 20210201-08:15:06] training :: epoch: 152 train-loss: 0.04076743455460438\n",
      "[LOG 20210201-08:15:07] training :: epoch: 153 train-loss: 0.040631190658761904\n",
      "[LOG 20210201-08:15:07] training :: epoch: 154 train-loss: 0.040494272915216595\n",
      "[LOG 20210201-08:15:07] training :: epoch: 155 train-loss: 0.04035838636068197\n",
      "[LOG 20210201-08:15:07] training :: epoch: 156 train-loss: 0.040222959306377634\n",
      "[LOG 20210201-08:15:08] training :: epoch: 157 train-loss: 0.04008611019414205\n",
      "[LOG 20210201-08:15:08] training :: epoch: 158 train-loss: 0.039950563643987365\n",
      "[LOG 20210201-08:15:08] training :: epoch: 159 train-loss: 0.03981689034173122\n",
      "[LOG 20210201-08:15:08] training :: epoch: 160 train-loss: 0.03967989551333281\n",
      "[LOG 20210201-08:15:08] training :: epoch: 161 train-loss: 0.03954570410916439\n",
      "[LOG 20210201-08:15:09] training :: epoch: 162 train-loss: 0.03941178823319765\n",
      "[LOG 20210201-08:15:09] training :: epoch: 163 train-loss: 0.03927732946781012\n",
      "[LOG 20210201-08:15:09] training :: epoch: 164 train-loss: 0.039144644943567425\n",
      "[LOG 20210201-08:15:09] training :: epoch: 165 train-loss: 0.03901056329218241\n",
      "[LOG 20210201-08:15:10] training :: epoch: 166 train-loss: 0.03887593230375877\n",
      "[LOG 20210201-08:15:10] training :: epoch: 167 train-loss: 0.03874268210851229\n",
      "[LOG 20210201-08:15:10] training :: epoch: 168 train-loss: 0.03860988969413134\n",
      "[LOG 20210201-08:15:11] training :: epoch: 169 train-loss: 0.03847665382692447\n",
      "[LOG 20210201-08:15:11] training :: epoch: 170 train-loss: 0.03834505493824299\n",
      "[LOG 20210201-08:15:11] training :: epoch: 171 train-loss: 0.03821343971559635\n",
      "[LOG 20210201-08:15:11] training :: epoch: 172 train-loss: 0.038081420298952326\n",
      "[LOG 20210201-08:15:11] training :: epoch: 173 train-loss: 0.03794887361045067\n",
      "[LOG 20210201-08:15:12] training :: epoch: 174 train-loss: 0.03781769224084341\n",
      "[LOG 20210201-08:15:12] training :: epoch: 175 train-loss: 0.03768767946614669\n",
      "[LOG 20210201-08:15:12] training :: epoch: 176 train-loss: 0.03755673193014585\n",
      "[LOG 20210201-08:15:12] training :: epoch: 177 train-loss: 0.037425932402794175\n",
      "[LOG 20210201-08:15:13] training :: epoch: 178 train-loss: 0.03729662342140308\n",
      "[LOG 20210201-08:15:13] training :: epoch: 179 train-loss: 0.037166387415849246\n",
      "[LOG 20210201-08:15:13] training :: epoch: 180 train-loss: 0.03703654113297279\n",
      "[LOG 20210201-08:15:13] training :: epoch: 181 train-loss: 0.03690641445036118\n",
      "[LOG 20210201-08:15:13] training :: epoch: 182 train-loss: 0.03677608903784018\n",
      "[LOG 20210201-08:15:14] training :: epoch: 183 train-loss: 0.03664822532580449\n",
      "[LOG 20210201-08:15:14] training :: epoch: 184 train-loss: 0.03651855685389959\n",
      "[LOG 20210201-08:15:14] training :: epoch: 185 train-loss: 0.03638966825719063\n",
      "[LOG 20210201-08:15:14] training :: epoch: 186 train-loss: 0.03626076733836761\n",
      "[LOG 20210201-08:15:15] training :: epoch: 187 train-loss: 0.03613133914768696\n",
      "[LOG 20210201-08:15:15] training :: epoch: 188 train-loss: 0.036005353125242084\n",
      "[LOG 20210201-08:15:15] training :: epoch: 189 train-loss: 0.03587703994260384\n",
      "[LOG 20210201-08:15:15] training :: epoch: 190 train-loss: 0.035749517094630465\n",
      "[LOG 20210201-08:15:16] training :: epoch: 191 train-loss: 0.03562186672710455\n",
      "[LOG 20210201-08:15:16] training :: epoch: 192 train-loss: 0.03549529354159649\n",
      "[LOG 20210201-08:15:16] training :: epoch: 193 train-loss: 0.03536804063388935\n",
      "[LOG 20210201-08:15:17] training :: epoch: 194 train-loss: 0.035241398960351944\n",
      "[LOG 20210201-08:15:17] training :: epoch: 195 train-loss: 0.035113393114163324\n",
      "[LOG 20210201-08:15:17] training :: epoch: 196 train-loss: 0.03498908533499791\n",
      "[LOG 20210201-08:15:17] training :: epoch: 197 train-loss: 0.03486231771799234\n",
      "[LOG 20210201-08:15:18] training :: epoch: 198 train-loss: 0.034736136261087194\n",
      "[LOG 20210201-08:15:18] training :: epoch: 199 train-loss: 0.03461182747895901\n",
      "[LOG 20210201-08:15:18] training :: epoch: 200 train-loss: 0.03448668967645902\n",
      "stock_lstm_backtest\n",
      "0% [############################# ] 100% | ETA: 00:00:00\n",
      "[LOG 20210201-08:15:21] backtest :: total return: -0.7894, monthly-sharpe: -1.2253, daily-sharpe: -0.7574.\n",
      "[LOG 20210201-08:15:23] training :: epoch: 201 train-loss: 0.03436153052518001\n",
      "[LOG 20210201-08:15:23] training :: epoch: 202 train-loss: 0.034236762386101946\n",
      "[LOG 20210201-08:15:23] training :: epoch: 203 train-loss: 0.03411218194434276\n",
      "[LOG 20210201-08:15:23] training :: epoch: 204 train-loss: 0.033987791349108405\n"
     ]
    },
    {
     "name": "stdout",
     "output_type": "stream",
     "text": [
      "[LOG 20210201-08:15:24] training :: epoch: 205 train-loss: 0.03386443480849266\n",
      "[LOG 20210201-08:15:24] training :: epoch: 206 train-loss: 0.033740789557878785\n",
      "[LOG 20210201-08:15:24] training :: epoch: 207 train-loss: 0.033617078398282714\n",
      "[LOG 20210201-08:15:24] training :: epoch: 208 train-loss: 0.03349188557611062\n",
      "[LOG 20210201-08:15:24] training :: epoch: 209 train-loss: 0.033370302560237736\n",
      "[LOG 20210201-08:15:25] training :: epoch: 210 train-loss: 0.03324719733343674\n",
      "[LOG 20210201-08:15:25] training :: epoch: 211 train-loss: 0.03312439184922438\n",
      "[LOG 20210201-08:15:25] training :: epoch: 212 train-loss: 0.03300148993730545\n",
      "[LOG 20210201-08:15:25] training :: epoch: 213 train-loss: 0.032880062237381935\n",
      "[LOG 20210201-08:15:26] training :: epoch: 214 train-loss: 0.03275647100347739\n",
      "[LOG 20210201-08:15:26] training :: epoch: 215 train-loss: 0.03263542872781937\n",
      "[LOG 20210201-08:15:26] training :: epoch: 216 train-loss: 0.03251476757801496\n",
      "[LOG 20210201-08:15:26] training :: epoch: 217 train-loss: 0.03239227315554252\n",
      "[LOG 20210201-08:15:27] training :: epoch: 218 train-loss: 0.03226994551145113\n",
      "[LOG 20210201-08:15:27] training :: epoch: 219 train-loss: 0.03215026268019126\n",
      "[LOG 20210201-08:15:27] training :: epoch: 220 train-loss: 0.03202845285145136\n",
      "[LOG 20210201-08:15:27] training :: epoch: 221 train-loss: 0.031909967557742044\n",
      "[LOG 20210201-08:15:28] training :: epoch: 222 train-loss: 0.031788178791220374\n",
      "[LOG 20210201-08:15:28] training :: epoch: 223 train-loss: 0.03166783586717569\n",
      "[LOG 20210201-08:15:28] training :: epoch: 224 train-loss: 0.031547982388964065\n",
      "[LOG 20210201-08:15:29] training :: epoch: 225 train-loss: 0.03142767686110277\n",
      "[LOG 20210201-08:15:29] training :: epoch: 226 train-loss: 0.031309184475013845\n",
      "[LOG 20210201-08:15:29] training :: epoch: 227 train-loss: 0.031188859031177484\n",
      "[LOG 20210201-08:15:29] training :: epoch: 228 train-loss: 0.031069836794183806\n",
      "[LOG 20210201-08:15:30] training :: epoch: 229 train-loss: 0.030951421063106794\n",
      "[LOG 20210201-08:15:30] training :: epoch: 230 train-loss: 0.030832962276270755\n",
      "[LOG 20210201-08:15:30] training :: epoch: 231 train-loss: 0.030712493838599093\n",
      "[LOG 20210201-08:15:30] training :: epoch: 232 train-loss: 0.030595293841682948\n",
      "[LOG 20210201-08:15:31] training :: epoch: 233 train-loss: 0.030477218473186858\n",
      "[LOG 20210201-08:15:31] training :: epoch: 234 train-loss: 0.03035827797765915\n",
      "[LOG 20210201-08:15:31] training :: epoch: 235 train-loss: 0.030241381878463123\n",
      "[LOG 20210201-08:15:31] training :: epoch: 236 train-loss: 0.03012437652796507\n",
      "[LOG 20210201-08:15:32] training :: epoch: 237 train-loss: 0.030006107444373462\n",
      "[LOG 20210201-08:15:32] training :: epoch: 238 train-loss: 0.029890360597234506\n",
      "[LOG 20210201-08:15:32] training :: epoch: 239 train-loss: 0.029773439495609358\n",
      "[LOG 20210201-08:15:32] training :: epoch: 240 train-loss: 0.02965661331724662\n",
      "[LOG 20210201-08:15:33] training :: epoch: 241 train-loss: 0.029539001030990712\n",
      "[LOG 20210201-08:15:33] training :: epoch: 242 train-loss: 0.02942431581994662\n",
      "[LOG 20210201-08:15:33] training :: epoch: 243 train-loss: 0.02930804958137182\n",
      "[LOG 20210201-08:15:34] training :: epoch: 244 train-loss: 0.029192143907913796\n",
      "[LOG 20210201-08:15:34] training :: epoch: 245 train-loss: 0.02907756630044717\n",
      "[LOG 20210201-08:15:34] training :: epoch: 246 train-loss: 0.028962048343740977\n",
      "[LOG 20210201-08:15:35] training :: epoch: 247 train-loss: 0.028846976490548022\n",
      "[LOG 20210201-08:15:35] training :: epoch: 248 train-loss: 0.028731321414502766\n",
      "[LOG 20210201-08:15:35] training :: epoch: 249 train-loss: 0.028616460613333262\n",
      "[LOG 20210201-08:15:35] training :: epoch: 250 train-loss: 0.02850228311637273\n",
      "[LOG 20210201-08:15:36] training :: epoch: 251 train-loss: 0.028387857099565175\n",
      "[LOG 20210201-08:15:36] training :: epoch: 252 train-loss: 0.028273264304376565\n",
      "[LOG 20210201-08:15:36] training :: epoch: 253 train-loss: 0.02816020969588023\n",
      "[LOG 20210201-08:15:36] training :: epoch: 254 train-loss: 0.028045871295034885\n",
      "[LOG 20210201-08:15:37] training :: epoch: 255 train-loss: 0.027934193396224424\n",
      "[LOG 20210201-08:15:37] training :: epoch: 256 train-loss: 0.027818619488523558\n",
      "[LOG 20210201-08:15:37] training :: epoch: 257 train-loss: 0.02770685117978316\n",
      "[LOG 20210201-08:15:37] training :: epoch: 258 train-loss: 0.0275931114044327\n",
      "[LOG 20210201-08:15:38] training :: epoch: 259 train-loss: 0.027479336883586187\n",
      "[LOG 20210201-08:15:38] training :: epoch: 260 train-loss: 0.0273674472163503\n",
      "[LOG 20210201-08:15:38] training :: epoch: 261 train-loss: 0.02725605473208886\n",
      "[LOG 20210201-08:15:39] training :: epoch: 262 train-loss: 0.027142663199741107\n",
      "[LOG 20210201-08:15:39] training :: epoch: 263 train-loss: 0.027030078909144953\n",
      "[LOG 20210201-08:15:39] training :: epoch: 264 train-loss: 0.026919228454621937\n",
      "[LOG 20210201-08:15:39] training :: epoch: 265 train-loss: 0.026806620307839833\n",
      "[LOG 20210201-08:15:40] training :: epoch: 266 train-loss: 0.02669648897762482\n",
      "[LOG 20210201-08:15:40] training :: epoch: 267 train-loss: 0.02658488078472706\n",
      "[LOG 20210201-08:15:40] training :: epoch: 268 train-loss: 0.02647351000744563\n",
      "[LOG 20210201-08:15:40] training :: epoch: 269 train-loss: 0.026363329388774358\n",
      "[LOG 20210201-08:15:41] training :: epoch: 270 train-loss: 0.026253035077108786\n",
      "[LOG 20210201-08:15:41] training :: epoch: 271 train-loss: 0.02614175943801036\n",
      "[LOG 20210201-08:15:41] training :: epoch: 272 train-loss: 0.026030781893776014\n",
      "[LOG 20210201-08:15:41] training :: epoch: 273 train-loss: 0.025920962413343098\n",
      "[LOG 20210201-08:15:42] training :: epoch: 274 train-loss: 0.025811822153627872\n",
      "[LOG 20210201-08:15:42] training :: epoch: 275 train-loss: 0.025702473635856923\n",
      "[LOG 20210201-08:15:42] training :: epoch: 276 train-loss: 0.025593577740857236\n",
      "[LOG 20210201-08:15:42] training :: epoch: 277 train-loss: 0.025483937719120428\n",
      "[LOG 20210201-08:15:43] training :: epoch: 278 train-loss: 0.02537497426741398\n",
      "[LOG 20210201-08:15:43] training :: epoch: 279 train-loss: 0.025265240826858923\n",
      "[LOG 20210201-08:15:43] training :: epoch: 280 train-loss: 0.02515691604751807\n",
      "[LOG 20210201-08:15:43] training :: epoch: 281 train-loss: 0.025049540142600354\n",
      "[LOG 20210201-08:15:44] training :: epoch: 282 train-loss: 0.024941565325626962\n",
      "[LOG 20210201-08:15:44] training :: epoch: 283 train-loss: 0.024833248283427495\n",
      "[LOG 20210201-08:15:44] training :: epoch: 284 train-loss: 0.024725847232800264\n",
      "[LOG 20210201-08:15:44] training :: epoch: 285 train-loss: 0.02461912389844656\n",
      "[LOG 20210201-08:15:45] training :: epoch: 286 train-loss: 0.024511140341369007\n",
      "[LOG 20210201-08:15:45] training :: epoch: 287 train-loss: 0.024403414474083826\n",
      "[LOG 20210201-08:15:45] training :: epoch: 288 train-loss: 0.024297637936587516\n",
      "[LOG 20210201-08:15:45] training :: epoch: 289 train-loss: 0.024190878567214195\n",
      "[LOG 20210201-08:15:46] training :: epoch: 290 train-loss: 0.02408367502861298\n",
      "[LOG 20210201-08:15:46] training :: epoch: 291 train-loss: 0.02397767067528688\n",
      "[LOG 20210201-08:15:46] training :: epoch: 292 train-loss: 0.02387099448018349\n",
      "[LOG 20210201-08:15:47] training :: epoch: 293 train-loss: 0.02376568030852538\n",
      "[LOG 20210201-08:15:47] training :: epoch: 294 train-loss: 0.023659610117857274\n",
      "[LOG 20210201-08:15:47] training :: epoch: 295 train-loss: 0.02355393015134793\n",
      "[LOG 20210201-08:15:47] training :: epoch: 296 train-loss: 0.023448972389675103\n",
      "[LOG 20210201-08:15:48] training :: epoch: 297 train-loss: 0.023343439357211955\n",
      "[LOG 20210201-08:15:48] training :: epoch: 298 train-loss: 0.023239502826562293\n",
      "[LOG 20210201-08:15:48] training :: epoch: 299 train-loss: 0.023134528730924312\n",
      "[LOG 20210201-08:15:49] training :: epoch: 300 train-loss: 0.02302966109262063\n",
      "stock_lstm_backtest\n",
      "0% [############################# ] 100% | ETA: 00:00:00\n",
      "[LOG 20210201-08:15:53] backtest :: total return: -0.7894, monthly-sharpe: -1.2253, daily-sharpe: -0.7574.\n",
      "[LOG 20210201-08:15:54] training :: epoch: 301 train-loss: 0.022926522705417413\n",
      "[LOG 20210201-08:15:54] training :: epoch: 302 train-loss: 0.022821984755305145\n",
      "[LOG 20210201-08:15:55] training :: epoch: 303 train-loss: 0.022717708291915748\n",
      "[LOG 20210201-08:15:55] training :: epoch: 304 train-loss: 0.02261423570318864\n",
      "[LOG 20210201-08:15:55] training :: epoch: 305 train-loss: 0.022510507287314303\n"
     ]
    },
    {
     "name": "stdout",
     "output_type": "stream",
     "text": [
      "[LOG 20210201-08:15:55] training :: epoch: 306 train-loss: 0.022406611663217727\n",
      "[LOG 20210201-08:15:55] training :: epoch: 307 train-loss: 0.02230434907743564\n",
      "[LOG 20210201-08:15:56] training :: epoch: 308 train-loss: 0.022200566000090197\n",
      "[LOG 20210201-08:15:56] training :: epoch: 309 train-loss: 0.02209804507975395\n",
      "[LOG 20210201-08:15:56] training :: epoch: 310 train-loss: 0.02199546075784243\n",
      "[LOG 20210201-08:15:56] training :: epoch: 311 train-loss: 0.021892950082054503\n",
      "[LOG 20210201-08:15:57] training :: epoch: 312 train-loss: 0.0217905669974593\n",
      "[LOG 20210201-08:15:57] training :: epoch: 313 train-loss: 0.021689993615906972\n",
      "[LOG 20210201-08:15:57] training :: epoch: 314 train-loss: 0.02158746553155092\n",
      "[LOG 20210201-08:15:57] training :: epoch: 315 train-loss: 0.021485451322335463\n",
      "[LOG 20210201-08:15:57] training :: epoch: 316 train-loss: 0.021384539512487557\n",
      "[LOG 20210201-08:15:58] training :: epoch: 317 train-loss: 0.02128403476224496\n",
      "[LOG 20210201-08:15:58] training :: epoch: 318 train-loss: 0.021182504052726123\n",
      "[LOG 20210201-08:15:58] training :: epoch: 319 train-loss: 0.02108224445524124\n",
      "[LOG 20210201-08:15:59] training :: epoch: 320 train-loss: 0.02098109028660334\n",
      "[LOG 20210201-08:15:59] training :: epoch: 321 train-loss: 0.02088026129282438\n",
      "[LOG 20210201-08:15:59] training :: epoch: 322 train-loss: 0.0207798326961123\n",
      "[LOG 20210201-08:16:00] training :: epoch: 323 train-loss: 0.020679657060939532\n",
      "[LOG 20210201-08:16:00] training :: epoch: 324 train-loss: 0.020580590702593327\n",
      "[LOG 20210201-08:16:00] training :: epoch: 325 train-loss: 0.02048034851367657\n",
      "[LOG 20210201-08:16:00] training :: epoch: 326 train-loss: 0.020382405903476935\n",
      "[LOG 20210201-08:16:01] training :: epoch: 327 train-loss: 0.020282966514619496\n",
      "[LOG 20210201-08:16:01] training :: epoch: 328 train-loss: 0.020183297590567514\n",
      "[LOG 20210201-08:16:01] training :: epoch: 329 train-loss: 0.02008439629123761\n",
      "[LOG 20210201-08:16:01] training :: epoch: 330 train-loss: 0.019986771118755523\n",
      "[LOG 20210201-08:16:02] training :: epoch: 331 train-loss: 0.019887028476939753\n",
      "[LOG 20210201-08:16:02] training :: epoch: 332 train-loss: 0.01978896278887987\n",
      "[LOG 20210201-08:16:02] training :: epoch: 333 train-loss: 0.01969081643395699\n",
      "[LOG 20210201-08:16:02] training :: epoch: 334 train-loss: 0.019593901215837553\n",
      "[LOG 20210201-08:16:03] training :: epoch: 335 train-loss: 0.019495120486960962\n",
      "[LOG 20210201-08:16:03] training :: epoch: 336 train-loss: 0.01939753034653572\n",
      "[LOG 20210201-08:16:03] training :: epoch: 337 train-loss: 0.019300544634461403\n",
      "[LOG 20210201-08:16:03] training :: epoch: 338 train-loss: 0.019203889470260877\n",
      "[LOG 20210201-08:16:04] training :: epoch: 339 train-loss: 0.019106934491831522\n",
      "[LOG 20210201-08:16:04] training :: epoch: 340 train-loss: 0.01901032875936765\n",
      "[LOG 20210201-08:16:04] training :: epoch: 341 train-loss: 0.01891318866266654\n",
      "[LOG 20210201-08:16:04] training :: epoch: 342 train-loss: 0.018817691920468442\n",
      "[LOG 20210201-08:16:05] training :: epoch: 343 train-loss: 0.018721882683726456\n",
      "[LOG 20210201-08:16:05] training :: epoch: 344 train-loss: 0.01862649232722246\n",
      "[LOG 20210201-08:16:05] training :: epoch: 345 train-loss: 0.01852942258119583\n",
      "[LOG 20210201-08:16:06] training :: epoch: 346 train-loss: 0.018434703063506346\n",
      "[LOG 20210201-08:16:06] training :: epoch: 347 train-loss: 0.018339291501503725\n",
      "[LOG 20210201-08:16:06] training :: epoch: 348 train-loss: 0.018244779525467984\n",
      "[LOG 20210201-08:16:06] training :: epoch: 349 train-loss: 0.01814990325902517\n",
      "[LOG 20210201-08:16:07] training :: epoch: 350 train-loss: 0.018054972760952435\n",
      "[LOG 20210201-08:16:07] training :: epoch: 351 train-loss: 0.017960503195913937\n",
      "[LOG 20210201-08:16:07] training :: epoch: 352 train-loss: 0.01786619331687689\n",
      "[LOG 20210201-08:16:07] training :: epoch: 353 train-loss: 0.01777185993985488\n",
      "[LOG 20210201-08:16:08] training :: epoch: 354 train-loss: 0.017678227490530565\n",
      "[LOG 20210201-08:16:08] training :: epoch: 355 train-loss: 0.017585015425888393\n",
      "[LOG 20210201-08:16:08] training :: epoch: 356 train-loss: 0.017491261689708784\n",
      "[LOG 20210201-08:16:09] training :: epoch: 357 train-loss: 0.017398008288672336\n",
      "[LOG 20210201-08:16:09] training :: epoch: 358 train-loss: 0.017304581661637012\n",
      "[LOG 20210201-08:16:09] training :: epoch: 359 train-loss: 0.017212140302245434\n",
      "[LOG 20210201-08:16:09] training :: epoch: 360 train-loss: 0.01711966283619404\n",
      "[LOG 20210201-08:16:10] training :: epoch: 361 train-loss: 0.01702721846791414\n",
      "[LOG 20210201-08:16:10] training :: epoch: 362 train-loss: 0.01693520279457936\n",
      "[LOG 20210201-08:16:10] training :: epoch: 363 train-loss: 0.016842827630730774\n",
      "[LOG 20210201-08:16:11] training :: epoch: 364 train-loss: 0.016751565397358857\n",
      "[LOG 20210201-08:16:11] training :: epoch: 365 train-loss: 0.01665982876259547\n",
      "[LOG 20210201-08:16:11] training :: epoch: 366 train-loss: 0.016568379763227243\n",
      "[LOG 20210201-08:16:12] training :: epoch: 367 train-loss: 0.016476856258053046\n",
      "[LOG 20210201-08:16:12] training :: epoch: 368 train-loss: 0.016385578836959142\n",
      "[LOG 20210201-08:16:12] training :: epoch: 369 train-loss: 0.016295419934277352\n",
      "[LOG 20210201-08:16:12] training :: epoch: 370 train-loss: 0.01620505442126439\n",
      "[LOG 20210201-08:16:13] training :: epoch: 371 train-loss: 0.016113837536137838\n",
      "[LOG 20210201-08:16:13] training :: epoch: 372 train-loss: 0.01602377312687727\n",
      "[LOG 20210201-08:16:13] training :: epoch: 373 train-loss: 0.015934200384295903\n",
      "[LOG 20210201-08:16:14] training :: epoch: 374 train-loss: 0.01584413819588148\n",
      "[LOG 20210201-08:16:14] training :: epoch: 375 train-loss: 0.01575461044334448\n",
      "[LOG 20210201-08:16:14] training :: epoch: 376 train-loss: 0.015665542979079943\n",
      "[LOG 20210201-08:16:15] training :: epoch: 377 train-loss: 0.015576439551435985\n",
      "[LOG 20210201-08:16:15] training :: epoch: 378 train-loss: 0.015486701857298613\n",
      "[LOG 20210201-08:16:15] training :: epoch: 379 train-loss: 0.015398374257179407\n",
      "[LOG 20210201-08:16:15] training :: epoch: 380 train-loss: 0.015309950444274224\n",
      "[LOG 20210201-08:16:16] training :: epoch: 381 train-loss: 0.015221747068258433\n",
      "[LOG 20210201-08:16:16] training :: epoch: 382 train-loss: 0.015133647391429314\n",
      "[LOG 20210201-08:16:16] training :: epoch: 383 train-loss: 0.015046016205675326\n",
      "[LOG 20210201-08:16:16] training :: epoch: 384 train-loss: 0.014958435920282053\n",
      "[LOG 20210201-08:16:17] training :: epoch: 385 train-loss: 0.014870849223091053\n",
      "[LOG 20210201-08:16:17] training :: epoch: 386 train-loss: 0.014783830990871558\n",
      "[LOG 20210201-08:16:17] training :: epoch: 387 train-loss: 0.014696798609712949\n",
      "[LOG 20210201-08:16:18] training :: epoch: 388 train-loss: 0.014610395838434879\n",
      "[LOG 20210201-08:16:18] training :: epoch: 389 train-loss: 0.014524096049941503\n",
      "[LOG 20210201-08:16:18] training :: epoch: 390 train-loss: 0.014437604194077162\n",
      "[LOG 20210201-08:16:19] training :: epoch: 391 train-loss: 0.014351996378256725\n",
      "[LOG 20210201-08:16:19] training :: epoch: 392 train-loss: 0.01426537947442669\n",
      "[LOG 20210201-08:16:19] training :: epoch: 393 train-loss: 0.014180778597409908\n",
      "[LOG 20210201-08:16:20] training :: epoch: 394 train-loss: 0.01409455224011953\n",
      "[LOG 20210201-08:16:20] training :: epoch: 395 train-loss: 0.014009905907397088\n",
      "[LOG 20210201-08:16:20] training :: epoch: 396 train-loss: 0.013925682932425004\n",
      "[LOG 20210201-08:16:21] training :: epoch: 397 train-loss: 0.013840581039683176\n",
      "[LOG 20210201-08:16:21] training :: epoch: 398 train-loss: 0.013756204718867173\n",
      "[LOG 20210201-08:16:21] training :: epoch: 399 train-loss: 0.0136721208333396\n",
      "[LOG 20210201-08:16:21] training :: epoch: 400 train-loss: 0.013588352200503532\n",
      "stock_lstm_backtest\n",
      "0% [############################# ] 100% | ETA: 00:00:00\n",
      "[LOG 20210201-08:16:26] backtest :: total return: -0.7894, monthly-sharpe: -1.2253, daily-sharpe: -0.7574.\n",
      "[LOG 20210201-08:16:27] training :: epoch: 401 train-loss: 0.01350384445574421\n",
      "[LOG 20210201-08:16:27] training :: epoch: 402 train-loss: 0.013421808297817524\n",
      "[LOG 20210201-08:16:28] training :: epoch: 403 train-loss: 0.013337015066868983\n",
      "[LOG 20210201-08:16:28] training :: epoch: 404 train-loss: 0.013254891973561965\n",
      "[LOG 20210201-08:16:28] training :: epoch: 405 train-loss: 0.013172189561793437\n",
      "[LOG 20210201-08:16:28] training :: epoch: 406 train-loss: 0.013089354579838423\n"
     ]
    },
    {
     "name": "stdout",
     "output_type": "stream",
     "text": [
      "[LOG 20210201-08:16:29] training :: epoch: 407 train-loss: 0.013008367270231247\n",
      "[LOG 20210201-08:16:29] training :: epoch: 408 train-loss: 0.012925779948440881\n",
      "[LOG 20210201-08:16:29] training :: epoch: 409 train-loss: 0.012844231445342302\n",
      "[LOG 20210201-08:16:29] training :: epoch: 410 train-loss: 0.012762914089342723\n",
      "[LOG 20210201-08:16:30] training :: epoch: 411 train-loss: 0.012682423532868806\n",
      "[LOG 20210201-08:16:30] training :: epoch: 412 train-loss: 0.012601169327703806\n",
      "[LOG 20210201-08:16:30] training :: epoch: 413 train-loss: 0.012520278266702708\n",
      "[LOG 20210201-08:16:30] training :: epoch: 414 train-loss: 0.012440369679377629\n",
      "[LOG 20210201-08:16:31] training :: epoch: 415 train-loss: 0.012360185814591555\n",
      "[LOG 20210201-08:16:31] training :: epoch: 416 train-loss: 0.01227914821356535\n",
      "[LOG 20210201-08:16:31] training :: epoch: 417 train-loss: 0.012200118293269323\n",
      "[LOG 20210201-08:16:31] training :: epoch: 418 train-loss: 0.012120488135573955\n",
      "[LOG 20210201-08:16:32] training :: epoch: 419 train-loss: 0.01204095182653803\n",
      "[LOG 20210201-08:16:32] training :: epoch: 420 train-loss: 0.011961289287473146\n",
      "[LOG 20210201-08:16:32] training :: epoch: 421 train-loss: 0.01188390225601884\n",
      "[LOG 20210201-08:16:32] training :: epoch: 422 train-loss: 0.011806120379612995\n",
      "[LOG 20210201-08:16:33] training :: epoch: 423 train-loss: 0.011727492396648113\n",
      "[LOG 20210201-08:16:33] training :: epoch: 424 train-loss: 0.011649977379979996\n",
      "[LOG 20210201-08:16:33] training :: epoch: 425 train-loss: 0.01157201869556537\n",
      "[LOG 20210201-08:16:33] training :: epoch: 426 train-loss: 0.011494705883356241\n",
      "[LOG 20210201-08:16:34] training :: epoch: 427 train-loss: 0.011417758722717945\n",
      "[LOG 20210201-08:16:34] training :: epoch: 428 train-loss: 0.011340689845383167\n",
      "[LOG 20210201-08:16:34] training :: epoch: 429 train-loss: 0.011264023156120228\n",
      "[LOG 20210201-08:16:34] training :: epoch: 430 train-loss: 0.011187963080234252\n",
      "[LOG 20210201-08:16:35] training :: epoch: 431 train-loss: 0.011111475204905638\n",
      "[LOG 20210201-08:16:35] training :: epoch: 432 train-loss: 0.011035873554646969\n",
      "[LOG 20210201-08:16:35] training :: epoch: 433 train-loss: 0.010960360702413779\n",
      "[LOG 20210201-08:16:35] training :: epoch: 434 train-loss: 0.010885844508615823\n",
      "[LOG 20210201-08:16:36] training :: epoch: 435 train-loss: 0.010810347023205115\n",
      "[LOG 20210201-08:16:36] training :: epoch: 436 train-loss: 0.010735868476331234\n",
      "[LOG 20210201-08:16:36] training :: epoch: 437 train-loss: 0.01066171216706817\n",
      "[LOG 20210201-08:16:36] training :: epoch: 438 train-loss: 0.010587349283294035\n",
      "[LOG 20210201-08:16:37] training :: epoch: 439 train-loss: 0.01051326199936179\n",
      "[LOG 20210201-08:16:37] training :: epoch: 440 train-loss: 0.010439590730059605\n",
      "[LOG 20210201-08:16:37] training :: epoch: 441 train-loss: 0.010367011830497246\n",
      "[LOG 20210201-08:16:38] training :: epoch: 442 train-loss: 0.010294262033242445\n",
      "[LOG 20210201-08:16:38] training :: epoch: 443 train-loss: 0.010221799978843102\n",
      "[LOG 20210201-08:16:38] training :: epoch: 444 train-loss: 0.010149044271271963\n",
      "[LOG 20210201-08:16:39] training :: epoch: 445 train-loss: 0.010076975306639304\n",
      "[LOG 20210201-08:16:39] training :: epoch: 446 train-loss: 0.010005369460066924\n",
      "[LOG 20210201-08:16:39] training :: epoch: 447 train-loss: 0.00993354070501832\n",
      "[LOG 20210201-08:16:39] training :: epoch: 448 train-loss: 0.009862234099553181\n",
      "[LOG 20210201-08:16:40] training :: epoch: 449 train-loss: 0.009791712599018445\n",
      "[LOG 20210201-08:16:40] training :: epoch: 450 train-loss: 0.009720675503978362\n",
      "[LOG 20210201-08:16:40] training :: epoch: 451 train-loss: 0.009649807049964484\n",
      "[LOG 20210201-08:16:40] training :: epoch: 452 train-loss: 0.009579971432685852\n",
      "[LOG 20210201-08:16:40] training :: epoch: 453 train-loss: 0.009510484309150623\n",
      "[LOG 20210201-08:16:41] training :: epoch: 454 train-loss: 0.009440981675512515\n",
      "[LOG 20210201-08:16:41] training :: epoch: 455 train-loss: 0.00937193388549181\n",
      "[LOG 20210201-08:16:41] training :: epoch: 456 train-loss: 0.009302302156216823\n",
      "[LOG 20210201-08:16:41] training :: epoch: 457 train-loss: 0.009234352144770898\n",
      "[LOG 20210201-08:16:41] training :: epoch: 458 train-loss: 0.009165113612722892\n",
      "[LOG 20210201-08:16:42] training :: epoch: 459 train-loss: 0.009096532451132169\n",
      "[LOG 20210201-08:16:42] training :: epoch: 460 train-loss: 0.009029384487523483\n",
      "[LOG 20210201-08:16:42] training :: epoch: 461 train-loss: 0.008961648142968234\n",
      "[LOG 20210201-08:16:42] training :: epoch: 462 train-loss: 0.008894242203006377\n",
      "[LOG 20210201-08:16:43] training :: epoch: 463 train-loss: 0.008828205701250296\n",
      "[LOG 20210201-08:16:43] training :: epoch: 464 train-loss: 0.008760804991022898\n",
      "[LOG 20210201-08:16:43] training :: epoch: 465 train-loss: 0.008694652682886673\n",
      "[LOG 20210201-08:16:43] training :: epoch: 466 train-loss: 0.00862925868624678\n",
      "[LOG 20210201-08:16:44] training :: epoch: 467 train-loss: 0.008563183355503358\n",
      "[LOG 20210201-08:16:44] training :: epoch: 468 train-loss: 0.008497855411126064\n",
      "[LOG 20210201-08:16:44] training :: epoch: 469 train-loss: 0.008431670327599231\n",
      "[LOG 20210201-08:16:44] training :: epoch: 470 train-loss: 0.008367536231302299\n",
      "[LOG 20210201-08:16:45] training :: epoch: 471 train-loss: 0.008302742543701943\n",
      "[LOG 20210201-08:16:45] training :: epoch: 472 train-loss: 0.008238479853249513\n",
      "[LOG 20210201-08:16:45] training :: epoch: 473 train-loss: 0.008173999269134723\n",
      "[LOG 20210201-08:16:45] training :: epoch: 474 train-loss: 0.00811117676158364\n",
      "[LOG 20210201-08:16:45] training :: epoch: 475 train-loss: 0.00804753597969046\n",
      "[LOG 20210201-08:16:46] training :: epoch: 476 train-loss: 0.00798429949925496\n",
      "[LOG 20210201-08:16:46] training :: epoch: 477 train-loss: 0.007921708102982778\n",
      "[LOG 20210201-08:16:46] training :: epoch: 478 train-loss: 0.007858829160865683\n",
      "[LOG 20210201-08:16:46] training :: epoch: 479 train-loss: 0.0077969883926785905\n",
      "[LOG 20210201-08:16:47] training :: epoch: 480 train-loss: 0.007735410096267095\n",
      "[LOG 20210201-08:16:47] training :: epoch: 481 train-loss: 0.007673722745564122\n",
      "[LOG 20210201-08:16:47] training :: epoch: 482 train-loss: 0.007612763510014002\n",
      "[LOG 20210201-08:16:47] training :: epoch: 483 train-loss: 0.007551936504359429\n",
      "[LOG 20210201-08:16:48] training :: epoch: 484 train-loss: 0.007490996969863772\n",
      "[LOG 20210201-08:16:48] training :: epoch: 485 train-loss: 0.007431514256705458\n",
      "[LOG 20210201-08:16:48] training :: epoch: 486 train-loss: 0.007370865599323924\n",
      "[LOG 20210201-08:16:48] training :: epoch: 487 train-loss: 0.007311512178813036\n",
      "[LOG 20210201-08:16:49] training :: epoch: 488 train-loss: 0.007252553621163735\n",
      "[LOG 20210201-08:16:49] training :: epoch: 489 train-loss: 0.007193194899278192\n",
      "[LOG 20210201-08:16:49] training :: epoch: 490 train-loss: 0.007134396045540388\n",
      "[LOG 20210201-08:16:50] training :: epoch: 491 train-loss: 0.007076112965408426\n",
      "[LOG 20210201-08:16:50] training :: epoch: 492 train-loss: 0.007018230640544341\n",
      "[LOG 20210201-08:16:50] training :: epoch: 493 train-loss: 0.006960228372078676\n",
      "[LOG 20210201-08:16:50] training :: epoch: 494 train-loss: 0.006902999513281079\n",
      "[LOG 20210201-08:16:51] training :: epoch: 495 train-loss: 0.006846497193551981\n",
      "[LOG 20210201-08:16:51] training :: epoch: 496 train-loss: 0.0067897245574456\n",
      "[LOG 20210201-08:16:51] training :: epoch: 497 train-loss: 0.006733129499480128\n",
      "[LOG 20210201-08:16:51] training :: epoch: 498 train-loss: 0.006677321534460554\n",
      "[LOG 20210201-08:16:52] training :: epoch: 499 train-loss: 0.0066213253348206096\n",
      "[LOG 20210201-08:16:52] training :: epoch: 500 train-loss: 0.006565971353736062\n",
      "stock_lstm_backtest\n",
      "0% [############################# ] 100% | ETA: 00:00:00\n",
      "[LOG 20210201-08:16:56] backtest :: total return: -0.7894, monthly-sharpe: -1.2253, daily-sharpe: -0.7574.\n",
      "[LOG 20210201-08:16:58] training :: epoch: 501 train-loss: 0.0065103698020371106\n",
      "[LOG 20210201-08:16:58] training :: epoch: 502 train-loss: 0.00645640605272582\n",
      "[LOG 20210201-08:16:58] training :: epoch: 503 train-loss: 0.00640208048459429\n",
      "[LOG 20210201-08:16:58] training :: epoch: 504 train-loss: 0.006348413916734548\n",
      "[LOG 20210201-08:16:59] training :: epoch: 505 train-loss: 0.006294100921457777\n",
      "[LOG 20210201-08:16:59] training :: epoch: 506 train-loss: 0.006240500674511378\n",
      "[LOG 20210201-08:16:59] training :: epoch: 507 train-loss: 0.006187499464991001\n"
     ]
    },
    {
     "name": "stdout",
     "output_type": "stream",
     "text": [
      "[LOG 20210201-08:16:59] training :: epoch: 508 train-loss: 0.006135111065724721\n",
      "[LOG 20210201-08:17:00] training :: epoch: 509 train-loss: 0.006082548598687236\n",
      "[LOG 20210201-08:17:00] training :: epoch: 510 train-loss: 0.006030249158636882\n",
      "[LOG 20210201-08:17:00] training :: epoch: 511 train-loss: 0.005979045849436751\n",
      "[LOG 20210201-08:17:01] training :: epoch: 512 train-loss: 0.005927718262403057\n",
      "[LOG 20210201-08:17:01] training :: epoch: 513 train-loss: 0.005876925147066896\n",
      "[LOG 20210201-08:17:01] training :: epoch: 514 train-loss: 0.005826250309697711\n",
      "[LOG 20210201-08:17:02] training :: epoch: 515 train-loss: 0.005775743683513541\n",
      "[LOG 20210201-08:17:02] training :: epoch: 516 train-loss: 0.005726407658165464\n",
      "[LOG 20210201-08:17:02] training :: epoch: 517 train-loss: 0.005676793256917825\n",
      "[LOG 20210201-08:17:02] training :: epoch: 518 train-loss: 0.00562789267860353\n",
      "[LOG 20210201-08:17:03] training :: epoch: 519 train-loss: 0.005578394119556134\n",
      "[LOG 20210201-08:17:03] training :: epoch: 520 train-loss: 0.005530430254741357\n",
      "[LOG 20210201-08:17:03] training :: epoch: 521 train-loss: 0.005482109693380503\n",
      "[LOG 20210201-08:17:03] training :: epoch: 522 train-loss: 0.005434794046987708\n",
      "[LOG 20210201-08:17:04] training :: epoch: 523 train-loss: 0.005387197732209013\n",
      "[LOG 20210201-08:17:04] training :: epoch: 524 train-loss: 0.005340345203876495\n",
      "[LOG 20210201-08:17:04] training :: epoch: 525 train-loss: 0.0052934864070266485\n",
      "[LOG 20210201-08:17:04] training :: epoch: 526 train-loss: 0.005247299219123446\n",
      "[LOG 20210201-08:17:05] training :: epoch: 527 train-loss: 0.005201225204823108\n",
      "[LOG 20210201-08:17:05] training :: epoch: 528 train-loss: 0.005155969858885958\n",
      "[LOG 20210201-08:17:05] training :: epoch: 529 train-loss: 0.0051104249074482005\n",
      "[LOG 20210201-08:17:05] training :: epoch: 530 train-loss: 0.0050661999624795635\n",
      "[LOG 20210201-08:17:05] training :: epoch: 531 train-loss: 0.005021678803202052\n",
      "[LOG 20210201-08:17:06] training :: epoch: 532 train-loss: 0.00497722731401714\n",
      "[LOG 20210201-08:17:06] training :: epoch: 533 train-loss: 0.004933740567559233\n",
      "[LOG 20210201-08:17:06] training :: epoch: 534 train-loss: 0.004890512549676574\n",
      "[LOG 20210201-08:17:06] training :: epoch: 535 train-loss: 0.004847670726191539\n",
      "[LOG 20210201-08:17:07] training :: epoch: 536 train-loss: 0.004805606968987446\n",
      "[LOG 20210201-08:17:07] training :: epoch: 537 train-loss: 0.004763344463963921\n",
      "[LOG 20210201-08:17:07] training :: epoch: 538 train-loss: 0.00472138779094586\n",
      "[LOG 20210201-08:17:07] training :: epoch: 539 train-loss: 0.004680086446639437\n",
      "[LOG 20210201-08:17:08] training :: epoch: 540 train-loss: 0.004639403339332113\n",
      "[LOG 20210201-08:17:08] training :: epoch: 541 train-loss: 0.004598486953629897\n",
      "[LOG 20210201-08:17:08] training :: epoch: 542 train-loss: 0.00455834695066397\n",
      "[LOG 20210201-08:17:08] training :: epoch: 543 train-loss: 0.004518074699892447\n",
      "[LOG 20210201-08:17:09] training :: epoch: 544 train-loss: 0.004478783758643728\n",
      "[LOG 20210201-08:17:09] training :: epoch: 545 train-loss: 0.004440083132626919\n",
      "[LOG 20210201-08:17:09] training :: epoch: 546 train-loss: 0.0044010230519164065\n",
      "[LOG 20210201-08:17:10] training :: epoch: 547 train-loss: 0.004362936382396863\n",
      "[LOG 20210201-08:17:10] training :: epoch: 548 train-loss: 0.004324623365671589\n",
      "[LOG 20210201-08:17:10] training :: epoch: 549 train-loss: 0.004287780119249454\n",
      "[LOG 20210201-08:17:10] training :: epoch: 550 train-loss: 0.004250293400568457\n",
      "[LOG 20210201-08:17:11] training :: epoch: 551 train-loss: 0.004213576849836569\n",
      "[LOG 20210201-08:17:11] training :: epoch: 552 train-loss: 0.004177553507571037\n",
      "[LOG 20210201-08:17:11] training :: epoch: 553 train-loss: 0.004141842695669486\n",
      "[LOG 20210201-08:17:11] training :: epoch: 554 train-loss: 0.004106202019521823\n",
      "[LOG 20210201-08:17:12] training :: epoch: 555 train-loss: 0.004070968438799565\n",
      "[LOG 20210201-08:17:12] training :: epoch: 556 train-loss: 0.0040362856816500425\n",
      "[LOG 20210201-08:17:12] training :: epoch: 557 train-loss: 0.004001954319671943\n",
      "[LOG 20210201-08:17:12] training :: epoch: 558 train-loss: 0.003968167638119597\n",
      "[LOG 20210201-08:17:13] training :: epoch: 559 train-loss: 0.00393438355352443\n",
      "[LOG 20210201-08:17:13] training :: epoch: 560 train-loss: 0.003901252639479935\n",
      "[LOG 20210201-08:17:13] training :: epoch: 561 train-loss: 0.003868725491114534\n",
      "[LOG 20210201-08:17:14] training :: epoch: 562 train-loss: 0.0038363767895274437\n",
      "[LOG 20210201-08:17:14] training :: epoch: 563 train-loss: 0.0038045036803501155\n",
      "[LOG 20210201-08:17:14] training :: epoch: 564 train-loss: 0.0037729274123333967\n",
      "[LOG 20210201-08:17:14] training :: epoch: 565 train-loss: 0.003741879087801163\n",
      "[LOG 20210201-08:17:15] training :: epoch: 566 train-loss: 0.003711760348568742\n",
      "[LOG 20210201-08:17:15] training :: epoch: 567 train-loss: 0.0036812575462345895\n",
      "[LOG 20210201-08:17:15] training :: epoch: 568 train-loss: 0.003651203981672342\n",
      "[LOG 20210201-08:17:15] training :: epoch: 569 train-loss: 0.0036224430480685374\n",
      "[LOG 20210201-08:17:16] training :: epoch: 570 train-loss: 0.0035930884052784396\n",
      "[LOG 20210201-08:17:16] training :: epoch: 571 train-loss: 0.0035645216703414917\n",
      "[LOG 20210201-08:17:16] training :: epoch: 572 train-loss: 0.0035362969277999722\n",
      "[LOG 20210201-08:17:16] training :: epoch: 573 train-loss: 0.003508604749535712\n",
      "[LOG 20210201-08:17:17] training :: epoch: 574 train-loss: 0.003481680822845262\n",
      "[LOG 20210201-08:17:17] training :: epoch: 575 train-loss: 0.0034550218305622158\n",
      "[LOG 20210201-08:17:17] training :: epoch: 576 train-loss: 0.003428190203311925\n",
      "[LOG 20210201-08:17:18] training :: epoch: 577 train-loss: 0.0034021511047075573\n",
      "[LOG 20210201-08:17:18] training :: epoch: 578 train-loss: 0.0033767697078963886\n",
      "[LOG 20210201-08:17:18] training :: epoch: 579 train-loss: 0.0033518181164534045\n",
      "[LOG 20210201-08:17:18] training :: epoch: 580 train-loss: 0.0033271828612599233\n",
      "[LOG 20210201-08:17:19] training :: epoch: 581 train-loss: 0.0033030245954600666\n",
      "[LOG 20210201-08:17:19] training :: epoch: 582 train-loss: 0.0032787087391345547\n",
      "[LOG 20210201-08:17:19] training :: epoch: 583 train-loss: 0.003255646845970589\n",
      "[LOG 20210201-08:17:19] training :: epoch: 584 train-loss: 0.003232752474454733\n",
      "[LOG 20210201-08:17:20] training :: epoch: 585 train-loss: 0.0032100949006584976\n",
      "[LOG 20210201-08:17:20] training :: epoch: 586 train-loss: 0.0031876120573052992\n",
      "[LOG 20210201-08:17:20] training :: epoch: 587 train-loss: 0.0031663650163234426\n",
      "[LOG 20210201-08:17:20] training :: epoch: 588 train-loss: 0.0031448965086243474\n",
      "[LOG 20210201-08:17:21] training :: epoch: 589 train-loss: 0.00312430933655168\n",
      "[LOG 20210201-08:17:21] training :: epoch: 590 train-loss: 0.003104202556782044\n",
      "[LOG 20210201-08:17:21] training :: epoch: 591 train-loss: 0.003083797861248828\n",
      "[LOG 20210201-08:17:21] training :: epoch: 592 train-loss: 0.0030649236152664973\n",
      "[LOG 20210201-08:17:22] training :: epoch: 593 train-loss: 0.003045932210695285\n",
      "[LOG 20210201-08:17:22] training :: epoch: 594 train-loss: 0.003027326033379023\n",
      "[LOG 20210201-08:17:22] training :: epoch: 595 train-loss: 0.003008946033123021\n",
      "[LOG 20210201-08:17:22] training :: epoch: 596 train-loss: 0.002991640017941021\n",
      "[LOG 20210201-08:17:23] training :: epoch: 597 train-loss: 0.002974436734803021\n",
      "[LOG 20210201-08:17:23] training :: epoch: 598 train-loss: 0.0029573919645582256\n",
      "[LOG 20210201-08:17:23] training :: epoch: 599 train-loss: 0.002940932405181229\n",
      "[LOG 20210201-08:17:23] training :: epoch: 600 train-loss: 0.002925492500743041\n",
      "stock_lstm_backtest\n",
      "0% [############################# ] 100% | ETA: 00:00:00\n",
      "[LOG 20210201-08:17:27] backtest :: total return: 2.6189, monthly-sharpe: 1.1133, daily-sharpe: 0.7575.\n",
      "[LOG 20210201-08:17:28] training :: epoch: 601 train-loss: 0.002910040730897051\n",
      "[LOG 20210201-08:17:28] training :: epoch: 602 train-loss: 0.0028954501210067133\n",
      "[LOG 20210201-08:17:28] training :: epoch: 603 train-loss: 0.002880647429265082\n",
      "[LOG 20210201-08:17:29] training :: epoch: 604 train-loss: 0.0028668239605254852\n",
      "[LOG 20210201-08:17:29] training :: epoch: 605 train-loss: 0.0028535036835819483\n",
      "[LOG 20210201-08:17:29] training :: epoch: 606 train-loss: 0.0028401492163538933\n",
      "[LOG 20210201-08:17:30] training :: epoch: 607 train-loss: 0.002827705591558837\n"
     ]
    },
    {
     "name": "stdout",
     "output_type": "stream",
     "text": [
      "[LOG 20210201-08:17:30] training :: epoch: 608 train-loss: 0.0028153903907738053\n",
      "[LOG 20210201-08:17:30] training :: epoch: 609 train-loss: 0.0028038209196753227\n",
      "[LOG 20210201-08:17:30] training :: epoch: 610 train-loss: 0.002792466951247591\n",
      "[LOG 20210201-08:17:30] training :: epoch: 611 train-loss: 0.002781658675163411\n",
      "[LOG 20210201-08:17:31] training :: epoch: 612 train-loss: 0.0027709240093827248\n",
      "[LOG 20210201-08:17:31] training :: epoch: 613 train-loss: 0.0027616063419442912\n",
      "[LOG 20210201-08:17:31] training :: epoch: 614 train-loss: 0.002751722716941283\n",
      "[LOG 20210201-08:17:31] training :: epoch: 615 train-loss: 0.002743478721150985\n",
      "[LOG 20210201-08:17:32] training :: epoch: 616 train-loss: 0.0027346047214590586\n",
      "[LOG 20210201-08:17:32] training :: epoch: 617 train-loss: 0.002726827452604014\n",
      "[LOG 20210201-08:17:32] training :: epoch: 618 train-loss: 0.002719232848343941\n",
      "[LOG 20210201-08:17:32] training :: epoch: 619 train-loss: 0.0027120425186764737\n",
      "[LOG 20210201-08:17:33] training :: epoch: 620 train-loss: 0.002705384663736018\n",
      "[LOG 20210201-08:17:33] training :: epoch: 621 train-loss: 0.0026992338333422174\n",
      "[LOG 20210201-08:17:33] training :: epoch: 622 train-loss: 0.002693431469826744\n",
      "[LOG 20210201-08:17:33] training :: epoch: 623 train-loss: 0.002688546638147762\n",
      "[LOG 20210201-08:17:33] training :: epoch: 624 train-loss: 0.002683499281724485\n",
      "[LOG 20210201-08:17:34] training :: epoch: 625 train-loss: 0.0026797625200393107\n",
      "[LOG 20210201-08:17:34] training :: epoch: 626 train-loss: 0.002675360203004227\n",
      "[LOG 20210201-08:17:34] training :: epoch: 627 train-loss: 0.0026726763462647796\n",
      "[LOG 20210201-08:17:34] training :: epoch: 628 train-loss: 0.002669621160468803\n",
      "[LOG 20210201-08:17:34] training :: epoch: 629 train-loss: 0.0026674401641894993\n",
      "[LOG 20210201-08:17:35] training :: epoch: 630 train-loss: 0.0026655123533251193\n",
      "[LOG 20210201-08:17:35] training :: epoch: 631 train-loss: 0.002663957904307888\n",
      "[LOG 20210201-08:17:35] training :: epoch: 632 train-loss: 0.0026629550400404977\n",
      "[LOG 20210201-08:17:35] training :: epoch: 633 train-loss: 0.0026624380395962642\n",
      "[LOG 20210201-08:17:36] training :: epoch: 634 train-loss: 0.0026625538907515314\n",
      "[LOG 20210201-08:17:36] training :: epoch: 635 train-loss: 0.002662938885175838\n",
      "[LOG 20210201-08:17:36] training :: epoch: 636 train-loss: 0.0026638278683934072\n",
      "[LOG 20210201-08:17:36] training :: epoch: 637 train-loss: 0.002665105499685384\n",
      "[LOG 20210201-08:17:36] training :: epoch: 638 train-loss: 0.002667042023788851\n",
      "[LOG 20210201-08:17:37] training :: epoch: 639 train-loss: 0.0026698904828383373\n",
      "[LOG 20210201-08:17:37] training :: epoch: 640 train-loss: 0.0026722939129775534\n",
      "[LOG 20210201-08:17:37] training :: epoch: 641 train-loss: 0.0026755491719366266\n",
      "[LOG 20210201-08:17:37] training :: epoch: 642 train-loss: 0.002680144702585844\n",
      "[LOG 20210201-08:17:38] training :: epoch: 643 train-loss: 0.0026840493262100676\n",
      "[LOG 20210201-08:17:38] training :: epoch: 644 train-loss: 0.0026891640960597075\n",
      "[LOG 20210201-08:17:38] training :: epoch: 645 train-loss: 0.0026944858971266793\n",
      "[LOG 20210201-08:17:38] training :: epoch: 646 train-loss: 0.0027003432624042034\n",
      "[LOG 20210201-08:17:38] training :: epoch: 647 train-loss: 0.002705960740478566\n",
      "[LOG 20210201-08:17:39] training :: epoch: 648 train-loss: 0.0027127936661529998\n",
      "[LOG 20210201-08:17:39] training :: epoch: 649 train-loss: 0.0027201721588006387\n",
      "[LOG 20210201-08:17:39] training :: epoch: 650 train-loss: 0.0027276795052994904\n",
      "[LOG 20210201-08:17:39] training :: epoch: 651 train-loss: 0.0027357794595165895\n",
      "[LOG 20210201-08:17:40] training :: epoch: 652 train-loss: 0.0027449961142757763\n",
      "[LOG 20210201-08:17:40] training :: epoch: 653 train-loss: 0.00275368145846117\n",
      "[LOG 20210201-08:17:40] training :: epoch: 654 train-loss: 0.0027633231903354707\n",
      "[LOG 20210201-08:17:40] training :: epoch: 655 train-loss: 0.002773564434252106\n",
      "[LOG 20210201-08:17:41] training :: epoch: 656 train-loss: 0.0027841321694163177\n",
      "[LOG 20210201-08:17:41] training :: epoch: 657 train-loss: 0.002795715843184063\n",
      "[LOG 20210201-08:17:41] training :: epoch: 658 train-loss: 0.002807142911478877\n",
      "[LOG 20210201-08:17:41] training :: epoch: 659 train-loss: 0.002819099651577954\n",
      "[LOG 20210201-08:17:42] training :: epoch: 660 train-loss: 0.0028311665922116777\n",
      "[LOG 20210201-08:17:42] training :: epoch: 661 train-loss: 0.002844484863229669\n",
      "[LOG 20210201-08:17:42] training :: epoch: 662 train-loss: 0.0028577689529181672\n",
      "[LOG 20210201-08:17:42] training :: epoch: 663 train-loss: 0.002871882448044534\n",
      "[LOG 20210201-08:17:42] training :: epoch: 664 train-loss: 0.002886259722380111\n",
      "[LOG 20210201-08:17:43] training :: epoch: 665 train-loss: 0.002900992099267359\n",
      "[LOG 20210201-08:17:43] training :: epoch: 666 train-loss: 0.0029167225763488272\n",
      "[LOG 20210201-08:17:43] training :: epoch: 667 train-loss: 0.0029326213899856578\n",
      "[LOG 20210201-08:17:43] training :: epoch: 668 train-loss: 0.0029487568311966383\n",
      "[LOG 20210201-08:17:44] training :: epoch: 669 train-loss: 0.0029656578374740025\n",
      "[LOG 20210201-08:17:44] training :: epoch: 670 train-loss: 0.0029830670951364133\n",
      "[LOG 20210201-08:17:44] training :: epoch: 671 train-loss: 0.003001002290357764\n",
      "[LOG 20210201-08:17:44] training :: epoch: 672 train-loss: 0.0030193509032519963\n",
      "[LOG 20210201-08:17:45] training :: epoch: 673 train-loss: 0.0030382855598313305\n",
      "[LOG 20210201-08:17:45] training :: epoch: 674 train-loss: 0.003057477055475689\n",
      "[LOG 20210201-08:17:45] training :: epoch: 675 train-loss: 0.00307704781432851\n",
      "[LOG 20210201-08:17:45] training :: epoch: 676 train-loss: 0.003097447880113927\n",
      "[LOG 20210201-08:17:46] training :: epoch: 677 train-loss: 0.0031176380490740905\n",
      "[LOG 20210201-08:17:46] training :: epoch: 678 train-loss: 0.0031391424485124075\n",
      "[LOG 20210201-08:17:46] training :: epoch: 679 train-loss: 0.0031606531164680538\n",
      "[LOG 20210201-08:17:46] training :: epoch: 680 train-loss: 0.0031829490057694223\n",
      "[LOG 20210201-08:17:46] training :: epoch: 681 train-loss: 0.003205153186662266\n",
      "[LOG 20210201-08:17:47] training :: epoch: 682 train-loss: 0.003228255798323796\n",
      "[LOG 20210201-08:17:47] training :: epoch: 683 train-loss: 0.0032517649233341217\n",
      "[LOG 20210201-08:17:47] training :: epoch: 684 train-loss: 0.003275790251791477\n",
      "[LOG 20210201-08:17:47] training :: epoch: 685 train-loss: 0.003300166751544636\n",
      "[LOG 20210201-08:17:48] training :: epoch: 686 train-loss: 0.0033255834221983184\n",
      "[LOG 20210201-08:17:48] training :: epoch: 687 train-loss: 0.00335101278212208\n",
      "[LOG 20210201-08:17:48] training :: epoch: 688 train-loss: 0.0033765587006480647\n",
      "[LOG 20210201-08:17:48] training :: epoch: 689 train-loss: 0.003402717089137206\n",
      "[LOG 20210201-08:17:49] training :: epoch: 690 train-loss: 0.003429111746999507\n",
      "[LOG 20210201-08:17:49] training :: epoch: 691 train-loss: 0.003456638122980411\n",
      "[LOG 20210201-08:17:49] training :: epoch: 692 train-loss: 0.003484411380038812\n",
      "[LOG 20210201-08:17:49] training :: epoch: 693 train-loss: 0.0035124497953802347\n",
      "[LOG 20210201-08:17:50] training :: epoch: 694 train-loss: 0.003540997250148883\n",
      "[LOG 20210201-08:17:50] training :: epoch: 695 train-loss: 0.0035700392013845537\n",
      "[LOG 20210201-08:17:50] training :: epoch: 696 train-loss: 0.0035998570517851757\n",
      "[LOG 20210201-08:17:50] training :: epoch: 697 train-loss: 0.0036294618979669535\n",
      "[LOG 20210201-08:17:51] training :: epoch: 698 train-loss: 0.0036596912765302337\n",
      "[LOG 20210201-08:17:51] training :: epoch: 699 train-loss: 0.0036908634938299656\n",
      "[LOG 20210201-08:17:51] training :: epoch: 700 train-loss: 0.003722578869201243\n",
      "stock_lstm_backtest\n",
      "0% [############################# ] 100% | ETA: 00:00:00\n",
      "[LOG 20210201-08:17:55] backtest :: total return: 2.6189, monthly-sharpe: 1.1133, daily-sharpe: 0.7575.\n",
      "[LOG 20210201-08:17:56] training :: epoch: 701 train-loss: 0.0037539170499747763\n",
      "[LOG 20210201-08:17:56] training :: epoch: 702 train-loss: 0.0037859419736867915\n",
      "[LOG 20210201-08:17:56] training :: epoch: 703 train-loss: 0.0038193015274233543\n",
      "[LOG 20210201-08:17:57] training :: epoch: 704 train-loss: 0.0038513192871155646\n",
      "[LOG 20210201-08:17:57] training :: epoch: 705 train-loss: 0.0038849373097316576\n",
      "[LOG 20210201-08:17:57] training :: epoch: 706 train-loss: 0.003919117484026804\n",
      "[LOG 20210201-08:17:57] training :: epoch: 707 train-loss: 0.003953337203711271\n"
     ]
    },
    {
     "name": "stdout",
     "output_type": "stream",
     "text": [
      "[LOG 20210201-08:17:58] training :: epoch: 708 train-loss: 0.003988507633598952\n",
      "[LOG 20210201-08:17:58] training :: epoch: 709 train-loss: 0.0040239280161376186\n",
      "[LOG 20210201-08:17:58] training :: epoch: 710 train-loss: 0.004059512006978576\n",
      "[LOG 20210201-08:17:59] training :: epoch: 711 train-loss: 0.0040952542151969215\n",
      "[LOG 20210201-08:17:59] training :: epoch: 712 train-loss: 0.004131766000332741\n",
      "[LOG 20210201-08:17:59] training :: epoch: 713 train-loss: 0.004169298765751032\n",
      "[LOG 20210201-08:17:59] training :: epoch: 714 train-loss: 0.004205776360602333\n",
      "[LOG 20210201-08:18:00] training :: epoch: 715 train-loss: 0.004243327537551522\n",
      "[LOG 20210201-08:18:00] training :: epoch: 716 train-loss: 0.0042813903508851165\n",
      "[LOG 20210201-08:18:00] training :: epoch: 717 train-loss: 0.004320246149570896\n",
      "[LOG 20210201-08:18:00] training :: epoch: 718 train-loss: 0.0043591939880011175\n",
      "[LOG 20210201-08:18:01] training :: epoch: 719 train-loss: 0.0043988330110621\n",
      "[LOG 20210201-08:18:01] training :: epoch: 720 train-loss: 0.004437797290917773\n",
      "[LOG 20210201-08:18:01] training :: epoch: 721 train-loss: 0.004478048945132356\n",
      "[LOG 20210201-08:18:01] training :: epoch: 722 train-loss: 0.004518788881026781\n",
      "[LOG 20210201-08:18:02] training :: epoch: 723 train-loss: 0.004558904400955026\n",
      "[LOG 20210201-08:18:02] training :: epoch: 724 train-loss: 0.004600638577428002\n",
      "[LOG 20210201-08:18:02] training :: epoch: 725 train-loss: 0.004641991305666475\n",
      "[LOG 20210201-08:18:02] training :: epoch: 726 train-loss: 0.004683805719161263\n",
      "[LOG 20210201-08:18:03] training :: epoch: 727 train-loss: 0.004726319573819637\n",
      "[LOG 20210201-08:18:03] training :: epoch: 728 train-loss: 0.004768806330573101\n",
      "[LOG 20210201-08:18:03] training :: epoch: 729 train-loss: 0.00481219426728785\n",
      "[LOG 20210201-08:18:03] training :: epoch: 730 train-loss: 0.004855483036058454\n",
      "[LOG 20210201-08:18:04] training :: epoch: 731 train-loss: 0.004898958857386158\n",
      "[LOG 20210201-08:18:04] training :: epoch: 732 train-loss: 0.00494249639674448\n",
      "[LOG 20210201-08:18:04] training :: epoch: 733 train-loss: 0.004987170937686012\n",
      "[LOG 20210201-08:18:04] training :: epoch: 734 train-loss: 0.00503120064520492\n",
      "[LOG 20210201-08:18:05] training :: epoch: 735 train-loss: 0.0050763034154302795\n",
      "[LOG 20210201-08:18:05] training :: epoch: 736 train-loss: 0.005121424059885053\n",
      "[LOG 20210201-08:18:05] training :: epoch: 737 train-loss: 0.0051671475745164435\n",
      "[LOG 20210201-08:18:05] training :: epoch: 738 train-loss: 0.005212872056290507\n",
      "[LOG 20210201-08:18:05] training :: epoch: 739 train-loss: 0.005259402490292604\n",
      "[LOG 20210201-08:18:06] training :: epoch: 740 train-loss: 0.005305642494931817\n",
      "[LOG 20210201-08:18:06] training :: epoch: 741 train-loss: 0.005352525380798257\n",
      "[LOG 20210201-08:18:06] training :: epoch: 742 train-loss: 0.00539872061031369\n",
      "[LOG 20210201-08:18:06] training :: epoch: 743 train-loss: 0.005446107037222156\n",
      "[LOG 20210201-08:18:07] training :: epoch: 744 train-loss: 0.005493425047741487\n",
      "[LOG 20210201-08:18:07] training :: epoch: 745 train-loss: 0.0055415332317352295\n",
      "[LOG 20210201-08:18:07] training :: epoch: 746 train-loss: 0.005590023222164466\n",
      "[LOG 20210201-08:18:07] training :: epoch: 747 train-loss: 0.005637231139609447\n",
      "[LOG 20210201-08:18:08] training :: epoch: 748 train-loss: 0.00568567246843416\n",
      "[LOG 20210201-08:18:08] training :: epoch: 749 train-loss: 0.005734630484277239\n",
      "[LOG 20210201-08:18:08] training :: epoch: 750 train-loss: 0.00578379722383733\n",
      "[LOG 20210201-08:18:08] training :: epoch: 751 train-loss: 0.005832363708088031\n",
      "[LOG 20210201-08:18:09] training :: epoch: 752 train-loss: 0.005881441183961355\n",
      "[LOG 20210201-08:18:09] training :: epoch: 753 train-loss: 0.0059303001751406835\n",
      "[LOG 20210201-08:18:09] training :: epoch: 754 train-loss: 0.005981064276196635\n",
      "[LOG 20210201-08:18:09] training :: epoch: 755 train-loss: 0.006030269182072236\n",
      "[LOG 20210201-08:18:10] training :: epoch: 756 train-loss: 0.006080554690785133\n",
      "[LOG 20210201-08:18:10] training :: epoch: 757 train-loss: 0.006130709097935603\n",
      "[LOG 20210201-08:18:10] training :: epoch: 758 train-loss: 0.006180238927929447\n",
      "[LOG 20210201-08:18:10] training :: epoch: 759 train-loss: 0.006230541684020024\n",
      "[LOG 20210201-08:18:10] training :: epoch: 760 train-loss: 0.00628186110407114\n",
      "[LOG 20210201-08:18:11] training :: epoch: 761 train-loss: 0.006331884105188342\n",
      "[LOG 20210201-08:18:11] training :: epoch: 762 train-loss: 0.00638285051816358\n",
      "[LOG 20210201-08:18:11] training :: epoch: 763 train-loss: 0.006433752956441962\n",
      "[LOG 20210201-08:18:11] training :: epoch: 764 train-loss: 0.006484736670525028\n",
      "[LOG 20210201-08:18:12] training :: epoch: 765 train-loss: 0.006535277916834905\n",
      "[LOG 20210201-08:18:12] training :: epoch: 766 train-loss: 0.006586552937873281\n",
      "[LOG 20210201-08:18:12] training :: epoch: 767 train-loss: 0.006637789129924316\n",
      "[LOG 20210201-08:18:13] training :: epoch: 768 train-loss: 0.006689416011795402\n",
      "[LOG 20210201-08:18:13] training :: epoch: 769 train-loss: 0.006740967707278637\n",
      "[LOG 20210201-08:18:13] training :: epoch: 770 train-loss: 0.0067917064835245795\n",
      "[LOG 20210201-08:18:13] training :: epoch: 771 train-loss: 0.006843742824947605\n",
      "[LOG 20210201-08:18:14] training :: epoch: 772 train-loss: 0.006894897060612073\n",
      "[LOG 20210201-08:18:14] training :: epoch: 773 train-loss: 0.0069469443629854005\n",
      "[LOG 20210201-08:18:14] training :: epoch: 774 train-loss: 0.006998078861775307\n",
      "[LOG 20210201-08:18:15] training :: epoch: 775 train-loss: 0.00704963868842102\n",
      "[LOG 20210201-08:18:15] training :: epoch: 776 train-loss: 0.007101250830321358\n",
      "[LOG 20210201-08:18:15] training :: epoch: 777 train-loss: 0.007152353699963827\n",
      "[LOG 20210201-08:18:15] training :: epoch: 778 train-loss: 0.007204372579088578\n",
      "[LOG 20210201-08:18:16] training :: epoch: 779 train-loss: 0.007256111273398766\n",
      "[LOG 20210201-08:18:16] training :: epoch: 780 train-loss: 0.007307199510530784\n",
      "[LOG 20210201-08:18:16] training :: epoch: 781 train-loss: 0.007359211834577413\n",
      "[LOG 20210201-08:18:16] training :: epoch: 782 train-loss: 0.007410539135050315\n",
      "[LOG 20210201-08:18:17] training :: epoch: 783 train-loss: 0.007461471787582223\n",
      "[LOG 20210201-08:18:17] training :: epoch: 784 train-loss: 0.007513467258272262\n",
      "[LOG 20210201-08:18:17] training :: epoch: 785 train-loss: 0.007564255878185997\n",
      "[LOG 20210201-08:18:17] training :: epoch: 786 train-loss: 0.007615244660813075\n",
      "[LOG 20210201-08:18:18] training :: epoch: 787 train-loss: 0.0076663193579476615\n",
      "[LOG 20210201-08:18:18] training :: epoch: 788 train-loss: 0.007717214721756486\n",
      "[LOG 20210201-08:18:18] training :: epoch: 789 train-loss: 0.0077686423901468515\n",
      "[LOG 20210201-08:18:19] training :: epoch: 790 train-loss: 0.007819079471608767\n",
      "[LOG 20210201-08:18:19] training :: epoch: 791 train-loss: 0.007870051830720443\n",
      "[LOG 20210201-08:18:19] training :: epoch: 792 train-loss: 0.007920619171972457\n",
      "[LOG 20210201-08:18:19] training :: epoch: 793 train-loss: 0.007970914781953279\n",
      "[LOG 20210201-08:18:20] training :: epoch: 794 train-loss: 0.008021527614731055\n",
      "[LOG 20210201-08:18:20] training :: epoch: 795 train-loss: 0.008071205328003718\n",
      "[LOG 20210201-08:18:20] training :: epoch: 796 train-loss: 0.008121260119458804\n",
      "[LOG 20210201-08:18:20] training :: epoch: 797 train-loss: 0.00817082947693192\n",
      "[LOG 20210201-08:18:21] training :: epoch: 798 train-loss: 0.008221257370538436\n",
      "[LOG 20210201-08:18:21] training :: epoch: 799 train-loss: 0.008269838773860382\n",
      "[LOG 20210201-08:18:21] training :: epoch: 800 train-loss: 0.008319823429561578\n",
      "stock_lstm_backtest\n",
      "0% [############################# ] 100% | ETA: 00:00:00\n",
      "[LOG 20210201-08:18:25] backtest :: total return: 2.6189, monthly-sharpe: 1.1133, daily-sharpe: 0.7575.\n",
      "[LOG 20210201-08:18:27] training :: epoch: 801 train-loss: 0.008368342398450924\n",
      "[LOG 20210201-08:18:27] training :: epoch: 802 train-loss: 0.008417209825263573\n",
      "[LOG 20210201-08:18:27] training :: epoch: 803 train-loss: 0.008465944646069637\n",
      "[LOG 20210201-08:18:27] training :: epoch: 804 train-loss: 0.008514842985627743\n",
      "[LOG 20210201-08:18:28] training :: epoch: 805 train-loss: 0.00856260761905175\n",
      "[LOG 20210201-08:18:28] training :: epoch: 806 train-loss: 0.00861025988482512\n",
      "[LOG 20210201-08:18:28] training :: epoch: 807 train-loss: 0.008658561927194778\n",
      "[LOG 20210201-08:18:28] training :: epoch: 808 train-loss: 0.008705905387894465\n"
     ]
    },
    {
     "name": "stdout",
     "output_type": "stream",
     "text": [
      "[LOG 20210201-08:18:29] training :: epoch: 809 train-loss: 0.008753983554645227\n",
      "[LOG 20210201-08:18:29] training :: epoch: 810 train-loss: 0.008800845235013045\n",
      "[LOG 20210201-08:18:29] training :: epoch: 811 train-loss: 0.00884703199307506\n",
      "[LOG 20210201-08:18:29] training :: epoch: 812 train-loss: 0.008892717807052227\n",
      "[LOG 20210201-08:18:30] training :: epoch: 813 train-loss: 0.008939577051653312\n",
      "[LOG 20210201-08:18:30] training :: epoch: 814 train-loss: 0.008985164969299849\n",
      "[LOG 20210201-08:18:30] training :: epoch: 815 train-loss: 0.009030658859186448\n",
      "[LOG 20210201-08:18:30] training :: epoch: 816 train-loss: 0.00907622453255149\n",
      "[LOG 20210201-08:18:31] training :: epoch: 817 train-loss: 0.009120352745342713\n",
      "[LOG 20210201-08:18:31] training :: epoch: 818 train-loss: 0.00916563837717359\n",
      "[LOG 20210201-08:18:31] training :: epoch: 819 train-loss: 0.009210028434888674\n",
      "[LOG 20210201-08:18:31] training :: epoch: 820 train-loss: 0.009253214077594189\n",
      "[LOG 20210201-08:18:32] training :: epoch: 821 train-loss: 0.009297504591254087\n",
      "[LOG 20210201-08:18:32] training :: epoch: 822 train-loss: 0.009340024445779048\n",
      "[LOG 20210201-08:18:32] training :: epoch: 823 train-loss: 0.009382750982275376\n",
      "[LOG 20210201-08:18:33] training :: epoch: 824 train-loss: 0.009425903133188304\n",
      "[LOG 20210201-08:18:33] training :: epoch: 825 train-loss: 0.009468023235408159\n",
      "[LOG 20210201-08:18:33] training :: epoch: 826 train-loss: 0.009510060736479668\n",
      "[LOG 20210201-08:18:34] training :: epoch: 827 train-loss: 0.009551163691167649\n",
      "[LOG 20210201-08:18:34] training :: epoch: 828 train-loss: 0.009592064011555452\n",
      "[LOG 20210201-08:18:34] training :: epoch: 829 train-loss: 0.009632848239002319\n",
      "[LOG 20210201-08:18:35] training :: epoch: 830 train-loss: 0.009673100143957596\n",
      "[LOG 20210201-08:18:35] training :: epoch: 831 train-loss: 0.009712559421761678\n",
      "[LOG 20210201-08:18:36] training :: epoch: 832 train-loss: 0.009752345880350241\n",
      "[LOG 20210201-08:18:36] training :: epoch: 833 train-loss: 0.009790133219212294\n",
      "[LOG 20210201-08:18:36] training :: epoch: 834 train-loss: 0.009829371988486785\n",
      "[LOG 20210201-08:18:37] training :: epoch: 835 train-loss: 0.009867236734582828\n",
      "[LOG 20210201-08:18:37] training :: epoch: 836 train-loss: 0.009905159151038298\n",
      "[LOG 20210201-08:18:37] training :: epoch: 837 train-loss: 0.009942017244891478\n",
      "[LOG 20210201-08:18:38] training :: epoch: 838 train-loss: 0.009979346050665928\n",
      "[LOG 20210201-08:18:38] training :: epoch: 839 train-loss: 0.010015114210546017\n",
      "[LOG 20210201-08:18:38] training :: epoch: 840 train-loss: 0.010051165313388292\n",
      "[LOG 20210201-08:18:39] training :: epoch: 841 train-loss: 0.01008680323138833\n",
      "[LOG 20210201-08:18:39] training :: epoch: 842 train-loss: 0.010122145454470929\n",
      "[LOG 20210201-08:18:39] training :: epoch: 843 train-loss: 0.01015573345984404\n",
      "[LOG 20210201-08:18:40] training :: epoch: 844 train-loss: 0.010190448580453029\n",
      "[LOG 20210201-08:18:40] training :: epoch: 845 train-loss: 0.010224665013643412\n",
      "[LOG 20210201-08:18:40] training :: epoch: 846 train-loss: 0.010257911653472828\n",
      "[LOG 20210201-08:18:40] training :: epoch: 847 train-loss: 0.010290332675839845\n",
      "[LOG 20210201-08:18:41] training :: epoch: 848 train-loss: 0.010322041093156887\n",
      "[LOG 20210201-08:18:41] training :: epoch: 849 train-loss: 0.010355256354579559\n",
      "[LOG 20210201-08:18:41] training :: epoch: 850 train-loss: 0.01038508783452786\n",
      "[LOG 20210201-08:18:42] training :: epoch: 851 train-loss: 0.010416469715822201\n",
      "[LOG 20210201-08:18:42] training :: epoch: 852 train-loss: 0.01044655555429367\n",
      "[LOG 20210201-08:18:42] training :: epoch: 853 train-loss: 0.010477040357028063\n",
      "[LOG 20210201-08:18:42] training :: epoch: 854 train-loss: 0.010506219517153043\n",
      "[LOG 20210201-08:18:43] training :: epoch: 855 train-loss: 0.010535958903626753\n",
      "[LOG 20210201-08:18:43] training :: epoch: 856 train-loss: 0.010564489254298119\n",
      "[LOG 20210201-08:18:43] training :: epoch: 857 train-loss: 0.010592663660645485\n",
      "[LOG 20210201-08:18:44] training :: epoch: 858 train-loss: 0.010619538012318887\n",
      "[LOG 20210201-08:18:44] training :: epoch: 859 train-loss: 0.010647109100738397\n",
      "[LOG 20210201-08:18:44] training :: epoch: 860 train-loss: 0.010673160019975442\n",
      "[LOG 20210201-08:18:45] training :: epoch: 861 train-loss: 0.01070009394047352\n",
      "[LOG 20210201-08:18:45] training :: epoch: 862 train-loss: 0.010725918046843547\n",
      "[LOG 20210201-08:18:45] training :: epoch: 863 train-loss: 0.01075084786862135\n",
      "[LOG 20210201-08:18:46] training :: epoch: 864 train-loss: 0.010775635806986919\n",
      "[LOG 20210201-08:18:46] training :: epoch: 865 train-loss: 0.010799480530504998\n",
      "[LOG 20210201-08:18:46] training :: epoch: 866 train-loss: 0.010824601380870892\n",
      "[LOG 20210201-08:18:46] training :: epoch: 867 train-loss: 0.010846616700291634\n",
      "[LOG 20210201-08:18:47] training :: epoch: 868 train-loss: 0.01087047983534061\n",
      "[LOG 20210201-08:18:47] training :: epoch: 869 train-loss: 0.010891681644492425\n",
      "[LOG 20210201-08:18:47] training :: epoch: 870 train-loss: 0.010914356197015597\n",
      "[LOG 20210201-08:18:48] training :: epoch: 871 train-loss: 0.010935917854882203\n",
      "[LOG 20210201-08:18:48] training :: epoch: 872 train-loss: 0.010957001995008726\n",
      "[LOG 20210201-08:18:48] training :: epoch: 873 train-loss: 0.010977856241739713\n",
      "[LOG 20210201-08:18:48] training :: epoch: 874 train-loss: 0.010998113904721461\n",
      "[LOG 20210201-08:18:49] training :: epoch: 875 train-loss: 0.011017631846838273\n",
      "[LOG 20210201-08:18:49] training :: epoch: 876 train-loss: 0.011036505242093252\n",
      "[LOG 20210201-08:18:49] training :: epoch: 877 train-loss: 0.011054934575580634\n",
      "[LOG 20210201-08:18:50] training :: epoch: 878 train-loss: 0.011073976540221618\n",
      "[LOG 20210201-08:18:50] training :: epoch: 879 train-loss: 0.011091998957384091\n",
      "[LOG 20210201-08:18:50] training :: epoch: 880 train-loss: 0.011109803659984699\n",
      "[LOG 20210201-08:18:50] training :: epoch: 881 train-loss: 0.011126612635472646\n",
      "[LOG 20210201-08:18:51] training :: epoch: 882 train-loss: 0.011143249208823992\n",
      "[LOG 20210201-08:18:51] training :: epoch: 883 train-loss: 0.011158820241689682\n",
      "[LOG 20210201-08:18:51] training :: epoch: 884 train-loss: 0.011174684963547267\n",
      "[LOG 20210201-08:18:51] training :: epoch: 885 train-loss: 0.01119056512386753\n",
      "[LOG 20210201-08:18:52] training :: epoch: 886 train-loss: 0.011204456050808612\n",
      "[LOG 20210201-08:18:52] training :: epoch: 887 train-loss: 0.011219423335905258\n",
      "[LOG 20210201-08:18:52] training :: epoch: 888 train-loss: 0.011233022866340784\n",
      "[LOG 20210201-08:18:52] training :: epoch: 889 train-loss: 0.011247121621496402\n",
      "[LOG 20210201-08:18:53] training :: epoch: 890 train-loss: 0.011259747776561059\n",
      "[LOG 20210201-08:18:53] training :: epoch: 891 train-loss: 0.011272427482673755\n",
      "[LOG 20210201-08:18:53] training :: epoch: 892 train-loss: 0.011285495514479967\n",
      "[LOG 20210201-08:18:53] training :: epoch: 893 train-loss: 0.011296722393196363\n",
      "[LOG 20210201-08:18:54] training :: epoch: 894 train-loss: 0.011308126867963718\n",
      "[LOG 20210201-08:18:54] training :: epoch: 895 train-loss: 0.011319047520653559\n",
      "[LOG 20210201-08:18:54] training :: epoch: 896 train-loss: 0.011329987480376776\n",
      "[LOG 20210201-08:18:54] training :: epoch: 897 train-loss: 0.011339277029037476\n",
      "[LOG 20210201-08:18:55] training :: epoch: 898 train-loss: 0.011349087509398278\n",
      "[LOG 20210201-08:18:55] training :: epoch: 899 train-loss: 0.011357801393247567\n",
      "[LOG 20210201-08:18:55] training :: epoch: 900 train-loss: 0.011367292752346167\n",
      "stock_lstm_backtest\n",
      "0% [############################# ] 100% | ETA: 00:00:00\n",
      "[LOG 20210201-08:18:59] backtest :: total return: 2.6189, monthly-sharpe: 1.1133, daily-sharpe: 0.7575.\n",
      "[LOG 20210201-08:19:01] training :: epoch: 901 train-loss: 0.011376234487845348\n",
      "[LOG 20210201-08:19:01] training :: epoch: 902 train-loss: 0.011383851202061543\n",
      "[LOG 20210201-08:19:02] training :: epoch: 903 train-loss: 0.011391056271699758\n",
      "[LOG 20210201-08:19:02] training :: epoch: 904 train-loss: 0.011398083064705133\n",
      "[LOG 20210201-08:19:02] training :: epoch: 905 train-loss: 0.01140473668391888\n",
      "[LOG 20210201-08:19:03] training :: epoch: 906 train-loss: 0.011410613186084308\n",
      "[LOG 20210201-08:19:03] training :: epoch: 907 train-loss: 0.011416413642179508\n",
      "[LOG 20210201-08:19:03] training :: epoch: 908 train-loss: 0.011422581469210295\n",
      "[LOG 20210201-08:19:03] training :: epoch: 909 train-loss: 0.011427853901225787\n"
     ]
    },
    {
     "name": "stdout",
     "output_type": "stream",
     "text": [
      "[LOG 20210201-08:19:04] training :: epoch: 910 train-loss: 0.011431837597718606\n",
      "[LOG 20210201-08:19:04] training :: epoch: 911 train-loss: 0.011436155459915217\n",
      "[LOG 20210201-08:19:04] training :: epoch: 912 train-loss: 0.011440054907535132\n",
      "[LOG 20210201-08:19:05] training :: epoch: 913 train-loss: 0.011442911202231279\n",
      "[LOG 20210201-08:19:05] training :: epoch: 914 train-loss: 0.011446560482279612\n",
      "[LOG 20210201-08:19:05] training :: epoch: 915 train-loss: 0.01144926525795689\n",
      "[LOG 20210201-08:19:06] training :: epoch: 916 train-loss: 0.011451429436699702\n",
      "[LOG 20210201-08:19:06] training :: epoch: 917 train-loss: 0.01145277383665626\n",
      "[LOG 20210201-08:19:06] training :: epoch: 918 train-loss: 0.011453836081692806\n",
      "[LOG 20210201-08:19:07] training :: epoch: 919 train-loss: 0.0114552854345395\n",
      "[LOG 20210201-08:19:07] training :: epoch: 920 train-loss: 0.01145523707740582\n",
      "[LOG 20210201-08:19:07] training :: epoch: 921 train-loss: 0.011454915735297479\n",
      "[LOG 20210201-08:19:07] training :: epoch: 922 train-loss: 0.011455377671294488\n",
      "[LOG 20210201-08:19:08] training :: epoch: 923 train-loss: 0.011454917203921538\n",
      "[LOG 20210201-08:19:08] training :: epoch: 924 train-loss: 0.01145315936838205\n",
      "[LOG 20210201-08:19:08] training :: epoch: 925 train-loss: 0.011451926440573655\n",
      "[LOG 20210201-08:19:08] training :: epoch: 926 train-loss: 0.011449610062230092\n",
      "[LOG 20210201-08:19:08] training :: epoch: 927 train-loss: 0.011447922863925878\n",
      "[LOG 20210201-08:19:09] training :: epoch: 928 train-loss: 0.011445808403480511\n",
      "[LOG 20210201-08:19:09] training :: epoch: 929 train-loss: 0.011442433971051987\n",
      "[LOG 20210201-08:19:09] training :: epoch: 930 train-loss: 0.011439506179438187\n",
      "[LOG 20210201-08:19:09] training :: epoch: 931 train-loss: 0.011436071461783005\n",
      "[LOG 20210201-08:19:10] training :: epoch: 932 train-loss: 0.011431567585812165\n",
      "[LOG 20210201-08:19:10] training :: epoch: 933 train-loss: 0.01142693475748484\n",
      "[LOG 20210201-08:19:10] training :: epoch: 934 train-loss: 0.01142133535960546\n",
      "[LOG 20210201-08:19:10] training :: epoch: 935 train-loss: 0.011416394191865738\n",
      "[LOG 20210201-08:19:11] training :: epoch: 936 train-loss: 0.011410117292633424\n",
      "[LOG 20210201-08:19:11] training :: epoch: 937 train-loss: 0.011404175203866683\n",
      "[LOG 20210201-08:19:11] training :: epoch: 938 train-loss: 0.011397472117096186\n",
      "[LOG 20210201-08:19:11] training :: epoch: 939 train-loss: 0.011391034779640345\n",
      "[LOG 20210201-08:19:11] training :: epoch: 940 train-loss: 0.0113839628533102\n",
      "[LOG 20210201-08:19:12] training :: epoch: 941 train-loss: 0.011375796766235279\n",
      "[LOG 20210201-08:19:12] training :: epoch: 942 train-loss: 0.011367658153176308\n",
      "[LOG 20210201-08:19:12] training :: epoch: 943 train-loss: 0.0113586586756775\n",
      "[LOG 20210201-08:19:12] training :: epoch: 944 train-loss: 0.01135128134718308\n",
      "[LOG 20210201-08:19:13] training :: epoch: 945 train-loss: 0.011342241428792477\n",
      "[LOG 20210201-08:19:13] training :: epoch: 946 train-loss: 0.011332100866219172\n",
      "[LOG 20210201-08:19:13] training :: epoch: 947 train-loss: 0.01132263895124197\n",
      "[LOG 20210201-08:19:13] training :: epoch: 948 train-loss: 0.011311936478775281\n",
      "[LOG 20210201-08:19:14] training :: epoch: 949 train-loss: 0.011301076970994473\n",
      "[LOG 20210201-08:19:14] training :: epoch: 950 train-loss: 0.01129080100844686\n",
      "[LOG 20210201-08:19:14] training :: epoch: 951 train-loss: 0.011279666903786935\n",
      "[LOG 20210201-08:19:14] training :: epoch: 952 train-loss: 0.011267721867905213\n",
      "[LOG 20210201-08:19:15] training :: epoch: 953 train-loss: 0.011255999059917835\n",
      "[LOG 20210201-08:19:15] training :: epoch: 954 train-loss: 0.01124327085339106\n",
      "[LOG 20210201-08:19:15] training :: epoch: 955 train-loss: 0.011230996451698817\n",
      "[LOG 20210201-08:19:15] training :: epoch: 956 train-loss: 0.011217364396613378\n",
      "[LOG 20210201-08:19:16] training :: epoch: 957 train-loss: 0.011203927668527914\n",
      "[LOG 20210201-08:19:16] training :: epoch: 958 train-loss: 0.011191102031331796\n",
      "[LOG 20210201-08:19:16] training :: epoch: 959 train-loss: 0.01117643198141685\n",
      "[LOG 20210201-08:19:16] training :: epoch: 960 train-loss: 0.011162146531905118\n",
      "[LOG 20210201-08:19:17] training :: epoch: 961 train-loss: 0.01114810498144764\n",
      "[LOG 20210201-08:19:17] training :: epoch: 962 train-loss: 0.011132736654522328\n",
      "[LOG 20210201-08:19:17] training :: epoch: 963 train-loss: 0.011117278096767573\n",
      "[LOG 20210201-08:19:17] training :: epoch: 964 train-loss: 0.011102079342191037\n",
      "[LOG 20210201-08:19:18] training :: epoch: 965 train-loss: 0.011086271216089908\n",
      "[LOG 20210201-08:19:18] training :: epoch: 966 train-loss: 0.01106934561035954\n",
      "[LOG 20210201-08:19:18] training :: epoch: 967 train-loss: 0.011052456505310077\n",
      "[LOG 20210201-08:19:18] training :: epoch: 968 train-loss: 0.011035704304679083\n",
      "[LOG 20210201-08:19:19] training :: epoch: 969 train-loss: 0.011018657555373816\n",
      "[LOG 20210201-08:19:19] training :: epoch: 970 train-loss: 0.011000997494333066\n",
      "[LOG 20210201-08:19:19] training :: epoch: 971 train-loss: 0.010982298113119144\n",
      "[LOG 20210201-08:19:20] training :: epoch: 972 train-loss: 0.010964162253703062\n",
      "[LOG 20210201-08:19:20] training :: epoch: 973 train-loss: 0.010945109149011282\n",
      "[LOG 20210201-08:19:20] training :: epoch: 974 train-loss: 0.010926918055002507\n",
      "[LOG 20210201-08:19:20] training :: epoch: 975 train-loss: 0.010907672309818177\n",
      "[LOG 20210201-08:19:21] training :: epoch: 976 train-loss: 0.010888148063363938\n",
      "[LOG 20210201-08:19:21] training :: epoch: 977 train-loss: 0.010867889110858623\n",
      "[LOG 20210201-08:19:21] training :: epoch: 978 train-loss: 0.010848185441528376\n",
      "[LOG 20210201-08:19:21] training :: epoch: 979 train-loss: 0.010827892639029484\n",
      "[LOG 20210201-08:19:22] training :: epoch: 980 train-loss: 0.010807130306672592\n",
      "[LOG 20210201-08:19:22] training :: epoch: 981 train-loss: 0.010785668801802855\n",
      "[LOG 20210201-08:19:22] training :: epoch: 982 train-loss: 0.010764292692049192\n",
      "[LOG 20210201-08:19:22] training :: epoch: 983 train-loss: 0.010742784334489932\n",
      "[LOG 20210201-08:19:23] training :: epoch: 984 train-loss: 0.010720635012078743\n",
      "[LOG 20210201-08:19:23] training :: epoch: 985 train-loss: 0.010699107992247893\n",
      "[LOG 20210201-08:19:23] training :: epoch: 986 train-loss: 0.010676904832227873\n",
      "[LOG 20210201-08:19:23] training :: epoch: 987 train-loss: 0.01065354124427988\n",
      "[LOG 20210201-08:19:24] training :: epoch: 988 train-loss: 0.010630333330482244\n",
      "[LOG 20210201-08:19:24] training :: epoch: 989 train-loss: 0.010607182191541562\n",
      "[LOG 20210201-08:19:24] training :: epoch: 990 train-loss: 0.010583702080811445\n",
      "[LOG 20210201-08:19:24] training :: epoch: 991 train-loss: 0.010559969975684699\n",
      "[LOG 20210201-08:19:24] training :: epoch: 992 train-loss: 0.010535924480511593\n",
      "[LOG 20210201-08:19:25] training :: epoch: 993 train-loss: 0.010511682619555639\n",
      "[LOG 20210201-08:19:25] training :: epoch: 994 train-loss: 0.010486373642029671\n",
      "[LOG 20210201-08:19:25] training :: epoch: 995 train-loss: 0.010461398651107\n",
      "[LOG 20210201-08:19:26] training :: epoch: 996 train-loss: 0.010436463456314344\n",
      "[LOG 20210201-08:19:26] training :: epoch: 997 train-loss: 0.010411201331477899\n",
      "[LOG 20210201-08:19:26] training :: epoch: 998 train-loss: 0.010385856318932313\n",
      "[LOG 20210201-08:19:26] training :: epoch: 999 train-loss: 0.010360167899097387\n",
      "[LOG 20210201-08:19:27] training :: epoch: 1000 train-loss: 0.010333878668741537\n",
      "stock_lstm_backtest\n",
      "0% [############################# ] 100% | ETA: 00:00:00\n",
      "[LOG 20210201-08:19:30] backtest :: total return: 2.6189, monthly-sharpe: 1.1133, daily-sharpe: 0.7575.\n"
     ]
    }
   ],
   "source": [
    "# init collection of training epoch losses\n",
    "train_epoch_losses = []\n",
    "\n",
    "# set the model in training mode\n",
    "lstm_model.train()\n",
    "\n",
    "# determine experiment timestamp\n",
    "exp_timestamp = dt.datetime.utcnow().strftime(\"%Y-%m-%d_%H-%M-%S\")\n",
    "\n",
    "# iterate over epochs\n",
    "for epoch in range(0, no_epochs):\n",
    "\n",
    "    # init collection of mini-batch losses\n",
    "    train_mini_batch_losses = []\n",
    "            \n",
    "    # iterate over mini-batches\n",
    "    for input_batch, target_batch in train_dataloader:\n",
    "        \n",
    "        # push mini-batch data to computation device\n",
    "        input_batch = input_batch.to(device)\n",
    "        target_batch = target_batch.to(device)\n",
    "        \n",
    "        # predict sequence output\n",
    "        prediction_batch = lstm_model(input_batch)\n",
    "        \n",
    "        # calculate batch loss\n",
    "        batch_loss = loss_function(prediction_batch, target_batch)\n",
    "\n",
    "        # run backward gradient calculation\n",
    "        batch_loss.backward()\n",
    "\n",
    "        # update network parameters\n",
    "        optimizer.step()\n",
    "        \n",
    "        # collect mini-batch loss\n",
    "        train_mini_batch_losses.append(batch_loss.data.item())\n",
    "            \n",
    "    # determine mean min-batch loss of epoch\n",
    "    train_epoch_loss = np.mean(train_mini_batch_losses)\n",
    "    \n",
    "    # print epoch loss\n",
    "    now = dt.datetime.utcnow().strftime(\"%Y%m%d-%H:%M:%S\")\n",
    "    print('[LOG {}] training :: epoch: {} train-loss: {}'.format(str(now), str(epoch), str(train_epoch_loss)))\n",
    "    \n",
    "    # determine mean min-batch loss of epoch\n",
    "    train_epoch_losses.append(train_epoch_loss)\n",
    "        \n",
    "    # print epoch and save models\n",
    "    if epoch % train_checkpoint_epoch == 0 and epoch > 0:\n",
    "        \n",
    "        # determine the model predictions\n",
    "        train_predictions_list = compute_model_predictions(lstm_model, train_sequences_input)\n",
    "        \n",
    "        # convert the model predictions into trading signals\n",
    "        signal_data = compute_model_signals(train_predictions_list, train_stock_sequence_target_date, signal_threshold)\n",
    "        \n",
    "        # determine and prepare the in-sample market data \n",
    "        market_data = compute_market_data(stock_data_price, signal_data)\n",
    "        \n",
    "        # run the model backtest\n",
    "        backtest_result_stats, backtest_result_details = model_backtest(signal_data, market_data)\n",
    "        \n",
    "        # print the backtest performance \n",
    "        now = dt.datetime.utcnow().strftime(\"%Y%m%d-%H:%M:%S\")\n",
    "        print('\\n[LOG {}] backtest :: total return: {}, monthly-sharpe: {}, daily-sharpe: {}.'.format(str(now), str(np.round(backtest_result_stats['total_return'], 4)), str(np.round(backtest_result_stats['monthly_sharpe'], 4)), str(np.round(backtest_result_stats['daily_sharpe'], 4))))\n",
    "      \n",
    "        # save a checkoint of the current model parameters \n",
    "        model_name = '{}_many2one_lstm_model_{}.pth'.format(str(exp_timestamp), str(no_epochs))\n",
    "        torch.save(lstm_model.state_dict(), os.path.join(models_directory, model_name))\n",
    "        \n",
    "        # visualize the model in-sample predictions\n",
    "        filename = '{}_many2one_lstm_predictions_{}.png'.format(str(exp_timestamp), str(no_epochs))\n",
    "        plot_model_predictions(train_stock_sequence_target_date, train_sequences_target, train_predictions_list, epoch, filename)\n",
    "        \n",
    "        # collect and log the current training statistics\n",
    "        timestamp = dt.datetime.utcnow().strftime('%Y.%m.%d-%H:%M:%S')\n",
    "        training_statistics.iloc[int(epoch/train_checkpoint_epoch)-1] = [str(timestamp), str(epoch), str(mini_batch_size), str(learning_rate), str(np.round(train_epoch_loss, 8)), str(signal_threshold), str(backtest_result_stats['trade_signals']), str(np.round(backtest_result_stats['total_return'], 4)), str(np.round(backtest_result_stats['monthly_sharpe'], 4)), str(np.round(backtest_result_stats['daily_sharpe'], 4))]\n",
    "        \n",
    "        # save the log of the current experiment statistics\n",
    "        file_name = '{}_many2one_lstm_statistics_ep_{}.csv'.format(str(exp_timestamp), str(no_epochs))\n",
    "        training_statistics.to_csv(os.path.join(statistics_directory, file_name), sep=',', encoding='utf-8')"
   ]
  },
  {
   "cell_type": "markdown",
   "metadata": {},
   "source": [
    "Ok, fantastic. The **training error** is **nicely going down**. We could train the network a couple more epochs until the error converges. But let's stay with the 1000 training epochs for now and continue with evaluating our trained model. Upon successful training let's visualize and inspect the training loss per training epoch:"
   ]
  },
  {
   "cell_type": "code",
   "execution_count": 100,
   "metadata": {},
   "outputs": [
    {
     "data": {
      "image/png": "[encoded data removed]",
      "text/plain": [
       "<Figure size 1080x360 with 1 Axes>"
      ]
     },
     "metadata": {},
     "output_type": "display_data"
    }
   ],
   "source": [
    "# prepare plot\n",
    "fig = plt.figure()\n",
    "ax = fig.add_subplot(111)\n",
    "\n",
    "# add grid\n",
    "ax.grid(linestyle='dotted')\n",
    "\n",
    "# plot the training epochs vs. the epochs' prediction error\n",
    "ax.plot(np.array(range(1, len(train_epoch_losses)+1)), train_epoch_losses, label='epoch loss (blue)')\n",
    "\n",
    "# add axis legends\n",
    "ax.set_xlabel(\"[training epoch $e_i$]\", fontsize=10)\n",
    "ax.set_ylabel(\"[Prediction Error $\\mathcal{L}^{MSE}$]\", fontsize=10)\n",
    "\n",
    "# set plot legend\n",
    "plt.legend(loc=\"upper right\", numpoints=1, fancybox=True)\n",
    "\n",
    "# add plot title\n",
    "plt.title('Training Epochs $e_i$ vs. Prediction Error $L^{MSE}$', fontsize=10);"
   ]
  },
  {
   "cell_type": "markdown",
   "metadata": {},
   "source": [
    "In this section, we will conduct a visual comparison of the predicted daily returns to the actual ('true') daily returns. The comparison will encompass the daily returns of the in-sample time period as well as the returns of the out-of-sample time period."
   ]
  },
  {
   "cell_type": "markdown",
   "metadata": {},
   "source": [
    "### 6. Model Import and Validation"
   ]
  },
  {
   "cell_type": "markdown",
   "metadata": {},
   "source": [
    "In this section, we will **import the trained model** that exhibits the **highest in-sample performance**. In addition, we will use the imported model to determine daily return predictions based on the population of **validation (\"out-of-sample\") input return** sequences. Finally, we will visualize the daily validation return **predictions** of the trained model in contrast to the validation (\"out-of-sample\") **target returns**."
   ]
  },
  {
   "cell_type": "markdown",
   "metadata": {},
   "source": [
    "#### 6.1. Import Trained Neural Network Model"
   ]
  },
  {
   "cell_type": "markdown",
   "metadata": {},
   "source": [
    "Before starting our evaluation, let's **import the trained model** that exhibits the **highest in-sample performance** (or any other already trained model we aim to evaluate). Remember, that we stored a checkpoint of all model parameters for  each training epoch to our local model directory. Now, we will load the best performing checkpoint saved (which will hopefully also yield a good out-of-sample performance):"
   ]
  },
  {
   "cell_type": "code",
   "execution_count": 101,
   "metadata": {},
   "outputs": [
    {
     "data": {
      "text/plain": [
       "<All keys matched successfully>"
      ]
     },
     "execution_count": 101,
     "metadata": {},
     "output_type": "execute_result"
    }
   ],
   "source": [
    "# init the pre-trained model architecture\n",
    "lstm_model_trained = LSTMNet_Many2One().to(device)\n",
    "\n",
    "# set the pre-trained model name we aim to load\n",
    "lstm_model_name_trained = 'https://raw.githubusercontent.com/financial-data-science/CFDS-Notebooks/master/lab_15/models/best_many2one_lstm_model_10000.pth'\n",
    "\n",
    "# read pretrained model from the remote location\n",
    "lstm_model_trained_bytes = urllib.request.urlopen(lstm_model_name_trained)\n",
    "\n",
    "# load tensor from io.BytesIO object\n",
    "lstm_model_trained_buffer = io.BytesIO(lstm_model_trained_bytes.read())\n",
    "\n",
    "# load the pre-trained model paramaters \n",
    "lstm_model_trained.load_state_dict(torch.load(lstm_model_trained_buffer, map_location=lambda storage, loc: storage))"
   ]
  },
  {
   "cell_type": "markdown",
   "metadata": {},
   "source": [
    "Ok, all keys (\"model parameters\") matched successfully. This indicates that the trained model was successfully imported into the notebook."
   ]
  },
  {
   "cell_type": "markdown",
   "metadata": {},
   "source": [
    "#### 6.2. Derive Model Return Predictions"
   ]
  },
  {
   "cell_type": "markdown",
   "metadata": {},
   "source": [
    "Next, we will conduct an **out-of-sample** validation of the trained and imported neural network model. Therefore, we will use the **trained model** to determine daily return predictions based on the population of **validation (\"out-of-sample\") input return** sequences:"
   ]
  },
  {
   "cell_type": "code",
   "execution_count": 102,
   "metadata": {},
   "outputs": [],
   "source": [
    "# predict sequence output\n",
    "valid_predictions = lstm_model_trained(valid_sequences_input.to(device))\n",
    "\n",
    "# collect prediction batch results\n",
    "valid_predictions_list = valid_predictions.cpu().detach().numpy()[:, -1].tolist()\n",
    "\n",
    "# collect target batch results\n",
    "valid_targets_list = (valid_sequences_target).numpy()[:, -1].tolist()"
   ]
  },
  {
   "cell_type": "markdown",
   "metadata": {},
   "source": [
    "Let's also visualize the daily validation predictions of the trained model in contrast to the **validation (\"out-of-sample\") target return** sequences:"
   ]
  },
  {
   "cell_type": "code",
   "execution_count": 103,
   "metadata": {},
   "outputs": [
    {
     "data": {
      "image/png": "[encoded data removed]",
      "text/plain": [
       "<Figure size 1080x360 with 1 Axes>"
      ]
     },
     "metadata": {},
     "output_type": "display_data"
    }
   ],
   "source": [
    "# plot the prediction results\n",
    "plt.style.use('seaborn')\n",
    "plt.rcParams['figure.figsize'] = [15, 5]\n",
    "\n",
    "fig = plt.figure()\n",
    "ax = fig.add_subplot(111)\n",
    "\n",
    "# plot ground-truth out-of-sample returns\n",
    "ax.plot(valid_stock_sequence_target_date[:, -1], valid_targets_list, color='C1', label='groundtruth (green)')\n",
    "\n",
    "# plot predicted out-of-sample returns\n",
    "ax.plot(valid_stock_sequence_target_date[:, -1], valid_predictions_list, color='C0', label='predictions (blue)')\n",
    "\n",
    "# set x-axis limits\n",
    "ax.set_xlim(valid_stock_sequence_target_date[:, -1].min(), valid_stock_sequence_target_date[:, -1].max())\n",
    "\n",
    "# set plot legend\n",
    "plt.legend(loc=\"lower right\", numpoints=1, fancybox=True)\n",
    "\n",
    "# set plot title\n",
    "plt.title('LSTM NN Many2One Out-of-Sample Prediction vs. Ground-Truth Market Prices', fontsize=10)\n",
    "\n",
    "# set axis labels\n",
    "plt.xlabel('[time]', fontsize=8)\n",
    "plt.ylabel('[market price]', fontsize=8)\n",
    "\n",
    "# set axis ticks fontsize\n",
    "plt.xticks(fontsize=8)\n",
    "plt.yticks(fontsize=8);"
   ]
  },
  {
   "cell_type": "markdown",
   "metadata": {},
   "source": [
    "### 7. Model Backtest"
   ]
  },
  {
   "cell_type": "markdown",
   "metadata": {},
   "source": [
    "In this section, we will backtest the python `bt` library. Python `bt` is a flexible, backtest framework that can be used to test quantitative trading strategies. In general, backtesting is the process of testing a strategy over a given data set (more details about the `bt` library can be found via: https://pmorissette.github.io/bt/)."
   ]
  },
  {
   "cell_type": "markdown",
   "metadata": {},
   "source": [
    "#### 7.1. Derive Model Trade Signals"
   ]
  },
  {
   "cell_type": "markdown",
   "metadata": {},
   "source": [
    "Next, we will the validation (\"out-of-sample\") **future return predictions $\\hat{r}_{t+1}$** into **trade signals** $\\phi(\\hat{r}_{t+1})$. Thereby, we will, similarly as above, interpret any positive future return prediction greater or equal a predefined threshold $t$ as a **\"long\" (buy)** signal, formally denoted by $r_{t+1} \\geq t$. Correspondingly, we will interpret any negative future return prediction lower or equal a predefined threshold $-t$, formally denoted by $r_{t+1} \\leq -t$ as a **\"short\" (sell)** signal. Formally, the out-of-sample trading signal are derived according to:"
   ]
  },
  {
   "cell_type": "markdown",
   "metadata": {},
   "source": [
    "<center>\n",
    "$\n",
    "\\\\\n",
    "\\phi(\\hat{r}_{t+1})=\n",
    "\\begin{cases}\n",
    "1.0 & \\textrm{(\"long signal\")}, & for & \\hat{r}_{t+1} > t\\\\\n",
    "-1.0 & \\textrm{(\"short signal\")}, & for & \\hat{r}_{t+1} < -t\\\\\n",
    "\\end{cases}\n",
    "$\n",
    "</center>"
   ]
  },
  {
   "cell_type": "markdown",
   "metadata": {},
   "source": [
    "where $\\hat{r}_{t+1}$ denotes a by the model predicted future return at time $t+1$. To achieve this, let's specify the trade signal threshold $t$ as introduced above:"
   ]
  },
  {
   "cell_type": "code",
   "execution_count": 104,
   "metadata": {},
   "outputs": [],
   "source": [
    "valid_signal_threshold = 0.001"
   ]
  },
  {
   "cell_type": "markdown",
   "metadata": {},
   "source": [
    "In a following step, let's compute the trade signals $\\phi(\\hat{r}_{t+1})$ accordingly:"
   ]
  },
  {
   "cell_type": "code",
   "execution_count": 105,
   "metadata": {},
   "outputs": [],
   "source": [
    "# init and prepare the model signal data \n",
    "valid_signal_data = pd.DataFrame(valid_predictions_list, columns=['PREDICTIONS'], index=valid_stock_sequence_target_date[:, -1])\n",
    "\n",
    "# derive trading signals from model predictions\n",
    "valid_signal_data['SIGNAL'] = np.where(valid_signal_data['PREDICTIONS'] >= valid_signal_threshold, 1.0, 0.0)\n",
    "valid_signal_data['SIGNAL'] = np.where(valid_signal_data['PREDICTIONS'] <= -valid_signal_threshold, -1.0, valid_signal_data['SIGNAL'])\n",
    "\n",
    "# offset the signal data\n",
    "valid_signal_data = valid_signal_data.set_index(valid_signal_data['SIGNAL'].index - pd.DateOffset(1))"
   ]
  },
  {
   "cell_type": "markdown",
   "metadata": {},
   "source": [
    "Let's inspect the top 10 rows of the prepared and offset trade signals:"
   ]
  },
  {
   "cell_type": "code",
   "execution_count": 106,
   "metadata": {},
   "outputs": [
    {
     "data": {
      "text/html": [
       "<div>\n",
       "<style scoped>\n",
       "    .dataframe tbody tr th:only-of-type {\n",
       "        vertical-align: middle;\n",
       "    }\n",
       "\n",
       "    .dataframe tbody tr th {\n",
       "        vertical-align: top;\n",
       "    }\n",
       "\n",
       "    .dataframe thead th {\n",
       "        text-align: right;\n",
       "    }\n",
       "</style>\n",
       "<table border=\"1\" class=\"dataframe\">\n",
       "  <thead>\n",
       "    <tr style=\"text-align: right;\">\n",
       "      <th></th>\n",
       "      <th>PREDICTIONS</th>\n",
       "      <th>SIGNAL</th>\n",
       "    </tr>\n",
       "  </thead>\n",
       "  <tbody>\n",
       "    <tr>\n",
       "      <th>2019-01-04</th>\n",
       "      <td>0.002110</td>\n",
       "      <td>1.0</td>\n",
       "    </tr>\n",
       "    <tr>\n",
       "      <th>2019-01-05</th>\n",
       "      <td>0.001269</td>\n",
       "      <td>1.0</td>\n",
       "    </tr>\n",
       "    <tr>\n",
       "      <th>2019-01-06</th>\n",
       "      <td>0.004618</td>\n",
       "      <td>1.0</td>\n",
       "    </tr>\n",
       "    <tr>\n",
       "      <th>2019-01-07</th>\n",
       "      <td>-0.007389</td>\n",
       "      <td>-1.0</td>\n",
       "    </tr>\n",
       "    <tr>\n",
       "      <th>2019-01-08</th>\n",
       "      <td>0.000743</td>\n",
       "      <td>0.0</td>\n",
       "    </tr>\n",
       "    <tr>\n",
       "      <th>2019-01-09</th>\n",
       "      <td>0.000585</td>\n",
       "      <td>0.0</td>\n",
       "    </tr>\n",
       "    <tr>\n",
       "      <th>2019-01-10</th>\n",
       "      <td>-0.001123</td>\n",
       "      <td>-1.0</td>\n",
       "    </tr>\n",
       "    <tr>\n",
       "      <th>2019-01-11</th>\n",
       "      <td>-0.000706</td>\n",
       "      <td>0.0</td>\n",
       "    </tr>\n",
       "    <tr>\n",
       "      <th>2019-01-12</th>\n",
       "      <td>-0.001129</td>\n",
       "      <td>-1.0</td>\n",
       "    </tr>\n",
       "    <tr>\n",
       "      <th>2019-01-13</th>\n",
       "      <td>-0.001120</td>\n",
       "      <td>-1.0</td>\n",
       "    </tr>\n",
       "  </tbody>\n",
       "</table>\n",
       "</div>"
      ],
      "text/plain": [
       "            PREDICTIONS  SIGNAL\n",
       "2019-01-04     0.002110     1.0\n",
       "2019-01-05     0.001269     1.0\n",
       "2019-01-06     0.004618     1.0\n",
       "2019-01-07    -0.007389    -1.0\n",
       "2019-01-08     0.000743     0.0\n",
       "2019-01-09     0.000585     0.0\n",
       "2019-01-10    -0.001123    -1.0\n",
       "2019-01-11    -0.000706     0.0\n",
       "2019-01-12    -0.001129    -1.0\n",
       "2019-01-13    -0.001120    -1.0"
      ]
     },
     "execution_count": 106,
     "metadata": {},
     "output_type": "execute_result"
    }
   ],
   "source": [
    "valid_signal_data.head(10)"
   ]
  },
  {
   "cell_type": "markdown",
   "metadata": {},
   "source": [
    "Finally, let's also **visually inspect the trade signals** derived from the model's out-of-sample return predictions:"
   ]
  },
  {
   "cell_type": "code",
   "execution_count": 107,
   "metadata": {},
   "outputs": [
    {
     "data": {
      "image/png": "[encoded data removed]",
      "text/plain": [
       "<Figure size 1080x360 with 1 Axes>"
      ]
     },
     "metadata": {},
     "output_type": "display_data"
    }
   ],
   "source": [
    "plt.rcParams['figure.figsize'] = [15, 5]\n",
    "fig = plt.figure()\n",
    "ax = fig.add_subplot(111)\n",
    "\n",
    "ax.plot(valid_signal_data['SIGNAL'], lw=1.0, color='C3', label='LSTM trade signals')\n",
    "    \n",
    "# set axis ranges\n",
    "ax.set_xlim([valid_signal_data.index[0], valid_signal_data.index[-1]])\n",
    "ax.set_ylim([-1.1, 1.1])\n",
    "\n",
    "# set axis labels\n",
    "ax.set_xlabel('[time]', fontsize=10)\n",
    "ax.set_ylabel('[lstm trade signal]', fontsize=10)\n",
    "\n",
    "# rotate x-axis ticks\n",
    "for tick in ax.get_xticklabels():\n",
    "    tick.set_rotation(45)\n",
    "\n",
    "# set plot title\n",
    "plt.title('Invesco QQQ Trust Series 1 - LSTM \\'Many to One\\' Trade Signals', fontsize=10);"
   ]
  },
  {
   "cell_type": "markdown",
   "metadata": {},
   "source": [
    "Upon successful trade signal generation, let's determine the number of signal changes (trades to be executed) within the out-of-sample timeframe **03/2016** until **12/2017**, corresponding to a total in-sample timeframe of approx. **21 months** (9 + 12):"
   ]
  },
  {
   "cell_type": "code",
   "execution_count": 108,
   "metadata": {},
   "outputs": [
    {
     "data": {
      "text/plain": [
       "84"
      ]
     },
     "execution_count": 108,
     "metadata": {},
     "output_type": "execute_result"
    }
   ],
   "source": [
    "# determine number of signal changes\n",
    "len(list(itertools.groupby(valid_signal_data['SIGNAL'], lambda x: x > 0)))"
   ]
  },
  {
   "cell_type": "markdown",
   "metadata": {},
   "source": [
    "On average around **7** signal changes (trades) per month (148 signal changes / 21 months) within the out-of-sample time period."
   ]
  },
  {
   "cell_type": "markdown",
   "metadata": {},
   "source": [
    "#### 7.2. Prepare Backtest Market Data"
   ]
  },
  {
   "cell_type": "markdown",
   "metadata": {},
   "source": [
    "Now, let's prepare and trim the validation (\"out-of-sample\") market data of QQQ so that it can be utilized by the `bt` backtesting library:"
   ]
  },
  {
   "cell_type": "code",
   "execution_count": 109,
   "metadata": {},
   "outputs": [],
   "source": [
    "valid_stock_market_data = pd.DataFrame(stock_data_price['QQQ'])\n",
    "valid_stock_market_data = valid_stock_market_data.rename(columns={'QQQ': 'PRICE'})\n",
    "valid_stock_market_data = valid_stock_market_data.set_index(pd.to_datetime(stock_data_price.index))"
   ]
  },
  {
   "cell_type": "markdown",
   "metadata": {},
   "source": [
    "Let's inspect the top 5 rows of the prepared validation QQQ market data:"
   ]
  },
  {
   "cell_type": "code",
   "execution_count": 110,
   "metadata": {},
   "outputs": [
    {
     "data": {
      "text/html": [
       "<div>\n",
       "<style scoped>\n",
       "    .dataframe tbody tr th:only-of-type {\n",
       "        vertical-align: middle;\n",
       "    }\n",
       "\n",
       "    .dataframe tbody tr th {\n",
       "        vertical-align: top;\n",
       "    }\n",
       "\n",
       "    .dataframe thead th {\n",
       "        text-align: right;\n",
       "    }\n",
       "</style>\n",
       "<table border=\"1\" class=\"dataframe\">\n",
       "  <thead>\n",
       "    <tr style=\"text-align: right;\">\n",
       "      <th></th>\n",
       "      <th>PRICE</th>\n",
       "    </tr>\n",
       "  </thead>\n",
       "  <tbody>\n",
       "    <tr>\n",
       "      <th>2010-01-04</th>\n",
       "      <td>41.570904</td>\n",
       "    </tr>\n",
       "    <tr>\n",
       "      <th>2010-01-05</th>\n",
       "      <td>41.570904</td>\n",
       "    </tr>\n",
       "    <tr>\n",
       "      <th>2010-01-06</th>\n",
       "      <td>41.320183</td>\n",
       "    </tr>\n",
       "    <tr>\n",
       "      <th>2010-01-07</th>\n",
       "      <td>41.347046</td>\n",
       "    </tr>\n",
       "    <tr>\n",
       "      <th>2010-01-08</th>\n",
       "      <td>41.687347</td>\n",
       "    </tr>\n",
       "  </tbody>\n",
       "</table>\n",
       "</div>"
      ],
      "text/plain": [
       "                PRICE\n",
       "2010-01-04  41.570904\n",
       "2010-01-05  41.570904\n",
       "2010-01-06  41.320183\n",
       "2010-01-07  41.347046\n",
       "2010-01-08  41.687347"
      ]
     },
     "execution_count": 110,
     "metadata": {},
     "output_type": "execute_result"
    }
   ],
   "source": [
    "valid_stock_market_data.head(5)"
   ]
  },
  {
   "cell_type": "markdown",
   "metadata": {},
   "source": [
    "Trim the prepared market data to the out-of-sample time period:"
   ]
  },
  {
   "cell_type": "code",
   "execution_count": 111,
   "metadata": {},
   "outputs": [],
   "source": [
    "valid_stock_market_data = valid_stock_market_data[valid_stock_market_data.index >= valid_signal_data.index[0]]\n",
    "valid_stock_market_data = valid_stock_market_data[valid_stock_market_data.index <= valid_signal_data.index[-1]]"
   ]
  },
  {
   "cell_type": "markdown",
   "metadata": {},
   "source": [
    "Visualize the trimmed validation (\"out-of-sample\") market data:"
   ]
  },
  {
   "cell_type": "code",
   "execution_count": 112,
   "metadata": {},
   "outputs": [
    {
     "data": {
      "image/png": "[encoded data removed]",
      "text/plain": [
       "<Figure size 1080x360 with 1 Axes>"
      ]
     },
     "metadata": {},
     "output_type": "display_data"
    }
   ],
   "source": [
    "plt.rcParams['figure.figsize'] = [15, 5]\n",
    "fig = plt.figure()\n",
    "ax = fig.add_subplot(111)\n",
    "\n",
    "# plot the valiation market data\n",
    "ax.plot(valid_stock_market_data['PRICE'], color='#9b59b6')\n",
    "    \n",
    "# set axis labels\n",
    "ax.set_xlabel('[time]', fontsize=10)\n",
    "ax.set_ylabel('[QQQ closing price]', fontsize=10)\n",
    "\n",
    "# rotate x-tick labels\n",
    "for tick in ax.get_xticklabels():\n",
    "    tick.set_rotation(45)\n",
    "\n",
    "# set axis labels and limits\n",
    "ax.set_xlabel('[time]', fontsize=10)\n",
    "ax.set_xlim([valid_stock_market_data.index[0], valid_stock_market_data.index[-1]])\n",
    "ax.set_ylabel('[adj. closing price]', fontsize=10)\n",
    "\n",
    "# set plot title\n",
    "plt.title('Invesco QQQ Trust Series 1 - Daily Historical Adjusted Returns', fontsize=10);"
   ]
  },
  {
   "cell_type": "markdown",
   "metadata": {},
   "source": [
    "Finally let's calculate the total return gained by following a simple **\"buy and hold\"** strategy in the out-of-sample time period:"
   ]
  },
  {
   "cell_type": "code",
   "execution_count": 113,
   "metadata": {},
   "outputs": [
    {
     "data": {
      "text/plain": [
       "0.37854650376850146"
      ]
     },
     "execution_count": 113,
     "metadata": {},
     "output_type": "execute_result"
    }
   ],
   "source": [
    "np.abs(valid_stock_market_data.iloc[0]['PRICE'] - valid_stock_market_data.iloc[-1]['PRICE']) / valid_stock_market_data.iloc[0]['PRICE']"
   ]
  },
  {
   "cell_type": "markdown",
   "metadata": {},
   "source": [
    "Ok, with such a simple strategy we would have been able to yield a total return of approx. **37.85%**."
   ]
  },
  {
   "cell_type": "markdown",
   "metadata": {},
   "source": [
    "#### 7.3. Prepare Model Backtest Strategy and Backtest"
   ]
  },
  {
   "cell_type": "markdown",
   "metadata": {},
   "source": [
    "Now that we have prepared (i) the **validation trading signals** as well as (ii) the **validation market data** let's implement, similarly as already done above, the LSTM based trading strategy for the **out-of-sample time period**. We will name the strategy to be implemented `LSTMStrategyValid`:"
   ]
  },
  {
   "cell_type": "code",
   "execution_count": 114,
   "metadata": {},
   "outputs": [],
   "source": [
    "class LSTMStrategyValid(bt.Algo):\n",
    "    \n",
    "    def __init__(self, signals):\n",
    "        \n",
    "        # set class signals\n",
    "        self.signals = signals\n",
    "        \n",
    "    def __call__(self, target):\n",
    "        \n",
    "        if target.now in self.signals.index[1:]:\n",
    "            \n",
    "            # get actual signal\n",
    "            signal = self.signals[target.now]\n",
    "            \n",
    "            # set target weights according to signal\n",
    "            target.temp['weights'] = dict(PRICE=signal)\n",
    "            \n",
    "        # return True since we want to move on to the next timestep\n",
    "        return True"
   ]
  },
  {
   "cell_type": "markdown",
   "metadata": {},
   "source": [
    "Let's instantiate the **LSTM based trading strategy** of the out-of-sample time period using the prepared trade signals (`valid_signal_data`) of the model:"
   ]
  },
  {
   "cell_type": "code",
   "execution_count": 115,
   "metadata": {},
   "outputs": [],
   "source": [
    "lstm_strategy = bt.Strategy('lstm', [bt.algos.SelectAll(), LSTMStrategy(valid_signal_data['SIGNAL']), bt.algos.Rebalance()])"
   ]
  },
  {
   "cell_type": "markdown",
   "metadata": {},
   "source": [
    "Next, we will **initialize the backtest** using both (i) the strategy and (ii) prepared out-of-sample market data (`valid_stock_market_data`):"
   ]
  },
  {
   "cell_type": "code",
   "execution_count": 116,
   "metadata": {},
   "outputs": [],
   "source": [
    "backtest_lstm = bt.Backtest(strategy=lstm_strategy, data=valid_stock_market_data, name='stock_lstm_backtest')"
   ]
  },
  {
   "cell_type": "markdown",
   "metadata": {},
   "source": [
    "In addition, let's also prepare trade signals of a **\"baseline\" buy-and-hold trading strategy** for comparison purposes. Our buy-and-hold strategy sends a \"long\" (+1.0) signal at each time step of the out-of-sample time frame: "
   ]
  },
  {
   "cell_type": "code",
   "execution_count": 117,
   "metadata": {},
   "outputs": [],
   "source": [
    "# copy the lstm signal data\n",
    "valid_signal_data_base = valid_signal_data.copy(deep=True) \n",
    "\n",
    "# reset all trade signals to 1 \"long\"\n",
    "valid_signal_data_base['SIGNAL'] = 1.0"
   ]
  },
  {
   "cell_type": "markdown",
   "metadata": {},
   "source": [
    "Let's instantiate the **baseline trading strategy** of the out-of-sample time period using the prepared baseline trade signals `valid_signal_data_base`:"
   ]
  },
  {
   "cell_type": "code",
   "execution_count": 118,
   "metadata": {},
   "outputs": [],
   "source": [
    "# init the baseline trading strategy\n",
    "base_strategy = bt.Strategy('baseline', [bt.algos.SelectAll(), LSTMStrategy(valid_signal_data_base['SIGNAL']), bt.algos.Rebalance()])"
   ]
  },
  {
   "cell_type": "markdown",
   "metadata": {},
   "source": [
    "Next, we will **initialize the backtest** using both (i) the baseline strategy and (ii) prepared out-of-sample market data (`valid_stock_market_data`):"
   ]
  },
  {
   "cell_type": "code",
   "execution_count": 119,
   "metadata": {},
   "outputs": [],
   "source": [
    "# init the baseline backtest\n",
    "backtest_base = bt.Backtest(strategy=base_strategy, data=valid_stock_market_data, name='stock_base_backtest')"
   ]
  },
  {
   "cell_type": "markdown",
   "metadata": {},
   "source": [
    "#### 7.4. Evaluate Backtest Results"
   ]
  },
  {
   "cell_type": "markdown",
   "metadata": {},
   "source": [
    "Upon successful preparation of both backtests, let's run the backtests for each trading strategy: "
   ]
  },
  {
   "cell_type": "code",
   "execution_count": 120,
   "metadata": {},
   "outputs": [
    {
     "name": "stdout",
     "output_type": "stream",
     "text": [
      "stock_lstm_backtest\n",
      "0% [############################# ] 100% | ETA: 00:00:00stock_base_backtest\n",
      "0% [############################# ] 100% | ETA: 00:00:00"
     ]
    }
   ],
   "source": [
    "backtest_results = bt.run(backtest_lstm, backtest_base)"
   ]
  },
  {
   "cell_type": "markdown",
   "metadata": {},
   "source": [
    "Ok, that went smooth. Let's now inspect and compare the individual backtest results and performance measures respectively. To print the backtest results inside of the notebook we will make use of the `display()` function provided by the `bt` library:"
   ]
  },
  {
   "cell_type": "code",
   "execution_count": 121,
   "metadata": {},
   "outputs": [
    {
     "name": "stdout",
     "output_type": "stream",
     "text": [
      "Stat                 stock_lstm_backtest    stock_base_backtest\n",
      "-------------------  ---------------------  ---------------------\n",
      "Start                2019-01-03             2019-01-03\n",
      "End                  2019-12-29             2019-12-29\n",
      "Risk-free rate       0.00%                  0.00%\n",
      "\n",
      "Total Return         18.13%                 37.85%\n",
      "Daily Sharpe         1.40                   1.82\n",
      "Daily Sortino        2.46                   2.84\n",
      "CAGR                 18.41%                 38.50%\n",
      "Max Drawdown         -3.58%                 -10.98%\n",
      "Calmar Ratio         5.15                   3.51\n",
      "\n",
      "MTD                  0.20%                  4.37%\n",
      "3m                   -1.09%                 14.46%\n",
      "6m                   2.89%                  14.87%\n",
      "YTD                  18.13%                 37.85%\n",
      "1Y                   -                      -\n",
      "3Y (ann.)            -                      -\n",
      "5Y (ann.)            -                      -\n",
      "10Y (ann.)           -                      -\n",
      "Since Incep. (ann.)  18.41%                 38.50%\n",
      "\n",
      "Daily Sharpe         1.40                   1.82\n",
      "Daily Sortino        2.46                   2.84\n",
      "Daily Mean (ann.)    12.03%                 23.30%\n",
      "Daily Vol (ann.)     8.56%                  12.79%\n",
      "Daily Skew           1.01                   -0.63\n",
      "Daily Kurt           11.11                  3.69\n",
      "Best Day             3.16%                  2.82%\n",
      "Worst Day            -2.99%                 -3.53%\n",
      "\n",
      "Monthly Sharpe       1.01                   1.91\n",
      "Monthly Sortino      2.42                   3.28\n",
      "Monthly Mean (ann.)  8.48%                  28.32%\n",
      "Monthly Vol (ann.)   8.40%                  14.83%\n",
      "Monthly Skew         0.45                   -1.66\n",
      "Monthly Kurt         -0.23                  3.35\n",
      "Best Month           5.12%                  7.59%\n",
      "Worst Month          -2.85%                 -8.22%\n",
      "\n",
      "Yearly Sharpe        -                      -\n",
      "Yearly Sortino       -                      -\n",
      "Yearly Mean          -                      -\n",
      "Yearly Vol           -                      -\n",
      "Yearly Skew          -                      -\n",
      "Yearly Kurt          -                      -\n",
      "Best Year            -                      -\n",
      "Worst Year           -                      -\n",
      "\n",
      "Avg. Drawdown        -1.65%                 -1.42%\n",
      "Avg. Drawdown Days   27.82                  8.54\n",
      "Avg. Up Month        2.30%                  4.01%\n",
      "Avg. Down Month      -1.20%                 -5.06%\n",
      "Win Year %           -                      -\n",
      "Win 12m %            -                      -\n"
     ]
    }
   ],
   "source": [
    "backtest_results.display()"
   ]
  },
  {
   "cell_type": "markdown",
   "metadata": {},
   "source": [
    "In addition, we collect the **detailed backtest performance** per timestep of the LSTM trading strategy:"
   ]
  },
  {
   "cell_type": "code",
   "execution_count": 122,
   "metadata": {},
   "outputs": [],
   "source": [
    "backtest_lstm_details = backtest_lstm.strategy.prices.to_frame(name='Rel. EQUITY')\n",
    "backtest_lstm_details['Abs. EQUITY'] = backtest_lstm.strategy.values # equity per timestep\n",
    "backtest_lstm_details['CASH'] = backtest_lstm.strategy.cash # cash per timestep"
   ]
  },
  {
   "cell_type": "markdown",
   "metadata": {},
   "source": [
    "Let's inspect the first 10 rows of the LSTM trading strategy backtest details:"
   ]
  },
  {
   "cell_type": "code",
   "execution_count": 123,
   "metadata": {},
   "outputs": [
    {
     "data": {
      "text/html": [
       "<div>\n",
       "<style scoped>\n",
       "    .dataframe tbody tr th:only-of-type {\n",
       "        vertical-align: middle;\n",
       "    }\n",
       "\n",
       "    .dataframe tbody tr th {\n",
       "        vertical-align: top;\n",
       "    }\n",
       "\n",
       "    .dataframe thead th {\n",
       "        text-align: right;\n",
       "    }\n",
       "</style>\n",
       "<table border=\"1\" class=\"dataframe\">\n",
       "  <thead>\n",
       "    <tr style=\"text-align: right;\">\n",
       "      <th></th>\n",
       "      <th>Rel. EQUITY</th>\n",
       "      <th>Abs. EQUITY</th>\n",
       "      <th>CASH</th>\n",
       "    </tr>\n",
       "  </thead>\n",
       "  <tbody>\n",
       "    <tr>\n",
       "      <th>2019-01-03</th>\n",
       "      <td>100.000000</td>\n",
       "      <td>1.000000e+06</td>\n",
       "      <td>1.000000e+06</td>\n",
       "    </tr>\n",
       "    <tr>\n",
       "      <th>2019-01-04</th>\n",
       "      <td>100.000000</td>\n",
       "      <td>1.000000e+06</td>\n",
       "      <td>1.000000e+06</td>\n",
       "    </tr>\n",
       "    <tr>\n",
       "      <th>2019-01-05</th>\n",
       "      <td>100.000000</td>\n",
       "      <td>1.000000e+06</td>\n",
       "      <td>4.772415e+01</td>\n",
       "    </tr>\n",
       "    <tr>\n",
       "      <th>2019-01-06</th>\n",
       "      <td>100.000000</td>\n",
       "      <td>1.000000e+06</td>\n",
       "      <td>4.772415e+01</td>\n",
       "    </tr>\n",
       "    <tr>\n",
       "      <th>2019-01-07</th>\n",
       "      <td>101.190494</td>\n",
       "      <td>1.011905e+06</td>\n",
       "      <td>2.023918e+06</td>\n",
       "    </tr>\n",
       "    <tr>\n",
       "      <th>2019-01-08</th>\n",
       "      <td>100.275072</td>\n",
       "      <td>1.002751e+06</td>\n",
       "      <td>1.002751e+06</td>\n",
       "    </tr>\n",
       "    <tr>\n",
       "      <th>2019-01-09</th>\n",
       "      <td>100.275072</td>\n",
       "      <td>1.002751e+06</td>\n",
       "      <td>1.002751e+06</td>\n",
       "    </tr>\n",
       "    <tr>\n",
       "      <th>2019-01-10</th>\n",
       "      <td>100.275072</td>\n",
       "      <td>1.002751e+06</td>\n",
       "      <td>2.005600e+06</td>\n",
       "    </tr>\n",
       "    <tr>\n",
       "      <th>2019-01-11</th>\n",
       "      <td>100.641946</td>\n",
       "      <td>1.006419e+06</td>\n",
       "      <td>1.006419e+06</td>\n",
       "    </tr>\n",
       "    <tr>\n",
       "      <th>2019-01-12</th>\n",
       "      <td>100.641946</td>\n",
       "      <td>1.006419e+06</td>\n",
       "      <td>2.012890e+06</td>\n",
       "    </tr>\n",
       "  </tbody>\n",
       "</table>\n",
       "</div>"
      ],
      "text/plain": [
       "            Rel. EQUITY   Abs. EQUITY          CASH\n",
       "2019-01-03   100.000000  1.000000e+06  1.000000e+06\n",
       "2019-01-04   100.000000  1.000000e+06  1.000000e+06\n",
       "2019-01-05   100.000000  1.000000e+06  4.772415e+01\n",
       "2019-01-06   100.000000  1.000000e+06  4.772415e+01\n",
       "2019-01-07   101.190494  1.011905e+06  2.023918e+06\n",
       "2019-01-08   100.275072  1.002751e+06  1.002751e+06\n",
       "2019-01-09   100.275072  1.002751e+06  1.002751e+06\n",
       "2019-01-10   100.275072  1.002751e+06  2.005600e+06\n",
       "2019-01-11   100.641946  1.006419e+06  1.006419e+06\n",
       "2019-01-12   100.641946  1.006419e+06  2.012890e+06"
      ]
     },
     "execution_count": 123,
     "metadata": {},
     "output_type": "execute_result"
    }
   ],
   "source": [
    "backtest_lstm_details.head(10)"
   ]
  },
  {
   "cell_type": "markdown",
   "metadata": {},
   "source": [
    "Furthermore, let's visualize the **monthly returns** obtained by the LSTM based trading strategy:"
   ]
  },
  {
   "cell_type": "code",
   "execution_count": 124,
   "metadata": {},
   "outputs": [
    {
     "data": {
      "image/png": "[encoded data removed]",
      "text/plain": [
       "<Figure size 1080x360 with 2 Axes>"
      ]
     },
     "metadata": {},
     "output_type": "display_data"
    }
   ],
   "source": [
    "plt.rcParams['figure.figsize'] = [15, 5]\n",
    "fig = plt.figure()\n",
    "ax = fig.add_subplot(111)\n",
    "\n",
    "# plot heatmap of monthly returns generated by the strategy\n",
    "ax = sns.heatmap(backtest_lstm.stats.return_table, annot=True, cbar=True, vmin=-0.5, vmax=0.5)\n",
    "\n",
    "# set axis labels\n",
    "ax.set_xlabel('[month]', fontsize=10)\n",
    "ax.set_ylabel('[year]', fontsize=10)\n",
    "\n",
    "# set plot title\n",
    "ax.set_title('Invesco QQQ Trust Series 1 - Monthly Returns LSTM Strategy', fontsize=10);"
   ]
  },
  {
   "cell_type": "markdown",
   "metadata": {},
   "source": [
    "We also collect the **detailed backtest performance per timestep** of the baseline \"buy-and-hold\" trading strategy:"
   ]
  },
  {
   "cell_type": "code",
   "execution_count": 125,
   "metadata": {},
   "outputs": [],
   "source": [
    "backtest_base_details = backtest_base.strategy.prices.to_frame(name='Rel. EQUITY')\n",
    "backtest_base_details['Abs. EQUITY'] = backtest_base.strategy.values # equity per timestep\n",
    "backtest_base_details['CASH'] = backtest_base.strategy.cash # cash per timestep"
   ]
  },
  {
   "cell_type": "markdown",
   "metadata": {},
   "source": [
    "Let's inspect the first 10 rows of the \"buy-and-hold\" trading strategy backtest details:"
   ]
  },
  {
   "cell_type": "code",
   "execution_count": 126,
   "metadata": {},
   "outputs": [
    {
     "data": {
      "text/html": [
       "<div>\n",
       "<style scoped>\n",
       "    .dataframe tbody tr th:only-of-type {\n",
       "        vertical-align: middle;\n",
       "    }\n",
       "\n",
       "    .dataframe tbody tr th {\n",
       "        vertical-align: top;\n",
       "    }\n",
       "\n",
       "    .dataframe thead th {\n",
       "        text-align: right;\n",
       "    }\n",
       "</style>\n",
       "<table border=\"1\" class=\"dataframe\">\n",
       "  <thead>\n",
       "    <tr style=\"text-align: right;\">\n",
       "      <th></th>\n",
       "      <th>Rel. EQUITY</th>\n",
       "      <th>Abs. EQUITY</th>\n",
       "      <th>CASH</th>\n",
       "    </tr>\n",
       "  </thead>\n",
       "  <tbody>\n",
       "    <tr>\n",
       "      <th>2019-01-03</th>\n",
       "      <td>100.000000</td>\n",
       "      <td>1.000000e+06</td>\n",
       "      <td>1000000.000000</td>\n",
       "    </tr>\n",
       "    <tr>\n",
       "      <th>2019-01-04</th>\n",
       "      <td>100.000000</td>\n",
       "      <td>1.000000e+06</td>\n",
       "      <td>1000000.000000</td>\n",
       "    </tr>\n",
       "    <tr>\n",
       "      <th>2019-01-05</th>\n",
       "      <td>100.000000</td>\n",
       "      <td>1.000000e+06</td>\n",
       "      <td>47.724152</td>\n",
       "    </tr>\n",
       "    <tr>\n",
       "      <th>2019-01-06</th>\n",
       "      <td>100.000000</td>\n",
       "      <td>1.000000e+06</td>\n",
       "      <td>47.724152</td>\n",
       "    </tr>\n",
       "    <tr>\n",
       "      <th>2019-01-07</th>\n",
       "      <td>101.190494</td>\n",
       "      <td>1.011905e+06</td>\n",
       "      <td>47.724152</td>\n",
       "    </tr>\n",
       "    <tr>\n",
       "      <th>2019-01-08</th>\n",
       "      <td>102.105774</td>\n",
       "      <td>1.021058e+06</td>\n",
       "      <td>47.724152</td>\n",
       "    </tr>\n",
       "    <tr>\n",
       "      <th>2019-01-09</th>\n",
       "      <td>102.937850</td>\n",
       "      <td>1.029378e+06</td>\n",
       "      <td>47.724152</td>\n",
       "    </tr>\n",
       "    <tr>\n",
       "      <th>2019-01-10</th>\n",
       "      <td>103.232255</td>\n",
       "      <td>1.032323e+06</td>\n",
       "      <td>47.724152</td>\n",
       "    </tr>\n",
       "    <tr>\n",
       "      <th>2019-01-11</th>\n",
       "      <td>102.854616</td>\n",
       "      <td>1.028546e+06</td>\n",
       "      <td>47.724152</td>\n",
       "    </tr>\n",
       "    <tr>\n",
       "      <th>2019-01-12</th>\n",
       "      <td>102.854616</td>\n",
       "      <td>1.028546e+06</td>\n",
       "      <td>47.724152</td>\n",
       "    </tr>\n",
       "  </tbody>\n",
       "</table>\n",
       "</div>"
      ],
      "text/plain": [
       "            Rel. EQUITY   Abs. EQUITY            CASH\n",
       "2019-01-03   100.000000  1.000000e+06  1000000.000000\n",
       "2019-01-04   100.000000  1.000000e+06  1000000.000000\n",
       "2019-01-05   100.000000  1.000000e+06       47.724152\n",
       "2019-01-06   100.000000  1.000000e+06       47.724152\n",
       "2019-01-07   101.190494  1.011905e+06       47.724152\n",
       "2019-01-08   102.105774  1.021058e+06       47.724152\n",
       "2019-01-09   102.937850  1.029378e+06       47.724152\n",
       "2019-01-10   103.232255  1.032323e+06       47.724152\n",
       "2019-01-11   102.854616  1.028546e+06       47.724152\n",
       "2019-01-12   102.854616  1.028546e+06       47.724152"
      ]
     },
     "execution_count": 126,
     "metadata": {},
     "output_type": "execute_result"
    }
   ],
   "source": [
    "backtest_base_details.head(10)"
   ]
  },
  {
   "cell_type": "markdown",
   "metadata": {},
   "source": [
    "Furthermore, let's visualize the **monthly returns** obtained by the \"buy-and-hold\" trading strategy:"
   ]
  },
  {
   "cell_type": "code",
   "execution_count": 127,
   "metadata": {},
   "outputs": [
    {
     "data": {
      "image/png": "[encoded data removed]",
      "text/plain": [
       "<Figure size 1080x360 with 2 Axes>"
      ]
     },
     "metadata": {},
     "output_type": "display_data"
    }
   ],
   "source": [
    "plt.rcParams['figure.figsize'] = [15, 5]\n",
    "fig = plt.figure()\n",
    "ax = fig.add_subplot(111)\n",
    "\n",
    "# plot heatmap of monthly returns generated by the strategy\n",
    "ax = sns.heatmap(backtest_base.stats.return_table, annot=True, cbar=True, vmin=-0.5, vmax=0.5)\n",
    "\n",
    "# set axis labels\n",
    "ax.set_xlabel('[month]', fontsize=10)\n",
    "ax.set_ylabel('[year]', fontsize=10)\n",
    "\n",
    "# set plot title\n",
    "ax.set_title('Invesco QQQ Trust Series 1 - Monthly Returns \\'buy-and-hold\\' Strategy', fontsize=10);"
   ]
  },
  {
   "cell_type": "markdown",
   "metadata": {},
   "source": [
    "Finally, let's also visually compare the **equity progression** of both trading 'strategies over time:"
   ]
  },
  {
   "cell_type": "code",
   "execution_count": 128,
   "metadata": {},
   "outputs": [
    {
     "data": {
      "image/png": "[encoded data removed]",
      "text/plain": [
       "<Figure size 1080x360 with 1 Axes>"
      ]
     },
     "metadata": {},
     "output_type": "display_data"
    }
   ],
   "source": [
    "plt.rcParams['figure.figsize'] = [15, 5]\n",
    "fig = plt.figure()\n",
    "ax = fig.add_subplot(111)\n",
    "\n",
    "# plot lstm strategy equity progression \n",
    "ax.plot(backtest_lstm_details['Rel. EQUITY'], color='C1',lw=1.0, label='lstm strategy (green)')\n",
    "\n",
    "# plot baseline strategy equity progression\n",
    "ax.plot(backtest_base_details['Rel. EQUITY'], color='C2',lw=1.0, label='base strategy (red)')\n",
    "\n",
    "# rotate x-tick labels\n",
    "for tick in ax.get_xticklabels():\n",
    "    tick.set_rotation(45)\n",
    "    \n",
    "# set axis labels\n",
    "ax.set_xlabel('[time]', fontsize=10)\n",
    "ax.set_xlim(valid_stock_sequence_target_date[:, -1].min(), valid_stock_sequence_target_date[:, -1].max())\n",
    "ax.set_ylabel('[relative equity progression]', fontsize=10)\n",
    "\n",
    "# set plot legend\n",
    "plt.legend(loc=\"upper right\", numpoints=1, fancybox=True)\n",
    "\n",
    "# set plot title\n",
    "plt.title('Invesco QQQ Trust Series 1 - LSTM \\'Many to Many\\' Backtest Equity Progression', fontsize=10);"
   ]
  },
  {
   "cell_type": "markdown",
   "metadata": {},
   "source": [
    "### Exercises:"
   ]
  },
  {
   "cell_type": "markdown",
   "metadata": {},
   "source": [
    "We recommend you to try the following exercises as part of the lab:\n",
    "\n",
    "**1. Evaluation of Shallow vs. Deep RNN Models.**\n",
    "\n",
    "> Download the daily closing prices of the Invesco QQQ within the time frame starting from 01/01/1990 until 12/31/2019. In addition to the architecture of the lab notebook, evaluate further (more shallow as well as more deep) RNN architectures by either: **(1) re-moving/adding layers of LSTM cells**, and/or **(2) increasing/decreasing the dimensionality of the LSTM cells hidden state**. Train your model (using architectures you selected) for at least 20'000 training epochs but keep the following parameters unchanged (a) sequence length: 5 time-steps (days) and (b) train vs. test fraction: 0.9.\n",
    "\n",
    "> Analyze the prediction performance of the trained models in terms of training time and prediction accuracy. Furthermore, backtest the out-of-sample signals predicted by each of your models and evaluate them in terms of total return and equity progression. Which of your architecture results in the best performing model, and why?"
   ]
  },
  {
   "cell_type": "code",
   "execution_count": 129,
   "metadata": {},
   "outputs": [],
   "source": [
    "# ***************************************************\n",
    "# INSERT YOUR CODE HERE\n",
    "# ***************************************************"
   ]
  },
  {
   "cell_type": "markdown",
   "metadata": {},
   "source": [
    "**2. Training and Evaluation of Models Learned from Additional Stocks.**\n",
    "\n",
    "> Download the daily closing prices of at least **two additional NASDAQ stocks** (e.g., Alphabet, Facebook) within the time frame starting from 01/01/1990 until 12/31/2017. Pls. select two stocks that you are interested in to investigate (e.g. stocks that you may occasionally trade yourself). Learn an ’optimal’ **many-to-one RNN model** of both stocks and backtest their corresponding trade signals by following the approach outlined in the lab notebook regarding the QQQ. Pls. keep the train vs. test dataset fraction fixed to 0.9, all other parameters of the data preparation and model training can be changed.\n",
    "\n",
    "> Analyse the performance of the learned models in terms of their prediction accuracy as well as their out-of-sample backtest performance (e. g. the total return and equity progression). What architectures and corresponding training parameters result in the best performing models?"
   ]
  },
  {
   "cell_type": "code",
   "execution_count": 130,
   "metadata": {},
   "outputs": [],
   "source": [
    "# ***************************************************\n",
    "# INSERT YOUR CODE HERE\n",
    "# ***************************************************"
   ]
  },
  {
   "cell_type": "markdown",
   "metadata": {},
   "source": [
    "### Lab Summary:"
   ]
  },
  {
   "cell_type": "markdown",
   "metadata": {},
   "source": [
    "In this lab, a step by step introduction into **design, implementation, training and evaluation** of a LSTM neural network based trading strategy is presented. In addition to the previous \"one-to-one\" training setup, a \"many-to-one\" training setup is introduced that allows to learn pattern or features across distinct input time series.\n",
    "\n",
    "The strategy trades a specific financial instrument based on its historical market prices. The degree of success of the implemented strategy is evaluated based in its backtest performance with particular focus on (1) the strategy's **total return** as well as (2) its **equity progression** over time. The code provided in this lab may provides a blueprint for the development and testing of more complex trading strategies."
   ]
  },
  {
   "cell_type": "markdown",
   "metadata": {},
   "source": [
    "You may want to execute the content of your lab outside of the Jupyter notebook environment, e.g. on a compute node or a server. The cell below converts the lab notebook into a standalone and executable python script. Pls. note that to convert the notebook, you need to install Python's **nbconvert** library and its extensions:"
   ]
  },
  {
   "cell_type": "code",
   "execution_count": 131,
   "metadata": {},
   "outputs": [
    {
     "name": "stdout",
     "output_type": "stream",
     "text": [
      "Requirement already satisfied: nbconvert in /usr/local/lib/python3.8/site-packages (6.0.6)\n",
      "Requirement already satisfied: traitlets>=4.2 in /usr/local/lib/python3.8/site-packages (from nbconvert) (5.0.4)\n",
      "Requirement already satisfied: nbformat>=4.4 in /usr/local/lib/python3.8/site-packages (from nbconvert) (5.0.7)\n",
      "Requirement already satisfied: defusedxml in /usr/local/lib/python3.8/site-packages (from nbconvert) (0.6.0)\n",
      "Requirement already satisfied: bleach in /usr/local/lib/python3.8/site-packages (from nbconvert) (3.2.1)\n",
      "Requirement already satisfied: pygments>=2.4.1 in /usr/local/lib/python3.8/site-packages (from nbconvert) (2.7.1)\n",
      "Requirement already satisfied: jinja2>=2.4 in /usr/local/lib/python3.8/site-packages (from nbconvert) (2.11.2)\n",
      "Requirement already satisfied: testpath in /usr/local/lib/python3.8/site-packages (from nbconvert) (0.4.4)\n",
      "Requirement already satisfied: pandocfilters>=1.4.1 in /usr/local/lib/python3.8/site-packages (from nbconvert) (1.4.2)\n",
      "Requirement already satisfied: entrypoints>=0.2.2 in /usr/local/lib/python3.8/site-packages (from nbconvert) (0.3)\n",
      "Requirement already satisfied: nbclient<0.6.0,>=0.5.0 in /usr/local/lib/python3.8/site-packages (from nbconvert) (0.5.0)\n",
      "Requirement already satisfied: mistune<2,>=0.8.1 in /usr/local/lib/python3.8/site-packages (from nbconvert) (0.8.4)\n",
      "Requirement already satisfied: jupyterlab-pygments in /usr/local/lib/python3.8/site-packages (from nbconvert) (0.1.1)\n",
      "Requirement already satisfied: jupyter-core in /usr/local/lib/python3.8/site-packages (from nbconvert) (4.6.3)\n",
      "Requirement already satisfied: ipython-genutils in /usr/local/lib/python3.8/site-packages (from traitlets>=4.2->nbconvert) (0.2.0)\n",
      "Requirement already satisfied: jsonschema!=2.5.0,>=2.4 in /usr/local/lib/python3.8/site-packages (from nbformat>=4.4->nbconvert) (3.2.0)\n",
      "Requirement already satisfied: packaging in /usr/local/lib/python3.8/site-packages (from bleach->nbconvert) (20.4)\n",
      "Requirement already satisfied: six>=1.9.0 in /usr/local/lib/python3.8/site-packages (from bleach->nbconvert) (1.15.0)\n",
      "Requirement already satisfied: webencodings in /usr/local/lib/python3.8/site-packages (from bleach->nbconvert) (0.5.1)\n",
      "Requirement already satisfied: MarkupSafe>=0.23 in /usr/local/lib/python3.8/site-packages (from jinja2>=2.4->nbconvert) (1.1.1)\n",
      "Requirement already satisfied: jupyter-client>=6.1.5 in /usr/local/lib/python3.8/site-packages (from nbclient<0.6.0,>=0.5.0->nbconvert) (6.1.7)\n",
      "Requirement already satisfied: nest-asyncio in /usr/local/lib/python3.8/site-packages (from nbclient<0.6.0,>=0.5.0->nbconvert) (1.4.0)\n",
      "Requirement already satisfied: async-generator in /usr/local/lib/python3.8/site-packages (from nbclient<0.6.0,>=0.5.0->nbconvert) (1.10)\n",
      "Requirement already satisfied: pyrsistent>=0.14.0 in /usr/local/lib/python3.8/site-packages (from jsonschema!=2.5.0,>=2.4->nbformat>=4.4->nbconvert) (0.17.3)\n",
      "Requirement already satisfied: attrs>=17.4.0 in /usr/local/lib/python3.8/site-packages (from jsonschema!=2.5.0,>=2.4->nbformat>=4.4->nbconvert) (20.2.0)\n",
      "Requirement already satisfied: setuptools in /usr/local/lib/python3.8/site-packages (from jsonschema!=2.5.0,>=2.4->nbformat>=4.4->nbconvert) (50.3.2)\n",
      "Requirement already satisfied: pyparsing>=2.0.2 in /usr/local/lib/python3.8/site-packages (from packaging->bleach->nbconvert) (2.4.7)\n",
      "Requirement already satisfied: python-dateutil>=2.1 in /usr/local/lib/python3.8/site-packages (from jupyter-client>=6.1.5->nbclient<0.6.0,>=0.5.0->nbconvert) (2.8.1)\n",
      "Requirement already satisfied: tornado>=4.1 in /usr/local/lib/python3.8/site-packages (from jupyter-client>=6.1.5->nbclient<0.6.0,>=0.5.0->nbconvert) (4.5.3)\n",
      "Requirement already satisfied: pyzmq>=13 in /usr/local/lib/python3.8/site-packages (from jupyter-client>=6.1.5->nbclient<0.6.0,>=0.5.0->nbconvert) (19.0.2)\n",
      "Requirement already satisfied: jupyter_contrib_nbextensions in /usr/local/lib/python3.8/site-packages (0.5.1)\n",
      "Requirement already satisfied: lxml in /usr/local/lib/python3.8/site-packages (from jupyter_contrib_nbextensions) (4.6.2)\n",
      "Requirement already satisfied: jupyter-contrib-core>=0.3.3 in /usr/local/lib/python3.8/site-packages (from jupyter_contrib_nbextensions) (0.3.3)\n",
      "Requirement already satisfied: jupyter-highlight-selected-word>=0.1.1 in /usr/local/lib/python3.8/site-packages (from jupyter_contrib_nbextensions) (0.2.0)\n",
      "Requirement already satisfied: jupyter-nbextensions-configurator>=0.4.0 in /usr/local/lib/python3.8/site-packages (from jupyter_contrib_nbextensions) (0.4.1)\n",
      "Requirement already satisfied: nbconvert>=4.2 in /usr/local/lib/python3.8/site-packages (from jupyter_contrib_nbextensions) (6.0.6)\n",
      "Requirement already satisfied: pyyaml in /usr/local/lib/python3.8/site-packages (from jupyter_contrib_nbextensions) (5.3.1)\n",
      "Requirement already satisfied: jupyter-latex-envs>=1.3.8 in /usr/local/lib/python3.8/site-packages (from jupyter_contrib_nbextensions) (1.4.6)\n",
      "Requirement already satisfied: traitlets>=4.1 in /usr/local/lib/python3.8/site-packages (from jupyter_contrib_nbextensions) (5.0.4)\n",
      "Requirement already satisfied: notebook>=4.0 in /usr/local/lib/python3.8/site-packages (from jupyter_contrib_nbextensions) (5.2.2)\n",
      "Requirement already satisfied: tornado in /usr/local/lib/python3.8/site-packages (from jupyter_contrib_nbextensions) (4.5.3)\n",
      "Requirement already satisfied: ipython-genutils in /usr/local/lib/python3.8/site-packages (from jupyter_contrib_nbextensions) (0.2.0)\n",
      "Requirement already satisfied: jupyter-core in /usr/local/lib/python3.8/site-packages (from jupyter_contrib_nbextensions) (4.6.3)\n",
      "Requirement already satisfied: setuptools in /usr/local/lib/python3.8/site-packages (from jupyter-contrib-core>=0.3.3->jupyter_contrib_nbextensions) (50.3.2)\n",
      "Requirement already satisfied: defusedxml in /usr/local/lib/python3.8/site-packages (from nbconvert>=4.2->jupyter_contrib_nbextensions) (0.6.0)\n",
      "Requirement already satisfied: jinja2>=2.4 in /usr/local/lib/python3.8/site-packages (from nbconvert>=4.2->jupyter_contrib_nbextensions) (2.11.2)\n",
      "Requirement already satisfied: jupyterlab-pygments in /usr/local/lib/python3.8/site-packages (from nbconvert>=4.2->jupyter_contrib_nbextensions) (0.1.1)\n",
      "Requirement already satisfied: pandocfilters>=1.4.1 in /usr/local/lib/python3.8/site-packages (from nbconvert>=4.2->jupyter_contrib_nbextensions) (1.4.2)\n",
      "Requirement already satisfied: nbclient<0.6.0,>=0.5.0 in /usr/local/lib/python3.8/site-packages (from nbconvert>=4.2->jupyter_contrib_nbextensions) (0.5.0)\n",
      "Requirement already satisfied: pygments>=2.4.1 in /usr/local/lib/python3.8/site-packages (from nbconvert>=4.2->jupyter_contrib_nbextensions) (2.7.1)\n",
      "Requirement already satisfied: nbformat>=4.4 in /usr/local/lib/python3.8/site-packages (from nbconvert>=4.2->jupyter_contrib_nbextensions) (5.0.7)\n",
      "Requirement already satisfied: mistune<2,>=0.8.1 in /usr/local/lib/python3.8/site-packages (from nbconvert>=4.2->jupyter_contrib_nbextensions) (0.8.4)\n",
      "Requirement already satisfied: bleach in /usr/local/lib/python3.8/site-packages (from nbconvert>=4.2->jupyter_contrib_nbextensions) (3.2.1)\n",
      "Requirement already satisfied: testpath in /usr/local/lib/python3.8/site-packages (from nbconvert>=4.2->jupyter_contrib_nbextensions) (0.4.4)\n",
      "Requirement already satisfied: entrypoints>=0.2.2 in /usr/local/lib/python3.8/site-packages (from nbconvert>=4.2->jupyter_contrib_nbextensions) (0.3)\n",
      "Requirement already satisfied: ipython in /usr/local/lib/python3.8/site-packages (from jupyter-latex-envs>=1.3.8->jupyter_contrib_nbextensions) (7.19.0)\n",
      "Requirement already satisfied: jupyter-client in /usr/local/lib/python3.8/site-packages (from notebook>=4.0->jupyter_contrib_nbextensions) (6.1.7)\n",
      "Requirement already satisfied: terminado>=0.3.3; sys_platform != \"win32\" in /usr/local/lib/python3.8/site-packages (from notebook>=4.0->jupyter_contrib_nbextensions) (0.9.1)\n",
      "Requirement already satisfied: ipykernel in /usr/local/lib/python3.8/site-packages (from notebook>=4.0->jupyter_contrib_nbextensions) (5.4.2)\n",
      "Requirement already satisfied: MarkupSafe>=0.23 in /usr/local/lib/python3.8/site-packages (from jinja2>=2.4->nbconvert>=4.2->jupyter_contrib_nbextensions) (1.1.1)\n",
      "Requirement already satisfied: nest-asyncio in /usr/local/lib/python3.8/site-packages (from nbclient<0.6.0,>=0.5.0->nbconvert>=4.2->jupyter_contrib_nbextensions) (1.4.0)\n",
      "Requirement already satisfied: async-generator in /usr/local/lib/python3.8/site-packages (from nbclient<0.6.0,>=0.5.0->nbconvert>=4.2->jupyter_contrib_nbextensions) (1.10)\n",
      "Requirement already satisfied: jsonschema!=2.5.0,>=2.4 in /usr/local/lib/python3.8/site-packages (from nbformat>=4.4->nbconvert>=4.2->jupyter_contrib_nbextensions) (3.2.0)\n",
      "Requirement already satisfied: packaging in /usr/local/lib/python3.8/site-packages (from bleach->nbconvert>=4.2->jupyter_contrib_nbextensions) (20.4)\n",
      "Requirement already satisfied: webencodings in /usr/local/lib/python3.8/site-packages (from bleach->nbconvert>=4.2->jupyter_contrib_nbextensions) (0.5.1)\n",
      "Requirement already satisfied: six>=1.9.0 in /usr/local/lib/python3.8/site-packages (from bleach->nbconvert>=4.2->jupyter_contrib_nbextensions) (1.15.0)\n",
      "Requirement already satisfied: backcall in /usr/local/lib/python3.8/site-packages (from ipython->jupyter-latex-envs>=1.3.8->jupyter_contrib_nbextensions) (0.2.0)\n"
     ]
    },
    {
     "name": "stdout",
     "output_type": "stream",
     "text": [
      "Requirement already satisfied: decorator in /usr/local/lib/python3.8/site-packages (from ipython->jupyter-latex-envs>=1.3.8->jupyter_contrib_nbextensions) (4.4.2)\n",
      "Requirement already satisfied: appnope; sys_platform == \"darwin\" in /usr/local/lib/python3.8/site-packages (from ipython->jupyter-latex-envs>=1.3.8->jupyter_contrib_nbextensions) (0.1.0)\n",
      "Requirement already satisfied: pickleshare in /usr/local/lib/python3.8/site-packages (from ipython->jupyter-latex-envs>=1.3.8->jupyter_contrib_nbextensions) (0.7.5)\n",
      "Requirement already satisfied: pexpect>4.3; sys_platform != \"win32\" in /usr/local/lib/python3.8/site-packages (from ipython->jupyter-latex-envs>=1.3.8->jupyter_contrib_nbextensions) (4.8.0)\n",
      "Requirement already satisfied: jedi>=0.10 in /usr/local/lib/python3.8/site-packages (from ipython->jupyter-latex-envs>=1.3.8->jupyter_contrib_nbextensions) (0.17.2)\n",
      "Requirement already satisfied: prompt-toolkit!=3.0.0,!=3.0.1,<3.1.0,>=2.0.0 in /usr/local/lib/python3.8/site-packages (from ipython->jupyter-latex-envs>=1.3.8->jupyter_contrib_nbextensions) (3.0.8)\n",
      "Requirement already satisfied: pyzmq>=13 in /usr/local/lib/python3.8/site-packages (from jupyter-client->notebook>=4.0->jupyter_contrib_nbextensions) (19.0.2)\n",
      "Requirement already satisfied: python-dateutil>=2.1 in /usr/local/lib/python3.8/site-packages (from jupyter-client->notebook>=4.0->jupyter_contrib_nbextensions) (2.8.1)\n",
      "Requirement already satisfied: ptyprocess; os_name != \"nt\" in /usr/local/lib/python3.8/site-packages (from terminado>=0.3.3; sys_platform != \"win32\"->notebook>=4.0->jupyter_contrib_nbextensions) (0.6.0)\n",
      "Requirement already satisfied: pyrsistent>=0.14.0 in /usr/local/lib/python3.8/site-packages (from jsonschema!=2.5.0,>=2.4->nbformat>=4.4->nbconvert>=4.2->jupyter_contrib_nbextensions) (0.17.3)\n",
      "Requirement already satisfied: attrs>=17.4.0 in /usr/local/lib/python3.8/site-packages (from jsonschema!=2.5.0,>=2.4->nbformat>=4.4->nbconvert>=4.2->jupyter_contrib_nbextensions) (20.2.0)\n",
      "Requirement already satisfied: pyparsing>=2.0.2 in /usr/local/lib/python3.8/site-packages (from packaging->bleach->nbconvert>=4.2->jupyter_contrib_nbextensions) (2.4.7)\n",
      "Requirement already satisfied: parso<0.8.0,>=0.7.0 in /usr/local/lib/python3.8/site-packages (from jedi>=0.10->ipython->jupyter-latex-envs>=1.3.8->jupyter_contrib_nbextensions) (0.7.1)\n",
      "Requirement already satisfied: wcwidth in /usr/local/lib/python3.8/site-packages (from prompt-toolkit!=3.0.0,!=3.0.1,<3.1.0,>=2.0.0->ipython->jupyter-latex-envs>=1.3.8->jupyter_contrib_nbextensions) (0.2.5)\n"
     ]
    }
   ],
   "source": [
    "# installing the nbconvert library\n",
    "!pip3 install nbconvert\n",
    "!pip3 install jupyter_contrib_nbextensions"
   ]
  },
  {
   "cell_type": "markdown",
   "metadata": {},
   "source": [
    "Let's now convert the Jupyter notebook into a plain Python script:"
   ]
  },
  {
   "cell_type": "code",
   "execution_count": 132,
   "metadata": {},
   "outputs": [
    {
     "name": "stdout",
     "output_type": "stream",
     "text": [
      "[NbConvertApp] Converting notebook cfds_lab_15.ipynb to script\n",
      "[NbConvertApp] Writing 77043 bytes to cfds_lab_15.py\n"
     ]
    }
   ],
   "source": [
    "!jupyter nbconvert --to script cfds_lab_15.ipynb"
   ]
  }
 ],
 "metadata": {
  "kernelspec": {
   "display_name": "Python 3",
   "language": "python",
   "name": "python3"
  },
  "language_info": {
   "codemirror_mode": {
    "name": "ipython",
    "version": 3
   },
   "file_extension": ".py",
   "mimetype": "text/x-python",
   "name": "python",
   "nbconvert_exporter": "python",
   "pygments_lexer": "ipython3",
   "version": "3.8.5"
  },
  "toc": {
   "base_numbering": 1,
   "nav_menu": {},
   "number_sections": false,
   "sideBar": true,
   "skip_h1_title": false,
   "title_cell": "Table of Contents",
   "title_sidebar": "Contents",
   "toc_cell": false,
   "toc_position": {
    "height": "calc(100% - 180px)",
    "left": "10px",
    "top": "150px",
    "width": "323px"
   },
   "toc_section_display": true,
   "toc_window_display": true
  }
 },
 "nbformat": 4,
 "nbformat_minor": 2
}
