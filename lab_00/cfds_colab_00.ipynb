{
  "nbformat": 4,
  "nbformat_minor": 0,
  "metadata": {
    "kernelspec": {
      "display_name": "Python 3",
      "language": "python",
      "name": "python3"
    },
    "language_info": {
      "codemirror_mode": {
        "name": "ipython",
        "version": 3
      },
      "file_extension": ".py",
      "mimetype": "text/x-python",
      "name": "python",
      "nbconvert_exporter": "python",
      "pygments_lexer": "ipython3",
      "version": "3.8.5"
    },
    "colab": {
      "name": "cfds_colab_00.ipynb",
      "provenance": []
    }
  },
  "cells": [
    {
      "cell_type": "markdown",
      "metadata": {
        "id": "WiPP6XSlfDC_"
      },
      "source": [
        "<img align=\"right\" style=\"max-width: 200px; height: auto\" src=\"https://github.com/aarimond/CFDS-Notebooks/blob/master/lab_00/cfds_logo.png?raw=1\">\n",
        "\n",
        "###  Lab 00 - \"Testing the CFDS Lab Environment\"\n",
        "\n",
        "Chartered Financial Data Scientist (CFDS), Autumn Term 2020"
      ]
    },
    {
      "cell_type": "markdown",
      "metadata": {
        "id": "N8w2cJiyfDDB"
      },
      "source": [
        "The lab environment of the **\"Chartered Financial Data Scientist (CFDS)\"** course is powered by Jupyter Notebooks (https://jupyter.org), which allow one to perform a great deal of data analysis and statistical validation. With this test notebook, we like to ensure that Jupyter Notebook and Python is appropriately set up, and you did install the first set of necessary Python libraries."
      ]
    },
    {
      "cell_type": "markdown",
      "metadata": {
        "id": "058b9qpWfDDC"
      },
      "source": [
        "### Test 1: Running Python"
      ]
    },
    {
      "cell_type": "markdown",
      "metadata": {
        "id": "h7jjeiAmfDDC"
      },
      "source": [
        "Let's run a simple addition to determine if Python is running correctly:"
      ]
    },
    {
      "cell_type": "code",
      "metadata": {
        "id": "KJ_35S-cfDDC"
      },
      "source": [
        "# run simple addition\n",
        "1 + 1"
      ],
      "execution_count": null,
      "outputs": []
    },
    {
      "cell_type": "markdown",
      "metadata": {
        "id": "pmgxWIDVfDDD"
      },
      "source": [
        "### Test 2: Importing Python Libraries"
      ]
    },
    {
      "cell_type": "markdown",
      "metadata": {
        "id": "XiFzMX62fDDD"
      },
      "source": [
        "Let's now import the needed python libraries to determine if they are setup correctly:"
      ]
    },
    {
      "cell_type": "code",
      "metadata": {
        "id": "o6iVHEBVfDDD"
      },
      "source": [
        "# import additional python libraries\n",
        "import numpy\n",
        "import scipy\n",
        "import pandas\n",
        "import pandas_datareader\n",
        "import matplotlib\n",
        "import seaborn\n",
        "import sklearn\n",
        "import torch\n",
        "import torchvision"
      ],
      "execution_count": null,
      "outputs": []
    },
    {
      "cell_type": "markdown",
      "metadata": {
        "id": "_lUeBgS6fDDE"
      },
      "source": [
        "### Test 3: Install additional Python Libraries"
      ]
    },
    {
      "cell_type": "markdown",
      "metadata": {
        "id": "cHKxt6RbfDDE"
      },
      "source": [
        "To import a library that's not in Google's Colaboratory by default, you can use `!pip install` or `!apt-get install`:"
      ]
    },
    {
      "cell_type": "code",
      "metadata": {
        "id": "d6vg2sOAfDDE"
      },
      "source": [
        "!pip install ffn\n",
        "!pip install bt\n",
        "!pip install yfinance"
      ],
      "execution_count": null,
      "outputs": []
    },
    {
      "cell_type": "markdown",
      "metadata": {
        "id": "EcB9cFH-fDDF"
      },
      "source": [
        "Import the just installed libraries:"
      ]
    },
    {
      "cell_type": "code",
      "metadata": {
        "id": "0q44kxMafDDF"
      },
      "source": [
        "import ffn\n",
        "import bt\n",
        "import yfinance as yf\n",
        "yf.pdr_override()  # needed to access Yahoo Finance"
      ],
      "execution_count": null,
      "outputs": []
    },
    {
      "cell_type": "markdown",
      "metadata": {
        "id": "EWEMpTCSfDDF"
      },
      "source": [
        "If the code cell above executes without running into an error you should be good to go for the upcoming labs :) Happy coding!"
      ]
    }
  ]
}